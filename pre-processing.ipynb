{
 "cells": [
  {
   "cell_type": "code",
   "execution_count": 1,
   "id": "2af71a32",
   "metadata": {},
   "outputs": [],
   "source": [
    "import os\n",
    "import librosa\n",
    "import math\n",
    "import json"
   ]
  },
  {
   "cell_type": "code",
   "execution_count": 2,
   "id": "0eca55e0",
   "metadata": {},
   "outputs": [
    {
     "name": "stdout",
     "output_type": "stream",
     "text": [
      "\n",
      " processingocean_noise_data\\atlantic_spotted_dolphin\n"
     ]
    },
    {
     "name": "stderr",
     "output_type": "stream",
     "text": [
      "C:\\Users\\TUKUNA\\AppData\\Local\\Temp/ipykernel_14232/2309356834.py:31: FutureWarning: Pass y=[-0.05211856 -0.07431182 -0.06365439 ...  0.04255596  0.04871888\n",
      "  0.        ] as keyword args. From version 0.10 passing these as positional arguments will result in an error\n",
      "  if librosa.get_duration(signal)>10:\n",
      "C:\\Users\\TUKUNA\\AppData\\Local\\Temp/ipykernel_14232/2309356834.py:40: FutureWarning: Pass y=[-0.05211856 -0.07431182 -0.06365439 ... -0.02960064 -0.03107704\n",
      " -0.05324263] as keyword args. From version 0.10 passing these as positional arguments will result in an error\n",
      "  mfcc= librosa.feature.mfcc(signal[start_sample:finish_sample],\n",
      "C:\\Users\\TUKUNA\\AppData\\Local\\Temp/ipykernel_14232/2309356834.py:40: FutureWarning: Pass y=[-0.05869307 -0.05374327 -0.04756667 ... -0.03560501 -0.04554906\n",
      " -0.04711871] as keyword args. From version 0.10 passing these as positional arguments will result in an error\n",
      "  mfcc= librosa.feature.mfcc(signal[start_sample:finish_sample],\n",
      "C:\\Users\\TUKUNA\\AppData\\Local\\Temp/ipykernel_14232/2309356834.py:40: FutureWarning: Pass y=[-0.03757088 -0.04161931 -0.0390729  ...  0.0681277   0.06706794\n",
      "  0.07179832] as keyword args. From version 0.10 passing these as positional arguments will result in an error\n",
      "  mfcc= librosa.feature.mfcc(signal[start_sample:finish_sample],\n",
      "C:\\Users\\TUKUNA\\AppData\\Local\\Temp/ipykernel_14232/2309356834.py:40: FutureWarning: Pass y=[0.07543383 0.07947554 0.08497152 ... 0.04255596 0.04871888 0.        ] as keyword args. From version 0.10 passing these as positional arguments will result in an error\n",
      "  mfcc= librosa.feature.mfcc(signal[start_sample:finish_sample],\n"
     ]
    },
    {
     "name": "stdout",
     "output_type": "stream",
     "text": [
      "ocean_noise_data\\atlantic_spotted_dolphin\\61025001.wav, segment:0\n",
      "ocean_noise_data\\atlantic_spotted_dolphin\\61025001.wav, segment:1\n",
      "ocean_noise_data\\atlantic_spotted_dolphin\\61025001.wav, segment:2\n"
     ]
    },
    {
     "name": "stderr",
     "output_type": "stream",
     "text": [
      "C:\\Users\\TUKUNA\\AppData\\Local\\Temp/ipykernel_14232/2309356834.py:31: FutureWarning: Pass y=[0.00160198 0.00855733 0.00287005 ... 0.00634331 0.0034432  0.        ] as keyword args. From version 0.10 passing these as positional arguments will result in an error\n",
      "  if librosa.get_duration(signal)>10:\n",
      "C:\\Users\\TUKUNA\\AppData\\Local\\Temp/ipykernel_14232/2309356834.py:40: FutureWarning: Pass y=[ 0.00160198  0.00855733  0.00287005 ...  0.01285685 -0.00215724\n",
      " -0.00861788] as keyword args. From version 0.10 passing these as positional arguments will result in an error\n",
      "  mfcc= librosa.feature.mfcc(signal[start_sample:finish_sample],\n",
      "C:\\Users\\TUKUNA\\AppData\\Local\\Temp/ipykernel_14232/2309356834.py:40: FutureWarning: Pass y=[-0.00673224 -0.03816546 -0.03153341 ...  0.00882729  0.00938843\n",
      "  0.00739289] as keyword args. From version 0.10 passing these as positional arguments will result in an error\n",
      "  mfcc= librosa.feature.mfcc(signal[start_sample:finish_sample],\n",
      "C:\\Users\\TUKUNA\\AppData\\Local\\Temp/ipykernel_14232/2309356834.py:40: FutureWarning: Pass y=[ 0.00549515  0.00376622  0.00593298 ... -0.03052594 -0.03422711\n",
      " -0.02929047] as keyword args. From version 0.10 passing these as positional arguments will result in an error\n",
      "  mfcc= librosa.feature.mfcc(signal[start_sample:finish_sample],\n",
      "C:\\Users\\TUKUNA\\AppData\\Local\\Temp/ipykernel_14232/2309356834.py:40: FutureWarning: Pass y=[-0.02361532 -0.02914904 -0.03506508 ...  0.00634331  0.0034432\n",
      "  0.        ] as keyword args. From version 0.10 passing these as positional arguments will result in an error\n",
      "  mfcc= librosa.feature.mfcc(signal[start_sample:finish_sample],\n"
     ]
    },
    {
     "name": "stdout",
     "output_type": "stream",
     "text": [
      "ocean_noise_data\\atlantic_spotted_dolphin\\61025002.wav, segment:0\n",
      "ocean_noise_data\\atlantic_spotted_dolphin\\61025002.wav, segment:1\n",
      "ocean_noise_data\\atlantic_spotted_dolphin\\61025002.wav, segment:2\n"
     ]
    },
    {
     "name": "stderr",
     "output_type": "stream",
     "text": [
      "C:\\Users\\TUKUNA\\AppData\\Local\\Temp/ipykernel_14232/2309356834.py:31: FutureWarning: Pass y=[0.01671322 0.02937258 0.02383217 ... 0.05752745 0.06820183 0.        ] as keyword args. From version 0.10 passing these as positional arguments will result in an error\n",
      "  if librosa.get_duration(signal)>10:\n",
      "C:\\Users\\TUKUNA\\AppData\\Local\\Temp/ipykernel_14232/2309356834.py:40: FutureWarning: Pass y=[ 0.01671322  0.02937258  0.02383217 ...  0.00011602 -0.00103789\n",
      "  0.00728962] as keyword args. From version 0.10 passing these as positional arguments will result in an error\n",
      "  mfcc= librosa.feature.mfcc(signal[start_sample:finish_sample],\n",
      "C:\\Users\\TUKUNA\\AppData\\Local\\Temp/ipykernel_14232/2309356834.py:40: FutureWarning: Pass y=[-0.02651308  0.00574136  0.00843905 ... -0.06403313 -0.0652924\n",
      " -0.06937889] as keyword args. From version 0.10 passing these as positional arguments will result in an error\n",
      "  mfcc= librosa.feature.mfcc(signal[start_sample:finish_sample],\n",
      "C:\\Users\\TUKUNA\\AppData\\Local\\Temp/ipykernel_14232/2309356834.py:40: FutureWarning: Pass y=[-0.07611972 -0.06922875 -0.06898515 ... -0.11951564 -0.12132218\n",
      " -0.11339185] as keyword args. From version 0.10 passing these as positional arguments will result in an error\n",
      "  mfcc= librosa.feature.mfcc(signal[start_sample:finish_sample],\n",
      "C:\\Users\\TUKUNA\\AppData\\Local\\Temp/ipykernel_14232/2309356834.py:40: FutureWarning: Pass y=[-0.11373703 -0.11771463 -0.11339882 ...  0.05752745  0.06820183\n",
      "  0.        ] as keyword args. From version 0.10 passing these as positional arguments will result in an error\n",
      "  mfcc= librosa.feature.mfcc(signal[start_sample:finish_sample],\n"
     ]
    },
    {
     "name": "stdout",
     "output_type": "stream",
     "text": [
      "ocean_noise_data\\atlantic_spotted_dolphin\\61025003.wav, segment:0\n",
      "ocean_noise_data\\atlantic_spotted_dolphin\\61025003.wav, segment:1\n",
      "ocean_noise_data\\atlantic_spotted_dolphin\\61025003.wav, segment:2\n"
     ]
    },
    {
     "name": "stderr",
     "output_type": "stream",
     "text": [
      "C:\\Users\\TUKUNA\\AppData\\Local\\Temp/ipykernel_14232/2309356834.py:31: FutureWarning: Pass y=[-0.01119289 -0.01609034 -0.01369607 ... -0.03883762 -0.0328236\n",
      "  0.        ] as keyword args. From version 0.10 passing these as positional arguments will result in an error\n",
      "  if librosa.get_duration(signal)>10:\n",
      "C:\\Users\\TUKUNA\\AppData\\Local\\Temp/ipykernel_14232/2309356834.py:40: FutureWarning: Pass y=[-0.01119289 -0.01609034 -0.01369607 ... -0.00051436 -0.05369279\n",
      " -0.01924045] as keyword args. From version 0.10 passing these as positional arguments will result in an error\n",
      "  mfcc= librosa.feature.mfcc(signal[start_sample:finish_sample],\n",
      "C:\\Users\\TUKUNA\\AppData\\Local\\Temp/ipykernel_14232/2309356834.py:40: FutureWarning: Pass y=[ 0.03763398  0.0712461   0.07760946 ... -0.03883762 -0.0328236\n",
      "  0.        ] as keyword args. From version 0.10 passing these as positional arguments will result in an error\n",
      "  mfcc= librosa.feature.mfcc(signal[start_sample:finish_sample],\n",
      "C:\\Users\\TUKUNA\\AppData\\Local\\Temp/ipykernel_14232/2309356834.py:40: FutureWarning: Pass y=[] as keyword args. From version 0.10 passing these as positional arguments will result in an error\n",
      "  mfcc= librosa.feature.mfcc(signal[start_sample:finish_sample],\n",
      "C:\\Users\\TUKUNA\\.conda\\envs\\tensor\\lib\\site-packages\\librosa\\util\\decorators.py:88: UserWarning: n_fft=2048 is too small for input signal of length=0\n",
      "  return f(*args, **kwargs)\n"
     ]
    },
    {
     "name": "stdout",
     "output_type": "stream",
     "text": [
      "ocean_noise_data\\atlantic_spotted_dolphin\\61025004.wav, segment:0\n"
     ]
    },
    {
     "name": "stderr",
     "output_type": "stream",
     "text": [
      "C:\\Users\\TUKUNA\\AppData\\Local\\Temp/ipykernel_14232/2309356834.py:31: FutureWarning: Pass y=[-0.01993478 -0.02544402 -0.02385478 ...  0.03550794  0.02880252\n",
      "  0.        ] as keyword args. From version 0.10 passing these as positional arguments will result in an error\n",
      "  if librosa.get_duration(signal)>10:\n",
      "C:\\Users\\TUKUNA\\AppData\\Local\\Temp/ipykernel_14232/2309356834.py:40: FutureWarning: Pass y=[-0.01993478 -0.02544402 -0.02385478 ... -0.02692627 -0.02490152\n",
      " -0.02586922] as keyword args. From version 0.10 passing these as positional arguments will result in an error\n",
      "  mfcc= librosa.feature.mfcc(signal[start_sample:finish_sample],\n",
      "C:\\Users\\TUKUNA\\AppData\\Local\\Temp/ipykernel_14232/2309356834.py:40: FutureWarning: Pass y=[-0.02633834 -0.02580222 -0.03099457 ...  0.03550794  0.02880252\n",
      "  0.        ] as keyword args. From version 0.10 passing these as positional arguments will result in an error\n",
      "  mfcc= librosa.feature.mfcc(signal[start_sample:finish_sample],\n"
     ]
    },
    {
     "name": "stdout",
     "output_type": "stream",
     "text": [
      "ocean_noise_data\\atlantic_spotted_dolphin\\61025006.wav, segment:0\n"
     ]
    },
    {
     "name": "stderr",
     "output_type": "stream",
     "text": [
      "C:\\Users\\TUKUNA\\AppData\\Local\\Temp/ipykernel_14232/2309356834.py:31: FutureWarning: Pass y=[-0.00989016 -0.01957396 -0.02119915 ... -0.02827143 -0.02592125\n",
      "  0.        ] as keyword args. From version 0.10 passing these as positional arguments will result in an error\n",
      "  if librosa.get_duration(signal)>10:\n",
      "C:\\Users\\TUKUNA\\AppData\\Local\\Temp/ipykernel_14232/2309356834.py:40: FutureWarning: Pass y=[-0.00989016 -0.01957396 -0.02119915 ... -0.01447478 -0.00405028\n",
      "  0.01045199] as keyword args. From version 0.10 passing these as positional arguments will result in an error\n",
      "  mfcc= librosa.feature.mfcc(signal[start_sample:finish_sample],\n",
      "C:\\Users\\TUKUNA\\AppData\\Local\\Temp/ipykernel_14232/2309356834.py:40: FutureWarning: Pass y=[ 0.00478574 -0.00054024  0.01539586 ... -0.02827143 -0.02592125\n",
      "  0.        ] as keyword args. From version 0.10 passing these as positional arguments will result in an error\n",
      "  mfcc= librosa.feature.mfcc(signal[start_sample:finish_sample],\n"
     ]
    },
    {
     "name": "stdout",
     "output_type": "stream",
     "text": [
      "ocean_noise_data\\atlantic_spotted_dolphin\\61025007.wav, segment:0\n"
     ]
    },
    {
     "name": "stderr",
     "output_type": "stream",
     "text": [
      "C:\\Users\\TUKUNA\\AppData\\Local\\Temp/ipykernel_14232/2309356834.py:31: FutureWarning: Pass y=[0.02307337 0.04092019 0.03393991 ... 0.0028956  0.00159579 0.        ] as keyword args. From version 0.10 passing these as positional arguments will result in an error\n",
      "  if librosa.get_duration(signal)>10:\n",
      "C:\\Users\\TUKUNA\\AppData\\Local\\Temp/ipykernel_14232/2309356834.py:40: FutureWarning: Pass y=[ 0.02307337  0.04092019  0.03393991 ... -0.05959871 -0.00178658\n",
      "  0.03206034] as keyword args. From version 0.10 passing these as positional arguments will result in an error\n",
      "  mfcc= librosa.feature.mfcc(signal[start_sample:finish_sample],\n",
      "C:\\Users\\TUKUNA\\AppData\\Local\\Temp/ipykernel_14232/2309356834.py:40: FutureWarning: Pass y=[-0.06060171 -0.00314149  0.03485493 ... -0.02918512 -0.03721694\n",
      " -0.03358723] as keyword args. From version 0.10 passing these as positional arguments will result in an error\n",
      "  mfcc= librosa.feature.mfcc(signal[start_sample:finish_sample],\n",
      "C:\\Users\\TUKUNA\\AppData\\Local\\Temp/ipykernel_14232/2309356834.py:40: FutureWarning: Pass y=[-0.03771274 -0.0383404  -0.02445377 ... -0.01378233 -0.01227972\n",
      " -0.01781053] as keyword args. From version 0.10 passing these as positional arguments will result in an error\n",
      "  mfcc= librosa.feature.mfcc(signal[start_sample:finish_sample],\n",
      "C:\\Users\\TUKUNA\\AppData\\Local\\Temp/ipykernel_14232/2309356834.py:40: FutureWarning: Pass y=[-0.02236193 -0.02098363 -0.01460599 ...  0.0028956   0.00159579\n",
      "  0.        ] as keyword args. From version 0.10 passing these as positional arguments will result in an error\n",
      "  mfcc= librosa.feature.mfcc(signal[start_sample:finish_sample],\n"
     ]
    },
    {
     "name": "stdout",
     "output_type": "stream",
     "text": [
      "ocean_noise_data\\atlantic_spotted_dolphin\\61025008.wav, segment:0\n",
      "ocean_noise_data\\atlantic_spotted_dolphin\\61025008.wav, segment:1\n",
      "ocean_noise_data\\atlantic_spotted_dolphin\\61025008.wav, segment:2\n"
     ]
    },
    {
     "name": "stderr",
     "output_type": "stream",
     "text": [
      "C:\\Users\\TUKUNA\\AppData\\Local\\Temp/ipykernel_14232/2309356834.py:31: FutureWarning: Pass y=[0.02444848 0.03144026 0.03029654 ... 0.04891346 0.05111743 0.        ] as keyword args. From version 0.10 passing these as positional arguments will result in an error\n",
      "  if librosa.get_duration(signal)>10:\n",
      "C:\\Users\\TUKUNA\\AppData\\Local\\Temp/ipykernel_14232/2309356834.py:40: FutureWarning: Pass y=[ 0.02444848  0.03144026  0.03029654 ...  0.01291305 -0.00903172\n",
      " -0.01339451] as keyword args. From version 0.10 passing these as positional arguments will result in an error\n",
      "  mfcc= librosa.feature.mfcc(signal[start_sample:finish_sample],\n",
      "C:\\Users\\TUKUNA\\AppData\\Local\\Temp/ipykernel_14232/2309356834.py:40: FutureWarning: Pass y=[ 0.00680401  0.00310676 -0.00058257 ...  0.01376507  0.01340906\n",
      "  0.01858512] as keyword args. From version 0.10 passing these as positional arguments will result in an error\n",
      "  mfcc= librosa.feature.mfcc(signal[start_sample:finish_sample],\n",
      "C:\\Users\\TUKUNA\\AppData\\Local\\Temp/ipykernel_14232/2309356834.py:40: FutureWarning: Pass y=[0.0297139  0.03960597 0.03166549 ... 0.04891346 0.05111743 0.        ] as keyword args. From version 0.10 passing these as positional arguments will result in an error\n",
      "  mfcc= librosa.feature.mfcc(signal[start_sample:finish_sample],\n"
     ]
    },
    {
     "name": "stdout",
     "output_type": "stream",
     "text": [
      "ocean_noise_data\\atlantic_spotted_dolphin\\61025009.wav, segment:0\n",
      "ocean_noise_data\\atlantic_spotted_dolphin\\61025009.wav, segment:1\n"
     ]
    },
    {
     "name": "stderr",
     "output_type": "stream",
     "text": [
      "C:\\Users\\TUKUNA\\AppData\\Local\\Temp/ipykernel_14232/2309356834.py:31: FutureWarning: Pass y=[ 0.0126196   0.02291714  0.02133528 ... -0.03014185 -0.03597143\n",
      "  0.        ] as keyword args. From version 0.10 passing these as positional arguments will result in an error\n",
      "  if librosa.get_duration(signal)>10:\n",
      "C:\\Users\\TUKUNA\\AppData\\Local\\Temp/ipykernel_14232/2309356834.py:40: FutureWarning: Pass y=[ 0.0126196   0.02291714  0.02133528 ...  0.01889868 -0.00478042\n",
      " -0.00561374] as keyword args. From version 0.10 passing these as positional arguments will result in an error\n",
      "  mfcc= librosa.feature.mfcc(signal[start_sample:finish_sample],\n",
      "C:\\Users\\TUKUNA\\AppData\\Local\\Temp/ipykernel_14232/2309356834.py:40: FutureWarning: Pass y=[-0.00632554 -0.02196685 -0.02146656 ... -0.01389112 -0.01286918\n",
      " -0.0169481 ] as keyword args. From version 0.10 passing these as positional arguments will result in an error\n",
      "  mfcc= librosa.feature.mfcc(signal[start_sample:finish_sample],\n",
      "C:\\Users\\TUKUNA\\AppData\\Local\\Temp/ipykernel_14232/2309356834.py:40: FutureWarning: Pass y=[-0.01907615 -0.01879344 -0.01548548 ... -0.02791803 -0.0210745\n",
      " -0.01276147] as keyword args. From version 0.10 passing these as positional arguments will result in an error\n",
      "  mfcc= librosa.feature.mfcc(signal[start_sample:finish_sample],\n",
      "C:\\Users\\TUKUNA\\AppData\\Local\\Temp/ipykernel_14232/2309356834.py:40: FutureWarning: Pass y=[-0.01444373 -0.02840918 -0.03492941 ... -0.03014185 -0.03597143\n",
      "  0.        ] as keyword args. From version 0.10 passing these as positional arguments will result in an error\n",
      "  mfcc= librosa.feature.mfcc(signal[start_sample:finish_sample],\n"
     ]
    },
    {
     "name": "stdout",
     "output_type": "stream",
     "text": [
      "ocean_noise_data\\atlantic_spotted_dolphin\\6102500A.wav, segment:0\n",
      "ocean_noise_data\\atlantic_spotted_dolphin\\6102500A.wav, segment:1\n",
      "ocean_noise_data\\atlantic_spotted_dolphin\\6102500A.wav, segment:2\n"
     ]
    },
    {
     "name": "stderr",
     "output_type": "stream",
     "text": [
      "C:\\Users\\TUKUNA\\AppData\\Local\\Temp/ipykernel_14232/2309356834.py:31: FutureWarning: Pass y=[0.00161525 0.00070502 0.00097614 ... 0.00196065 0.00242072 0.        ] as keyword args. From version 0.10 passing these as positional arguments will result in an error\n",
      "  if librosa.get_duration(signal)>10:\n",
      "C:\\Users\\TUKUNA\\AppData\\Local\\Temp/ipykernel_14232/2309356834.py:40: FutureWarning: Pass y=[ 0.00161525  0.00070502  0.00097614 ...  0.00312266 -0.00109328\n",
      "  0.00306522] as keyword args. From version 0.10 passing these as positional arguments will result in an error\n",
      "  mfcc= librosa.feature.mfcc(signal[start_sample:finish_sample],\n",
      "C:\\Users\\TUKUNA\\AppData\\Local\\Temp/ipykernel_14232/2309356834.py:40: FutureWarning: Pass y=[ 0.00257696 -0.00020072  0.00173191 ...  0.00196065  0.00242072\n",
      "  0.        ] as keyword args. From version 0.10 passing these as positional arguments will result in an error\n",
      "  mfcc= librosa.feature.mfcc(signal[start_sample:finish_sample],\n"
     ]
    },
    {
     "name": "stdout",
     "output_type": "stream",
     "text": [
      "ocean_noise_data\\atlantic_spotted_dolphin\\6102500B.wav, segment:0\n"
     ]
    },
    {
     "name": "stderr",
     "output_type": "stream",
     "text": [
      "C:\\Users\\TUKUNA\\AppData\\Local\\Temp/ipykernel_14232/2309356834.py:31: FutureWarning: Pass y=[0.00080549 0.00126567 0.00117744 ... 0.00122287 0.00164845 0.        ] as keyword args. From version 0.10 passing these as positional arguments will result in an error\n",
      "  if librosa.get_duration(signal)>10:\n",
      "C:\\Users\\TUKUNA\\AppData\\Local\\Temp/ipykernel_14232/2309356834.py:40: FutureWarning: Pass y=[ 0.00080549  0.00126567  0.00117744 ... -0.00019233  0.0037487\n",
      "  0.00155381] as keyword args. From version 0.10 passing these as positional arguments will result in an error\n",
      "  mfcc= librosa.feature.mfcc(signal[start_sample:finish_sample],\n",
      "C:\\Users\\TUKUNA\\AppData\\Local\\Temp/ipykernel_14232/2309356834.py:40: FutureWarning: Pass y=[-0.00045647  0.00158773  0.00056854 ...  0.00122287  0.00164845\n",
      "  0.        ] as keyword args. From version 0.10 passing these as positional arguments will result in an error\n",
      "  mfcc= librosa.feature.mfcc(signal[start_sample:finish_sample],\n"
     ]
    },
    {
     "name": "stdout",
     "output_type": "stream",
     "text": [
      "ocean_noise_data\\atlantic_spotted_dolphin\\6102500C.wav, segment:0\n"
     ]
    },
    {
     "name": "stderr",
     "output_type": "stream",
     "text": [
      "C:\\Users\\TUKUNA\\AppData\\Local\\Temp/ipykernel_14232/2309356834.py:31: FutureWarning: Pass y=[0.00098536 0.00130107 0.00053811 ... 0.00134069 0.00166203 0.        ] as keyword args. From version 0.10 passing these as positional arguments will result in an error\n",
      "  if librosa.get_duration(signal)>10:\n",
      "C:\\Users\\TUKUNA\\AppData\\Local\\Temp/ipykernel_14232/2309356834.py:40: FutureWarning: Pass y=[0.00098536 0.00130107 0.00053811 ... 0.00035113 0.00109719 0.00228403] as keyword args. From version 0.10 passing these as positional arguments will result in an error\n",
      "  mfcc= librosa.feature.mfcc(signal[start_sample:finish_sample],\n",
      "C:\\Users\\TUKUNA\\AppData\\Local\\Temp/ipykernel_14232/2309356834.py:40: FutureWarning: Pass y=[0.00178012 0.00171127 0.00016411 ... 0.00134069 0.00166203 0.        ] as keyword args. From version 0.10 passing these as positional arguments will result in an error\n",
      "  mfcc= librosa.feature.mfcc(signal[start_sample:finish_sample],\n",
      "C:\\Users\\TUKUNA\\AppData\\Local\\Temp/ipykernel_14232/2309356834.py:31: FutureWarning: Pass y=[0.00086443 0.00145122 0.001126   ... 0.00132029 0.0010168  0.        ] as keyword args. From version 0.10 passing these as positional arguments will result in an error\n",
      "  if librosa.get_duration(signal)>10:\n",
      "C:\\Users\\TUKUNA\\AppData\\Local\\Temp/ipykernel_14232/2309356834.py:40: FutureWarning: Pass y=[8.6443295e-04 1.4512186e-03 1.1260029e-03 ... 3.3213137e-04 3.2019267e-05\n",
      " 1.9375682e-03] as keyword args. From version 0.10 passing these as positional arguments will result in an error\n",
      "  mfcc= librosa.feature.mfcc(signal[start_sample:finish_sample],\n",
      "C:\\Users\\TUKUNA\\AppData\\Local\\Temp/ipykernel_14232/2309356834.py:40: FutureWarning: Pass y=[0.00110887 0.0022967  0.00184386 ... 0.00132029 0.0010168  0.        ] as keyword args. From version 0.10 passing these as positional arguments will result in an error\n",
      "  mfcc= librosa.feature.mfcc(signal[start_sample:finish_sample],\n"
     ]
    },
    {
     "name": "stdout",
     "output_type": "stream",
     "text": [
      "ocean_noise_data\\atlantic_spotted_dolphin\\6102500D.wav, segment:0\n",
      "ocean_noise_data\\atlantic_spotted_dolphin\\6102500E.wav, segment:0\n"
     ]
    },
    {
     "name": "stderr",
     "output_type": "stream",
     "text": [
      "C:\\Users\\TUKUNA\\AppData\\Local\\Temp/ipykernel_14232/2309356834.py:31: FutureWarning: Pass y=[0.00086846 0.00177808 0.00164453 ... 0.00117948 0.0012823  0.        ] as keyword args. From version 0.10 passing these as positional arguments will result in an error\n",
      "  if librosa.get_duration(signal)>10:\n",
      "C:\\Users\\TUKUNA\\AppData\\Local\\Temp/ipykernel_14232/2309356834.py:40: FutureWarning: Pass y=[0.00086846 0.00177808 0.00164453 ... 0.00110434 0.00112904 0.00229003] as keyword args. From version 0.10 passing these as positional arguments will result in an error\n",
      "  mfcc= librosa.feature.mfcc(signal[start_sample:finish_sample],\n",
      "C:\\Users\\TUKUNA\\AppData\\Local\\Temp/ipykernel_14232/2309356834.py:40: FutureWarning: Pass y=[0.00107637 0.00081383 0.00214334 ... 0.00117948 0.0012823  0.        ] as keyword args. From version 0.10 passing these as positional arguments will result in an error\n",
      "  mfcc= librosa.feature.mfcc(signal[start_sample:finish_sample],\n"
     ]
    },
    {
     "name": "stdout",
     "output_type": "stream",
     "text": [
      "ocean_noise_data\\atlantic_spotted_dolphin\\6102500F.wav, segment:0\n"
     ]
    },
    {
     "name": "stderr",
     "output_type": "stream",
     "text": [
      "C:\\Users\\TUKUNA\\AppData\\Local\\Temp/ipykernel_14232/2309356834.py:31: FutureWarning: Pass y=[ 0.00071173  0.00124915  0.00140653 ... -0.00058711  0.00231703\n",
      "  0.        ] as keyword args. From version 0.10 passing these as positional arguments will result in an error\n",
      "  if librosa.get_duration(signal)>10:\n",
      "C:\\Users\\TUKUNA\\AppData\\Local\\Temp/ipykernel_14232/2309356834.py:40: FutureWarning: Pass y=[0.00071173 0.00124915 0.00140653 ... 0.00135782 0.0020939  0.00076571] as keyword args. From version 0.10 passing these as positional arguments will result in an error\n",
      "  mfcc= librosa.feature.mfcc(signal[start_sample:finish_sample],\n",
      "C:\\Users\\TUKUNA\\AppData\\Local\\Temp/ipykernel_14232/2309356834.py:40: FutureWarning: Pass y=[ 0.00082713  0.00238195  0.00149842 ... -0.00058711  0.00231703\n",
      "  0.        ] as keyword args. From version 0.10 passing these as positional arguments will result in an error\n",
      "  mfcc= librosa.feature.mfcc(signal[start_sample:finish_sample],\n"
     ]
    },
    {
     "name": "stdout",
     "output_type": "stream",
     "text": [
      "ocean_noise_data\\atlantic_spotted_dolphin\\6102500G.wav, segment:0\n"
     ]
    },
    {
     "name": "stderr",
     "output_type": "stream",
     "text": [
      "C:\\Users\\TUKUNA\\AppData\\Local\\Temp/ipykernel_14232/2309356834.py:31: FutureWarning: Pass y=[0.00100538 0.0015042  0.00110656 ... 0.0013983  0.00167364 0.        ] as keyword args. From version 0.10 passing these as positional arguments will result in an error\n",
      "  if librosa.get_duration(signal)>10:\n",
      "C:\\Users\\TUKUNA\\AppData\\Local\\Temp/ipykernel_14232/2309356834.py:40: FutureWarning: Pass y=[1.0053789e-03 1.5041961e-03 1.1065588e-03 ... 9.7509350e-05 2.1091704e-03\n",
      " 2.0688020e-04] as keyword args. From version 0.10 passing these as positional arguments will result in an error\n",
      "  mfcc= librosa.feature.mfcc(signal[start_sample:finish_sample],\n",
      "C:\\Users\\TUKUNA\\AppData\\Local\\Temp/ipykernel_14232/2309356834.py:40: FutureWarning: Pass y=[0.00246196 0.00107893 0.0002985  ... 0.0013983  0.00167364 0.        ] as keyword args. From version 0.10 passing these as positional arguments will result in an error\n",
      "  mfcc= librosa.feature.mfcc(signal[start_sample:finish_sample],\n"
     ]
    },
    {
     "name": "stdout",
     "output_type": "stream",
     "text": [
      "ocean_noise_data\\atlantic_spotted_dolphin\\6102500H.wav, segment:0\n"
     ]
    },
    {
     "name": "stderr",
     "output_type": "stream",
     "text": [
      "C:\\Users\\TUKUNA\\AppData\\Local\\Temp/ipykernel_14232/2309356834.py:31: FutureWarning: Pass y=[1.2876251e-03 4.4536831e-05 1.0951139e-03 ... 4.7861631e-03 3.5749728e-04\n",
      " 0.0000000e+00] as keyword args. From version 0.10 passing these as positional arguments will result in an error\n",
      "  if librosa.get_duration(signal)>10:\n",
      "C:\\Users\\TUKUNA\\AppData\\Local\\Temp/ipykernel_14232/2309356834.py:40: FutureWarning: Pass y=[ 1.2876251e-03  4.4536831e-05  1.0951139e-03 ... -1.2225150e-03\n",
      "  1.9395319e-03  4.3757255e-03] as keyword args. From version 0.10 passing these as positional arguments will result in an error\n",
      "  mfcc= librosa.feature.mfcc(signal[start_sample:finish_sample],\n",
      "C:\\Users\\TUKUNA\\AppData\\Local\\Temp/ipykernel_14232/2309356834.py:40: FutureWarning: Pass y=[-0.0033049   0.00470982  0.00137114 ...  0.00478616  0.0003575\n",
      "  0.        ] as keyword args. From version 0.10 passing these as positional arguments will result in an error\n",
      "  mfcc= librosa.feature.mfcc(signal[start_sample:finish_sample],\n"
     ]
    },
    {
     "name": "stdout",
     "output_type": "stream",
     "text": [
      "ocean_noise_data\\atlantic_spotted_dolphin\\6102500I.wav, segment:0\n"
     ]
    },
    {
     "name": "stderr",
     "output_type": "stream",
     "text": [
      "C:\\Users\\TUKUNA\\AppData\\Local\\Temp/ipykernel_14232/2309356834.py:31: FutureWarning: Pass y=[0.00143402 0.00118373 0.00054588 ... 0.00130055 0.00339586 0.        ] as keyword args. From version 0.10 passing these as positional arguments will result in an error\n",
      "  if librosa.get_duration(signal)>10:\n",
      "C:\\Users\\TUKUNA\\AppData\\Local\\Temp/ipykernel_14232/2309356834.py:40: FutureWarning: Pass y=[0.00143402 0.00118373 0.00054588 ... 0.00166375 0.00072704 0.00060224] as keyword args. From version 0.10 passing these as positional arguments will result in an error\n",
      "  mfcc= librosa.feature.mfcc(signal[start_sample:finish_sample],\n",
      "C:\\Users\\TUKUNA\\AppData\\Local\\Temp/ipykernel_14232/2309356834.py:40: FutureWarning: Pass y=[0.00166956 0.00149799 0.00150197 ... 0.00130055 0.00339586 0.        ] as keyword args. From version 0.10 passing these as positional arguments will result in an error\n",
      "  mfcc= librosa.feature.mfcc(signal[start_sample:finish_sample],\n"
     ]
    },
    {
     "name": "stdout",
     "output_type": "stream",
     "text": [
      "ocean_noise_data\\atlantic_spotted_dolphin\\6102500J.wav, segment:0\n"
     ]
    },
    {
     "name": "stderr",
     "output_type": "stream",
     "text": [
      "C:\\Users\\TUKUNA\\AppData\\Local\\Temp/ipykernel_14232/2309356834.py:31: FutureWarning: Pass y=[ 0.00129839  0.0039595  -0.00052874 ...  0.00190072  0.0004015\n",
      "  0.        ] as keyword args. From version 0.10 passing these as positional arguments will result in an error\n",
      "  if librosa.get_duration(signal)>10:\n",
      "C:\\Users\\TUKUNA\\AppData\\Local\\Temp/ipykernel_14232/2309356834.py:40: FutureWarning: Pass y=[ 0.00129839  0.0039595  -0.00052874 ...  0.00190072  0.0004015\n",
      "  0.        ] as keyword args. From version 0.10 passing these as positional arguments will result in an error\n",
      "  mfcc= librosa.feature.mfcc(signal[start_sample:finish_sample],\n",
      "C:\\Users\\TUKUNA\\AppData\\Local\\Temp/ipykernel_14232/2309356834.py:31: FutureWarning: Pass y=[0.00025693 0.00141119 0.00232503 ... 0.0017013  0.00180569 0.        ] as keyword args. From version 0.10 passing these as positional arguments will result in an error\n",
      "  if librosa.get_duration(signal)>10:\n",
      "C:\\Users\\TUKUNA\\AppData\\Local\\Temp/ipykernel_14232/2309356834.py:40: FutureWarning: Pass y=[0.00025693 0.00141119 0.00232503 ... 0.0017013  0.00180569 0.        ] as keyword args. From version 0.10 passing these as positional arguments will result in an error\n",
      "  mfcc= librosa.feature.mfcc(signal[start_sample:finish_sample],\n",
      "C:\\Users\\TUKUNA\\AppData\\Local\\Temp/ipykernel_14232/2309356834.py:31: FutureWarning: Pass y=[2.7922520e-06 1.9614471e-03 1.5272162e-03 ... 1.4291266e-03 1.6533410e-03\n",
      " 0.0000000e+00] as keyword args. From version 0.10 passing these as positional arguments will result in an error\n",
      "  if librosa.get_duration(signal)>10:\n",
      "C:\\Users\\TUKUNA\\AppData\\Local\\Temp/ipykernel_14232/2309356834.py:40: FutureWarning: Pass y=[ 2.7922520e-06  1.9614471e-03  1.5272162e-03 ...  2.5005401e-03\n",
      "  2.0206552e-03 -3.4963098e-04] as keyword args. From version 0.10 passing these as positional arguments will result in an error\n",
      "  mfcc= librosa.feature.mfcc(signal[start_sample:finish_sample],\n",
      "C:\\Users\\TUKUNA\\AppData\\Local\\Temp/ipykernel_14232/2309356834.py:40: FutureWarning: Pass y=[ 0.00311396  0.00233635 -0.00059784 ...  0.00142913  0.00165334\n",
      "  0.        ] as keyword args. From version 0.10 passing these as positional arguments will result in an error\n",
      "  mfcc= librosa.feature.mfcc(signal[start_sample:finish_sample],\n"
     ]
    },
    {
     "name": "stdout",
     "output_type": "stream",
     "text": [
      "ocean_noise_data\\atlantic_spotted_dolphin\\6102500N.wav, segment:0\n"
     ]
    },
    {
     "name": "stderr",
     "output_type": "stream",
     "text": [
      "C:\\Users\\TUKUNA\\AppData\\Local\\Temp/ipykernel_14232/2309356834.py:31: FutureWarning: Pass y=[0.00045535 0.00184181 0.0021082  ... 0.00129515 0.00171834 0.        ] as keyword args. From version 0.10 passing these as positional arguments will result in an error\n",
      "  if librosa.get_duration(signal)>10:\n",
      "C:\\Users\\TUKUNA\\AppData\\Local\\Temp/ipykernel_14232/2309356834.py:40: FutureWarning: Pass y=[0.00045535 0.00184181 0.0021082  ... 0.00021543 0.00043332 0.00242001] as keyword args. From version 0.10 passing these as positional arguments will result in an error\n",
      "  mfcc= librosa.feature.mfcc(signal[start_sample:finish_sample],\n",
      "C:\\Users\\TUKUNA\\AppData\\Local\\Temp/ipykernel_14232/2309356834.py:40: FutureWarning: Pass y=[0.00266571 0.00067616 0.00099283 ... 0.00129515 0.00171834 0.        ] as keyword args. From version 0.10 passing these as positional arguments will result in an error\n",
      "  mfcc= librosa.feature.mfcc(signal[start_sample:finish_sample],\n"
     ]
    },
    {
     "name": "stdout",
     "output_type": "stream",
     "text": [
      "ocean_noise_data\\atlantic_spotted_dolphin\\6102500O.wav, segment:0\n"
     ]
    },
    {
     "name": "stderr",
     "output_type": "stream",
     "text": [
      "C:\\Users\\TUKUNA\\AppData\\Local\\Temp/ipykernel_14232/2309356834.py:31: FutureWarning: Pass y=[0.00076687 0.00179853 0.00165495 ... 0.00175393 0.00228742 0.        ] as keyword args. From version 0.10 passing these as positional arguments will result in an error\n",
      "  if librosa.get_duration(signal)>10:\n",
      "C:\\Users\\TUKUNA\\AppData\\Local\\Temp/ipykernel_14232/2309356834.py:40: FutureWarning: Pass y=[0.00076687 0.00179853 0.00165495 ... 0.00303003 0.00036516 0.00157949] as keyword args. From version 0.10 passing these as positional arguments will result in an error\n",
      "  mfcc= librosa.feature.mfcc(signal[start_sample:finish_sample],\n",
      "C:\\Users\\TUKUNA\\AppData\\Local\\Temp/ipykernel_14232/2309356834.py:40: FutureWarning: Pass y=[0.00127644 0.00145442 0.00220593 ... 0.00175393 0.00228742 0.        ] as keyword args. From version 0.10 passing these as positional arguments will result in an error\n",
      "  mfcc= librosa.feature.mfcc(signal[start_sample:finish_sample],\n"
     ]
    },
    {
     "name": "stdout",
     "output_type": "stream",
     "text": [
      "ocean_noise_data\\atlantic_spotted_dolphin\\6102500P.wav, segment:0\n"
     ]
    },
    {
     "name": "stderr",
     "output_type": "stream",
     "text": [
      "C:\\Users\\TUKUNA\\AppData\\Local\\Temp/ipykernel_14232/2309356834.py:31: FutureWarning: Pass y=[0.00113683 0.00164894 0.00138009 ... 0.00096857 0.00173743 0.        ] as keyword args. From version 0.10 passing these as positional arguments will result in an error\n",
      "  if librosa.get_duration(signal)>10:\n",
      "C:\\Users\\TUKUNA\\AppData\\Local\\Temp/ipykernel_14232/2309356834.py:40: FutureWarning: Pass y=[ 0.00113683  0.00164894  0.00138009 ...  0.00249745 -0.00014233\n",
      "  0.00253415] as keyword args. From version 0.10 passing these as positional arguments will result in an error\n",
      "  mfcc= librosa.feature.mfcc(signal[start_sample:finish_sample],\n",
      "C:\\Users\\TUKUNA\\AppData\\Local\\Temp/ipykernel_14232/2309356834.py:40: FutureWarning: Pass y=[0.00174168 0.00060567 0.00231603 ... 0.00096857 0.00173743 0.        ] as keyword args. From version 0.10 passing these as positional arguments will result in an error\n",
      "  mfcc= librosa.feature.mfcc(signal[start_sample:finish_sample],\n"
     ]
    },
    {
     "name": "stdout",
     "output_type": "stream",
     "text": [
      "ocean_noise_data\\atlantic_spotted_dolphin\\6102500Q.wav, segment:0\n"
     ]
    },
    {
     "name": "stderr",
     "output_type": "stream",
     "text": [
      "C:\\Users\\TUKUNA\\AppData\\Local\\Temp/ipykernel_14232/2309356834.py:31: FutureWarning: Pass y=[0.00129795 0.0021281  0.00187046 ... 0.00190446 0.00201392 0.        ] as keyword args. From version 0.10 passing these as positional arguments will result in an error\n",
      "  if librosa.get_duration(signal)>10:\n",
      "C:\\Users\\TUKUNA\\AppData\\Local\\Temp/ipykernel_14232/2309356834.py:32: FutureWarning: Pass y=[0.00129795 0.0021281  0.00187046 ... 0.00190446 0.00201392 0.        ] as keyword args. From version 0.10 passing these as positional arguments will result in an error\n",
      "  num_segments=int(librosa.get_duration(signal)/10)\n",
      "C:\\Users\\TUKUNA\\AppData\\Local\\Temp/ipykernel_14232/2309356834.py:40: FutureWarning: Pass y=[0.00129795 0.0021281  0.00187046 ... 0.00190654 0.00212773 0.00164819] as keyword args. From version 0.10 passing these as positional arguments will result in an error\n",
      "  mfcc= librosa.feature.mfcc(signal[start_sample:finish_sample],\n",
      "C:\\Users\\TUKUNA\\AppData\\Local\\Temp/ipykernel_14232/2309356834.py:40: FutureWarning: Pass y=[0.00221758 0.0018296  0.00185997 ... 0.00212466 0.00172418 0.00193432] as keyword args. From version 0.10 passing these as positional arguments will result in an error\n",
      "  mfcc= librosa.feature.mfcc(signal[start_sample:finish_sample],\n",
      "C:\\Users\\TUKUNA\\AppData\\Local\\Temp/ipykernel_14232/2309356834.py:40: FutureWarning: Pass y=[0.00184158 0.00186297 0.00184227 ... 0.00260237 0.00130904 0.00206828] as keyword args. From version 0.10 passing these as positional arguments will result in an error\n",
      "  mfcc= librosa.feature.mfcc(signal[start_sample:finish_sample],\n",
      "C:\\Users\\TUKUNA\\AppData\\Local\\Temp/ipykernel_14232/2309356834.py:40: FutureWarning: Pass y=[0.00144194 0.00207664 0.00190727 ... 0.00160293 0.00244852 0.0023829 ] as keyword args. From version 0.10 passing these as positional arguments will result in an error\n",
      "  mfcc= librosa.feature.mfcc(signal[start_sample:finish_sample],\n",
      "C:\\Users\\TUKUNA\\AppData\\Local\\Temp/ipykernel_14232/2309356834.py:40: FutureWarning: Pass y=[0.0022765  0.00191524 0.00150013 ... 0.00250431 0.00125598 0.0022893 ] as keyword args. From version 0.10 passing these as positional arguments will result in an error\n",
      "  mfcc= librosa.feature.mfcc(signal[start_sample:finish_sample],\n"
     ]
    },
    {
     "name": "stdout",
     "output_type": "stream",
     "text": [
      "ocean_noise_data\\atlantic_spotted_dolphin\\6102500R.wav, segment:0\n",
      "ocean_noise_data\\atlantic_spotted_dolphin\\6102500R.wav, segment:1\n",
      "ocean_noise_data\\atlantic_spotted_dolphin\\6102500R.wav, segment:2\n",
      "ocean_noise_data\\atlantic_spotted_dolphin\\6102500R.wav, segment:3\n",
      "ocean_noise_data\\atlantic_spotted_dolphin\\6102500R.wav, segment:4\n"
     ]
    },
    {
     "name": "stderr",
     "output_type": "stream",
     "text": [
      "C:\\Users\\TUKUNA\\AppData\\Local\\Temp/ipykernel_14232/2309356834.py:31: FutureWarning: Pass y=[-0.00266068  0.00072992  0.00260957 ... -0.00193197  0.00947892\n",
      "  0.        ] as keyword args. From version 0.10 passing these as positional arguments will result in an error\n",
      "  if librosa.get_duration(signal)>10:\n",
      "C:\\Users\\TUKUNA\\AppData\\Local\\Temp/ipykernel_14232/2309356834.py:40: FutureWarning: Pass y=[-0.00266068  0.00072992  0.00260957 ...  0.02068647  0.00095543\n",
      " -0.04353959] as keyword args. From version 0.10 passing these as positional arguments will result in an error\n",
      "  mfcc= librosa.feature.mfcc(signal[start_sample:finish_sample],\n",
      "C:\\Users\\TUKUNA\\AppData\\Local\\Temp/ipykernel_14232/2309356834.py:40: FutureWarning: Pass y=[-0.00579454  0.00066713  0.03638627 ... -0.00193197  0.00947892\n",
      "  0.        ] as keyword args. From version 0.10 passing these as positional arguments will result in an error\n",
      "  mfcc= librosa.feature.mfcc(signal[start_sample:finish_sample],\n"
     ]
    },
    {
     "name": "stdout",
     "output_type": "stream",
     "text": [
      "ocean_noise_data\\atlantic_spotted_dolphin\\61026001.wav, segment:0\n"
     ]
    },
    {
     "name": "stderr",
     "output_type": "stream",
     "text": [
      "C:\\Users\\TUKUNA\\AppData\\Local\\Temp/ipykernel_14232/2309356834.py:31: FutureWarning: Pass y=[-0.00760201 -0.01225604 -0.01451308 ...  0.03736887  0.03561728\n",
      "  0.        ] as keyword args. From version 0.10 passing these as positional arguments will result in an error\n",
      "  if librosa.get_duration(signal)>10:\n",
      "C:\\Users\\TUKUNA\\AppData\\Local\\Temp/ipykernel_14232/2309356834.py:40: FutureWarning: Pass y=[-0.00760201 -0.01225604 -0.01451308 ...  0.00774575  0.04846414\n",
      "  0.05970802] as keyword args. From version 0.10 passing these as positional arguments will result in an error\n",
      "  mfcc= librosa.feature.mfcc(signal[start_sample:finish_sample],\n",
      "C:\\Users\\TUKUNA\\AppData\\Local\\Temp/ipykernel_14232/2309356834.py:40: FutureWarning: Pass y=[-0.02893505 -0.05196084  0.04856975 ...  0.03736887  0.03561728\n",
      "  0.        ] as keyword args. From version 0.10 passing these as positional arguments will result in an error\n",
      "  mfcc= librosa.feature.mfcc(signal[start_sample:finish_sample],\n"
     ]
    },
    {
     "name": "stdout",
     "output_type": "stream",
     "text": [
      "ocean_noise_data\\atlantic_spotted_dolphin\\61026002.wav, segment:0\n"
     ]
    },
    {
     "name": "stderr",
     "output_type": "stream",
     "text": [
      "C:\\Users\\TUKUNA\\AppData\\Local\\Temp/ipykernel_14232/2309356834.py:31: FutureWarning: Pass y=[ 0.00644261  0.01422154  0.01367369 ... -0.04374925 -0.04502861\n",
      "  0.        ] as keyword args. From version 0.10 passing these as positional arguments will result in an error\n",
      "  if librosa.get_duration(signal)>10:\n",
      "C:\\Users\\TUKUNA\\AppData\\Local\\Temp/ipykernel_14232/2309356834.py:40: FutureWarning: Pass y=[ 0.00644261  0.01422154  0.01367369 ... -0.01545047  0.00186536\n",
      "  0.02233679] as keyword args. From version 0.10 passing these as positional arguments will result in an error\n",
      "  mfcc= librosa.feature.mfcc(signal[start_sample:finish_sample],\n",
      "C:\\Users\\TUKUNA\\AppData\\Local\\Temp/ipykernel_14232/2309356834.py:40: FutureWarning: Pass y=[ 0.00067676 -0.01476243 -0.00731087 ... -0.04374925 -0.04502861\n",
      "  0.        ] as keyword args. From version 0.10 passing these as positional arguments will result in an error\n",
      "  mfcc= librosa.feature.mfcc(signal[start_sample:finish_sample],\n"
     ]
    },
    {
     "name": "stdout",
     "output_type": "stream",
     "text": [
      "ocean_noise_data\\atlantic_spotted_dolphin\\61026004.wav, segment:0\n"
     ]
    },
    {
     "name": "stderr",
     "output_type": "stream",
     "text": [
      "C:\\Users\\TUKUNA\\AppData\\Local\\Temp/ipykernel_14232/2309356834.py:31: FutureWarning: Pass y=[ 0.00683146  0.01676417  0.01342504 ... -0.00221966  0.0006944\n",
      "  0.        ] as keyword args. From version 0.10 passing these as positional arguments will result in an error\n",
      "  if librosa.get_duration(signal)>10:\n",
      "C:\\Users\\TUKUNA\\AppData\\Local\\Temp/ipykernel_14232/2309356834.py:40: FutureWarning: Pass y=[ 0.00683146  0.01676417  0.01342504 ... -0.02234504  0.00995962\n",
      "  0.00173115] as keyword args. From version 0.10 passing these as positional arguments will result in an error\n",
      "  mfcc= librosa.feature.mfcc(signal[start_sample:finish_sample],\n",
      "C:\\Users\\TUKUNA\\AppData\\Local\\Temp/ipykernel_14232/2309356834.py:40: FutureWarning: Pass y=[-0.0313873  -0.0168453  -0.00539749 ... -0.00221966  0.0006944\n",
      "  0.        ] as keyword args. From version 0.10 passing these as positional arguments will result in an error\n",
      "  mfcc= librosa.feature.mfcc(signal[start_sample:finish_sample],\n"
     ]
    },
    {
     "name": "stdout",
     "output_type": "stream",
     "text": [
      "ocean_noise_data\\atlantic_spotted_dolphin\\6102600F.wav, segment:0\n"
     ]
    },
    {
     "name": "stderr",
     "output_type": "stream",
     "text": [
      "C:\\Users\\TUKUNA\\AppData\\Local\\Temp/ipykernel_14232/2309356834.py:31: FutureWarning: Pass y=[0.0048778  0.01148472 0.00679165 ... 0.00225599 0.00937156 0.        ] as keyword args. From version 0.10 passing these as positional arguments will result in an error\n",
      "  if librosa.get_duration(signal)>10:\n",
      "C:\\Users\\TUKUNA\\AppData\\Local\\Temp/ipykernel_14232/2309356834.py:40: FutureWarning: Pass y=[ 0.0048778   0.01148472  0.00679165 ... -0.00287013  0.12513454\n",
      " -0.1402996 ] as keyword args. From version 0.10 passing these as positional arguments will result in an error\n",
      "  mfcc= librosa.feature.mfcc(signal[start_sample:finish_sample],\n",
      "C:\\Users\\TUKUNA\\AppData\\Local\\Temp/ipykernel_14232/2309356834.py:40: FutureWarning: Pass y=[-0.03279147  0.08063846 -0.0996887  ...  0.00225599  0.00937156\n",
      "  0.        ] as keyword args. From version 0.10 passing these as positional arguments will result in an error\n",
      "  mfcc= librosa.feature.mfcc(signal[start_sample:finish_sample],\n"
     ]
    },
    {
     "name": "stdout",
     "output_type": "stream",
     "text": [
      "ocean_noise_data\\atlantic_spotted_dolphin\\6102600G.wav, segment:0\n"
     ]
    },
    {
     "name": "stderr",
     "output_type": "stream",
     "text": [
      "C:\\Users\\TUKUNA\\AppData\\Local\\Temp/ipykernel_14232/2309356834.py:31: FutureWarning: Pass y=[0.00567039 0.00911275 0.00835071 ... 0.00070476 0.00429158 0.        ] as keyword args. From version 0.10 passing these as positional arguments will result in an error\n",
      "  if librosa.get_duration(signal)>10:\n",
      "C:\\Users\\TUKUNA\\AppData\\Local\\Temp/ipykernel_14232/2309356834.py:40: FutureWarning: Pass y=[0.00567039 0.00911275 0.00835071 ... 0.02785582 0.05952768 0.05012456] as keyword args. From version 0.10 passing these as positional arguments will result in an error\n",
      "  mfcc= librosa.feature.mfcc(signal[start_sample:finish_sample],\n",
      "C:\\Users\\TUKUNA\\AppData\\Local\\Temp/ipykernel_14232/2309356834.py:40: FutureWarning: Pass y=[0.00367783 0.04620781 0.05489272 ... 0.00070476 0.00429158 0.        ] as keyword args. From version 0.10 passing these as positional arguments will result in an error\n",
      "  mfcc= librosa.feature.mfcc(signal[start_sample:finish_sample],\n"
     ]
    },
    {
     "name": "stdout",
     "output_type": "stream",
     "text": [
      "ocean_noise_data\\atlantic_spotted_dolphin\\6102601Y.wav, segment:0\n"
     ]
    },
    {
     "name": "stderr",
     "output_type": "stream",
     "text": [
      "C:\\Users\\TUKUNA\\AppData\\Local\\Temp/ipykernel_14232/2309356834.py:31: FutureWarning: Pass y=[0.01245552 0.0146691  0.00206865 ... 0.02942775 0.0200843  0.        ] as keyword args. From version 0.10 passing these as positional arguments will result in an error\n",
      "  if librosa.get_duration(signal)>10:\n",
      "C:\\Users\\TUKUNA\\AppData\\Local\\Temp/ipykernel_14232/2309356834.py:40: FutureWarning: Pass y=[ 0.01245552  0.0146691   0.00206865 ...  0.10379475 -0.07812309\n",
      "  0.2133752 ] as keyword args. From version 0.10 passing these as positional arguments will result in an error\n",
      "  mfcc= librosa.feature.mfcc(signal[start_sample:finish_sample],\n",
      "C:\\Users\\TUKUNA\\AppData\\Local\\Temp/ipykernel_14232/2309356834.py:40: FutureWarning: Pass y=[ 0.03266864 -0.0633112   0.25716317 ...  0.02942775  0.0200843\n",
      "  0.        ] as keyword args. From version 0.10 passing these as positional arguments will result in an error\n",
      "  mfcc= librosa.feature.mfcc(signal[start_sample:finish_sample],\n"
     ]
    },
    {
     "name": "stdout",
     "output_type": "stream",
     "text": [
      "ocean_noise_data\\atlantic_spotted_dolphin\\6102601Z.wav, segment:0\n"
     ]
    },
    {
     "name": "stderr",
     "output_type": "stream",
     "text": [
      "C:\\Users\\TUKUNA\\AppData\\Local\\Temp/ipykernel_14232/2309356834.py:31: FutureWarning: Pass y=[0.01165418 0.01870636 0.01558248 ... 0.00071405 0.00206613 0.        ] as keyword args. From version 0.10 passing these as positional arguments will result in an error\n",
      "  if librosa.get_duration(signal)>10:\n",
      "C:\\Users\\TUKUNA\\AppData\\Local\\Temp/ipykernel_14232/2309356834.py:40: FutureWarning: Pass y=[ 0.01165418  0.01870636  0.01558248 ...  0.01166405 -0.06051607\n",
      "  0.01688167] as keyword args. From version 0.10 passing these as positional arguments will result in an error\n",
      "  mfcc= librosa.feature.mfcc(signal[start_sample:finish_sample],\n",
      "C:\\Users\\TUKUNA\\AppData\\Local\\Temp/ipykernel_14232/2309356834.py:40: FutureWarning: Pass y=[-0.06073553 -0.00096796 -0.05627907 ...  0.00071405  0.00206613\n",
      "  0.        ] as keyword args. From version 0.10 passing these as positional arguments will result in an error\n",
      "  mfcc= librosa.feature.mfcc(signal[start_sample:finish_sample],\n"
     ]
    },
    {
     "name": "stdout",
     "output_type": "stream",
     "text": [
      "ocean_noise_data\\atlantic_spotted_dolphin\\61026020.wav, segment:0\n"
     ]
    },
    {
     "name": "stderr",
     "output_type": "stream",
     "text": [
      "C:\\Users\\TUKUNA\\AppData\\Local\\Temp/ipykernel_14232/2309356834.py:31: FutureWarning: Pass y=[ 0.00120996  0.00788813  0.00095601 ... -0.01129916 -0.01816664\n",
      "  0.        ] as keyword args. From version 0.10 passing these as positional arguments will result in an error\n",
      "  if librosa.get_duration(signal)>10:\n",
      "C:\\Users\\TUKUNA\\AppData\\Local\\Temp/ipykernel_14232/2309356834.py:40: FutureWarning: Pass y=[ 0.00120996  0.00788813  0.00095601 ...  0.05026245 -0.04984661\n",
      " -0.03056195] as keyword args. From version 0.10 passing these as positional arguments will result in an error\n",
      "  mfcc= librosa.feature.mfcc(signal[start_sample:finish_sample],\n",
      "C:\\Users\\TUKUNA\\AppData\\Local\\Temp/ipykernel_14232/2309356834.py:40: FutureWarning: Pass y=[ 0.01429918 -0.03719443 -0.00626811 ... -0.01129916 -0.01816664\n",
      "  0.        ] as keyword args. From version 0.10 passing these as positional arguments will result in an error\n",
      "  mfcc= librosa.feature.mfcc(signal[start_sample:finish_sample],\n"
     ]
    },
    {
     "name": "stdout",
     "output_type": "stream",
     "text": [
      "ocean_noise_data\\atlantic_spotted_dolphin\\61026021.wav, segment:0\n"
     ]
    },
    {
     "name": "stderr",
     "output_type": "stream",
     "text": [
      "C:\\Users\\TUKUNA\\AppData\\Local\\Temp/ipykernel_14232/2309356834.py:31: FutureWarning: Pass y=[ 0.0044425   0.00321124  0.00044986 ...  0.00349371 -0.00364996\n",
      "  0.        ] as keyword args. From version 0.10 passing these as positional arguments will result in an error\n",
      "  if librosa.get_duration(signal)>10:\n",
      "C:\\Users\\TUKUNA\\AppData\\Local\\Temp/ipykernel_14232/2309356834.py:40: FutureWarning: Pass y=[ 0.0044425   0.00321124  0.00044986 ... -0.02511881  0.00017237\n",
      " -0.01466846] as keyword args. From version 0.10 passing these as positional arguments will result in an error\n",
      "  mfcc= librosa.feature.mfcc(signal[start_sample:finish_sample],\n",
      "C:\\Users\\TUKUNA\\AppData\\Local\\Temp/ipykernel_14232/2309356834.py:40: FutureWarning: Pass y=[-0.01521503 -0.01047936 -0.01498996 ...  0.00349371 -0.00364996\n",
      "  0.        ] as keyword args. From version 0.10 passing these as positional arguments will result in an error\n",
      "  mfcc= librosa.feature.mfcc(signal[start_sample:finish_sample],\n"
     ]
    },
    {
     "name": "stdout",
     "output_type": "stream",
     "text": [
      "ocean_noise_data\\atlantic_spotted_dolphin\\6102602I.wav, segment:0\n"
     ]
    },
    {
     "name": "stderr",
     "output_type": "stream",
     "text": [
      "C:\\Users\\TUKUNA\\AppData\\Local\\Temp/ipykernel_14232/2309356834.py:31: FutureWarning: Pass y=[-0.00210041 -0.0046031   0.00629524 ...  0.01231821  0.00695714\n",
      "  0.        ] as keyword args. From version 0.10 passing these as positional arguments will result in an error\n",
      "  if librosa.get_duration(signal)>10:\n",
      "C:\\Users\\TUKUNA\\AppData\\Local\\Temp/ipykernel_14232/2309356834.py:40: FutureWarning: Pass y=[-0.00210041 -0.0046031   0.00629524 ... -0.02089764 -0.00727766\n",
      " -0.03070249] as keyword args. From version 0.10 passing these as positional arguments will result in an error\n",
      "  mfcc= librosa.feature.mfcc(signal[start_sample:finish_sample],\n",
      "C:\\Users\\TUKUNA\\AppData\\Local\\Temp/ipykernel_14232/2309356834.py:40: FutureWarning: Pass y=[-0.01759873 -0.01823605 -0.02597867 ...  0.01231821  0.00695714\n",
      "  0.        ] as keyword args. From version 0.10 passing these as positional arguments will result in an error\n",
      "  mfcc= librosa.feature.mfcc(signal[start_sample:finish_sample],\n"
     ]
    },
    {
     "name": "stdout",
     "output_type": "stream",
     "text": [
      "ocean_noise_data\\atlantic_spotted_dolphin\\6102602J.wav, segment:0\n"
     ]
    },
    {
     "name": "stderr",
     "output_type": "stream",
     "text": [
      "C:\\Users\\TUKUNA\\AppData\\Local\\Temp/ipykernel_14232/2309356834.py:31: FutureWarning: Pass y=[0.00123139 0.00418006 0.00402634 ... 0.00488586 0.00851065 0.        ] as keyword args. From version 0.10 passing these as positional arguments will result in an error\n",
      "  if librosa.get_duration(signal)>10:\n",
      "C:\\Users\\TUKUNA\\AppData\\Local\\Temp/ipykernel_14232/2309356834.py:40: FutureWarning: Pass y=[ 0.00123139  0.00418006  0.00402634 ... -0.00154316 -0.01450851\n",
      "  0.00044167] as keyword args. From version 0.10 passing these as positional arguments will result in an error\n",
      "  mfcc= librosa.feature.mfcc(signal[start_sample:finish_sample],\n",
      "C:\\Users\\TUKUNA\\AppData\\Local\\Temp/ipykernel_14232/2309356834.py:40: FutureWarning: Pass y=[-0.00926404 -0.00633631 -0.00287673 ...  0.00488586  0.00851065\n",
      "  0.        ] as keyword args. From version 0.10 passing these as positional arguments will result in an error\n",
      "  mfcc= librosa.feature.mfcc(signal[start_sample:finish_sample],\n"
     ]
    },
    {
     "name": "stdout",
     "output_type": "stream",
     "text": [
      "ocean_noise_data\\atlantic_spotted_dolphin\\6102602K.wav, segment:0\n"
     ]
    },
    {
     "name": "stderr",
     "output_type": "stream",
     "text": [
      "C:\\Users\\TUKUNA\\AppData\\Local\\Temp/ipykernel_14232/2309356834.py:31: FutureWarning: Pass y=[-0.00739549 -0.01079115 -0.00972943 ... -0.00826601 -0.0099352\n",
      "  0.        ] as keyword args. From version 0.10 passing these as positional arguments will result in an error\n",
      "  if librosa.get_duration(signal)>10:\n",
      "C:\\Users\\TUKUNA\\AppData\\Local\\Temp/ipykernel_14232/2309356834.py:40: FutureWarning: Pass y=[-0.00739549 -0.01079115 -0.00972943 ... -0.02966959 -0.06113186\n",
      "  0.00878061] as keyword args. From version 0.10 passing these as positional arguments will result in an error\n",
      "  mfcc= librosa.feature.mfcc(signal[start_sample:finish_sample],\n",
      "C:\\Users\\TUKUNA\\AppData\\Local\\Temp/ipykernel_14232/2309356834.py:40: FutureWarning: Pass y=[ 0.07714731  0.00568265 -0.09950429 ... -0.00826601 -0.0099352\n",
      "  0.        ] as keyword args. From version 0.10 passing these as positional arguments will result in an error\n",
      "  mfcc= librosa.feature.mfcc(signal[start_sample:finish_sample],\n"
     ]
    },
    {
     "name": "stdout",
     "output_type": "stream",
     "text": [
      "ocean_noise_data\\atlantic_spotted_dolphin\\6102602T.wav, segment:0\n"
     ]
    },
    {
     "name": "stderr",
     "output_type": "stream",
     "text": [
      "C:\\Users\\TUKUNA\\AppData\\Local\\Temp/ipykernel_14232/2309356834.py:31: FutureWarning: Pass y=[-0.00142474 -0.00657379 -0.00561423 ...  0.01296542  0.01170903\n",
      "  0.        ] as keyword args. From version 0.10 passing these as positional arguments will result in an error\n",
      "  if librosa.get_duration(signal)>10:\n",
      "C:\\Users\\TUKUNA\\AppData\\Local\\Temp/ipykernel_14232/2309356834.py:40: FutureWarning: Pass y=[-0.00142474 -0.00657379 -0.00561423 ...  0.12035146 -0.29023027\n",
      "  0.05445219] as keyword args. From version 0.10 passing these as positional arguments will result in an error\n",
      "  mfcc= librosa.feature.mfcc(signal[start_sample:finish_sample],\n",
      "C:\\Users\\TUKUNA\\AppData\\Local\\Temp/ipykernel_14232/2309356834.py:40: FutureWarning: Pass y=[-0.03673569 -0.03387214  0.1351744  ...  0.01296542  0.01170903\n",
      "  0.        ] as keyword args. From version 0.10 passing these as positional arguments will result in an error\n",
      "  mfcc= librosa.feature.mfcc(signal[start_sample:finish_sample],\n"
     ]
    },
    {
     "name": "stdout",
     "output_type": "stream",
     "text": [
      "ocean_noise_data\\atlantic_spotted_dolphin\\6102602U.wav, segment:0\n"
     ]
    },
    {
     "name": "stderr",
     "output_type": "stream",
     "text": [
      "C:\\Users\\TUKUNA\\AppData\\Local\\Temp/ipykernel_14232/2309356834.py:31: FutureWarning: Pass y=[0.0067233  0.01423809 0.01323735 ... 0.00161253 0.00409387 0.        ] as keyword args. From version 0.10 passing these as positional arguments will result in an error\n",
      "  if librosa.get_duration(signal)>10:\n",
      "C:\\Users\\TUKUNA\\AppData\\Local\\Temp/ipykernel_14232/2309356834.py:40: FutureWarning: Pass y=[ 0.0067233   0.01423809  0.01323735 ...  0.0110644  -0.03021253\n",
      " -0.02861466] as keyword args. From version 0.10 passing these as positional arguments will result in an error\n",
      "  mfcc= librosa.feature.mfcc(signal[start_sample:finish_sample],\n",
      "C:\\Users\\TUKUNA\\AppData\\Local\\Temp/ipykernel_14232/2309356834.py:40: FutureWarning: Pass y=[ 0.04315851 -0.03856089 -0.0268655  ...  0.00161253  0.00409387\n",
      "  0.        ] as keyword args. From version 0.10 passing these as positional arguments will result in an error\n",
      "  mfcc= librosa.feature.mfcc(signal[start_sample:finish_sample],\n"
     ]
    },
    {
     "name": "stdout",
     "output_type": "stream",
     "text": [
      "ocean_noise_data\\atlantic_spotted_dolphin\\6102602V.wav, segment:0\n"
     ]
    },
    {
     "name": "stderr",
     "output_type": "stream",
     "text": [
      "C:\\Users\\TUKUNA\\AppData\\Local\\Temp/ipykernel_14232/2309356834.py:31: FutureWarning: Pass y=[ 0.00375409  0.00356537 -0.00264261 ...  0.01789418  0.01984398\n",
      "  0.        ] as keyword args. From version 0.10 passing these as positional arguments will result in an error\n",
      "  if librosa.get_duration(signal)>10:\n",
      "C:\\Users\\TUKUNA\\AppData\\Local\\Temp/ipykernel_14232/2309356834.py:40: FutureWarning: Pass y=[ 0.00375409  0.00356537 -0.00264261 ... -0.00849265 -0.01026628\n",
      " -0.01216626] as keyword args. From version 0.10 passing these as positional arguments will result in an error\n",
      "  mfcc= librosa.feature.mfcc(signal[start_sample:finish_sample],\n",
      "C:\\Users\\TUKUNA\\AppData\\Local\\Temp/ipykernel_14232/2309356834.py:40: FutureWarning: Pass y=[-0.00652788 -0.0087313  -0.01838985 ...  0.01789418  0.01984398\n",
      "  0.        ] as keyword args. From version 0.10 passing these as positional arguments will result in an error\n",
      "  mfcc= librosa.feature.mfcc(signal[start_sample:finish_sample],\n"
     ]
    },
    {
     "name": "stdout",
     "output_type": "stream",
     "text": [
      "ocean_noise_data\\atlantic_spotted_dolphin\\6102602W.wav, segment:0\n"
     ]
    },
    {
     "name": "stderr",
     "output_type": "stream",
     "text": [
      "C:\\Users\\TUKUNA\\AppData\\Local\\Temp/ipykernel_14232/2309356834.py:31: FutureWarning: Pass y=[-0.00074652  0.00334563  0.000394   ... -0.01853198 -0.02359547\n",
      "  0.        ] as keyword args. From version 0.10 passing these as positional arguments will result in an error\n",
      "  if librosa.get_duration(signal)>10:\n",
      "C:\\Users\\TUKUNA\\AppData\\Local\\Temp/ipykernel_14232/2309356834.py:40: FutureWarning: Pass y=[-0.00074652  0.00334563  0.000394   ...  0.09976161 -0.00575608\n",
      " -0.13099317] as keyword args. From version 0.10 passing these as positional arguments will result in an error\n",
      "  mfcc= librosa.feature.mfcc(signal[start_sample:finish_sample],\n",
      "C:\\Users\\TUKUNA\\AppData\\Local\\Temp/ipykernel_14232/2309356834.py:40: FutureWarning: Pass y=[ 0.1486413  -0.15058497  0.01967462 ... -0.01853198 -0.02359547\n",
      "  0.        ] as keyword args. From version 0.10 passing these as positional arguments will result in an error\n",
      "  mfcc= librosa.feature.mfcc(signal[start_sample:finish_sample],\n"
     ]
    },
    {
     "name": "stdout",
     "output_type": "stream",
     "text": [
      "ocean_noise_data\\atlantic_spotted_dolphin\\61026031.wav, segment:0\n"
     ]
    },
    {
     "name": "stderr",
     "output_type": "stream",
     "text": [
      "C:\\Users\\TUKUNA\\AppData\\Local\\Temp/ipykernel_14232/2309356834.py:31: FutureWarning: Pass y=[ 1.2750090e-06  7.5804687e-04 -1.1384630e-03 ... -3.5490748e-03\n",
      " -4.4107102e-03  0.0000000e+00] as keyword args. From version 0.10 passing these as positional arguments will result in an error\n",
      "  if librosa.get_duration(signal)>10:\n",
      "C:\\Users\\TUKUNA\\AppData\\Local\\Temp/ipykernel_14232/2309356834.py:40: FutureWarning: Pass y=[ 1.2750090e-06  7.5804687e-04 -1.1384630e-03 ...  1.0446856e-02\n",
      "  3.6440366e-03  1.6572166e-02] as keyword args. From version 0.10 passing these as positional arguments will result in an error\n",
      "  mfcc= librosa.feature.mfcc(signal[start_sample:finish_sample],\n",
      "C:\\Users\\TUKUNA\\AppData\\Local\\Temp/ipykernel_14232/2309356834.py:40: FutureWarning: Pass y=[ 0.02019858  0.02211976  0.01279504 ... -0.00354907 -0.00441071\n",
      "  0.        ] as keyword args. From version 0.10 passing these as positional arguments will result in an error\n",
      "  mfcc= librosa.feature.mfcc(signal[start_sample:finish_sample],\n"
     ]
    },
    {
     "name": "stdout",
     "output_type": "stream",
     "text": [
      "ocean_noise_data\\atlantic_spotted_dolphin\\61026036.wav, segment:0\n"
     ]
    },
    {
     "name": "stderr",
     "output_type": "stream",
     "text": [
      "C:\\Users\\TUKUNA\\AppData\\Local\\Temp/ipykernel_14232/2309356834.py:31: FutureWarning: Pass y=[-0.00742295 -0.02274798 -0.01298253 ... -0.00685672 -0.0087668\n",
      "  0.        ] as keyword args. From version 0.10 passing these as positional arguments will result in an error\n",
      "  if librosa.get_duration(signal)>10:\n",
      "C:\\Users\\TUKUNA\\AppData\\Local\\Temp/ipykernel_14232/2309356834.py:40: FutureWarning: Pass y=[-0.00742295 -0.02274798 -0.01298253 ... -0.07871804  0.06680793\n",
      "  0.05421559] as keyword args. From version 0.10 passing these as positional arguments will result in an error\n",
      "  mfcc= librosa.feature.mfcc(signal[start_sample:finish_sample],\n",
      "C:\\Users\\TUKUNA\\AppData\\Local\\Temp/ipykernel_14232/2309356834.py:40: FutureWarning: Pass y=[-0.08724906  0.07897677  0.05668804 ... -0.00685672 -0.0087668\n",
      "  0.        ] as keyword args. From version 0.10 passing these as positional arguments will result in an error\n",
      "  mfcc= librosa.feature.mfcc(signal[start_sample:finish_sample],\n"
     ]
    },
    {
     "name": "stdout",
     "output_type": "stream",
     "text": [
      "ocean_noise_data\\atlantic_spotted_dolphin\\6102603A.wav, segment:0\n"
     ]
    },
    {
     "name": "stderr",
     "output_type": "stream",
     "text": [
      "C:\\Users\\TUKUNA\\AppData\\Local\\Temp/ipykernel_14232/2309356834.py:31: FutureWarning: Pass y=[-0.00168746 -0.00159611 -0.00593    ... -0.01282516 -0.01200111\n",
      "  0.        ] as keyword args. From version 0.10 passing these as positional arguments will result in an error\n",
      "  if librosa.get_duration(signal)>10:\n",
      "C:\\Users\\TUKUNA\\AppData\\Local\\Temp/ipykernel_14232/2309356834.py:40: FutureWarning: Pass y=[-0.00168746 -0.00159611 -0.00593    ...  0.03126545  0.00302827\n",
      "  0.03743399] as keyword args. From version 0.10 passing these as positional arguments will result in an error\n",
      "  mfcc= librosa.feature.mfcc(signal[start_sample:finish_sample],\n",
      "C:\\Users\\TUKUNA\\AppData\\Local\\Temp/ipykernel_14232/2309356834.py:40: FutureWarning: Pass y=[-0.00622495  0.02890501 -0.00946954 ... -0.01282516 -0.01200111\n",
      "  0.        ] as keyword args. From version 0.10 passing these as positional arguments will result in an error\n",
      "  mfcc= librosa.feature.mfcc(signal[start_sample:finish_sample],\n"
     ]
    },
    {
     "name": "stdout",
     "output_type": "stream",
     "text": [
      "ocean_noise_data\\atlantic_spotted_dolphin\\6102603C.wav, segment:0\n"
     ]
    },
    {
     "name": "stderr",
     "output_type": "stream",
     "text": [
      "C:\\Users\\TUKUNA\\AppData\\Local\\Temp/ipykernel_14232/2309356834.py:31: FutureWarning: Pass y=[0.01345009 0.02665157 0.0193946  ... 0.01343829 0.0120712  0.        ] as keyword args. From version 0.10 passing these as positional arguments will result in an error\n",
      "  if librosa.get_duration(signal)>10:\n",
      "C:\\Users\\TUKUNA\\AppData\\Local\\Temp/ipykernel_14232/2309356834.py:40: FutureWarning: Pass y=[0.01345009 0.02665157 0.0193946  ... 0.01509102 0.00732158 0.02114434] as keyword args. From version 0.10 passing these as positional arguments will result in an error\n",
      "  mfcc= librosa.feature.mfcc(signal[start_sample:finish_sample],\n",
      "C:\\Users\\TUKUNA\\AppData\\Local\\Temp/ipykernel_14232/2309356834.py:40: FutureWarning: Pass y=[0.01382088 0.01217766 0.01426607 ... 0.01343829 0.0120712  0.        ] as keyword args. From version 0.10 passing these as positional arguments will result in an error\n",
      "  mfcc= librosa.feature.mfcc(signal[start_sample:finish_sample],\n"
     ]
    },
    {
     "name": "stdout",
     "output_type": "stream",
     "text": [
      "ocean_noise_data\\atlantic_spotted_dolphin\\6102603E.wav, segment:0\n"
     ]
    },
    {
     "name": "stderr",
     "output_type": "stream",
     "text": [
      "C:\\Users\\TUKUNA\\AppData\\Local\\Temp/ipykernel_14232/2309356834.py:31: FutureWarning: Pass y=[-0.00780111 -0.02052963 -0.01525149 ...  0.01637411  0.0182412\n",
      "  0.        ] as keyword args. From version 0.10 passing these as positional arguments will result in an error\n",
      "  if librosa.get_duration(signal)>10:\n",
      "C:\\Users\\TUKUNA\\AppData\\Local\\Temp/ipykernel_14232/2309356834.py:40: FutureWarning: Pass y=[-0.00780111 -0.02052963 -0.01525149 ... -0.0052048  -0.00764749\n",
      " -0.00147072] as keyword args. From version 0.10 passing these as positional arguments will result in an error\n",
      "  mfcc= librosa.feature.mfcc(signal[start_sample:finish_sample],\n",
      "C:\\Users\\TUKUNA\\AppData\\Local\\Temp/ipykernel_14232/2309356834.py:40: FutureWarning: Pass y=[-0.01081848 -0.00220974 -0.01271158 ...  0.01637411  0.0182412\n",
      "  0.        ] as keyword args. From version 0.10 passing these as positional arguments will result in an error\n",
      "  mfcc= librosa.feature.mfcc(signal[start_sample:finish_sample],\n"
     ]
    },
    {
     "name": "stdout",
     "output_type": "stream",
     "text": [
      "ocean_noise_data\\atlantic_spotted_dolphin\\6102603F.wav, segment:0\n"
     ]
    },
    {
     "name": "stderr",
     "output_type": "stream",
     "text": [
      "C:\\Users\\TUKUNA\\AppData\\Local\\Temp/ipykernel_14232/2309356834.py:31: FutureWarning: Pass y=[-0.00325135 -0.01008122 -0.01106625 ...  0.02112174  0.01160978\n",
      "  0.        ] as keyword args. From version 0.10 passing these as positional arguments will result in an error\n",
      "  if librosa.get_duration(signal)>10:\n",
      "C:\\Users\\TUKUNA\\AppData\\Local\\Temp/ipykernel_14232/2309356834.py:40: FutureWarning: Pass y=[-0.00325135 -0.01008122 -0.01106625 ... -0.07592485  0.04038128\n",
      " -0.08242611] as keyword args. From version 0.10 passing these as positional arguments will result in an error\n",
      "  mfcc= librosa.feature.mfcc(signal[start_sample:finish_sample],\n",
      "C:\\Users\\TUKUNA\\AppData\\Local\\Temp/ipykernel_14232/2309356834.py:40: FutureWarning: Pass y=[-0.02448811 -0.01186419 -0.0695575  ...  0.02112174  0.01160978\n",
      "  0.        ] as keyword args. From version 0.10 passing these as positional arguments will result in an error\n",
      "  mfcc= librosa.feature.mfcc(signal[start_sample:finish_sample],\n"
     ]
    },
    {
     "name": "stdout",
     "output_type": "stream",
     "text": [
      "ocean_noise_data\\atlantic_spotted_dolphin\\6102603I.wav, segment:0\n"
     ]
    },
    {
     "name": "stderr",
     "output_type": "stream",
     "text": [
      "C:\\Users\\TUKUNA\\AppData\\Local\\Temp/ipykernel_14232/2309356834.py:31: FutureWarning: Pass y=[ 0.00999203  0.00712342  0.00626778 ... -0.01133095 -0.03061924\n",
      "  0.        ] as keyword args. From version 0.10 passing these as positional arguments will result in an error\n",
      "  if librosa.get_duration(signal)>10:\n",
      "C:\\Users\\TUKUNA\\AppData\\Local\\Temp/ipykernel_14232/2309356834.py:40: FutureWarning: Pass y=[0.00999203 0.00712342 0.00626778 ... 0.01100586 0.03553746 0.01754075] as keyword args. From version 0.10 passing these as positional arguments will result in an error\n",
      "  mfcc= librosa.feature.mfcc(signal[start_sample:finish_sample],\n",
      "C:\\Users\\TUKUNA\\AppData\\Local\\Temp/ipykernel_14232/2309356834.py:40: FutureWarning: Pass y=[ 0.01669308  0.00492263  0.01735138 ... -0.01133095 -0.03061924\n",
      "  0.        ] as keyword args. From version 0.10 passing these as positional arguments will result in an error\n",
      "  mfcc= librosa.feature.mfcc(signal[start_sample:finish_sample],\n"
     ]
    },
    {
     "name": "stdout",
     "output_type": "stream",
     "text": [
      "ocean_noise_data\\atlantic_spotted_dolphin\\6102603L.wav, segment:0\n"
     ]
    },
    {
     "name": "stderr",
     "output_type": "stream",
     "text": [
      "C:\\Users\\TUKUNA\\AppData\\Local\\Temp/ipykernel_14232/2309356834.py:31: FutureWarning: Pass y=[-0.01049927 -0.01743991 -0.02465014 ... -0.00434301 -0.00107696\n",
      "  0.        ] as keyword args. From version 0.10 passing these as positional arguments will result in an error\n",
      "  if librosa.get_duration(signal)>10:\n",
      "C:\\Users\\TUKUNA\\AppData\\Local\\Temp/ipykernel_14232/2309356834.py:40: FutureWarning: Pass y=[-0.01049927 -0.01743991 -0.02465014 ... -0.0335185  -0.05345943\n",
      "  0.00386964] as keyword args. From version 0.10 passing these as positional arguments will result in an error\n",
      "  mfcc= librosa.feature.mfcc(signal[start_sample:finish_sample],\n",
      "C:\\Users\\TUKUNA\\AppData\\Local\\Temp/ipykernel_14232/2309356834.py:40: FutureWarning: Pass y=[-0.02782765 -0.02961323  0.00992029 ... -0.00434301 -0.00107696\n",
      "  0.        ] as keyword args. From version 0.10 passing these as positional arguments will result in an error\n",
      "  mfcc= librosa.feature.mfcc(signal[start_sample:finish_sample],\n"
     ]
    },
    {
     "name": "stdout",
     "output_type": "stream",
     "text": [
      "ocean_noise_data\\atlantic_spotted_dolphin\\6102603O.wav, segment:0\n"
     ]
    },
    {
     "name": "stderr",
     "output_type": "stream",
     "text": [
      "C:\\Users\\TUKUNA\\AppData\\Local\\Temp/ipykernel_14232/2309356834.py:31: FutureWarning: Pass y=[-0.0028288   0.00311815  0.00226939 ...  0.01206316  0.00185503\n",
      "  0.        ] as keyword args. From version 0.10 passing these as positional arguments will result in an error\n",
      "  if librosa.get_duration(signal)>10:\n",
      "C:\\Users\\TUKUNA\\AppData\\Local\\Temp/ipykernel_14232/2309356834.py:40: FutureWarning: Pass y=[-0.0028288   0.00311815  0.00226939 ...  0.01763981  0.09947988\n",
      " -0.04435756] as keyword args. From version 0.10 passing these as positional arguments will result in an error\n",
      "  mfcc= librosa.feature.mfcc(signal[start_sample:finish_sample],\n",
      "C:\\Users\\TUKUNA\\AppData\\Local\\Temp/ipykernel_14232/2309356834.py:40: FutureWarning: Pass y=[ 0.00272804  0.10340568 -0.03053716 ...  0.01206316  0.00185503\n",
      "  0.        ] as keyword args. From version 0.10 passing these as positional arguments will result in an error\n",
      "  mfcc= librosa.feature.mfcc(signal[start_sample:finish_sample],\n"
     ]
    },
    {
     "name": "stdout",
     "output_type": "stream",
     "text": [
      "ocean_noise_data\\atlantic_spotted_dolphin\\6102603S.wav, segment:0\n"
     ]
    },
    {
     "name": "stderr",
     "output_type": "stream",
     "text": [
      "C:\\Users\\TUKUNA\\AppData\\Local\\Temp/ipykernel_14232/2309356834.py:31: FutureWarning: Pass y=[0.01406967 0.01590844 0.02035329 ... 0.01304185 0.01276132 0.        ] as keyword args. From version 0.10 passing these as positional arguments will result in an error\n",
      "  if librosa.get_duration(signal)>10:\n",
      "C:\\Users\\TUKUNA\\AppData\\Local\\Temp/ipykernel_14232/2309356834.py:40: FutureWarning: Pass y=[0.01406967 0.01590844 0.02035329 ... 0.01195806 0.00868159 0.00538337] as keyword args. From version 0.10 passing these as positional arguments will result in an error\n",
      "  mfcc= librosa.feature.mfcc(signal[start_sample:finish_sample],\n",
      "C:\\Users\\TUKUNA\\AppData\\Local\\Temp/ipykernel_14232/2309356834.py:40: FutureWarning: Pass y=[0.02482794 0.01251747 0.02208919 ... 0.01304185 0.01276132 0.        ] as keyword args. From version 0.10 passing these as positional arguments will result in an error\n",
      "  mfcc= librosa.feature.mfcc(signal[start_sample:finish_sample],\n"
     ]
    },
    {
     "name": "stdout",
     "output_type": "stream",
     "text": [
      "ocean_noise_data\\atlantic_spotted_dolphin\\6102603V.wav, segment:0\n"
     ]
    },
    {
     "name": "stderr",
     "output_type": "stream",
     "text": [
      "C:\\Users\\TUKUNA\\AppData\\Local\\Temp/ipykernel_14232/2309356834.py:31: FutureWarning: Pass y=[-0.00712105 -0.00921207 -0.01037373 ...  0.00112585  0.00957836\n",
      "  0.        ] as keyword args. From version 0.10 passing these as positional arguments will result in an error\n",
      "  if librosa.get_duration(signal)>10:\n",
      "C:\\Users\\TUKUNA\\AppData\\Local\\Temp/ipykernel_14232/2309356834.py:40: FutureWarning: Pass y=[-0.00712105 -0.00921207 -0.01037373 ... -0.00485393 -0.01339544\n",
      " -0.01382507] as keyword args. From version 0.10 passing these as positional arguments will result in an error\n",
      "  mfcc= librosa.feature.mfcc(signal[start_sample:finish_sample],\n",
      "C:\\Users\\TUKUNA\\AppData\\Local\\Temp/ipykernel_14232/2309356834.py:40: FutureWarning: Pass y=[-0.0084034   0.00910763 -0.02258159 ...  0.00112585  0.00957836\n",
      "  0.        ] as keyword args. From version 0.10 passing these as positional arguments will result in an error\n",
      "  mfcc= librosa.feature.mfcc(signal[start_sample:finish_sample],\n"
     ]
    },
    {
     "name": "stdout",
     "output_type": "stream",
     "text": [
      "ocean_noise_data\\atlantic_spotted_dolphin\\6102603W.wav, segment:0\n"
     ]
    },
    {
     "name": "stderr",
     "output_type": "stream",
     "text": [
      "C:\\Users\\TUKUNA\\AppData\\Local\\Temp/ipykernel_14232/2309356834.py:31: FutureWarning: Pass y=[ 0.00376502  0.00509952 -0.00381952 ...  0.02095985  0.02004265\n",
      "  0.        ] as keyword args. From version 0.10 passing these as positional arguments will result in an error\n",
      "  if librosa.get_duration(signal)>10:\n",
      "C:\\Users\\TUKUNA\\AppData\\Local\\Temp/ipykernel_14232/2309356834.py:40: FutureWarning: Pass y=[ 0.00376502  0.00509952 -0.00381952 ... -0.0499896   0.11643863\n",
      "  0.11984205] as keyword args. From version 0.10 passing these as positional arguments will result in an error\n",
      "  mfcc= librosa.feature.mfcc(signal[start_sample:finish_sample],\n",
      "C:\\Users\\TUKUNA\\AppData\\Local\\Temp/ipykernel_14232/2309356834.py:40: FutureWarning: Pass y=[-0.0589548   0.17270626  0.04090219 ...  0.02095985  0.02004265\n",
      "  0.        ] as keyword args. From version 0.10 passing these as positional arguments will result in an error\n",
      "  mfcc= librosa.feature.mfcc(signal[start_sample:finish_sample],\n"
     ]
    },
    {
     "name": "stdout",
     "output_type": "stream",
     "text": [
      "ocean_noise_data\\atlantic_spotted_dolphin\\6102603X.wav, segment:0\n"
     ]
    },
    {
     "name": "stderr",
     "output_type": "stream",
     "text": [
      "C:\\Users\\TUKUNA\\AppData\\Local\\Temp/ipykernel_14232/2309356834.py:31: FutureWarning: Pass y=[0.01065755 0.02095095 0.0149332  ... 0.01400865 0.01421752 0.        ] as keyword args. From version 0.10 passing these as positional arguments will result in an error\n",
      "  if librosa.get_duration(signal)>10:\n",
      "C:\\Users\\TUKUNA\\AppData\\Local\\Temp/ipykernel_14232/2309356834.py:40: FutureWarning: Pass y=[ 0.01065755  0.02095095  0.0149332  ...  0.13366845 -0.16800725\n",
      "  0.11943414] as keyword args. From version 0.10 passing these as positional arguments will result in an error\n",
      "  mfcc= librosa.feature.mfcc(signal[start_sample:finish_sample],\n",
      "C:\\Users\\TUKUNA\\AppData\\Local\\Temp/ipykernel_14232/2309356834.py:40: FutureWarning: Pass y=[-0.02051496 -0.07353669  0.14306048 ...  0.01400865  0.01421752\n",
      "  0.        ] as keyword args. From version 0.10 passing these as positional arguments will result in an error\n",
      "  mfcc= librosa.feature.mfcc(signal[start_sample:finish_sample],\n"
     ]
    },
    {
     "name": "stdout",
     "output_type": "stream",
     "text": [
      "ocean_noise_data\\atlantic_spotted_dolphin\\6102603Z.wav, segment:0\n"
     ]
    },
    {
     "name": "stderr",
     "output_type": "stream",
     "text": [
      "C:\\Users\\TUKUNA\\AppData\\Local\\Temp/ipykernel_14232/2309356834.py:31: FutureWarning: Pass y=[-0.00900569 -0.01758536 -0.01391932 ...  0.03372641  0.0291685\n",
      "  0.        ] as keyword args. From version 0.10 passing these as positional arguments will result in an error\n",
      "  if librosa.get_duration(signal)>10:\n",
      "C:\\Users\\TUKUNA\\AppData\\Local\\Temp/ipykernel_14232/2309356834.py:40: FutureWarning: Pass y=[-0.00900569 -0.01758536 -0.01391932 ...  0.04525002 -0.00291162\n",
      " -0.06705032] as keyword args. From version 0.10 passing these as positional arguments will result in an error\n",
      "  mfcc= librosa.feature.mfcc(signal[start_sample:finish_sample],\n",
      "C:\\Users\\TUKUNA\\AppData\\Local\\Temp/ipykernel_14232/2309356834.py:40: FutureWarning: Pass y=[ 0.03277636 -0.06983747  0.02557145 ...  0.03372641  0.0291685\n",
      "  0.        ] as keyword args. From version 0.10 passing these as positional arguments will result in an error\n",
      "  mfcc= librosa.feature.mfcc(signal[start_sample:finish_sample],\n"
     ]
    },
    {
     "name": "stdout",
     "output_type": "stream",
     "text": [
      "ocean_noise_data\\atlantic_spotted_dolphin\\6102604J.wav, segment:0\n"
     ]
    },
    {
     "name": "stderr",
     "output_type": "stream",
     "text": [
      "C:\\Users\\TUKUNA\\AppData\\Local\\Temp/ipykernel_14232/2309356834.py:31: FutureWarning: Pass y=[-0.00863253 -0.0128462  -0.0122377  ...  0.0225473   0.01923296\n",
      "  0.        ] as keyword args. From version 0.10 passing these as positional arguments will result in an error\n",
      "  if librosa.get_duration(signal)>10:\n",
      "C:\\Users\\TUKUNA\\AppData\\Local\\Temp/ipykernel_14232/2309356834.py:40: FutureWarning: Pass y=[-0.00863253 -0.0128462  -0.0122377  ... -0.19093013  0.22691552\n",
      " -0.16820797] as keyword args. From version 0.10 passing these as positional arguments will result in an error\n",
      "  mfcc= librosa.feature.mfcc(signal[start_sample:finish_sample],\n",
      "C:\\Users\\TUKUNA\\AppData\\Local\\Temp/ipykernel_14232/2309356834.py:40: FutureWarning: Pass y=[ 0.19039312 -0.08011352 -0.2659649  ...  0.0225473   0.01923296\n",
      "  0.        ] as keyword args. From version 0.10 passing these as positional arguments will result in an error\n",
      "  mfcc= librosa.feature.mfcc(signal[start_sample:finish_sample],\n"
     ]
    },
    {
     "name": "stdout",
     "output_type": "stream",
     "text": [
      "ocean_noise_data\\atlantic_spotted_dolphin\\6102604K.wav, segment:0\n"
     ]
    },
    {
     "name": "stderr",
     "output_type": "stream",
     "text": [
      "C:\\Users\\TUKUNA\\AppData\\Local\\Temp/ipykernel_14232/2309356834.py:31: FutureWarning: Pass y=[-0.01166124 -0.01981863 -0.01317581 ...  0.00658187  0.00186737\n",
      "  0.        ] as keyword args. From version 0.10 passing these as positional arguments will result in an error\n",
      "  if librosa.get_duration(signal)>10:\n",
      "C:\\Users\\TUKUNA\\AppData\\Local\\Temp/ipykernel_14232/2309356834.py:40: FutureWarning: Pass y=[-0.01166124 -0.01981863 -0.01317581 ...  0.1341352  -0.45000497\n",
      "  0.2825278 ] as keyword args. From version 0.10 passing these as positional arguments will result in an error\n",
      "  mfcc= librosa.feature.mfcc(signal[start_sample:finish_sample],\n",
      "C:\\Users\\TUKUNA\\AppData\\Local\\Temp/ipykernel_14232/2309356834.py:40: FutureWarning: Pass y=[-0.23637246 -0.1358148   0.16405363 ...  0.00658187  0.00186737\n",
      "  0.        ] as keyword args. From version 0.10 passing these as positional arguments will result in an error\n",
      "  mfcc= librosa.feature.mfcc(signal[start_sample:finish_sample],\n",
      "C:\\Users\\TUKUNA\\AppData\\Local\\Temp/ipykernel_14232/2309356834.py:31: FutureWarning: Pass y=[ 0.05395766 -0.02969466 -0.0845062  ...  0.04735458  0.053809\n",
      "  0.        ] as keyword args. From version 0.10 passing these as positional arguments will result in an error\n",
      "  if librosa.get_duration(signal)>10:\n",
      "C:\\Users\\TUKUNA\\AppData\\Local\\Temp/ipykernel_14232/2309356834.py:40: FutureWarning: Pass y=[ 0.05395766 -0.02969466 -0.0845062  ... -0.05044243 -0.0474713\n",
      " -0.06713267] as keyword args. From version 0.10 passing these as positional arguments will result in an error\n",
      "  mfcc= librosa.feature.mfcc(signal[start_sample:finish_sample],\n",
      "C:\\Users\\TUKUNA\\AppData\\Local\\Temp/ipykernel_14232/2309356834.py:40: FutureWarning: Pass y=[-0.07493294 -0.06418832 -0.03911835 ...  0.09671258  0.09970269\n",
      "  0.10489419] as keyword args. From version 0.10 passing these as positional arguments will result in an error\n",
      "  mfcc= librosa.feature.mfcc(signal[start_sample:finish_sample],\n",
      "C:\\Users\\TUKUNA\\AppData\\Local\\Temp/ipykernel_14232/2309356834.py:40: FutureWarning: Pass y=[ 0.11947942  0.13011205  0.13233584 ...  0.0153345  -0.01221008\n",
      " -0.02225426] as keyword args. From version 0.10 passing these as positional arguments will result in an error\n",
      "  mfcc= librosa.feature.mfcc(signal[start_sample:finish_sample],\n",
      "C:\\Users\\TUKUNA\\AppData\\Local\\Temp/ipykernel_14232/2309356834.py:40: FutureWarning: Pass y=[-0.01690529 -0.03147322 -0.03367441 ...  0.04735458  0.053809\n",
      "  0.        ] as keyword args. From version 0.10 passing these as positional arguments will result in an error\n",
      "  mfcc= librosa.feature.mfcc(signal[start_sample:finish_sample],\n"
     ]
    },
    {
     "name": "stdout",
     "output_type": "stream",
     "text": [
      "ocean_noise_data\\atlantic_spotted_dolphin\\6102604L.wav, segment:0\n",
      "\n",
      " processingocean_noise_data\\bearded_seal\n",
      "ocean_noise_data\\bearded_seal\\66038001.wav, segment:0\n",
      "ocean_noise_data\\bearded_seal\\66038001.wav, segment:1\n",
      "ocean_noise_data\\bearded_seal\\66038001.wav, segment:2\n"
     ]
    },
    {
     "name": "stderr",
     "output_type": "stream",
     "text": [
      "C:\\Users\\TUKUNA\\AppData\\Local\\Temp/ipykernel_14232/2309356834.py:31: FutureWarning: Pass y=[-0.0261832  -0.03644561 -0.0403228  ...  0.05064036  0.04353176\n",
      "  0.        ] as keyword args. From version 0.10 passing these as positional arguments will result in an error\n",
      "  if librosa.get_duration(signal)>10:\n",
      "C:\\Users\\TUKUNA\\AppData\\Local\\Temp/ipykernel_14232/2309356834.py:40: FutureWarning: Pass y=[-0.0261832  -0.03644561 -0.0403228  ...  0.05658259  0.05771198\n",
      "  0.06376431] as keyword args. From version 0.10 passing these as positional arguments will result in an error\n",
      "  mfcc= librosa.feature.mfcc(signal[start_sample:finish_sample],\n",
      "C:\\Users\\TUKUNA\\AppData\\Local\\Temp/ipykernel_14232/2309356834.py:40: FutureWarning: Pass y=[ 0.05834782  0.03636084  0.02903426 ...  0.02363599  0.01173119\n",
      " -0.01327824] as keyword args. From version 0.10 passing these as positional arguments will result in an error\n",
      "  mfcc= librosa.feature.mfcc(signal[start_sample:finish_sample],\n",
      "C:\\Users\\TUKUNA\\AppData\\Local\\Temp/ipykernel_14232/2309356834.py:40: FutureWarning: Pass y=[-0.01375469  0.00470098  0.00169054 ... -0.03224395 -0.00101748\n",
      "  0.03324782] as keyword args. From version 0.10 passing these as positional arguments will result in an error\n",
      "  mfcc= librosa.feature.mfcc(signal[start_sample:finish_sample],\n",
      "C:\\Users\\TUKUNA\\AppData\\Local\\Temp/ipykernel_14232/2309356834.py:40: FutureWarning: Pass y=[ 0.08413976  0.11122405  0.11166093 ... -0.00279195 -0.00087834\n",
      " -0.02222949] as keyword args. From version 0.10 passing these as positional arguments will result in an error\n",
      "  mfcc= librosa.feature.mfcc(signal[start_sample:finish_sample],\n",
      "C:\\Users\\TUKUNA\\AppData\\Local\\Temp/ipykernel_14232/2309356834.py:40: FutureWarning: Pass y=[-0.01743302 -0.00257461 -0.01087165 ...  0.04806828  0.04580923\n",
      "  0.01675373] as keyword args. From version 0.10 passing these as positional arguments will result in an error\n",
      "  mfcc= librosa.feature.mfcc(signal[start_sample:finish_sample],\n"
     ]
    },
    {
     "name": "stdout",
     "output_type": "stream",
     "text": [
      "ocean_noise_data\\bearded_seal\\66038002.wav, segment:0\n",
      "ocean_noise_data\\bearded_seal\\66038002.wav, segment:1\n",
      "ocean_noise_data\\bearded_seal\\66038002.wav, segment:2\n",
      "ocean_noise_data\\bearded_seal\\66038002.wav, segment:3\n",
      "ocean_noise_data\\bearded_seal\\66038002.wav, segment:4\n"
     ]
    },
    {
     "name": "stderr",
     "output_type": "stream",
     "text": [
      "C:\\Users\\TUKUNA\\AppData\\Local\\Temp/ipykernel_14232/2309356834.py:31: FutureWarning: Pass y=[ 0.00462201  0.00615979 -0.00117065 ... -0.0478799  -0.02081016\n",
      "  0.        ] as keyword args. From version 0.10 passing these as positional arguments will result in an error\n",
      "  if librosa.get_duration(signal)>10:\n",
      "C:\\Users\\TUKUNA\\AppData\\Local\\Temp/ipykernel_14232/2309356834.py:40: FutureWarning: Pass y=[ 0.00462201  0.00615979 -0.00117065 ... -0.02895528 -0.01924132\n",
      " -0.01542296] as keyword args. From version 0.10 passing these as positional arguments will result in an error\n",
      "  mfcc= librosa.feature.mfcc(signal[start_sample:finish_sample],\n",
      "C:\\Users\\TUKUNA\\AppData\\Local\\Temp/ipykernel_14232/2309356834.py:40: FutureWarning: Pass y=[-0.02953738 -0.03742568 -0.03100196 ... -0.00994994 -0.02382808\n",
      " -0.0262827 ] as keyword args. From version 0.10 passing these as positional arguments will result in an error\n",
      "  mfcc= librosa.feature.mfcc(signal[start_sample:finish_sample],\n",
      "C:\\Users\\TUKUNA\\AppData\\Local\\Temp/ipykernel_14232/2309356834.py:40: FutureWarning: Pass y=[0.00159463 0.02677717 0.00215512 ... 0.00623858 0.05135685 0.04673624] as keyword args. From version 0.10 passing these as positional arguments will result in an error\n",
      "  mfcc= librosa.feature.mfcc(signal[start_sample:finish_sample],\n",
      "C:\\Users\\TUKUNA\\AppData\\Local\\Temp/ipykernel_14232/2309356834.py:40: FutureWarning: Pass y=[ 0.01467935 -0.00088983  0.04013661 ... -0.02020972 -0.05148204\n",
      " -0.02283916] as keyword args. From version 0.10 passing these as positional arguments will result in an error\n",
      "  mfcc= librosa.feature.mfcc(signal[start_sample:finish_sample],\n",
      "C:\\Users\\TUKUNA\\AppData\\Local\\Temp/ipykernel_14232/2309356834.py:40: FutureWarning: Pass y=[ 0.02322075  0.00865497 -0.01608327 ... -0.03644353 -0.02638421\n",
      " -0.07194079] as keyword args. From version 0.10 passing these as positional arguments will result in an error\n",
      "  mfcc= librosa.feature.mfcc(signal[start_sample:finish_sample],\n"
     ]
    },
    {
     "name": "stdout",
     "output_type": "stream",
     "text": [
      "ocean_noise_data\\bearded_seal\\66038003.wav, segment:0\n",
      "ocean_noise_data\\bearded_seal\\66038003.wav, segment:1\n",
      "ocean_noise_data\\bearded_seal\\66038003.wav, segment:2\n",
      "ocean_noise_data\\bearded_seal\\66038003.wav, segment:3\n",
      "ocean_noise_data\\bearded_seal\\66038003.wav, segment:4\n"
     ]
    },
    {
     "name": "stderr",
     "output_type": "stream",
     "text": [
      "C:\\Users\\TUKUNA\\AppData\\Local\\Temp/ipykernel_14232/2309356834.py:31: FutureWarning: Pass y=[ 0.00981837 -0.07114782 -0.05578198 ...  0.00509801 -0.03467541\n",
      "  0.        ] as keyword args. From version 0.10 passing these as positional arguments will result in an error\n",
      "  if librosa.get_duration(signal)>10:\n",
      "C:\\Users\\TUKUNA\\AppData\\Local\\Temp/ipykernel_14232/2309356834.py:40: FutureWarning: Pass y=[ 0.00981837 -0.07114782 -0.05578198 ...  0.02870603  0.084048\n",
      "  0.11205954] as keyword args. From version 0.10 passing these as positional arguments will result in an error\n",
      "  mfcc= librosa.feature.mfcc(signal[start_sample:finish_sample],\n",
      "C:\\Users\\TUKUNA\\AppData\\Local\\Temp/ipykernel_14232/2309356834.py:40: FutureWarning: Pass y=[0.09253222 0.05195685 0.00223146 ... 0.04560065 0.08355681 0.0491177 ] as keyword args. From version 0.10 passing these as positional arguments will result in an error\n",
      "  mfcc= librosa.feature.mfcc(signal[start_sample:finish_sample],\n",
      "C:\\Users\\TUKUNA\\AppData\\Local\\Temp/ipykernel_14232/2309356834.py:40: FutureWarning: Pass y=[-0.01567953 -0.03424934 -0.02887572 ... -0.07020046 -0.11206876\n",
      " -0.11990712] as keyword args. From version 0.10 passing these as positional arguments will result in an error\n",
      "  mfcc= librosa.feature.mfcc(signal[start_sample:finish_sample],\n",
      "C:\\Users\\TUKUNA\\AppData\\Local\\Temp/ipykernel_14232/2309356834.py:40: FutureWarning: Pass y=[-0.0980738  -0.0681614  -0.0204399  ... -0.02221046 -0.05690474\n",
      " -0.05842873] as keyword args. From version 0.10 passing these as positional arguments will result in an error\n",
      "  mfcc= librosa.feature.mfcc(signal[start_sample:finish_sample],\n",
      "C:\\Users\\TUKUNA\\AppData\\Local\\Temp/ipykernel_14232/2309356834.py:40: FutureWarning: Pass y=[-0.0693252  -0.06646012 -0.03613188 ... -0.14649023 -0.18041702\n",
      " -0.16378988] as keyword args. From version 0.10 passing these as positional arguments will result in an error\n",
      "  mfcc= librosa.feature.mfcc(signal[start_sample:finish_sample],\n"
     ]
    },
    {
     "name": "stdout",
     "output_type": "stream",
     "text": [
      "ocean_noise_data\\bearded_seal\\66038004.wav, segment:0\n",
      "ocean_noise_data\\bearded_seal\\66038004.wav, segment:1\n",
      "ocean_noise_data\\bearded_seal\\66038004.wav, segment:2\n",
      "ocean_noise_data\\bearded_seal\\66038004.wav, segment:3\n",
      "ocean_noise_data\\bearded_seal\\66038004.wav, segment:4\n"
     ]
    },
    {
     "name": "stderr",
     "output_type": "stream",
     "text": [
      "C:\\Users\\TUKUNA\\AppData\\Local\\Temp/ipykernel_14232/2309356834.py:31: FutureWarning: Pass y=[-0.00889254  0.01176848  0.05641158 ... -0.03143781 -0.03857978\n",
      "  0.        ] as keyword args. From version 0.10 passing these as positional arguments will result in an error\n",
      "  if librosa.get_duration(signal)>10:\n",
      "C:\\Users\\TUKUNA\\AppData\\Local\\Temp/ipykernel_14232/2309356834.py:40: FutureWarning: Pass y=[-0.00889254  0.01176848  0.05641158 ... -0.0872338  -0.12139476\n",
      " -0.13460693] as keyword args. From version 0.10 passing these as positional arguments will result in an error\n",
      "  mfcc= librosa.feature.mfcc(signal[start_sample:finish_sample],\n",
      "C:\\Users\\TUKUNA\\AppData\\Local\\Temp/ipykernel_14232/2309356834.py:40: FutureWarning: Pass y=[-0.11597941 -0.09155268 -0.07289638 ... -0.15789405 -0.10967407\n",
      " -0.07486165] as keyword args. From version 0.10 passing these as positional arguments will result in an error\n",
      "  mfcc= librosa.feature.mfcc(signal[start_sample:finish_sample],\n",
      "C:\\Users\\TUKUNA\\AppData\\Local\\Temp/ipykernel_14232/2309356834.py:40: FutureWarning: Pass y=[-0.02976562  0.03320299  0.09070164 ... -0.01882538 -0.01720113\n",
      " -0.01276091] as keyword args. From version 0.10 passing these as positional arguments will result in an error\n",
      "  mfcc= librosa.feature.mfcc(signal[start_sample:finish_sample],\n",
      "C:\\Users\\TUKUNA\\AppData\\Local\\Temp/ipykernel_14232/2309356834.py:40: FutureWarning: Pass y=[-0.03257547 -0.0443298  -0.04665088 ...  0.18959238  0.24992147\n",
      "  0.29544187] as keyword args. From version 0.10 passing these as positional arguments will result in an error\n",
      "  mfcc= librosa.feature.mfcc(signal[start_sample:finish_sample],\n",
      "C:\\Users\\TUKUNA\\AppData\\Local\\Temp/ipykernel_14232/2309356834.py:40: FutureWarning: Pass y=[ 0.3146097   0.31060392  0.27277717 ... -0.06124572  0.01182505\n",
      "  0.07406563] as keyword args. From version 0.10 passing these as positional arguments will result in an error\n",
      "  mfcc= librosa.feature.mfcc(signal[start_sample:finish_sample],\n",
      "C:\\Users\\TUKUNA\\AppData\\Local\\Temp/ipykernel_14232/2309356834.py:31: FutureWarning: Pass y=[-0.01689019 -0.02965779 -0.01137287 ... -0.04941517 -0.06176393\n",
      "  0.        ] as keyword args. From version 0.10 passing these as positional arguments will result in an error\n",
      "  if librosa.get_duration(signal)>10:\n",
      "C:\\Users\\TUKUNA\\AppData\\Local\\Temp/ipykernel_14232/2309356834.py:40: FutureWarning: Pass y=[-0.01689019 -0.02965779 -0.01137287 ... -0.05773129 -0.06253073\n",
      " -0.0579389 ] as keyword args. From version 0.10 passing these as positional arguments will result in an error\n",
      "  mfcc= librosa.feature.mfcc(signal[start_sample:finish_sample],\n"
     ]
    },
    {
     "name": "stdout",
     "output_type": "stream",
     "text": [
      "ocean_noise_data\\bearded_seal\\66038005.wav, segment:0\n",
      "ocean_noise_data\\bearded_seal\\66038005.wav, segment:1\n",
      "ocean_noise_data\\bearded_seal\\66038005.wav, segment:2\n",
      "ocean_noise_data\\bearded_seal\\66038005.wav, segment:3\n",
      "ocean_noise_data\\bearded_seal\\66038005.wav, segment:4\n",
      "ocean_noise_data\\bearded_seal\\66038007.wav, segment:0\n",
      "ocean_noise_data\\bearded_seal\\66038007.wav, segment:1\n",
      "ocean_noise_data\\bearded_seal\\66038007.wav, segment:2\n",
      "ocean_noise_data\\bearded_seal\\66038007.wav, segment:3\n",
      "ocean_noise_data\\bearded_seal\\66038007.wav, segment:4\n"
     ]
    },
    {
     "name": "stderr",
     "output_type": "stream",
     "text": [
      "C:\\Users\\TUKUNA\\AppData\\Local\\Temp/ipykernel_14232/2309356834.py:40: FutureWarning: Pass y=[-0.03050952 -0.00037311  0.01328153 ... -0.05723027 -0.0488293\n",
      " -0.03448304] as keyword args. From version 0.10 passing these as positional arguments will result in an error\n",
      "  mfcc= librosa.feature.mfcc(signal[start_sample:finish_sample],\n",
      "C:\\Users\\TUKUNA\\AppData\\Local\\Temp/ipykernel_14232/2309356834.py:40: FutureWarning: Pass y=[-0.01265812 -0.01007774 -0.01888766 ... -0.00919236 -0.01055816\n",
      " -0.02162685] as keyword args. From version 0.10 passing these as positional arguments will result in an error\n",
      "  mfcc= librosa.feature.mfcc(signal[start_sample:finish_sample],\n",
      "C:\\Users\\TUKUNA\\AppData\\Local\\Temp/ipykernel_14232/2309356834.py:40: FutureWarning: Pass y=[-0.02829204 -0.04393654 -0.08248225 ... -0.00179123  0.0059285\n",
      "  0.02061553] as keyword args. From version 0.10 passing these as positional arguments will result in an error\n",
      "  mfcc= librosa.feature.mfcc(signal[start_sample:finish_sample],\n",
      "C:\\Users\\TUKUNA\\AppData\\Local\\Temp/ipykernel_14232/2309356834.py:40: FutureWarning: Pass y=[ 0.02195319  0.03897511  0.06241483 ... -0.03614723 -0.02321528\n",
      " -0.01379211] as keyword args. From version 0.10 passing these as positional arguments will result in an error\n",
      "  mfcc= librosa.feature.mfcc(signal[start_sample:finish_sample],\n",
      "C:\\Users\\TUKUNA\\AppData\\Local\\Temp/ipykernel_14232/2309356834.py:31: FutureWarning: Pass y=[ 0.02110821  0.02445456  0.01341586 ... -0.0167737  -0.00873205\n",
      "  0.        ] as keyword args. From version 0.10 passing these as positional arguments will result in an error\n",
      "  if librosa.get_duration(signal)>10:\n",
      "C:\\Users\\TUKUNA\\AppData\\Local\\Temp/ipykernel_14232/2309356834.py:40: FutureWarning: Pass y=[0.02110821 0.02445456 0.01341586 ... 0.05627738 0.04192303 0.06336382] as keyword args. From version 0.10 passing these as positional arguments will result in an error\n",
      "  mfcc= librosa.feature.mfcc(signal[start_sample:finish_sample],\n"
     ]
    },
    {
     "name": "stdout",
     "output_type": "stream",
     "text": [
      "ocean_noise_data\\bearded_seal\\70025001.wav, segment:0\n",
      "ocean_noise_data\\bearded_seal\\70025001.wav, segment:1\n"
     ]
    },
    {
     "name": "stderr",
     "output_type": "stream",
     "text": [
      "C:\\Users\\TUKUNA\\AppData\\Local\\Temp/ipykernel_14232/2309356834.py:40: FutureWarning: Pass y=[ 0.07108776  0.03450869  0.0209938  ...  0.00953278  0.00463632\n",
      " -0.00887066] as keyword args. From version 0.10 passing these as positional arguments will result in an error\n",
      "  mfcc= librosa.feature.mfcc(signal[start_sample:finish_sample],\n",
      "C:\\Users\\TUKUNA\\AppData\\Local\\Temp/ipykernel_14232/2309356834.py:40: FutureWarning: Pass y=[-0.03304015 -0.03584353 -0.02640387 ... -0.0167737  -0.00873205\n",
      "  0.        ] as keyword args. From version 0.10 passing these as positional arguments will result in an error\n",
      "  mfcc= librosa.feature.mfcc(signal[start_sample:finish_sample],\n",
      "C:\\Users\\TUKUNA\\AppData\\Local\\Temp/ipykernel_14232/2309356834.py:31: FutureWarning: Pass y=[ 0.01502738  0.03677562  0.039364   ...  0.00451561 -0.01961248\n",
      "  0.        ] as keyword args. From version 0.10 passing these as positional arguments will result in an error\n",
      "  if librosa.get_duration(signal)>10:\n",
      "C:\\Users\\TUKUNA\\AppData\\Local\\Temp/ipykernel_14232/2309356834.py:40: FutureWarning: Pass y=[ 0.01502738  0.03677562  0.039364   ... -0.06850467 -0.04517514\n",
      " -0.08452924] as keyword args. From version 0.10 passing these as positional arguments will result in an error\n",
      "  mfcc= librosa.feature.mfcc(signal[start_sample:finish_sample],\n",
      "C:\\Users\\TUKUNA\\AppData\\Local\\Temp/ipykernel_14232/2309356834.py:40: FutureWarning: Pass y=[-0.13281308 -0.14255284 -0.10826034 ...  0.03758034  0.02545251\n",
      "  0.02825431] as keyword args. From version 0.10 passing these as positional arguments will result in an error\n",
      "  mfcc= librosa.feature.mfcc(signal[start_sample:finish_sample],\n",
      "C:\\Users\\TUKUNA\\AppData\\Local\\Temp/ipykernel_14232/2309356834.py:40: FutureWarning: Pass y=[ 0.02227901 -0.00697554 -0.00080388 ...  0.00451561 -0.01961248\n",
      "  0.        ] as keyword args. From version 0.10 passing these as positional arguments will result in an error\n",
      "  mfcc= librosa.feature.mfcc(signal[start_sample:finish_sample],\n"
     ]
    },
    {
     "name": "stdout",
     "output_type": "stream",
     "text": [
      "ocean_noise_data\\bearded_seal\\70025002.wav, segment:0\n",
      "ocean_noise_data\\bearded_seal\\70025002.wav, segment:1\n"
     ]
    },
    {
     "name": "stderr",
     "output_type": "stream",
     "text": [
      "C:\\Users\\TUKUNA\\AppData\\Local\\Temp/ipykernel_14232/2309356834.py:31: FutureWarning: Pass y=[-0.02133639 -0.05010136 -0.04036836 ...  0.01546484  0.01085037\n",
      "  0.        ] as keyword args. From version 0.10 passing these as positional arguments will result in an error\n",
      "  if librosa.get_duration(signal)>10:\n",
      "C:\\Users\\TUKUNA\\AppData\\Local\\Temp/ipykernel_14232/2309356834.py:40: FutureWarning: Pass y=[-0.02133639 -0.05010136 -0.04036836 ...  0.01753756  0.01241018\n",
      "  0.00957393] as keyword args. From version 0.10 passing these as positional arguments will result in an error\n",
      "  mfcc= librosa.feature.mfcc(signal[start_sample:finish_sample],\n",
      "C:\\Users\\TUKUNA\\AppData\\Local\\Temp/ipykernel_14232/2309356834.py:40: FutureWarning: Pass y=[-0.00127242  0.00679574  0.02324561 ... -0.0314679  -0.02759287\n",
      " -0.04526534] as keyword args. From version 0.10 passing these as positional arguments will result in an error\n",
      "  mfcc= librosa.feature.mfcc(signal[start_sample:finish_sample],\n",
      "C:\\Users\\TUKUNA\\AppData\\Local\\Temp/ipykernel_14232/2309356834.py:40: FutureWarning: Pass y=[-0.04787815 -0.018225   -0.01171012 ...  0.01546484  0.01085037\n",
      "  0.        ] as keyword args. From version 0.10 passing these as positional arguments will result in an error\n",
      "  mfcc= librosa.feature.mfcc(signal[start_sample:finish_sample],\n"
     ]
    },
    {
     "name": "stdout",
     "output_type": "stream",
     "text": [
      "ocean_noise_data\\bearded_seal\\70025003.wav, segment:0\n",
      "ocean_noise_data\\bearded_seal\\70025003.wav, segment:1\n"
     ]
    },
    {
     "name": "stderr",
     "output_type": "stream",
     "text": [
      "C:\\Users\\TUKUNA\\AppData\\Local\\Temp/ipykernel_14232/2309356834.py:31: FutureWarning: Pass y=[-0.02247969 -0.00814372 -0.0159188  ...  0.00113323  0.00435715\n",
      "  0.        ] as keyword args. From version 0.10 passing these as positional arguments will result in an error\n",
      "  if librosa.get_duration(signal)>10:\n",
      "C:\\Users\\TUKUNA\\AppData\\Local\\Temp/ipykernel_14232/2309356834.py:40: FutureWarning: Pass y=[-0.02247969 -0.00814372 -0.0159188  ...  0.03255685  0.02752621\n",
      "  0.02492013] as keyword args. From version 0.10 passing these as positional arguments will result in an error\n",
      "  mfcc= librosa.feature.mfcc(signal[start_sample:finish_sample],\n",
      "C:\\Users\\TUKUNA\\AppData\\Local\\Temp/ipykernel_14232/2309356834.py:40: FutureWarning: Pass y=[ 0.00780468  0.01733443  0.02909159 ... -0.08180551 -0.09667765\n",
      " -0.07599267] as keyword args. From version 0.10 passing these as positional arguments will result in an error\n",
      "  mfcc= librosa.feature.mfcc(signal[start_sample:finish_sample],\n",
      "C:\\Users\\TUKUNA\\AppData\\Local\\Temp/ipykernel_14232/2309356834.py:40: FutureWarning: Pass y=[-0.06284916 -0.05953711 -0.05407838 ...  0.00113323  0.00435715\n",
      "  0.        ] as keyword args. From version 0.10 passing these as positional arguments will result in an error\n",
      "  mfcc= librosa.feature.mfcc(signal[start_sample:finish_sample],\n",
      "C:\\Users\\TUKUNA\\AppData\\Local\\Temp/ipykernel_14232/2309356834.py:31: FutureWarning: Pass y=[0.0483103  0.04220315 0.01996101 ... 0.09453169 0.04711898 0.        ] as keyword args. From version 0.10 passing these as positional arguments will result in an error\n",
      "  if librosa.get_duration(signal)>10:\n",
      "C:\\Users\\TUKUNA\\AppData\\Local\\Temp/ipykernel_14232/2309356834.py:40: FutureWarning: Pass y=[ 0.0483103   0.04220315  0.01996101 ... -0.06924292 -0.05842462\n",
      " -0.0491473 ] as keyword args. From version 0.10 passing these as positional arguments will result in an error\n",
      "  mfcc= librosa.feature.mfcc(signal[start_sample:finish_sample],\n",
      "C:\\Users\\TUKUNA\\AppData\\Local\\Temp/ipykernel_14232/2309356834.py:40: FutureWarning: Pass y=[-0.01703604  0.02002594  0.01509655 ...  0.09453169  0.04711898\n",
      "  0.        ] as keyword args. From version 0.10 passing these as positional arguments will result in an error\n",
      "  mfcc= librosa.feature.mfcc(signal[start_sample:finish_sample],\n"
     ]
    },
    {
     "name": "stdout",
     "output_type": "stream",
     "text": [
      "ocean_noise_data\\bearded_seal\\70025004.wav, segment:0\n",
      "ocean_noise_data\\bearded_seal\\70025004.wav, segment:1\n",
      "ocean_noise_data\\bearded_seal\\70025005.wav, segment:0\n"
     ]
    },
    {
     "name": "stderr",
     "output_type": "stream",
     "text": [
      "C:\\Users\\TUKUNA\\AppData\\Local\\Temp/ipykernel_14232/2309356834.py:31: FutureWarning: Pass y=[ 0.21758434  0.24109955  0.18907012 ...  0.00707465 -0.02143761\n",
      "  0.        ] as keyword args. From version 0.10 passing these as positional arguments will result in an error\n",
      "  if librosa.get_duration(signal)>10:\n",
      "C:\\Users\\TUKUNA\\AppData\\Local\\Temp/ipykernel_14232/2309356834.py:40: FutureWarning: Pass y=[0.21758434 0.24109955 0.18907012 ... 0.07272226 0.09985968 0.11871959] as keyword args. From version 0.10 passing these as positional arguments will result in an error\n",
      "  mfcc= librosa.feature.mfcc(signal[start_sample:finish_sample],\n",
      "C:\\Users\\TUKUNA\\AppData\\Local\\Temp/ipykernel_14232/2309356834.py:40: FutureWarning: Pass y=[ 0.12217759  0.11489195  0.08017683 ... -0.03893618 -0.05358793\n",
      " -0.06645933] as keyword args. From version 0.10 passing these as positional arguments will result in an error\n",
      "  mfcc= librosa.feature.mfcc(signal[start_sample:finish_sample],\n",
      "C:\\Users\\TUKUNA\\AppData\\Local\\Temp/ipykernel_14232/2309356834.py:40: FutureWarning: Pass y=[-0.07972942 -0.08931001 -0.10362633 ...  0.00707465 -0.02143761\n",
      "  0.        ] as keyword args. From version 0.10 passing these as positional arguments will result in an error\n",
      "  mfcc= librosa.feature.mfcc(signal[start_sample:finish_sample],\n",
      "C:\\Users\\TUKUNA\\AppData\\Local\\Temp/ipykernel_14232/2309356834.py:31: FutureWarning: Pass y=[-0.00615805 -0.00724321 -0.0071546  ...  0.03193342  0.03365497\n",
      "  0.        ] as keyword args. From version 0.10 passing these as positional arguments will result in an error\n",
      "  if librosa.get_duration(signal)>10:\n",
      "C:\\Users\\TUKUNA\\AppData\\Local\\Temp/ipykernel_14232/2309356834.py:40: FutureWarning: Pass y=[-0.00615805 -0.00724321 -0.0071546  ...  0.09871597  0.07810256\n",
      "  0.04525371] as keyword args. From version 0.10 passing these as positional arguments will result in an error\n",
      "  mfcc= librosa.feature.mfcc(signal[start_sample:finish_sample],\n"
     ]
    },
    {
     "name": "stdout",
     "output_type": "stream",
     "text": [
      "ocean_noise_data\\bearded_seal\\70025006.wav, segment:0\n",
      "ocean_noise_data\\bearded_seal\\70025006.wav, segment:1\n",
      "ocean_noise_data\\bearded_seal\\70025007.wav, segment:0\n",
      "ocean_noise_data\\bearded_seal\\70025007.wav, segment:1\n",
      "ocean_noise_data\\bearded_seal\\70025008.wav, segment:0\n"
     ]
    },
    {
     "name": "stderr",
     "output_type": "stream",
     "text": [
      "C:\\Users\\TUKUNA\\AppData\\Local\\Temp/ipykernel_14232/2309356834.py:40: FutureWarning: Pass y=[ 0.02132268  0.00168771 -0.01889619 ... -0.01974465 -0.00409021\n",
      "  0.00949978] as keyword args. From version 0.10 passing these as positional arguments will result in an error\n",
      "  mfcc= librosa.feature.mfcc(signal[start_sample:finish_sample],\n",
      "C:\\Users\\TUKUNA\\AppData\\Local\\Temp/ipykernel_14232/2309356834.py:40: FutureWarning: Pass y=[0.00988594 0.00587242 0.01571783 ... 0.03193342 0.03365497 0.        ] as keyword args. From version 0.10 passing these as positional arguments will result in an error\n",
      "  mfcc= librosa.feature.mfcc(signal[start_sample:finish_sample],\n",
      "C:\\Users\\TUKUNA\\AppData\\Local\\Temp/ipykernel_14232/2309356834.py:31: FutureWarning: Pass y=[0.01104257 0.01267209 0.00856083 ... 0.00805479 0.00489442 0.        ] as keyword args. From version 0.10 passing these as positional arguments will result in an error\n",
      "  if librosa.get_duration(signal)>10:\n",
      "C:\\Users\\TUKUNA\\AppData\\Local\\Temp/ipykernel_14232/2309356834.py:40: FutureWarning: Pass y=[0.01104257 0.01267209 0.00856083 ... 0.0101213  0.00720324 0.00292087] as keyword args. From version 0.10 passing these as positional arguments will result in an error\n",
      "  mfcc= librosa.feature.mfcc(signal[start_sample:finish_sample],\n",
      "C:\\Users\\TUKUNA\\AppData\\Local\\Temp/ipykernel_14232/2309356834.py:40: FutureWarning: Pass y=[-0.00095564 -0.00264887 -0.00104705 ...  0.00805479  0.00489442\n",
      "  0.        ] as keyword args. From version 0.10 passing these as positional arguments will result in an error\n",
      "  mfcc= librosa.feature.mfcc(signal[start_sample:finish_sample],\n",
      "C:\\Users\\TUKUNA\\AppData\\Local\\Temp/ipykernel_14232/2309356834.py:31: FutureWarning: Pass y=[0.01463064 0.02083405 0.0222086  ... 0.03080753 0.01934877 0.        ] as keyword args. From version 0.10 passing these as positional arguments will result in an error\n",
      "  if librosa.get_duration(signal)>10:\n",
      "C:\\Users\\TUKUNA\\AppData\\Local\\Temp/ipykernel_14232/2309356834.py:40: FutureWarning: Pass y=[0.01463064 0.02083405 0.0222086  ... 0.01891815 0.01582297 0.01474117] as keyword args. From version 0.10 passing these as positional arguments will result in an error\n",
      "  mfcc= librosa.feature.mfcc(signal[start_sample:finish_sample],\n",
      "C:\\Users\\TUKUNA\\AppData\\Local\\Temp/ipykernel_14232/2309356834.py:40: FutureWarning: Pass y=[0.0136321  0.00984685 0.00495794 ... 0.03080753 0.01934877 0.        ] as keyword args. From version 0.10 passing these as positional arguments will result in an error\n",
      "  mfcc= librosa.feature.mfcc(signal[start_sample:finish_sample],\n",
      "C:\\Users\\TUKUNA\\AppData\\Local\\Temp/ipykernel_14232/2309356834.py:31: FutureWarning: Pass y=[ 0.00139697  0.0015243   0.00151073 ... -0.01302262 -0.00701685\n",
      "  0.        ] as keyword args. From version 0.10 passing these as positional arguments will result in an error\n",
      "  if librosa.get_duration(signal)>10:\n",
      "C:\\Users\\TUKUNA\\AppData\\Local\\Temp/ipykernel_14232/2309356834.py:40: FutureWarning: Pass y=[0.00139697 0.0015243  0.00151073 ... 0.02051129 0.02047595 0.02010358] as keyword args. From version 0.10 passing these as positional arguments will result in an error\n",
      "  mfcc= librosa.feature.mfcc(signal[start_sample:finish_sample],\n",
      "C:\\Users\\TUKUNA\\AppData\\Local\\Temp/ipykernel_14232/2309356834.py:40: FutureWarning: Pass y=[ 0.01941998  0.0185226   0.01757418 ... -0.01302262 -0.00701685\n",
      "  0.        ] as keyword args. From version 0.10 passing these as positional arguments will result in an error\n",
      "  mfcc= librosa.feature.mfcc(signal[start_sample:finish_sample],\n"
     ]
    },
    {
     "name": "stdout",
     "output_type": "stream",
     "text": [
      "ocean_noise_data\\bearded_seal\\70025009.wav, segment:0\n",
      "ocean_noise_data\\bearded_seal\\71012001.wav, segment:0\n"
     ]
    },
    {
     "name": "stderr",
     "output_type": "stream",
     "text": [
      "C:\\Users\\TUKUNA\\AppData\\Local\\Temp/ipykernel_14232/2309356834.py:31: FutureWarning: Pass y=[ 0.00567303  0.00556412  0.00485169 ... -0.00030659 -0.00014772\n",
      "  0.        ] as keyword args. From version 0.10 passing these as positional arguments will result in an error\n",
      "  if librosa.get_duration(signal)>10:\n",
      "C:\\Users\\TUKUNA\\AppData\\Local\\Temp/ipykernel_14232/2309356834.py:40: FutureWarning: Pass y=[0.00567303 0.00556412 0.00485169 ... 0.00352418 0.00370122 0.00391627] as keyword args. From version 0.10 passing these as positional arguments will result in an error\n",
      "  mfcc= librosa.feature.mfcc(signal[start_sample:finish_sample],\n",
      "C:\\Users\\TUKUNA\\AppData\\Local\\Temp/ipykernel_14232/2309356834.py:40: FutureWarning: Pass y=[ 0.00438241  0.00519348  0.00628851 ... -0.00030659 -0.00014772\n",
      "  0.        ] as keyword args. From version 0.10 passing these as positional arguments will result in an error\n",
      "  mfcc= librosa.feature.mfcc(signal[start_sample:finish_sample],\n",
      "C:\\Users\\TUKUNA\\AppData\\Local\\Temp/ipykernel_14232/2309356834.py:31: FutureWarning: Pass y=[ 0.00722213  0.00808543  0.00812021 ... -0.01287426 -0.00768734\n",
      "  0.        ] as keyword args. From version 0.10 passing these as positional arguments will result in an error\n",
      "  if librosa.get_duration(signal)>10:\n",
      "C:\\Users\\TUKUNA\\AppData\\Local\\Temp/ipykernel_14232/2309356834.py:40: FutureWarning: Pass y=[ 0.00722213  0.00808543  0.00812021 ... -0.01287426 -0.00768734\n",
      "  0.        ] as keyword args. From version 0.10 passing these as positional arguments will result in an error\n",
      "  mfcc= librosa.feature.mfcc(signal[start_sample:finish_sample],\n",
      "C:\\Users\\TUKUNA\\AppData\\Local\\Temp/ipykernel_14232/2309356834.py:31: FutureWarning: Pass y=[-0.00062553 -0.00096841 -0.00119512 ... -0.03231484 -0.01915668\n",
      "  0.        ] as keyword args. From version 0.10 passing these as positional arguments will result in an error\n",
      "  if librosa.get_duration(signal)>10:\n",
      "C:\\Users\\TUKUNA\\AppData\\Local\\Temp/ipykernel_14232/2309356834.py:40: FutureWarning: Pass y=[-0.00062553 -0.00096841 -0.00119512 ... -0.03231484 -0.01915668\n",
      "  0.        ] as keyword args. From version 0.10 passing these as positional arguments will result in an error\n",
      "  mfcc= librosa.feature.mfcc(signal[start_sample:finish_sample],\n",
      "C:\\Users\\TUKUNA\\AppData\\Local\\Temp/ipykernel_14232/2309356834.py:31: FutureWarning: Pass y=[-0.00594768 -0.00717689 -0.00800599 ... -0.05154885 -0.03076753\n",
      "  0.        ] as keyword args. From version 0.10 passing these as positional arguments will result in an error\n",
      "  if librosa.get_duration(signal)>10:\n",
      "C:\\Users\\TUKUNA\\AppData\\Local\\Temp/ipykernel_14232/2309356834.py:40: FutureWarning: Pass y=[-0.00594768 -0.00717689 -0.00800599 ... -0.05154885 -0.03076753\n",
      "  0.        ] as keyword args. From version 0.10 passing these as positional arguments will result in an error\n",
      "  mfcc= librosa.feature.mfcc(signal[start_sample:finish_sample],\n"
     ]
    },
    {
     "name": "stdout",
     "output_type": "stream",
     "text": [
      "ocean_noise_data\\bearded_seal\\71012002.wav, segment:0\n"
     ]
    },
    {
     "name": "stderr",
     "output_type": "stream",
     "text": [
      "C:\\Users\\TUKUNA\\AppData\\Local\\Temp/ipykernel_14232/2309356834.py:31: FutureWarning: Pass y=[0.00673918 0.00839631 0.00956719 ... 0.04483625 0.03150954 0.        ] as keyword args. From version 0.10 passing these as positional arguments will result in an error\n",
      "  if librosa.get_duration(signal)>10:\n",
      "C:\\Users\\TUKUNA\\AppData\\Local\\Temp/ipykernel_14232/2309356834.py:40: FutureWarning: Pass y=[ 0.00673918  0.00839631  0.00956719 ... -0.00303444 -0.00557963\n",
      " -0.00692198] as keyword args. From version 0.10 passing these as positional arguments will result in an error\n",
      "  mfcc= librosa.feature.mfcc(signal[start_sample:finish_sample],\n",
      "C:\\Users\\TUKUNA\\AppData\\Local\\Temp/ipykernel_14232/2309356834.py:40: FutureWarning: Pass y=[-0.00808206 -0.0098666  -0.01264068 ...  0.04483625  0.03150954\n",
      "  0.        ] as keyword args. From version 0.10 passing these as positional arguments will result in an error\n",
      "  mfcc= librosa.feature.mfcc(signal[start_sample:finish_sample],\n",
      "C:\\Users\\TUKUNA\\AppData\\Local\\Temp/ipykernel_14232/2309356834.py:31: FutureWarning: Pass y=[-0.00660814 -0.00724437 -0.00732659 ...  0.01828543  0.01211595\n",
      "  0.        ] as keyword args. From version 0.10 passing these as positional arguments will result in an error\n",
      "  if librosa.get_duration(signal)>10:\n",
      "C:\\Users\\TUKUNA\\AppData\\Local\\Temp/ipykernel_14232/2309356834.py:40: FutureWarning: Pass y=[-0.00660814 -0.00724437 -0.00732659 ...  0.04578856  0.0462261\n",
      "  0.04576769] as keyword args. From version 0.10 passing these as positional arguments will result in an error\n",
      "  mfcc= librosa.feature.mfcc(signal[start_sample:finish_sample],\n",
      "C:\\Users\\TUKUNA\\AppData\\Local\\Temp/ipykernel_14232/2309356834.py:40: FutureWarning: Pass y=[0.04458702 0.04295458 0.04117969 ... 0.01828543 0.01211595 0.        ] as keyword args. From version 0.10 passing these as positional arguments will result in an error\n",
      "  mfcc= librosa.feature.mfcc(signal[start_sample:finish_sample],\n",
      "C:\\Users\\TUKUNA\\AppData\\Local\\Temp/ipykernel_14232/2309356834.py:31: FutureWarning: Pass y=[ 0.00398507  0.00382021  0.00310225 ... -0.00385105 -0.00161522\n",
      "  0.        ] as keyword args. From version 0.10 passing these as positional arguments will result in an error\n",
      "  if librosa.get_duration(signal)>10:\n",
      "C:\\Users\\TUKUNA\\AppData\\Local\\Temp/ipykernel_14232/2309356834.py:40: FutureWarning: Pass y=[ 0.00398507  0.00382021  0.00310225 ... -0.00385105 -0.00161522\n",
      "  0.        ] as keyword args. From version 0.10 passing these as positional arguments will result in an error\n",
      "  mfcc= librosa.feature.mfcc(signal[start_sample:finish_sample],\n"
     ]
    },
    {
     "name": "stdout",
     "output_type": "stream",
     "text": [
      "ocean_noise_data\\bearded_seal\\71012006.wav, segment:0\n",
      "ocean_noise_data\\bearded_seal\\71012007.wav, segment:0\n"
     ]
    },
    {
     "name": "stderr",
     "output_type": "stream",
     "text": [
      "C:\\Users\\TUKUNA\\AppData\\Local\\Temp/ipykernel_14232/2309356834.py:31: FutureWarning: Pass y=[-0.0036371  -0.00395059 -0.00404779 ...  0.01262469  0.00717768\n",
      "  0.        ] as keyword args. From version 0.10 passing these as positional arguments will result in an error\n",
      "  if librosa.get_duration(signal)>10:\n",
      "C:\\Users\\TUKUNA\\AppData\\Local\\Temp/ipykernel_14232/2309356834.py:40: FutureWarning: Pass y=[-0.0036371  -0.00395059 -0.00404779 ...  0.01262469  0.00717768\n",
      "  0.        ] as keyword args. From version 0.10 passing these as positional arguments will result in an error\n",
      "  mfcc= librosa.feature.mfcc(signal[start_sample:finish_sample],\n",
      "C:\\Users\\TUKUNA\\AppData\\Local\\Temp/ipykernel_14232/2309356834.py:31: FutureWarning: Pass y=[0.00089829 0.00087131 0.00061213 ... 0.10573462 0.0863926  0.04443207] as keyword args. From version 0.10 passing these as positional arguments will result in an error\n",
      "  if librosa.get_duration(signal)>10:\n",
      "C:\\Users\\TUKUNA\\AppData\\Local\\Temp/ipykernel_14232/2309356834.py:32: FutureWarning: Pass y=[0.00089829 0.00087131 0.00061213 ... 0.10573462 0.0863926  0.04443207] as keyword args. From version 0.10 passing these as positional arguments will result in an error\n",
      "  num_segments=int(librosa.get_duration(signal)/10)\n",
      "C:\\Users\\TUKUNA\\AppData\\Local\\Temp/ipykernel_14232/2309356834.py:40: FutureWarning: Pass y=[ 0.00089829  0.00087131  0.00061213 ...  0.00065309 -0.00124024\n",
      " -0.00278006] as keyword args. From version 0.10 passing these as positional arguments will result in an error\n",
      "  mfcc= librosa.feature.mfcc(signal[start_sample:finish_sample],\n",
      "C:\\Users\\TUKUNA\\AppData\\Local\\Temp/ipykernel_14232/2309356834.py:40: FutureWarning: Pass y=[-0.00393008 -0.00503604 -0.00616282 ...  0.00212367  0.005817\n",
      "  0.00816724] as keyword args. From version 0.10 passing these as positional arguments will result in an error\n",
      "  mfcc= librosa.feature.mfcc(signal[start_sample:finish_sample],\n",
      "C:\\Users\\TUKUNA\\AppData\\Local\\Temp/ipykernel_14232/2309356834.py:40: FutureWarning: Pass y=[ 0.00695395  0.00430572  0.00402899 ... -0.00142785  0.00079116\n",
      "  0.00324395] as keyword args. From version 0.10 passing these as positional arguments will result in an error\n",
      "  mfcc= librosa.feature.mfcc(signal[start_sample:finish_sample],\n",
      "C:\\Users\\TUKUNA\\AppData\\Local\\Temp/ipykernel_14232/2309356834.py:40: FutureWarning: Pass y=[ 0.00591987  0.0087931   0.0117071  ... -0.0083231  -0.0085767\n",
      " -0.00881578] as keyword args. From version 0.10 passing these as positional arguments will result in an error\n",
      "  mfcc= librosa.feature.mfcc(signal[start_sample:finish_sample],\n",
      "C:\\Users\\TUKUNA\\AppData\\Local\\Temp/ipykernel_14232/2309356834.py:40: FutureWarning: Pass y=[-0.00902575 -0.00920086 -0.00946884 ...  0.00145638  0.00310979\n",
      "  0.00370943] as keyword args. From version 0.10 passing these as positional arguments will result in an error\n",
      "  mfcc= librosa.feature.mfcc(signal[start_sample:finish_sample],\n",
      "C:\\Users\\TUKUNA\\AppData\\Local\\Temp/ipykernel_14232/2309356834.py:40: FutureWarning: Pass y=[0.00339991 0.00214351 0.00066742 ... 0.00681456 0.00525373 0.00502563] as keyword args. From version 0.10 passing these as positional arguments will result in an error\n",
      "  mfcc= librosa.feature.mfcc(signal[start_sample:finish_sample],\n",
      "C:\\Users\\TUKUNA\\AppData\\Local\\Temp/ipykernel_14232/2309356834.py:40: FutureWarning: Pass y=[0.00484645 0.0038856  0.00264975 ... 0.00930595 0.00811902 0.00683738] as keyword args. From version 0.10 passing these as positional arguments will result in an error\n",
      "  mfcc= librosa.feature.mfcc(signal[start_sample:finish_sample],\n",
      "C:\\Users\\TUKUNA\\AppData\\Local\\Temp/ipykernel_14232/2309356834.py:40: FutureWarning: Pass y=[0.0067058  0.00789113 0.00969026 ... 0.00690163 0.00687395 0.00616578] as keyword args. From version 0.10 passing these as positional arguments will result in an error\n",
      "  mfcc= librosa.feature.mfcc(signal[start_sample:finish_sample],\n",
      "C:\\Users\\TUKUNA\\AppData\\Local\\Temp/ipykernel_14232/2309356834.py:40: FutureWarning: Pass y=[ 0.00433585  0.00234081  0.00078672 ... -0.02243681 -0.01824477\n",
      " -0.01212168] as keyword args. From version 0.10 passing these as positional arguments will result in an error\n",
      "  mfcc= librosa.feature.mfcc(signal[start_sample:finish_sample],\n",
      "C:\\Users\\TUKUNA\\AppData\\Local\\Temp/ipykernel_14232/2309356834.py:40: FutureWarning: Pass y=[-8.7511484e-03 -9.8753003e-03 -1.2460904e-02 ...  9.4650291e-05\n",
      "  1.0596712e-03  2.4350649e-03] as keyword args. From version 0.10 passing these as positional arguments will result in an error\n",
      "  mfcc= librosa.feature.mfcc(signal[start_sample:finish_sample],\n",
      "C:\\Users\\TUKUNA\\AppData\\Local\\Temp/ipykernel_14232/2309356834.py:40: FutureWarning: Pass y=[ 2.08432181e-03  6.77432035e-06 -1.53294939e-03 ...  1.59022417e-02\n",
      "  1.55204935e-02  1.46262283e-02] as keyword args. From version 0.10 passing these as positional arguments will result in an error\n",
      "  mfcc= librosa.feature.mfcc(signal[start_sample:finish_sample],\n",
      "C:\\Users\\TUKUNA\\AppData\\Local\\Temp/ipykernel_14232/2309356834.py:40: FutureWarning: Pass y=[ 0.0112693   0.00638248  0.00276287 ... -0.00060466  0.00030565\n",
      " -0.00043304] as keyword args. From version 0.10 passing these as positional arguments will result in an error\n",
      "  mfcc= librosa.feature.mfcc(signal[start_sample:finish_sample],\n",
      "C:\\Users\\TUKUNA\\AppData\\Local\\Temp/ipykernel_14232/2309356834.py:40: FutureWarning: Pass y=[-0.00171212 -0.00190571 -0.000553   ...  0.01583833  0.01885649\n",
      "  0.01844582] as keyword args. From version 0.10 passing these as positional arguments will result in an error\n",
      "  mfcc= librosa.feature.mfcc(signal[start_sample:finish_sample],\n",
      "C:\\Users\\TUKUNA\\AppData\\Local\\Temp/ipykernel_14232/2309356834.py:40: FutureWarning: Pass y=[ 0.01554123  0.01292507  0.01299857 ... -0.05734608 -0.05671735\n",
      " -0.0535282 ] as keyword args. From version 0.10 passing these as positional arguments will result in an error\n",
      "  mfcc= librosa.feature.mfcc(signal[start_sample:finish_sample],\n"
     ]
    },
    {
     "name": "stdout",
     "output_type": "stream",
     "text": [
      "ocean_noise_data\\bearded_seal\\72021005.wav, segment:0\n",
      "ocean_noise_data\\bearded_seal\\72021005.wav, segment:1\n",
      "ocean_noise_data\\bearded_seal\\72021005.wav, segment:2\n",
      "ocean_noise_data\\bearded_seal\\72021005.wav, segment:3\n",
      "ocean_noise_data\\bearded_seal\\72021005.wav, segment:4\n",
      "ocean_noise_data\\bearded_seal\\72021005.wav, segment:5\n",
      "ocean_noise_data\\bearded_seal\\72021005.wav, segment:6\n",
      "ocean_noise_data\\bearded_seal\\72021005.wav, segment:7\n",
      "ocean_noise_data\\bearded_seal\\72021005.wav, segment:8\n",
      "ocean_noise_data\\bearded_seal\\72021005.wav, segment:9\n",
      "ocean_noise_data\\bearded_seal\\72021005.wav, segment:10\n",
      "ocean_noise_data\\bearded_seal\\72021005.wav, segment:11\n",
      "ocean_noise_data\\bearded_seal\\72021005.wav, segment:12\n",
      "ocean_noise_data\\bearded_seal\\72021005.wav, segment:13\n"
     ]
    },
    {
     "name": "stderr",
     "output_type": "stream",
     "text": [
      "C:\\Users\\TUKUNA\\AppData\\Local\\Temp/ipykernel_14232/2309356834.py:31: FutureWarning: Pass y=[-0.00936109 -0.0077552  -0.00162622 ...  0.00487014  0.00259216\n",
      "  0.        ] as keyword args. From version 0.10 passing these as positional arguments will result in an error\n",
      "  if librosa.get_duration(signal)>10:\n",
      "C:\\Users\\TUKUNA\\AppData\\Local\\Temp/ipykernel_14232/2309356834.py:40: FutureWarning: Pass y=[-0.00936109 -0.0077552  -0.00162622 ...  0.02210457  0.01408201\n",
      "  0.00928829] as keyword args. From version 0.10 passing these as positional arguments will result in an error\n",
      "  mfcc= librosa.feature.mfcc(signal[start_sample:finish_sample],\n",
      "C:\\Users\\TUKUNA\\AppData\\Local\\Temp/ipykernel_14232/2309356834.py:40: FutureWarning: Pass y=[ 0.00929604  0.01085301  0.01078984 ... -0.24336722 -0.23259884\n",
      " -0.23209791] as keyword args. From version 0.10 passing these as positional arguments will result in an error\n",
      "  mfcc= librosa.feature.mfcc(signal[start_sample:finish_sample],\n",
      "C:\\Users\\TUKUNA\\AppData\\Local\\Temp/ipykernel_14232/2309356834.py:40: FutureWarning: Pass y=[-0.24872644 -0.26197717 -0.2522876  ...  0.00487014  0.00259216\n",
      "  0.        ] as keyword args. From version 0.10 passing these as positional arguments will result in an error\n",
      "  mfcc= librosa.feature.mfcc(signal[start_sample:finish_sample],\n"
     ]
    },
    {
     "name": "stdout",
     "output_type": "stream",
     "text": [
      "ocean_noise_data\\bearded_seal\\7202100T.wav, segment:0\n",
      "ocean_noise_data\\bearded_seal\\7202100T.wav, segment:1\n"
     ]
    },
    {
     "name": "stderr",
     "output_type": "stream",
     "text": [
      "C:\\Users\\TUKUNA\\AppData\\Local\\Temp/ipykernel_14232/2309356834.py:31: FutureWarning: Pass y=[-0.02127229 -0.0227609  -0.01733709 ... -0.09685377 -0.07491058\n",
      "  0.        ] as keyword args. From version 0.10 passing these as positional arguments will result in an error\n",
      "  if librosa.get_duration(signal)>10:\n",
      "C:\\Users\\TUKUNA\\AppData\\Local\\Temp/ipykernel_14232/2309356834.py:40: FutureWarning: Pass y=[-0.02127229 -0.0227609  -0.01733709 ... -0.00970194 -0.00379949\n",
      " -0.0019579 ] as keyword args. From version 0.10 passing these as positional arguments will result in an error\n",
      "  mfcc= librosa.feature.mfcc(signal[start_sample:finish_sample],\n",
      "C:\\Users\\TUKUNA\\AppData\\Local\\Temp/ipykernel_14232/2309356834.py:40: FutureWarning: Pass y=[-0.00242705  0.00078454  0.0100741  ... -0.06242021 -0.07226896\n",
      " -0.07988859] as keyword args. From version 0.10 passing these as positional arguments will result in an error\n",
      "  mfcc= librosa.feature.mfcc(signal[start_sample:finish_sample],\n",
      "C:\\Users\\TUKUNA\\AppData\\Local\\Temp/ipykernel_14232/2309356834.py:40: FutureWarning: Pass y=[-0.08588099 -0.0889835  -0.08749872 ... -0.09685377 -0.07491058\n",
      "  0.        ] as keyword args. From version 0.10 passing these as positional arguments will result in an error\n",
      "  mfcc= librosa.feature.mfcc(signal[start_sample:finish_sample],\n"
     ]
    },
    {
     "name": "stdout",
     "output_type": "stream",
     "text": [
      "ocean_noise_data\\bearded_seal\\7202100V.wav, segment:0\n",
      "ocean_noise_data\\bearded_seal\\7202100V.wav, segment:1\n"
     ]
    },
    {
     "name": "stderr",
     "output_type": "stream",
     "text": [
      "C:\\Users\\TUKUNA\\AppData\\Local\\Temp/ipykernel_14232/2309356834.py:31: FutureWarning: Pass y=[-0.0181408  -0.01811061 -0.01442137 ...  0.07381252  0.0358774\n",
      "  0.        ] as keyword args. From version 0.10 passing these as positional arguments will result in an error\n",
      "  if librosa.get_duration(signal)>10:\n",
      "C:\\Users\\TUKUNA\\AppData\\Local\\Temp/ipykernel_14232/2309356834.py:40: FutureWarning: Pass y=[-0.0181408  -0.01811061 -0.01442137 ... -0.02057266  0.01902028\n",
      "  0.04390157] as keyword args. From version 0.10 passing these as positional arguments will result in an error\n",
      "  mfcc= librosa.feature.mfcc(signal[start_sample:finish_sample],\n",
      "C:\\Users\\TUKUNA\\AppData\\Local\\Temp/ipykernel_14232/2309356834.py:40: FutureWarning: Pass y=[ 0.03228178 -0.00735856 -0.04278749 ...  0.02957055  0.01375601\n",
      " -0.00271949] as keyword args. From version 0.10 passing these as positional arguments will result in an error\n",
      "  mfcc= librosa.feature.mfcc(signal[start_sample:finish_sample],\n",
      "C:\\Users\\TUKUNA\\AppData\\Local\\Temp/ipykernel_14232/2309356834.py:40: FutureWarning: Pass y=[-0.00875353 -0.00076545  0.01296418 ...  0.07381252  0.0358774\n",
      "  0.        ] as keyword args. From version 0.10 passing these as positional arguments will result in an error\n",
      "  mfcc= librosa.feature.mfcc(signal[start_sample:finish_sample],\n"
     ]
    },
    {
     "name": "stdout",
     "output_type": "stream",
     "text": [
      "ocean_noise_data\\bearded_seal\\7202100Z.wav, segment:0\n",
      "ocean_noise_data\\bearded_seal\\7202100Z.wav, segment:1\n"
     ]
    },
    {
     "name": "stderr",
     "output_type": "stream",
     "text": [
      "C:\\Users\\TUKUNA\\AppData\\Local\\Temp/ipykernel_14232/2309356834.py:31: FutureWarning: Pass y=[ 0.02461668  0.02015533  0.00457691 ... -0.123913   -0.09623349\n",
      "  0.        ] as keyword args. From version 0.10 passing these as positional arguments will result in an error\n",
      "  if librosa.get_duration(signal)>10:\n",
      "C:\\Users\\TUKUNA\\AppData\\Local\\Temp/ipykernel_14232/2309356834.py:32: FutureWarning: Pass y=[ 0.02461668  0.02015533  0.00457691 ... -0.123913   -0.09623349\n",
      "  0.        ] as keyword args. From version 0.10 passing these as positional arguments will result in an error\n",
      "  num_segments=int(librosa.get_duration(signal)/10)\n",
      "C:\\Users\\TUKUNA\\AppData\\Local\\Temp/ipykernel_14232/2309356834.py:40: FutureWarning: Pass y=[ 0.02461668  0.02015533  0.00457691 ... -0.02681878 -0.01200111\n",
      "  0.00065542] as keyword args. From version 0.10 passing these as positional arguments will result in an error\n",
      "  mfcc= librosa.feature.mfcc(signal[start_sample:finish_sample],\n",
      "C:\\Users\\TUKUNA\\AppData\\Local\\Temp/ipykernel_14232/2309356834.py:40: FutureWarning: Pass y=[ 0.00775298  0.01241487  0.02015824 ... -0.1054213  -0.09248815\n",
      " -0.08209662] as keyword args. From version 0.10 passing these as positional arguments will result in an error\n",
      "  mfcc= librosa.feature.mfcc(signal[start_sample:finish_sample],\n",
      "C:\\Users\\TUKUNA\\AppData\\Local\\Temp/ipykernel_14232/2309356834.py:40: FutureWarning: Pass y=[-0.07844937 -0.08851147 -0.11441359 ...  0.10327344  0.09306443\n",
      "  0.07418901] as keyword args. From version 0.10 passing these as positional arguments will result in an error\n",
      "  mfcc= librosa.feature.mfcc(signal[start_sample:finish_sample],\n",
      "C:\\Users\\TUKUNA\\AppData\\Local\\Temp/ipykernel_14232/2309356834.py:40: FutureWarning: Pass y=[ 0.05456005  0.0428902   0.04418674 ... -0.13790783 -0.12065758\n",
      " -0.10272103] as keyword args. From version 0.10 passing these as positional arguments will result in an error\n",
      "  mfcc= librosa.feature.mfcc(signal[start_sample:finish_sample],\n"
     ]
    },
    {
     "name": "stdout",
     "output_type": "stream",
     "text": [
      "ocean_noise_data\\bearded_seal\\78018001.wav, segment:0\n",
      "ocean_noise_data\\bearded_seal\\78018001.wav, segment:1\n",
      "ocean_noise_data\\bearded_seal\\78018001.wav, segment:2\n",
      "ocean_noise_data\\bearded_seal\\78018001.wav, segment:3\n"
     ]
    },
    {
     "name": "stderr",
     "output_type": "stream",
     "text": [
      "C:\\Users\\TUKUNA\\AppData\\Local\\Temp/ipykernel_14232/2309356834.py:31: FutureWarning: Pass y=[-0.16284981 -0.18883187 -0.17129414 ... -0.14507748 -0.12532532\n",
      " -0.06633122] as keyword args. From version 0.10 passing these as positional arguments will result in an error\n",
      "  if librosa.get_duration(signal)>10:\n",
      "C:\\Users\\TUKUNA\\AppData\\Local\\Temp/ipykernel_14232/2309356834.py:32: FutureWarning: Pass y=[-0.16284981 -0.18883187 -0.17129414 ... -0.14507748 -0.12532532\n",
      " -0.06633122] as keyword args. From version 0.10 passing these as positional arguments will result in an error\n",
      "  num_segments=int(librosa.get_duration(signal)/10)\n",
      "C:\\Users\\TUKUNA\\AppData\\Local\\Temp/ipykernel_14232/2309356834.py:40: FutureWarning: Pass y=[-0.16284981 -0.18883187 -0.17129414 ... -0.05809901 -0.08024395\n",
      " -0.09668788] as keyword args. From version 0.10 passing these as positional arguments will result in an error\n",
      "  mfcc= librosa.feature.mfcc(signal[start_sample:finish_sample],\n",
      "C:\\Users\\TUKUNA\\AppData\\Local\\Temp/ipykernel_14232/2309356834.py:40: FutureWarning: Pass y=[-0.11016823 -0.12390261 -0.13576224 ... -0.01534612 -0.00049714\n",
      "  0.01046618] as keyword args. From version 0.10 passing these as positional arguments will result in an error\n",
      "  mfcc= librosa.feature.mfcc(signal[start_sample:finish_sample],\n",
      "C:\\Users\\TUKUNA\\AppData\\Local\\Temp/ipykernel_14232/2309356834.py:40: FutureWarning: Pass y=[ 0.01103879  0.00378911 -0.00314022 ...  0.0079741   0.04585307\n",
      "  0.05997815] as keyword args. From version 0.10 passing these as positional arguments will result in an error\n",
      "  mfcc= librosa.feature.mfcc(signal[start_sample:finish_sample],\n",
      "C:\\Users\\TUKUNA\\AppData\\Local\\Temp/ipykernel_14232/2309356834.py:40: FutureWarning: Pass y=[0.05381884 0.04806666 0.05775733 ... 0.33873424 0.24384722 0.1253902 ] as keyword args. From version 0.10 passing these as positional arguments will result in an error\n",
      "  mfcc= librosa.feature.mfcc(signal[start_sample:finish_sample],\n"
     ]
    },
    {
     "name": "stdout",
     "output_type": "stream",
     "text": [
      "ocean_noise_data\\bearded_seal\\78018002.wav, segment:0\n",
      "ocean_noise_data\\bearded_seal\\78018002.wav, segment:1\n",
      "ocean_noise_data\\bearded_seal\\78018002.wav, segment:2\n",
      "ocean_noise_data\\bearded_seal\\78018002.wav, segment:3\n"
     ]
    },
    {
     "name": "stderr",
     "output_type": "stream",
     "text": [
      "C:\\Users\\TUKUNA\\AppData\\Local\\Temp/ipykernel_14232/2309356834.py:31: FutureWarning: Pass y=[-0.09868021 -0.12992582 -0.14035553 ...  0.10149879  0.07600952\n",
      "  0.        ] as keyword args. From version 0.10 passing these as positional arguments will result in an error\n",
      "  if librosa.get_duration(signal)>10:\n",
      "C:\\Users\\TUKUNA\\AppData\\Local\\Temp/ipykernel_14232/2309356834.py:32: FutureWarning: Pass y=[-0.09868021 -0.12992582 -0.14035553 ...  0.10149879  0.07600952\n",
      "  0.        ] as keyword args. From version 0.10 passing these as positional arguments will result in an error\n",
      "  num_segments=int(librosa.get_duration(signal)/10)\n",
      "C:\\Users\\TUKUNA\\AppData\\Local\\Temp/ipykernel_14232/2309356834.py:40: FutureWarning: Pass y=[-0.09868021 -0.12992582 -0.14035553 ... -0.02330347 -0.12011224\n",
      " -0.21548735] as keyword args. From version 0.10 passing these as positional arguments will result in an error\n",
      "  mfcc= librosa.feature.mfcc(signal[start_sample:finish_sample],\n"
     ]
    },
    {
     "name": "stdout",
     "output_type": "stream",
     "text": [
      "ocean_noise_data\\bearded_seal\\78018003.wav, segment:0\n"
     ]
    },
    {
     "name": "stderr",
     "output_type": "stream",
     "text": [
      "C:\\Users\\TUKUNA\\AppData\\Local\\Temp/ipykernel_14232/2309356834.py:31: FutureWarning: Pass y=[-0.09158739 -0.09651683 -0.08036919 ... -0.05732096 -0.04081935\n",
      "  0.        ] as keyword args. From version 0.10 passing these as positional arguments will result in an error\n",
      "  if librosa.get_duration(signal)>10:\n",
      "C:\\Users\\TUKUNA\\AppData\\Local\\Temp/ipykernel_14232/2309356834.py:32: FutureWarning: Pass y=[-0.09158739 -0.09651683 -0.08036919 ... -0.05732096 -0.04081935\n",
      "  0.        ] as keyword args. From version 0.10 passing these as positional arguments will result in an error\n",
      "  num_segments=int(librosa.get_duration(signal)/10)\n",
      "C:\\Users\\TUKUNA\\AppData\\Local\\Temp/ipykernel_14232/2309356834.py:40: FutureWarning: Pass y=[-0.09158739 -0.09651683 -0.08036919 ... -0.23894508 -0.20585263\n",
      " -0.15579289] as keyword args. From version 0.10 passing these as positional arguments will result in an error\n",
      "  mfcc= librosa.feature.mfcc(signal[start_sample:finish_sample],\n"
     ]
    },
    {
     "name": "stdout",
     "output_type": "stream",
     "text": [
      "ocean_noise_data\\bearded_seal\\78018005.wav, segment:0\n"
     ]
    },
    {
     "name": "stderr",
     "output_type": "stream",
     "text": [
      "C:\\Users\\TUKUNA\\AppData\\Local\\Temp/ipykernel_14232/2309356834.py:31: FutureWarning: Pass y=[-0.19533049 -0.2265172  -0.20563564 ... -0.26106662 -0.21627906\n",
      "  0.        ] as keyword args. From version 0.10 passing these as positional arguments will result in an error\n",
      "  if librosa.get_duration(signal)>10:\n",
      "C:\\Users\\TUKUNA\\AppData\\Local\\Temp/ipykernel_14232/2309356834.py:40: FutureWarning: Pass y=[-0.19533049 -0.2265172  -0.20563564 ...  0.0513414   0.059265\n",
      "  0.07634637] as keyword args. From version 0.10 passing these as positional arguments will result in an error\n",
      "  mfcc= librosa.feature.mfcc(signal[start_sample:finish_sample],\n",
      "C:\\Users\\TUKUNA\\AppData\\Local\\Temp/ipykernel_14232/2309356834.py:31: FutureWarning: Pass y=[-0.04781159 -0.05216154 -0.04147296 ...  0.14037156  0.12390249\n",
      "  0.        ] as keyword args. From version 0.10 passing these as positional arguments will result in an error\n",
      "  if librosa.get_duration(signal)>10:\n",
      "C:\\Users\\TUKUNA\\AppData\\Local\\Temp/ipykernel_14232/2309356834.py:40: FutureWarning: Pass y=[-0.04781159 -0.05216154 -0.04147296 ...  0.01143236 -0.01054681\n",
      " -0.03278235] as keyword args. From version 0.10 passing these as positional arguments will result in an error\n",
      "  mfcc= librosa.feature.mfcc(signal[start_sample:finish_sample],\n"
     ]
    },
    {
     "name": "stdout",
     "output_type": "stream",
     "text": [
      "ocean_noise_data\\bearded_seal\\7801800B.wav, segment:0\n",
      "ocean_noise_data\\bearded_seal\\7801800D.wav, segment:0\n"
     ]
    },
    {
     "name": "stderr",
     "output_type": "stream",
     "text": [
      "C:\\Users\\TUKUNA\\AppData\\Local\\Temp/ipykernel_14232/2309356834.py:31: FutureWarning: Pass y=[-0.21935704 -0.24056737 -0.19279444 ...  0.28614187  0.16668023\n",
      "  0.        ] as keyword args. From version 0.10 passing these as positional arguments will result in an error\n",
      "  if librosa.get_duration(signal)>10:\n",
      "C:\\Users\\TUKUNA\\AppData\\Local\\Temp/ipykernel_14232/2309356834.py:40: FutureWarning: Pass y=[-0.21935704 -0.24056737 -0.19279444 ... -0.13868853 -0.22076695\n",
      " -0.28822696] as keyword args. From version 0.10 passing these as positional arguments will result in an error\n",
      "  mfcc= librosa.feature.mfcc(signal[start_sample:finish_sample],\n",
      "C:\\Users\\TUKUNA\\AppData\\Local\\Temp/ipykernel_14232/2309356834.py:31: FutureWarning: Pass y=[ 0.16670015  0.17080663  0.13115832 ... -0.11500176 -0.08449959\n",
      "  0.        ] as keyword args. From version 0.10 passing these as positional arguments will result in an error\n",
      "  if librosa.get_duration(signal)>10:\n",
      "C:\\Users\\TUKUNA\\AppData\\Local\\Temp/ipykernel_14232/2309356834.py:40: FutureWarning: Pass y=[0.16670015 0.17080663 0.13115832 ... 0.30919594 0.29877564 0.27646732] as keyword args. From version 0.10 passing these as positional arguments will result in an error\n",
      "  mfcc= librosa.feature.mfcc(signal[start_sample:finish_sample],\n"
     ]
    },
    {
     "name": "stdout",
     "output_type": "stream",
     "text": [
      "ocean_noise_data\\bearded_seal\\7801800H.wav, segment:0\n",
      "ocean_noise_data\\bearded_seal\\7801800J.wav, segment:0\n"
     ]
    },
    {
     "name": "stderr",
     "output_type": "stream",
     "text": [
      "C:\\Users\\TUKUNA\\AppData\\Local\\Temp/ipykernel_14232/2309356834.py:31: FutureWarning: Pass y=[ 0.09728485  0.12075637  0.11952617 ... -0.2242192  -0.16598868\n",
      "  0.        ] as keyword args. From version 0.10 passing these as positional arguments will result in an error\n",
      "  if librosa.get_duration(signal)>10:\n",
      "C:\\Users\\TUKUNA\\AppData\\Local\\Temp/ipykernel_14232/2309356834.py:32: FutureWarning: Pass y=[ 0.09728485  0.12075637  0.11952617 ... -0.2242192  -0.16598868\n",
      "  0.        ] as keyword args. From version 0.10 passing these as positional arguments will result in an error\n",
      "  num_segments=int(librosa.get_duration(signal)/10)\n",
      "C:\\Users\\TUKUNA\\AppData\\Local\\Temp/ipykernel_14232/2309356834.py:40: FutureWarning: Pass y=[ 0.09728485  0.12075637  0.11952617 ... -0.1827697  -0.07658002\n",
      "  0.0122937 ] as keyword args. From version 0.10 passing these as positional arguments will result in an error\n",
      "  mfcc= librosa.feature.mfcc(signal[start_sample:finish_sample],\n"
     ]
    },
    {
     "name": "stdout",
     "output_type": "stream",
     "text": [
      "ocean_noise_data\\bearded_seal\\7801800M.wav, segment:0\n",
      "\n",
      " processingocean_noise_data\\bowhead_whale\n",
      "ocean_noise_data\\bowhead_whale\\72021005.wav, segment:0\n",
      "ocean_noise_data\\bowhead_whale\\72021005.wav, segment:1\n",
      "ocean_noise_data\\bowhead_whale\\72021005.wav, segment:2\n",
      "ocean_noise_data\\bowhead_whale\\72021005.wav, segment:3\n",
      "ocean_noise_data\\bowhead_whale\\72021005.wav, segment:4\n",
      "ocean_noise_data\\bowhead_whale\\72021005.wav, segment:5\n",
      "ocean_noise_data\\bowhead_whale\\72021005.wav, segment:6\n",
      "ocean_noise_data\\bowhead_whale\\72021005.wav, segment:7\n",
      "ocean_noise_data\\bowhead_whale\\72021005.wav, segment:8\n",
      "ocean_noise_data\\bowhead_whale\\72021005.wav, segment:9\n",
      "ocean_noise_data\\bowhead_whale\\72021005.wav, segment:10\n",
      "ocean_noise_data\\bowhead_whale\\72021005.wav, segment:11\n",
      "ocean_noise_data\\bowhead_whale\\72021005.wav, segment:12\n",
      "ocean_noise_data\\bowhead_whale\\72021005.wav, segment:13\n"
     ]
    },
    {
     "name": "stderr",
     "output_type": "stream",
     "text": [
      "C:\\Users\\TUKUNA\\AppData\\Local\\Temp/ipykernel_14232/2309356834.py:31: FutureWarning: Pass y=[0.00372734 0.00590661 0.00702415 ... 0.00519404 0.00137208 0.        ] as keyword args. From version 0.10 passing these as positional arguments will result in an error\n",
      "  if librosa.get_duration(signal)>10:\n",
      "C:\\Users\\TUKUNA\\AppData\\Local\\Temp/ipykernel_14232/2309356834.py:40: FutureWarning: Pass y=[0.00372734 0.00590661 0.00702415 ... 0.07768849 0.04158473 0.00073554] as keyword args. From version 0.10 passing these as positional arguments will result in an error\n",
      "  mfcc= librosa.feature.mfcc(signal[start_sample:finish_sample],\n",
      "C:\\Users\\TUKUNA\\AppData\\Local\\Temp/ipykernel_14232/2309356834.py:40: FutureWarning: Pass y=[-0.04445839 -0.08927997 -0.12947509 ... -0.18105651 -0.15341976\n",
      " -0.13365762] as keyword args. From version 0.10 passing these as positional arguments will result in an error\n",
      "  mfcc= librosa.feature.mfcc(signal[start_sample:finish_sample],\n",
      "C:\\Users\\TUKUNA\\AppData\\Local\\Temp/ipykernel_14232/2309356834.py:40: FutureWarning: Pass y=[-0.13479815 -0.1468715  -0.1452254  ...  0.00519404  0.00137208\n",
      "  0.        ] as keyword args. From version 0.10 passing these as positional arguments will result in an error\n",
      "  mfcc= librosa.feature.mfcc(signal[start_sample:finish_sample],\n"
     ]
    },
    {
     "name": "stdout",
     "output_type": "stream",
     "text": [
      "ocean_noise_data\\bowhead_whale\\7202100Q.wav, segment:0\n",
      "ocean_noise_data\\bowhead_whale\\7202100Q.wav, segment:1\n",
      "ocean_noise_data\\bowhead_whale\\7202100T.wav, segment:0\n",
      "ocean_noise_data\\bowhead_whale\\7202100T.wav, segment:1\n",
      "ocean_noise_data\\bowhead_whale\\7202100V.wav, segment:0\n",
      "ocean_noise_data\\bowhead_whale\\7202100V.wav, segment:1\n",
      "ocean_noise_data\\bowhead_whale\\7202100Z.wav, segment:0\n",
      "ocean_noise_data\\bowhead_whale\\7202100Z.wav, segment:1\n",
      "ocean_noise_data\\bowhead_whale\\78018002.wav, segment:0\n",
      "ocean_noise_data\\bowhead_whale\\78018002.wav, segment:1\n",
      "ocean_noise_data\\bowhead_whale\\78018002.wav, segment:2\n",
      "ocean_noise_data\\bowhead_whale\\78018002.wav, segment:3\n",
      "ocean_noise_data\\bowhead_whale\\78018003.wav, segment:0\n",
      "ocean_noise_data\\bowhead_whale\\7801800B.wav, segment:0\n",
      "ocean_noise_data\\bowhead_whale\\7801800D.wav, segment:0\n",
      "ocean_noise_data\\bowhead_whale\\7801800H.wav, segment:0\n",
      "ocean_noise_data\\bowhead_whale\\7801800J.wav, segment:0\n",
      "ocean_noise_data\\bowhead_whale\\88006001.wav, segment:0\n"
     ]
    },
    {
     "name": "stderr",
     "output_type": "stream",
     "text": [
      "C:\\Users\\TUKUNA\\AppData\\Local\\Temp/ipykernel_14232/2309356834.py:31: FutureWarning: Pass y=[-0.00325574 -0.00417558 -0.00453401 ...  0.01318843  0.00938352\n",
      "  0.        ] as keyword args. From version 0.10 passing these as positional arguments will result in an error\n",
      "  if librosa.get_duration(signal)>10:\n",
      "C:\\Users\\TUKUNA\\AppData\\Local\\Temp/ipykernel_14232/2309356834.py:40: FutureWarning: Pass y=[-0.00325574 -0.00417558 -0.00453401 ...  0.00215886  0.00504229\n",
      "  0.00358448] as keyword args. From version 0.10 passing these as positional arguments will result in an error\n",
      "  mfcc= librosa.feature.mfcc(signal[start_sample:finish_sample],\n",
      "C:\\Users\\TUKUNA\\AppData\\Local\\Temp/ipykernel_14232/2309356834.py:31: FutureWarning: Pass y=[0.00278554 0.00310504 0.00200837 ... 0.01246821 0.00863403 0.        ] as keyword args. From version 0.10 passing these as positional arguments will result in an error\n",
      "  if librosa.get_duration(signal)>10:\n",
      "C:\\Users\\TUKUNA\\AppData\\Local\\Temp/ipykernel_14232/2309356834.py:40: FutureWarning: Pass y=[0.00278554 0.00310504 0.00200837 ... 0.01749952 0.0178083  0.01733398] as keyword args. From version 0.10 passing these as positional arguments will result in an error\n",
      "  mfcc= librosa.feature.mfcc(signal[start_sample:finish_sample],\n"
     ]
    },
    {
     "name": "stdout",
     "output_type": "stream",
     "text": [
      "ocean_noise_data\\bowhead_whale\\88006003.wav, segment:0\n"
     ]
    },
    {
     "name": "stderr",
     "output_type": "stream",
     "text": [
      "C:\\Users\\TUKUNA\\AppData\\Local\\Temp/ipykernel_14232/2309356834.py:31: FutureWarning: Pass y=[-0.00400804 -0.0039338  -0.00336767 ...  0.00868936  0.00593232\n",
      "  0.        ] as keyword args. From version 0.10 passing these as positional arguments will result in an error\n",
      "  if librosa.get_duration(signal)>10:\n",
      "C:\\Users\\TUKUNA\\AppData\\Local\\Temp/ipykernel_14232/2309356834.py:40: FutureWarning: Pass y=[-0.00400804 -0.0039338  -0.00336767 ...  0.01365755  0.01205473\n",
      "  0.01000193] as keyword args. From version 0.10 passing these as positional arguments will result in an error\n",
      "  mfcc= librosa.feature.mfcc(signal[start_sample:finish_sample],\n"
     ]
    },
    {
     "name": "stdout",
     "output_type": "stream",
     "text": [
      "ocean_noise_data\\bowhead_whale\\88006005.wav, segment:0\n"
     ]
    },
    {
     "name": "stderr",
     "output_type": "stream",
     "text": [
      "C:\\Users\\TUKUNA\\AppData\\Local\\Temp/ipykernel_14232/2309356834.py:31: FutureWarning: Pass y=[ 0.00192174  0.00105056  0.00086107 ... -0.0011358  -0.0017495\n",
      "  0.        ] as keyword args. From version 0.10 passing these as positional arguments will result in an error\n",
      "  if librosa.get_duration(signal)>10:\n",
      "C:\\Users\\TUKUNA\\AppData\\Local\\Temp/ipykernel_14232/2309356834.py:40: FutureWarning: Pass y=[ 0.00192174  0.00105056  0.00086107 ...  0.00026472 -0.00217797\n",
      " -0.00333667] as keyword args. From version 0.10 passing these as positional arguments will result in an error\n",
      "  mfcc= librosa.feature.mfcc(signal[start_sample:finish_sample],\n",
      "C:\\Users\\TUKUNA\\AppData\\Local\\Temp/ipykernel_14232/2309356834.py:31: FutureWarning: Pass y=[0.0016902  0.00173531 0.00136914 ... 0.00557041 0.00253071 0.        ] as keyword args. From version 0.10 passing these as positional arguments will result in an error\n",
      "  if librosa.get_duration(signal)>10:\n",
      "C:\\Users\\TUKUNA\\AppData\\Local\\Temp/ipykernel_14232/2309356834.py:40: FutureWarning: Pass y=[ 0.0016902   0.00173531  0.00136914 ... -0.04019687 -0.03740373\n",
      " -0.03512197] as keyword args. From version 0.10 passing these as positional arguments will result in an error\n",
      "  mfcc= librosa.feature.mfcc(signal[start_sample:finish_sample],\n"
     ]
    },
    {
     "name": "stdout",
     "output_type": "stream",
     "text": [
      "ocean_noise_data\\bowhead_whale\\88006006.wav, segment:0\n",
      "ocean_noise_data\\bowhead_whale\\88006007.wav, segment:0\n"
     ]
    },
    {
     "name": "stderr",
     "output_type": "stream",
     "text": [
      "C:\\Users\\TUKUNA\\AppData\\Local\\Temp/ipykernel_14232/2309356834.py:31: FutureWarning: Pass y=[-0.00529748 -0.00650057 -0.00471228 ... -0.00326724 -0.00070806\n",
      "  0.        ] as keyword args. From version 0.10 passing these as positional arguments will result in an error\n",
      "  if librosa.get_duration(signal)>10:\n",
      "C:\\Users\\TUKUNA\\AppData\\Local\\Temp/ipykernel_14232/2309356834.py:40: FutureWarning: Pass y=[-0.00529748 -0.00650057 -0.00471228 ... -0.00137204  0.00050821\n",
      "  0.0002185 ] as keyword args. From version 0.10 passing these as positional arguments will result in an error\n",
      "  mfcc= librosa.feature.mfcc(signal[start_sample:finish_sample],\n"
     ]
    },
    {
     "name": "stdout",
     "output_type": "stream",
     "text": [
      "ocean_noise_data\\bowhead_whale\\88006008.wav, segment:0\n"
     ]
    },
    {
     "name": "stderr",
     "output_type": "stream",
     "text": [
      "C:\\Users\\TUKUNA\\AppData\\Local\\Temp/ipykernel_14232/2309356834.py:31: FutureWarning: Pass y=[0.00923784 0.01150628 0.01220241 ... 0.00680862 0.00584147 0.        ] as keyword args. From version 0.10 passing these as positional arguments will result in an error\n",
      "  if librosa.get_duration(signal)>10:\n",
      "C:\\Users\\TUKUNA\\AppData\\Local\\Temp/ipykernel_14232/2309356834.py:40: FutureWarning: Pass y=[0.00923784 0.01150628 0.01220241 ... 0.01310342 0.01287654 0.01400896] as keyword args. From version 0.10 passing these as positional arguments will result in an error\n",
      "  mfcc= librosa.feature.mfcc(signal[start_sample:finish_sample],\n"
     ]
    },
    {
     "name": "stdout",
     "output_type": "stream",
     "text": [
      "ocean_noise_data\\bowhead_whale\\8800600A.wav, segment:0\n"
     ]
    },
    {
     "name": "stderr",
     "output_type": "stream",
     "text": [
      "C:\\Users\\TUKUNA\\AppData\\Local\\Temp/ipykernel_14232/2309356834.py:31: FutureWarning: Pass y=[-0.00031171 -0.00193514 -0.00198426 ...  0.00178627  0.00095444\n",
      "  0.        ] as keyword args. From version 0.10 passing these as positional arguments will result in an error\n",
      "  if librosa.get_duration(signal)>10:\n",
      "C:\\Users\\TUKUNA\\AppData\\Local\\Temp/ipykernel_14232/2309356834.py:40: FutureWarning: Pass y=[-0.00031171 -0.00193514 -0.00198426 ... -0.00452407 -0.00559229\n",
      " -0.00879052] as keyword args. From version 0.10 passing these as positional arguments will result in an error\n",
      "  mfcc= librosa.feature.mfcc(signal[start_sample:finish_sample],\n"
     ]
    },
    {
     "name": "stdout",
     "output_type": "stream",
     "text": [
      "ocean_noise_data\\bowhead_whale\\8800600C.wav, segment:0\n"
     ]
    },
    {
     "name": "stderr",
     "output_type": "stream",
     "text": [
      "C:\\Users\\TUKUNA\\AppData\\Local\\Temp/ipykernel_14232/2309356834.py:31: FutureWarning: Pass y=[-0.000116   -0.00054622 -0.00013811 ...  0.00436605  0.00193012\n",
      "  0.        ] as keyword args. From version 0.10 passing these as positional arguments will result in an error\n",
      "  if librosa.get_duration(signal)>10:\n",
      "C:\\Users\\TUKUNA\\AppData\\Local\\Temp/ipykernel_14232/2309356834.py:40: FutureWarning: Pass y=[-0.000116   -0.00054622 -0.00013811 ... -0.0043994  -0.00319765\n",
      "  0.00293585] as keyword args. From version 0.10 passing these as positional arguments will result in an error\n",
      "  mfcc= librosa.feature.mfcc(signal[start_sample:finish_sample],\n"
     ]
    },
    {
     "name": "stdout",
     "output_type": "stream",
     "text": [
      "ocean_noise_data\\bowhead_whale\\8800600D.wav, segment:0\n"
     ]
    },
    {
     "name": "stderr",
     "output_type": "stream",
     "text": [
      "C:\\Users\\TUKUNA\\AppData\\Local\\Temp/ipykernel_14232/2309356834.py:31: FutureWarning: Pass y=[-0.00364489 -0.00310878 -0.00119691 ...  0.00889072  0.00619759\n",
      "  0.        ] as keyword args. From version 0.10 passing these as positional arguments will result in an error\n",
      "  if librosa.get_duration(signal)>10:\n",
      "C:\\Users\\TUKUNA\\AppData\\Local\\Temp/ipykernel_14232/2309356834.py:40: FutureWarning: Pass y=[-0.00364489 -0.00310878 -0.00119691 ...  0.0091701   0.00334109\n",
      " -0.00116207] as keyword args. From version 0.10 passing these as positional arguments will result in an error\n",
      "  mfcc= librosa.feature.mfcc(signal[start_sample:finish_sample],\n"
     ]
    },
    {
     "name": "stdout",
     "output_type": "stream",
     "text": [
      "ocean_noise_data\\bowhead_whale\\8800600E.wav, segment:0\n"
     ]
    },
    {
     "name": "stderr",
     "output_type": "stream",
     "text": [
      "C:\\Users\\TUKUNA\\AppData\\Local\\Temp/ipykernel_14232/2309356834.py:31: FutureWarning: Pass y=[0.00077155 0.00493326 0.00931705 ... 0.00732568 0.00445945 0.        ] as keyword args. From version 0.10 passing these as positional arguments will result in an error\n",
      "  if librosa.get_duration(signal)>10:\n",
      "C:\\Users\\TUKUNA\\AppData\\Local\\Temp/ipykernel_14232/2309356834.py:40: FutureWarning: Pass y=[0.00077155 0.00493326 0.00931705 ... 0.03783283 0.03501652 0.03634481] as keyword args. From version 0.10 passing these as positional arguments will result in an error\n",
      "  mfcc= librosa.feature.mfcc(signal[start_sample:finish_sample],\n"
     ]
    },
    {
     "name": "stdout",
     "output_type": "stream",
     "text": [
      "ocean_noise_data\\bowhead_whale\\8800600F.wav, segment:0\n"
     ]
    },
    {
     "name": "stderr",
     "output_type": "stream",
     "text": [
      "C:\\Users\\TUKUNA\\AppData\\Local\\Temp/ipykernel_14232/2309356834.py:31: FutureWarning: Pass y=[ 0.00222398  0.00090461 -0.00097863 ...  0.00287706  0.00128582\n",
      "  0.        ] as keyword args. From version 0.10 passing these as positional arguments will result in an error\n",
      "  if librosa.get_duration(signal)>10:\n",
      "C:\\Users\\TUKUNA\\AppData\\Local\\Temp/ipykernel_14232/2309356834.py:40: FutureWarning: Pass y=[ 0.00222398  0.00090461 -0.00097863 ... -0.03428525 -0.03291179\n",
      " -0.02943044] as keyword args. From version 0.10 passing these as positional arguments will result in an error\n",
      "  mfcc= librosa.feature.mfcc(signal[start_sample:finish_sample],\n"
     ]
    },
    {
     "name": "stdout",
     "output_type": "stream",
     "text": [
      "ocean_noise_data\\bowhead_whale\\8800600G.wav, segment:0\n"
     ]
    },
    {
     "name": "stderr",
     "output_type": "stream",
     "text": [
      "C:\\Users\\TUKUNA\\AppData\\Local\\Temp/ipykernel_14232/2309356834.py:31: FutureWarning: Pass y=[0.00293053 0.00396673 0.00331936 ... 0.00473907 0.00307385 0.        ] as keyword args. From version 0.10 passing these as positional arguments will result in an error\n",
      "  if librosa.get_duration(signal)>10:\n",
      "C:\\Users\\TUKUNA\\AppData\\Local\\Temp/ipykernel_14232/2309356834.py:40: FutureWarning: Pass y=[ 0.00293053  0.00396673  0.00331936 ... -0.05154081 -0.04897913\n",
      " -0.04065996] as keyword args. From version 0.10 passing these as positional arguments will result in an error\n",
      "  mfcc= librosa.feature.mfcc(signal[start_sample:finish_sample],\n"
     ]
    },
    {
     "name": "stdout",
     "output_type": "stream",
     "text": [
      "ocean_noise_data\\bowhead_whale\\8800600H.wav, segment:0\n"
     ]
    },
    {
     "name": "stderr",
     "output_type": "stream",
     "text": [
      "C:\\Users\\TUKUNA\\AppData\\Local\\Temp/ipykernel_14232/2309356834.py:31: FutureWarning: Pass y=[ 0.00402487  0.00624901  0.00717446 ... -0.00445432 -0.00307122\n",
      "  0.        ] as keyword args. From version 0.10 passing these as positional arguments will result in an error\n",
      "  if librosa.get_duration(signal)>10:\n",
      "C:\\Users\\TUKUNA\\AppData\\Local\\Temp/ipykernel_14232/2309356834.py:40: FutureWarning: Pass y=[ 0.00402487  0.00624901  0.00717446 ... -0.01473188 -0.01293085\n",
      " -0.01062638] as keyword args. From version 0.10 passing these as positional arguments will result in an error\n",
      "  mfcc= librosa.feature.mfcc(signal[start_sample:finish_sample],\n"
     ]
    },
    {
     "name": "stdout",
     "output_type": "stream",
     "text": [
      "ocean_noise_data\\bowhead_whale\\8800600I.wav, segment:0\n"
     ]
    },
    {
     "name": "stderr",
     "output_type": "stream",
     "text": [
      "C:\\Users\\TUKUNA\\AppData\\Local\\Temp/ipykernel_14232/2309356834.py:31: FutureWarning: Pass y=[ 0.00558087  0.00685435  0.00489178 ... -0.00876292 -0.00585487\n",
      "  0.        ] as keyword args. From version 0.10 passing these as positional arguments will result in an error\n",
      "  if librosa.get_duration(signal)>10:\n",
      "C:\\Users\\TUKUNA\\AppData\\Local\\Temp/ipykernel_14232/2309356834.py:40: FutureWarning: Pass y=[ 0.00558087  0.00685435  0.00489178 ... -0.0289969  -0.03403288\n",
      " -0.03742035] as keyword args. From version 0.10 passing these as positional arguments will result in an error\n",
      "  mfcc= librosa.feature.mfcc(signal[start_sample:finish_sample],\n"
     ]
    },
    {
     "name": "stdout",
     "output_type": "stream",
     "text": [
      "ocean_noise_data\\bowhead_whale\\8800600J.wav, segment:0\n"
     ]
    },
    {
     "name": "stderr",
     "output_type": "stream",
     "text": [
      "C:\\Users\\TUKUNA\\AppData\\Local\\Temp/ipykernel_14232/2309356834.py:31: FutureWarning: Pass y=[-0.00081086 -0.00070717 -0.00028442 ...  0.00931597  0.00546191\n",
      "  0.        ] as keyword args. From version 0.10 passing these as positional arguments will result in an error\n",
      "  if librosa.get_duration(signal)>10:\n",
      "C:\\Users\\TUKUNA\\AppData\\Local\\Temp/ipykernel_14232/2309356834.py:40: FutureWarning: Pass y=[-0.00081086 -0.00070717 -0.00028442 ...  0.01197862  0.01329313\n",
      "  0.01207381] as keyword args. From version 0.10 passing these as positional arguments will result in an error\n",
      "  mfcc= librosa.feature.mfcc(signal[start_sample:finish_sample],\n"
     ]
    },
    {
     "name": "stdout",
     "output_type": "stream",
     "text": [
      "ocean_noise_data\\bowhead_whale\\8800600K.wav, segment:0\n"
     ]
    },
    {
     "name": "stderr",
     "output_type": "stream",
     "text": [
      "C:\\Users\\TUKUNA\\AppData\\Local\\Temp/ipykernel_14232/2309356834.py:31: FutureWarning: Pass y=[0.00403389 0.00481248 0.00552829 ... 0.00147162 0.00043251 0.        ] as keyword args. From version 0.10 passing these as positional arguments will result in an error\n",
      "  if librosa.get_duration(signal)>10:\n",
      "C:\\Users\\TUKUNA\\AppData\\Local\\Temp/ipykernel_14232/2309356834.py:40: FutureWarning: Pass y=[0.00403389 0.00481248 0.00552829 ... 0.01043261 0.00568527 0.0021783 ] as keyword args. From version 0.10 passing these as positional arguments will result in an error\n",
      "  mfcc= librosa.feature.mfcc(signal[start_sample:finish_sample],\n"
     ]
    },
    {
     "name": "stdout",
     "output_type": "stream",
     "text": [
      "ocean_noise_data\\bowhead_whale\\8800600L.wav, segment:0\n"
     ]
    },
    {
     "name": "stderr",
     "output_type": "stream",
     "text": [
      "C:\\Users\\TUKUNA\\AppData\\Local\\Temp/ipykernel_14232/2309356834.py:31: FutureWarning: Pass y=[-0.00390047 -0.00356113 -0.00144975 ...  0.01028616  0.00697987\n",
      "  0.        ] as keyword args. From version 0.10 passing these as positional arguments will result in an error\n",
      "  if librosa.get_duration(signal)>10:\n",
      "C:\\Users\\TUKUNA\\AppData\\Local\\Temp/ipykernel_14232/2309356834.py:40: FutureWarning: Pass y=[-0.00390047 -0.00356113 -0.00144975 ...  0.00402594  0.00286672\n",
      "  0.00362595] as keyword args. From version 0.10 passing these as positional arguments will result in an error\n",
      "  mfcc= librosa.feature.mfcc(signal[start_sample:finish_sample],\n"
     ]
    },
    {
     "name": "stdout",
     "output_type": "stream",
     "text": [
      "ocean_noise_data\\bowhead_whale\\8800600N.wav, segment:0\n"
     ]
    },
    {
     "name": "stderr",
     "output_type": "stream",
     "text": [
      "C:\\Users\\TUKUNA\\AppData\\Local\\Temp/ipykernel_14232/2309356834.py:31: FutureWarning: Pass y=[0.00340724 0.00391435 0.00246568 ... 0.00543248 0.00287695 0.        ] as keyword args. From version 0.10 passing these as positional arguments will result in an error\n",
      "  if librosa.get_duration(signal)>10:\n",
      "C:\\Users\\TUKUNA\\AppData\\Local\\Temp/ipykernel_14232/2309356834.py:40: FutureWarning: Pass y=[ 0.00340724  0.00391435  0.00246568 ... -0.0030192  -0.00540654\n",
      " -0.00626972] as keyword args. From version 0.10 passing these as positional arguments will result in an error\n",
      "  mfcc= librosa.feature.mfcc(signal[start_sample:finish_sample],\n"
     ]
    },
    {
     "name": "stdout",
     "output_type": "stream",
     "text": [
      "ocean_noise_data\\bowhead_whale\\8800600O.wav, segment:0\n"
     ]
    },
    {
     "name": "stderr",
     "output_type": "stream",
     "text": [
      "C:\\Users\\TUKUNA\\AppData\\Local\\Temp/ipykernel_14232/2309356834.py:31: FutureWarning: Pass y=[-0.0020138  -0.00181352 -0.00030358 ...  0.00562037  0.0052993\n",
      "  0.        ] as keyword args. From version 0.10 passing these as positional arguments will result in an error\n",
      "  if librosa.get_duration(signal)>10:\n",
      "C:\\Users\\TUKUNA\\AppData\\Local\\Temp/ipykernel_14232/2309356834.py:40: FutureWarning: Pass y=[-0.0020138  -0.00181352 -0.00030358 ...  0.1062782   0.10585417\n",
      "  0.10778747] as keyword args. From version 0.10 passing these as positional arguments will result in an error\n",
      "  mfcc= librosa.feature.mfcc(signal[start_sample:finish_sample],\n",
      "C:\\Users\\TUKUNA\\AppData\\Local\\Temp/ipykernel_14232/2309356834.py:31: FutureWarning: Pass y=[-0.00634411 -0.00852823 -0.00888296 ...  0.00318014  0.00332747\n",
      "  0.        ] as keyword args. From version 0.10 passing these as positional arguments will result in an error\n",
      "  if librosa.get_duration(signal)>10:\n",
      "C:\\Users\\TUKUNA\\AppData\\Local\\Temp/ipykernel_14232/2309356834.py:40: FutureWarning: Pass y=[-0.00634411 -0.00852823 -0.00888296 ... -0.00682444 -0.01161606\n",
      " -0.0176684 ] as keyword args. From version 0.10 passing these as positional arguments will result in an error\n",
      "  mfcc= librosa.feature.mfcc(signal[start_sample:finish_sample],\n"
     ]
    },
    {
     "name": "stdout",
     "output_type": "stream",
     "text": [
      "ocean_noise_data\\bowhead_whale\\8800600P.wav, segment:0\n",
      "ocean_noise_data\\bowhead_whale\\8800600Q.wav, segment:0\n"
     ]
    },
    {
     "name": "stderr",
     "output_type": "stream",
     "text": [
      "C:\\Users\\TUKUNA\\AppData\\Local\\Temp/ipykernel_14232/2309356834.py:31: FutureWarning: Pass y=[0.00469614 0.00576197 0.00566043 ... 0.01104325 0.01034454 0.        ] as keyword args. From version 0.10 passing these as positional arguments will result in an error\n",
      "  if librosa.get_duration(signal)>10:\n",
      "C:\\Users\\TUKUNA\\AppData\\Local\\Temp/ipykernel_14232/2309356834.py:40: FutureWarning: Pass y=[0.00469614 0.00576197 0.00566043 ... 0.01182279 0.0111235  0.00820266] as keyword args. From version 0.10 passing these as positional arguments will result in an error\n",
      "  mfcc= librosa.feature.mfcc(signal[start_sample:finish_sample],\n"
     ]
    },
    {
     "name": "stdout",
     "output_type": "stream",
     "text": [
      "ocean_noise_data\\bowhead_whale\\8800600R.wav, segment:0\n"
     ]
    },
    {
     "name": "stderr",
     "output_type": "stream",
     "text": [
      "C:\\Users\\TUKUNA\\AppData\\Local\\Temp/ipykernel_14232/2309356834.py:31: FutureWarning: Pass y=[-0.00383622 -0.00357713 -0.00156359 ... -0.00369875 -0.00389373\n",
      "  0.        ] as keyword args. From version 0.10 passing these as positional arguments will result in an error\n",
      "  if librosa.get_duration(signal)>10:\n",
      "C:\\Users\\TUKUNA\\AppData\\Local\\Temp/ipykernel_14232/2309356834.py:40: FutureWarning: Pass y=[-0.00383622 -0.00357713 -0.00156359 ... -0.02028996 -0.01557948\n",
      " -0.00902547] as keyword args. From version 0.10 passing these as positional arguments will result in an error\n",
      "  mfcc= librosa.feature.mfcc(signal[start_sample:finish_sample],\n"
     ]
    },
    {
     "name": "stdout",
     "output_type": "stream",
     "text": [
      "ocean_noise_data\\bowhead_whale\\8800600S.wav, segment:0\n"
     ]
    },
    {
     "name": "stderr",
     "output_type": "stream",
     "text": [
      "C:\\Users\\TUKUNA\\AppData\\Local\\Temp/ipykernel_14232/2309356834.py:31: FutureWarning: Pass y=[0.00431145 0.00498876 0.00388124 ... 0.00543526 0.00297879 0.        ] as keyword args. From version 0.10 passing these as positional arguments will result in an error\n",
      "  if librosa.get_duration(signal)>10:\n",
      "C:\\Users\\TUKUNA\\AppData\\Local\\Temp/ipykernel_14232/2309356834.py:40: FutureWarning: Pass y=[0.00431145 0.00498876 0.00388124 ... 0.00570235 0.00460758 0.00402498] as keyword args. From version 0.10 passing these as positional arguments will result in an error\n",
      "  mfcc= librosa.feature.mfcc(signal[start_sample:finish_sample],\n"
     ]
    },
    {
     "name": "stdout",
     "output_type": "stream",
     "text": [
      "ocean_noise_data\\bowhead_whale\\8800600T.wav, segment:0\n"
     ]
    },
    {
     "name": "stderr",
     "output_type": "stream",
     "text": [
      "C:\\Users\\TUKUNA\\AppData\\Local\\Temp/ipykernel_14232/2309356834.py:31: FutureWarning: Pass y=[0.00211507 0.00363983 0.00459705 ... 0.00778159 0.00490798 0.        ] as keyword args. From version 0.10 passing these as positional arguments will result in an error\n",
      "  if librosa.get_duration(signal)>10:\n",
      "C:\\Users\\TUKUNA\\AppData\\Local\\Temp/ipykernel_14232/2309356834.py:40: FutureWarning: Pass y=[0.00211507 0.00363983 0.00459705 ... 0.00756967 0.00849967 0.00470875] as keyword args. From version 0.10 passing these as positional arguments will result in an error\n",
      "  mfcc= librosa.feature.mfcc(signal[start_sample:finish_sample],\n"
     ]
    },
    {
     "name": "stdout",
     "output_type": "stream",
     "text": [
      "ocean_noise_data\\bowhead_whale\\8800600U.wav, segment:0\n"
     ]
    },
    {
     "name": "stderr",
     "output_type": "stream",
     "text": [
      "C:\\Users\\TUKUNA\\AppData\\Local\\Temp/ipykernel_14232/2309356834.py:31: FutureWarning: Pass y=[ 0.00546096  0.01047063  0.01418452 ... -0.00176317 -0.00147136\n",
      "  0.        ] as keyword args. From version 0.10 passing these as positional arguments will result in an error\n",
      "  if librosa.get_duration(signal)>10:\n",
      "C:\\Users\\TUKUNA\\AppData\\Local\\Temp/ipykernel_14232/2309356834.py:40: FutureWarning: Pass y=[ 0.00546096  0.01047063  0.01418452 ... -0.13798895 -0.15752059\n",
      " -0.16558796] as keyword args. From version 0.10 passing these as positional arguments will result in an error\n",
      "  mfcc= librosa.feature.mfcc(signal[start_sample:finish_sample],\n",
      "C:\\Users\\TUKUNA\\AppData\\Local\\Temp/ipykernel_14232/2309356834.py:31: FutureWarning: Pass y=[0.00321819 0.00345332 0.00247997 ... 0.00211844 0.00065438 0.        ] as keyword args. From version 0.10 passing these as positional arguments will result in an error\n",
      "  if librosa.get_duration(signal)>10:\n",
      "C:\\Users\\TUKUNA\\AppData\\Local\\Temp/ipykernel_14232/2309356834.py:40: FutureWarning: Pass y=[ 0.00321819  0.00345332  0.00247997 ... -0.00478845 -0.00673455\n",
      " -0.00780479] as keyword args. From version 0.10 passing these as positional arguments will result in an error\n",
      "  mfcc= librosa.feature.mfcc(signal[start_sample:finish_sample],\n"
     ]
    },
    {
     "name": "stdout",
     "output_type": "stream",
     "text": [
      "ocean_noise_data\\bowhead_whale\\8800600W.wav, segment:0\n",
      "ocean_noise_data\\bowhead_whale\\8800600Y.wav, segment:0\n"
     ]
    },
    {
     "name": "stderr",
     "output_type": "stream",
     "text": [
      "C:\\Users\\TUKUNA\\AppData\\Local\\Temp/ipykernel_14232/2309356834.py:31: FutureWarning: Pass y=[ 0.0080189   0.00890391  0.00715995 ... -0.0012374  -0.00124771\n",
      "  0.        ] as keyword args. From version 0.10 passing these as positional arguments will result in an error\n",
      "  if librosa.get_duration(signal)>10:\n",
      "C:\\Users\\TUKUNA\\AppData\\Local\\Temp/ipykernel_14232/2309356834.py:40: FutureWarning: Pass y=[0.0080189  0.00890391 0.00715995 ... 0.00392604 0.00537568 0.0059172 ] as keyword args. From version 0.10 passing these as positional arguments will result in an error\n",
      "  mfcc= librosa.feature.mfcc(signal[start_sample:finish_sample],\n"
     ]
    },
    {
     "name": "stdout",
     "output_type": "stream",
     "text": [
      "ocean_noise_data\\bowhead_whale\\8800600Z.wav, segment:0\n"
     ]
    },
    {
     "name": "stderr",
     "output_type": "stream",
     "text": [
      "C:\\Users\\TUKUNA\\AppData\\Local\\Temp/ipykernel_14232/2309356834.py:31: FutureWarning: Pass y=[ 0.01111456  0.01155796  0.00866493 ... -0.00024817  0.00133313\n",
      "  0.        ] as keyword args. From version 0.10 passing these as positional arguments will result in an error\n",
      "  if librosa.get_duration(signal)>10:\n",
      "C:\\Users\\TUKUNA\\AppData\\Local\\Temp/ipykernel_14232/2309356834.py:40: FutureWarning: Pass y=[ 0.01111456  0.01155796  0.00866493 ... -0.00766184  0.00427033\n",
      "  0.01174274] as keyword args. From version 0.10 passing these as positional arguments will result in an error\n",
      "  mfcc= librosa.feature.mfcc(signal[start_sample:finish_sample],\n"
     ]
    },
    {
     "name": "stdout",
     "output_type": "stream",
     "text": [
      "ocean_noise_data\\bowhead_whale\\88006013.wav, segment:0\n"
     ]
    },
    {
     "name": "stderr",
     "output_type": "stream",
     "text": [
      "C:\\Users\\TUKUNA\\AppData\\Local\\Temp/ipykernel_14232/2309356834.py:31: FutureWarning: Pass y=[0.0016574  0.00104859 0.0010719  ... 0.00271867 0.00098938 0.        ] as keyword args. From version 0.10 passing these as positional arguments will result in an error\n",
      "  if librosa.get_duration(signal)>10:\n",
      "C:\\Users\\TUKUNA\\AppData\\Local\\Temp/ipykernel_14232/2309356834.py:40: FutureWarning: Pass y=[0.0016574  0.00104859 0.0010719  ... 0.00347344 0.00526582 0.00591088] as keyword args. From version 0.10 passing these as positional arguments will result in an error\n",
      "  mfcc= librosa.feature.mfcc(signal[start_sample:finish_sample],\n"
     ]
    },
    {
     "name": "stdout",
     "output_type": "stream",
     "text": [
      "ocean_noise_data\\bowhead_whale\\88006016.wav, segment:0\n"
     ]
    },
    {
     "name": "stderr",
     "output_type": "stream",
     "text": [
      "C:\\Users\\TUKUNA\\AppData\\Local\\Temp/ipykernel_14232/2309356834.py:31: FutureWarning: Pass y=[ 0.00174604  0.00252711  0.00309362 ... -0.00269486 -0.0007966\n",
      "  0.        ] as keyword args. From version 0.10 passing these as positional arguments will result in an error\n",
      "  if librosa.get_duration(signal)>10:\n",
      "C:\\Users\\TUKUNA\\AppData\\Local\\Temp/ipykernel_14232/2309356834.py:40: FutureWarning: Pass y=[0.00174604 0.00252711 0.00309362 ... 0.01118384 0.0109527  0.00941279] as keyword args. From version 0.10 passing these as positional arguments will result in an error\n",
      "  mfcc= librosa.feature.mfcc(signal[start_sample:finish_sample],\n"
     ]
    },
    {
     "name": "stdout",
     "output_type": "stream",
     "text": [
      "ocean_noise_data\\bowhead_whale\\88006017.wav, segment:0\n"
     ]
    },
    {
     "name": "stderr",
     "output_type": "stream",
     "text": [
      "C:\\Users\\TUKUNA\\AppData\\Local\\Temp/ipykernel_14232/2309356834.py:31: FutureWarning: Pass y=[ 0.00555625  0.00652806  0.00593755 ... -0.00815639 -0.00480755\n",
      "  0.        ] as keyword args. From version 0.10 passing these as positional arguments will result in an error\n",
      "  if librosa.get_duration(signal)>10:\n",
      "C:\\Users\\TUKUNA\\AppData\\Local\\Temp/ipykernel_14232/2309356834.py:40: FutureWarning: Pass y=[ 0.00555625  0.00652806  0.00593755 ... -0.00555565 -0.00481802\n",
      " -0.00748217] as keyword args. From version 0.10 passing these as positional arguments will result in an error\n",
      "  mfcc= librosa.feature.mfcc(signal[start_sample:finish_sample],\n"
     ]
    },
    {
     "name": "stdout",
     "output_type": "stream",
     "text": [
      "ocean_noise_data\\bowhead_whale\\8800601B.wav, segment:0\n"
     ]
    },
    {
     "name": "stderr",
     "output_type": "stream",
     "text": [
      "C:\\Users\\TUKUNA\\AppData\\Local\\Temp/ipykernel_14232/2309356834.py:31: FutureWarning: Pass y=[ 0.00562973  0.00580391  0.00373253 ... -0.0043134  -0.00275571\n",
      "  0.        ] as keyword args. From version 0.10 passing these as positional arguments will result in an error\n",
      "  if librosa.get_duration(signal)>10:\n",
      "C:\\Users\\TUKUNA\\AppData\\Local\\Temp/ipykernel_14232/2309356834.py:40: FutureWarning: Pass y=[ 0.00562973  0.00580391  0.00373253 ... -0.00252888 -0.00709195\n",
      " -0.00546947] as keyword args. From version 0.10 passing these as positional arguments will result in an error\n",
      "  mfcc= librosa.feature.mfcc(signal[start_sample:finish_sample],\n",
      "C:\\Users\\TUKUNA\\AppData\\Local\\Temp/ipykernel_14232/2309356834.py:31: FutureWarning: Pass y=[-0.00213247 -0.00263947 -0.00128693 ...  0.00286214  0.00302873\n",
      "  0.        ] as keyword args. From version 0.10 passing these as positional arguments will result in an error\n",
      "  if librosa.get_duration(signal)>10:\n"
     ]
    },
    {
     "name": "stdout",
     "output_type": "stream",
     "text": [
      "ocean_noise_data\\bowhead_whale\\8800601C.wav, segment:0\n"
     ]
    },
    {
     "name": "stderr",
     "output_type": "stream",
     "text": [
      "C:\\Users\\TUKUNA\\AppData\\Local\\Temp/ipykernel_14232/2309356834.py:40: FutureWarning: Pass y=[-0.00213247 -0.00263947 -0.00128693 ... -0.00575249 -0.00196811\n",
      "  0.00367965] as keyword args. From version 0.10 passing these as positional arguments will result in an error\n",
      "  mfcc= librosa.feature.mfcc(signal[start_sample:finish_sample],\n",
      "C:\\Users\\TUKUNA\\AppData\\Local\\Temp/ipykernel_14232/2309356834.py:31: FutureWarning: Pass y=[-0.00450788 -0.00479583 -0.00471982 ...  0.00240282  0.00141934\n",
      "  0.        ] as keyword args. From version 0.10 passing these as positional arguments will result in an error\n",
      "  if librosa.get_duration(signal)>10:\n",
      "C:\\Users\\TUKUNA\\AppData\\Local\\Temp/ipykernel_14232/2309356834.py:40: FutureWarning: Pass y=[-0.00450788 -0.00479583 -0.00471982 ... -0.00390074 -0.00587423\n",
      " -0.00825219] as keyword args. From version 0.10 passing these as positional arguments will result in an error\n",
      "  mfcc= librosa.feature.mfcc(signal[start_sample:finish_sample],\n"
     ]
    },
    {
     "name": "stdout",
     "output_type": "stream",
     "text": [
      "ocean_noise_data\\bowhead_whale\\8800601L.wav, segment:0\n",
      "ocean_noise_data\\bowhead_whale\\8800601U.wav, segment:0\n"
     ]
    },
    {
     "name": "stderr",
     "output_type": "stream",
     "text": [
      "C:\\Users\\TUKUNA\\AppData\\Local\\Temp/ipykernel_14232/2309356834.py:31: FutureWarning: Pass y=[-1.0770590e-03 -6.2817713e-04  5.4733875e-05 ... -1.4201793e-03\n",
      " -6.9282978e-04  0.0000000e+00] as keyword args. From version 0.10 passing these as positional arguments will result in an error\n",
      "  if librosa.get_duration(signal)>10:\n",
      "C:\\Users\\TUKUNA\\AppData\\Local\\Temp/ipykernel_14232/2309356834.py:40: FutureWarning: Pass y=[-1.0770590e-03 -6.2817713e-04  5.4733875e-05 ...  2.6270295e-02\n",
      "  2.3616154e-02  1.9723412e-02] as keyword args. From version 0.10 passing these as positional arguments will result in an error\n",
      "  mfcc= librosa.feature.mfcc(signal[start_sample:finish_sample],\n",
      "C:\\Users\\TUKUNA\\AppData\\Local\\Temp/ipykernel_14232/2309356834.py:31: FutureWarning: Pass y=[0.00603768 0.00879251 0.01010544 ... 0.00415454 0.00266467 0.        ] as keyword args. From version 0.10 passing these as positional arguments will result in an error\n",
      "  if librosa.get_duration(signal)>10:\n",
      "C:\\Users\\TUKUNA\\AppData\\Local\\Temp/ipykernel_14232/2309356834.py:40: FutureWarning: Pass y=[0.00603768 0.00879251 0.01010544 ... 0.03742817 0.03330973 0.02550315] as keyword args. From version 0.10 passing these as positional arguments will result in an error\n",
      "  mfcc= librosa.feature.mfcc(signal[start_sample:finish_sample],\n"
     ]
    },
    {
     "name": "stdout",
     "output_type": "stream",
     "text": [
      "ocean_noise_data\\bowhead_whale\\8800601Y.wav, segment:0\n",
      "ocean_noise_data\\bowhead_whale\\8800602Q.wav, segment:0\n"
     ]
    },
    {
     "name": "stderr",
     "output_type": "stream",
     "text": [
      "C:\\Users\\TUKUNA\\AppData\\Local\\Temp/ipykernel_14232/2309356834.py:31: FutureWarning: Pass y=[-0.0016808  -0.00318963 -0.00454827 ... -0.0002599  -0.00072368\n",
      "  0.        ] as keyword args. From version 0.10 passing these as positional arguments will result in an error\n",
      "  if librosa.get_duration(signal)>10:\n",
      "C:\\Users\\TUKUNA\\AppData\\Local\\Temp/ipykernel_14232/2309356834.py:40: FutureWarning: Pass y=[-0.0016808  -0.00318963 -0.00454827 ... -0.01631059 -0.00895807\n",
      "  0.00036928] as keyword args. From version 0.10 passing these as positional arguments will result in an error\n",
      "  mfcc= librosa.feature.mfcc(signal[start_sample:finish_sample],\n"
     ]
    },
    {
     "name": "stdout",
     "output_type": "stream",
     "text": [
      "ocean_noise_data\\bowhead_whale\\8800602S.wav, segment:0\n"
     ]
    },
    {
     "name": "stderr",
     "output_type": "stream",
     "text": [
      "C:\\Users\\TUKUNA\\AppData\\Local\\Temp/ipykernel_14232/2309356834.py:31: FutureWarning: Pass y=[ 0.00122139 -0.00036537 -0.00341212 ...  0.01092628  0.0068086\n",
      "  0.        ] as keyword args. From version 0.10 passing these as positional arguments will result in an error\n",
      "  if librosa.get_duration(signal)>10:\n",
      "C:\\Users\\TUKUNA\\AppData\\Local\\Temp/ipykernel_14232/2309356834.py:40: FutureWarning: Pass y=[ 0.00122139 -0.00036537 -0.00341212 ... -0.05844689 -0.07394309\n",
      " -0.08504265] as keyword args. From version 0.10 passing these as positional arguments will result in an error\n",
      "  mfcc= librosa.feature.mfcc(signal[start_sample:finish_sample],\n"
     ]
    },
    {
     "name": "stdout",
     "output_type": "stream",
     "text": [
      "ocean_noise_data\\bowhead_whale\\8800602T.wav, segment:0\n"
     ]
    },
    {
     "name": "stderr",
     "output_type": "stream",
     "text": [
      "C:\\Users\\TUKUNA\\AppData\\Local\\Temp/ipykernel_14232/2309356834.py:31: FutureWarning: Pass y=[ 0.01155886  0.01411965  0.01440455 ... -0.00532936 -0.00320521\n",
      "  0.        ] as keyword args. From version 0.10 passing these as positional arguments will result in an error\n",
      "  if librosa.get_duration(signal)>10:\n",
      "C:\\Users\\TUKUNA\\AppData\\Local\\Temp/ipykernel_14232/2309356834.py:40: FutureWarning: Pass y=[ 0.01155886  0.01411965  0.01440455 ... -0.01512107 -0.01495495\n",
      " -0.01579147] as keyword args. From version 0.10 passing these as positional arguments will result in an error\n",
      "  mfcc= librosa.feature.mfcc(signal[start_sample:finish_sample],\n"
     ]
    },
    {
     "name": "stdout",
     "output_type": "stream",
     "text": [
      "ocean_noise_data\\bowhead_whale\\8800602U.wav, segment:0\n"
     ]
    },
    {
     "name": "stderr",
     "output_type": "stream",
     "text": [
      "C:\\Users\\TUKUNA\\AppData\\Local\\Temp/ipykernel_14232/2309356834.py:31: FutureWarning: Pass y=[0.00449835 0.00587836 0.00515352 ... 0.00530016 0.00334825 0.        ] as keyword args. From version 0.10 passing these as positional arguments will result in an error\n",
      "  if librosa.get_duration(signal)>10:\n",
      "C:\\Users\\TUKUNA\\AppData\\Local\\Temp/ipykernel_14232/2309356834.py:40: FutureWarning: Pass y=[0.00449835 0.00587836 0.00515352 ... 0.03206918 0.03438245 0.03440248] as keyword args. From version 0.10 passing these as positional arguments will result in an error\n",
      "  mfcc= librosa.feature.mfcc(signal[start_sample:finish_sample],\n",
      "C:\\Users\\TUKUNA\\AppData\\Local\\Temp/ipykernel_14232/2309356834.py:31: FutureWarning: Pass y=[-0.00235242 -0.00395166 -0.00351362 ...  0.00877961  0.00738961\n",
      "  0.        ] as keyword args. From version 0.10 passing these as positional arguments will result in an error\n",
      "  if librosa.get_duration(signal)>10:\n",
      "C:\\Users\\TUKUNA\\AppData\\Local\\Temp/ipykernel_14232/2309356834.py:40: FutureWarning: Pass y=[-0.00235242 -0.00395166 -0.00351362 ...  0.00412673  0.00544591\n",
      "  0.00600356] as keyword args. From version 0.10 passing these as positional arguments will result in an error\n",
      "  mfcc= librosa.feature.mfcc(signal[start_sample:finish_sample],\n"
     ]
    },
    {
     "name": "stdout",
     "output_type": "stream",
     "text": [
      "ocean_noise_data\\bowhead_whale\\8800602Z.wav, segment:0\n",
      "ocean_noise_data\\bowhead_whale\\88006030.wav, segment:0\n"
     ]
    },
    {
     "name": "stderr",
     "output_type": "stream",
     "text": [
      "C:\\Users\\TUKUNA\\AppData\\Local\\Temp/ipykernel_14232/2309356834.py:31: FutureWarning: Pass y=[0.0022022  0.00152873 0.00076889 ... 0.01297916 0.00757831 0.        ] as keyword args. From version 0.10 passing these as positional arguments will result in an error\n",
      "  if librosa.get_duration(signal)>10:\n",
      "C:\\Users\\TUKUNA\\AppData\\Local\\Temp/ipykernel_14232/2309356834.py:40: FutureWarning: Pass y=[ 0.0022022   0.00152873  0.00076889 ... -0.01641751 -0.03532548\n",
      " -0.05155515] as keyword args. From version 0.10 passing these as positional arguments will result in an error\n",
      "  mfcc= librosa.feature.mfcc(signal[start_sample:finish_sample],\n"
     ]
    },
    {
     "name": "stdout",
     "output_type": "stream",
     "text": [
      "ocean_noise_data\\bowhead_whale\\88006031.wav, segment:0\n"
     ]
    },
    {
     "name": "stderr",
     "output_type": "stream",
     "text": [
      "C:\\Users\\TUKUNA\\AppData\\Local\\Temp/ipykernel_14232/2309356834.py:31: FutureWarning: Pass y=[-0.00555125 -0.00822905 -0.00992756 ...  0.00332289  0.00200161\n",
      "  0.        ] as keyword args. From version 0.10 passing these as positional arguments will result in an error\n",
      "  if librosa.get_duration(signal)>10:\n",
      "C:\\Users\\TUKUNA\\AppData\\Local\\Temp/ipykernel_14232/2309356834.py:40: FutureWarning: Pass y=[-0.00555125 -0.00822905 -0.00992756 ...  0.110214    0.15092099\n",
      "  0.18141603] as keyword args. From version 0.10 passing these as positional arguments will result in an error\n",
      "  mfcc= librosa.feature.mfcc(signal[start_sample:finish_sample],\n"
     ]
    },
    {
     "name": "stdout",
     "output_type": "stream",
     "text": [
      "ocean_noise_data\\bowhead_whale\\88006032.wav, segment:0\n"
     ]
    },
    {
     "name": "stderr",
     "output_type": "stream",
     "text": [
      "C:\\Users\\TUKUNA\\AppData\\Local\\Temp/ipykernel_14232/2309356834.py:31: FutureWarning: Pass y=[-0.00857749 -0.010195   -0.00781958 ... -0.0093157  -0.00544073\n",
      "  0.        ] as keyword args. From version 0.10 passing these as positional arguments will result in an error\n",
      "  if librosa.get_duration(signal)>10:\n",
      "C:\\Users\\TUKUNA\\AppData\\Local\\Temp/ipykernel_14232/2309356834.py:40: FutureWarning: Pass y=[-0.00857749 -0.010195   -0.00781958 ...  0.01937718  0.01460547\n",
      "  0.00632309] as keyword args. From version 0.10 passing these as positional arguments will result in an error\n",
      "  mfcc= librosa.feature.mfcc(signal[start_sample:finish_sample],\n"
     ]
    },
    {
     "name": "stdout",
     "output_type": "stream",
     "text": [
      "ocean_noise_data\\bowhead_whale\\88006033.wav, segment:0\n"
     ]
    },
    {
     "name": "stderr",
     "output_type": "stream",
     "text": [
      "C:\\Users\\TUKUNA\\AppData\\Local\\Temp/ipykernel_14232/2309356834.py:31: FutureWarning: Pass y=[-0.00042552 -0.00157444 -0.00318251 ...  0.00317014  0.00202216\n",
      "  0.        ] as keyword args. From version 0.10 passing these as positional arguments will result in an error\n",
      "  if librosa.get_duration(signal)>10:\n",
      "C:\\Users\\TUKUNA\\AppData\\Local\\Temp/ipykernel_14232/2309356834.py:40: FutureWarning: Pass y=[-0.00042552 -0.00157444 -0.00318251 ... -0.03846028 -0.04175252\n",
      " -0.03818157] as keyword args. From version 0.10 passing these as positional arguments will result in an error\n",
      "  mfcc= librosa.feature.mfcc(signal[start_sample:finish_sample],\n"
     ]
    },
    {
     "name": "stdout",
     "output_type": "stream",
     "text": [
      "ocean_noise_data\\bowhead_whale\\88006034.wav, segment:0\n"
     ]
    },
    {
     "name": "stderr",
     "output_type": "stream",
     "text": [
      "C:\\Users\\TUKUNA\\AppData\\Local\\Temp/ipykernel_14232/2309356834.py:31: FutureWarning: Pass y=[-0.0086008  -0.00876691 -0.00542754 ... -0.0048084  -0.00273875\n",
      "  0.        ] as keyword args. From version 0.10 passing these as positional arguments will result in an error\n",
      "  if librosa.get_duration(signal)>10:\n",
      "C:\\Users\\TUKUNA\\AppData\\Local\\Temp/ipykernel_14232/2309356834.py:40: FutureWarning: Pass y=[-0.0086008  -0.00876691 -0.00542754 ...  0.00775497  0.01057147\n",
      "  0.01254211] as keyword args. From version 0.10 passing these as positional arguments will result in an error\n",
      "  mfcc= librosa.feature.mfcc(signal[start_sample:finish_sample],\n"
     ]
    },
    {
     "name": "stdout",
     "output_type": "stream",
     "text": [
      "ocean_noise_data\\bowhead_whale\\88006036.wav, segment:0\n"
     ]
    },
    {
     "name": "stderr",
     "output_type": "stream",
     "text": [
      "C:\\Users\\TUKUNA\\AppData\\Local\\Temp/ipykernel_14232/2309356834.py:31: FutureWarning: Pass y=[ 0.00300461  0.00112525 -0.00052591 ... -0.0041491  -0.00170396\n",
      "  0.        ] as keyword args. From version 0.10 passing these as positional arguments will result in an error\n",
      "  if librosa.get_duration(signal)>10:\n",
      "C:\\Users\\TUKUNA\\AppData\\Local\\Temp/ipykernel_14232/2309356834.py:40: FutureWarning: Pass y=[ 0.00300461  0.00112525 -0.00052591 ... -0.00143914 -0.00293438\n",
      "  0.00017022] as keyword args. From version 0.10 passing these as positional arguments will result in an error\n",
      "  mfcc= librosa.feature.mfcc(signal[start_sample:finish_sample],\n"
     ]
    },
    {
     "name": "stdout",
     "output_type": "stream",
     "text": [
      "ocean_noise_data\\bowhead_whale\\88006037.wav, segment:0\n"
     ]
    },
    {
     "name": "stderr",
     "output_type": "stream",
     "text": [
      "C:\\Users\\TUKUNA\\AppData\\Local\\Temp/ipykernel_14232/2309356834.py:31: FutureWarning: Pass y=[-0.00207775 -0.00411115 -0.00487944 ... -0.00436025 -0.00230386\n",
      "  0.        ] as keyword args. From version 0.10 passing these as positional arguments will result in an error\n",
      "  if librosa.get_duration(signal)>10:\n",
      "C:\\Users\\TUKUNA\\AppData\\Local\\Temp/ipykernel_14232/2309356834.py:40: FutureWarning: Pass y=[-0.00207775 -0.00411115 -0.00487944 ...  0.00845738  0.00589798\n",
      "  0.00482624] as keyword args. From version 0.10 passing these as positional arguments will result in an error\n",
      "  mfcc= librosa.feature.mfcc(signal[start_sample:finish_sample],\n"
     ]
    },
    {
     "name": "stdout",
     "output_type": "stream",
     "text": [
      "ocean_noise_data\\bowhead_whale\\88006038.wav, segment:0\n",
      "\n",
      " processingocean_noise_data\\common_dolphin\n"
     ]
    },
    {
     "name": "stderr",
     "output_type": "stream",
     "text": [
      "C:\\Users\\TUKUNA\\AppData\\Local\\Temp/ipykernel_14232/2309356834.py:31: FutureWarning: Pass y=[0.00598227 0.01283913 0.00923342 ... 0.01711599 0.01776677 0.        ] as keyword args. From version 0.10 passing these as positional arguments will result in an error\n",
      "  if librosa.get_duration(signal)>10:\n",
      "C:\\Users\\TUKUNA\\AppData\\Local\\Temp/ipykernel_14232/2309356834.py:40: FutureWarning: Pass y=[ 0.00598227  0.01283913  0.00923342 ... -0.01396193 -0.01135697\n",
      " -0.01479269] as keyword args. From version 0.10 passing these as positional arguments will result in an error\n",
      "  mfcc= librosa.feature.mfcc(signal[start_sample:finish_sample],\n",
      "C:\\Users\\TUKUNA\\AppData\\Local\\Temp/ipykernel_14232/2309356834.py:31: FutureWarning: Pass y=[-0.00119767  0.00679346  0.00644113 ...  0.02453419  0.02373821\n",
      "  0.        ] as keyword args. From version 0.10 passing these as positional arguments will result in an error\n",
      "  if librosa.get_duration(signal)>10:\n",
      "C:\\Users\\TUKUNA\\AppData\\Local\\Temp/ipykernel_14232/2309356834.py:40: FutureWarning: Pass y=[-0.00119767  0.00679346  0.00644113 ...  0.02453419  0.02373821\n",
      "  0.        ] as keyword args. From version 0.10 passing these as positional arguments will result in an error\n",
      "  mfcc= librosa.feature.mfcc(signal[start_sample:finish_sample],\n",
      "C:\\Users\\TUKUNA\\AppData\\Local\\Temp/ipykernel_14232/2309356834.py:31: FutureWarning: Pass y=[0.01005664 0.01632203 0.01295892 ... 0.03005885 0.03489511 0.        ] as keyword args. From version 0.10 passing these as positional arguments will result in an error\n",
      "  if librosa.get_duration(signal)>10:\n"
     ]
    },
    {
     "name": "stdout",
     "output_type": "stream",
     "text": [
      "ocean_noise_data\\common_dolphin\\5801400J.wav, segment:0\n"
     ]
    },
    {
     "name": "stderr",
     "output_type": "stream",
     "text": [
      "C:\\Users\\TUKUNA\\AppData\\Local\\Temp/ipykernel_14232/2309356834.py:40: FutureWarning: Pass y=[0.01005664 0.01632203 0.01295892 ... 0.03005885 0.03489511 0.        ] as keyword args. From version 0.10 passing these as positional arguments will result in an error\n",
      "  mfcc= librosa.feature.mfcc(signal[start_sample:finish_sample],\n",
      "C:\\Users\\TUKUNA\\AppData\\Local\\Temp/ipykernel_14232/2309356834.py:31: FutureWarning: Pass y=[ 0.00224704  0.00253826  0.00184106 ... -0.02113914 -0.02165065\n",
      "  0.        ] as keyword args. From version 0.10 passing these as positional arguments will result in an error\n",
      "  if librosa.get_duration(signal)>10:\n",
      "C:\\Users\\TUKUNA\\AppData\\Local\\Temp/ipykernel_14232/2309356834.py:40: FutureWarning: Pass y=[ 0.00224704  0.00253826  0.00184106 ... -0.01997461 -0.01760314\n",
      " -0.0291016 ] as keyword args. From version 0.10 passing these as positional arguments will result in an error\n",
      "  mfcc= librosa.feature.mfcc(signal[start_sample:finish_sample],\n",
      "C:\\Users\\TUKUNA\\AppData\\Local\\Temp/ipykernel_14232/2309356834.py:31: FutureWarning: Pass y=[-0.02308016 -0.03265415 -0.03247428 ...  0.00617002  0.00734693\n",
      "  0.        ] as keyword args. From version 0.10 passing these as positional arguments will result in an error\n",
      "  if librosa.get_duration(signal)>10:\n",
      "C:\\Users\\TUKUNA\\AppData\\Local\\Temp/ipykernel_14232/2309356834.py:40: FutureWarning: Pass y=[-0.02308016 -0.03265415 -0.03247428 ...  0.05411132  0.06277642\n",
      "  0.06996544] as keyword args. From version 0.10 passing these as positional arguments will result in an error\n",
      "  mfcc= librosa.feature.mfcc(signal[start_sample:finish_sample],\n"
     ]
    },
    {
     "name": "stdout",
     "output_type": "stream",
     "text": [
      "ocean_noise_data\\common_dolphin\\58014028.wav, segment:0\n",
      "ocean_noise_data\\common_dolphin\\5801402C.wav, segment:0\n"
     ]
    },
    {
     "name": "stderr",
     "output_type": "stream",
     "text": [
      "C:\\Users\\TUKUNA\\AppData\\Local\\Temp/ipykernel_14232/2309356834.py:31: FutureWarning: Pass y=[0.05607229 0.06757502 0.05993664 ... 0.02864203 0.03964385 0.        ] as keyword args. From version 0.10 passing these as positional arguments will result in an error\n",
      "  if librosa.get_duration(signal)>10:\n",
      "C:\\Users\\TUKUNA\\AppData\\Local\\Temp/ipykernel_14232/2309356834.py:40: FutureWarning: Pass y=[0.05607229 0.06757502 0.05993664 ... 0.11345264 0.11350736 0.10293708] as keyword args. From version 0.10 passing these as positional arguments will result in an error\n",
      "  mfcc= librosa.feature.mfcc(signal[start_sample:finish_sample],\n",
      "C:\\Users\\TUKUNA\\AppData\\Local\\Temp/ipykernel_14232/2309356834.py:31: FutureWarning: Pass y=[ 0.00045724  0.0012987  -0.00061946 ... -0.02856966 -0.04708833\n",
      "  0.        ] as keyword args. From version 0.10 passing these as positional arguments will result in an error\n",
      "  if librosa.get_duration(signal)>10:\n"
     ]
    },
    {
     "name": "stdout",
     "output_type": "stream",
     "text": [
      "ocean_noise_data\\common_dolphin\\58014034.wav, segment:0\n"
     ]
    },
    {
     "name": "stderr",
     "output_type": "stream",
     "text": [
      "C:\\Users\\TUKUNA\\AppData\\Local\\Temp/ipykernel_14232/2309356834.py:40: FutureWarning: Pass y=[ 0.00045724  0.0012987  -0.00061946 ... -0.0573418  -0.0609546\n",
      " -0.06486492] as keyword args. From version 0.10 passing these as positional arguments will result in an error\n",
      "  mfcc= librosa.feature.mfcc(signal[start_sample:finish_sample],\n",
      "C:\\Users\\TUKUNA\\AppData\\Local\\Temp/ipykernel_14232/2309356834.py:31: FutureWarning: Pass y=[-0.02580296 -0.04273786 -0.03185647 ... -0.02120502 -0.01700797\n",
      "  0.        ] as keyword args. From version 0.10 passing these as positional arguments will result in an error\n",
      "  if librosa.get_duration(signal)>10:\n",
      "C:\\Users\\TUKUNA\\AppData\\Local\\Temp/ipykernel_14232/2309356834.py:40: FutureWarning: Pass y=[-0.02580296 -0.04273786 -0.03185647 ... -0.05215592 -0.05529555\n",
      " -0.05073866] as keyword args. From version 0.10 passing these as positional arguments will result in an error\n",
      "  mfcc= librosa.feature.mfcc(signal[start_sample:finish_sample],\n"
     ]
    },
    {
     "name": "stdout",
     "output_type": "stream",
     "text": [
      "ocean_noise_data\\common_dolphin\\58014036.wav, segment:0\n",
      "ocean_noise_data\\common_dolphin\\5801403O.wav, segment:0\n"
     ]
    },
    {
     "name": "stderr",
     "output_type": "stream",
     "text": [
      "C:\\Users\\TUKUNA\\AppData\\Local\\Temp/ipykernel_14232/2309356834.py:31: FutureWarning: Pass y=[-0.02208626 -0.04078526 -0.0393565  ... -0.01126699 -0.01961549\n",
      "  0.        ] as keyword args. From version 0.10 passing these as positional arguments will result in an error\n",
      "  if librosa.get_duration(signal)>10:\n",
      "C:\\Users\\TUKUNA\\AppData\\Local\\Temp/ipykernel_14232/2309356834.py:40: FutureWarning: Pass y=[-0.02208626 -0.04078526 -0.0393565  ...  0.0606483   0.06932102\n",
      "  0.05847185] as keyword args. From version 0.10 passing these as positional arguments will result in an error\n",
      "  mfcc= librosa.feature.mfcc(signal[start_sample:finish_sample],\n",
      "C:\\Users\\TUKUNA\\AppData\\Local\\Temp/ipykernel_14232/2309356834.py:31: FutureWarning: Pass y=[-0.04142984 -0.06511516 -0.05413532 ...  0.03139375  0.03413454\n",
      "  0.        ] as keyword args. From version 0.10 passing these as positional arguments will result in an error\n",
      "  if librosa.get_duration(signal)>10:\n",
      "C:\\Users\\TUKUNA\\AppData\\Local\\Temp/ipykernel_14232/2309356834.py:40: FutureWarning: Pass y=[-0.04142984 -0.06511516 -0.05413532 ...  0.03139375  0.03413454\n",
      "  0.        ] as keyword args. From version 0.10 passing these as positional arguments will result in an error\n",
      "  mfcc= librosa.feature.mfcc(signal[start_sample:finish_sample],\n"
     ]
    },
    {
     "name": "stdout",
     "output_type": "stream",
     "text": [
      "ocean_noise_data\\common_dolphin\\5801403R.wav, segment:0\n"
     ]
    },
    {
     "name": "stderr",
     "output_type": "stream",
     "text": [
      "C:\\Users\\TUKUNA\\AppData\\Local\\Temp/ipykernel_14232/2309356834.py:31: FutureWarning: Pass y=[ 0.01283104  0.02072814  0.01733694 ...  0.00149866 -0.01022318\n",
      "  0.        ] as keyword args. From version 0.10 passing these as positional arguments will result in an error\n",
      "  if librosa.get_duration(signal)>10:\n",
      "C:\\Users\\TUKUNA\\AppData\\Local\\Temp/ipykernel_14232/2309356834.py:32: FutureWarning: Pass y=[ 0.01283104  0.02072814  0.01733694 ...  0.00149866 -0.01022318\n",
      "  0.        ] as keyword args. From version 0.10 passing these as positional arguments will result in an error\n",
      "  num_segments=int(librosa.get_duration(signal)/10)\n",
      "C:\\Users\\TUKUNA\\AppData\\Local\\Temp/ipykernel_14232/2309356834.py:40: FutureWarning: Pass y=[0.01283104 0.02072814 0.01733694 ... 0.01889454 0.0182068  0.01579553] as keyword args. From version 0.10 passing these as positional arguments will result in an error\n",
      "  mfcc= librosa.feature.mfcc(signal[start_sample:finish_sample],\n",
      "C:\\Users\\TUKUNA\\AppData\\Local\\Temp/ipykernel_14232/2309356834.py:40: FutureWarning: Pass y=[ 0.01806344  0.01444881  0.01910589 ... -0.01636364 -0.01525486\n",
      " -0.0134584 ] as keyword args. From version 0.10 passing these as positional arguments will result in an error\n",
      "  mfcc= librosa.feature.mfcc(signal[start_sample:finish_sample],\n",
      "C:\\Users\\TUKUNA\\AppData\\Local\\Temp/ipykernel_14232/2309356834.py:40: FutureWarning: Pass y=[-0.01581282 -0.01560934 -0.01508623 ...  0.872054    0.7857188\n",
      "  0.4109806 ] as keyword args. From version 0.10 passing these as positional arguments will result in an error\n",
      "  mfcc= librosa.feature.mfcc(signal[start_sample:finish_sample],\n",
      "C:\\Users\\TUKUNA\\AppData\\Local\\Temp/ipykernel_14232/2309356834.py:40: FutureWarning: Pass y=[ 0.19702141  0.26379886  0.2595267  ...  0.00324062 -0.00171286\n",
      " -0.00133583] as keyword args. From version 0.10 passing these as positional arguments will result in an error\n",
      "  mfcc= librosa.feature.mfcc(signal[start_sample:finish_sample],\n",
      "C:\\Users\\TUKUNA\\AppData\\Local\\Temp/ipykernel_14232/2309356834.py:40: FutureWarning: Pass y=[-0.00024157 -0.00340326 -0.00141882 ... -0.1169022  -0.10530041\n",
      " -0.09342271] as keyword args. From version 0.10 passing these as positional arguments will result in an error\n",
      "  mfcc= librosa.feature.mfcc(signal[start_sample:finish_sample],\n"
     ]
    },
    {
     "name": "stdout",
     "output_type": "stream",
     "text": [
      "ocean_noise_data\\common_dolphin\\5801404R.wav, segment:0\n",
      "ocean_noise_data\\common_dolphin\\5801404R.wav, segment:1\n",
      "ocean_noise_data\\common_dolphin\\5801404R.wav, segment:2\n",
      "ocean_noise_data\\common_dolphin\\5801404R.wav, segment:3\n",
      "ocean_noise_data\\common_dolphin\\5801404R.wav, segment:4\n"
     ]
    },
    {
     "name": "stderr",
     "output_type": "stream",
     "text": [
      "C:\\Users\\TUKUNA\\AppData\\Local\\Temp/ipykernel_14232/2309356834.py:31: FutureWarning: Pass y=[-0.00191663  0.00247263  0.00231364 ...  0.00241444  0.01768745\n",
      "  0.        ] as keyword args. From version 0.10 passing these as positional arguments will result in an error\n",
      "  if librosa.get_duration(signal)>10:\n",
      "C:\\Users\\TUKUNA\\AppData\\Local\\Temp/ipykernel_14232/2309356834.py:32: FutureWarning: Pass y=[-0.00191663  0.00247263  0.00231364 ...  0.00241444  0.01768745\n",
      "  0.        ] as keyword args. From version 0.10 passing these as positional arguments will result in an error\n",
      "  num_segments=int(librosa.get_duration(signal)/10)\n",
      "C:\\Users\\TUKUNA\\AppData\\Local\\Temp/ipykernel_14232/2309356834.py:40: FutureWarning: Pass y=[-0.00191663  0.00247263  0.00231364 ...  0.0439679   0.02975153\n",
      "  0.02010106] as keyword args. From version 0.10 passing these as positional arguments will result in an error\n",
      "  mfcc= librosa.feature.mfcc(signal[start_sample:finish_sample],\n",
      "C:\\Users\\TUKUNA\\AppData\\Local\\Temp/ipykernel_14232/2309356834.py:40: FutureWarning: Pass y=[ 0.03051779  0.04545135  0.04563275 ... -0.04423448 -0.03567306\n",
      " -0.00591772] as keyword args. From version 0.10 passing these as positional arguments will result in an error\n",
      "  mfcc= librosa.feature.mfcc(signal[start_sample:finish_sample],\n",
      "C:\\Users\\TUKUNA\\AppData\\Local\\Temp/ipykernel_14232/2309356834.py:40: FutureWarning: Pass y=[ 0.01776187  0.022171    0.00300747 ... -0.00493726 -0.00840887\n",
      " -0.01440537] as keyword args. From version 0.10 passing these as positional arguments will result in an error\n",
      "  mfcc= librosa.feature.mfcc(signal[start_sample:finish_sample],\n",
      "C:\\Users\\TUKUNA\\AppData\\Local\\Temp/ipykernel_14232/2309356834.py:40: FutureWarning: Pass y=[-0.01147858 -0.00812206 -0.01650668 ...  0.01011868  0.01923098\n",
      "  0.02062578] as keyword args. From version 0.10 passing these as positional arguments will result in an error\n",
      "  mfcc= librosa.feature.mfcc(signal[start_sample:finish_sample],\n",
      "C:\\Users\\TUKUNA\\AppData\\Local\\Temp/ipykernel_14232/2309356834.py:40: FutureWarning: Pass y=[ 0.02110318  0.01228727  0.01005528 ... -0.10252124 -0.06708233\n",
      " -0.03833045] as keyword args. From version 0.10 passing these as positional arguments will result in an error\n",
      "  mfcc= librosa.feature.mfcc(signal[start_sample:finish_sample],\n"
     ]
    },
    {
     "name": "stdout",
     "output_type": "stream",
     "text": [
      "ocean_noise_data\\common_dolphin\\5801404S.wav, segment:0\n",
      "ocean_noise_data\\common_dolphin\\5801404S.wav, segment:1\n",
      "ocean_noise_data\\common_dolphin\\5801404S.wav, segment:2\n",
      "ocean_noise_data\\common_dolphin\\5801404S.wav, segment:3\n",
      "ocean_noise_data\\common_dolphin\\5801404S.wav, segment:4\n"
     ]
    },
    {
     "name": "stderr",
     "output_type": "stream",
     "text": [
      "C:\\Users\\TUKUNA\\AppData\\Local\\Temp/ipykernel_14232/2309356834.py:31: FutureWarning: Pass y=[ 0.01171844  0.0155541  -0.00200539 ...  0.02442356  0.02088183\n",
      "  0.        ] as keyword args. From version 0.10 passing these as positional arguments will result in an error\n",
      "  if librosa.get_duration(signal)>10:\n",
      "C:\\Users\\TUKUNA\\AppData\\Local\\Temp/ipykernel_14232/2309356834.py:32: FutureWarning: Pass y=[ 0.01171844  0.0155541  -0.00200539 ...  0.02442356  0.02088183\n",
      "  0.        ] as keyword args. From version 0.10 passing these as positional arguments will result in an error\n",
      "  num_segments=int(librosa.get_duration(signal)/10)\n",
      "C:\\Users\\TUKUNA\\AppData\\Local\\Temp/ipykernel_14232/2309356834.py:40: FutureWarning: Pass y=[ 0.01171844  0.0155541  -0.00200539 ... -0.02805583 -0.02559881\n",
      " -0.0221207 ] as keyword args. From version 0.10 passing these as positional arguments will result in an error\n",
      "  mfcc= librosa.feature.mfcc(signal[start_sample:finish_sample],\n",
      "C:\\Users\\TUKUNA\\AppData\\Local\\Temp/ipykernel_14232/2309356834.py:40: FutureWarning: Pass y=[-0.01810238 -0.01935162 -0.01769898 ...  0.01169757  0.01475346\n",
      "  0.02109555] as keyword args. From version 0.10 passing these as positional arguments will result in an error\n",
      "  mfcc= librosa.feature.mfcc(signal[start_sample:finish_sample],\n",
      "C:\\Users\\TUKUNA\\AppData\\Local\\Temp/ipykernel_14232/2309356834.py:40: FutureWarning: Pass y=[0.03214093 0.03571889 0.03514753 ... 0.04599896 0.04554705 0.04825949] as keyword args. From version 0.10 passing these as positional arguments will result in an error\n",
      "  mfcc= librosa.feature.mfcc(signal[start_sample:finish_sample],\n",
      "C:\\Users\\TUKUNA\\AppData\\Local\\Temp/ipykernel_14232/2309356834.py:40: FutureWarning: Pass y=[0.05133688 0.05359229 0.06071426 ... 0.00301007 0.00931271 0.01167356] as keyword args. From version 0.10 passing these as positional arguments will result in an error\n",
      "  mfcc= librosa.feature.mfcc(signal[start_sample:finish_sample],\n",
      "C:\\Users\\TUKUNA\\AppData\\Local\\Temp/ipykernel_14232/2309356834.py:40: FutureWarning: Pass y=[ 0.00026792 -0.00301166  0.00210478 ... -0.08258807 -0.08616415\n",
      " -0.09619329] as keyword args. From version 0.10 passing these as positional arguments will result in an error\n",
      "  mfcc= librosa.feature.mfcc(signal[start_sample:finish_sample],\n"
     ]
    },
    {
     "name": "stdout",
     "output_type": "stream",
     "text": [
      "ocean_noise_data\\common_dolphin\\5801404T.wav, segment:0\n",
      "ocean_noise_data\\common_dolphin\\5801404T.wav, segment:1\n",
      "ocean_noise_data\\common_dolphin\\5801404T.wav, segment:2\n",
      "ocean_noise_data\\common_dolphin\\5801404T.wav, segment:3\n",
      "ocean_noise_data\\common_dolphin\\5801404T.wav, segment:4\n"
     ]
    },
    {
     "name": "stderr",
     "output_type": "stream",
     "text": [
      "C:\\Users\\TUKUNA\\AppData\\Local\\Temp/ipykernel_14232/2309356834.py:31: FutureWarning: Pass y=[ 0.07023992  0.12406798  0.1043009  ... -0.05498109 -0.07824749\n",
      "  0.        ] as keyword args. From version 0.10 passing these as positional arguments will result in an error\n",
      "  if librosa.get_duration(signal)>10:\n",
      "C:\\Users\\TUKUNA\\AppData\\Local\\Temp/ipykernel_14232/2309356834.py:32: FutureWarning: Pass y=[ 0.07023992  0.12406798  0.1043009  ... -0.05498109 -0.07824749\n",
      "  0.        ] as keyword args. From version 0.10 passing these as positional arguments will result in an error\n",
      "  num_segments=int(librosa.get_duration(signal)/10)\n",
      "C:\\Users\\TUKUNA\\AppData\\Local\\Temp/ipykernel_14232/2309356834.py:40: FutureWarning: Pass y=[0.07023992 0.12406798 0.1043009  ... 0.09477238 0.0917785  0.09067667] as keyword args. From version 0.10 passing these as positional arguments will result in an error\n",
      "  mfcc= librosa.feature.mfcc(signal[start_sample:finish_sample],\n",
      "C:\\Users\\TUKUNA\\AppData\\Local\\Temp/ipykernel_14232/2309356834.py:40: FutureWarning: Pass y=[ 0.08306734  0.09464931  0.09662964 ... -0.0678822  -0.07485927\n",
      " -0.07482437] as keyword args. From version 0.10 passing these as positional arguments will result in an error\n",
      "  mfcc= librosa.feature.mfcc(signal[start_sample:finish_sample],\n",
      "C:\\Users\\TUKUNA\\AppData\\Local\\Temp/ipykernel_14232/2309356834.py:40: FutureWarning: Pass y=[-0.06800568 -0.0612723  -0.07342742 ...  0.01614459  0.01648072\n",
      "  0.01463211] as keyword args. From version 0.10 passing these as positional arguments will result in an error\n",
      "  mfcc= librosa.feature.mfcc(signal[start_sample:finish_sample],\n",
      "C:\\Users\\TUKUNA\\AppData\\Local\\Temp/ipykernel_14232/2309356834.py:40: FutureWarning: Pass y=[ 0.01345891  0.00512144 -0.00242006 ...  0.04736698  0.04748683\n",
      "  0.02112438] as keyword args. From version 0.10 passing these as positional arguments will result in an error\n",
      "  mfcc= librosa.feature.mfcc(signal[start_sample:finish_sample],\n",
      "C:\\Users\\TUKUNA\\AppData\\Local\\Temp/ipykernel_14232/2309356834.py:40: FutureWarning: Pass y=[0.03058866 0.01911033 0.00326622 ... 0.03939718 0.04652262 0.04058455] as keyword args. From version 0.10 passing these as positional arguments will result in an error\n",
      "  mfcc= librosa.feature.mfcc(signal[start_sample:finish_sample],\n"
     ]
    },
    {
     "name": "stdout",
     "output_type": "stream",
     "text": [
      "ocean_noise_data\\common_dolphin\\5801404U.wav, segment:0\n",
      "ocean_noise_data\\common_dolphin\\5801404U.wav, segment:1\n",
      "ocean_noise_data\\common_dolphin\\5801404U.wav, segment:2\n",
      "ocean_noise_data\\common_dolphin\\5801404U.wav, segment:3\n",
      "ocean_noise_data\\common_dolphin\\5801404U.wav, segment:4\n"
     ]
    },
    {
     "name": "stderr",
     "output_type": "stream",
     "text": [
      "C:\\Users\\TUKUNA\\AppData\\Local\\Temp/ipykernel_14232/2309356834.py:31: FutureWarning: Pass y=[-0.06433298 -0.11263661 -0.09191103 ...  0.02590535  0.01442726\n",
      "  0.        ] as keyword args. From version 0.10 passing these as positional arguments will result in an error\n",
      "  if librosa.get_duration(signal)>10:\n",
      "C:\\Users\\TUKUNA\\AppData\\Local\\Temp/ipykernel_14232/2309356834.py:32: FutureWarning: Pass y=[-0.06433298 -0.11263661 -0.09191103 ...  0.02590535  0.01442726\n",
      "  0.        ] as keyword args. From version 0.10 passing these as positional arguments will result in an error\n",
      "  num_segments=int(librosa.get_duration(signal)/10)\n",
      "C:\\Users\\TUKUNA\\AppData\\Local\\Temp/ipykernel_14232/2309356834.py:40: FutureWarning: Pass y=[-0.06433298 -0.11263661 -0.09191103 ...  0.01292234 -0.01004028\n",
      " -0.02043919] as keyword args. From version 0.10 passing these as positional arguments will result in an error\n",
      "  mfcc= librosa.feature.mfcc(signal[start_sample:finish_sample],\n",
      "C:\\Users\\TUKUNA\\AppData\\Local\\Temp/ipykernel_14232/2309356834.py:40: FutureWarning: Pass y=[-0.03324764 -0.06163072 -0.04321981 ... -0.05527885 -0.07170355\n",
      " -0.05225216] as keyword args. From version 0.10 passing these as positional arguments will result in an error\n",
      "  mfcc= librosa.feature.mfcc(signal[start_sample:finish_sample],\n",
      "C:\\Users\\TUKUNA\\AppData\\Local\\Temp/ipykernel_14232/2309356834.py:40: FutureWarning: Pass y=[-0.0672195  -0.09796841 -0.0886798  ... -0.09497561 -0.09401392\n",
      " -0.09769447] as keyword args. From version 0.10 passing these as positional arguments will result in an error\n",
      "  mfcc= librosa.feature.mfcc(signal[start_sample:finish_sample],\n",
      "C:\\Users\\TUKUNA\\AppData\\Local\\Temp/ipykernel_14232/2309356834.py:40: FutureWarning: Pass y=[-0.10033701 -0.09365541 -0.08965451 ... -0.00556343  0.0267325\n",
      "  0.02070091] as keyword args. From version 0.10 passing these as positional arguments will result in an error\n",
      "  mfcc= librosa.feature.mfcc(signal[start_sample:finish_sample],\n",
      "C:\\Users\\TUKUNA\\AppData\\Local\\Temp/ipykernel_14232/2309356834.py:40: FutureWarning: Pass y=[0.01560829 0.00628571 0.01438345 ... 0.04966795 0.0403174  0.03394301] as keyword args. From version 0.10 passing these as positional arguments will result in an error\n",
      "  mfcc= librosa.feature.mfcc(signal[start_sample:finish_sample],\n"
     ]
    },
    {
     "name": "stdout",
     "output_type": "stream",
     "text": [
      "ocean_noise_data\\common_dolphin\\5801404V.wav, segment:0\n",
      "ocean_noise_data\\common_dolphin\\5801404V.wav, segment:1\n",
      "ocean_noise_data\\common_dolphin\\5801404V.wav, segment:2\n",
      "ocean_noise_data\\common_dolphin\\5801404V.wav, segment:3\n",
      "ocean_noise_data\\common_dolphin\\5801404V.wav, segment:4\n"
     ]
    },
    {
     "name": "stderr",
     "output_type": "stream",
     "text": [
      "C:\\Users\\TUKUNA\\AppData\\Local\\Temp/ipykernel_14232/2309356834.py:31: FutureWarning: Pass y=[-0.00349356 -0.00652925 -0.00520548 ... -0.02545674 -0.03117131\n",
      "  0.        ] as keyword args. From version 0.10 passing these as positional arguments will result in an error\n",
      "  if librosa.get_duration(signal)>10:\n",
      "C:\\Users\\TUKUNA\\AppData\\Local\\Temp/ipykernel_14232/2309356834.py:40: FutureWarning: Pass y=[-0.00349356 -0.00652925 -0.00520548 ...  0.00148496  0.00478931\n",
      "  0.00367261] as keyword args. From version 0.10 passing these as positional arguments will result in an error\n",
      "  mfcc= librosa.feature.mfcc(signal[start_sample:finish_sample],\n",
      "C:\\Users\\TUKUNA\\AppData\\Local\\Temp/ipykernel_14232/2309356834.py:40: FutureWarning: Pass y=[ 0.0051478   0.00512329  0.00312205 ...  0.10367868 -0.08987305\n",
      "  0.09234187] as keyword args. From version 0.10 passing these as positional arguments will result in an error\n",
      "  mfcc= librosa.feature.mfcc(signal[start_sample:finish_sample],\n",
      "C:\\Users\\TUKUNA\\AppData\\Local\\Temp/ipykernel_14232/2309356834.py:40: FutureWarning: Pass y=[-0.06017004  0.04932006 -0.00711713 ... -0.02545674 -0.03117131\n",
      "  0.        ] as keyword args. From version 0.10 passing these as positional arguments will result in an error\n",
      "  mfcc= librosa.feature.mfcc(signal[start_sample:finish_sample],\n"
     ]
    },
    {
     "name": "stdout",
     "output_type": "stream",
     "text": [
      "ocean_noise_data\\common_dolphin\\7500302U.wav, segment:0\n",
      "ocean_noise_data\\common_dolphin\\7500302U.wav, segment:1\n"
     ]
    },
    {
     "name": "stderr",
     "output_type": "stream",
     "text": [
      "C:\\Users\\TUKUNA\\AppData\\Local\\Temp/ipykernel_14232/2309356834.py:31: FutureWarning: Pass y=[0.00603726 0.01079549 0.00859994 ... 0.00140177 0.00145359 0.        ] as keyword args. From version 0.10 passing these as positional arguments will result in an error\n",
      "  if librosa.get_duration(signal)>10:\n",
      "C:\\Users\\TUKUNA\\AppData\\Local\\Temp/ipykernel_14232/2309356834.py:40: FutureWarning: Pass y=[ 0.00603726  0.01079549  0.00859994 ... -0.0007344   0.00299401\n",
      "  0.00858394] as keyword args. From version 0.10 passing these as positional arguments will result in an error\n",
      "  mfcc= librosa.feature.mfcc(signal[start_sample:finish_sample],\n",
      "C:\\Users\\TUKUNA\\AppData\\Local\\Temp/ipykernel_14232/2309356834.py:40: FutureWarning: Pass y=[ 0.00510735  0.00744735  0.00780451 ...  0.00477841  0.00711438\n",
      " -0.00011948] as keyword args. From version 0.10 passing these as positional arguments will result in an error\n",
      "  mfcc= librosa.feature.mfcc(signal[start_sample:finish_sample],\n",
      "C:\\Users\\TUKUNA\\AppData\\Local\\Temp/ipykernel_14232/2309356834.py:40: FutureWarning: Pass y=[-7.22703815e-04  2.59958883e-03  8.34930048e-04  2.64946022e-03\n",
      "  5.69326710e-03  8.43976811e-03  6.28714077e-03  2.99438788e-03\n",
      "  2.92304135e-03  1.00439647e-02  1.07387006e-02  3.84691451e-03\n",
      "  8.41674209e-03  6.41719159e-03  2.80333916e-03  3.66724515e-03\n",
      "  1.85208721e-03  6.39290083e-03  7.19850976e-03  3.87513521e-03\n",
      "  6.07185066e-03  1.36739518e-02  1.39880879e-02  1.14229769e-02\n",
      "  9.99916904e-03  3.49021703e-03  4.18512244e-03  7.39696715e-03\n",
      "  5.46394195e-03  1.21292835e-02  1.63177215e-02  1.10743856e-02\n",
      "  9.45868716e-03  8.03256221e-03  2.36071879e-03  3.93769145e-03\n",
      "  6.57425448e-03  1.70094520e-03  4.67436807e-03  6.00981433e-03\n",
      "  4.64411266e-03  2.96697137e-03  3.85960611e-03  8.00363906e-03\n",
      "  6.92204386e-03  3.84940836e-03  3.27515835e-03  5.67542901e-03\n",
      "  5.68778254e-03  3.82709783e-03  4.36347444e-03  1.00929923e-02\n",
      "  9.33257956e-03  6.97741145e-03  5.74139785e-03  1.10337604e-02\n",
      "  1.25406012e-02  6.86469208e-03  9.95847210e-03  9.05787852e-03\n",
      "  7.81511329e-03  2.65302463e-03  7.78928306e-03  1.15739377e-02\n",
      "  5.82835823e-03  1.38325943e-02  1.27847260e-02  1.00707710e-02\n",
      "  1.12060625e-02  9.01337247e-03  1.09283477e-02  1.18648782e-02\n",
      "  1.18400725e-02  1.16762789e-02  1.48260081e-02  9.72942077e-03\n",
      "  6.26980327e-03  1.28529230e-02  1.18623450e-02  1.16002737e-02\n",
      "  1.00595234e-02  7.96020310e-03  1.02403341e-02  1.09089511e-02\n",
      "  9.75336973e-03  7.52255274e-03  8.35388154e-03  9.58200824e-03\n",
      "  8.26024637e-03  8.90866295e-03  1.00428229e-02  1.24603473e-02\n",
      "  8.02291743e-03  3.89903900e-03  1.21487100e-02  1.03388159e-02\n",
      "  3.42771690e-03  7.56550767e-03  9.36368667e-03  1.15348688e-04\n",
      "  8.91039381e-04  1.06764296e-02  8.16739257e-03  1.89549802e-03\n",
      "  4.30332543e-03  9.91199818e-03  1.24777406e-02  1.13437297e-02\n",
      "  8.80873110e-03  9.67628788e-03  4.56028664e-03  7.41928769e-03\n",
      "  1.56421885e-02  8.65319464e-03  9.22087766e-03  6.82038115e-03\n",
      "  1.83930947e-03  8.14244058e-03  4.16173879e-03  3.18683451e-03\n",
      "  7.16326525e-03  5.40740462e-03  3.40996776e-03  7.75722880e-03\n",
      "  7.28859194e-03  5.12879994e-03  6.86247228e-03  4.31083236e-03\n",
      "  8.30348022e-03  3.19057214e-03  3.50311468e-03  5.28555689e-03\n",
      "  4.83229337e-03  9.75514390e-03  2.57271109e-03  7.13641755e-03\n",
      "  5.05897682e-03 -2.01585912e-03  1.15999847e-03  2.72686128e-03\n",
      "  9.75823682e-03  1.00135701e-02  1.01654315e-02  1.09641822e-02\n",
      "  4.87071183e-03  7.67214596e-03  8.67415685e-03  5.72062470e-03\n",
      "  6.29557669e-03  6.76971488e-03  1.50633669e-02  1.02363769e-02\n",
      "  5.36126737e-03  1.31328320e-02  9.18718893e-03  8.04191176e-03\n",
      "  9.72871017e-03  4.38583642e-03  5.61442785e-03  9.02027451e-03\n",
      "  1.30321383e-02  1.64837670e-02  1.14347506e-02  8.40751547e-03\n",
      "  1.18900510e-02  1.43983606e-02  5.96472854e-03  8.00391659e-03\n",
      "  1.47566833e-02  1.33541720e-02  1.38154812e-02  8.06823187e-03\n",
      "  2.76424643e-03  7.91517645e-03  1.31011633e-02  1.40797766e-02\n",
      "  1.03617785e-02  7.89096951e-03  1.45994844e-02  9.60558373e-03\n",
      "  8.58272333e-03  7.18104560e-03  8.16369709e-03  1.29368249e-02\n",
      "  9.34429374e-03  9.77465976e-03  5.90386009e-03  1.01084653e-02\n",
      "  9.66708641e-03  9.77944117e-03  1.09030791e-02  8.06425884e-03\n",
      "  8.09958950e-03  8.57013464e-03  1.30709354e-02  9.62810963e-03\n",
      "  1.31968465e-02  1.52679142e-02  8.29661638e-03  8.61194264e-03\n",
      "  9.76380799e-03  4.06418741e-03  3.57292267e-03  8.38324800e-03\n",
      "  7.44763389e-03  5.15898364e-03  8.13359395e-03  1.23121757e-02\n",
      "  1.02278562e-02  1.49084860e-02  1.68352779e-02  1.47681357e-02\n",
      "  1.55195296e-02  1.52722467e-02  1.43007655e-02  9.54057928e-03\n",
      "  1.23495189e-02  1.42194713e-02  1.39160259e-02  1.33696916e-02\n",
      "  1.02258716e-02  1.27344290e-02  1.21283289e-02  1.27693564e-02\n",
      "  1.46197760e-02  3.94731574e-03  7.39988638e-03  1.90767497e-02\n",
      "  8.62268172e-03  3.87877715e-03  1.21232010e-02  1.74621362e-02\n",
      "  9.98067018e-03  9.64213745e-04  8.71841516e-03  1.36667322e-02\n",
      "  1.28776766e-02  9.66642704e-03  1.02351084e-02  1.39570134e-02\n",
      "  1.09020593e-02  8.35932232e-03  6.75635273e-03  9.64219496e-03\n",
      "  1.09725846e-02  1.00716995e-02  7.53078843e-03  8.14213790e-03\n",
      "  8.95190146e-03  5.25005301e-03  9.55511350e-03  1.22100087e-02\n",
      "  1.28184650e-02  9.03578009e-03  7.85063766e-03  1.04891146e-02\n",
      "  2.87255086e-03  9.47965402e-03  1.50284041e-02  6.61777426e-03\n",
      "  6.63682306e-03  2.41956674e-03  5.64429769e-03  7.71320518e-03\n",
      "  1.68820145e-03  5.06699458e-03  7.31161796e-03  8.12484417e-03\n",
      "  5.15692541e-03  7.10027711e-03  7.35786930e-03  8.12389050e-03\n",
      "  6.63383259e-03  3.75494501e-03  9.69310943e-03  5.77722117e-03\n",
      "  4.35044104e-03  7.40906596e-03  8.45524017e-03 -1.85274344e-03\n",
      " -1.68385392e-04  7.48967240e-03 -3.27049033e-03 -1.89614901e-03\n",
      "  4.92717139e-03  6.24826597e-03 -1.64754677e-03  3.76034807e-03\n",
      "  1.60677060e-02  5.85367670e-03  6.10030955e-04  2.25206115e-03\n",
      " -1.97742786e-03 -3.17449006e-03 -4.34026495e-03 -5.26338164e-03\n",
      "  1.40476879e-03  2.44774530e-03  3.68620793e-04  1.80631212e-03\n",
      "  4.39327967e-04  4.60229639e-04 -1.63122127e-03  4.12330823e-03\n",
      " -1.60076190e-04 -5.46354614e-03  3.96602741e-03  4.83808061e-03\n",
      "  3.55794840e-03  6.74316834e-05  3.35233822e-03  3.27274366e-03\n",
      "  2.06966535e-03 -1.73231855e-03 -3.63066734e-04  3.75551893e-03\n",
      " -2.80212634e-03 -1.84150529e-03  8.49533477e-04  5.69764699e-04\n",
      " -4.75312350e-03 -3.77843785e-03 -4.63211763e-04 -1.59672648e-03\n",
      " -4.70465561e-03 -3.31977149e-03 -2.74701184e-03  1.57103408e-03\n",
      "  1.75008536e-05 -3.42981447e-03 -1.21083716e-03 -8.19335505e-03\n",
      " -5.10118576e-03 -2.77114520e-03 -4.37892042e-03 -2.85689579e-03\n",
      "  2.41731456e-03 -1.42854068e-03 -3.17908078e-03 -7.69041129e-04\n",
      " -2.67288252e-03  1.99888390e-03  7.66537443e-04  1.78967731e-03\n",
      " -5.01212453e-05 -1.18468728e-04  4.07811301e-03  2.05892240e-04\n",
      " -1.24075648e-03  9.22338944e-03  4.74043097e-03 -6.73590926e-03\n",
      "  1.16562156e-03 -4.26582294e-03 -9.56091005e-03 -4.65172902e-03\n",
      " -9.48991813e-03 -7.80644128e-03 -4.27265931e-03  8.41408153e-04\n",
      "  7.04348274e-03  2.47545727e-03 -7.38005387e-04 -4.93337575e-04\n",
      " -6.27884362e-03 -1.05466051e-02 -4.23012441e-03 -5.21188835e-04\n",
      " -1.85606128e-03 -3.36880353e-03  3.04204109e-03  5.51262079e-03\n",
      "  4.65438981e-03  7.61615764e-03  1.88815896e-03 -2.22533615e-03\n",
      " -1.25666428e-03 -6.89608278e-04 -4.37788572e-03 -2.63674650e-03\n",
      " -1.98197854e-03  3.54486809e-04 -4.36173892e-03 -2.24982738e-04\n",
      "  1.23598310e-03 -1.62172392e-02  8.70671473e-04 -1.12451415e-03\n",
      " -5.21863066e-03  5.39048621e-03  6.28840586e-04  3.98323731e-03\n",
      " -2.84177158e-03 -2.77391193e-03 -2.73484038e-03 -6.30756468e-03\n",
      " -2.00590398e-03 -4.42308700e-03 -4.88565024e-03  1.54056377e-03\n",
      "  2.11313646e-03 -3.07834405e-03 -3.50496126e-03 -4.12036572e-03\n",
      " -1.29825426e-02 -1.36440843e-02 -9.21270065e-03 -8.23708717e-03\n",
      " -6.00020075e-03 -1.53604569e-03  1.53324276e-03 -3.57157871e-04\n",
      " -3.08463885e-03 -9.01231542e-03 -4.15281067e-03 -6.36189361e-04\n",
      "  1.07706501e-03  1.77618023e-03  3.33896093e-03  9.24261473e-03\n",
      "  2.24549510e-03  4.35528695e-04  3.31227435e-03  1.26535119e-03\n",
      "  1.16232899e-03  5.08748135e-03  1.32298435e-03 -1.28640444e-03\n",
      " -1.20883330e-03 -2.01081415e-03  5.97797392e-04  1.30314252e-03\n",
      "  5.80154452e-03  4.30597737e-03  6.43410196e-04  1.81573012e-03\n",
      "  1.99973630e-03 -2.58818764e-04  2.12968257e-03  1.95532269e-03\n",
      "  1.97759597e-03  4.56373952e-03  2.28753290e-03  7.72217941e-03\n",
      "  5.72112796e-04 -2.35160091e-03  1.37886036e-05 -2.09551048e-03\n",
      "  6.29331637e-03  6.50433311e-03  9.02398955e-03  7.52400141e-03\n",
      "  3.84810544e-03  5.19429659e-03  2.05847132e-03  1.25450036e-03\n",
      "  4.72382875e-03  7.97401066e-04  2.66004773e-03  6.56080432e-03\n",
      "  3.90996225e-03  5.28582325e-03  6.58492139e-03  1.54620670e-02\n",
      "  3.94302653e-03  1.94852578e-03  8.29249620e-03  3.03485477e-03\n",
      "  3.26690869e-03 -6.24627667e-03 -5.84993092e-03 -3.44673055e-04\n",
      "  5.78169618e-03  2.59917951e-03  4.45490144e-03  1.07178697e-02\n",
      "  7.58889364e-03  5.46920719e-03  6.55348529e-04  8.42125039e-04\n",
      " -5.94807835e-03 -5.55490376e-03 -1.19650108e-03  4.42957971e-03\n",
      "  1.90316048e-03 -6.44823164e-03 -2.07592081e-03  1.89949962e-04\n",
      "  6.71335775e-03 -7.04851747e-03 -5.99608291e-03  8.29616468e-03\n",
      "  2.55620619e-03  1.15865543e-02  1.53037235e-02  1.06734801e-02\n",
      "  1.22059789e-02  1.27548100e-02  3.21784755e-03 -5.03349863e-03\n",
      " -5.76518662e-03 -1.07053649e-02 -8.67669191e-03 -5.19650115e-04\n",
      "  7.10916705e-03  1.05924867e-02  1.78881083e-03 -7.86367524e-03\n",
      " -8.02299287e-03 -3.79742868e-03 -4.67120763e-03 -8.64930451e-03\n",
      " -9.12644342e-03 -4.98310477e-03 -7.50672352e-03 -7.54555163e-04\n",
      "  3.71587998e-03 -3.44549841e-03  6.73670694e-03 -5.87993127e-04\n",
      " -2.87816091e-03 -5.89336827e-03 -1.02869347e-02 -2.11143889e-03\n",
      " -3.31639429e-03  5.33640012e-03  6.62244763e-03  6.57160906e-03\n",
      "  4.69052611e-04 -9.94884293e-04  3.90507793e-03 -2.22465620e-04\n",
      " -4.83986270e-03 -3.65710096e-03  2.27219146e-03 -6.14651886e-04\n",
      "  3.76925862e-04  7.86009524e-03  1.17617035e-02  9.52385552e-03\n",
      "  6.85362844e-03  7.33666355e-03  6.52167713e-03  7.10270228e-03\n",
      "  7.23612448e-03  1.96846225e-03  5.75937843e-03  8.14991444e-03\n",
      "  2.96298787e-03  3.42777558e-03  8.27188231e-03  1.02815712e-02\n",
      "  6.76755467e-03  5.49602276e-03  5.09755919e-03  2.94080004e-03\n",
      "  1.39675743e-03  6.71627885e-03  5.70964534e-03  1.00370706e-03\n",
      "  2.70234467e-03  2.30190228e-03  1.59683777e-03 -1.28383480e-03\n",
      " -4.36990801e-03 -4.97863162e-03 -2.82461289e-03 -1.53793534e-03\n",
      " -1.77988969e-03  2.81497254e-03  2.90168170e-03 -1.50470040e-03\n",
      " -1.64617749e-03 -3.07424506e-03 -1.10355392e-03  1.44825946e-03\n",
      "  2.01072660e-03  9.39262216e-04  1.43130182e-03  4.46015224e-03\n",
      "  2.00025458e-03  6.32252602e-04 -3.29191657e-03 -1.98431779e-04\n",
      "  5.28583489e-03  5.06468490e-03  5.39288856e-03  8.43411591e-03\n",
      "  8.23044591e-03 -1.95476087e-03 -3.59063153e-03  4.48426552e-04\n",
      "  1.80581317e-03 -1.64253288e-03 -2.96359672e-03 -1.61716889e-03\n",
      " -1.69794122e-03 -6.26956637e-04 -1.63953332e-03 -1.90833991e-03\n",
      "  6.37055724e-04  8.40773864e-04  2.83999834e-04  2.41711183e-04\n",
      "  9.25309141e-04 -7.99525005e-04 -1.27090812e-02 -1.12221129e-02\n",
      " -7.02503510e-03 -9.84313898e-03 -9.41937417e-03 -9.55322757e-03\n",
      " -7.48022599e-03 -5.27462503e-03 -6.59330189e-03 -1.04123577e-02\n",
      " -7.93810468e-03 -9.00473166e-03 -6.36928063e-03 -1.84088037e-03\n",
      " -5.86155010e-03 -5.59714669e-03 -1.82116812e-03 -1.39056181e-03\n",
      " -1.73594267e-03 -4.21901792e-03 -6.09598449e-03 -6.07026089e-03\n",
      " -9.10109840e-03 -1.02593219e-02 -1.31509984e-02 -8.93205963e-03\n",
      " -1.14868442e-02 -1.30309882e-02 -6.84408378e-03 -1.06734363e-02\n",
      " -6.42334018e-03 -8.41710716e-03 -8.92808009e-03 -6.76594023e-03\n",
      " -8.61929078e-03 -3.74441897e-03 -2.69118603e-03 -6.57423399e-03\n",
      " -1.22407367e-02 -6.84882980e-03 -4.47579054e-03 -9.62930080e-03\n",
      " -8.95943306e-03 -7.71584222e-03 -8.03419389e-03 -1.12623135e-02\n",
      " -1.38182882e-02 -1.13797393e-02 -5.42526599e-03 -6.08654600e-03\n",
      " -1.05692763e-02 -1.06065376e-02 -8.47271830e-03 -6.94933860e-03\n",
      " -8.11157562e-03 -7.44797802e-03 -9.13801230e-03 -1.03881937e-02\n",
      " -8.48945975e-03 -5.19742304e-03 -1.69276411e-03 -2.49008532e-03\n",
      " -2.19068583e-03 -4.92098648e-03 -2.85087689e-03 -3.83100100e-03\n",
      " -5.94776170e-03 -7.67184771e-04 -2.68052937e-03  2.04056269e-03\n",
      "  3.08764726e-03 -7.76301045e-03 -8.60579405e-03 -1.92642782e-03\n",
      " -3.63401161e-03 -7.54488306e-03 -6.98989257e-03 -3.11039342e-03\n",
      " -2.37324159e-03 -8.03962909e-03 -6.12750230e-03 -2.60096951e-03\n",
      " -3.36371944e-03 -6.38933387e-03 -9.07901675e-03 -5.63605689e-03\n",
      " -4.66996105e-03 -6.50947075e-03 -2.37457221e-03 -4.91280528e-03\n",
      " -5.52129187e-03  8.50001466e-04 -2.14738562e-03 -7.45995727e-04\n",
      "  1.61100616e-04 -2.06230977e-03 -4.72357776e-03  1.79603216e-04\n",
      "  5.88626834e-03 -2.03054771e-03 -4.79197968e-03 -2.51789670e-03\n",
      " -1.60311960e-04 -1.74697547e-03  9.10632021e-04  3.27807711e-03\n",
      "  1.12970616e-03 -3.02035920e-03 -1.19861623e-03  3.36569035e-03\n",
      " -1.77613075e-03 -3.86513839e-03 -3.13570444e-03  9.61641024e-04\n",
      " -1.59157871e-03 -2.73057958e-03 -1.77494076e-03 -5.94363606e-04\n",
      " -1.14057574e-03 -1.43168902e-03  4.07484639e-03 -3.16863880e-03\n",
      " -7.10607413e-03 -2.26401701e-03 -2.01638730e-04 -1.70154963e-03\n",
      "  3.48393805e-04 -3.73165385e-04 -3.45994718e-03 -5.92319481e-03\n",
      " -2.95046438e-03 -1.89175119e-03 -7.10609253e-04  5.11788297e-03\n",
      " -1.75512268e-03 -3.04480270e-03 -4.70640371e-03  2.53699574e-04\n",
      " -9.25714499e-04 -3.79187521e-03 -1.32904924e-03 -5.53322164e-03\n",
      "  2.31420202e-03 -2.49187066e-03 -2.95846537e-03  5.00301539e-04\n",
      " -3.21484200e-04  1.15902373e-03 -6.26294117e-04  4.11772542e-03\n",
      "  2.89230404e-04  1.49420975e-03 -6.17656915e-04 -8.08897708e-03\n",
      " -3.49130109e-03 -4.07099584e-03 -4.40656068e-03 -1.45612028e-03\n",
      " -3.58866557e-04 -1.13929238e-03  2.12147366e-03  1.38266839e-03\n",
      "  3.41717037e-03  8.06258991e-03  1.14604633e-03 -1.92330281e-05\n",
      "  3.36143887e-04 -3.44131957e-04 -5.63777750e-04  1.35716272e-03\n",
      " -1.00402976e-03  1.63520235e-04  8.98432173e-03  6.59717945e-03\n",
      "  6.40553934e-03  5.72377676e-03 -3.61530576e-04  1.43187074e-03\n",
      "  4.69575962e-03  3.76574812e-03  5.39542409e-03  2.60852999e-03\n",
      "  5.15386602e-03  7.39326561e-03  1.92211976e-03  1.51915161e-03\n",
      "  1.44634559e-03  6.11499744e-03  5.64159499e-03  2.94528995e-03\n",
      "  1.45427661e-03  1.83479919e-03  3.32496106e-03  2.60819984e-03\n",
      "  5.95351914e-03  7.35154888e-03  5.60599286e-03  8.59437510e-04\n",
      "  2.65679671e-03  4.14261129e-03  4.00597742e-03  5.30767580e-03\n",
      "  6.85618119e-03  1.01863090e-02  4.40938259e-03  4.96898731e-03\n",
      "  9.13198851e-03  5.29144937e-03  5.05227596e-03  8.60231463e-03\n",
      "  1.13918781e-02  7.54465535e-03  6.13971474e-03  7.95620494e-03\n",
      "  8.88714194e-03  1.20645138e-02  1.08559588e-02  7.49809109e-03\n",
      "  6.10118592e-03  1.10084023e-02  9.91685688e-03  8.53809249e-03\n",
      "  1.01673156e-02  6.72623795e-03  7.01159006e-03  3.85838724e-03\n",
      "  4.93230065e-03  5.76667534e-03  6.30796934e-03  8.51285364e-03\n",
      "  8.68566707e-03  7.22138165e-03  2.60017376e-04  3.32388817e-03\n",
      "  9.04530007e-03  9.29671805e-03  6.39511412e-03  4.51297034e-03\n",
      "  1.40177412e-03  1.45359396e-03  0.00000000e+00] as keyword args. From version 0.10 passing these as positional arguments will result in an error\n",
      "  mfcc= librosa.feature.mfcc(signal[start_sample:finish_sample],\n",
      "C:\\Users\\TUKUNA\\.conda\\envs\\tensor\\lib\\site-packages\\librosa\\util\\decorators.py:88: UserWarning: n_fft=2048 is too small for input signal of length=847\n",
      "  return f(*args, **kwargs)\n"
     ]
    },
    {
     "name": "stdout",
     "output_type": "stream",
     "text": [
      "ocean_noise_data\\common_dolphin\\7500303M.wav, segment:0\n",
      "ocean_noise_data\\common_dolphin\\7500303M.wav, segment:1\n"
     ]
    },
    {
     "name": "stderr",
     "output_type": "stream",
     "text": [
      "C:\\Users\\TUKUNA\\AppData\\Local\\Temp/ipykernel_14232/2309356834.py:31: FutureWarning: Pass y=[-0.00124344 -0.00294823 -0.00361019 ...  0.00742031  0.0037686\n",
      "  0.        ] as keyword args. From version 0.10 passing these as positional arguments will result in an error\n",
      "  if librosa.get_duration(signal)>10:\n",
      "C:\\Users\\TUKUNA\\AppData\\Local\\Temp/ipykernel_14232/2309356834.py:40: FutureWarning: Pass y=[-0.00124344 -0.00294823 -0.00361019 ... -0.00676817  0.02676452\n",
      "  0.01325961] as keyword args. From version 0.10 passing these as positional arguments will result in an error\n",
      "  mfcc= librosa.feature.mfcc(signal[start_sample:finish_sample],\n",
      "C:\\Users\\TUKUNA\\AppData\\Local\\Temp/ipykernel_14232/2309356834.py:40: FutureWarning: Pass y=[ 0.00185941  0.02539419 -0.0176455  ...  0.00742031  0.0037686\n",
      "  0.        ] as keyword args. From version 0.10 passing these as positional arguments will result in an error\n",
      "  mfcc= librosa.feature.mfcc(signal[start_sample:finish_sample],\n"
     ]
    },
    {
     "name": "stdout",
     "output_type": "stream",
     "text": [
      "ocean_noise_data\\common_dolphin\\7500303N.wav, segment:0\n"
     ]
    },
    {
     "name": "stderr",
     "output_type": "stream",
     "text": [
      "C:\\Users\\TUKUNA\\AppData\\Local\\Temp/ipykernel_14232/2309356834.py:31: FutureWarning: Pass y=[ 0.00016576  0.00331218  0.00320237 ... -0.00098455  0.00095167\n",
      "  0.        ] as keyword args. From version 0.10 passing these as positional arguments will result in an error\n",
      "  if librosa.get_duration(signal)>10:\n",
      "C:\\Users\\TUKUNA\\AppData\\Local\\Temp/ipykernel_14232/2309356834.py:40: FutureWarning: Pass y=[ 0.00016576  0.00331218  0.00320237 ... -0.05271249 -0.00716004\n",
      "  0.07309373] as keyword args. From version 0.10 passing these as positional arguments will result in an error\n",
      "  mfcc= librosa.feature.mfcc(signal[start_sample:finish_sample],\n",
      "C:\\Users\\TUKUNA\\AppData\\Local\\Temp/ipykernel_14232/2309356834.py:40: FutureWarning: Pass y=[-0.13405713  0.00970261  0.03202773 ... -0.01545848  0.00943688\n",
      " -0.01358423] as keyword args. From version 0.10 passing these as positional arguments will result in an error\n",
      "  mfcc= librosa.feature.mfcc(signal[start_sample:finish_sample],\n",
      "C:\\Users\\TUKUNA\\AppData\\Local\\Temp/ipykernel_14232/2309356834.py:40: FutureWarning: Pass y=[-0.0179467   0.01679611 -0.01524132 ... -0.00098455  0.00095167\n",
      "  0.        ] as keyword args. From version 0.10 passing these as positional arguments will result in an error\n",
      "  mfcc= librosa.feature.mfcc(signal[start_sample:finish_sample],\n"
     ]
    },
    {
     "name": "stdout",
     "output_type": "stream",
     "text": [
      "ocean_noise_data\\common_dolphin\\7500303Q.wav, segment:0\n",
      "ocean_noise_data\\common_dolphin\\7500303Q.wav, segment:1\n"
     ]
    },
    {
     "name": "stderr",
     "output_type": "stream",
     "text": [
      "C:\\Users\\TUKUNA\\AppData\\Local\\Temp/ipykernel_14232/2309356834.py:31: FutureWarning: Pass y=[-0.00655551 -0.008381   -0.00468218 ...  0.00137021  0.00127019\n",
      "  0.        ] as keyword args. From version 0.10 passing these as positional arguments will result in an error\n",
      "  if librosa.get_duration(signal)>10:\n",
      "C:\\Users\\TUKUNA\\AppData\\Local\\Temp/ipykernel_14232/2309356834.py:40: FutureWarning: Pass y=[-0.00655551 -0.008381   -0.00468218 ... -0.11800664 -0.06900764\n",
      "  0.2100686 ] as keyword args. From version 0.10 passing these as positional arguments will result in an error\n",
      "  mfcc= librosa.feature.mfcc(signal[start_sample:finish_sample],\n",
      "C:\\Users\\TUKUNA\\AppData\\Local\\Temp/ipykernel_14232/2309356834.py:40: FutureWarning: Pass y=[-0.24564247  0.12832572  0.06888983 ...  0.00038189  0.0040818\n",
      "  0.00507895] as keyword args. From version 0.10 passing these as positional arguments will result in an error\n",
      "  mfcc= librosa.feature.mfcc(signal[start_sample:finish_sample],\n",
      "C:\\Users\\TUKUNA\\AppData\\Local\\Temp/ipykernel_14232/2309356834.py:40: FutureWarning: Pass y=[0.01067139 0.00670159 0.00259686 ... 0.00137021 0.00127019 0.        ] as keyword args. From version 0.10 passing these as positional arguments will result in an error\n",
      "  mfcc= librosa.feature.mfcc(signal[start_sample:finish_sample],\n"
     ]
    },
    {
     "name": "stdout",
     "output_type": "stream",
     "text": [
      "ocean_noise_data\\common_dolphin\\7500303R.wav, segment:0\n",
      "ocean_noise_data\\common_dolphin\\7500303R.wav, segment:1\n"
     ]
    },
    {
     "name": "stderr",
     "output_type": "stream",
     "text": [
      "C:\\Users\\TUKUNA\\AppData\\Local\\Temp/ipykernel_14232/2309356834.py:31: FutureWarning: Pass y=[0.00524003 0.00281663 0.00501922 ... 0.00744341 0.00796237 0.        ] as keyword args. From version 0.10 passing these as positional arguments will result in an error\n",
      "  if librosa.get_duration(signal)>10:\n",
      "C:\\Users\\TUKUNA\\AppData\\Local\\Temp/ipykernel_14232/2309356834.py:40: FutureWarning: Pass y=[ 0.00524003  0.00281663  0.00501922 ... -0.00814129  0.00224375\n",
      "  0.01096067] as keyword args. From version 0.10 passing these as positional arguments will result in an error\n",
      "  mfcc= librosa.feature.mfcc(signal[start_sample:finish_sample],\n",
      "C:\\Users\\TUKUNA\\AppData\\Local\\Temp/ipykernel_14232/2309356834.py:40: FutureWarning: Pass y=[ 0.0019029  -0.00229446  0.00400878 ...  0.00744341  0.00796237\n",
      "  0.        ] as keyword args. From version 0.10 passing these as positional arguments will result in an error\n",
      "  mfcc= librosa.feature.mfcc(signal[start_sample:finish_sample],\n"
     ]
    },
    {
     "name": "stdout",
     "output_type": "stream",
     "text": [
      "ocean_noise_data\\common_dolphin\\7500303Y.wav, segment:0\n"
     ]
    },
    {
     "name": "stderr",
     "output_type": "stream",
     "text": [
      "C:\\Users\\TUKUNA\\AppData\\Local\\Temp/ipykernel_14232/2309356834.py:31: FutureWarning: Pass y=[ 0.00632772  0.00654491  0.00676104 ... -0.0036878  -0.00313225\n",
      "  0.        ] as keyword args. From version 0.10 passing these as positional arguments will result in an error\n",
      "  if librosa.get_duration(signal)>10:\n",
      "C:\\Users\\TUKUNA\\AppData\\Local\\Temp/ipykernel_14232/2309356834.py:40: FutureWarning: Pass y=[0.00632772 0.00654491 0.00676104 ... 0.01385554 0.01899245 0.0179617 ] as keyword args. From version 0.10 passing these as positional arguments will result in an error\n",
      "  mfcc= librosa.feature.mfcc(signal[start_sample:finish_sample],\n",
      "C:\\Users\\TUKUNA\\AppData\\Local\\Temp/ipykernel_14232/2309356834.py:40: FutureWarning: Pass y=[ 0.01449243  0.01627973  0.01446855 ... -0.0036878  -0.00313225\n",
      "  0.        ] as keyword args. From version 0.10 passing these as positional arguments will result in an error\n",
      "  mfcc= librosa.feature.mfcc(signal[start_sample:finish_sample],\n"
     ]
    },
    {
     "name": "stdout",
     "output_type": "stream",
     "text": [
      "ocean_noise_data\\common_dolphin\\7500303Z.wav, segment:0\n"
     ]
    },
    {
     "name": "stderr",
     "output_type": "stream",
     "text": [
      "C:\\Users\\TUKUNA\\AppData\\Local\\Temp/ipykernel_14232/2309356834.py:31: FutureWarning: Pass y=[0.0077352  0.01527729 0.01055741 ... 0.03762823 0.04383073 0.        ] as keyword args. From version 0.10 passing these as positional arguments will result in an error\n",
      "  if librosa.get_duration(signal)>10:\n",
      "C:\\Users\\TUKUNA\\AppData\\Local\\Temp/ipykernel_14232/2309356834.py:40: FutureWarning: Pass y=[ 0.0077352   0.01527729  0.01055741 ...  0.00768784  0.08171514\n",
      " -0.15799378] as keyword args. From version 0.10 passing these as positional arguments will result in an error\n",
      "  mfcc= librosa.feature.mfcc(signal[start_sample:finish_sample],\n",
      "C:\\Users\\TUKUNA\\AppData\\Local\\Temp/ipykernel_14232/2309356834.py:40: FutureWarning: Pass y=[ 0.13948984 -0.07459316 -0.04078449 ...  0.00676191  0.00425846\n",
      "  0.00134104] as keyword args. From version 0.10 passing these as positional arguments will result in an error\n",
      "  mfcc= librosa.feature.mfcc(signal[start_sample:finish_sample],\n",
      "C:\\Users\\TUKUNA\\AppData\\Local\\Temp/ipykernel_14232/2309356834.py:40: FutureWarning: Pass y=[0.00111959 0.00490524 0.00260767 ... 0.03762823 0.04383073 0.        ] as keyword args. From version 0.10 passing these as positional arguments will result in an error\n",
      "  mfcc= librosa.feature.mfcc(signal[start_sample:finish_sample],\n"
     ]
    },
    {
     "name": "stdout",
     "output_type": "stream",
     "text": [
      "ocean_noise_data\\common_dolphin\\75003041.wav, segment:0\n",
      "ocean_noise_data\\common_dolphin\\75003041.wav, segment:1\n"
     ]
    },
    {
     "name": "stderr",
     "output_type": "stream",
     "text": [
      "C:\\Users\\TUKUNA\\AppData\\Local\\Temp/ipykernel_14232/2309356834.py:31: FutureWarning: Pass y=[-0.02142113 -0.03644522 -0.03333138 ...  0.00852631  0.01108252\n",
      "  0.        ] as keyword args. From version 0.10 passing these as positional arguments will result in an error\n",
      "  if librosa.get_duration(signal)>10:\n",
      "C:\\Users\\TUKUNA\\AppData\\Local\\Temp/ipykernel_14232/2309356834.py:40: FutureWarning: Pass y=[-0.02142113 -0.03644522 -0.03333138 ...  0.02029671  0.03310312\n",
      "  0.03115241] as keyword args. From version 0.10 passing these as positional arguments will result in an error\n",
      "  mfcc= librosa.feature.mfcc(signal[start_sample:finish_sample],\n",
      "C:\\Users\\TUKUNA\\AppData\\Local\\Temp/ipykernel_14232/2309356834.py:40: FutureWarning: Pass y=[0.01308884 0.03072166 0.02676617 ... 0.00852631 0.01108252 0.        ] as keyword args. From version 0.10 passing these as positional arguments will result in an error\n",
      "  mfcc= librosa.feature.mfcc(signal[start_sample:finish_sample],\n"
     ]
    },
    {
     "name": "stdout",
     "output_type": "stream",
     "text": [
      "ocean_noise_data\\common_dolphin\\75003042.wav, segment:0\n"
     ]
    },
    {
     "name": "stderr",
     "output_type": "stream",
     "text": [
      "C:\\Users\\TUKUNA\\AppData\\Local\\Temp/ipykernel_14232/2309356834.py:31: FutureWarning: Pass y=[ 0.00925423  0.01771648  0.01623171 ... -0.0020497   0.00035739\n",
      "  0.        ] as keyword args. From version 0.10 passing these as positional arguments will result in an error\n",
      "  if librosa.get_duration(signal)>10:\n",
      "C:\\Users\\TUKUNA\\AppData\\Local\\Temp/ipykernel_14232/2309356834.py:40: FutureWarning: Pass y=[ 0.00925423  0.01771648  0.01623171 ...  0.02170876 -0.00897347\n",
      "  0.0044287 ] as keyword args. From version 0.10 passing these as positional arguments will result in an error\n",
      "  mfcc= librosa.feature.mfcc(signal[start_sample:finish_sample],\n",
      "C:\\Users\\TUKUNA\\AppData\\Local\\Temp/ipykernel_14232/2309356834.py:40: FutureWarning: Pass y=[ 0.01935901 -0.00724854 -0.00057611 ... -0.0020497   0.00035739\n",
      "  0.        ] as keyword args. From version 0.10 passing these as positional arguments will result in an error\n",
      "  mfcc= librosa.feature.mfcc(signal[start_sample:finish_sample],\n"
     ]
    },
    {
     "name": "stdout",
     "output_type": "stream",
     "text": [
      "ocean_noise_data\\common_dolphin\\75003043.wav, segment:0\n"
     ]
    },
    {
     "name": "stderr",
     "output_type": "stream",
     "text": [
      "C:\\Users\\TUKUNA\\AppData\\Local\\Temp/ipykernel_14232/2309356834.py:31: FutureWarning: Pass y=[0.0032139  0.00714601 0.01047082 ... 0.01562934 0.01916818 0.        ] as keyword args. From version 0.10 passing these as positional arguments will result in an error\n",
      "  if librosa.get_duration(signal)>10:\n",
      "C:\\Users\\TUKUNA\\AppData\\Local\\Temp/ipykernel_14232/2309356834.py:40: FutureWarning: Pass y=[ 0.0032139   0.00714601  0.01047082 ... -0.0010027   0.00081235\n",
      "  0.00834771] as keyword args. From version 0.10 passing these as positional arguments will result in an error\n",
      "  mfcc= librosa.feature.mfcc(signal[start_sample:finish_sample],\n",
      "C:\\Users\\TUKUNA\\AppData\\Local\\Temp/ipykernel_14232/2309356834.py:40: FutureWarning: Pass y=[ 0.00899337  0.00113723 -0.00625495 ...  0.00949215  0.0156444\n",
      "  0.01250417] as keyword args. From version 0.10 passing these as positional arguments will result in an error\n",
      "  mfcc= librosa.feature.mfcc(signal[start_sample:finish_sample],\n",
      "C:\\Users\\TUKUNA\\AppData\\Local\\Temp/ipykernel_14232/2309356834.py:40: FutureWarning: Pass y=[-0.00080574 -0.01139728 -0.0142155  ...  0.01008927  0.01569931\n",
      "  0.02177589] as keyword args. From version 0.10 passing these as positional arguments will result in an error\n",
      "  mfcc= librosa.feature.mfcc(signal[start_sample:finish_sample],\n",
      "C:\\Users\\TUKUNA\\AppData\\Local\\Temp/ipykernel_14232/2309356834.py:40: FutureWarning: Pass y=[0.01452879 0.01568811 0.01065525 ... 0.01562934 0.01916818 0.        ] as keyword args. From version 0.10 passing these as positional arguments will result in an error\n",
      "  mfcc= librosa.feature.mfcc(signal[start_sample:finish_sample],\n"
     ]
    },
    {
     "name": "stdout",
     "output_type": "stream",
     "text": [
      "ocean_noise_data\\common_dolphin\\75003044.wav, segment:0\n",
      "ocean_noise_data\\common_dolphin\\75003044.wav, segment:1\n",
      "ocean_noise_data\\common_dolphin\\75003044.wav, segment:2\n"
     ]
    },
    {
     "name": "stderr",
     "output_type": "stream",
     "text": [
      "C:\\Users\\TUKUNA\\AppData\\Local\\Temp/ipykernel_14232/2309356834.py:31: FutureWarning: Pass y=[-0.01072917 -0.02226124 -0.02083433 ... -0.00041897  0.00230219\n",
      "  0.        ] as keyword args. From version 0.10 passing these as positional arguments will result in an error\n",
      "  if librosa.get_duration(signal)>10:\n",
      "C:\\Users\\TUKUNA\\AppData\\Local\\Temp/ipykernel_14232/2309356834.py:40: FutureWarning: Pass y=[-1.0729169e-02 -2.2261236e-02 -2.0834334e-02 ...  6.0151303e-03\n",
      "  3.7917974e-03  8.1396764e-05] as keyword args. From version 0.10 passing these as positional arguments will result in an error\n",
      "  mfcc= librosa.feature.mfcc(signal[start_sample:finish_sample],\n",
      "C:\\Users\\TUKUNA\\AppData\\Local\\Temp/ipykernel_14232/2309356834.py:40: FutureWarning: Pass y=[ 0.00639033  0.00312691  0.00381561 ... -0.00041897  0.00230219\n",
      "  0.        ] as keyword args. From version 0.10 passing these as positional arguments will result in an error\n",
      "  mfcc= librosa.feature.mfcc(signal[start_sample:finish_sample],\n"
     ]
    },
    {
     "name": "stdout",
     "output_type": "stream",
     "text": [
      "ocean_noise_data\\common_dolphin\\75003045.wav, segment:0\n"
     ]
    },
    {
     "name": "stderr",
     "output_type": "stream",
     "text": [
      "C:\\Users\\TUKUNA\\AppData\\Local\\Temp/ipykernel_14232/2309356834.py:31: FutureWarning: Pass y=[ 0.00608851  0.00799113  0.0088379  ... -0.00017899 -0.00046287\n",
      "  0.        ] as keyword args. From version 0.10 passing these as positional arguments will result in an error\n",
      "  if librosa.get_duration(signal)>10:\n",
      "C:\\Users\\TUKUNA\\AppData\\Local\\Temp/ipykernel_14232/2309356834.py:40: FutureWarning: Pass y=[ 0.00608851  0.00799113  0.0088379  ... -0.00017899 -0.00046287\n",
      "  0.        ] as keyword args. From version 0.10 passing these as positional arguments will result in an error\n",
      "  mfcc= librosa.feature.mfcc(signal[start_sample:finish_sample],\n",
      "C:\\Users\\TUKUNA\\AppData\\Local\\Temp/ipykernel_14232/2309356834.py:31: FutureWarning: Pass y=[0.00440889 0.00972105 0.01103054 ... 0.00245021 0.00407954 0.        ] as keyword args. From version 0.10 passing these as positional arguments will result in an error\n",
      "  if librosa.get_duration(signal)>10:\n",
      "C:\\Users\\TUKUNA\\AppData\\Local\\Temp/ipykernel_14232/2309356834.py:40: FutureWarning: Pass y=[ 0.00440889  0.00972105  0.01103054 ... -0.00609801 -0.00143997\n",
      " -0.00124662] as keyword args. From version 0.10 passing these as positional arguments will result in an error\n",
      "  mfcc= librosa.feature.mfcc(signal[start_sample:finish_sample],\n",
      "C:\\Users\\TUKUNA\\AppData\\Local\\Temp/ipykernel_14232/2309356834.py:40: FutureWarning: Pass y=[-0.00271721 -0.00394303 -0.00494988 ...  0.00141128  0.00023689\n",
      "  0.00256947] as keyword args. From version 0.10 passing these as positional arguments will result in an error\n",
      "  mfcc= librosa.feature.mfcc(signal[start_sample:finish_sample],\n",
      "C:\\Users\\TUKUNA\\AppData\\Local\\Temp/ipykernel_14232/2309356834.py:40: FutureWarning: Pass y=[ 9.2737959e-05 -1.6483446e-05  2.4046064e-03 ...  2.4502082e-03\n",
      "  4.0795435e-03  0.0000000e+00] as keyword args. From version 0.10 passing these as positional arguments will result in an error\n",
      "  mfcc= librosa.feature.mfcc(signal[start_sample:finish_sample],\n"
     ]
    },
    {
     "name": "stdout",
     "output_type": "stream",
     "text": [
      "ocean_noise_data\\common_dolphin\\7500304F.wav, segment:0\n",
      "ocean_noise_data\\common_dolphin\\7500304F.wav, segment:1\n"
     ]
    },
    {
     "name": "stderr",
     "output_type": "stream",
     "text": [
      "C:\\Users\\TUKUNA\\AppData\\Local\\Temp/ipykernel_14232/2309356834.py:31: FutureWarning: Pass y=[ 0.00365187  0.00716256  0.00521538 ...  0.0008309  -0.0009276\n",
      "  0.        ] as keyword args. From version 0.10 passing these as positional arguments will result in an error\n",
      "  if librosa.get_duration(signal)>10:\n",
      "C:\\Users\\TUKUNA\\AppData\\Local\\Temp/ipykernel_14232/2309356834.py:40: FutureWarning: Pass y=[ 0.00365187  0.00716256  0.00521538 ...  0.0045532  -0.04028419\n",
      "  0.03271463] as keyword args. From version 0.10 passing these as positional arguments will result in an error\n",
      "  mfcc= librosa.feature.mfcc(signal[start_sample:finish_sample],\n",
      "C:\\Users\\TUKUNA\\AppData\\Local\\Temp/ipykernel_14232/2309356834.py:40: FutureWarning: Pass y=[-0.02514945  0.00471047  0.02221189 ...  0.00314646  0.00186991\n",
      "  0.00040634] as keyword args. From version 0.10 passing these as positional arguments will result in an error\n",
      "  mfcc= librosa.feature.mfcc(signal[start_sample:finish_sample],\n",
      "C:\\Users\\TUKUNA\\AppData\\Local\\Temp/ipykernel_14232/2309356834.py:40: FutureWarning: Pass y=[ 0.00238845  0.00175513  0.00324802 ...  0.0008309  -0.0009276\n",
      "  0.        ] as keyword args. From version 0.10 passing these as positional arguments will result in an error\n",
      "  mfcc= librosa.feature.mfcc(signal[start_sample:finish_sample],\n"
     ]
    },
    {
     "name": "stdout",
     "output_type": "stream",
     "text": [
      "ocean_noise_data\\common_dolphin\\7500304G.wav, segment:0\n",
      "ocean_noise_data\\common_dolphin\\7500304G.wav, segment:1\n"
     ]
    },
    {
     "name": "stderr",
     "output_type": "stream",
     "text": [
      "C:\\Users\\TUKUNA\\AppData\\Local\\Temp/ipykernel_14232/2309356834.py:31: FutureWarning: Pass y=[ 0.00440208  0.01016052  0.01327563 ... -0.00222062 -0.00168913\n",
      "  0.        ] as keyword args. From version 0.10 passing these as positional arguments will result in an error\n",
      "  if librosa.get_duration(signal)>10:\n",
      "C:\\Users\\TUKUNA\\AppData\\Local\\Temp/ipykernel_14232/2309356834.py:40: FutureWarning: Pass y=[0.00440208 0.01016052 0.01327563 ... 0.01619127 0.01387991 0.01395163] as keyword args. From version 0.10 passing these as positional arguments will result in an error\n",
      "  mfcc= librosa.feature.mfcc(signal[start_sample:finish_sample],\n",
      "C:\\Users\\TUKUNA\\AppData\\Local\\Temp/ipykernel_14232/2309356834.py:40: FutureWarning: Pass y=[0.01688283 0.0162654  0.01260333 ... 0.01606339 0.0174839  0.01923425] as keyword args. From version 0.10 passing these as positional arguments will result in an error\n",
      "  mfcc= librosa.feature.mfcc(signal[start_sample:finish_sample],\n",
      "C:\\Users\\TUKUNA\\AppData\\Local\\Temp/ipykernel_14232/2309356834.py:40: FutureWarning: Pass y=[ 0.00738475  0.00064362  0.00459639 ... -0.00222062 -0.00168913\n",
      "  0.        ] as keyword args. From version 0.10 passing these as positional arguments will result in an error\n",
      "  mfcc= librosa.feature.mfcc(signal[start_sample:finish_sample],\n"
     ]
    },
    {
     "name": "stdout",
     "output_type": "stream",
     "text": [
      "ocean_noise_data\\common_dolphin\\7500304H.wav, segment:0\n",
      "ocean_noise_data\\common_dolphin\\7500304H.wav, segment:1\n"
     ]
    },
    {
     "name": "stderr",
     "output_type": "stream",
     "text": [
      "C:\\Users\\TUKUNA\\AppData\\Local\\Temp/ipykernel_14232/2309356834.py:31: FutureWarning: Pass y=[0.01470317 0.01647992 0.01135622 ... 0.0008398  0.00126669 0.        ] as keyword args. From version 0.10 passing these as positional arguments will result in an error\n",
      "  if librosa.get_duration(signal)>10:\n",
      "C:\\Users\\TUKUNA\\AppData\\Local\\Temp/ipykernel_14232/2309356834.py:40: FutureWarning: Pass y=[ 0.01470317  0.01647992  0.01135622 ... -0.00156115 -0.00239058\n",
      "  0.00277679] as keyword args. From version 0.10 passing these as positional arguments will result in an error\n",
      "  mfcc= librosa.feature.mfcc(signal[start_sample:finish_sample],\n",
      "C:\\Users\\TUKUNA\\AppData\\Local\\Temp/ipykernel_14232/2309356834.py:40: FutureWarning: Pass y=[ 0.00505293  0.00191818  0.00299776 ... -0.00158758  0.00019245\n",
      "  0.0026118 ] as keyword args. From version 0.10 passing these as positional arguments will result in an error\n",
      "  mfcc= librosa.feature.mfcc(signal[start_sample:finish_sample],\n",
      "C:\\Users\\TUKUNA\\AppData\\Local\\Temp/ipykernel_14232/2309356834.py:40: FutureWarning: Pass y=[0.0029263  0.00265589 0.00245657 ... 0.0008398  0.00126669 0.        ] as keyword args. From version 0.10 passing these as positional arguments will result in an error\n",
      "  mfcc= librosa.feature.mfcc(signal[start_sample:finish_sample],\n"
     ]
    },
    {
     "name": "stdout",
     "output_type": "stream",
     "text": [
      "ocean_noise_data\\common_dolphin\\7500304I.wav, segment:0\n",
      "ocean_noise_data\\common_dolphin\\7500304I.wav, segment:1\n"
     ]
    },
    {
     "name": "stderr",
     "output_type": "stream",
     "text": [
      "C:\\Users\\TUKUNA\\AppData\\Local\\Temp/ipykernel_14232/2309356834.py:31: FutureWarning: Pass y=[ 0.00533852  0.00816671  0.00453377 ... -0.00849855 -0.00862294\n",
      "  0.        ] as keyword args. From version 0.10 passing these as positional arguments will result in an error\n",
      "  if librosa.get_duration(signal)>10:\n",
      "C:\\Users\\TUKUNA\\AppData\\Local\\Temp/ipykernel_14232/2309356834.py:40: FutureWarning: Pass y=[ 0.00533852  0.00816671  0.00453377 ... -0.00418851 -0.00329063\n",
      " -0.00781275] as keyword args. From version 0.10 passing these as positional arguments will result in an error\n",
      "  mfcc= librosa.feature.mfcc(signal[start_sample:finish_sample],\n",
      "C:\\Users\\TUKUNA\\AppData\\Local\\Temp/ipykernel_14232/2309356834.py:40: FutureWarning: Pass y=[-0.00801825 -0.00207595  0.00729989 ...  0.00124048 -0.00158106\n",
      " -0.00357749] as keyword args. From version 0.10 passing these as positional arguments will result in an error\n",
      "  mfcc= librosa.feature.mfcc(signal[start_sample:finish_sample],\n",
      "C:\\Users\\TUKUNA\\AppData\\Local\\Temp/ipykernel_14232/2309356834.py:40: FutureWarning: Pass y=[-0.00252741  0.00093963  0.00125784 ... -0.00849855 -0.00862294\n",
      "  0.        ] as keyword args. From version 0.10 passing these as positional arguments will result in an error\n",
      "  mfcc= librosa.feature.mfcc(signal[start_sample:finish_sample],\n"
     ]
    },
    {
     "name": "stdout",
     "output_type": "stream",
     "text": [
      "ocean_noise_data\\common_dolphin\\7500304K.wav, segment:0\n",
      "ocean_noise_data\\common_dolphin\\7500304K.wav, segment:1\n"
     ]
    },
    {
     "name": "stderr",
     "output_type": "stream",
     "text": [
      "C:\\Users\\TUKUNA\\AppData\\Local\\Temp/ipykernel_14232/2309356834.py:31: FutureWarning: Pass y=[0.01919265 0.02685921 0.02870026 ... 0.00516276 0.00202654 0.        ] as keyword args. From version 0.10 passing these as positional arguments will result in an error\n",
      "  if librosa.get_duration(signal)>10:\n",
      "C:\\Users\\TUKUNA\\AppData\\Local\\Temp/ipykernel_14232/2309356834.py:40: FutureWarning: Pass y=[ 0.01919265  0.02685921  0.02870026 ...  0.06148828 -0.01081484\n",
      " -0.04548436] as keyword args. From version 0.10 passing these as positional arguments will result in an error\n",
      "  mfcc= librosa.feature.mfcc(signal[start_sample:finish_sample],\n",
      "C:\\Users\\TUKUNA\\AppData\\Local\\Temp/ipykernel_14232/2309356834.py:40: FutureWarning: Pass y=[ 0.05547802  0.00242687 -0.04517528 ... -0.00945375 -0.00729902\n",
      " -0.00422398] as keyword args. From version 0.10 passing these as positional arguments will result in an error\n",
      "  mfcc= librosa.feature.mfcc(signal[start_sample:finish_sample],\n",
      "C:\\Users\\TUKUNA\\AppData\\Local\\Temp/ipykernel_14232/2309356834.py:40: FutureWarning: Pass y=[-0.00955357 -0.00555152 -0.0068833  ...  0.00516276  0.00202654\n",
      "  0.        ] as keyword args. From version 0.10 passing these as positional arguments will result in an error\n",
      "  mfcc= librosa.feature.mfcc(signal[start_sample:finish_sample],\n"
     ]
    },
    {
     "name": "stdout",
     "output_type": "stream",
     "text": [
      "ocean_noise_data\\common_dolphin\\7500304L.wav, segment:0\n",
      "ocean_noise_data\\common_dolphin\\7500304L.wav, segment:1\n"
     ]
    },
    {
     "name": "stderr",
     "output_type": "stream",
     "text": [
      "C:\\Users\\TUKUNA\\AppData\\Local\\Temp/ipykernel_14232/2309356834.py:31: FutureWarning: Pass y=[0.00362462 0.00949182 0.00872434 ... 0.00849944 0.00976528 0.        ] as keyword args. From version 0.10 passing these as positional arguments will result in an error\n",
      "  if librosa.get_duration(signal)>10:\n",
      "C:\\Users\\TUKUNA\\AppData\\Local\\Temp/ipykernel_14232/2309356834.py:40: FutureWarning: Pass y=[ 0.00362462  0.00949182  0.00872434 ... -0.00180641 -0.00348016\n",
      " -0.00123844] as keyword args. From version 0.10 passing these as positional arguments will result in an error\n",
      "  mfcc= librosa.feature.mfcc(signal[start_sample:finish_sample],\n",
      "C:\\Users\\TUKUNA\\AppData\\Local\\Temp/ipykernel_14232/2309356834.py:40: FutureWarning: Pass y=[-0.00399693 -0.00165212 -0.00135437 ...  0.04958785 -0.04714491\n",
      "  0.06287585] as keyword args. From version 0.10 passing these as positional arguments will result in an error\n",
      "  mfcc= librosa.feature.mfcc(signal[start_sample:finish_sample],\n",
      "C:\\Users\\TUKUNA\\AppData\\Local\\Temp/ipykernel_14232/2309356834.py:40: FutureWarning: Pass y=[-0.0459118   0.05822716 -0.03534238 ...  0.00849944  0.00976528\n",
      "  0.        ] as keyword args. From version 0.10 passing these as positional arguments will result in an error\n",
      "  mfcc= librosa.feature.mfcc(signal[start_sample:finish_sample],\n"
     ]
    },
    {
     "name": "stdout",
     "output_type": "stream",
     "text": [
      "ocean_noise_data\\common_dolphin\\7500304M.wav, segment:0\n",
      "ocean_noise_data\\common_dolphin\\7500304M.wav, segment:1\n"
     ]
    },
    {
     "name": "stderr",
     "output_type": "stream",
     "text": [
      "C:\\Users\\TUKUNA\\AppData\\Local\\Temp/ipykernel_14232/2309356834.py:31: FutureWarning: Pass y=[-2.2007036e-06  1.0952898e-03  5.7783718e-03 ...  9.4827758e-03\n",
      "  1.6595596e-02  0.0000000e+00] as keyword args. From version 0.10 passing these as positional arguments will result in an error\n",
      "  if librosa.get_duration(signal)>10:\n",
      "C:\\Users\\TUKUNA\\AppData\\Local\\Temp/ipykernel_14232/2309356834.py:40: FutureWarning: Pass y=[-2.2007036e-06  1.0952898e-03  5.7783718e-03 ... -2.8410989e-03\n",
      " -4.1771466e-03 -3.2752366e-03] as keyword args. From version 0.10 passing these as positional arguments will result in an error\n",
      "  mfcc= librosa.feature.mfcc(signal[start_sample:finish_sample],\n",
      "C:\\Users\\TUKUNA\\AppData\\Local\\Temp/ipykernel_14232/2309356834.py:40: FutureWarning: Pass y=[-0.00273489 -0.00083715 -0.00438522 ...  0.0046216   0.00375437\n",
      "  0.00300758] as keyword args. From version 0.10 passing these as positional arguments will result in an error\n",
      "  mfcc= librosa.feature.mfcc(signal[start_sample:finish_sample],\n",
      "C:\\Users\\TUKUNA\\AppData\\Local\\Temp/ipykernel_14232/2309356834.py:40: FutureWarning: Pass y=[0.00315362 0.00333802 0.00131897 ... 0.00948278 0.0165956  0.        ] as keyword args. From version 0.10 passing these as positional arguments will result in an error\n",
      "  mfcc= librosa.feature.mfcc(signal[start_sample:finish_sample],\n"
     ]
    },
    {
     "name": "stdout",
     "output_type": "stream",
     "text": [
      "ocean_noise_data\\common_dolphin\\7500304N.wav, segment:0\n",
      "ocean_noise_data\\common_dolphin\\7500304N.wav, segment:1\n"
     ]
    },
    {
     "name": "stderr",
     "output_type": "stream",
     "text": [
      "C:\\Users\\TUKUNA\\AppData\\Local\\Temp/ipykernel_14232/2309356834.py:31: FutureWarning: Pass y=[-0.00695144 -0.0181766  -0.00779168 ...  0.01317096  0.01057546\n",
      "  0.        ] as keyword args. From version 0.10 passing these as positional arguments will result in an error\n",
      "  if librosa.get_duration(signal)>10:\n",
      "C:\\Users\\TUKUNA\\AppData\\Local\\Temp/ipykernel_14232/2309356834.py:40: FutureWarning: Pass y=[-0.00695144 -0.0181766  -0.00779168 ...  0.00817462 -0.00551054\n",
      "  0.00411819] as keyword args. From version 0.10 passing these as positional arguments will result in an error\n",
      "  mfcc= librosa.feature.mfcc(signal[start_sample:finish_sample],\n",
      "C:\\Users\\TUKUNA\\AppData\\Local\\Temp/ipykernel_14232/2309356834.py:40: FutureWarning: Pass y=[0.00082891 0.00037556 0.00044733 ... 0.00986353 0.00952374 0.01044245] as keyword args. From version 0.10 passing these as positional arguments will result in an error\n",
      "  mfcc= librosa.feature.mfcc(signal[start_sample:finish_sample],\n",
      "C:\\Users\\TUKUNA\\AppData\\Local\\Temp/ipykernel_14232/2309356834.py:40: FutureWarning: Pass y=[0.0126114  0.00943721 0.00878588 ... 0.01317096 0.01057546 0.        ] as keyword args. From version 0.10 passing these as positional arguments will result in an error\n",
      "  mfcc= librosa.feature.mfcc(signal[start_sample:finish_sample],\n",
      "C:\\Users\\TUKUNA\\AppData\\Local\\Temp/ipykernel_14232/2309356834.py:31: FutureWarning: Pass y=[ 0.00412934  0.00918267  0.00150131 ...  0.00119855 -0.00360738\n",
      "  0.        ] as keyword args. From version 0.10 passing these as positional arguments will result in an error\n",
      "  if librosa.get_duration(signal)>10:\n",
      "C:\\Users\\TUKUNA\\AppData\\Local\\Temp/ipykernel_14232/2309356834.py:40: FutureWarning: Pass y=[ 0.00412934  0.00918267  0.00150131 ...  0.00119855 -0.00360738\n",
      "  0.        ] as keyword args. From version 0.10 passing these as positional arguments will result in an error\n",
      "  mfcc= librosa.feature.mfcc(signal[start_sample:finish_sample],\n"
     ]
    },
    {
     "name": "stdout",
     "output_type": "stream",
     "text": [
      "ocean_noise_data\\common_dolphin\\7500304O.wav, segment:0\n",
      "ocean_noise_data\\common_dolphin\\7500304O.wav, segment:1\n"
     ]
    },
    {
     "name": "stderr",
     "output_type": "stream",
     "text": [
      "C:\\Users\\TUKUNA\\AppData\\Local\\Temp/ipykernel_14232/2309356834.py:31: FutureWarning: Pass y=[-0.0040202  -0.00190254  0.00111476 ...  0.00825937  0.00795613\n",
      "  0.        ] as keyword args. From version 0.10 passing these as positional arguments will result in an error\n",
      "  if librosa.get_duration(signal)>10:\n",
      "C:\\Users\\TUKUNA\\AppData\\Local\\Temp/ipykernel_14232/2309356834.py:40: FutureWarning: Pass y=[-0.0040202  -0.00190254  0.00111476 ...  0.00825937  0.00795613\n",
      "  0.        ] as keyword args. From version 0.10 passing these as positional arguments will result in an error\n",
      "  mfcc= librosa.feature.mfcc(signal[start_sample:finish_sample],\n",
      "C:\\Users\\TUKUNA\\AppData\\Local\\Temp/ipykernel_14232/2309356834.py:31: FutureWarning: Pass y=[-0.00039558  0.00314608  0.00281981 ...  0.00177652  0.00502617\n",
      "  0.        ] as keyword args. From version 0.10 passing these as positional arguments will result in an error\n",
      "  if librosa.get_duration(signal)>10:\n",
      "C:\\Users\\TUKUNA\\AppData\\Local\\Temp/ipykernel_14232/2309356834.py:40: FutureWarning: Pass y=[-0.00039558  0.00314608  0.00281981 ...  0.01043737  0.0131998\n",
      "  0.00834709] as keyword args. From version 0.10 passing these as positional arguments will result in an error\n",
      "  mfcc= librosa.feature.mfcc(signal[start_sample:finish_sample],\n",
      "C:\\Users\\TUKUNA\\AppData\\Local\\Temp/ipykernel_14232/2309356834.py:40: FutureWarning: Pass y=[ 0.00210988  0.001649   -0.00636242 ...  0.00557516  0.00501516\n",
      "  0.00406941] as keyword args. From version 0.10 passing these as positional arguments will result in an error\n",
      "  mfcc= librosa.feature.mfcc(signal[start_sample:finish_sample],\n",
      "C:\\Users\\TUKUNA\\AppData\\Local\\Temp/ipykernel_14232/2309356834.py:40: FutureWarning: Pass y=[0.00352249 0.00470392 0.00468815 ... 0.00536819 0.00518321 0.0064069 ] as keyword args. From version 0.10 passing these as positional arguments will result in an error\n",
      "  mfcc= librosa.feature.mfcc(signal[start_sample:finish_sample],\n",
      "C:\\Users\\TUKUNA\\AppData\\Local\\Temp/ipykernel_14232/2309356834.py:40: FutureWarning: Pass y=[0.00563684 0.00609459 0.00623093 ... 0.00177652 0.00502617 0.        ] as keyword args. From version 0.10 passing these as positional arguments will result in an error\n",
      "  mfcc= librosa.feature.mfcc(signal[start_sample:finish_sample],\n"
     ]
    },
    {
     "name": "stdout",
     "output_type": "stream",
     "text": [
      "ocean_noise_data\\common_dolphin\\75003051.wav, segment:0\n",
      "ocean_noise_data\\common_dolphin\\75003051.wav, segment:1\n",
      "ocean_noise_data\\common_dolphin\\75003051.wav, segment:2\n"
     ]
    },
    {
     "name": "stderr",
     "output_type": "stream",
     "text": [
      "C:\\Users\\TUKUNA\\AppData\\Local\\Temp/ipykernel_14232/2309356834.py:31: FutureWarning: Pass y=[ 0.00140261 -0.00033471 -0.00283287 ...  0.00567113  0.0059249\n",
      "  0.        ] as keyword args. From version 0.10 passing these as positional arguments will result in an error\n",
      "  if librosa.get_duration(signal)>10:\n",
      "C:\\Users\\TUKUNA\\AppData\\Local\\Temp/ipykernel_14232/2309356834.py:40: FutureWarning: Pass y=[ 0.00140261 -0.00033471 -0.00283287 ...  0.00604199  0.00596601\n",
      "  0.00475836] as keyword args. From version 0.10 passing these as positional arguments will result in an error\n",
      "  mfcc= librosa.feature.mfcc(signal[start_sample:finish_sample],\n",
      "C:\\Users\\TUKUNA\\AppData\\Local\\Temp/ipykernel_14232/2309356834.py:40: FutureWarning: Pass y=[ 0.00549816  0.00792902  0.0097166  ...  0.00488543  0.00326267\n",
      " -0.00126414] as keyword args. From version 0.10 passing these as positional arguments will result in an error\n",
      "  mfcc= librosa.feature.mfcc(signal[start_sample:finish_sample],\n",
      "C:\\Users\\TUKUNA\\AppData\\Local\\Temp/ipykernel_14232/2309356834.py:40: FutureWarning: Pass y=[-0.00617668 -0.00999966 -0.00458254 ...  0.00567113  0.0059249\n",
      "  0.        ] as keyword args. From version 0.10 passing these as positional arguments will result in an error\n",
      "  mfcc= librosa.feature.mfcc(signal[start_sample:finish_sample],\n"
     ]
    },
    {
     "name": "stdout",
     "output_type": "stream",
     "text": [
      "ocean_noise_data\\common_dolphin\\75003052.wav, segment:0\n",
      "ocean_noise_data\\common_dolphin\\75003052.wav, segment:1\n"
     ]
    },
    {
     "name": "stderr",
     "output_type": "stream",
     "text": [
      "C:\\Users\\TUKUNA\\AppData\\Local\\Temp/ipykernel_14232/2309356834.py:31: FutureWarning: Pass y=[0.00781711 0.01463873 0.01074573 ... 0.00616915 0.0054513  0.        ] as keyword args. From version 0.10 passing these as positional arguments will result in an error\n",
      "  if librosa.get_duration(signal)>10:\n",
      "C:\\Users\\TUKUNA\\AppData\\Local\\Temp/ipykernel_14232/2309356834.py:40: FutureWarning: Pass y=[ 0.00781711  0.01463873  0.01074573 ...  0.01079662 -0.00401749\n",
      "  0.00705045] as keyword args. From version 0.10 passing these as positional arguments will result in an error\n",
      "  mfcc= librosa.feature.mfcc(signal[start_sample:finish_sample],\n",
      "C:\\Users\\TUKUNA\\AppData\\Local\\Temp/ipykernel_14232/2309356834.py:40: FutureWarning: Pass y=[ 0.00418855 -0.00566323  0.01010549 ... -0.00283543 -0.00082664\n",
      "  0.00062893] as keyword args. From version 0.10 passing these as positional arguments will result in an error\n",
      "  mfcc= librosa.feature.mfcc(signal[start_sample:finish_sample],\n",
      "C:\\Users\\TUKUNA\\AppData\\Local\\Temp/ipykernel_14232/2309356834.py:40: FutureWarning: Pass y=[0.00208639 0.00578285 0.00374241 ... 0.00616915 0.0054513  0.        ] as keyword args. From version 0.10 passing these as positional arguments will result in an error\n",
      "  mfcc= librosa.feature.mfcc(signal[start_sample:finish_sample],\n"
     ]
    },
    {
     "name": "stdout",
     "output_type": "stream",
     "text": [
      "ocean_noise_data\\common_dolphin\\75003053.wav, segment:0\n",
      "ocean_noise_data\\common_dolphin\\75003053.wav, segment:1\n"
     ]
    },
    {
     "name": "stderr",
     "output_type": "stream",
     "text": [
      "C:\\Users\\TUKUNA\\AppData\\Local\\Temp/ipykernel_14232/2309356834.py:31: FutureWarning: Pass y=[ 0.00251002  0.00356544 -0.00074345 ...  0.01265289  0.01291332\n",
      "  0.        ] as keyword args. From version 0.10 passing these as positional arguments will result in an error\n",
      "  if librosa.get_duration(signal)>10:\n",
      "C:\\Users\\TUKUNA\\AppData\\Local\\Temp/ipykernel_14232/2309356834.py:40: FutureWarning: Pass y=[ 0.00251002  0.00356544 -0.00074345 ...  0.01265289  0.01291332\n",
      "  0.        ] as keyword args. From version 0.10 passing these as positional arguments will result in an error\n",
      "  mfcc= librosa.feature.mfcc(signal[start_sample:finish_sample],\n",
      "C:\\Users\\TUKUNA\\AppData\\Local\\Temp/ipykernel_14232/2309356834.py:31: FutureWarning: Pass y=[0.00974638 0.01466986 0.01012174 ... 0.0033134  0.00405926 0.        ] as keyword args. From version 0.10 passing these as positional arguments will result in an error\n",
      "  if librosa.get_duration(signal)>10:\n",
      "C:\\Users\\TUKUNA\\AppData\\Local\\Temp/ipykernel_14232/2309356834.py:40: FutureWarning: Pass y=[0.00974638 0.01466986 0.01012174 ... 0.0033134  0.00405926 0.        ] as keyword args. From version 0.10 passing these as positional arguments will result in an error\n",
      "  mfcc= librosa.feature.mfcc(signal[start_sample:finish_sample],\n",
      "C:\\Users\\TUKUNA\\AppData\\Local\\Temp/ipykernel_14232/2309356834.py:31: FutureWarning: Pass y=[ 0.01017285  0.00047027  0.01630217 ... -0.00414343 -0.00200247\n",
      "  0.        ] as keyword args. From version 0.10 passing these as positional arguments will result in an error\n",
      "  if librosa.get_duration(signal)>10:\n",
      "C:\\Users\\TUKUNA\\AppData\\Local\\Temp/ipykernel_14232/2309356834.py:40: FutureWarning: Pass y=[ 0.01017285  0.00047027  0.01630217 ...  0.00522492 -0.00020073\n",
      "  0.00107046] as keyword args. From version 0.10 passing these as positional arguments will result in an error\n",
      "  mfcc= librosa.feature.mfcc(signal[start_sample:finish_sample],\n",
      "C:\\Users\\TUKUNA\\AppData\\Local\\Temp/ipykernel_14232/2309356834.py:40: FutureWarning: Pass y=[ 0.00291485  0.00113968  0.00102148 ... -0.00414343 -0.00200247\n",
      "  0.        ] as keyword args. From version 0.10 passing these as positional arguments will result in an error\n",
      "  mfcc= librosa.feature.mfcc(signal[start_sample:finish_sample],\n"
     ]
    },
    {
     "name": "stdout",
     "output_type": "stream",
     "text": [
      "ocean_noise_data\\common_dolphin\\75003058.wav, segment:0\n"
     ]
    },
    {
     "name": "stderr",
     "output_type": "stream",
     "text": [
      "C:\\Users\\TUKUNA\\AppData\\Local\\Temp/ipykernel_14232/2309356834.py:31: FutureWarning: Pass y=[-0.00680089 -0.01373756 -0.01487119 ...  0.01832462  0.01796927\n",
      "  0.        ] as keyword args. From version 0.10 passing these as positional arguments will result in an error\n",
      "  if librosa.get_duration(signal)>10:\n",
      "C:\\Users\\TUKUNA\\AppData\\Local\\Temp/ipykernel_14232/2309356834.py:40: FutureWarning: Pass y=[-0.00680089 -0.01373756 -0.01487119 ...  0.01832462  0.01796927\n",
      "  0.        ] as keyword args. From version 0.10 passing these as positional arguments will result in an error\n",
      "  mfcc= librosa.feature.mfcc(signal[start_sample:finish_sample],\n",
      "C:\\Users\\TUKUNA\\AppData\\Local\\Temp/ipykernel_14232/2309356834.py:31: FutureWarning: Pass y=[0.00456381 0.00433174 0.00541185 ... 0.00620458 0.00340972 0.        ] as keyword args. From version 0.10 passing these as positional arguments will result in an error\n",
      "  if librosa.get_duration(signal)>10:\n",
      "C:\\Users\\TUKUNA\\AppData\\Local\\Temp/ipykernel_14232/2309356834.py:40: FutureWarning: Pass y=[0.00456381 0.00433174 0.00541185 ... 0.00620458 0.00340972 0.        ] as keyword args. From version 0.10 passing these as positional arguments will result in an error\n",
      "  mfcc= librosa.feature.mfcc(signal[start_sample:finish_sample],\n",
      "C:\\Users\\TUKUNA\\AppData\\Local\\Temp/ipykernel_14232/2309356834.py:31: FutureWarning: Pass y=[-0.00766757 -0.0127048  -0.00794595 ...  0.00071991  0.00308948\n",
      "  0.        ] as keyword args. From version 0.10 passing these as positional arguments will result in an error\n",
      "  if librosa.get_duration(signal)>10:\n",
      "C:\\Users\\TUKUNA\\AppData\\Local\\Temp/ipykernel_14232/2309356834.py:40: FutureWarning: Pass y=[-0.00766757 -0.0127048  -0.00794595 ...  0.00059759  0.00545197\n",
      "  0.00093392] as keyword args. From version 0.10 passing these as positional arguments will result in an error\n",
      "  mfcc= librosa.feature.mfcc(signal[start_sample:finish_sample],\n",
      "C:\\Users\\TUKUNA\\AppData\\Local\\Temp/ipykernel_14232/2309356834.py:40: FutureWarning: Pass y=[0.00124315 0.00523258 0.00584296 ... 0.00071991 0.00308948 0.        ] as keyword args. From version 0.10 passing these as positional arguments will result in an error\n",
      "  mfcc= librosa.feature.mfcc(signal[start_sample:finish_sample],\n"
     ]
    },
    {
     "name": "stdout",
     "output_type": "stream",
     "text": [
      "ocean_noise_data\\common_dolphin\\7500305H.wav, segment:0\n",
      "\n",
      " processingocean_noise_data\\humpback_whale\n"
     ]
    },
    {
     "name": "stderr",
     "output_type": "stream",
     "text": [
      "C:\\Users\\TUKUNA\\AppData\\Local\\Temp/ipykernel_14232/2309356834.py:31: FutureWarning: Pass y=[-0.08437188 -0.08836588 -0.06317714 ... -0.01564536 -0.02845736\n",
      "  0.        ] as keyword args. From version 0.10 passing these as positional arguments will result in an error\n",
      "  if librosa.get_duration(signal)>10:\n",
      "C:\\Users\\TUKUNA\\AppData\\Local\\Temp/ipykernel_14232/2309356834.py:32: FutureWarning: Pass y=[-0.08437188 -0.08836588 -0.06317714 ... -0.01564536 -0.02845736\n",
      "  0.        ] as keyword args. From version 0.10 passing these as positional arguments will result in an error\n",
      "  num_segments=int(librosa.get_duration(signal)/10)\n",
      "C:\\Users\\TUKUNA\\AppData\\Local\\Temp/ipykernel_14232/2309356834.py:40: FutureWarning: Pass y=[-0.08437188 -0.08836588 -0.06317714 ... -0.14578988 -0.16971518\n",
      " -0.18043222] as keyword args. From version 0.10 passing these as positional arguments will result in an error\n",
      "  mfcc= librosa.feature.mfcc(signal[start_sample:finish_sample],\n",
      "C:\\Users\\TUKUNA\\AppData\\Local\\Temp/ipykernel_14232/2309356834.py:40: FutureWarning: Pass y=[-0.17374128 -0.15057975 -0.11546219 ...  0.07598245  0.05708579\n",
      "  0.04035175] as keyword args. From version 0.10 passing these as positional arguments will result in an error\n",
      "  mfcc= librosa.feature.mfcc(signal[start_sample:finish_sample],\n",
      "C:\\Users\\TUKUNA\\AppData\\Local\\Temp/ipykernel_14232/2309356834.py:40: FutureWarning: Pass y=[0.02985882 0.02735509 0.03347387 ... 0.03136374 0.03683592 0.03846146] as keyword args. From version 0.10 passing these as positional arguments will result in an error\n",
      "  mfcc= librosa.feature.mfcc(signal[start_sample:finish_sample],\n"
     ]
    },
    {
     "name": "stdout",
     "output_type": "stream",
     "text": [
      "ocean_noise_data\\humpback_whale\\55113001.wav, segment:0\n",
      "ocean_noise_data\\humpback_whale\\55113001.wav, segment:1\n",
      "ocean_noise_data\\humpback_whale\\55113001.wav, segment:2\n"
     ]
    },
    {
     "name": "stderr",
     "output_type": "stream",
     "text": [
      "C:\\Users\\TUKUNA\\AppData\\Local\\Temp/ipykernel_14232/2309356834.py:31: FutureWarning: Pass y=[-0.04472635 -0.05601033 -0.05164203 ... -0.03803152 -0.03437044\n",
      "  0.        ] as keyword args. From version 0.10 passing these as positional arguments will result in an error\n",
      "  if librosa.get_duration(signal)>10:\n",
      "C:\\Users\\TUKUNA\\AppData\\Local\\Temp/ipykernel_14232/2309356834.py:40: FutureWarning: Pass y=[-0.04472635 -0.05601033 -0.05164203 ...  0.01596167  0.00803963\n",
      " -0.00030529] as keyword args. From version 0.10 passing these as positional arguments will result in an error\n",
      "  mfcc= librosa.feature.mfcc(signal[start_sample:finish_sample],\n",
      "C:\\Users\\TUKUNA\\AppData\\Local\\Temp/ipykernel_14232/2309356834.py:40: FutureWarning: Pass y=[-0.01219233 -0.03020334 -0.05218123 ...  0.03893447  0.02729564\n",
      "  0.01502713] as keyword args. From version 0.10 passing these as positional arguments will result in an error\n",
      "  mfcc= librosa.feature.mfcc(signal[start_sample:finish_sample],\n",
      "C:\\Users\\TUKUNA\\AppData\\Local\\Temp/ipykernel_14232/2309356834.py:40: FutureWarning: Pass y=[ 0.00973712  0.01694219  0.03617268 ... -0.00373869 -0.01371185\n",
      " -0.01306614] as keyword args. From version 0.10 passing these as positional arguments will result in an error\n",
      "  mfcc= librosa.feature.mfcc(signal[start_sample:finish_sample],\n"
     ]
    },
    {
     "name": "stdout",
     "output_type": "stream",
     "text": [
      "ocean_noise_data\\humpback_whale\\55113002.wav, segment:0\n",
      "ocean_noise_data\\humpback_whale\\55113002.wav, segment:1\n",
      "ocean_noise_data\\humpback_whale\\55113002.wav, segment:2\n"
     ]
    },
    {
     "name": "stderr",
     "output_type": "stream",
     "text": [
      "C:\\Users\\TUKUNA\\AppData\\Local\\Temp/ipykernel_14232/2309356834.py:31: FutureWarning: Pass y=[ 0.11135694  0.12636715  0.10117622 ... -0.12173563 -0.107343\n",
      "  0.        ] as keyword args. From version 0.10 passing these as positional arguments will result in an error\n",
      "  if librosa.get_duration(signal)>10:\n",
      "C:\\Users\\TUKUNA\\AppData\\Local\\Temp/ipykernel_14232/2309356834.py:40: FutureWarning: Pass y=[ 0.11135694  0.12636715  0.10117622 ...  0.01649757  0.00321131\n",
      " -0.0186682 ] as keyword args. From version 0.10 passing these as positional arguments will result in an error\n",
      "  mfcc= librosa.feature.mfcc(signal[start_sample:finish_sample],\n",
      "C:\\Users\\TUKUNA\\AppData\\Local\\Temp/ipykernel_14232/2309356834.py:40: FutureWarning: Pass y=[-0.04344975 -0.06099701 -0.06044581 ... -0.02551975 -0.02809204\n",
      " -0.01662412] as keyword args. From version 0.10 passing these as positional arguments will result in an error\n",
      "  mfcc= librosa.feature.mfcc(signal[start_sample:finish_sample],\n",
      "C:\\Users\\TUKUNA\\AppData\\Local\\Temp/ipykernel_14232/2309356834.py:40: FutureWarning: Pass y=[ 0.006857    0.03383639  0.05594798 ... -0.01916074 -0.03131329\n",
      " -0.0474063 ] as keyword args. From version 0.10 passing these as positional arguments will result in an error\n",
      "  mfcc= librosa.feature.mfcc(signal[start_sample:finish_sample],\n"
     ]
    },
    {
     "name": "stdout",
     "output_type": "stream",
     "text": [
      "ocean_noise_data\\humpback_whale\\55113003.wav, segment:0\n",
      "ocean_noise_data\\humpback_whale\\55113003.wav, segment:1\n",
      "ocean_noise_data\\humpback_whale\\55113003.wav, segment:2\n"
     ]
    },
    {
     "name": "stderr",
     "output_type": "stream",
     "text": [
      "C:\\Users\\TUKUNA\\AppData\\Local\\Temp/ipykernel_14232/2309356834.py:31: FutureWarning: Pass y=[-0.03770268 -0.05498096 -0.06539987 ...  0.01805675  0.00367991\n",
      "  0.        ] as keyword args. From version 0.10 passing these as positional arguments will result in an error\n",
      "  if librosa.get_duration(signal)>10:\n",
      "C:\\Users\\TUKUNA\\AppData\\Local\\Temp/ipykernel_14232/2309356834.py:40: FutureWarning: Pass y=[-0.03770268 -0.05498096 -0.06539987 ... -0.06075166 -0.03215726\n",
      " -0.00463705] as keyword args. From version 0.10 passing these as positional arguments will result in an error\n",
      "  mfcc= librosa.feature.mfcc(signal[start_sample:finish_sample],\n",
      "C:\\Users\\TUKUNA\\AppData\\Local\\Temp/ipykernel_14232/2309356834.py:40: FutureWarning: Pass y=[ 0.01899986  0.03651907  0.04739182 ...  0.08407604  0.04314445\n",
      " -0.02352345] as keyword args. From version 0.10 passing these as positional arguments will result in an error\n",
      "  mfcc= librosa.feature.mfcc(signal[start_sample:finish_sample],\n",
      "C:\\Users\\TUKUNA\\AppData\\Local\\Temp/ipykernel_14232/2309356834.py:40: FutureWarning: Pass y=[-0.09566984 -0.14681207 -0.1600051  ... -0.04635156 -0.03766454\n",
      " -0.03111794] as keyword args. From version 0.10 passing these as positional arguments will result in an error\n",
      "  mfcc= librosa.feature.mfcc(signal[start_sample:finish_sample],\n"
     ]
    },
    {
     "name": "stdout",
     "output_type": "stream",
     "text": [
      "ocean_noise_data\\humpback_whale\\55113004.wav, segment:0\n",
      "ocean_noise_data\\humpback_whale\\55113004.wav, segment:1\n",
      "ocean_noise_data\\humpback_whale\\55113004.wav, segment:2\n"
     ]
    },
    {
     "name": "stderr",
     "output_type": "stream",
     "text": [
      "C:\\Users\\TUKUNA\\AppData\\Local\\Temp/ipykernel_14232/2309356834.py:31: FutureWarning: Pass y=[-0.02444494 -0.02857565 -0.02511847 ...  0.0019929   0.00011931\n",
      "  0.        ] as keyword args. From version 0.10 passing these as positional arguments will result in an error\n",
      "  if librosa.get_duration(signal)>10:\n",
      "C:\\Users\\TUKUNA\\AppData\\Local\\Temp/ipykernel_14232/2309356834.py:32: FutureWarning: Pass y=[-0.02444494 -0.02857565 -0.02511847 ...  0.0019929   0.00011931\n",
      "  0.        ] as keyword args. From version 0.10 passing these as positional arguments will result in an error\n",
      "  num_segments=int(librosa.get_duration(signal)/10)\n",
      "C:\\Users\\TUKUNA\\AppData\\Local\\Temp/ipykernel_14232/2309356834.py:40: FutureWarning: Pass y=[-0.02444494 -0.02857565 -0.02511847 ... -0.03606693 -0.03868902\n",
      " -0.0394376 ] as keyword args. From version 0.10 passing these as positional arguments will result in an error\n",
      "  mfcc= librosa.feature.mfcc(signal[start_sample:finish_sample],\n",
      "C:\\Users\\TUKUNA\\AppData\\Local\\Temp/ipykernel_14232/2309356834.py:40: FutureWarning: Pass y=[-0.03567479 -0.02744572 -0.01641168 ... -0.09456956 -0.09836388\n",
      " -0.10262544] as keyword args. From version 0.10 passing these as positional arguments will result in an error\n",
      "  mfcc= librosa.feature.mfcc(signal[start_sample:finish_sample],\n"
     ]
    },
    {
     "name": "stdout",
     "output_type": "stream",
     "text": [
      "ocean_noise_data\\humpback_whale\\55113007.wav, segment:0\n",
      "ocean_noise_data\\humpback_whale\\55113007.wav, segment:1\n"
     ]
    },
    {
     "name": "stderr",
     "output_type": "stream",
     "text": [
      "C:\\Users\\TUKUNA\\AppData\\Local\\Temp/ipykernel_14232/2309356834.py:31: FutureWarning: Pass y=[-0.01276934 -0.01201206 -0.00853205 ... -0.06108625 -0.04155538\n",
      "  0.        ] as keyword args. From version 0.10 passing these as positional arguments will result in an error\n",
      "  if librosa.get_duration(signal)>10:\n",
      "C:\\Users\\TUKUNA\\AppData\\Local\\Temp/ipykernel_14232/2309356834.py:32: FutureWarning: Pass y=[-0.01276934 -0.01201206 -0.00853205 ... -0.06108625 -0.04155538\n",
      "  0.        ] as keyword args. From version 0.10 passing these as positional arguments will result in an error\n",
      "  num_segments=int(librosa.get_duration(signal)/10)\n",
      "C:\\Users\\TUKUNA\\AppData\\Local\\Temp/ipykernel_14232/2309356834.py:40: FutureWarning: Pass y=[-0.01276934 -0.01201206 -0.00853205 ...  0.08744844  0.09763009\n",
      "  0.09463712] as keyword args. From version 0.10 passing these as positional arguments will result in an error\n",
      "  mfcc= librosa.feature.mfcc(signal[start_sample:finish_sample],\n",
      "C:\\Users\\TUKUNA\\AppData\\Local\\Temp/ipykernel_14232/2309356834.py:40: FutureWarning: Pass y=[0.08617477 0.08166663 0.08090448 ... 0.00517409 0.00550858 0.00736829] as keyword args. From version 0.10 passing these as positional arguments will result in an error\n",
      "  mfcc= librosa.feature.mfcc(signal[start_sample:finish_sample],\n"
     ]
    },
    {
     "name": "stdout",
     "output_type": "stream",
     "text": [
      "ocean_noise_data\\humpback_whale\\5511300F.wav, segment:0\n",
      "ocean_noise_data\\humpback_whale\\5511300F.wav, segment:1\n"
     ]
    },
    {
     "name": "stderr",
     "output_type": "stream",
     "text": [
      "C:\\Users\\TUKUNA\\AppData\\Local\\Temp/ipykernel_14232/2309356834.py:31: FutureWarning: Pass y=[-0.00044379 -0.0005103  -0.00050524 ... -0.01540384 -0.01008233\n",
      "  0.        ] as keyword args. From version 0.10 passing these as positional arguments will result in an error\n",
      "  if librosa.get_duration(signal)>10:\n",
      "C:\\Users\\TUKUNA\\AppData\\Local\\Temp/ipykernel_14232/2309356834.py:40: FutureWarning: Pass y=[-0.00044379 -0.0005103  -0.00050524 ...  0.04188027  0.03725586\n",
      "  0.02388413] as keyword args. From version 0.10 passing these as positional arguments will result in an error\n",
      "  mfcc= librosa.feature.mfcc(signal[start_sample:finish_sample],\n",
      "C:\\Users\\TUKUNA\\AppData\\Local\\Temp/ipykernel_14232/2309356834.py:40: FutureWarning: Pass y=[ 0.00596893 -0.01106969 -0.02220581 ...  0.00222272  0.00177716\n",
      "  0.00191444] as keyword args. From version 0.10 passing these as positional arguments will result in an error\n",
      "  mfcc= librosa.feature.mfcc(signal[start_sample:finish_sample],\n",
      "C:\\Users\\TUKUNA\\AppData\\Local\\Temp/ipykernel_14232/2309356834.py:31: FutureWarning: Pass y=[-0.00164019 -0.0044544  -0.00788209 ... -0.00310368 -0.00148882\n",
      "  0.        ] as keyword args. From version 0.10 passing these as positional arguments will result in an error\n",
      "  if librosa.get_duration(signal)>10:\n",
      "C:\\Users\\TUKUNA\\AppData\\Local\\Temp/ipykernel_14232/2309356834.py:40: FutureWarning: Pass y=[-0.00164019 -0.0044544  -0.00788209 ...  0.00453391  0.00517609\n",
      "  0.00579737] as keyword args. From version 0.10 passing these as positional arguments will result in an error\n",
      "  mfcc= librosa.feature.mfcc(signal[start_sample:finish_sample],\n"
     ]
    },
    {
     "name": "stdout",
     "output_type": "stream",
     "text": [
      "ocean_noise_data\\humpback_whale\\63019001.wav, segment:0\n",
      "ocean_noise_data\\humpback_whale\\63019001.wav, segment:1\n",
      "ocean_noise_data\\humpback_whale\\63019002.wav, segment:0\n",
      "ocean_noise_data\\humpback_whale\\63019002.wav, segment:1\n",
      "ocean_noise_data\\humpback_whale\\63019003.wav, segment:0\n",
      "ocean_noise_data\\humpback_whale\\63019003.wav, segment:1\n"
     ]
    },
    {
     "name": "stderr",
     "output_type": "stream",
     "text": [
      "C:\\Users\\TUKUNA\\AppData\\Local\\Temp/ipykernel_14232/2309356834.py:40: FutureWarning: Pass y=[0.00614517 0.00607025 0.00556637 ... 0.01949524 0.0209621  0.02278295] as keyword args. From version 0.10 passing these as positional arguments will result in an error\n",
      "  mfcc= librosa.feature.mfcc(signal[start_sample:finish_sample],\n",
      "C:\\Users\\TUKUNA\\AppData\\Local\\Temp/ipykernel_14232/2309356834.py:31: FutureWarning: Pass y=[ 0.00112179  0.00124472  0.00157533 ... -0.01451595 -0.00898172\n",
      "  0.        ] as keyword args. From version 0.10 passing these as positional arguments will result in an error\n",
      "  if librosa.get_duration(signal)>10:\n",
      "C:\\Users\\TUKUNA\\AppData\\Local\\Temp/ipykernel_14232/2309356834.py:40: FutureWarning: Pass y=[ 0.00112179  0.00124472  0.00157533 ... -0.17042696 -0.19155788\n",
      " -0.2159277 ] as keyword args. From version 0.10 passing these as positional arguments will result in an error\n",
      "  mfcc= librosa.feature.mfcc(signal[start_sample:finish_sample],\n",
      "C:\\Users\\TUKUNA\\AppData\\Local\\Temp/ipykernel_14232/2309356834.py:40: FutureWarning: Pass y=[-0.23829202 -0.25418094 -0.26082927 ...  0.04767711  0.04540271\n",
      "  0.04121392] as keyword args. From version 0.10 passing these as positional arguments will result in an error\n",
      "  mfcc= librosa.feature.mfcc(signal[start_sample:finish_sample],\n",
      "C:\\Users\\TUKUNA\\AppData\\Local\\Temp/ipykernel_14232/2309356834.py:31: FutureWarning: Pass y=[0.00561912 0.00624372 0.00640236 ... 0.01316421 0.00769289 0.        ] as keyword args. From version 0.10 passing these as positional arguments will result in an error\n",
      "  if librosa.get_duration(signal)>10:\n",
      "C:\\Users\\TUKUNA\\AppData\\Local\\Temp/ipykernel_14232/2309356834.py:40: FutureWarning: Pass y=[ 0.00561912  0.00624372  0.00640236 ... -0.00539116 -0.00532114\n",
      " -0.0052772 ] as keyword args. From version 0.10 passing these as positional arguments will result in an error\n",
      "  mfcc= librosa.feature.mfcc(signal[start_sample:finish_sample],\n",
      "C:\\Users\\TUKUNA\\AppData\\Local\\Temp/ipykernel_14232/2309356834.py:40: FutureWarning: Pass y=[-0.00527437 -0.00532139 -0.00542516 ...  0.00752816  0.00659772\n",
      "  0.00552143] as keyword args. From version 0.10 passing these as positional arguments will result in an error\n",
      "  mfcc= librosa.feature.mfcc(signal[start_sample:finish_sample],\n",
      "C:\\Users\\TUKUNA\\AppData\\Local\\Temp/ipykernel_14232/2309356834.py:31: FutureWarning: Pass y=[ 0.01434782  0.01735291  0.01950118 ... -0.02166126 -0.01167585\n",
      "  0.        ] as keyword args. From version 0.10 passing these as positional arguments will result in an error\n",
      "  if librosa.get_duration(signal)>10:\n"
     ]
    },
    {
     "name": "stdout",
     "output_type": "stream",
     "text": [
      "ocean_noise_data\\humpback_whale\\63019004.wav, segment:0\n",
      "ocean_noise_data\\humpback_whale\\63019004.wav, segment:1\n"
     ]
    },
    {
     "name": "stderr",
     "output_type": "stream",
     "text": [
      "C:\\Users\\TUKUNA\\AppData\\Local\\Temp/ipykernel_14232/2309356834.py:40: FutureWarning: Pass y=[ 0.01434782  0.01735291  0.01950118 ... -0.0371071  -0.03693964\n",
      " -0.03651252] as keyword args. From version 0.10 passing these as positional arguments will result in an error\n",
      "  mfcc= librosa.feature.mfcc(signal[start_sample:finish_sample],\n",
      "C:\\Users\\TUKUNA\\AppData\\Local\\Temp/ipykernel_14232/2309356834.py:40: FutureWarning: Pass y=[-0.0360047  -0.03559383 -0.03539981 ... -0.01731584 -0.01826334\n",
      " -0.01918096] as keyword args. From version 0.10 passing these as positional arguments will result in an error\n",
      "  mfcc= librosa.feature.mfcc(signal[start_sample:finish_sample],\n",
      "C:\\Users\\TUKUNA\\AppData\\Local\\Temp/ipykernel_14232/2309356834.py:31: FutureWarning: Pass y=[0.02487243 0.02909459 0.02968291 ... 0.06026429 0.04191306 0.02205234] as keyword args. From version 0.10 passing these as positional arguments will result in an error\n",
      "  if librosa.get_duration(signal)>10:\n",
      "C:\\Users\\TUKUNA\\AppData\\Local\\Temp/ipykernel_14232/2309356834.py:40: FutureWarning: Pass y=[0.02487243 0.02909459 0.02968291 ... 0.01681176 0.02804467 0.03845909] as keyword args. From version 0.10 passing these as positional arguments will result in an error\n",
      "  mfcc= librosa.feature.mfcc(signal[start_sample:finish_sample],\n"
     ]
    },
    {
     "name": "stdout",
     "output_type": "stream",
     "text": [
      "ocean_noise_data\\humpback_whale\\63019005.wav, segment:0\n",
      "ocean_noise_data\\humpback_whale\\63019005.wav, segment:1\n",
      "ocean_noise_data\\humpback_whale\\63019007.wav, segment:0\n"
     ]
    },
    {
     "name": "stderr",
     "output_type": "stream",
     "text": [
      "C:\\Users\\TUKUNA\\AppData\\Local\\Temp/ipykernel_14232/2309356834.py:40: FutureWarning: Pass y=[0.04510292 0.04561039 0.03874058 ... 0.14031771 0.09883212 0.06690037] as keyword args. From version 0.10 passing these as positional arguments will result in an error\n",
      "  mfcc= librosa.feature.mfcc(signal[start_sample:finish_sample],\n",
      "C:\\Users\\TUKUNA\\AppData\\Local\\Temp/ipykernel_14232/2309356834.py:31: FutureWarning: Pass y=[0.00419746 0.00499376 0.00562196 ... 0.0090234  0.00549681 0.        ] as keyword args. From version 0.10 passing these as positional arguments will result in an error\n",
      "  if librosa.get_duration(signal)>10:\n"
     ]
    },
    {
     "name": "stdout",
     "output_type": "stream",
     "text": [
      "ocean_noise_data\\humpback_whale\\63019007.wav, segment:1\n"
     ]
    },
    {
     "name": "stderr",
     "output_type": "stream",
     "text": [
      "C:\\Users\\TUKUNA\\AppData\\Local\\Temp/ipykernel_14232/2309356834.py:40: FutureWarning: Pass y=[ 0.00419746  0.00499376  0.00562196 ... -0.04460821 -0.0794003\n",
      " -0.10791759] as keyword args. From version 0.10 passing these as positional arguments will result in an error\n",
      "  mfcc= librosa.feature.mfcc(signal[start_sample:finish_sample],\n",
      "C:\\Users\\TUKUNA\\AppData\\Local\\Temp/ipykernel_14232/2309356834.py:40: FutureWarning: Pass y=[-0.1264631  -0.13254899 -0.12540875 ...  0.0113938   0.01589212\n",
      "  0.01902803] as keyword args. From version 0.10 passing these as positional arguments will result in an error\n",
      "  mfcc= librosa.feature.mfcc(signal[start_sample:finish_sample],\n"
     ]
    },
    {
     "name": "stdout",
     "output_type": "stream",
     "text": [
      "ocean_noise_data\\humpback_whale\\6301900B.wav, segment:0\n",
      "ocean_noise_data\\humpback_whale\\6301900B.wav, segment:1\n"
     ]
    },
    {
     "name": "stderr",
     "output_type": "stream",
     "text": [
      "C:\\Users\\TUKUNA\\AppData\\Local\\Temp/ipykernel_14232/2309356834.py:31: FutureWarning: Pass y=[-0.01656381 -0.01675661 -0.01498946 ... -0.00601422 -0.00385121\n",
      "  0.        ] as keyword args. From version 0.10 passing these as positional arguments will result in an error\n",
      "  if librosa.get_duration(signal)>10:\n",
      "C:\\Users\\TUKUNA\\AppData\\Local\\Temp/ipykernel_14232/2309356834.py:40: FutureWarning: Pass y=[-0.01656381 -0.01675661 -0.01498946 ...  0.01188803  0.00958868\n",
      "  0.00736141] as keyword args. From version 0.10 passing these as positional arguments will result in an error\n",
      "  mfcc= librosa.feature.mfcc(signal[start_sample:finish_sample],\n",
      "C:\\Users\\TUKUNA\\AppData\\Local\\Temp/ipykernel_14232/2309356834.py:40: FutureWarning: Pass y=[0.00544167 0.00400591 0.00313214 ... 0.0111508  0.01329696 0.01530737] as keyword args. From version 0.10 passing these as positional arguments will result in an error\n",
      "  mfcc= librosa.feature.mfcc(signal[start_sample:finish_sample],\n",
      "C:\\Users\\TUKUNA\\AppData\\Local\\Temp/ipykernel_14232/2309356834.py:31: FutureWarning: Pass y=[ 0.00230355  0.00220726  0.00178476 ... -0.00281458 -0.00189387\n",
      "  0.        ] as keyword args. From version 0.10 passing these as positional arguments will result in an error\n",
      "  if librosa.get_duration(signal)>10:\n",
      "C:\\Users\\TUKUNA\\AppData\\Local\\Temp/ipykernel_14232/2309356834.py:40: FutureWarning: Pass y=[0.00230355 0.00220726 0.00178476 ... 0.00831411 0.00925397 0.00989795] as keyword args. From version 0.10 passing these as positional arguments will result in an error\n",
      "  mfcc= librosa.feature.mfcc(signal[start_sample:finish_sample],\n",
      "C:\\Users\\TUKUNA\\AppData\\Local\\Temp/ipykernel_14232/2309356834.py:40: FutureWarning: Pass y=[ 0.01018196  0.01015244  0.00995128 ... -0.00281458 -0.00189387\n",
      "  0.        ] as keyword args. From version 0.10 passing these as positional arguments will result in an error\n",
      "  mfcc= librosa.feature.mfcc(signal[start_sample:finish_sample],\n",
      "C:\\Users\\TUKUNA\\AppData\\Local\\Temp/ipykernel_14232/2309356834.py:31: FutureWarning: Pass y=[ 0.0005911   0.00108207  0.00163307 ... -0.07052258 -0.03988239\n",
      "  0.        ] as keyword args. From version 0.10 passing these as positional arguments will result in an error\n",
      "  if librosa.get_duration(signal)>10:\n",
      "C:\\Users\\TUKUNA\\AppData\\Local\\Temp/ipykernel_14232/2309356834.py:40: FutureWarning: Pass y=[5.9109530e-04 1.0820683e-03 1.6330653e-03 ... 1.1022180e-05 5.4617581e-04\n",
      " 1.1976220e-03] as keyword args. From version 0.10 passing these as positional arguments will result in an error\n",
      "  mfcc= librosa.feature.mfcc(signal[start_sample:finish_sample],\n"
     ]
    },
    {
     "name": "stdout",
     "output_type": "stream",
     "text": [
      "ocean_noise_data\\humpback_whale\\6301900C.wav, segment:0\n",
      "ocean_noise_data\\humpback_whale\\6301900C.wav, segment:1\n",
      "ocean_noise_data\\humpback_whale\\6301900D.wav, segment:0\n",
      "ocean_noise_data\\humpback_whale\\6301900T.wav, segment:0\n"
     ]
    },
    {
     "name": "stderr",
     "output_type": "stream",
     "text": [
      "C:\\Users\\TUKUNA\\AppData\\Local\\Temp/ipykernel_14232/2309356834.py:40: FutureWarning: Pass y=[ 0.00191957  0.00265447  0.00334006 ... -0.07052258 -0.03988239\n",
      "  0.        ] as keyword args. From version 0.10 passing these as positional arguments will result in an error\n",
      "  mfcc= librosa.feature.mfcc(signal[start_sample:finish_sample],\n",
      "C:\\Users\\TUKUNA\\AppData\\Local\\Temp/ipykernel_14232/2309356834.py:31: FutureWarning: Pass y=[ 0.00280194  0.00363959  0.00333292 ... -0.02372291 -0.01631032\n",
      "  0.        ] as keyword args. From version 0.10 passing these as positional arguments will result in an error\n",
      "  if librosa.get_duration(signal)>10:\n",
      "C:\\Users\\TUKUNA\\AppData\\Local\\Temp/ipykernel_14232/2309356834.py:32: FutureWarning: Pass y=[ 0.00280194  0.00363959  0.00333292 ... -0.02372291 -0.01631032\n",
      "  0.        ] as keyword args. From version 0.10 passing these as positional arguments will result in an error\n",
      "  num_segments=int(librosa.get_duration(signal)/10)\n",
      "C:\\Users\\TUKUNA\\AppData\\Local\\Temp/ipykernel_14232/2309356834.py:40: FutureWarning: Pass y=[0.00280194 0.00363959 0.00333292 ... 0.00537461 0.0050623  0.00471749] as keyword args. From version 0.10 passing these as positional arguments will result in an error\n",
      "  mfcc= librosa.feature.mfcc(signal[start_sample:finish_sample],\n"
     ]
    },
    {
     "name": "stdout",
     "output_type": "stream",
     "text": [
      "ocean_noise_data\\humpback_whale\\6301900V.wav, segment:0\n"
     ]
    },
    {
     "name": "stderr",
     "output_type": "stream",
     "text": [
      "C:\\Users\\TUKUNA\\AppData\\Local\\Temp/ipykernel_14232/2309356834.py:31: FutureWarning: Pass y=[-0.02147669 -0.02470325 -0.02118488 ...  0.0028659   0.00308338\n",
      "  0.        ] as keyword args. From version 0.10 passing these as positional arguments will result in an error\n",
      "  if librosa.get_duration(signal)>10:\n",
      "C:\\Users\\TUKUNA\\AppData\\Local\\Temp/ipykernel_14232/2309356834.py:32: FutureWarning: Pass y=[-0.02147669 -0.02470325 -0.02118488 ...  0.0028659   0.00308338\n",
      "  0.        ] as keyword args. From version 0.10 passing these as positional arguments will result in an error\n",
      "  num_segments=int(librosa.get_duration(signal)/10)\n",
      "C:\\Users\\TUKUNA\\AppData\\Local\\Temp/ipykernel_14232/2309356834.py:40: FutureWarning: Pass y=[-0.02147669 -0.02470325 -0.02118488 ... -0.00089136 -0.00149348\n",
      " -0.00247089] as keyword args. From version 0.10 passing these as positional arguments will result in an error\n",
      "  mfcc= librosa.feature.mfcc(signal[start_sample:finish_sample],\n"
     ]
    },
    {
     "name": "stdout",
     "output_type": "stream",
     "text": [
      "ocean_noise_data\\humpback_whale\\6301900W.wav, segment:0\n"
     ]
    },
    {
     "name": "stderr",
     "output_type": "stream",
     "text": [
      "C:\\Users\\TUKUNA\\AppData\\Local\\Temp/ipykernel_14232/2309356834.py:31: FutureWarning: Pass y=[0.00841504 0.00944534 0.00796217 ... 0.00993407 0.00656035 0.        ] as keyword args. From version 0.10 passing these as positional arguments will result in an error\n",
      "  if librosa.get_duration(signal)>10:\n",
      "C:\\Users\\TUKUNA\\AppData\\Local\\Temp/ipykernel_14232/2309356834.py:32: FutureWarning: Pass y=[0.00841504 0.00944534 0.00796217 ... 0.00993407 0.00656035 0.        ] as keyword args. From version 0.10 passing these as positional arguments will result in an error\n",
      "  num_segments=int(librosa.get_duration(signal)/10)\n",
      "C:\\Users\\TUKUNA\\AppData\\Local\\Temp/ipykernel_14232/2309356834.py:40: FutureWarning: Pass y=[0.00841504 0.00944534 0.00796217 ... 0.01816022 0.01686018 0.01654671] as keyword args. From version 0.10 passing these as positional arguments will result in an error\n",
      "  mfcc= librosa.feature.mfcc(signal[start_sample:finish_sample],\n"
     ]
    },
    {
     "name": "stdout",
     "output_type": "stream",
     "text": [
      "ocean_noise_data\\humpback_whale\\6301900Y.wav, segment:0\n"
     ]
    },
    {
     "name": "stderr",
     "output_type": "stream",
     "text": [
      "C:\\Users\\TUKUNA\\AppData\\Local\\Temp/ipykernel_14232/2309356834.py:31: FutureWarning: Pass y=[0.00711799 0.00834897 0.0064575  ... 0.01930309 0.01871331 0.        ] as keyword args. From version 0.10 passing these as positional arguments will result in an error\n",
      "  if librosa.get_duration(signal)>10:\n",
      "C:\\Users\\TUKUNA\\AppData\\Local\\Temp/ipykernel_14232/2309356834.py:32: FutureWarning: Pass y=[0.00711799 0.00834897 0.0064575  ... 0.01930309 0.01871331 0.        ] as keyword args. From version 0.10 passing these as positional arguments will result in an error\n",
      "  num_segments=int(librosa.get_duration(signal)/10)\n",
      "C:\\Users\\TUKUNA\\AppData\\Local\\Temp/ipykernel_14232/2309356834.py:40: FutureWarning: Pass y=[0.00711799 0.00834897 0.0064575  ... 0.01630898 0.01360687 0.0106959 ] as keyword args. From version 0.10 passing these as positional arguments will result in an error\n",
      "  mfcc= librosa.feature.mfcc(signal[start_sample:finish_sample],\n"
     ]
    },
    {
     "name": "stdout",
     "output_type": "stream",
     "text": [
      "ocean_noise_data\\humpback_whale\\6301900Z.wav, segment:0\n"
     ]
    },
    {
     "name": "stderr",
     "output_type": "stream",
     "text": [
      "C:\\Users\\TUKUNA\\AppData\\Local\\Temp/ipykernel_14232/2309356834.py:31: FutureWarning: Pass y=[0.00283849 0.00373356 0.00303373 ... 0.00795306 0.00829874 0.        ] as keyword args. From version 0.10 passing these as positional arguments will result in an error\n",
      "  if librosa.get_duration(signal)>10:\n",
      "C:\\Users\\TUKUNA\\AppData\\Local\\Temp/ipykernel_14232/2309356834.py:32: FutureWarning: Pass y=[0.00283849 0.00373356 0.00303373 ... 0.00795306 0.00829874 0.        ] as keyword args. From version 0.10 passing these as positional arguments will result in an error\n",
      "  num_segments=int(librosa.get_duration(signal)/10)\n",
      "C:\\Users\\TUKUNA\\AppData\\Local\\Temp/ipykernel_14232/2309356834.py:40: FutureWarning: Pass y=[0.00283849 0.00373356 0.00303373 ... 0.00820875 0.00819124 0.00749929] as keyword args. From version 0.10 passing these as positional arguments will result in an error\n",
      "  mfcc= librosa.feature.mfcc(signal[start_sample:finish_sample],\n",
      "C:\\Users\\TUKUNA\\AppData\\Local\\Temp/ipykernel_14232/2309356834.py:40: FutureWarning: Pass y=[0.00675505 0.0060635  0.00450146 ... 0.02660024 0.01956614 0.01209377] as keyword args. From version 0.10 passing these as positional arguments will result in an error\n",
      "  mfcc= librosa.feature.mfcc(signal[start_sample:finish_sample],\n",
      "C:\\Users\\TUKUNA\\AppData\\Local\\Temp/ipykernel_14232/2309356834.py:40: FutureWarning: Pass y=[ 0.00536486 -0.0004167  -0.00550443 ... -0.02200584 -0.02007351\n",
      " -0.01824071] as keyword args. From version 0.10 passing these as positional arguments will result in an error\n",
      "  mfcc= librosa.feature.mfcc(signal[start_sample:finish_sample],\n",
      "C:\\Users\\TUKUNA\\AppData\\Local\\Temp/ipykernel_14232/2309356834.py:40: FutureWarning: Pass y=[-0.01655405 -0.01466276 -0.01280745 ...  0.00705908  0.00230325\n",
      " -0.0021503 ] as keyword args. From version 0.10 passing these as positional arguments will result in an error\n",
      "  mfcc= librosa.feature.mfcc(signal[start_sample:finish_sample],\n",
      "C:\\Users\\TUKUNA\\AppData\\Local\\Temp/ipykernel_14232/2309356834.py:40: FutureWarning: Pass y=[-0.00630416 -0.00939453 -0.0108942  ... -0.04959553 -0.04834427\n",
      " -0.04686814] as keyword args. From version 0.10 passing these as positional arguments will result in an error\n",
      "  mfcc= librosa.feature.mfcc(signal[start_sample:finish_sample],\n",
      "C:\\Users\\TUKUNA\\AppData\\Local\\Temp/ipykernel_14232/2309356834.py:40: FutureWarning: Pass y=[-0.04517023 -0.0434871  -0.04187953 ...  0.00497772  0.00476189\n",
      "  0.00490988] as keyword args. From version 0.10 passing these as positional arguments will result in an error\n",
      "  mfcc= librosa.feature.mfcc(signal[start_sample:finish_sample],\n"
     ]
    },
    {
     "name": "stdout",
     "output_type": "stream",
     "text": [
      "ocean_noise_data\\humpback_whale\\63019010.wav, segment:0\n",
      "ocean_noise_data\\humpback_whale\\63019010.wav, segment:1\n",
      "ocean_noise_data\\humpback_whale\\63019010.wav, segment:2\n",
      "ocean_noise_data\\humpback_whale\\63019010.wav, segment:3\n",
      "ocean_noise_data\\humpback_whale\\63019010.wav, segment:4\n",
      "ocean_noise_data\\humpback_whale\\63019010.wav, segment:5\n"
     ]
    },
    {
     "name": "stderr",
     "output_type": "stream",
     "text": [
      "C:\\Users\\TUKUNA\\AppData\\Local\\Temp/ipykernel_14232/2309356834.py:31: FutureWarning: Pass y=[0.01313858 0.01535903 0.01282878 ... 0.03011716 0.02501927 0.        ] as keyword args. From version 0.10 passing these as positional arguments will result in an error\n",
      "  if librosa.get_duration(signal)>10:\n",
      "C:\\Users\\TUKUNA\\AppData\\Local\\Temp/ipykernel_14232/2309356834.py:40: FutureWarning: Pass y=[0.01313858 0.01535903 0.01282878 ... 0.01178379 0.01246712 0.01255325] as keyword args. From version 0.10 passing these as positional arguments will result in an error\n",
      "  mfcc= librosa.feature.mfcc(signal[start_sample:finish_sample],\n",
      "C:\\Users\\TUKUNA\\AppData\\Local\\Temp/ipykernel_14232/2309356834.py:40: FutureWarning: Pass y=[0.01233432 0.01214654 0.01198618 ... 0.02297671 0.02056035 0.01887421] as keyword args. From version 0.10 passing these as positional arguments will result in an error\n",
      "  mfcc= librosa.feature.mfcc(signal[start_sample:finish_sample],\n",
      "C:\\Users\\TUKUNA\\AppData\\Local\\Temp/ipykernel_14232/2309356834.py:40: FutureWarning: Pass y=[0.01650042 0.01217841 0.00761872 ... 0.02741603 0.02673856 0.02710271] as keyword args. From version 0.10 passing these as positional arguments will result in an error\n",
      "  mfcc= librosa.feature.mfcc(signal[start_sample:finish_sample],\n",
      "C:\\Users\\TUKUNA\\AppData\\Local\\Temp/ipykernel_14232/2309356834.py:40: FutureWarning: Pass y=[ 0.02733568  0.02697803  0.02690028 ... -0.00183677 -0.00109301\n",
      " -0.00025932] as keyword args. From version 0.10 passing these as positional arguments will result in an error\n",
      "  mfcc= librosa.feature.mfcc(signal[start_sample:finish_sample],\n",
      "C:\\Users\\TUKUNA\\AppData\\Local\\Temp/ipykernel_14232/2309356834.py:40: FutureWarning: Pass y=[0.00012618 0.00026528 0.00055282 ... 0.01087489 0.01073386 0.01024432] as keyword args. From version 0.10 passing these as positional arguments will result in an error\n",
      "  mfcc= librosa.feature.mfcc(signal[start_sample:finish_sample],\n",
      "C:\\Users\\TUKUNA\\AppData\\Local\\Temp/ipykernel_14232/2309356834.py:40: FutureWarning: Pass y=[ 0.00840768  0.00661353  0.00610547 ... -0.00338356 -0.00269366\n",
      " -0.00228228] as keyword args. From version 0.10 passing these as positional arguments will result in an error\n",
      "  mfcc= librosa.feature.mfcc(signal[start_sample:finish_sample],\n"
     ]
    },
    {
     "name": "stdout",
     "output_type": "stream",
     "text": [
      "ocean_noise_data\\humpback_whale\\63019011.wav, segment:0\n",
      "ocean_noise_data\\humpback_whale\\63019011.wav, segment:1\n",
      "ocean_noise_data\\humpback_whale\\63019011.wav, segment:2\n",
      "ocean_noise_data\\humpback_whale\\63019011.wav, segment:3\n",
      "ocean_noise_data\\humpback_whale\\63019011.wav, segment:4\n",
      "ocean_noise_data\\humpback_whale\\63019011.wav, segment:5\n"
     ]
    },
    {
     "name": "stderr",
     "output_type": "stream",
     "text": [
      "C:\\Users\\TUKUNA\\AppData\\Local\\Temp/ipykernel_14232/2309356834.py:31: FutureWarning: Pass y=[-0.00313541 -0.0031889  -0.00222936 ... -0.0062382  -0.00444888\n",
      "  0.        ] as keyword args. From version 0.10 passing these as positional arguments will result in an error\n",
      "  if librosa.get_duration(signal)>10:\n",
      "C:\\Users\\TUKUNA\\AppData\\Local\\Temp/ipykernel_14232/2309356834.py:32: FutureWarning: Pass y=[-0.00313541 -0.0031889  -0.00222936 ... -0.0062382  -0.00444888\n",
      "  0.        ] as keyword args. From version 0.10 passing these as positional arguments will result in an error\n",
      "  num_segments=int(librosa.get_duration(signal)/10)\n",
      "C:\\Users\\TUKUNA\\AppData\\Local\\Temp/ipykernel_14232/2309356834.py:40: FutureWarning: Pass y=[-0.00313541 -0.0031889  -0.00222936 ...  0.00251052  0.00269196\n",
      "  0.003077  ] as keyword args. From version 0.10 passing these as positional arguments will result in an error\n",
      "  mfcc= librosa.feature.mfcc(signal[start_sample:finish_sample],\n"
     ]
    },
    {
     "name": "stdout",
     "output_type": "stream",
     "text": [
      "ocean_noise_data\\humpback_whale\\63019012.wav, segment:0\n"
     ]
    },
    {
     "name": "stderr",
     "output_type": "stream",
     "text": [
      "C:\\Users\\TUKUNA\\AppData\\Local\\Temp/ipykernel_14232/2309356834.py:31: FutureWarning: Pass y=[-0.00703897 -0.00813088 -0.00709333 ...  0.01231892  0.01175293\n",
      "  0.        ] as keyword args. From version 0.10 passing these as positional arguments will result in an error\n",
      "  if librosa.get_duration(signal)>10:\n",
      "C:\\Users\\TUKUNA\\AppData\\Local\\Temp/ipykernel_14232/2309356834.py:32: FutureWarning: Pass y=[-0.00703897 -0.00813088 -0.00709333 ...  0.01231892  0.01175293\n",
      "  0.        ] as keyword args. From version 0.10 passing these as positional arguments will result in an error\n",
      "  num_segments=int(librosa.get_duration(signal)/10)\n",
      "C:\\Users\\TUKUNA\\AppData\\Local\\Temp/ipykernel_14232/2309356834.py:40: FutureWarning: Pass y=[-0.00703897 -0.00813088 -0.00709333 ...  0.00880721  0.00775616\n",
      "  0.00704792] as keyword args. From version 0.10 passing these as positional arguments will result in an error\n",
      "  mfcc= librosa.feature.mfcc(signal[start_sample:finish_sample],\n"
     ]
    },
    {
     "name": "stdout",
     "output_type": "stream",
     "text": [
      "ocean_noise_data\\humpback_whale\\63019014.wav, segment:0\n"
     ]
    },
    {
     "name": "stderr",
     "output_type": "stream",
     "text": [
      "C:\\Users\\TUKUNA\\AppData\\Local\\Temp/ipykernel_14232/2309356834.py:31: FutureWarning: Pass y=[0.0040595  0.00320057 0.00163704 ... 0.01227588 0.00943441 0.        ] as keyword args. From version 0.10 passing these as positional arguments will result in an error\n",
      "  if librosa.get_duration(signal)>10:\n",
      "C:\\Users\\TUKUNA\\AppData\\Local\\Temp/ipykernel_14232/2309356834.py:32: FutureWarning: Pass y=[0.0040595  0.00320057 0.00163704 ... 0.01227588 0.00943441 0.        ] as keyword args. From version 0.10 passing these as positional arguments will result in an error\n",
      "  num_segments=int(librosa.get_duration(signal)/10)\n",
      "C:\\Users\\TUKUNA\\AppData\\Local\\Temp/ipykernel_14232/2309356834.py:40: FutureWarning: Pass y=[ 0.0040595   0.00320057  0.00163704 ... -0.00774745 -0.007579\n",
      " -0.00719162] as keyword args. From version 0.10 passing these as positional arguments will result in an error\n",
      "  mfcc= librosa.feature.mfcc(signal[start_sample:finish_sample],\n",
      "C:\\Users\\TUKUNA\\AppData\\Local\\Temp/ipykernel_14232/2309356834.py:40: FutureWarning: Pass y=[-0.00727282 -0.00806201 -0.00841594 ... -0.00869966 -0.00923218\n",
      " -0.00946455] as keyword args. From version 0.10 passing these as positional arguments will result in an error\n",
      "  mfcc= librosa.feature.mfcc(signal[start_sample:finish_sample],\n",
      "C:\\Users\\TUKUNA\\AppData\\Local\\Temp/ipykernel_14232/2309356834.py:40: FutureWarning: Pass y=[-0.01020457 -0.0111092  -0.01119127 ... -0.01620076 -0.01320351\n",
      " -0.01043823] as keyword args. From version 0.10 passing these as positional arguments will result in an error\n",
      "  mfcc= librosa.feature.mfcc(signal[start_sample:finish_sample],\n",
      "C:\\Users\\TUKUNA\\AppData\\Local\\Temp/ipykernel_14232/2309356834.py:40: FutureWarning: Pass y=[-0.00782365 -0.00534049 -0.00358719 ... -0.00762362 -0.00913471\n",
      " -0.0105583 ] as keyword args. From version 0.10 passing these as positional arguments will result in an error\n",
      "  mfcc= librosa.feature.mfcc(signal[start_sample:finish_sample],\n",
      "C:\\Users\\TUKUNA\\AppData\\Local\\Temp/ipykernel_14232/2309356834.py:40: FutureWarning: Pass y=[-0.01154341 -0.01285276 -0.01509727 ...  0.01171013  0.01206187\n",
      "  0.0123515 ] as keyword args. From version 0.10 passing these as positional arguments will result in an error\n",
      "  mfcc= librosa.feature.mfcc(signal[start_sample:finish_sample],\n",
      "C:\\Users\\TUKUNA\\AppData\\Local\\Temp/ipykernel_14232/2309356834.py:40: FutureWarning: Pass y=[0.01272477 0.01277355 0.01244279 ... 0.01984606 0.02045086 0.02065694] as keyword args. From version 0.10 passing these as positional arguments will result in an error\n",
      "  mfcc= librosa.feature.mfcc(signal[start_sample:finish_sample],\n",
      "C:\\Users\\TUKUNA\\AppData\\Local\\Temp/ipykernel_14232/2309356834.py:40: FutureWarning: Pass y=[0.02037695 0.02043665 0.0208228  ... 0.03462458 0.03698973 0.03886829] as keyword args. From version 0.10 passing these as positional arguments will result in an error\n",
      "  mfcc= librosa.feature.mfcc(signal[start_sample:finish_sample],\n",
      "C:\\Users\\TUKUNA\\AppData\\Local\\Temp/ipykernel_14232/2309356834.py:40: FutureWarning: Pass y=[0.04010821 0.03983555 0.03762362 ... 0.03649935 0.03647178 0.03580454] as keyword args. From version 0.10 passing these as positional arguments will result in an error\n",
      "  mfcc= librosa.feature.mfcc(signal[start_sample:finish_sample],\n",
      "C:\\Users\\TUKUNA\\AppData\\Local\\Temp/ipykernel_14232/2309356834.py:40: FutureWarning: Pass y=[0.03460114 0.0336046  0.03282846 ... 0.01170428 0.01188748 0.01268553] as keyword args. From version 0.10 passing these as positional arguments will result in an error\n",
      "  mfcc= librosa.feature.mfcc(signal[start_sample:finish_sample],\n",
      "C:\\Users\\TUKUNA\\AppData\\Local\\Temp/ipykernel_14232/2309356834.py:40: FutureWarning: Pass y=[0.01366824 0.01381136 0.01362111 ... 0.02638859 0.02596452 0.02573443] as keyword args. From version 0.10 passing these as positional arguments will result in an error\n",
      "  mfcc= librosa.feature.mfcc(signal[start_sample:finish_sample],\n",
      "C:\\Users\\TUKUNA\\AppData\\Local\\Temp/ipykernel_14232/2309356834.py:40: FutureWarning: Pass y=[0.02491131 0.02397917 0.0241726  ... 0.01171808 0.01088755 0.01062154] as keyword args. From version 0.10 passing these as positional arguments will result in an error\n",
      "  mfcc= librosa.feature.mfcc(signal[start_sample:finish_sample],\n",
      "C:\\Users\\TUKUNA\\AppData\\Local\\Temp/ipykernel_14232/2309356834.py:40: FutureWarning: Pass y=[ 0.00919967  0.00736599  0.00678721 ... -0.00194036 -0.00151026\n",
      " -0.00161101] as keyword args. From version 0.10 passing these as positional arguments will result in an error\n",
      "  mfcc= librosa.feature.mfcc(signal[start_sample:finish_sample],\n",
      "C:\\Users\\TUKUNA\\AppData\\Local\\Temp/ipykernel_14232/2309356834.py:40: FutureWarning: Pass y=[-0.00193252 -0.00198776 -0.00195919 ...  0.00469507  0.00530857\n",
      "  0.00559338] as keyword args. From version 0.10 passing these as positional arguments will result in an error\n",
      "  mfcc= librosa.feature.mfcc(signal[start_sample:finish_sample],\n",
      "C:\\Users\\TUKUNA\\AppData\\Local\\Temp/ipykernel_14232/2309356834.py:40: FutureWarning: Pass y=[0.00572885 0.00647569 0.00730481 ... 0.00437861 0.00395553 0.00414074] as keyword args. From version 0.10 passing these as positional arguments will result in an error\n",
      "  mfcc= librosa.feature.mfcc(signal[start_sample:finish_sample],\n",
      "C:\\Users\\TUKUNA\\AppData\\Local\\Temp/ipykernel_14232/2309356834.py:40: FutureWarning: Pass y=[0.00483566 0.00508105 0.00469038 ... 0.00787134 0.00657499 0.00623426] as keyword args. From version 0.10 passing these as positional arguments will result in an error\n",
      "  mfcc= librosa.feature.mfcc(signal[start_sample:finish_sample],\n",
      "C:\\Users\\TUKUNA\\AppData\\Local\\Temp/ipykernel_14232/2309356834.py:40: FutureWarning: Pass y=[ 0.00533776  0.00435691  0.00492448 ... -0.02544632 -0.02209397\n",
      " -0.01818185] as keyword args. From version 0.10 passing these as positional arguments will result in an error\n",
      "  mfcc= librosa.feature.mfcc(signal[start_sample:finish_sample],\n",
      "C:\\Users\\TUKUNA\\AppData\\Local\\Temp/ipykernel_14232/2309356834.py:40: FutureWarning: Pass y=[-0.01461239 -0.01143931 -0.0077893  ...  0.00394393  0.00346962\n",
      "  0.00218426] as keyword args. From version 0.10 passing these as positional arguments will result in an error\n",
      "  mfcc= librosa.feature.mfcc(signal[start_sample:finish_sample],\n",
      "C:\\Users\\TUKUNA\\AppData\\Local\\Temp/ipykernel_14232/2309356834.py:40: FutureWarning: Pass y=[ 0.00055861 -0.00139714 -0.00379422 ...  0.01015392  0.01249525\n",
      "  0.01489677] as keyword args. From version 0.10 passing these as positional arguments will result in an error\n",
      "  mfcc= librosa.feature.mfcc(signal[start_sample:finish_sample],\n",
      "C:\\Users\\TUKUNA\\AppData\\Local\\Temp/ipykernel_14232/2309356834.py:40: FutureWarning: Pass y=[ 0.01755461  0.0197153   0.02133066 ... -0.03356025 -0.00808362\n",
      "  0.01849249] as keyword args. From version 0.10 passing these as positional arguments will result in an error\n",
      "  mfcc= librosa.feature.mfcc(signal[start_sample:finish_sample],\n",
      "C:\\Users\\TUKUNA\\AppData\\Local\\Temp/ipykernel_14232/2309356834.py:40: FutureWarning: Pass y=[ 0.04459613  0.06745911  0.08304599 ... -0.02683177 -0.02984372\n",
      " -0.03216178] as keyword args. From version 0.10 passing these as positional arguments will result in an error\n",
      "  mfcc= librosa.feature.mfcc(signal[start_sample:finish_sample],\n",
      "C:\\Users\\TUKUNA\\AppData\\Local\\Temp/ipykernel_14232/2309356834.py:40: FutureWarning: Pass y=[-0.03329962 -0.03221788 -0.02823856 ...  0.00132167  0.00226622\n",
      "  0.00252279] as keyword args. From version 0.10 passing these as positional arguments will result in an error\n",
      "  mfcc= librosa.feature.mfcc(signal[start_sample:finish_sample],\n",
      "C:\\Users\\TUKUNA\\AppData\\Local\\Temp/ipykernel_14232/2309356834.py:40: FutureWarning: Pass y=[ 0.00236754  0.00326621  0.00456963 ... -0.00727368 -0.00691891\n",
      " -0.00576488] as keyword args. From version 0.10 passing these as positional arguments will result in an error\n",
      "  mfcc= librosa.feature.mfcc(signal[start_sample:finish_sample],\n",
      "C:\\Users\\TUKUNA\\AppData\\Local\\Temp/ipykernel_14232/2309356834.py:40: FutureWarning: Pass y=[-0.00435361 -0.00308267 -0.00173845 ...  0.01942241  0.02225174\n",
      "  0.02431627] as keyword args. From version 0.10 passing these as positional arguments will result in an error\n",
      "  mfcc= librosa.feature.mfcc(signal[start_sample:finish_sample],\n",
      "C:\\Users\\TUKUNA\\AppData\\Local\\Temp/ipykernel_14232/2309356834.py:40: FutureWarning: Pass y=[0.02591914 0.02700468 0.02754764 ... 0.01109995 0.01164802 0.01203619] as keyword args. From version 0.10 passing these as positional arguments will result in an error\n",
      "  mfcc= librosa.feature.mfcc(signal[start_sample:finish_sample],\n",
      "C:\\Users\\TUKUNA\\AppData\\Local\\Temp/ipykernel_14232/2309356834.py:40: FutureWarning: Pass y=[0.01257747 0.01284463 0.01272685 ... 0.0258177  0.02686406 0.02778692] as keyword args. From version 0.10 passing these as positional arguments will result in an error\n",
      "  mfcc= librosa.feature.mfcc(signal[start_sample:finish_sample],\n"
     ]
    },
    {
     "name": "stdout",
     "output_type": "stream",
     "text": [
      "ocean_noise_data\\humpback_whale\\63019016.wav, segment:0\n",
      "ocean_noise_data\\humpback_whale\\63019016.wav, segment:1\n",
      "ocean_noise_data\\humpback_whale\\63019016.wav, segment:2\n",
      "ocean_noise_data\\humpback_whale\\63019016.wav, segment:3\n",
      "ocean_noise_data\\humpback_whale\\63019016.wav, segment:4\n",
      "ocean_noise_data\\humpback_whale\\63019016.wav, segment:5\n",
      "ocean_noise_data\\humpback_whale\\63019016.wav, segment:6\n",
      "ocean_noise_data\\humpback_whale\\63019016.wav, segment:7\n",
      "ocean_noise_data\\humpback_whale\\63019016.wav, segment:8\n",
      "ocean_noise_data\\humpback_whale\\63019016.wav, segment:9\n",
      "ocean_noise_data\\humpback_whale\\63019016.wav, segment:10\n",
      "ocean_noise_data\\humpback_whale\\63019016.wav, segment:11\n",
      "ocean_noise_data\\humpback_whale\\63019016.wav, segment:12\n",
      "ocean_noise_data\\humpback_whale\\63019016.wav, segment:13\n",
      "ocean_noise_data\\humpback_whale\\63019016.wav, segment:14\n",
      "ocean_noise_data\\humpback_whale\\63019016.wav, segment:15\n",
      "ocean_noise_data\\humpback_whale\\63019016.wav, segment:16\n",
      "ocean_noise_data\\humpback_whale\\63019016.wav, segment:17\n",
      "ocean_noise_data\\humpback_whale\\63019016.wav, segment:18\n",
      "ocean_noise_data\\humpback_whale\\63019016.wav, segment:19\n",
      "ocean_noise_data\\humpback_whale\\63019016.wav, segment:20\n",
      "ocean_noise_data\\humpback_whale\\63019016.wav, segment:21\n",
      "ocean_noise_data\\humpback_whale\\63019016.wav, segment:22\n",
      "ocean_noise_data\\humpback_whale\\63019016.wav, segment:23\n",
      "ocean_noise_data\\humpback_whale\\63019016.wav, segment:24\n",
      "ocean_noise_data\\humpback_whale\\63019016.wav, segment:25\n",
      "ocean_noise_data\\humpback_whale\\63019016.wav, segment:26\n",
      "ocean_noise_data\\humpback_whale\\63019016.wav, segment:27\n",
      "ocean_noise_data\\humpback_whale\\63019016.wav, segment:28\n",
      "ocean_noise_data\\humpback_whale\\63019016.wav, segment:29\n",
      "ocean_noise_data\\humpback_whale\\63019016.wav, segment:30\n",
      "ocean_noise_data\\humpback_whale\\63019016.wav, segment:31\n",
      "ocean_noise_data\\humpback_whale\\63019016.wav, segment:32\n",
      "ocean_noise_data\\humpback_whale\\63019016.wav, segment:33\n",
      "ocean_noise_data\\humpback_whale\\63019016.wav, segment:34\n",
      "ocean_noise_data\\humpback_whale\\63019016.wav, segment:35\n",
      "ocean_noise_data\\humpback_whale\\63019016.wav, segment:36\n",
      "ocean_noise_data\\humpback_whale\\63019016.wav, segment:37\n",
      "ocean_noise_data\\humpback_whale\\63019016.wav, segment:38\n",
      "ocean_noise_data\\humpback_whale\\63019016.wav, segment:39\n",
      "ocean_noise_data\\humpback_whale\\63019016.wav, segment:40\n",
      "ocean_noise_data\\humpback_whale\\63019016.wav, segment:41\n",
      "ocean_noise_data\\humpback_whale\\63019016.wav, segment:42\n",
      "ocean_noise_data\\humpback_whale\\63019016.wav, segment:43\n",
      "ocean_noise_data\\humpback_whale\\63019016.wav, segment:44\n",
      "ocean_noise_data\\humpback_whale\\63019016.wav, segment:45\n",
      "ocean_noise_data\\humpback_whale\\63019016.wav, segment:46\n"
     ]
    },
    {
     "name": "stderr",
     "output_type": "stream",
     "text": [
      "C:\\Users\\TUKUNA\\AppData\\Local\\Temp/ipykernel_14232/2309356834.py:40: FutureWarning: Pass y=[0.02878365 0.03015537 0.03130211 ... 0.01969245 0.01905674 0.0188552 ] as keyword args. From version 0.10 passing these as positional arguments will result in an error\n",
      "  mfcc= librosa.feature.mfcc(signal[start_sample:finish_sample],\n",
      "C:\\Users\\TUKUNA\\AppData\\Local\\Temp/ipykernel_14232/2309356834.py:40: FutureWarning: Pass y=[0.0181492  0.01672099 0.01536295 ... 0.00625673 0.00793064 0.00943704] as keyword args. From version 0.10 passing these as positional arguments will result in an error\n",
      "  mfcc= librosa.feature.mfcc(signal[start_sample:finish_sample],\n",
      "C:\\Users\\TUKUNA\\AppData\\Local\\Temp/ipykernel_14232/2309356834.py:40: FutureWarning: Pass y=[ 0.01026532  0.01112689  0.01228354 ... -0.00161865  0.0010059\n",
      "  0.00248372] as keyword args. From version 0.10 passing these as positional arguments will result in an error\n",
      "  mfcc= librosa.feature.mfcc(signal[start_sample:finish_sample],\n",
      "C:\\Users\\TUKUNA\\AppData\\Local\\Temp/ipykernel_14232/2309356834.py:40: FutureWarning: Pass y=[ 1.8664761e-03  5.3925931e-05 -1.7755016e-03 ...  8.1978561e-03\n",
      "  6.6481545e-03  5.7405275e-03] as keyword args. From version 0.10 passing these as positional arguments will result in an error\n",
      "  mfcc= librosa.feature.mfcc(signal[start_sample:finish_sample],\n",
      "C:\\Users\\TUKUNA\\AppData\\Local\\Temp/ipykernel_14232/2309356834.py:40: FutureWarning: Pass y=[ 0.00622045  0.00670937  0.00582547 ... -0.01414953 -0.01327452\n",
      " -0.01213408] as keyword args. From version 0.10 passing these as positional arguments will result in an error\n",
      "  mfcc= librosa.feature.mfcc(signal[start_sample:finish_sample],\n",
      "C:\\Users\\TUKUNA\\AppData\\Local\\Temp/ipykernel_14232/2309356834.py:40: FutureWarning: Pass y=[-0.0107036  -0.00983705 -0.00995184 ... -0.00738214 -0.00772538\n",
      " -0.00776468] as keyword args. From version 0.10 passing these as positional arguments will result in an error\n",
      "  mfcc= librosa.feature.mfcc(signal[start_sample:finish_sample],\n",
      "C:\\Users\\TUKUNA\\AppData\\Local\\Temp/ipykernel_14232/2309356834.py:40: FutureWarning: Pass y=[-0.00785323 -0.00766338 -0.00671057 ...  0.00597972  0.0112599\n",
      "  0.0122387 ] as keyword args. From version 0.10 passing these as positional arguments will result in an error\n",
      "  mfcc= librosa.feature.mfcc(signal[start_sample:finish_sample],\n",
      "C:\\Users\\TUKUNA\\AppData\\Local\\Temp/ipykernel_14232/2309356834.py:40: FutureWarning: Pass y=[ 0.00919594  0.0023679  -0.00667674 ... -0.00187367 -0.00263429\n",
      " -0.00334359] as keyword args. From version 0.10 passing these as positional arguments will result in an error\n",
      "  mfcc= librosa.feature.mfcc(signal[start_sample:finish_sample],\n",
      "C:\\Users\\TUKUNA\\AppData\\Local\\Temp/ipykernel_14232/2309356834.py:40: FutureWarning: Pass y=[-4.3635704e-03 -5.0078933e-03 -4.4525927e-03 ... -8.7394525e-05\n",
      "  3.5560038e-04  8.1964006e-04] as keyword args. From version 0.10 passing these as positional arguments will result in an error\n",
      "  mfcc= librosa.feature.mfcc(signal[start_sample:finish_sample],\n",
      "C:\\Users\\TUKUNA\\AppData\\Local\\Temp/ipykernel_14232/2309356834.py:40: FutureWarning: Pass y=[0.00135353 0.00160235 0.00157557 ... 0.01564396 0.01451433 0.0137943 ] as keyword args. From version 0.10 passing these as positional arguments will result in an error\n",
      "  mfcc= librosa.feature.mfcc(signal[start_sample:finish_sample],\n",
      "C:\\Users\\TUKUNA\\AppData\\Local\\Temp/ipykernel_14232/2309356834.py:40: FutureWarning: Pass y=[0.01216537 0.01080907 0.01110792 ... 0.02141725 0.02139026 0.02056951] as keyword args. From version 0.10 passing these as positional arguments will result in an error\n",
      "  mfcc= librosa.feature.mfcc(signal[start_sample:finish_sample],\n",
      "C:\\Users\\TUKUNA\\AppData\\Local\\Temp/ipykernel_14232/2309356834.py:40: FutureWarning: Pass y=[0.02000358 0.02036468 0.02042118 ... 0.01994632 0.01905798 0.01847331] as keyword args. From version 0.10 passing these as positional arguments will result in an error\n",
      "  mfcc= librosa.feature.mfcc(signal[start_sample:finish_sample],\n",
      "C:\\Users\\TUKUNA\\AppData\\Local\\Temp/ipykernel_14232/2309356834.py:40: FutureWarning: Pass y=[0.01839637 0.01886514 0.01952528 ... 0.04241878 0.04236947 0.04183128] as keyword args. From version 0.10 passing these as positional arguments will result in an error\n",
      "  mfcc= librosa.feature.mfcc(signal[start_sample:finish_sample],\n",
      "C:\\Users\\TUKUNA\\AppData\\Local\\Temp/ipykernel_14232/2309356834.py:40: FutureWarning: Pass y=[0.0419113  0.04216168 0.04187704 ... 0.00673924 0.00668647 0.00595132] as keyword args. From version 0.10 passing these as positional arguments will result in an error\n",
      "  mfcc= librosa.feature.mfcc(signal[start_sample:finish_sample],\n",
      "C:\\Users\\TUKUNA\\AppData\\Local\\Temp/ipykernel_14232/2309356834.py:40: FutureWarning: Pass y=[0.00426843 0.00315479 0.00315627 ... 0.03428772 0.0339772  0.03312699] as keyword args. From version 0.10 passing these as positional arguments will result in an error\n",
      "  mfcc= librosa.feature.mfcc(signal[start_sample:finish_sample],\n",
      "C:\\Users\\TUKUNA\\AppData\\Local\\Temp/ipykernel_14232/2309356834.py:40: FutureWarning: Pass y=[0.03231498 0.03217659 0.03197159 ... 0.02067899 0.01832384 0.01734031] as keyword args. From version 0.10 passing these as positional arguments will result in an error\n",
      "  mfcc= librosa.feature.mfcc(signal[start_sample:finish_sample],\n",
      "C:\\Users\\TUKUNA\\AppData\\Local\\Temp/ipykernel_14232/2309356834.py:40: FutureWarning: Pass y=[ 0.01808867  0.01881382  0.01936243 ... -0.01460808 -0.01564962\n",
      " -0.01536048] as keyword args. From version 0.10 passing these as positional arguments will result in an error\n",
      "  mfcc= librosa.feature.mfcc(signal[start_sample:finish_sample],\n",
      "C:\\Users\\TUKUNA\\AppData\\Local\\Temp/ipykernel_14232/2309356834.py:40: FutureWarning: Pass y=[-0.015138   -0.01540254 -0.01437593 ... -0.00937111 -0.00952453\n",
      " -0.00987931] as keyword args. From version 0.10 passing these as positional arguments will result in an error\n",
      "  mfcc= librosa.feature.mfcc(signal[start_sample:finish_sample],\n",
      "C:\\Users\\TUKUNA\\AppData\\Local\\Temp/ipykernel_14232/2309356834.py:40: FutureWarning: Pass y=[-0.01083527 -0.01240624 -0.01364668 ... -0.00634588 -0.0059217\n",
      " -0.00493446] as keyword args. From version 0.10 passing these as positional arguments will result in an error\n",
      "  mfcc= librosa.feature.mfcc(signal[start_sample:finish_sample],\n",
      "C:\\Users\\TUKUNA\\AppData\\Local\\Temp/ipykernel_14232/2309356834.py:40: FutureWarning: Pass y=[-0.00438392 -0.0035549  -0.00232895 ... -0.00162314 -0.00300924\n",
      " -0.00418613] as keyword args. From version 0.10 passing these as positional arguments will result in an error\n",
      "  mfcc= librosa.feature.mfcc(signal[start_sample:finish_sample],\n",
      "C:\\Users\\TUKUNA\\AppData\\Local\\Temp/ipykernel_14232/2309356834.py:40: FutureWarning: Pass y=[-0.00455329 -0.00468228 -0.00481439 ... -0.00351909 -0.00351412\n",
      " -0.00428614] as keyword args. From version 0.10 passing these as positional arguments will result in an error\n",
      "  mfcc= librosa.feature.mfcc(signal[start_sample:finish_sample],\n",
      "C:\\Users\\TUKUNA\\AppData\\Local\\Temp/ipykernel_14232/2309356834.py:40: FutureWarning: Pass y=[-0.00494045 -0.00439641 -0.00329057 ... -0.01706468 -0.01674529\n",
      " -0.01659871] as keyword args. From version 0.10 passing these as positional arguments will result in an error\n",
      "  mfcc= librosa.feature.mfcc(signal[start_sample:finish_sample],\n",
      "C:\\Users\\TUKUNA\\AppData\\Local\\Temp/ipykernel_14232/2309356834.py:40: FutureWarning: Pass y=[-0.01662452 -0.01574719 -0.01455275 ...  0.01028234  0.01063199\n",
      "  0.01067711] as keyword args. From version 0.10 passing these as positional arguments will result in an error\n",
      "  mfcc= librosa.feature.mfcc(signal[start_sample:finish_sample],\n",
      "C:\\Users\\TUKUNA\\AppData\\Local\\Temp/ipykernel_14232/2309356834.py:40: FutureWarning: Pass y=[0.01029183 0.00956776 0.00899589 ... 0.00436969 0.00408338 0.00280533] as keyword args. From version 0.10 passing these as positional arguments will result in an error\n",
      "  mfcc= librosa.feature.mfcc(signal[start_sample:finish_sample],\n",
      "C:\\Users\\TUKUNA\\AppData\\Local\\Temp/ipykernel_14232/2309356834.py:40: FutureWarning: Pass y=[0.00240218 0.00367242 0.00509942 ... 0.00199331 0.00167629 0.00243334] as keyword args. From version 0.10 passing these as positional arguments will result in an error\n",
      "  mfcc= librosa.feature.mfcc(signal[start_sample:finish_sample],\n",
      "C:\\Users\\TUKUNA\\AppData\\Local\\Temp/ipykernel_14232/2309356834.py:40: FutureWarning: Pass y=[0.00344051 0.00325043 0.00267639 ... 0.00045509 0.00078751 0.00242194] as keyword args. From version 0.10 passing these as positional arguments will result in an error\n",
      "  mfcc= librosa.feature.mfcc(signal[start_sample:finish_sample],\n",
      "C:\\Users\\TUKUNA\\AppData\\Local\\Temp/ipykernel_14232/2309356834.py:40: FutureWarning: Pass y=[0.00435653 0.00573522 0.00720878 ... 0.01358115 0.01299965 0.01260665] as keyword args. From version 0.10 passing these as positional arguments will result in an error\n",
      "  mfcc= librosa.feature.mfcc(signal[start_sample:finish_sample],\n",
      "C:\\Users\\TUKUNA\\AppData\\Local\\Temp/ipykernel_14232/2309356834.py:40: FutureWarning: Pass y=[0.01212124 0.01157799 0.01100248 ... 0.01911843 0.01916647 0.01964969] as keyword args. From version 0.10 passing these as positional arguments will result in an error\n",
      "  mfcc= librosa.feature.mfcc(signal[start_sample:finish_sample],\n",
      "C:\\Users\\TUKUNA\\AppData\\Local\\Temp/ipykernel_14232/2309356834.py:40: FutureWarning: Pass y=[0.01907553 0.01797391 0.01715102 ... 0.00337477 0.00352288 0.0033405 ] as keyword args. From version 0.10 passing these as positional arguments will result in an error\n",
      "  mfcc= librosa.feature.mfcc(signal[start_sample:finish_sample],\n",
      "C:\\Users\\TUKUNA\\AppData\\Local\\Temp/ipykernel_14232/2309356834.py:40: FutureWarning: Pass y=[ 0.00337169  0.00406919  0.00472474 ... -0.00255581 -0.00268391\n",
      " -0.00297855] as keyword args. From version 0.10 passing these as positional arguments will result in an error\n",
      "  mfcc= librosa.feature.mfcc(signal[start_sample:finish_sample],\n",
      "C:\\Users\\TUKUNA\\AppData\\Local\\Temp/ipykernel_14232/2309356834.py:40: FutureWarning: Pass y=[-0.00306839 -0.00224488 -0.00154376 ...  0.01479535  0.01455832\n",
      "  0.01454989] as keyword args. From version 0.10 passing these as positional arguments will result in an error\n",
      "  mfcc= librosa.feature.mfcc(signal[start_sample:finish_sample],\n",
      "C:\\Users\\TUKUNA\\AppData\\Local\\Temp/ipykernel_14232/2309356834.py:40: FutureWarning: Pass y=[ 0.01478476  0.01474478  0.01419695 ... -0.00194009 -0.00323211\n",
      " -0.00457369] as keyword args. From version 0.10 passing these as positional arguments will result in an error\n",
      "  mfcc= librosa.feature.mfcc(signal[start_sample:finish_sample],\n",
      "C:\\Users\\TUKUNA\\AppData\\Local\\Temp/ipykernel_14232/2309356834.py:40: FutureWarning: Pass y=[-0.0069157  -0.00960685 -0.01154749 ... -0.01185155 -0.0108069\n",
      " -0.01081042] as keyword args. From version 0.10 passing these as positional arguments will result in an error\n",
      "  mfcc= librosa.feature.mfcc(signal[start_sample:finish_sample],\n",
      "C:\\Users\\TUKUNA\\AppData\\Local\\Temp/ipykernel_14232/2309356834.py:40: FutureWarning: Pass y=[-0.01130148 -0.01101165 -0.01043795 ... -0.01403091 -0.01559973\n",
      " -0.01653421] as keyword args. From version 0.10 passing these as positional arguments will result in an error\n",
      "  mfcc= librosa.feature.mfcc(signal[start_sample:finish_sample],\n",
      "C:\\Users\\TUKUNA\\AppData\\Local\\Temp/ipykernel_14232/2309356834.py:40: FutureWarning: Pass y=[-0.01703023 -0.01745301 -0.01785382 ... -0.05947444 -0.04166907\n",
      " -0.01471869] as keyword args. From version 0.10 passing these as positional arguments will result in an error\n",
      "  mfcc= librosa.feature.mfcc(signal[start_sample:finish_sample],\n",
      "C:\\Users\\TUKUNA\\AppData\\Local\\Temp/ipykernel_14232/2309356834.py:40: FutureWarning: Pass y=[0.01424751 0.03866735 0.05521577 ... 0.03560377 0.0232244  0.01324409] as keyword args. From version 0.10 passing these as positional arguments will result in an error\n",
      "  mfcc= librosa.feature.mfcc(signal[start_sample:finish_sample],\n",
      "C:\\Users\\TUKUNA\\AppData\\Local\\Temp/ipykernel_14232/2309356834.py:40: FutureWarning: Pass y=[ 0.00630919  0.00160119 -0.00116766 ...  0.00189479 -0.02014822\n",
      " -0.04101494] as keyword args. From version 0.10 passing these as positional arguments will result in an error\n",
      "  mfcc= librosa.feature.mfcc(signal[start_sample:finish_sample],\n"
     ]
    },
    {
     "name": "stdout",
     "output_type": "stream",
     "text": [
      "ocean_noise_data\\humpback_whale\\63019016.wav, segment:47\n",
      "ocean_noise_data\\humpback_whale\\63019016.wav, segment:48\n",
      "ocean_noise_data\\humpback_whale\\63019016.wav, segment:49\n",
      "ocean_noise_data\\humpback_whale\\63019016.wav, segment:50\n",
      "ocean_noise_data\\humpback_whale\\63019016.wav, segment:51\n",
      "ocean_noise_data\\humpback_whale\\63019016.wav, segment:52\n",
      "ocean_noise_data\\humpback_whale\\63019016.wav, segment:53\n",
      "ocean_noise_data\\humpback_whale\\63019016.wav, segment:54\n",
      "ocean_noise_data\\humpback_whale\\63019016.wav, segment:55\n",
      "ocean_noise_data\\humpback_whale\\63019016.wav, segment:56\n",
      "ocean_noise_data\\humpback_whale\\63019016.wav, segment:57\n",
      "ocean_noise_data\\humpback_whale\\63019016.wav, segment:58\n",
      "ocean_noise_data\\humpback_whale\\63019016.wav, segment:59\n",
      "ocean_noise_data\\humpback_whale\\63019016.wav, segment:60\n",
      "ocean_noise_data\\humpback_whale\\63019016.wav, segment:61\n"
     ]
    },
    {
     "name": "stderr",
     "output_type": "stream",
     "text": [
      "C:\\Users\\TUKUNA\\AppData\\Local\\Temp/ipykernel_14232/2309356834.py:31: FutureWarning: Pass y=[0.0040595  0.00320057 0.00163704 ... 0.02256685 0.01466759 0.        ] as keyword args. From version 0.10 passing these as positional arguments will result in an error\n",
      "  if librosa.get_duration(signal)>10:\n",
      "C:\\Users\\TUKUNA\\AppData\\Local\\Temp/ipykernel_14232/2309356834.py:32: FutureWarning: Pass y=[0.0040595  0.00320057 0.00163704 ... 0.02256685 0.01466759 0.        ] as keyword args. From version 0.10 passing these as positional arguments will result in an error\n",
      "  num_segments=int(librosa.get_duration(signal)/10)\n"
     ]
    },
    {
     "name": "stdout",
     "output_type": "stream",
     "text": [
      "ocean_noise_data\\humpback_whale\\63019017.wav, segment:0\n",
      "ocean_noise_data\\humpback_whale\\63019017.wav, segment:1\n",
      "ocean_noise_data\\humpback_whale\\63019017.wav, segment:2\n",
      "ocean_noise_data\\humpback_whale\\63019017.wav, segment:3\n",
      "ocean_noise_data\\humpback_whale\\63019017.wav, segment:4\n",
      "ocean_noise_data\\humpback_whale\\63019017.wav, segment:5\n",
      "ocean_noise_data\\humpback_whale\\63019017.wav, segment:6\n",
      "ocean_noise_data\\humpback_whale\\63019017.wav, segment:7\n"
     ]
    },
    {
     "name": "stderr",
     "output_type": "stream",
     "text": [
      "C:\\Users\\TUKUNA\\AppData\\Local\\Temp/ipykernel_14232/2309356834.py:31: FutureWarning: Pass y=[ 0.00052359  0.00023147 -0.00023161 ... -0.00694924 -0.00703237\n",
      "  0.        ] as keyword args. From version 0.10 passing these as positional arguments will result in an error\n",
      "  if librosa.get_duration(signal)>10:\n",
      "C:\\Users\\TUKUNA\\AppData\\Local\\Temp/ipykernel_14232/2309356834.py:32: FutureWarning: Pass y=[ 0.00052359  0.00023147 -0.00023161 ... -0.00694924 -0.00703237\n",
      "  0.        ] as keyword args. From version 0.10 passing these as positional arguments will result in an error\n",
      "  num_segments=int(librosa.get_duration(signal)/10)\n",
      "C:\\Users\\TUKUNA\\AppData\\Local\\Temp/ipykernel_14232/2309356834.py:40: FutureWarning: Pass y=[ 0.00052359  0.00023147 -0.00023161 ...  0.01833648  0.01894825\n",
      "  0.01947624] as keyword args. From version 0.10 passing these as positional arguments will result in an error\n",
      "  mfcc= librosa.feature.mfcc(signal[start_sample:finish_sample],\n",
      "C:\\Users\\TUKUNA\\AppData\\Local\\Temp/ipykernel_14232/2309356834.py:40: FutureWarning: Pass y=[0.01982905 0.01959584 0.01878425 ... 0.03320488 0.03262793 0.03186563] as keyword args. From version 0.10 passing these as positional arguments will result in an error\n",
      "  mfcc= librosa.feature.mfcc(signal[start_sample:finish_sample],\n",
      "C:\\Users\\TUKUNA\\AppData\\Local\\Temp/ipykernel_14232/2309356834.py:40: FutureWarning: Pass y=[0.03122092 0.03096434 0.03042058 ... 0.00613292 0.00458039 0.00307945] as keyword args. From version 0.10 passing these as positional arguments will result in an error\n",
      "  mfcc= librosa.feature.mfcc(signal[start_sample:finish_sample],\n",
      "C:\\Users\\TUKUNA\\AppData\\Local\\Temp/ipykernel_14232/2309356834.py:40: FutureWarning: Pass y=[0.00317104 0.00431077 0.00463299 ... 0.10318233 0.09951251 0.09498361] as keyword args. From version 0.10 passing these as positional arguments will result in an error\n",
      "  mfcc= librosa.feature.mfcc(signal[start_sample:finish_sample],\n",
      "C:\\Users\\TUKUNA\\AppData\\Local\\Temp/ipykernel_14232/2309356834.py:40: FutureWarning: Pass y=[ 0.09035145  0.08420633  0.07613251 ... -0.02285196 -0.02263692\n",
      " -0.02137104] as keyword args. From version 0.10 passing these as positional arguments will result in an error\n",
      "  mfcc= librosa.feature.mfcc(signal[start_sample:finish_sample],\n",
      "C:\\Users\\TUKUNA\\AppData\\Local\\Temp/ipykernel_14232/2309356834.py:40: FutureWarning: Pass y=[-0.01990948 -0.01855016 -0.01657546 ... -0.00283834 -0.00527198\n",
      " -0.00840544] as keyword args. From version 0.10 passing these as positional arguments will result in an error\n",
      "  mfcc= librosa.feature.mfcc(signal[start_sample:finish_sample],\n",
      "C:\\Users\\TUKUNA\\AppData\\Local\\Temp/ipykernel_14232/2309356834.py:40: FutureWarning: Pass y=[-0.01169657 -0.01440141 -0.01545969 ...  0.01539507  0.01686914\n",
      "  0.01869006] as keyword args. From version 0.10 passing these as positional arguments will result in an error\n",
      "  mfcc= librosa.feature.mfcc(signal[start_sample:finish_sample],\n",
      "C:\\Users\\TUKUNA\\AppData\\Local\\Temp/ipykernel_14232/2309356834.py:40: FutureWarning: Pass y=[ 0.02135196  0.02426997  0.02669684 ... -0.00482967 -0.00561363\n",
      " -0.00599934] as keyword args. From version 0.10 passing these as positional arguments will result in an error\n",
      "  mfcc= librosa.feature.mfcc(signal[start_sample:finish_sample],\n",
      "C:\\Users\\TUKUNA\\AppData\\Local\\Temp/ipykernel_14232/2309356834.py:40: FutureWarning: Pass y=[-0.00583704 -0.00546778 -0.00544347 ...  0.00434657  0.00720586\n",
      "  0.00992759] as keyword args. From version 0.10 passing these as positional arguments will result in an error\n",
      "  mfcc= librosa.feature.mfcc(signal[start_sample:finish_sample],\n",
      "C:\\Users\\TUKUNA\\AppData\\Local\\Temp/ipykernel_14232/2309356834.py:40: FutureWarning: Pass y=[ 0.01124303  0.01208544  0.01346009 ... -0.01659591 -0.0163688\n",
      " -0.01685517] as keyword args. From version 0.10 passing these as positional arguments will result in an error\n",
      "  mfcc= librosa.feature.mfcc(signal[start_sample:finish_sample],\n",
      "C:\\Users\\TUKUNA\\AppData\\Local\\Temp/ipykernel_14232/2309356834.py:40: FutureWarning: Pass y=[-0.01656067 -0.01580504 -0.01569433 ... -0.01351316 -0.01314501\n",
      " -0.01128777] as keyword args. From version 0.10 passing these as positional arguments will result in an error\n",
      "  mfcc= librosa.feature.mfcc(signal[start_sample:finish_sample],\n",
      "C:\\Users\\TUKUNA\\AppData\\Local\\Temp/ipykernel_14232/2309356834.py:40: FutureWarning: Pass y=[-0.00864658 -0.00595918 -0.00280328 ... -0.00063459  0.00084993\n",
      "  0.00225209] as keyword args. From version 0.10 passing these as positional arguments will result in an error\n",
      "  mfcc= librosa.feature.mfcc(signal[start_sample:finish_sample],\n",
      "C:\\Users\\TUKUNA\\AppData\\Local\\Temp/ipykernel_14232/2309356834.py:40: FutureWarning: Pass y=[0.00380692 0.00503496 0.00596644 ... 0.00682133 0.00607991 0.00588345] as keyword args. From version 0.10 passing these as positional arguments will result in an error\n",
      "  mfcc= librosa.feature.mfcc(signal[start_sample:finish_sample],\n",
      "C:\\Users\\TUKUNA\\AppData\\Local\\Temp/ipykernel_14232/2309356834.py:40: FutureWarning: Pass y=[0.00631773 0.00748771 0.00935182 ... 0.00986619 0.0093992  0.00873323] as keyword args. From version 0.10 passing these as positional arguments will result in an error\n",
      "  mfcc= librosa.feature.mfcc(signal[start_sample:finish_sample],\n",
      "C:\\Users\\TUKUNA\\AppData\\Local\\Temp/ipykernel_14232/2309356834.py:40: FutureWarning: Pass y=[0.00638456 0.00377064 0.00218044 ... 0.03489723 0.03502204 0.03462501] as keyword args. From version 0.10 passing these as positional arguments will result in an error\n",
      "  mfcc= librosa.feature.mfcc(signal[start_sample:finish_sample],\n"
     ]
    },
    {
     "name": "stdout",
     "output_type": "stream",
     "text": [
      "ocean_noise_data\\humpback_whale\\63019018.wav, segment:0\n",
      "ocean_noise_data\\humpback_whale\\63019018.wav, segment:1\n",
      "ocean_noise_data\\humpback_whale\\63019018.wav, segment:2\n",
      "ocean_noise_data\\humpback_whale\\63019018.wav, segment:3\n",
      "ocean_noise_data\\humpback_whale\\63019018.wav, segment:4\n",
      "ocean_noise_data\\humpback_whale\\63019018.wav, segment:5\n",
      "ocean_noise_data\\humpback_whale\\63019018.wav, segment:6\n",
      "ocean_noise_data\\humpback_whale\\63019018.wav, segment:7\n",
      "ocean_noise_data\\humpback_whale\\63019018.wav, segment:8\n",
      "ocean_noise_data\\humpback_whale\\63019018.wav, segment:9\n",
      "ocean_noise_data\\humpback_whale\\63019018.wav, segment:10\n",
      "ocean_noise_data\\humpback_whale\\63019018.wav, segment:11\n",
      "ocean_noise_data\\humpback_whale\\63019018.wav, segment:12\n",
      "ocean_noise_data\\humpback_whale\\63019018.wav, segment:13\n",
      "ocean_noise_data\\humpback_whale\\63019018.wav, segment:14\n"
     ]
    },
    {
     "name": "stderr",
     "output_type": "stream",
     "text": [
      "C:\\Users\\TUKUNA\\AppData\\Local\\Temp/ipykernel_14232/2309356834.py:31: FutureWarning: Pass y=[0.00850596 0.01017962 0.00872681 ... 0.01312867 0.00997273 0.        ] as keyword args. From version 0.10 passing these as positional arguments will result in an error\n",
      "  if librosa.get_duration(signal)>10:\n",
      "C:\\Users\\TUKUNA\\AppData\\Local\\Temp/ipykernel_14232/2309356834.py:32: FutureWarning: Pass y=[0.00850596 0.01017962 0.00872681 ... 0.01312867 0.00997273 0.        ] as keyword args. From version 0.10 passing these as positional arguments will result in an error\n",
      "  num_segments=int(librosa.get_duration(signal)/10)\n",
      "C:\\Users\\TUKUNA\\AppData\\Local\\Temp/ipykernel_14232/2309356834.py:40: FutureWarning: Pass y=[0.00850596 0.01017962 0.00872681 ... 0.0474094  0.0473421  0.0474393 ] as keyword args. From version 0.10 passing these as positional arguments will result in an error\n",
      "  mfcc= librosa.feature.mfcc(signal[start_sample:finish_sample],\n"
     ]
    },
    {
     "name": "stdout",
     "output_type": "stream",
     "text": [
      "ocean_noise_data\\humpback_whale\\63019019.wav, segment:0\n"
     ]
    },
    {
     "name": "stderr",
     "output_type": "stream",
     "text": [
      "C:\\Users\\TUKUNA\\AppData\\Local\\Temp/ipykernel_14232/2309356834.py:31: FutureWarning: Pass y=[0.01124237 0.01297007 0.01147465 ... 0.02728832 0.02473117 0.        ] as keyword args. From version 0.10 passing these as positional arguments will result in an error\n",
      "  if librosa.get_duration(signal)>10:\n",
      "C:\\Users\\TUKUNA\\AppData\\Local\\Temp/ipykernel_14232/2309356834.py:32: FutureWarning: Pass y=[0.01124237 0.01297007 0.01147465 ... 0.02728832 0.02473117 0.        ] as keyword args. From version 0.10 passing these as positional arguments will result in an error\n",
      "  num_segments=int(librosa.get_duration(signal)/10)\n",
      "C:\\Users\\TUKUNA\\AppData\\Local\\Temp/ipykernel_14232/2309356834.py:40: FutureWarning: Pass y=[0.01124237 0.01297007 0.01147465 ... 0.01257616 0.01286451 0.01255238] as keyword args. From version 0.10 passing these as positional arguments will result in an error\n",
      "  mfcc= librosa.feature.mfcc(signal[start_sample:finish_sample],\n",
      "C:\\Users\\TUKUNA\\AppData\\Local\\Temp/ipykernel_14232/2309356834.py:40: FutureWarning: Pass y=[0.01212277 0.01271143 0.01372668 ... 0.00893946 0.00908492 0.00899293] as keyword args. From version 0.10 passing these as positional arguments will result in an error\n",
      "  mfcc= librosa.feature.mfcc(signal[start_sample:finish_sample],\n",
      "C:\\Users\\TUKUNA\\AppData\\Local\\Temp/ipykernel_14232/2309356834.py:40: FutureWarning: Pass y=[0.00843133 0.00845924 0.00886454 ... 0.01847704 0.01246273 0.01102438] as keyword args. From version 0.10 passing these as positional arguments will result in an error\n",
      "  mfcc= librosa.feature.mfcc(signal[start_sample:finish_sample],\n",
      "C:\\Users\\TUKUNA\\AppData\\Local\\Temp/ipykernel_14232/2309356834.py:40: FutureWarning: Pass y=[ 0.01323734  0.01693895  0.01967249 ... -0.08408129 -0.09302113\n",
      " -0.10069254] as keyword args. From version 0.10 passing these as positional arguments will result in an error\n",
      "  mfcc= librosa.feature.mfcc(signal[start_sample:finish_sample],\n",
      "C:\\Users\\TUKUNA\\AppData\\Local\\Temp/ipykernel_14232/2309356834.py:40: FutureWarning: Pass y=[-0.10741481 -0.11340182 -0.11774717 ... -0.02024165 -0.02417083\n",
      " -0.02632726] as keyword args. From version 0.10 passing these as positional arguments will result in an error\n",
      "  mfcc= librosa.feature.mfcc(signal[start_sample:finish_sample],\n",
      "C:\\Users\\TUKUNA\\AppData\\Local\\Temp/ipykernel_14232/2309356834.py:40: FutureWarning: Pass y=[-0.02772303 -0.02930856 -0.0301396  ... -0.00290504 -0.0003818\n",
      "  0.00186433] as keyword args. From version 0.10 passing these as positional arguments will result in an error\n",
      "  mfcc= librosa.feature.mfcc(signal[start_sample:finish_sample],\n",
      "C:\\Users\\TUKUNA\\AppData\\Local\\Temp/ipykernel_14232/2309356834.py:40: FutureWarning: Pass y=[ 0.00404895  0.00658359  0.00858691 ... -0.03784972 -0.04201137\n",
      " -0.04683537] as keyword args. From version 0.10 passing these as positional arguments will result in an error\n",
      "  mfcc= librosa.feature.mfcc(signal[start_sample:finish_sample],\n",
      "C:\\Users\\TUKUNA\\AppData\\Local\\Temp/ipykernel_14232/2309356834.py:40: FutureWarning: Pass y=[-0.05116126 -0.05543661 -0.06033614 ...  0.0199694   0.02523496\n",
      "  0.03443906] as keyword args. From version 0.10 passing these as positional arguments will result in an error\n",
      "  mfcc= librosa.feature.mfcc(signal[start_sample:finish_sample],\n",
      "C:\\Users\\TUKUNA\\AppData\\Local\\Temp/ipykernel_14232/2309356834.py:40: FutureWarning: Pass y=[0.04499876 0.05468572 0.06003944 ... 0.01861679 0.01878197 0.01902432] as keyword args. From version 0.10 passing these as positional arguments will result in an error\n",
      "  mfcc= librosa.feature.mfcc(signal[start_sample:finish_sample],\n",
      "C:\\Users\\TUKUNA\\AppData\\Local\\Temp/ipykernel_14232/2309356834.py:40: FutureWarning: Pass y=[0.01862243 0.01838983 0.01861225 ... 0.00575979 0.00705533 0.00860102] as keyword args. From version 0.10 passing these as positional arguments will result in an error\n",
      "  mfcc= librosa.feature.mfcc(signal[start_sample:finish_sample],\n",
      "C:\\Users\\TUKUNA\\AppData\\Local\\Temp/ipykernel_14232/2309356834.py:40: FutureWarning: Pass y=[0.00970634 0.01019424 0.01042111 ... 0.00354465 0.00268471 0.00215689] as keyword args. From version 0.10 passing these as positional arguments will result in an error\n",
      "  mfcc= librosa.feature.mfcc(signal[start_sample:finish_sample],\n",
      "C:\\Users\\TUKUNA\\AppData\\Local\\Temp/ipykernel_14232/2309356834.py:40: FutureWarning: Pass y=[0.00201751 0.00202508 0.00164203 ... 0.01225983 0.01176496 0.01157899] as keyword args. From version 0.10 passing these as positional arguments will result in an error\n",
      "  mfcc= librosa.feature.mfcc(signal[start_sample:finish_sample],\n"
     ]
    },
    {
     "name": "stdout",
     "output_type": "stream",
     "text": [
      "ocean_noise_data\\humpback_whale\\6301901A.wav, segment:0\n",
      "ocean_noise_data\\humpback_whale\\6301901A.wav, segment:1\n",
      "ocean_noise_data\\humpback_whale\\6301901A.wav, segment:2\n",
      "ocean_noise_data\\humpback_whale\\6301901A.wav, segment:3\n",
      "ocean_noise_data\\humpback_whale\\6301901A.wav, segment:4\n",
      "ocean_noise_data\\humpback_whale\\6301901A.wav, segment:5\n",
      "ocean_noise_data\\humpback_whale\\6301901A.wav, segment:6\n",
      "ocean_noise_data\\humpback_whale\\6301901A.wav, segment:7\n",
      "ocean_noise_data\\humpback_whale\\6301901A.wav, segment:8\n",
      "ocean_noise_data\\humpback_whale\\6301901A.wav, segment:9\n",
      "ocean_noise_data\\humpback_whale\\6301901A.wav, segment:10\n",
      "ocean_noise_data\\humpback_whale\\6301901A.wav, segment:11\n"
     ]
    },
    {
     "name": "stderr",
     "output_type": "stream",
     "text": [
      "C:\\Users\\TUKUNA\\AppData\\Local\\Temp/ipykernel_14232/2309356834.py:31: FutureWarning: Pass y=[0.02473476 0.02890375 0.02492823 ... 0.00517478 0.00401655 0.        ] as keyword args. From version 0.10 passing these as positional arguments will result in an error\n",
      "  if librosa.get_duration(signal)>10:\n",
      "C:\\Users\\TUKUNA\\AppData\\Local\\Temp/ipykernel_14232/2309356834.py:40: FutureWarning: Pass y=[0.02473476 0.02890375 0.02492823 ... 0.10257737 0.10216683 0.10210003] as keyword args. From version 0.10 passing these as positional arguments will result in an error\n",
      "  mfcc= librosa.feature.mfcc(signal[start_sample:finish_sample],\n",
      "C:\\Users\\TUKUNA\\AppData\\Local\\Temp/ipykernel_14232/2309356834.py:40: FutureWarning: Pass y=[ 0.10253597  0.10265095  0.10245422 ... -0.00106855  0.00031816\n",
      "  0.00162892] as keyword args. From version 0.10 passing these as positional arguments will result in an error\n",
      "  mfcc= librosa.feature.mfcc(signal[start_sample:finish_sample],\n",
      "C:\\Users\\TUKUNA\\AppData\\Local\\Temp/ipykernel_14232/2309356834.py:40: FutureWarning: Pass y=[ 0.00292018  0.00441683  0.00656728 ... -0.01034612 -0.0102504\n",
      " -0.01005073] as keyword args. From version 0.10 passing these as positional arguments will result in an error\n",
      "  mfcc= librosa.feature.mfcc(signal[start_sample:finish_sample],\n",
      "C:\\Users\\TUKUNA\\AppData\\Local\\Temp/ipykernel_14232/2309356834.py:40: FutureWarning: Pass y=[-0.00984753 -0.01001155 -0.01035686 ... -0.03167012 -0.03269351\n",
      " -0.02998667] as keyword args. From version 0.10 passing these as positional arguments will result in an error\n",
      "  mfcc= librosa.feature.mfcc(signal[start_sample:finish_sample],\n",
      "C:\\Users\\TUKUNA\\AppData\\Local\\Temp/ipykernel_14232/2309356834.py:40: FutureWarning: Pass y=[-0.02497044 -0.01918041 -0.01399073 ...  0.06982251  0.07252175\n",
      "  0.07435689] as keyword args. From version 0.10 passing these as positional arguments will result in an error\n",
      "  mfcc= librosa.feature.mfcc(signal[start_sample:finish_sample],\n",
      "C:\\Users\\TUKUNA\\AppData\\Local\\Temp/ipykernel_14232/2309356834.py:40: FutureWarning: Pass y=[ 0.0748076   0.07369999  0.07124805 ... -0.01380235 -0.01204499\n",
      " -0.0129303 ] as keyword args. From version 0.10 passing these as positional arguments will result in an error\n",
      "  mfcc= librosa.feature.mfcc(signal[start_sample:finish_sample],\n",
      "C:\\Users\\TUKUNA\\AppData\\Local\\Temp/ipykernel_14232/2309356834.py:40: FutureWarning: Pass y=[-0.01664352 -0.02352051 -0.03290706 ... -0.00664093 -0.00706022\n",
      " -0.00692749] as keyword args. From version 0.10 passing these as positional arguments will result in an error\n",
      "  mfcc= librosa.feature.mfcc(signal[start_sample:finish_sample],\n",
      "C:\\Users\\TUKUNA\\AppData\\Local\\Temp/ipykernel_14232/2309356834.py:40: FutureWarning: Pass y=[-0.00667318 -0.00547937 -0.00350662 ...  0.00826091  0.00752718\n",
      "  0.00753055] as keyword args. From version 0.10 passing these as positional arguments will result in an error\n",
      "  mfcc= librosa.feature.mfcc(signal[start_sample:finish_sample],\n",
      "C:\\Users\\TUKUNA\\AppData\\Local\\Temp/ipykernel_14232/2309356834.py:40: FutureWarning: Pass y=[0.00825364 0.00822188 0.00739658 ... 0.01367291 0.01326196 0.01314716] as keyword args. From version 0.10 passing these as positional arguments will result in an error\n",
      "  mfcc= librosa.feature.mfcc(signal[start_sample:finish_sample],\n",
      "C:\\Users\\TUKUNA\\AppData\\Local\\Temp/ipykernel_14232/2309356834.py:40: FutureWarning: Pass y=[0.01264956 0.01223387 0.0123607  ... 0.00517478 0.00401655 0.        ] as keyword args. From version 0.10 passing these as positional arguments will result in an error\n",
      "  mfcc= librosa.feature.mfcc(signal[start_sample:finish_sample],\n"
     ]
    },
    {
     "name": "stdout",
     "output_type": "stream",
     "text": [
      "ocean_noise_data\\humpback_whale\\6301901B.wav, segment:0\n",
      "ocean_noise_data\\humpback_whale\\6301901B.wav, segment:1\n",
      "ocean_noise_data\\humpback_whale\\6301901B.wav, segment:2\n",
      "ocean_noise_data\\humpback_whale\\6301901B.wav, segment:3\n",
      "ocean_noise_data\\humpback_whale\\6301901B.wav, segment:4\n",
      "ocean_noise_data\\humpback_whale\\6301901B.wav, segment:5\n",
      "ocean_noise_data\\humpback_whale\\6301901B.wav, segment:6\n",
      "ocean_noise_data\\humpback_whale\\6301901B.wav, segment:7\n",
      "ocean_noise_data\\humpback_whale\\6301901B.wav, segment:8\n"
     ]
    },
    {
     "name": "stderr",
     "output_type": "stream",
     "text": [
      "C:\\Users\\TUKUNA\\AppData\\Local\\Temp/ipykernel_14232/2309356834.py:31: FutureWarning: Pass y=[0.02015368 0.02280386 0.01888931 ... 0.01769584 0.01099108 0.        ] as keyword args. From version 0.10 passing these as positional arguments will result in an error\n",
      "  if librosa.get_duration(signal)>10:\n",
      "C:\\Users\\TUKUNA\\AppData\\Local\\Temp/ipykernel_14232/2309356834.py:40: FutureWarning: Pass y=[ 0.02015368  0.02280386  0.01888931 ... -0.01949267 -0.0130931\n",
      " -0.00625912] as keyword args. From version 0.10 passing these as positional arguments will result in an error\n",
      "  mfcc= librosa.feature.mfcc(signal[start_sample:finish_sample],\n",
      "C:\\Users\\TUKUNA\\AppData\\Local\\Temp/ipykernel_14232/2309356834.py:40: FutureWarning: Pass y=[0.00027073 0.00623562 0.01189541 ... 0.01170115 0.01322111 0.01480987] as keyword args. From version 0.10 passing these as positional arguments will result in an error\n",
      "  mfcc= librosa.feature.mfcc(signal[start_sample:finish_sample],\n",
      "C:\\Users\\TUKUNA\\AppData\\Local\\Temp/ipykernel_14232/2309356834.py:40: FutureWarning: Pass y=[ 0.01568872  0.01622903  0.01684091 ... -0.00580646 -0.00506573\n",
      " -0.00495537] as keyword args. From version 0.10 passing these as positional arguments will result in an error\n",
      "  mfcc= librosa.feature.mfcc(signal[start_sample:finish_sample],\n",
      "C:\\Users\\TUKUNA\\AppData\\Local\\Temp/ipykernel_14232/2309356834.py:40: FutureWarning: Pass y=[-0.00481267 -0.00452384 -0.00442438 ... -0.0893195  -0.09187438\n",
      " -0.09284944] as keyword args. From version 0.10 passing these as positional arguments will result in an error\n",
      "  mfcc= librosa.feature.mfcc(signal[start_sample:finish_sample],\n",
      "C:\\Users\\TUKUNA\\AppData\\Local\\Temp/ipykernel_14232/2309356834.py:40: FutureWarning: Pass y=[-0.09243717 -0.09273013 -0.09325675 ...  0.01612623  0.01612483\n",
      "  0.01608963] as keyword args. From version 0.10 passing these as positional arguments will result in an error\n",
      "  mfcc= librosa.feature.mfcc(signal[start_sample:finish_sample],\n",
      "C:\\Users\\TUKUNA\\AppData\\Local\\Temp/ipykernel_14232/2309356834.py:40: FutureWarning: Pass y=[ 0.01558331  0.01481488  0.01489836 ...  0.00982001  0.0033769\n",
      " -0.00278208] as keyword args. From version 0.10 passing these as positional arguments will result in an error\n",
      "  mfcc= librosa.feature.mfcc(signal[start_sample:finish_sample],\n",
      "C:\\Users\\TUKUNA\\AppData\\Local\\Temp/ipykernel_14232/2309356834.py:40: FutureWarning: Pass y=[-0.00996186 -0.01808293 -0.02554386 ... -0.00882795 -0.01002802\n",
      " -0.01121835] as keyword args. From version 0.10 passing these as positional arguments will result in an error\n",
      "  mfcc= librosa.feature.mfcc(signal[start_sample:finish_sample],\n",
      "C:\\Users\\TUKUNA\\AppData\\Local\\Temp/ipykernel_14232/2309356834.py:40: FutureWarning: Pass y=[-0.01227675 -0.01325506 -0.01383134 ...  0.04510441  0.04268723\n",
      "  0.03907796] as keyword args. From version 0.10 passing these as positional arguments will result in an error\n",
      "  mfcc= librosa.feature.mfcc(signal[start_sample:finish_sample],\n",
      "C:\\Users\\TUKUNA\\AppData\\Local\\Temp/ipykernel_14232/2309356834.py:40: FutureWarning: Pass y=[ 0.03523682  0.03206093  0.02922045 ... -0.00118902 -0.00198119\n",
      " -0.00228063] as keyword args. From version 0.10 passing these as positional arguments will result in an error\n",
      "  mfcc= librosa.feature.mfcc(signal[start_sample:finish_sample],\n",
      "C:\\Users\\TUKUNA\\AppData\\Local\\Temp/ipykernel_14232/2309356834.py:40: FutureWarning: Pass y=[-0.00267444 -0.00373859 -0.00437516 ...  0.01769584  0.01099108\n",
      "  0.        ] as keyword args. From version 0.10 passing these as positional arguments will result in an error\n",
      "  mfcc= librosa.feature.mfcc(signal[start_sample:finish_sample],\n"
     ]
    },
    {
     "name": "stdout",
     "output_type": "stream",
     "text": [
      "ocean_noise_data\\humpback_whale\\6301901C.wav, segment:0\n",
      "ocean_noise_data\\humpback_whale\\6301901C.wav, segment:1\n",
      "ocean_noise_data\\humpback_whale\\6301901C.wav, segment:2\n",
      "ocean_noise_data\\humpback_whale\\6301901C.wav, segment:3\n",
      "ocean_noise_data\\humpback_whale\\6301901C.wav, segment:4\n",
      "ocean_noise_data\\humpback_whale\\6301901C.wav, segment:5\n",
      "ocean_noise_data\\humpback_whale\\6301901C.wav, segment:6\n",
      "ocean_noise_data\\humpback_whale\\6301901C.wav, segment:7\n",
      "ocean_noise_data\\humpback_whale\\6301901C.wav, segment:8\n"
     ]
    },
    {
     "name": "stderr",
     "output_type": "stream",
     "text": [
      "C:\\Users\\TUKUNA\\AppData\\Local\\Temp/ipykernel_14232/2309356834.py:31: FutureWarning: Pass y=[0.01499537 0.01810253 0.0161729  ... 0.01074139 0.01048887 0.        ] as keyword args. From version 0.10 passing these as positional arguments will result in an error\n",
      "  if librosa.get_duration(signal)>10:\n",
      "C:\\Users\\TUKUNA\\AppData\\Local\\Temp/ipykernel_14232/2309356834.py:40: FutureWarning: Pass y=[0.01499537 0.01810253 0.0161729  ... 0.02727248 0.02801689 0.0285337 ] as keyword args. From version 0.10 passing these as positional arguments will result in an error\n",
      "  mfcc= librosa.feature.mfcc(signal[start_sample:finish_sample],\n",
      "C:\\Users\\TUKUNA\\AppData\\Local\\Temp/ipykernel_14232/2309356834.py:40: FutureWarning: Pass y=[0.02876833 0.02968389 0.0308953  ... 0.03128252 0.03218334 0.03301642] as keyword args. From version 0.10 passing these as positional arguments will result in an error\n",
      "  mfcc= librosa.feature.mfcc(signal[start_sample:finish_sample],\n",
      "C:\\Users\\TUKUNA\\AppData\\Local\\Temp/ipykernel_14232/2309356834.py:40: FutureWarning: Pass y=[0.03321798 0.03297382 0.0322214  ... 0.00352805 0.00279163 0.00199296] as keyword args. From version 0.10 passing these as positional arguments will result in an error\n",
      "  mfcc= librosa.feature.mfcc(signal[start_sample:finish_sample],\n",
      "C:\\Users\\TUKUNA\\AppData\\Local\\Temp/ipykernel_14232/2309356834.py:40: FutureWarning: Pass y=[ 0.00154433  0.00124021  0.00033216 ... -0.01128971 -0.00746955\n",
      " -0.00490087] as keyword args. From version 0.10 passing these as positional arguments will result in an error\n",
      "  mfcc= librosa.feature.mfcc(signal[start_sample:finish_sample],\n",
      "C:\\Users\\TUKUNA\\AppData\\Local\\Temp/ipykernel_14232/2309356834.py:40: FutureWarning: Pass y=[-0.00283554 -0.00045647  0.00095893 ... -0.00062754  0.01000357\n",
      "  0.01865971] as keyword args. From version 0.10 passing these as positional arguments will result in an error\n",
      "  mfcc= librosa.feature.mfcc(signal[start_sample:finish_sample],\n",
      "C:\\Users\\TUKUNA\\AppData\\Local\\Temp/ipykernel_14232/2309356834.py:40: FutureWarning: Pass y=[0.0247943  0.02814269 0.02921274 ... 0.10304645 0.09797192 0.08164193] as keyword args. From version 0.10 passing these as positional arguments will result in an error\n",
      "  mfcc= librosa.feature.mfcc(signal[start_sample:finish_sample],\n",
      "C:\\Users\\TUKUNA\\AppData\\Local\\Temp/ipykernel_14232/2309356834.py:40: FutureWarning: Pass y=[ 0.05807028  0.03496988  0.01453039 ... -0.03210794 -0.03362023\n",
      " -0.03338994] as keyword args. From version 0.10 passing these as positional arguments will result in an error\n",
      "  mfcc= librosa.feature.mfcc(signal[start_sample:finish_sample],\n",
      "C:\\Users\\TUKUNA\\AppData\\Local\\Temp/ipykernel_14232/2309356834.py:40: FutureWarning: Pass y=[-0.03176449 -0.0289343  -0.02540648 ...  0.00756327  0.00651199\n",
      "  0.00600572] as keyword args. From version 0.10 passing these as positional arguments will result in an error\n",
      "  mfcc= librosa.feature.mfcc(signal[start_sample:finish_sample],\n",
      "C:\\Users\\TUKUNA\\AppData\\Local\\Temp/ipykernel_14232/2309356834.py:40: FutureWarning: Pass y=[0.00606226 0.00589935 0.00535704 ... 0.02464182 0.02443483 0.02417284] as keyword args. From version 0.10 passing these as positional arguments will result in an error\n",
      "  mfcc= librosa.feature.mfcc(signal[start_sample:finish_sample],\n",
      "C:\\Users\\TUKUNA\\AppData\\Local\\Temp/ipykernel_14232/2309356834.py:40: FutureWarning: Pass y=[0.02514362 0.02587342 0.02511038 ... 0.01074139 0.01048887 0.        ] as keyword args. From version 0.10 passing these as positional arguments will result in an error\n",
      "  mfcc= librosa.feature.mfcc(signal[start_sample:finish_sample],\n"
     ]
    },
    {
     "name": "stdout",
     "output_type": "stream",
     "text": [
      "ocean_noise_data\\humpback_whale\\6301901D.wav, segment:0\n",
      "ocean_noise_data\\humpback_whale\\6301901D.wav, segment:1\n",
      "ocean_noise_data\\humpback_whale\\6301901D.wav, segment:2\n",
      "ocean_noise_data\\humpback_whale\\6301901D.wav, segment:3\n",
      "ocean_noise_data\\humpback_whale\\6301901D.wav, segment:4\n",
      "ocean_noise_data\\humpback_whale\\6301901D.wav, segment:5\n",
      "ocean_noise_data\\humpback_whale\\6301901D.wav, segment:6\n",
      "ocean_noise_data\\humpback_whale\\6301901D.wav, segment:7\n",
      "ocean_noise_data\\humpback_whale\\6301901D.wav, segment:8\n"
     ]
    },
    {
     "name": "stderr",
     "output_type": "stream",
     "text": [
      "C:\\Users\\TUKUNA\\AppData\\Local\\Temp/ipykernel_14232/2309356834.py:31: FutureWarning: Pass y=[-0.00379497 -0.00355038 -0.00149987 ...  0.02792834  0.02948922\n",
      "  0.        ] as keyword args. From version 0.10 passing these as positional arguments will result in an error\n",
      "  if librosa.get_duration(signal)>10:\n",
      "C:\\Users\\TUKUNA\\AppData\\Local\\Temp/ipykernel_14232/2309356834.py:32: FutureWarning: Pass y=[-0.00379497 -0.00355038 -0.00149987 ...  0.02792834  0.02948922\n",
      "  0.        ] as keyword args. From version 0.10 passing these as positional arguments will result in an error\n",
      "  num_segments=int(librosa.get_duration(signal)/10)\n",
      "C:\\Users\\TUKUNA\\AppData\\Local\\Temp/ipykernel_14232/2309356834.py:40: FutureWarning: Pass y=[-0.00379497 -0.00355038 -0.00149987 ... -0.03342472 -0.03072388\n",
      " -0.0276694 ] as keyword args. From version 0.10 passing these as positional arguments will result in an error\n",
      "  mfcc= librosa.feature.mfcc(signal[start_sample:finish_sample],\n",
      "C:\\Users\\TUKUNA\\AppData\\Local\\Temp/ipykernel_14232/2309356834.py:40: FutureWarning: Pass y=[-0.02403549 -0.01964053 -0.01532629 ...  0.00877729  0.0081798\n",
      "  0.00760949] as keyword args. From version 0.10 passing these as positional arguments will result in an error\n",
      "  mfcc= librosa.feature.mfcc(signal[start_sample:finish_sample],\n",
      "C:\\Users\\TUKUNA\\AppData\\Local\\Temp/ipykernel_14232/2309356834.py:40: FutureWarning: Pass y=[0.00728244 0.00653856 0.00517889 ... 0.01099152 0.00939508 0.00787881] as keyword args. From version 0.10 passing these as positional arguments will result in an error\n",
      "  mfcc= librosa.feature.mfcc(signal[start_sample:finish_sample],\n",
      "C:\\Users\\TUKUNA\\AppData\\Local\\Temp/ipykernel_14232/2309356834.py:40: FutureWarning: Pass y=[0.00651309 0.00582919 0.0056265  ... 0.00891908 0.00800106 0.00741481] as keyword args. From version 0.10 passing these as positional arguments will result in an error\n",
      "  mfcc= librosa.feature.mfcc(signal[start_sample:finish_sample],\n",
      "C:\\Users\\TUKUNA\\AppData\\Local\\Temp/ipykernel_14232/2309356834.py:40: FutureWarning: Pass y=[ 0.00643775  0.00576217  0.00594502 ... -0.04956181 -0.04267067\n",
      " -0.03571779] as keyword args. From version 0.10 passing these as positional arguments will result in an error\n",
      "  mfcc= librosa.feature.mfcc(signal[start_sample:finish_sample],\n",
      "C:\\Users\\TUKUNA\\AppData\\Local\\Temp/ipykernel_14232/2309356834.py:40: FutureWarning: Pass y=[-0.02883216 -0.02230674 -0.01683238 ...  0.0362638   0.03362575\n",
      "  0.03073587] as keyword args. From version 0.10 passing these as positional arguments will result in an error\n",
      "  mfcc= librosa.feature.mfcc(signal[start_sample:finish_sample],\n",
      "C:\\Users\\TUKUNA\\AppData\\Local\\Temp/ipykernel_14232/2309356834.py:40: FutureWarning: Pass y=[ 0.02638596  0.01953036  0.01125682 ...  0.00094964  0.00040092\n",
      " -0.00026826] as keyword args. From version 0.10 passing these as positional arguments will result in an error\n",
      "  mfcc= librosa.feature.mfcc(signal[start_sample:finish_sample],\n"
     ]
    },
    {
     "name": "stdout",
     "output_type": "stream",
     "text": [
      "ocean_noise_data\\humpback_whale\\6301901E.wav, segment:0\n",
      "ocean_noise_data\\humpback_whale\\6301901E.wav, segment:1\n",
      "ocean_noise_data\\humpback_whale\\6301901E.wav, segment:2\n",
      "ocean_noise_data\\humpback_whale\\6301901E.wav, segment:3\n",
      "ocean_noise_data\\humpback_whale\\6301901E.wav, segment:4\n",
      "ocean_noise_data\\humpback_whale\\6301901E.wav, segment:5\n",
      "ocean_noise_data\\humpback_whale\\6301901E.wav, segment:6\n"
     ]
    },
    {
     "name": "stderr",
     "output_type": "stream",
     "text": [
      "C:\\Users\\TUKUNA\\AppData\\Local\\Temp/ipykernel_14232/2309356834.py:31: FutureWarning: Pass y=[0.00941604 0.01132397 0.00965559 ... 0.00271809 0.00301273 0.        ] as keyword args. From version 0.10 passing these as positional arguments will result in an error\n",
      "  if librosa.get_duration(signal)>10:\n",
      "C:\\Users\\TUKUNA\\AppData\\Local\\Temp/ipykernel_14232/2309356834.py:32: FutureWarning: Pass y=[0.00941604 0.01132397 0.00965559 ... 0.00271809 0.00301273 0.        ] as keyword args. From version 0.10 passing these as positional arguments will result in an error\n",
      "  num_segments=int(librosa.get_duration(signal)/10)\n",
      "C:\\Users\\TUKUNA\\AppData\\Local\\Temp/ipykernel_14232/2309356834.py:40: FutureWarning: Pass y=[0.00941604 0.01132397 0.00965559 ... 0.02728687 0.02727332 0.02768688] as keyword args. From version 0.10 passing these as positional arguments will result in an error\n",
      "  mfcc= librosa.feature.mfcc(signal[start_sample:finish_sample],\n",
      "C:\\Users\\TUKUNA\\AppData\\Local\\Temp/ipykernel_14232/2309356834.py:40: FutureWarning: Pass y=[0.02819923 0.02819385 0.02766174 ... 0.02737143 0.02458686 0.02044832] as keyword args. From version 0.10 passing these as positional arguments will result in an error\n",
      "  mfcc= librosa.feature.mfcc(signal[start_sample:finish_sample],\n",
      "C:\\Users\\TUKUNA\\AppData\\Local\\Temp/ipykernel_14232/2309356834.py:40: FutureWarning: Pass y=[ 0.01651391  0.01343268  0.00977394 ... -0.09439135 -0.10141648\n",
      " -0.10709189] as keyword args. From version 0.10 passing these as positional arguments will result in an error\n",
      "  mfcc= librosa.feature.mfcc(signal[start_sample:finish_sample],\n",
      "C:\\Users\\TUKUNA\\AppData\\Local\\Temp/ipykernel_14232/2309356834.py:40: FutureWarning: Pass y=[-0.11180463 -0.11565722 -0.11863068 ... -0.07335824 -0.07156884\n",
      " -0.07030917] as keyword args. From version 0.10 passing these as positional arguments will result in an error\n",
      "  mfcc= librosa.feature.mfcc(signal[start_sample:finish_sample],\n",
      "C:\\Users\\TUKUNA\\AppData\\Local\\Temp/ipykernel_14232/2309356834.py:40: FutureWarning: Pass y=[-0.07035438 -0.07072882 -0.07075191 ... -0.03644197 -0.03872833\n",
      " -0.04028152] as keyword args. From version 0.10 passing these as positional arguments will result in an error\n",
      "  mfcc= librosa.feature.mfcc(signal[start_sample:finish_sample],\n",
      "C:\\Users\\TUKUNA\\AppData\\Local\\Temp/ipykernel_14232/2309356834.py:40: FutureWarning: Pass y=[-0.04140085 -0.04285146 -0.04419417 ...  0.00350225  0.00246254\n",
      "  0.00145371] as keyword args. From version 0.10 passing these as positional arguments will result in an error\n",
      "  mfcc= librosa.feature.mfcc(signal[start_sample:finish_sample],\n",
      "C:\\Users\\TUKUNA\\AppData\\Local\\Temp/ipykernel_14232/2309356834.py:40: FutureWarning: Pass y=[ 0.00055622 -0.00125342 -0.00395385 ... -0.00911455 -0.01509404\n",
      " -0.02045658] as keyword args. From version 0.10 passing these as positional arguments will result in an error\n",
      "  mfcc= librosa.feature.mfcc(signal[start_sample:finish_sample],\n",
      "C:\\Users\\TUKUNA\\AppData\\Local\\Temp/ipykernel_14232/2309356834.py:40: FutureWarning: Pass y=[-0.02444034 -0.02701999 -0.02828469 ...  0.02140479  0.02243692\n",
      "  0.02224861] as keyword args. From version 0.10 passing these as positional arguments will result in an error\n",
      "  mfcc= librosa.feature.mfcc(signal[start_sample:finish_sample],\n",
      "C:\\Users\\TUKUNA\\AppData\\Local\\Temp/ipykernel_14232/2309356834.py:40: FutureWarning: Pass y=[0.02146471 0.02089354 0.01974332 ... 0.01999789 0.01987211 0.01895901] as keyword args. From version 0.10 passing these as positional arguments will result in an error\n",
      "  mfcc= librosa.feature.mfcc(signal[start_sample:finish_sample],\n",
      "C:\\Users\\TUKUNA\\AppData\\Local\\Temp/ipykernel_14232/2309356834.py:40: FutureWarning: Pass y=[0.01661495 0.01279498 0.00846342 ... 0.02333855 0.02382257 0.02412011] as keyword args. From version 0.10 passing these as positional arguments will result in an error\n",
      "  mfcc= librosa.feature.mfcc(signal[start_sample:finish_sample],\n",
      "C:\\Users\\TUKUNA\\AppData\\Local\\Temp/ipykernel_14232/2309356834.py:40: FutureWarning: Pass y=[0.02381393 0.02294548 0.0223632  ... 0.01057633 0.0118215  0.01272028] as keyword args. From version 0.10 passing these as positional arguments will result in an error\n",
      "  mfcc= librosa.feature.mfcc(signal[start_sample:finish_sample],\n"
     ]
    },
    {
     "name": "stdout",
     "output_type": "stream",
     "text": [
      "ocean_noise_data\\humpback_whale\\6301901H.wav, segment:0\n",
      "ocean_noise_data\\humpback_whale\\6301901H.wav, segment:1\n",
      "ocean_noise_data\\humpback_whale\\6301901H.wav, segment:2\n",
      "ocean_noise_data\\humpback_whale\\6301901H.wav, segment:3\n",
      "ocean_noise_data\\humpback_whale\\6301901H.wav, segment:4\n",
      "ocean_noise_data\\humpback_whale\\6301901H.wav, segment:5\n",
      "ocean_noise_data\\humpback_whale\\6301901H.wav, segment:6\n",
      "ocean_noise_data\\humpback_whale\\6301901H.wav, segment:7\n",
      "ocean_noise_data\\humpback_whale\\6301901H.wav, segment:8\n",
      "ocean_noise_data\\humpback_whale\\6301901H.wav, segment:9\n",
      "ocean_noise_data\\humpback_whale\\6301901H.wav, segment:10\n"
     ]
    },
    {
     "name": "stderr",
     "output_type": "stream",
     "text": [
      "C:\\Users\\TUKUNA\\AppData\\Local\\Temp/ipykernel_14232/2309356834.py:31: FutureWarning: Pass y=[0.02023852 0.02435992 0.02192239 ... 0.01203132 0.01139809 0.        ] as keyword args. From version 0.10 passing these as positional arguments will result in an error\n",
      "  if librosa.get_duration(signal)>10:\n",
      "C:\\Users\\TUKUNA\\AppData\\Local\\Temp/ipykernel_14232/2309356834.py:32: FutureWarning: Pass y=[0.02023852 0.02435992 0.02192239 ... 0.01203132 0.01139809 0.        ] as keyword args. From version 0.10 passing these as positional arguments will result in an error\n",
      "  num_segments=int(librosa.get_duration(signal)/10)\n",
      "C:\\Users\\TUKUNA\\AppData\\Local\\Temp/ipykernel_14232/2309356834.py:40: FutureWarning: Pass y=[0.02023852 0.02435992 0.02192239 ... 0.01023401 0.01256704 0.0154636 ] as keyword args. From version 0.10 passing these as positional arguments will result in an error\n",
      "  mfcc= librosa.feature.mfcc(signal[start_sample:finish_sample],\n",
      "C:\\Users\\TUKUNA\\AppData\\Local\\Temp/ipykernel_14232/2309356834.py:40: FutureWarning: Pass y=[0.01760692 0.01971979 0.0223217  ... 0.0014779  0.00300561 0.00460975] as keyword args. From version 0.10 passing these as positional arguments will result in an error\n",
      "  mfcc= librosa.feature.mfcc(signal[start_sample:finish_sample],\n",
      "C:\\Users\\TUKUNA\\AppData\\Local\\Temp/ipykernel_14232/2309356834.py:40: FutureWarning: Pass y=[0.00643571 0.00839089 0.00981659 ... 0.01124968 0.01217848 0.01294539] as keyword args. From version 0.10 passing these as positional arguments will result in an error\n",
      "  mfcc= librosa.feature.mfcc(signal[start_sample:finish_sample],\n",
      "C:\\Users\\TUKUNA\\AppData\\Local\\Temp/ipykernel_14232/2309356834.py:40: FutureWarning: Pass y=[0.01323791 0.01348201 0.0137174  ... 0.0033764  0.00319972 0.00286176] as keyword args. From version 0.10 passing these as positional arguments will result in an error\n",
      "  mfcc= librosa.feature.mfcc(signal[start_sample:finish_sample],\n",
      "C:\\Users\\TUKUNA\\AppData\\Local\\Temp/ipykernel_14232/2309356834.py:40: FutureWarning: Pass y=[ 0.00344899  0.00368156  0.00289428 ... -0.01480993 -0.01312477\n",
      " -0.00966488] as keyword args. From version 0.10 passing these as positional arguments will result in an error\n",
      "  mfcc= librosa.feature.mfcc(signal[start_sample:finish_sample],\n",
      "C:\\Users\\TUKUNA\\AppData\\Local\\Temp/ipykernel_14232/2309356834.py:40: FutureWarning: Pass y=[-0.00402721  0.00277585  0.00922324 ... -0.00989626 -0.00873308\n",
      " -0.00797619] as keyword args. From version 0.10 passing these as positional arguments will result in an error\n",
      "  mfcc= librosa.feature.mfcc(signal[start_sample:finish_sample],\n",
      "C:\\Users\\TUKUNA\\AppData\\Local\\Temp/ipykernel_14232/2309356834.py:40: FutureWarning: Pass y=[-0.00842767 -0.00883032 -0.00824572 ...  0.00382457  0.00458257\n",
      "  0.00529964] as keyword args. From version 0.10 passing these as positional arguments will result in an error\n",
      "  mfcc= librosa.feature.mfcc(signal[start_sample:finish_sample],\n",
      "C:\\Users\\TUKUNA\\AppData\\Local\\Temp/ipykernel_14232/2309356834.py:40: FutureWarning: Pass y=[ 0.00631054  0.00715317  0.00747327 ... -0.00291911 -0.00327521\n",
      " -0.0023357 ] as keyword args. From version 0.10 passing these as positional arguments will result in an error\n",
      "  mfcc= librosa.feature.mfcc(signal[start_sample:finish_sample],\n",
      "C:\\Users\\TUKUNA\\AppData\\Local\\Temp/ipykernel_14232/2309356834.py:40: FutureWarning: Pass y=[-0.00152712 -0.00128555 -0.00010158 ...  0.01037295  0.01112621\n",
      "  0.01201963] as keyword args. From version 0.10 passing these as positional arguments will result in an error\n",
      "  mfcc= librosa.feature.mfcc(signal[start_sample:finish_sample],\n",
      "C:\\Users\\TUKUNA\\AppData\\Local\\Temp/ipykernel_14232/2309356834.py:40: FutureWarning: Pass y=[0.0128458  0.01311347 0.01286203 ... 0.01563287 0.0157322  0.01544128] as keyword args. From version 0.10 passing these as positional arguments will result in an error\n",
      "  mfcc= librosa.feature.mfcc(signal[start_sample:finish_sample],\n",
      "C:\\Users\\TUKUNA\\AppData\\Local\\Temp/ipykernel_14232/2309356834.py:40: FutureWarning: Pass y=[0.01510067 0.01562311 0.016783   ... 0.02393767 0.02520072 0.02625579] as keyword args. From version 0.10 passing these as positional arguments will result in an error\n",
      "  mfcc= librosa.feature.mfcc(signal[start_sample:finish_sample],\n",
      "C:\\Users\\TUKUNA\\AppData\\Local\\Temp/ipykernel_14232/2309356834.py:40: FutureWarning: Pass y=[0.02692898 0.02779015 0.028565   ... 0.00477496 0.00568197 0.00609562] as keyword args. From version 0.10 passing these as positional arguments will result in an error\n",
      "  mfcc= librosa.feature.mfcc(signal[start_sample:finish_sample],\n",
      "C:\\Users\\TUKUNA\\AppData\\Local\\Temp/ipykernel_14232/2309356834.py:40: FutureWarning: Pass y=[0.00624088 0.00618808 0.0055483  ... 0.00327797 0.00152322 0.00012519] as keyword args. From version 0.10 passing these as positional arguments will result in an error\n",
      "  mfcc= librosa.feature.mfcc(signal[start_sample:finish_sample],\n",
      "C:\\Users\\TUKUNA\\AppData\\Local\\Temp/ipykernel_14232/2309356834.py:40: FutureWarning: Pass y=[-0.00070186 -0.00149199 -0.00176901 ... -0.00832419 -0.00684953\n",
      " -0.0050599 ] as keyword args. From version 0.10 passing these as positional arguments will result in an error\n",
      "  mfcc= librosa.feature.mfcc(signal[start_sample:finish_sample],\n",
      "C:\\Users\\TUKUNA\\AppData\\Local\\Temp/ipykernel_14232/2309356834.py:40: FutureWarning: Pass y=[-0.00388898 -0.00338862 -0.00379301 ... -0.00088083  0.00016898\n",
      "  0.0014554 ] as keyword args. From version 0.10 passing these as positional arguments will result in an error\n",
      "  mfcc= librosa.feature.mfcc(signal[start_sample:finish_sample],\n",
      "C:\\Users\\TUKUNA\\AppData\\Local\\Temp/ipykernel_14232/2309356834.py:40: FutureWarning: Pass y=[ 0.00252648  0.00378019  0.00468703 ... -0.01133443 -0.01143145\n",
      " -0.01184338] as keyword args. From version 0.10 passing these as positional arguments will result in an error\n",
      "  mfcc= librosa.feature.mfcc(signal[start_sample:finish_sample],\n",
      "C:\\Users\\TUKUNA\\AppData\\Local\\Temp/ipykernel_14232/2309356834.py:40: FutureWarning: Pass y=[-0.01228367 -0.01282864 -0.01338834 ...  0.00296796  0.00324821\n",
      "  0.00325887] as keyword args. From version 0.10 passing these as positional arguments will result in an error\n",
      "  mfcc= librosa.feature.mfcc(signal[start_sample:finish_sample],\n",
      "C:\\Users\\TUKUNA\\AppData\\Local\\Temp/ipykernel_14232/2309356834.py:40: FutureWarning: Pass y=[0.00250845 0.0017631  0.0007898  ... 0.00794151 0.0065652  0.00511228] as keyword args. From version 0.10 passing these as positional arguments will result in an error\n",
      "  mfcc= librosa.feature.mfcc(signal[start_sample:finish_sample],\n",
      "C:\\Users\\TUKUNA\\AppData\\Local\\Temp/ipykernel_14232/2309356834.py:40: FutureWarning: Pass y=[ 0.00348512  0.0010603  -0.00085421 ... -0.01131047 -0.008081\n",
      " -0.00493724] as keyword args. From version 0.10 passing these as positional arguments will result in an error\n",
      "  mfcc= librosa.feature.mfcc(signal[start_sample:finish_sample],\n",
      "C:\\Users\\TUKUNA\\AppData\\Local\\Temp/ipykernel_14232/2309356834.py:40: FutureWarning: Pass y=[-2.4073413e-03  6.3867352e-05  2.9746972e-03 ...  7.2905896e-03\n",
      " -5.5083185e-03 -1.7583428e-02] as keyword args. From version 0.10 passing these as positional arguments will result in an error\n",
      "  mfcc= librosa.feature.mfcc(signal[start_sample:finish_sample],\n",
      "C:\\Users\\TUKUNA\\AppData\\Local\\Temp/ipykernel_14232/2309356834.py:40: FutureWarning: Pass y=[-2.4945188e-02 -2.5862167e-02 -1.9929411e-02 ... -9.2846574e-05\n",
      " -8.1593957e-04 -1.7935751e-03] as keyword args. From version 0.10 passing these as positional arguments will result in an error\n",
      "  mfcc= librosa.feature.mfcc(signal[start_sample:finish_sample],\n",
      "C:\\Users\\TUKUNA\\AppData\\Local\\Temp/ipykernel_14232/2309356834.py:40: FutureWarning: Pass y=[-0.00256057 -0.00342205 -0.0039716  ... -0.02214898 -0.02866415\n",
      " -0.03579245] as keyword args. From version 0.10 passing these as positional arguments will result in an error\n",
      "  mfcc= librosa.feature.mfcc(signal[start_sample:finish_sample],\n",
      "C:\\Users\\TUKUNA\\AppData\\Local\\Temp/ipykernel_14232/2309356834.py:40: FutureWarning: Pass y=[-0.04337619 -0.05110007 -0.05867025 ...  0.0024812   0.0017764\n",
      "  0.00113603] as keyword args. From version 0.10 passing these as positional arguments will result in an error\n",
      "  mfcc= librosa.feature.mfcc(signal[start_sample:finish_sample],\n",
      "C:\\Users\\TUKUNA\\AppData\\Local\\Temp/ipykernel_14232/2309356834.py:40: FutureWarning: Pass y=[ 0.00049956  0.00014693 -0.00033171 ...  0.00879338  0.00736623\n",
      "  0.00667221] as keyword args. From version 0.10 passing these as positional arguments will result in an error\n",
      "  mfcc= librosa.feature.mfcc(signal[start_sample:finish_sample],\n"
     ]
    },
    {
     "name": "stdout",
     "output_type": "stream",
     "text": [
      "ocean_noise_data\\humpback_whale\\6301901L.wav, segment:0\n",
      "ocean_noise_data\\humpback_whale\\6301901L.wav, segment:1\n",
      "ocean_noise_data\\humpback_whale\\6301901L.wav, segment:2\n",
      "ocean_noise_data\\humpback_whale\\6301901L.wav, segment:3\n",
      "ocean_noise_data\\humpback_whale\\6301901L.wav, segment:4\n",
      "ocean_noise_data\\humpback_whale\\6301901L.wav, segment:5\n",
      "ocean_noise_data\\humpback_whale\\6301901L.wav, segment:6\n",
      "ocean_noise_data\\humpback_whale\\6301901L.wav, segment:7\n",
      "ocean_noise_data\\humpback_whale\\6301901L.wav, segment:8\n",
      "ocean_noise_data\\humpback_whale\\6301901L.wav, segment:9\n",
      "ocean_noise_data\\humpback_whale\\6301901L.wav, segment:10\n",
      "ocean_noise_data\\humpback_whale\\6301901L.wav, segment:11\n",
      "ocean_noise_data\\humpback_whale\\6301901L.wav, segment:12\n",
      "ocean_noise_data\\humpback_whale\\6301901L.wav, segment:13\n",
      "ocean_noise_data\\humpback_whale\\6301901L.wav, segment:14\n",
      "ocean_noise_data\\humpback_whale\\6301901L.wav, segment:15\n",
      "ocean_noise_data\\humpback_whale\\6301901L.wav, segment:16\n",
      "ocean_noise_data\\humpback_whale\\6301901L.wav, segment:17\n",
      "ocean_noise_data\\humpback_whale\\6301901L.wav, segment:18\n",
      "ocean_noise_data\\humpback_whale\\6301901L.wav, segment:19\n",
      "ocean_noise_data\\humpback_whale\\6301901L.wav, segment:20\n",
      "ocean_noise_data\\humpback_whale\\6301901L.wav, segment:21\n",
      "ocean_noise_data\\humpback_whale\\6301901L.wav, segment:22\n",
      "ocean_noise_data\\humpback_whale\\6301901L.wav, segment:23\n"
     ]
    },
    {
     "name": "stderr",
     "output_type": "stream",
     "text": [
      "C:\\Users\\TUKUNA\\AppData\\Local\\Temp/ipykernel_14232/2309356834.py:40: FutureWarning: Pass y=[0.00627678 0.00540372 0.00460315 ... 0.01959233 0.01958188 0.01934223] as keyword args. From version 0.10 passing these as positional arguments will result in an error\n",
      "  mfcc= librosa.feature.mfcc(signal[start_sample:finish_sample],\n",
      "C:\\Users\\TUKUNA\\AppData\\Local\\Temp/ipykernel_14232/2309356834.py:40: FutureWarning: Pass y=[ 0.01911     0.01874499  0.01817999 ... -0.02676802 -0.02691963\n",
      " -0.02698318] as keyword args. From version 0.10 passing these as positional arguments will result in an error\n",
      "  mfcc= librosa.feature.mfcc(signal[start_sample:finish_sample],\n",
      "C:\\Users\\TUKUNA\\AppData\\Local\\Temp/ipykernel_14232/2309356834.py:40: FutureWarning: Pass y=[-0.02726247 -0.02749715 -0.02716548 ...  0.00374834  0.00797136\n",
      "  0.01080934] as keyword args. From version 0.10 passing these as positional arguments will result in an error\n",
      "  mfcc= librosa.feature.mfcc(signal[start_sample:finish_sample],\n",
      "C:\\Users\\TUKUNA\\AppData\\Local\\Temp/ipykernel_14232/2309356834.py:40: FutureWarning: Pass y=[ 0.01071436  0.00836673  0.00526969 ... -0.00392408 -0.00446867\n",
      " -0.00521599] as keyword args. From version 0.10 passing these as positional arguments will result in an error\n",
      "  mfcc= librosa.feature.mfcc(signal[start_sample:finish_sample],\n",
      "C:\\Users\\TUKUNA\\AppData\\Local\\Temp/ipykernel_14232/2309356834.py:40: FutureWarning: Pass y=[-0.00588177 -0.00630147 -0.00622165 ... -0.01795931 -0.01921285\n",
      " -0.01976869] as keyword args. From version 0.10 passing these as positional arguments will result in an error\n",
      "  mfcc= librosa.feature.mfcc(signal[start_sample:finish_sample],\n",
      "C:\\Users\\TUKUNA\\AppData\\Local\\Temp/ipykernel_14232/2309356834.py:40: FutureWarning: Pass y=[-0.01997067 -0.02008802 -0.0199528  ... -0.01373946 -0.014058\n",
      " -0.01388251] as keyword args. From version 0.10 passing these as positional arguments will result in an error\n",
      "  mfcc= librosa.feature.mfcc(signal[start_sample:finish_sample],\n",
      "C:\\Users\\TUKUNA\\AppData\\Local\\Temp/ipykernel_14232/2309356834.py:40: FutureWarning: Pass y=[-0.01330567 -0.01286111 -0.01204904 ... -0.00882541 -0.0084005\n",
      " -0.00701464] as keyword args. From version 0.10 passing these as positional arguments will result in an error\n",
      "  mfcc= librosa.feature.mfcc(signal[start_sample:finish_sample],\n",
      "C:\\Users\\TUKUNA\\AppData\\Local\\Temp/ipykernel_14232/2309356834.py:40: FutureWarning: Pass y=[-0.00537648 -0.00457187 -0.00417947 ... -0.00382362 -0.00391669\n",
      " -0.0039849 ] as keyword args. From version 0.10 passing these as positional arguments will result in an error\n",
      "  mfcc= librosa.feature.mfcc(signal[start_sample:finish_sample],\n",
      "C:\\Users\\TUKUNA\\AppData\\Local\\Temp/ipykernel_14232/2309356834.py:40: FutureWarning: Pass y=[-0.00383185 -0.00386312 -0.00405798 ... -0.01212957 -0.0094461\n",
      " -0.00797478] as keyword args. From version 0.10 passing these as positional arguments will result in an error\n",
      "  mfcc= librosa.feature.mfcc(signal[start_sample:finish_sample],\n",
      "C:\\Users\\TUKUNA\\AppData\\Local\\Temp/ipykernel_14232/2309356834.py:40: FutureWarning: Pass y=[-0.00766391 -0.00694092 -0.00628205 ... -0.00282646 -0.00459343\n",
      " -0.00603245] as keyword args. From version 0.10 passing these as positional arguments will result in an error\n",
      "  mfcc= librosa.feature.mfcc(signal[start_sample:finish_sample],\n",
      "C:\\Users\\TUKUNA\\AppData\\Local\\Temp/ipykernel_14232/2309356834.py:40: FutureWarning: Pass y=[-0.00681816 -0.00666168 -0.00595077 ...  0.011741    0.01052785\n",
      "  0.00919677] as keyword args. From version 0.10 passing these as positional arguments will result in an error\n",
      "  mfcc= librosa.feature.mfcc(signal[start_sample:finish_sample],\n",
      "C:\\Users\\TUKUNA\\AppData\\Local\\Temp/ipykernel_14232/2309356834.py:40: FutureWarning: Pass y=[0.00874996 0.0098388  0.011947   ... 0.0248031  0.02494393 0.02504162] as keyword args. From version 0.10 passing these as positional arguments will result in an error\n",
      "  mfcc= librosa.feature.mfcc(signal[start_sample:finish_sample],\n",
      "C:\\Users\\TUKUNA\\AppData\\Local\\Temp/ipykernel_14232/2309356834.py:40: FutureWarning: Pass y=[0.02530921 0.02574633 0.02617764 ... 0.00731091 0.00824939 0.00928277] as keyword args. From version 0.10 passing these as positional arguments will result in an error\n",
      "  mfcc= librosa.feature.mfcc(signal[start_sample:finish_sample],\n",
      "C:\\Users\\TUKUNA\\AppData\\Local\\Temp/ipykernel_14232/2309356834.py:40: FutureWarning: Pass y=[ 0.01077969  0.01228491  0.01280341 ... -0.00091549 -0.00058905\n",
      " -0.0006902 ] as keyword args. From version 0.10 passing these as positional arguments will result in an error\n",
      "  mfcc= librosa.feature.mfcc(signal[start_sample:finish_sample],\n",
      "C:\\Users\\TUKUNA\\AppData\\Local\\Temp/ipykernel_14232/2309356834.py:40: FutureWarning: Pass y=[-0.00086226 -0.00044483  0.00013017 ... -0.00847626 -0.00787317\n",
      " -0.00740737] as keyword args. From version 0.10 passing these as positional arguments will result in an error\n",
      "  mfcc= librosa.feature.mfcc(signal[start_sample:finish_sample],\n",
      "C:\\Users\\TUKUNA\\AppData\\Local\\Temp/ipykernel_14232/2309356834.py:40: FutureWarning: Pass y=[-0.00649053 -0.00555472 -0.00490398 ...  0.0099582   0.01004655\n",
      "  0.00989658] as keyword args. From version 0.10 passing these as positional arguments will result in an error\n",
      "  mfcc= librosa.feature.mfcc(signal[start_sample:finish_sample],\n",
      "C:\\Users\\TUKUNA\\AppData\\Local\\Temp/ipykernel_14232/2309356834.py:40: FutureWarning: Pass y=[ 0.00898178  0.00820242  0.0080817  ... -0.03615639 -0.03525854\n",
      " -0.03529982] as keyword args. From version 0.10 passing these as positional arguments will result in an error\n",
      "  mfcc= librosa.feature.mfcc(signal[start_sample:finish_sample],\n",
      "C:\\Users\\TUKUNA\\AppData\\Local\\Temp/ipykernel_14232/2309356834.py:40: FutureWarning: Pass y=[-0.03612295 -0.0376753  -0.03953518 ... -0.03664221 -0.03685039\n",
      " -0.03728778] as keyword args. From version 0.10 passing these as positional arguments will result in an error\n",
      "  mfcc= librosa.feature.mfcc(signal[start_sample:finish_sample],\n",
      "C:\\Users\\TUKUNA\\AppData\\Local\\Temp/ipykernel_14232/2309356834.py:40: FutureWarning: Pass y=[-0.03762462 -0.03818633 -0.03887594 ... -0.04279334 -0.05693629\n",
      " -0.06247734] as keyword args. From version 0.10 passing these as positional arguments will result in an error\n",
      "  mfcc= librosa.feature.mfcc(signal[start_sample:finish_sample],\n",
      "C:\\Users\\TUKUNA\\AppData\\Local\\Temp/ipykernel_14232/2309356834.py:40: FutureWarning: Pass y=[-0.058663   -0.04575617 -0.02463587 ... -0.00298072 -0.0030714\n",
      " -0.00387713] as keyword args. From version 0.10 passing these as positional arguments will result in an error\n",
      "  mfcc= librosa.feature.mfcc(signal[start_sample:finish_sample],\n",
      "C:\\Users\\TUKUNA\\AppData\\Local\\Temp/ipykernel_14232/2309356834.py:40: FutureWarning: Pass y=[-0.00540379 -0.00705058 -0.00854836 ...  0.00166241  0.00126343\n",
      "  0.0015229 ] as keyword args. From version 0.10 passing these as positional arguments will result in an error\n",
      "  mfcc= librosa.feature.mfcc(signal[start_sample:finish_sample],\n",
      "C:\\Users\\TUKUNA\\AppData\\Local\\Temp/ipykernel_14232/2309356834.py:40: FutureWarning: Pass y=[0.0020789  0.0021251  0.00140159 ... 0.00405927 0.00281419 0.00204056] as keyword args. From version 0.10 passing these as positional arguments will result in an error\n",
      "  mfcc= librosa.feature.mfcc(signal[start_sample:finish_sample],\n",
      "C:\\Users\\TUKUNA\\AppData\\Local\\Temp/ipykernel_14232/2309356834.py:40: FutureWarning: Pass y=[ 0.00150791  0.00116628  0.00059736 ... -0.02429644 -0.02492147\n",
      " -0.02474898] as keyword args. From version 0.10 passing these as positional arguments will result in an error\n",
      "  mfcc= librosa.feature.mfcc(signal[start_sample:finish_sample],\n"
     ]
    },
    {
     "name": "stdout",
     "output_type": "stream",
     "text": [
      "ocean_noise_data\\humpback_whale\\6301901L.wav, segment:24\n",
      "ocean_noise_data\\humpback_whale\\6301901L.wav, segment:25\n",
      "ocean_noise_data\\humpback_whale\\6301901L.wav, segment:26\n",
      "ocean_noise_data\\humpback_whale\\6301901L.wav, segment:27\n",
      "ocean_noise_data\\humpback_whale\\6301901L.wav, segment:28\n",
      "ocean_noise_data\\humpback_whale\\6301901L.wav, segment:29\n",
      "ocean_noise_data\\humpback_whale\\6301901L.wav, segment:30\n",
      "ocean_noise_data\\humpback_whale\\6301901L.wav, segment:31\n",
      "ocean_noise_data\\humpback_whale\\6301901L.wav, segment:32\n",
      "ocean_noise_data\\humpback_whale\\6301901L.wav, segment:33\n",
      "ocean_noise_data\\humpback_whale\\6301901L.wav, segment:34\n",
      "ocean_noise_data\\humpback_whale\\6301901L.wav, segment:35\n",
      "ocean_noise_data\\humpback_whale\\6301901L.wav, segment:36\n",
      "ocean_noise_data\\humpback_whale\\6301901L.wav, segment:37\n",
      "ocean_noise_data\\humpback_whale\\6301901L.wav, segment:38\n",
      "ocean_noise_data\\humpback_whale\\6301901L.wav, segment:39\n",
      "ocean_noise_data\\humpback_whale\\6301901L.wav, segment:40\n",
      "ocean_noise_data\\humpback_whale\\6301901L.wav, segment:41\n",
      "ocean_noise_data\\humpback_whale\\6301901L.wav, segment:42\n",
      "ocean_noise_data\\humpback_whale\\6301901L.wav, segment:43\n",
      "ocean_noise_data\\humpback_whale\\6301901L.wav, segment:44\n",
      "ocean_noise_data\\humpback_whale\\6301901L.wav, segment:45\n",
      "ocean_noise_data\\humpback_whale\\6301901L.wav, segment:46\n"
     ]
    },
    {
     "name": "stderr",
     "output_type": "stream",
     "text": [
      "C:\\Users\\TUKUNA\\AppData\\Local\\Temp/ipykernel_14232/2309356834.py:40: FutureWarning: Pass y=[-0.02386863 -0.02368017 -0.0243623  ...  0.01170608  0.01226716\n",
      "  0.01194792] as keyword args. From version 0.10 passing these as positional arguments will result in an error\n",
      "  mfcc= librosa.feature.mfcc(signal[start_sample:finish_sample],\n",
      "C:\\Users\\TUKUNA\\AppData\\Local\\Temp/ipykernel_14232/2309356834.py:40: FutureWarning: Pass y=[0.01174433 0.01237733 0.01279245 ... 0.01837695 0.01952963 0.02089766] as keyword args. From version 0.10 passing these as positional arguments will result in an error\n",
      "  mfcc= librosa.feature.mfcc(signal[start_sample:finish_sample],\n",
      "C:\\Users\\TUKUNA\\AppData\\Local\\Temp/ipykernel_14232/2309356834.py:40: FutureWarning: Pass y=[0.02280763 0.02419753 0.02493192 ... 0.00908751 0.00890491 0.00937351] as keyword args. From version 0.10 passing these as positional arguments will result in an error\n",
      "  mfcc= librosa.feature.mfcc(signal[start_sample:finish_sample],\n",
      "C:\\Users\\TUKUNA\\AppData\\Local\\Temp/ipykernel_14232/2309356834.py:40: FutureWarning: Pass y=[0.01051877 0.01049205 0.00950742 ... 0.00475026 0.01180993 0.0199174 ] as keyword args. From version 0.10 passing these as positional arguments will result in an error\n",
      "  mfcc= librosa.feature.mfcc(signal[start_sample:finish_sample],\n",
      "C:\\Users\\TUKUNA\\AppData\\Local\\Temp/ipykernel_14232/2309356834.py:40: FutureWarning: Pass y=[0.02690623 0.03086531 0.03033552 ... 0.01998771 0.02089408 0.02210371] as keyword args. From version 0.10 passing these as positional arguments will result in an error\n",
      "  mfcc= librosa.feature.mfcc(signal[start_sample:finish_sample],\n",
      "C:\\Users\\TUKUNA\\AppData\\Local\\Temp/ipykernel_14232/2309356834.py:40: FutureWarning: Pass y=[0.02341817 0.02474403 0.02615839 ... 0.04628862 0.04553309 0.04459477] as keyword args. From version 0.10 passing these as positional arguments will result in an error\n",
      "  mfcc= librosa.feature.mfcc(signal[start_sample:finish_sample],\n",
      "C:\\Users\\TUKUNA\\AppData\\Local\\Temp/ipykernel_14232/2309356834.py:40: FutureWarning: Pass y=[ 4.3822754e-02  4.3290652e-02  4.2922650e-02 ... -9.3668445e-05\n",
      "  1.0306451e-03  6.6503277e-04] as keyword args. From version 0.10 passing these as positional arguments will result in an error\n",
      "  mfcc= librosa.feature.mfcc(signal[start_sample:finish_sample],\n",
      "C:\\Users\\TUKUNA\\AppData\\Local\\Temp/ipykernel_14232/2309356834.py:40: FutureWarning: Pass y=[-9.5609403e-06  2.4234410e-04  5.6313962e-04 ...  5.8943820e-03\n",
      "  5.3336183e-03  5.5664373e-03] as keyword args. From version 0.10 passing these as positional arguments will result in an error\n",
      "  mfcc= librosa.feature.mfcc(signal[start_sample:finish_sample],\n",
      "C:\\Users\\TUKUNA\\AppData\\Local\\Temp/ipykernel_14232/2309356834.py:40: FutureWarning: Pass y=[ 0.0058317   0.00536348  0.00444372 ... -0.02218986 -0.00817989\n",
      "  0.00587482] as keyword args. From version 0.10 passing these as positional arguments will result in an error\n",
      "  mfcc= librosa.feature.mfcc(signal[start_sample:finish_sample],\n",
      "C:\\Users\\TUKUNA\\AppData\\Local\\Temp/ipykernel_14232/2309356834.py:40: FutureWarning: Pass y=[0.01990348 0.0340513  0.04736564 ... 0.07910491 0.0801586  0.0806657 ] as keyword args. From version 0.10 passing these as positional arguments will result in an error\n",
      "  mfcc= librosa.feature.mfcc(signal[start_sample:finish_sample],\n",
      "C:\\Users\\TUKUNA\\AppData\\Local\\Temp/ipykernel_14232/2309356834.py:40: FutureWarning: Pass y=[0.08064124 0.08050016 0.08047581 ... 0.03059541 0.03557635 0.0400799 ] as keyword args. From version 0.10 passing these as positional arguments will result in an error\n",
      "  mfcc= librosa.feature.mfcc(signal[start_sample:finish_sample],\n",
      "C:\\Users\\TUKUNA\\AppData\\Local\\Temp/ipykernel_14232/2309356834.py:40: FutureWarning: Pass y=[ 0.04352157  0.04574662  0.0465656  ... -0.004325   -0.00433448\n",
      " -0.00346082] as keyword args. From version 0.10 passing these as positional arguments will result in an error\n",
      "  mfcc= librosa.feature.mfcc(signal[start_sample:finish_sample],\n",
      "C:\\Users\\TUKUNA\\AppData\\Local\\Temp/ipykernel_14232/2309356834.py:40: FutureWarning: Pass y=[-0.00239384 -0.00127493  0.00046356 ... -0.00991521 -0.0095939\n",
      " -0.008652  ] as keyword args. From version 0.10 passing these as positional arguments will result in an error\n",
      "  mfcc= librosa.feature.mfcc(signal[start_sample:finish_sample],\n",
      "C:\\Users\\TUKUNA\\AppData\\Local\\Temp/ipykernel_14232/2309356834.py:40: FutureWarning: Pass y=[-0.00793486 -0.00779023 -0.00749077 ...  0.01279851  0.00725137\n",
      "  0.00193869] as keyword args. From version 0.10 passing these as positional arguments will result in an error\n",
      "  mfcc= librosa.feature.mfcc(signal[start_sample:finish_sample],\n",
      "C:\\Users\\TUKUNA\\AppData\\Local\\Temp/ipykernel_14232/2309356834.py:40: FutureWarning: Pass y=[-0.00453687 -0.0124734  -0.02082862 ... -0.00233942 -0.00220328\n",
      " -0.00199271] as keyword args. From version 0.10 passing these as positional arguments will result in an error\n",
      "  mfcc= librosa.feature.mfcc(signal[start_sample:finish_sample],\n",
      "C:\\Users\\TUKUNA\\AppData\\Local\\Temp/ipykernel_14232/2309356834.py:40: FutureWarning: Pass y=[-0.00186547 -0.00082725  0.00065249 ...  0.032686    0.03187501\n",
      "  0.03068786] as keyword args. From version 0.10 passing these as positional arguments will result in an error\n",
      "  mfcc= librosa.feature.mfcc(signal[start_sample:finish_sample],\n",
      "C:\\Users\\TUKUNA\\AppData\\Local\\Temp/ipykernel_14232/2309356834.py:40: FutureWarning: Pass y=[ 0.02925528  0.02792584  0.02676803 ... -0.04091079 -0.04275616\n",
      " -0.04523312] as keyword args. From version 0.10 passing these as positional arguments will result in an error\n",
      "  mfcc= librosa.feature.mfcc(signal[start_sample:finish_sample],\n",
      "C:\\Users\\TUKUNA\\AppData\\Local\\Temp/ipykernel_14232/2309356834.py:40: FutureWarning: Pass y=[-0.04780582 -0.05081109 -0.05535    ... -0.01981767 -0.01915256\n",
      " -0.01864913] as keyword args. From version 0.10 passing these as positional arguments will result in an error\n",
      "  mfcc= librosa.feature.mfcc(signal[start_sample:finish_sample],\n",
      "C:\\Users\\TUKUNA\\AppData\\Local\\Temp/ipykernel_14232/2309356834.py:40: FutureWarning: Pass y=[-0.01932813 -0.02053086 -0.02217138 ... -0.01171395 -0.01012258\n",
      " -0.00882116] as keyword args. From version 0.10 passing these as positional arguments will result in an error\n",
      "  mfcc= librosa.feature.mfcc(signal[start_sample:finish_sample],\n",
      "C:\\Users\\TUKUNA\\AppData\\Local\\Temp/ipykernel_14232/2309356834.py:40: FutureWarning: Pass y=[-0.00823631 -0.00724394 -0.00539521 ... -0.02263163 -0.02403991\n",
      " -0.02627389] as keyword args. From version 0.10 passing these as positional arguments will result in an error\n",
      "  mfcc= librosa.feature.mfcc(signal[start_sample:finish_sample],\n",
      "C:\\Users\\TUKUNA\\AppData\\Local\\Temp/ipykernel_14232/2309356834.py:40: FutureWarning: Pass y=[-0.02802394 -0.02933572 -0.03105095 ... -0.00436141 -0.00363542\n",
      " -0.00338965] as keyword args. From version 0.10 passing these as positional arguments will result in an error\n",
      "  mfcc= librosa.feature.mfcc(signal[start_sample:finish_sample],\n",
      "C:\\Users\\TUKUNA\\AppData\\Local\\Temp/ipykernel_14232/2309356834.py:40: FutureWarning: Pass y=[-0.00285437 -0.00212008 -0.00221244 ...  0.00374869  0.00322253\n",
      "  0.00307605] as keyword args. From version 0.10 passing these as positional arguments will result in an error\n",
      "  mfcc= librosa.feature.mfcc(signal[start_sample:finish_sample],\n",
      "C:\\Users\\TUKUNA\\AppData\\Local\\Temp/ipykernel_14232/2309356834.py:40: FutureWarning: Pass y=[ 0.00275013  0.00193099  0.0015594  ... -0.01555934 -0.01427615\n",
      " -0.01365403] as keyword args. From version 0.10 passing these as positional arguments will result in an error\n",
      "  mfcc= librosa.feature.mfcc(signal[start_sample:finish_sample],\n"
     ]
    },
    {
     "name": "stdout",
     "output_type": "stream",
     "text": [
      "ocean_noise_data\\humpback_whale\\6301901L.wav, segment:47\n",
      "ocean_noise_data\\humpback_whale\\6301901L.wav, segment:48\n",
      "ocean_noise_data\\humpback_whale\\6301901L.wav, segment:49\n",
      "ocean_noise_data\\humpback_whale\\6301901L.wav, segment:50\n",
      "ocean_noise_data\\humpback_whale\\6301901L.wav, segment:51\n",
      "ocean_noise_data\\humpback_whale\\6301901L.wav, segment:52\n",
      "ocean_noise_data\\humpback_whale\\6301901L.wav, segment:53\n",
      "ocean_noise_data\\humpback_whale\\6301901L.wav, segment:54\n",
      "ocean_noise_data\\humpback_whale\\6301901L.wav, segment:55\n",
      "ocean_noise_data\\humpback_whale\\6301901L.wav, segment:56\n",
      "ocean_noise_data\\humpback_whale\\6301901L.wav, segment:57\n",
      "ocean_noise_data\\humpback_whale\\6301901L.wav, segment:58\n",
      "ocean_noise_data\\humpback_whale\\6301901L.wav, segment:59\n",
      "ocean_noise_data\\humpback_whale\\6301901L.wav, segment:60\n",
      "ocean_noise_data\\humpback_whale\\6301901L.wav, segment:61\n",
      "ocean_noise_data\\humpback_whale\\6301901L.wav, segment:62\n",
      "ocean_noise_data\\humpback_whale\\6301901L.wav, segment:63\n",
      "ocean_noise_data\\humpback_whale\\6301901L.wav, segment:64\n",
      "ocean_noise_data\\humpback_whale\\6301901L.wav, segment:65\n",
      "ocean_noise_data\\humpback_whale\\6301901L.wav, segment:66\n",
      "ocean_noise_data\\humpback_whale\\6301901L.wav, segment:67\n",
      "ocean_noise_data\\humpback_whale\\6301901L.wav, segment:68\n",
      "ocean_noise_data\\humpback_whale\\6301901L.wav, segment:69\n"
     ]
    },
    {
     "name": "stderr",
     "output_type": "stream",
     "text": [
      "C:\\Users\\TUKUNA\\AppData\\Local\\Temp/ipykernel_14232/2309356834.py:31: FutureWarning: Pass y=[-0.0019059  -0.00292119 -0.00274374 ...  0.0156628   0.01347978\n",
      "  0.        ] as keyword args. From version 0.10 passing these as positional arguments will result in an error\n",
      "  if librosa.get_duration(signal)>10:\n",
      "C:\\Users\\TUKUNA\\AppData\\Local\\Temp/ipykernel_14232/2309356834.py:32: FutureWarning: Pass y=[-0.0019059  -0.00292119 -0.00274374 ...  0.0156628   0.01347978\n",
      "  0.        ] as keyword args. From version 0.10 passing these as positional arguments will result in an error\n",
      "  num_segments=int(librosa.get_duration(signal)/10)\n",
      "C:\\Users\\TUKUNA\\AppData\\Local\\Temp/ipykernel_14232/2309356834.py:40: FutureWarning: Pass y=[-0.0019059  -0.00292119 -0.00274374 ...  0.01850842  0.01744136\n",
      "  0.01600652] as keyword args. From version 0.10 passing these as positional arguments will result in an error\n",
      "  mfcc= librosa.feature.mfcc(signal[start_sample:finish_sample],\n",
      "C:\\Users\\TUKUNA\\AppData\\Local\\Temp/ipykernel_14232/2309356834.py:40: FutureWarning: Pass y=[0.01504896 0.01475341 0.01478082 ... 0.02350288 0.02261609 0.02120971] as keyword args. From version 0.10 passing these as positional arguments will result in an error\n",
      "  mfcc= librosa.feature.mfcc(signal[start_sample:finish_sample],\n",
      "C:\\Users\\TUKUNA\\AppData\\Local\\Temp/ipykernel_14232/2309356834.py:40: FutureWarning: Pass y=[0.01960106 0.01737528 0.01450257 ... 0.00377532 0.00666109 0.00988522] as keyword args. From version 0.10 passing these as positional arguments will result in an error\n",
      "  mfcc= librosa.feature.mfcc(signal[start_sample:finish_sample],\n",
      "C:\\Users\\TUKUNA\\AppData\\Local\\Temp/ipykernel_14232/2309356834.py:40: FutureWarning: Pass y=[0.0131786  0.01624189 0.01890999 ... 0.00296416 0.00453023 0.00578228] as keyword args. From version 0.10 passing these as positional arguments will result in an error\n",
      "  mfcc= librosa.feature.mfcc(signal[start_sample:finish_sample],\n",
      "C:\\Users\\TUKUNA\\AppData\\Local\\Temp/ipykernel_14232/2309356834.py:40: FutureWarning: Pass y=[ 0.00644568  0.00744739  0.00912984 ... -0.00346735 -0.01217586\n",
      " -0.01532197] as keyword args. From version 0.10 passing these as positional arguments will result in an error\n",
      "  mfcc= librosa.feature.mfcc(signal[start_sample:finish_sample],\n",
      "C:\\Users\\TUKUNA\\AppData\\Local\\Temp/ipykernel_14232/2309356834.py:40: FutureWarning: Pass y=[-0.01117603 -0.00118821  0.01166192 ...  0.01463223  0.01456591\n",
      "  0.01484851] as keyword args. From version 0.10 passing these as positional arguments will result in an error\n",
      "  mfcc= librosa.feature.mfcc(signal[start_sample:finish_sample],\n",
      "C:\\Users\\TUKUNA\\AppData\\Local\\Temp/ipykernel_14232/2309356834.py:40: FutureWarning: Pass y=[0.01457739 0.01336721 0.01226331 ... 0.09432983 0.0942386  0.09381974] as keyword args. From version 0.10 passing these as positional arguments will result in an error\n",
      "  mfcc= librosa.feature.mfcc(signal[start_sample:finish_sample],\n",
      "C:\\Users\\TUKUNA\\AppData\\Local\\Temp/ipykernel_14232/2309356834.py:40: FutureWarning: Pass y=[ 0.0919219   0.08832668  0.08396921 ...  0.00253875  0.00064537\n",
      " -0.000389  ] as keyword args. From version 0.10 passing these as positional arguments will result in an error\n",
      "  mfcc= librosa.feature.mfcc(signal[start_sample:finish_sample],\n",
      "C:\\Users\\TUKUNA\\AppData\\Local\\Temp/ipykernel_14232/2309356834.py:40: FutureWarning: Pass y=[-0.00101825 -0.0016188  -0.00214421 ... -0.0092488  -0.00901453\n",
      " -0.00868309] as keyword args. From version 0.10 passing these as positional arguments will result in an error\n",
      "  mfcc= librosa.feature.mfcc(signal[start_sample:finish_sample],\n",
      "C:\\Users\\TUKUNA\\AppData\\Local\\Temp/ipykernel_14232/2309356834.py:40: FutureWarning: Pass y=[-0.00879402 -0.00885886 -0.00868192 ... -0.01616309 -0.01694298\n",
      " -0.01789656] as keyword args. From version 0.10 passing these as positional arguments will result in an error\n",
      "  mfcc= librosa.feature.mfcc(signal[start_sample:finish_sample],\n",
      "C:\\Users\\TUKUNA\\AppData\\Local\\Temp/ipykernel_14232/2309356834.py:40: FutureWarning: Pass y=[-0.0181442  -0.01825881 -0.01882207 ... -0.00625797 -0.00730539\n",
      " -0.00837634] as keyword args. From version 0.10 passing these as positional arguments will result in an error\n",
      "  mfcc= librosa.feature.mfcc(signal[start_sample:finish_sample],\n"
     ]
    },
    {
     "name": "stdout",
     "output_type": "stream",
     "text": [
      "ocean_noise_data\\humpback_whale\\6301901M.wav, segment:0\n",
      "ocean_noise_data\\humpback_whale\\6301901M.wav, segment:1\n",
      "ocean_noise_data\\humpback_whale\\6301901M.wav, segment:2\n",
      "ocean_noise_data\\humpback_whale\\6301901M.wav, segment:3\n",
      "ocean_noise_data\\humpback_whale\\6301901M.wav, segment:4\n",
      "ocean_noise_data\\humpback_whale\\6301901M.wav, segment:5\n",
      "ocean_noise_data\\humpback_whale\\6301901M.wav, segment:6\n",
      "ocean_noise_data\\humpback_whale\\6301901M.wav, segment:7\n",
      "ocean_noise_data\\humpback_whale\\6301901M.wav, segment:8\n",
      "ocean_noise_data\\humpback_whale\\6301901M.wav, segment:9\n",
      "ocean_noise_data\\humpback_whale\\6301901M.wav, segment:10\n"
     ]
    },
    {
     "name": "stderr",
     "output_type": "stream",
     "text": [
      "C:\\Users\\TUKUNA\\AppData\\Local\\Temp/ipykernel_14232/2309356834.py:31: FutureWarning: Pass y=[-0.0033014  -0.00349201 -0.00258162 ... -0.00311615 -0.00303018\n",
      "  0.        ] as keyword args. From version 0.10 passing these as positional arguments will result in an error\n",
      "  if librosa.get_duration(signal)>10:\n",
      "C:\\Users\\TUKUNA\\AppData\\Local\\Temp/ipykernel_14232/2309356834.py:32: FutureWarning: Pass y=[-0.0033014  -0.00349201 -0.00258162 ... -0.00311615 -0.00303018\n",
      "  0.        ] as keyword args. From version 0.10 passing these as positional arguments will result in an error\n",
      "  num_segments=int(librosa.get_duration(signal)/10)\n",
      "C:\\Users\\TUKUNA\\AppData\\Local\\Temp/ipykernel_14232/2309356834.py:40: FutureWarning: Pass y=[-0.0033014  -0.00349201 -0.00258162 ...  0.00489757  0.00479363\n",
      "  0.00496514] as keyword args. From version 0.10 passing these as positional arguments will result in an error\n",
      "  mfcc= librosa.feature.mfcc(signal[start_sample:finish_sample],\n",
      "C:\\Users\\TUKUNA\\AppData\\Local\\Temp/ipykernel_14232/2309356834.py:40: FutureWarning: Pass y=[0.00486905 0.0045357  0.00435993 ... 0.10165407 0.10199338 0.10195285] as keyword args. From version 0.10 passing these as positional arguments will result in an error\n",
      "  mfcc= librosa.feature.mfcc(signal[start_sample:finish_sample],\n",
      "C:\\Users\\TUKUNA\\AppData\\Local\\Temp/ipykernel_14232/2309356834.py:40: FutureWarning: Pass y=[0.10317618 0.10447084 0.10174586 ... 0.07071772 0.04322152 0.01744327] as keyword args. From version 0.10 passing these as positional arguments will result in an error\n",
      "  mfcc= librosa.feature.mfcc(signal[start_sample:finish_sample],\n",
      "C:\\Users\\TUKUNA\\AppData\\Local\\Temp/ipykernel_14232/2309356834.py:40: FutureWarning: Pass y=[-0.00608947 -0.02674665 -0.0439761  ...  0.00968475  0.01118423\n",
      "  0.0121188 ] as keyword args. From version 0.10 passing these as positional arguments will result in an error\n",
      "  mfcc= librosa.feature.mfcc(signal[start_sample:finish_sample],\n",
      "C:\\Users\\TUKUNA\\AppData\\Local\\Temp/ipykernel_14232/2309356834.py:40: FutureWarning: Pass y=[ 0.01271234  0.01234011  0.01083358 ... -0.04538752 -0.04581647\n",
      " -0.04595582] as keyword args. From version 0.10 passing these as positional arguments will result in an error\n",
      "  mfcc= librosa.feature.mfcc(signal[start_sample:finish_sample],\n",
      "C:\\Users\\TUKUNA\\AppData\\Local\\Temp/ipykernel_14232/2309356834.py:40: FutureWarning: Pass y=[-0.04641782 -0.04688793 -0.04651144 ... -0.02053661 -0.02056207\n",
      " -0.02032006] as keyword args. From version 0.10 passing these as positional arguments will result in an error\n",
      "  mfcc= librosa.feature.mfcc(signal[start_sample:finish_sample],\n",
      "C:\\Users\\TUKUNA\\AppData\\Local\\Temp/ipykernel_14232/2309356834.py:40: FutureWarning: Pass y=[-0.02008666 -0.01996282 -0.02000784 ... -0.1259933  -0.12478568\n",
      " -0.12223357] as keyword args. From version 0.10 passing these as positional arguments will result in an error\n",
      "  mfcc= librosa.feature.mfcc(signal[start_sample:finish_sample],\n",
      "C:\\Users\\TUKUNA\\AppData\\Local\\Temp/ipykernel_14232/2309356834.py:40: FutureWarning: Pass y=[-0.11911331 -0.11426877 -0.10647846 ...  0.08151747  0.08248018\n",
      "  0.08223834] as keyword args. From version 0.10 passing these as positional arguments will result in an error\n",
      "  mfcc= librosa.feature.mfcc(signal[start_sample:finish_sample],\n",
      "C:\\Users\\TUKUNA\\AppData\\Local\\Temp/ipykernel_14232/2309356834.py:40: FutureWarning: Pass y=[0.08111143 0.07853173 0.07405346 ... 0.01615343 0.01600146 0.0162123 ] as keyword args. From version 0.10 passing these as positional arguments will result in an error\n",
      "  mfcc= librosa.feature.mfcc(signal[start_sample:finish_sample],\n",
      "C:\\Users\\TUKUNA\\AppData\\Local\\Temp/ipykernel_14232/2309356834.py:40: FutureWarning: Pass y=[0.0166182  0.01731161 0.01762094 ... 0.04199895 0.04240092 0.04242034] as keyword args. From version 0.10 passing these as positional arguments will result in an error\n",
      "  mfcc= librosa.feature.mfcc(signal[start_sample:finish_sample],\n"
     ]
    },
    {
     "name": "stdout",
     "output_type": "stream",
     "text": [
      "ocean_noise_data\\humpback_whale\\6301901N.wav, segment:0\n",
      "ocean_noise_data\\humpback_whale\\6301901N.wav, segment:1\n",
      "ocean_noise_data\\humpback_whale\\6301901N.wav, segment:2\n",
      "ocean_noise_data\\humpback_whale\\6301901N.wav, segment:3\n",
      "ocean_noise_data\\humpback_whale\\6301901N.wav, segment:4\n",
      "ocean_noise_data\\humpback_whale\\6301901N.wav, segment:5\n",
      "ocean_noise_data\\humpback_whale\\6301901N.wav, segment:6\n",
      "ocean_noise_data\\humpback_whale\\6301901N.wav, segment:7\n",
      "ocean_noise_data\\humpback_whale\\6301901N.wav, segment:8\n",
      "ocean_noise_data\\humpback_whale\\6301901N.wav, segment:9\n"
     ]
    },
    {
     "name": "stderr",
     "output_type": "stream",
     "text": [
      "C:\\Users\\TUKUNA\\AppData\\Local\\Temp/ipykernel_14232/2309356834.py:31: FutureWarning: Pass y=[ 0.00794403  0.00963048  0.00856041 ... -0.03873931 -0.03059949\n",
      "  0.        ] as keyword args. From version 0.10 passing these as positional arguments will result in an error\n",
      "  if librosa.get_duration(signal)>10:\n",
      "C:\\Users\\TUKUNA\\AppData\\Local\\Temp/ipykernel_14232/2309356834.py:32: FutureWarning: Pass y=[ 0.00794403  0.00963048  0.00856041 ... -0.03873931 -0.03059949\n",
      "  0.        ] as keyword args. From version 0.10 passing these as positional arguments will result in an error\n",
      "  num_segments=int(librosa.get_duration(signal)/10)\n",
      "C:\\Users\\TUKUNA\\AppData\\Local\\Temp/ipykernel_14232/2309356834.py:40: FutureWarning: Pass y=[ 0.00794403  0.00963048  0.00856041 ... -0.00445624 -0.00324006\n",
      " -0.00152817] as keyword args. From version 0.10 passing these as positional arguments will result in an error\n",
      "  mfcc= librosa.feature.mfcc(signal[start_sample:finish_sample],\n",
      "C:\\Users\\TUKUNA\\AppData\\Local\\Temp/ipykernel_14232/2309356834.py:40: FutureWarning: Pass y=[ 9.5351995e-04  4.7068354e-03  9.1447309e-03 ... -9.9918479e-04\n",
      " -8.4190507e-04  3.0510942e-05] as keyword args. From version 0.10 passing these as positional arguments will result in an error\n",
      "  mfcc= librosa.feature.mfcc(signal[start_sample:finish_sample],\n",
      "C:\\Users\\TUKUNA\\AppData\\Local\\Temp/ipykernel_14232/2309356834.py:40: FutureWarning: Pass y=[0.00095094 0.00150665 0.00286089 ... 0.00129555 0.00305511 0.00373164] as keyword args. From version 0.10 passing these as positional arguments will result in an error\n",
      "  mfcc= librosa.feature.mfcc(signal[start_sample:finish_sample],\n",
      "C:\\Users\\TUKUNA\\AppData\\Local\\Temp/ipykernel_14232/2309356834.py:40: FutureWarning: Pass y=[0.00425828 0.00593424 0.00807215 ... 0.00052582 0.00095245 0.00085848] as keyword args. From version 0.10 passing these as positional arguments will result in an error\n",
      "  mfcc= librosa.feature.mfcc(signal[start_sample:finish_sample],\n",
      "C:\\Users\\TUKUNA\\AppData\\Local\\Temp/ipykernel_14232/2309356834.py:40: FutureWarning: Pass y=[ 0.00106694  0.0013068   0.00147914 ... -0.01223288 -0.01047477\n",
      " -0.00825441] as keyword args. From version 0.10 passing these as positional arguments will result in an error\n",
      "  mfcc= librosa.feature.mfcc(signal[start_sample:finish_sample],\n",
      "C:\\Users\\TUKUNA\\AppData\\Local\\Temp/ipykernel_14232/2309356834.py:40: FutureWarning: Pass y=[-0.00630884 -0.00421749 -0.00151104 ...  0.02994788  0.02887064\n",
      "  0.02751435] as keyword args. From version 0.10 passing these as positional arguments will result in an error\n",
      "  mfcc= librosa.feature.mfcc(signal[start_sample:finish_sample],\n",
      "C:\\Users\\TUKUNA\\AppData\\Local\\Temp/ipykernel_14232/2309356834.py:40: FutureWarning: Pass y=[0.0259888  0.02431362 0.0221172  ... 0.00491197 0.00241108 0.00109332] as keyword args. From version 0.10 passing these as positional arguments will result in an error\n",
      "  mfcc= librosa.feature.mfcc(signal[start_sample:finish_sample],\n",
      "C:\\Users\\TUKUNA\\AppData\\Local\\Temp/ipykernel_14232/2309356834.py:40: FutureWarning: Pass y=[ 0.00092899  0.00052816 -0.00065689 ...  0.01703118  0.02089425\n",
      "  0.02324454] as keyword args. From version 0.10 passing these as positional arguments will result in an error\n",
      "  mfcc= librosa.feature.mfcc(signal[start_sample:finish_sample],\n",
      "C:\\Users\\TUKUNA\\AppData\\Local\\Temp/ipykernel_14232/2309356834.py:40: FutureWarning: Pass y=[ 0.02357535  0.0219636   0.01964519 ...  0.00113785 -0.00073755\n",
      " -0.00089435] as keyword args. From version 0.10 passing these as positional arguments will result in an error\n",
      "  mfcc= librosa.feature.mfcc(signal[start_sample:finish_sample],\n",
      "C:\\Users\\TUKUNA\\AppData\\Local\\Temp/ipykernel_14232/2309356834.py:40: FutureWarning: Pass y=[3.5006196e-05 1.4569324e-03 3.6476054e-03 ... 5.5080405e-03 5.5056354e-03\n",
      " 5.8750878e-03] as keyword args. From version 0.10 passing these as positional arguments will result in an error\n",
      "  mfcc= librosa.feature.mfcc(signal[start_sample:finish_sample],\n",
      "C:\\Users\\TUKUNA\\AppData\\Local\\Temp/ipykernel_14232/2309356834.py:40: FutureWarning: Pass y=[ 0.00547225  0.00485449  0.00486453 ... -0.00726206 -0.00909601\n",
      " -0.01133676] as keyword args. From version 0.10 passing these as positional arguments will result in an error\n",
      "  mfcc= librosa.feature.mfcc(signal[start_sample:finish_sample],\n",
      "C:\\Users\\TUKUNA\\AppData\\Local\\Temp/ipykernel_14232/2309356834.py:40: FutureWarning: Pass y=[-0.01324593 -0.01369697 -0.01352447 ...  0.02347187  0.02353003\n",
      "  0.0230765 ] as keyword args. From version 0.10 passing these as positional arguments will result in an error\n",
      "  mfcc= librosa.feature.mfcc(signal[start_sample:finish_sample],\n",
      "C:\\Users\\TUKUNA\\AppData\\Local\\Temp/ipykernel_14232/2309356834.py:40: FutureWarning: Pass y=[0.02150415 0.01938983 0.01781286 ... 0.0156234  0.01503086 0.01444758] as keyword args. From version 0.10 passing these as positional arguments will result in an error\n",
      "  mfcc= librosa.feature.mfcc(signal[start_sample:finish_sample],\n",
      "C:\\Users\\TUKUNA\\AppData\\Local\\Temp/ipykernel_14232/2309356834.py:40: FutureWarning: Pass y=[0.01464553 0.01508313 0.01509709 ... 0.09676954 0.10244551 0.10344683] as keyword args. From version 0.10 passing these as positional arguments will result in an error\n",
      "  mfcc= librosa.feature.mfcc(signal[start_sample:finish_sample],\n",
      "C:\\Users\\TUKUNA\\AppData\\Local\\Temp/ipykernel_14232/2309356834.py:40: FutureWarning: Pass y=[ 0.09953739  0.09208465  0.08135932 ... -0.00853384  0.00046395\n",
      "  0.00830323] as keyword args. From version 0.10 passing these as positional arguments will result in an error\n",
      "  mfcc= librosa.feature.mfcc(signal[start_sample:finish_sample],\n"
     ]
    },
    {
     "name": "stdout",
     "output_type": "stream",
     "text": [
      "ocean_noise_data\\humpback_whale\\6301901T.wav, segment:0\n",
      "ocean_noise_data\\humpback_whale\\6301901T.wav, segment:1\n",
      "ocean_noise_data\\humpback_whale\\6301901T.wav, segment:2\n",
      "ocean_noise_data\\humpback_whale\\6301901T.wav, segment:3\n",
      "ocean_noise_data\\humpback_whale\\6301901T.wav, segment:4\n",
      "ocean_noise_data\\humpback_whale\\6301901T.wav, segment:5\n",
      "ocean_noise_data\\humpback_whale\\6301901T.wav, segment:6\n",
      "ocean_noise_data\\humpback_whale\\6301901T.wav, segment:7\n",
      "ocean_noise_data\\humpback_whale\\6301901T.wav, segment:8\n",
      "ocean_noise_data\\humpback_whale\\6301901T.wav, segment:9\n",
      "ocean_noise_data\\humpback_whale\\6301901T.wav, segment:10\n",
      "ocean_noise_data\\humpback_whale\\6301901T.wav, segment:11\n",
      "ocean_noise_data\\humpback_whale\\6301901T.wav, segment:12\n",
      "ocean_noise_data\\humpback_whale\\6301901T.wav, segment:13\n",
      "ocean_noise_data\\humpback_whale\\6301901T.wav, segment:14\n"
     ]
    },
    {
     "name": "stderr",
     "output_type": "stream",
     "text": [
      "C:\\Users\\TUKUNA\\AppData\\Local\\Temp/ipykernel_14232/2309356834.py:31: FutureWarning: Pass y=[ 0.0130936   0.01526762  0.013098   ... -0.03498483 -0.03462721\n",
      "  0.        ] as keyword args. From version 0.10 passing these as positional arguments will result in an error\n",
      "  if librosa.get_duration(signal)>10:\n",
      "C:\\Users\\TUKUNA\\AppData\\Local\\Temp/ipykernel_14232/2309356834.py:32: FutureWarning: Pass y=[ 0.0130936   0.01526762  0.013098   ... -0.03498483 -0.03462721\n",
      "  0.        ] as keyword args. From version 0.10 passing these as positional arguments will result in an error\n",
      "  num_segments=int(librosa.get_duration(signal)/10)\n",
      "C:\\Users\\TUKUNA\\AppData\\Local\\Temp/ipykernel_14232/2309356834.py:40: FutureWarning: Pass y=[ 0.0130936   0.01526762  0.013098   ... -0.00239416 -0.00089472\n",
      "  0.00051293] as keyword args. From version 0.10 passing these as positional arguments will result in an error\n",
      "  mfcc= librosa.feature.mfcc(signal[start_sample:finish_sample],\n"
     ]
    },
    {
     "name": "stdout",
     "output_type": "stream",
     "text": [
      "ocean_noise_data\\humpback_whale\\6301901U.wav, segment:0\n"
     ]
    },
    {
     "name": "stderr",
     "output_type": "stream",
     "text": [
      "C:\\Users\\TUKUNA\\AppData\\Local\\Temp/ipykernel_14232/2309356834.py:31: FutureWarning: Pass y=[0.01593521 0.01804761 0.0142676  ... 0.03049042 0.02641358 0.        ] as keyword args. From version 0.10 passing these as positional arguments will result in an error\n",
      "  if librosa.get_duration(signal)>10:\n",
      "C:\\Users\\TUKUNA\\AppData\\Local\\Temp/ipykernel_14232/2309356834.py:32: FutureWarning: Pass y=[0.01593521 0.01804761 0.0142676  ... 0.03049042 0.02641358 0.        ] as keyword args. From version 0.10 passing these as positional arguments will result in an error\n",
      "  num_segments=int(librosa.get_duration(signal)/10)\n",
      "C:\\Users\\TUKUNA\\AppData\\Local\\Temp/ipykernel_14232/2309356834.py:40: FutureWarning: Pass y=[0.01593521 0.01804761 0.0142676  ... 0.02211773 0.02210092 0.02257787] as keyword args. From version 0.10 passing these as positional arguments will result in an error\n",
      "  mfcc= librosa.feature.mfcc(signal[start_sample:finish_sample],\n"
     ]
    },
    {
     "name": "stdout",
     "output_type": "stream",
     "text": [
      "ocean_noise_data\\humpback_whale\\6301901V.wav, segment:0\n"
     ]
    },
    {
     "name": "stderr",
     "output_type": "stream",
     "text": [
      "C:\\Users\\TUKUNA\\AppData\\Local\\Temp/ipykernel_14232/2309356834.py:31: FutureWarning: Pass y=[-0.0256285  -0.0288843  -0.0220432  ...  0.03370215  0.03771853\n",
      "  0.        ] as keyword args. From version 0.10 passing these as positional arguments will result in an error\n",
      "  if librosa.get_duration(signal)>10:\n",
      "C:\\Users\\TUKUNA\\AppData\\Local\\Temp/ipykernel_14232/2309356834.py:32: FutureWarning: Pass y=[-0.0256285  -0.0288843  -0.0220432  ...  0.03370215  0.03771853\n",
      "  0.        ] as keyword args. From version 0.10 passing these as positional arguments will result in an error\n",
      "  num_segments=int(librosa.get_duration(signal)/10)\n",
      "C:\\Users\\TUKUNA\\AppData\\Local\\Temp/ipykernel_14232/2309356834.py:40: FutureWarning: Pass y=[-0.0256285  -0.0288843  -0.0220432  ...  0.03582727  0.03692057\n",
      "  0.03886263] as keyword args. From version 0.10 passing these as positional arguments will result in an error\n",
      "  mfcc= librosa.feature.mfcc(signal[start_sample:finish_sample],\n"
     ]
    },
    {
     "name": "stdout",
     "output_type": "stream",
     "text": [
      "ocean_noise_data\\humpback_whale\\6304300E.wav, segment:0\n"
     ]
    },
    {
     "name": "stderr",
     "output_type": "stream",
     "text": [
      "C:\\Users\\TUKUNA\\AppData\\Local\\Temp/ipykernel_14232/2309356834.py:31: FutureWarning: Pass y=[-0.15559117 -0.18972102 -0.17722766 ... -0.0516856  -0.0568092\n",
      "  0.        ] as keyword args. From version 0.10 passing these as positional arguments will result in an error\n",
      "  if librosa.get_duration(signal)>10:\n",
      "C:\\Users\\TUKUNA\\AppData\\Local\\Temp/ipykernel_14232/2309356834.py:32: FutureWarning: Pass y=[-0.15559117 -0.18972102 -0.17722766 ... -0.0516856  -0.0568092\n",
      "  0.        ] as keyword args. From version 0.10 passing these as positional arguments will result in an error\n",
      "  num_segments=int(librosa.get_duration(signal)/10)\n",
      "C:\\Users\\TUKUNA\\AppData\\Local\\Temp/ipykernel_14232/2309356834.py:40: FutureWarning: Pass y=[-0.15559117 -0.18972102 -0.17722766 ...  0.06588265  0.07131491\n",
      "  0.07571087] as keyword args. From version 0.10 passing these as positional arguments will result in an error\n",
      "  mfcc= librosa.feature.mfcc(signal[start_sample:finish_sample],\n",
      "C:\\Users\\TUKUNA\\AppData\\Local\\Temp/ipykernel_14232/2309356834.py:40: FutureWarning: Pass y=[ 0.08169391  0.08769819  0.08966442 ... -0.02171629 -0.02378559\n",
      " -0.02483808] as keyword args. From version 0.10 passing these as positional arguments will result in an error\n",
      "  mfcc= librosa.feature.mfcc(signal[start_sample:finish_sample],\n"
     ]
    },
    {
     "name": "stdout",
     "output_type": "stream",
     "text": [
      "ocean_noise_data\\humpback_whale\\6304300F.wav, segment:0\n",
      "ocean_noise_data\\humpback_whale\\6304300F.wav, segment:1\n"
     ]
    },
    {
     "name": "stderr",
     "output_type": "stream",
     "text": [
      "C:\\Users\\TUKUNA\\AppData\\Local\\Temp/ipykernel_14232/2309356834.py:31: FutureWarning: Pass y=[ 0.0408011   0.0473556   0.03936409 ... -0.07267091 -0.06415696\n",
      "  0.        ] as keyword args. From version 0.10 passing these as positional arguments will result in an error\n",
      "  if librosa.get_duration(signal)>10:\n",
      "C:\\Users\\TUKUNA\\AppData\\Local\\Temp/ipykernel_14232/2309356834.py:32: FutureWarning: Pass y=[ 0.0408011   0.0473556   0.03936409 ... -0.07267091 -0.06415696\n",
      "  0.        ] as keyword args. From version 0.10 passing these as positional arguments will result in an error\n",
      "  num_segments=int(librosa.get_duration(signal)/10)\n",
      "C:\\Users\\TUKUNA\\AppData\\Local\\Temp/ipykernel_14232/2309356834.py:40: FutureWarning: Pass y=[0.0408011  0.0473556  0.03936409 ... 0.02895599 0.02561738 0.02279441] as keyword args. From version 0.10 passing these as positional arguments will result in an error\n",
      "  mfcc= librosa.feature.mfcc(signal[start_sample:finish_sample],\n"
     ]
    },
    {
     "name": "stdout",
     "output_type": "stream",
     "text": [
      "ocean_noise_data\\humpback_whale\\6304300K.wav, segment:0\n"
     ]
    },
    {
     "name": "stderr",
     "output_type": "stream",
     "text": [
      "C:\\Users\\TUKUNA\\AppData\\Local\\Temp/ipykernel_14232/2309356834.py:31: FutureWarning: Pass y=[0.05101024 0.06185321 0.0561639  ... 0.02198022 0.01431548 0.        ] as keyword args. From version 0.10 passing these as positional arguments will result in an error\n",
      "  if librosa.get_duration(signal)>10:\n",
      "C:\\Users\\TUKUNA\\AppData\\Local\\Temp/ipykernel_14232/2309356834.py:40: FutureWarning: Pass y=[ 0.05101024  0.06185321  0.0561639  ... -0.07985629 -0.07909815\n",
      " -0.08115383] as keyword args. From version 0.10 passing these as positional arguments will result in an error\n",
      "  mfcc= librosa.feature.mfcc(signal[start_sample:finish_sample],\n"
     ]
    },
    {
     "name": "stdout",
     "output_type": "stream",
     "text": [
      "ocean_noise_data\\humpback_whale\\6304300M.wav, segment:0\n"
     ]
    },
    {
     "name": "stderr",
     "output_type": "stream",
     "text": [
      "C:\\Users\\TUKUNA\\AppData\\Local\\Temp/ipykernel_14232/2309356834.py:31: FutureWarning: Pass y=[ 0.0045302   0.00613608  0.00894311 ... -0.02449354 -0.02865736\n",
      "  0.        ] as keyword args. From version 0.10 passing these as positional arguments will result in an error\n",
      "  if librosa.get_duration(signal)>10:\n",
      "C:\\Users\\TUKUNA\\AppData\\Local\\Temp/ipykernel_14232/2309356834.py:32: FutureWarning: Pass y=[ 0.0045302   0.00613608  0.00894311 ... -0.02449354 -0.02865736\n",
      "  0.        ] as keyword args. From version 0.10 passing these as positional arguments will result in an error\n",
      "  num_segments=int(librosa.get_duration(signal)/10)\n",
      "C:\\Users\\TUKUNA\\AppData\\Local\\Temp/ipykernel_14232/2309356834.py:40: FutureWarning: Pass y=[0.0045302  0.00613608 0.00894311 ... 0.1409455  0.13763532 0.13261041] as keyword args. From version 0.10 passing these as positional arguments will result in an error\n",
      "  mfcc= librosa.feature.mfcc(signal[start_sample:finish_sample],\n"
     ]
    },
    {
     "name": "stdout",
     "output_type": "stream",
     "text": [
      "ocean_noise_data\\humpback_whale\\6304300N.wav, segment:0\n"
     ]
    },
    {
     "name": "stderr",
     "output_type": "stream",
     "text": [
      "C:\\Users\\TUKUNA\\AppData\\Local\\Temp/ipykernel_14232/2309356834.py:31: FutureWarning: Pass y=[0.04160299 0.04899924 0.04303413 ... 0.09037333 0.0565833  0.        ] as keyword args. From version 0.10 passing these as positional arguments will result in an error\n",
      "  if librosa.get_duration(signal)>10:\n",
      "C:\\Users\\TUKUNA\\AppData\\Local\\Temp/ipykernel_14232/2309356834.py:32: FutureWarning: Pass y=[0.04160299 0.04899924 0.04303413 ... 0.09037333 0.0565833  0.        ] as keyword args. From version 0.10 passing these as positional arguments will result in an error\n",
      "  num_segments=int(librosa.get_duration(signal)/10)\n",
      "C:\\Users\\TUKUNA\\AppData\\Local\\Temp/ipykernel_14232/2309356834.py:40: FutureWarning: Pass y=[ 0.04160299  0.04899924  0.04303413 ... -0.02924753 -0.02994461\n",
      " -0.02448275] as keyword args. From version 0.10 passing these as positional arguments will result in an error\n",
      "  mfcc= librosa.feature.mfcc(signal[start_sample:finish_sample],\n",
      "C:\\Users\\TUKUNA\\AppData\\Local\\Temp/ipykernel_14232/2309356834.py:31: FutureWarning: Pass y=[ 0.00122063  0.00791477  0.01618379 ... -0.01820572 -0.00490901\n",
      "  0.        ] as keyword args. From version 0.10 passing these as positional arguments will result in an error\n",
      "  if librosa.get_duration(signal)>10:\n",
      "C:\\Users\\TUKUNA\\AppData\\Local\\Temp/ipykernel_14232/2309356834.py:40: FutureWarning: Pass y=[ 0.00122063  0.00791477  0.01618379 ... -0.10367727 -0.10945953\n",
      " -0.10872013] as keyword args. From version 0.10 passing these as positional arguments will result in an error\n",
      "  mfcc= librosa.feature.mfcc(signal[start_sample:finish_sample],\n"
     ]
    },
    {
     "name": "stdout",
     "output_type": "stream",
     "text": [
      "ocean_noise_data\\humpback_whale\\6304300O.wav, segment:0\n",
      "ocean_noise_data\\humpback_whale\\8002001M.wav, segment:0\n"
     ]
    },
    {
     "name": "stderr",
     "output_type": "stream",
     "text": [
      "C:\\Users\\TUKUNA\\AppData\\Local\\Temp/ipykernel_14232/2309356834.py:31: FutureWarning: Pass y=[0.00717682 0.00973193 0.00831469 ... 0.00236034 0.00297981 0.        ] as keyword args. From version 0.10 passing these as positional arguments will result in an error\n",
      "  if librosa.get_duration(signal)>10:\n",
      "C:\\Users\\TUKUNA\\AppData\\Local\\Temp/ipykernel_14232/2309356834.py:32: FutureWarning: Pass y=[0.00717682 0.00973193 0.00831469 ... 0.00236034 0.00297981 0.        ] as keyword args. From version 0.10 passing these as positional arguments will result in an error\n",
      "  num_segments=int(librosa.get_duration(signal)/10)\n",
      "C:\\Users\\TUKUNA\\AppData\\Local\\Temp/ipykernel_14232/2309356834.py:40: FutureWarning: Pass y=[0.00717682 0.00973193 0.00831469 ... 0.0055559  0.0043438  0.00338106] as keyword args. From version 0.10 passing these as positional arguments will result in an error\n",
      "  mfcc= librosa.feature.mfcc(signal[start_sample:finish_sample],\n",
      "C:\\Users\\TUKUNA\\AppData\\Local\\Temp/ipykernel_14232/2309356834.py:40: FutureWarning: Pass y=[0.0031077  0.00309752 0.00351719 ... 0.01467604 0.01347881 0.01310985] as keyword args. From version 0.10 passing these as positional arguments will result in an error\n",
      "  mfcc= librosa.feature.mfcc(signal[start_sample:finish_sample],\n"
     ]
    },
    {
     "name": "stdout",
     "output_type": "stream",
     "text": [
      "ocean_noise_data\\humpback_whale\\92201001.wav, segment:0\n",
      "ocean_noise_data\\humpback_whale\\92201001.wav, segment:1\n"
     ]
    },
    {
     "name": "stderr",
     "output_type": "stream",
     "text": [
      "C:\\Users\\TUKUNA\\AppData\\Local\\Temp/ipykernel_14232/2309356834.py:31: FutureWarning: Pass y=[0.00229416 0.00287138 0.00340422 ... 0.00470449 0.00335498 0.        ] as keyword args. From version 0.10 passing these as positional arguments will result in an error\n",
      "  if librosa.get_duration(signal)>10:\n",
      "C:\\Users\\TUKUNA\\AppData\\Local\\Temp/ipykernel_14232/2309356834.py:40: FutureWarning: Pass y=[ 0.00229416  0.00287138  0.00340422 ... -0.00466638 -0.01703516\n",
      " -0.02084825] as keyword args. From version 0.10 passing these as positional arguments will result in an error\n",
      "  mfcc= librosa.feature.mfcc(signal[start_sample:finish_sample],\n",
      "C:\\Users\\TUKUNA\\AppData\\Local\\Temp/ipykernel_14232/2309356834.py:40: FutureWarning: Pass y=[-0.01803057 -0.01435287 -0.01570948 ...  0.00599517  0.00542323\n",
      "  0.00524477] as keyword args. From version 0.10 passing these as positional arguments will result in an error\n",
      "  mfcc= librosa.feature.mfcc(signal[start_sample:finish_sample],\n",
      "C:\\Users\\TUKUNA\\AppData\\Local\\Temp/ipykernel_14232/2309356834.py:31: FutureWarning: Pass y=[0.00511587 0.0049671  0.00349812 ... 0.00242162 0.00357363 0.        ] as keyword args. From version 0.10 passing these as positional arguments will result in an error\n",
      "  if librosa.get_duration(signal)>10:\n",
      "C:\\Users\\TUKUNA\\AppData\\Local\\Temp/ipykernel_14232/2309356834.py:40: FutureWarning: Pass y=[0.00511587 0.0049671  0.00349812 ... 0.00677677 0.00748542 0.00804153] as keyword args. From version 0.10 passing these as positional arguments will result in an error\n",
      "  mfcc= librosa.feature.mfcc(signal[start_sample:finish_sample],\n",
      "C:\\Users\\TUKUNA\\AppData\\Local\\Temp/ipykernel_14232/2309356834.py:40: FutureWarning: Pass y=[0.00778481 0.00680533 0.00615309 ... 0.00242162 0.00357363 0.        ] as keyword args. From version 0.10 passing these as positional arguments will result in an error\n",
      "  mfcc= librosa.feature.mfcc(signal[start_sample:finish_sample],\n"
     ]
    },
    {
     "name": "stdout",
     "output_type": "stream",
     "text": [
      "ocean_noise_data\\humpback_whale\\92201002.wav, segment:0\n",
      "ocean_noise_data\\humpback_whale\\92201002.wav, segment:1\n",
      "ocean_noise_data\\humpback_whale\\92201003.wav, segment:0\n"
     ]
    },
    {
     "name": "stderr",
     "output_type": "stream",
     "text": [
      "C:\\Users\\TUKUNA\\AppData\\Local\\Temp/ipykernel_14232/2309356834.py:31: FutureWarning: Pass y=[0.00426018 0.00493968 0.00409474 ... 0.00353495 0.00346568 0.        ] as keyword args. From version 0.10 passing these as positional arguments will result in an error\n",
      "  if librosa.get_duration(signal)>10:\n",
      "C:\\Users\\TUKUNA\\AppData\\Local\\Temp/ipykernel_14232/2309356834.py:40: FutureWarning: Pass y=[0.00426018 0.00493968 0.00409474 ... 0.00295348 0.00282708 0.00422548] as keyword args. From version 0.10 passing these as positional arguments will result in an error\n",
      "  mfcc= librosa.feature.mfcc(signal[start_sample:finish_sample],\n",
      "C:\\Users\\TUKUNA\\AppData\\Local\\Temp/ipykernel_14232/2309356834.py:40: FutureWarning: Pass y=[0.00533604 0.00489798 0.0040618  ... 0.02339627 0.02821366 0.03196316] as keyword args. From version 0.10 passing these as positional arguments will result in an error\n",
      "  mfcc= librosa.feature.mfcc(signal[start_sample:finish_sample],\n"
     ]
    },
    {
     "name": "stdout",
     "output_type": "stream",
     "text": [
      "ocean_noise_data\\humpback_whale\\92201005.wav, segment:0\n",
      "ocean_noise_data\\humpback_whale\\92201005.wav, segment:1\n"
     ]
    },
    {
     "name": "stderr",
     "output_type": "stream",
     "text": [
      "C:\\Users\\TUKUNA\\AppData\\Local\\Temp/ipykernel_14232/2309356834.py:31: FutureWarning: Pass y=[0.00233981 0.00203533 0.00128377 ... 0.00548383 0.00391423 0.        ] as keyword args. From version 0.10 passing these as positional arguments will result in an error\n",
      "  if librosa.get_duration(signal)>10:\n",
      "C:\\Users\\TUKUNA\\AppData\\Local\\Temp/ipykernel_14232/2309356834.py:32: FutureWarning: Pass y=[0.00233981 0.00203533 0.00128377 ... 0.00548383 0.00391423 0.        ] as keyword args. From version 0.10 passing these as positional arguments will result in an error\n",
      "  num_segments=int(librosa.get_duration(signal)/10)\n",
      "C:\\Users\\TUKUNA\\AppData\\Local\\Temp/ipykernel_14232/2309356834.py:40: FutureWarning: Pass y=[0.00233981 0.00203533 0.00128377 ... 0.05127892 0.04834223 0.03541192] as keyword args. From version 0.10 passing these as positional arguments will result in an error\n",
      "  mfcc= librosa.feature.mfcc(signal[start_sample:finish_sample],\n"
     ]
    },
    {
     "name": "stdout",
     "output_type": "stream",
     "text": [
      "ocean_noise_data\\humpback_whale\\92201007.wav, segment:0\n"
     ]
    },
    {
     "name": "stderr",
     "output_type": "stream",
     "text": [
      "C:\\Users\\TUKUNA\\AppData\\Local\\Temp/ipykernel_14232/2309356834.py:31: FutureWarning: Pass y=[0.00414463 0.00300694 0.00071205 ... 0.00257655 0.00190237 0.        ] as keyword args. From version 0.10 passing these as positional arguments will result in an error\n",
      "  if librosa.get_duration(signal)>10:\n",
      "C:\\Users\\TUKUNA\\AppData\\Local\\Temp/ipykernel_14232/2309356834.py:32: FutureWarning: Pass y=[0.00414463 0.00300694 0.00071205 ... 0.00257655 0.00190237 0.        ] as keyword args. From version 0.10 passing these as positional arguments will result in an error\n",
      "  num_segments=int(librosa.get_duration(signal)/10)\n",
      "C:\\Users\\TUKUNA\\AppData\\Local\\Temp/ipykernel_14232/2309356834.py:40: FutureWarning: Pass y=[0.00414463 0.00300694 0.00071205 ... 0.04080605 0.03608631 0.02904472] as keyword args. From version 0.10 passing these as positional arguments will result in an error\n",
      "  mfcc= librosa.feature.mfcc(signal[start_sample:finish_sample],\n"
     ]
    },
    {
     "name": "stdout",
     "output_type": "stream",
     "text": [
      "ocean_noise_data\\humpback_whale\\9220100B.wav, segment:0\n"
     ]
    },
    {
     "name": "stderr",
     "output_type": "stream",
     "text": [
      "C:\\Users\\TUKUNA\\AppData\\Local\\Temp/ipykernel_14232/2309356834.py:31: FutureWarning: Pass y=[0.0051502  0.00458143 0.0017817  ... 0.00550825 0.00617599 0.        ] as keyword args. From version 0.10 passing these as positional arguments will result in an error\n",
      "  if librosa.get_duration(signal)>10:\n",
      "C:\\Users\\TUKUNA\\AppData\\Local\\Temp/ipykernel_14232/2309356834.py:40: FutureWarning: Pass y=[0.0051502  0.00458143 0.0017817  ... 0.0016009  0.00131533 0.00143118] as keyword args. From version 0.10 passing these as positional arguments will result in an error\n",
      "  mfcc= librosa.feature.mfcc(signal[start_sample:finish_sample],\n"
     ]
    },
    {
     "name": "stdout",
     "output_type": "stream",
     "text": [
      "ocean_noise_data\\humpback_whale\\9220100D.wav, segment:0\n"
     ]
    },
    {
     "name": "stderr",
     "output_type": "stream",
     "text": [
      "C:\\Users\\TUKUNA\\AppData\\Local\\Temp/ipykernel_14232/2309356834.py:31: FutureWarning: Pass y=[0.00287364 0.00347919 0.00226913 ... 0.00378469 0.00279209 0.        ] as keyword args. From version 0.10 passing these as positional arguments will result in an error\n",
      "  if librosa.get_duration(signal)>10:\n",
      "C:\\Users\\TUKUNA\\AppData\\Local\\Temp/ipykernel_14232/2309356834.py:40: FutureWarning: Pass y=[ 0.00287364  0.00347919  0.00226913 ... -0.00252051 -0.00185596\n",
      " -0.00109406] as keyword args. From version 0.10 passing these as positional arguments will result in an error\n",
      "  mfcc= librosa.feature.mfcc(signal[start_sample:finish_sample],\n"
     ]
    },
    {
     "name": "stdout",
     "output_type": "stream",
     "text": [
      "ocean_noise_data\\humpback_whale\\9220100E.wav, segment:0\n"
     ]
    },
    {
     "name": "stderr",
     "output_type": "stream",
     "text": [
      "C:\\Users\\TUKUNA\\AppData\\Local\\Temp/ipykernel_14232/2309356834.py:31: FutureWarning: Pass y=[0.00226506 0.00236295 0.00197384 ... 0.00394075 0.00300594 0.        ] as keyword args. From version 0.10 passing these as positional arguments will result in an error\n",
      "  if librosa.get_duration(signal)>10:\n",
      "C:\\Users\\TUKUNA\\AppData\\Local\\Temp/ipykernel_14232/2309356834.py:40: FutureWarning: Pass y=[0.00226506 0.00236295 0.00197384 ... 0.00594392 0.00639937 0.00692546] as keyword args. From version 0.10 passing these as positional arguments will result in an error\n",
      "  mfcc= librosa.feature.mfcc(signal[start_sample:finish_sample],\n"
     ]
    },
    {
     "name": "stdout",
     "output_type": "stream",
     "text": [
      "ocean_noise_data\\humpback_whale\\9220100F.wav, segment:0\n"
     ]
    },
    {
     "name": "stderr",
     "output_type": "stream",
     "text": [
      "C:\\Users\\TUKUNA\\AppData\\Local\\Temp/ipykernel_14232/2309356834.py:31: FutureWarning: Pass y=[0.00466834 0.00420456 0.00208762 ... 0.00442864 0.0043342  0.        ] as keyword args. From version 0.10 passing these as positional arguments will result in an error\n",
      "  if librosa.get_duration(signal)>10:\n",
      "C:\\Users\\TUKUNA\\AppData\\Local\\Temp/ipykernel_14232/2309356834.py:32: FutureWarning: Pass y=[0.00466834 0.00420456 0.00208762 ... 0.00442864 0.0043342  0.        ] as keyword args. From version 0.10 passing these as positional arguments will result in an error\n",
      "  num_segments=int(librosa.get_duration(signal)/10)\n",
      "C:\\Users\\TUKUNA\\AppData\\Local\\Temp/ipykernel_14232/2309356834.py:40: FutureWarning: Pass y=[0.00466834 0.00420456 0.00208762 ... 0.00248518 0.00231544 0.00258888] as keyword args. From version 0.10 passing these as positional arguments will result in an error\n",
      "  mfcc= librosa.feature.mfcc(signal[start_sample:finish_sample],\n"
     ]
    },
    {
     "name": "stdout",
     "output_type": "stream",
     "text": [
      "ocean_noise_data\\humpback_whale\\9220100G.wav, segment:0\n"
     ]
    },
    {
     "name": "stderr",
     "output_type": "stream",
     "text": [
      "C:\\Users\\TUKUNA\\AppData\\Local\\Temp/ipykernel_14232/2309356834.py:31: FutureWarning: Pass y=[0.00382232 0.00541272 0.00520442 ... 0.0040307  0.00362483 0.        ] as keyword args. From version 0.10 passing these as positional arguments will result in an error\n",
      "  if librosa.get_duration(signal)>10:\n",
      "C:\\Users\\TUKUNA\\AppData\\Local\\Temp/ipykernel_14232/2309356834.py:40: FutureWarning: Pass y=[0.00382232 0.00541272 0.00520442 ... 0.00756912 0.00889031 0.00570274] as keyword args. From version 0.10 passing these as positional arguments will result in an error\n",
      "  mfcc= librosa.feature.mfcc(signal[start_sample:finish_sample],\n"
     ]
    },
    {
     "name": "stdout",
     "output_type": "stream",
     "text": [
      "ocean_noise_data\\humpback_whale\\9220100Q.wav, segment:0\n"
     ]
    },
    {
     "name": "stderr",
     "output_type": "stream",
     "text": [
      "C:\\Users\\TUKUNA\\AppData\\Local\\Temp/ipykernel_14232/2309356834.py:31: FutureWarning: Pass y=[0.00508243 0.00459612 0.00323582 ... 0.00507352 0.00311501 0.        ] as keyword args. From version 0.10 passing these as positional arguments will result in an error\n",
      "  if librosa.get_duration(signal)>10:\n",
      "C:\\Users\\TUKUNA\\AppData\\Local\\Temp/ipykernel_14232/2309356834.py:32: FutureWarning: Pass y=[0.00508243 0.00459612 0.00323582 ... 0.00507352 0.00311501 0.        ] as keyword args. From version 0.10 passing these as positional arguments will result in an error\n",
      "  num_segments=int(librosa.get_duration(signal)/10)\n",
      "C:\\Users\\TUKUNA\\AppData\\Local\\Temp/ipykernel_14232/2309356834.py:40: FutureWarning: Pass y=[0.00508243 0.00459612 0.00323582 ... 0.00386649 0.00417363 0.00463623] as keyword args. From version 0.10 passing these as positional arguments will result in an error\n",
      "  mfcc= librosa.feature.mfcc(signal[start_sample:finish_sample],\n"
     ]
    },
    {
     "name": "stdout",
     "output_type": "stream",
     "text": [
      "ocean_noise_data\\humpback_whale\\9220100S.wav, segment:0\n"
     ]
    },
    {
     "name": "stderr",
     "output_type": "stream",
     "text": [
      "C:\\Users\\TUKUNA\\AppData\\Local\\Temp/ipykernel_14232/2309356834.py:31: FutureWarning: Pass y=[0.00143895 0.002014   0.00176961 ... 0.00317852 0.00252921 0.        ] as keyword args. From version 0.10 passing these as positional arguments will result in an error\n",
      "  if librosa.get_duration(signal)>10:\n",
      "C:\\Users\\TUKUNA\\AppData\\Local\\Temp/ipykernel_14232/2309356834.py:40: FutureWarning: Pass y=[0.00143895 0.002014   0.00176961 ... 0.00726638 0.01306678 0.0122159 ] as keyword args. From version 0.10 passing these as positional arguments will result in an error\n",
      "  mfcc= librosa.feature.mfcc(signal[start_sample:finish_sample],\n"
     ]
    },
    {
     "name": "stdout",
     "output_type": "stream",
     "text": [
      "ocean_noise_data\\humpback_whale\\9220100T.wav, segment:0\n"
     ]
    },
    {
     "name": "stderr",
     "output_type": "stream",
     "text": [
      "C:\\Users\\TUKUNA\\AppData\\Local\\Temp/ipykernel_14232/2309356834.py:31: FutureWarning: Pass y=[0.00376071 0.00505488 0.00477035 ... 0.00511614 0.00343478 0.        ] as keyword args. From version 0.10 passing these as positional arguments will result in an error\n",
      "  if librosa.get_duration(signal)>10:\n",
      "C:\\Users\\TUKUNA\\AppData\\Local\\Temp/ipykernel_14232/2309356834.py:40: FutureWarning: Pass y=[0.00376071 0.00505488 0.00477035 ... 0.00438711 0.00439516 0.00558202] as keyword args. From version 0.10 passing these as positional arguments will result in an error\n",
      "  mfcc= librosa.feature.mfcc(signal[start_sample:finish_sample],\n"
     ]
    },
    {
     "name": "stdout",
     "output_type": "stream",
     "text": [
      "ocean_noise_data\\humpback_whale\\9220100V.wav, segment:0\n"
     ]
    },
    {
     "name": "stderr",
     "output_type": "stream",
     "text": [
      "C:\\Users\\TUKUNA\\AppData\\Local\\Temp/ipykernel_14232/2309356834.py:31: FutureWarning: Pass y=[0.00141221 0.00259509 0.00324811 ... 0.00229183 0.00152239 0.        ] as keyword args. From version 0.10 passing these as positional arguments will result in an error\n",
      "  if librosa.get_duration(signal)>10:\n",
      "C:\\Users\\TUKUNA\\AppData\\Local\\Temp/ipykernel_14232/2309356834.py:40: FutureWarning: Pass y=[ 0.00141221  0.00259509  0.00324811 ... -0.00242933 -0.0076398\n",
      " -0.00949209] as keyword args. From version 0.10 passing these as positional arguments will result in an error\n",
      "  mfcc= librosa.feature.mfcc(signal[start_sample:finish_sample],\n"
     ]
    },
    {
     "name": "stdout",
     "output_type": "stream",
     "text": [
      "ocean_noise_data\\humpback_whale\\9220100W.wav, segment:0\n"
     ]
    },
    {
     "name": "stderr",
     "output_type": "stream",
     "text": [
      "C:\\Users\\TUKUNA\\AppData\\Local\\Temp/ipykernel_14232/2309356834.py:31: FutureWarning: Pass y=[0.0028289  0.00385286 0.00415168 ... 0.00371037 0.00191748 0.        ] as keyword args. From version 0.10 passing these as positional arguments will result in an error\n",
      "  if librosa.get_duration(signal)>10:\n",
      "C:\\Users\\TUKUNA\\AppData\\Local\\Temp/ipykernel_14232/2309356834.py:32: FutureWarning: Pass y=[0.0028289  0.00385286 0.00415168 ... 0.00371037 0.00191748 0.        ] as keyword args. From version 0.10 passing these as positional arguments will result in an error\n",
      "  num_segments=int(librosa.get_duration(signal)/10)\n",
      "C:\\Users\\TUKUNA\\AppData\\Local\\Temp/ipykernel_14232/2309356834.py:40: FutureWarning: Pass y=[0.0028289  0.00385286 0.00415168 ... 0.00390753 0.00267501 0.00264361] as keyword args. From version 0.10 passing these as positional arguments will result in an error\n",
      "  mfcc= librosa.feature.mfcc(signal[start_sample:finish_sample],\n",
      "C:\\Users\\TUKUNA\\AppData\\Local\\Temp/ipykernel_14232/2309356834.py:40: FutureWarning: Pass y=[0.00286491 0.0024515  0.00299702 ... 0.00791774 0.0068781  0.00449211] as keyword args. From version 0.10 passing these as positional arguments will result in an error\n",
      "  mfcc= librosa.feature.mfcc(signal[start_sample:finish_sample],\n",
      "C:\\Users\\TUKUNA\\AppData\\Local\\Temp/ipykernel_14232/2309356834.py:40: FutureWarning: Pass y=[ 0.00155689 -0.00021359  0.00079871 ...  0.00149885  0.00102607\n",
      "  0.00096274] as keyword args. From version 0.10 passing these as positional arguments will result in an error\n",
      "  mfcc= librosa.feature.mfcc(signal[start_sample:finish_sample],\n",
      "C:\\Users\\TUKUNA\\AppData\\Local\\Temp/ipykernel_14232/2309356834.py:40: FutureWarning: Pass y=[0.0009932  0.00098846 0.0009203  ... 0.00580513 0.00487575 0.00439135] as keyword args. From version 0.10 passing these as positional arguments will result in an error\n",
      "  mfcc= librosa.feature.mfcc(signal[start_sample:finish_sample],\n",
      "C:\\Users\\TUKUNA\\AppData\\Local\\Temp/ipykernel_14232/2309356834.py:40: FutureWarning: Pass y=[0.00476659 0.00482489 0.00409881 ... 0.00333573 0.00371823 0.00412294] as keyword args. From version 0.10 passing these as positional arguments will result in an error\n",
      "  mfcc= librosa.feature.mfcc(signal[start_sample:finish_sample],\n",
      "C:\\Users\\TUKUNA\\AppData\\Local\\Temp/ipykernel_14232/2309356834.py:40: FutureWarning: Pass y=[0.00380593 0.00321253 0.00293373 ... 0.0038799  0.00412555 0.00466022] as keyword args. From version 0.10 passing these as positional arguments will result in an error\n",
      "  mfcc= librosa.feature.mfcc(signal[start_sample:finish_sample],\n"
     ]
    },
    {
     "name": "stdout",
     "output_type": "stream",
     "text": [
      "ocean_noise_data\\humpback_whale\\9220100X.wav, segment:0\n",
      "ocean_noise_data\\humpback_whale\\9220100X.wav, segment:1\n",
      "ocean_noise_data\\humpback_whale\\9220100X.wav, segment:2\n",
      "ocean_noise_data\\humpback_whale\\9220100X.wav, segment:3\n",
      "ocean_noise_data\\humpback_whale\\9220100X.wav, segment:4\n",
      "ocean_noise_data\\humpback_whale\\9220100X.wav, segment:5\n"
     ]
    },
    {
     "name": "stderr",
     "output_type": "stream",
     "text": [
      "C:\\Users\\TUKUNA\\AppData\\Local\\Temp/ipykernel_14232/2309356834.py:31: FutureWarning: Pass y=[0.00329092 0.00361048 0.00236194 ... 0.00475565 0.00444824 0.        ] as keyword args. From version 0.10 passing these as positional arguments will result in an error\n",
      "  if librosa.get_duration(signal)>10:\n",
      "C:\\Users\\TUKUNA\\AppData\\Local\\Temp/ipykernel_14232/2309356834.py:40: FutureWarning: Pass y=[0.00329092 0.00361048 0.00236194 ... 0.00091911 0.00010634 0.00053454] as keyword args. From version 0.10 passing these as positional arguments will result in an error\n",
      "  mfcc= librosa.feature.mfcc(signal[start_sample:finish_sample],\n",
      "C:\\Users\\TUKUNA\\AppData\\Local\\Temp/ipykernel_14232/2309356834.py:40: FutureWarning: Pass y=[0.00236253 0.00277995 0.000966   ... 0.00821073 0.00491509 0.00208518] as keyword args. From version 0.10 passing these as positional arguments will result in an error\n",
      "  mfcc= librosa.feature.mfcc(signal[start_sample:finish_sample],\n",
      "C:\\Users\\TUKUNA\\AppData\\Local\\Temp/ipykernel_14232/2309356834.py:40: FutureWarning: Pass y=[0.00281643 0.00520766 0.00611697 ... 0.00187406 0.00144149 0.00196346] as keyword args. From version 0.10 passing these as positional arguments will result in an error\n",
      "  mfcc= librosa.feature.mfcc(signal[start_sample:finish_sample],\n",
      "C:\\Users\\TUKUNA\\AppData\\Local\\Temp/ipykernel_14232/2309356834.py:40: FutureWarning: Pass y=[0.00330487 0.00459678 0.0052321  ... 0.00475565 0.00444824 0.        ] as keyword args. From version 0.10 passing these as positional arguments will result in an error\n",
      "  mfcc= librosa.feature.mfcc(signal[start_sample:finish_sample],\n"
     ]
    },
    {
     "name": "stdout",
     "output_type": "stream",
     "text": [
      "ocean_noise_data\\humpback_whale\\9220100Z.wav, segment:0\n",
      "ocean_noise_data\\humpback_whale\\9220100Z.wav, segment:1\n",
      "ocean_noise_data\\humpback_whale\\9220100Z.wav, segment:2\n",
      "\n",
      " processingocean_noise_data\\killer_whale\n"
     ]
    },
    {
     "name": "stderr",
     "output_type": "stream",
     "text": [
      "C:\\Users\\TUKUNA\\AppData\\Local\\Temp/ipykernel_14232/2309356834.py:31: FutureWarning: Pass y=[-0.00196937 -0.01156539 -0.01497672 ... -0.0093256  -0.00380291\n",
      "  0.        ] as keyword args. From version 0.10 passing these as positional arguments will result in an error\n",
      "  if librosa.get_duration(signal)>10:\n",
      "C:\\Users\\TUKUNA\\AppData\\Local\\Temp/ipykernel_14232/2309356834.py:40: FutureWarning: Pass y=[-0.00196937 -0.01156539 -0.01497672 ...  0.1300959   0.11893021\n",
      "  0.02201199] as keyword args. From version 0.10 passing these as positional arguments will result in an error\n",
      "  mfcc= librosa.feature.mfcc(signal[start_sample:finish_sample],\n",
      "C:\\Users\\TUKUNA\\AppData\\Local\\Temp/ipykernel_14232/2309356834.py:40: FutureWarning: Pass y=[-0.06469224 -0.09165531 -0.01509254 ... -0.0093256  -0.00380291\n",
      "  0.        ] as keyword args. From version 0.10 passing these as positional arguments will result in an error\n",
      "  mfcc= librosa.feature.mfcc(signal[start_sample:finish_sample],\n",
      "C:\\Users\\TUKUNA\\AppData\\Local\\Temp/ipykernel_14232/2309356834.py:31: FutureWarning: Pass y=[ 0.00210723  0.00053863  0.00122754 ... -0.02475807 -0.02029153\n",
      "  0.        ] as keyword args. From version 0.10 passing these as positional arguments will result in an error\n",
      "  if librosa.get_duration(signal)>10:\n",
      "C:\\Users\\TUKUNA\\AppData\\Local\\Temp/ipykernel_14232/2309356834.py:40: FutureWarning: Pass y=[ 0.00210723  0.00053863  0.00122754 ... -0.00304122 -0.01856311\n",
      " -0.02456913] as keyword args. From version 0.10 passing these as positional arguments will result in an error\n",
      "  mfcc= librosa.feature.mfcc(signal[start_sample:finish_sample],\n",
      "C:\\Users\\TUKUNA\\AppData\\Local\\Temp/ipykernel_14232/2309356834.py:40: FutureWarning: Pass y=[-0.0261867  -0.03904045 -0.02814814 ... -0.02475807 -0.02029153\n",
      "  0.        ] as keyword args. From version 0.10 passing these as positional arguments will result in an error\n",
      "  mfcc= librosa.feature.mfcc(signal[start_sample:finish_sample],\n"
     ]
    },
    {
     "name": "stdout",
     "output_type": "stream",
     "text": [
      "ocean_noise_data\\killer_whale\\60026001.wav, segment:0\n",
      "ocean_noise_data\\killer_whale\\60026002.wav, segment:0\n"
     ]
    },
    {
     "name": "stderr",
     "output_type": "stream",
     "text": [
      "C:\\Users\\TUKUNA\\AppData\\Local\\Temp/ipykernel_14232/2309356834.py:31: FutureWarning: Pass y=[0.00395467 0.00598296 0.0085249  ... 0.02335857 0.01681673 0.        ] as keyword args. From version 0.10 passing these as positional arguments will result in an error\n",
      "  if librosa.get_duration(signal)>10:\n",
      "C:\\Users\\TUKUNA\\AppData\\Local\\Temp/ipykernel_14232/2309356834.py:40: FutureWarning: Pass y=[ 0.00395467  0.00598296  0.0085249  ... -0.00759707 -0.02020519\n",
      " -0.02096295] as keyword args. From version 0.10 passing these as positional arguments will result in an error\n",
      "  mfcc= librosa.feature.mfcc(signal[start_sample:finish_sample],\n",
      "C:\\Users\\TUKUNA\\AppData\\Local\\Temp/ipykernel_14232/2309356834.py:40: FutureWarning: Pass y=[-0.01774421 -0.02047253 -0.02586546 ...  0.02335857  0.01681673\n",
      "  0.        ] as keyword args. From version 0.10 passing these as positional arguments will result in an error\n",
      "  mfcc= librosa.feature.mfcc(signal[start_sample:finish_sample],\n"
     ]
    },
    {
     "name": "stdout",
     "output_type": "stream",
     "text": [
      "ocean_noise_data\\killer_whale\\60026003.wav, segment:0\n"
     ]
    },
    {
     "name": "stderr",
     "output_type": "stream",
     "text": [
      "C:\\Users\\TUKUNA\\AppData\\Local\\Temp/ipykernel_14232/2309356834.py:31: FutureWarning: Pass y=[ 0.00528277  0.00590454 -0.00020314 ...  0.00468411  0.00788803\n",
      "  0.        ] as keyword args. From version 0.10 passing these as positional arguments will result in an error\n",
      "  if librosa.get_duration(signal)>10:\n",
      "C:\\Users\\TUKUNA\\AppData\\Local\\Temp/ipykernel_14232/2309356834.py:40: FutureWarning: Pass y=[ 0.00528277  0.00590454 -0.00020314 ...  0.00080123  0.00918969\n",
      " -0.03514114] as keyword args. From version 0.10 passing these as positional arguments will result in an error\n",
      "  mfcc= librosa.feature.mfcc(signal[start_sample:finish_sample],\n",
      "C:\\Users\\TUKUNA\\AppData\\Local\\Temp/ipykernel_14232/2309356834.py:40: FutureWarning: Pass y=[-0.07177321 -0.03411667 -0.0193868  ...  0.00468411  0.00788803\n",
      "  0.        ] as keyword args. From version 0.10 passing these as positional arguments will result in an error\n",
      "  mfcc= librosa.feature.mfcc(signal[start_sample:finish_sample],\n"
     ]
    },
    {
     "name": "stdout",
     "output_type": "stream",
     "text": [
      "ocean_noise_data\\killer_whale\\60026004.wav, segment:0\n"
     ]
    },
    {
     "name": "stderr",
     "output_type": "stream",
     "text": [
      "C:\\Users\\TUKUNA\\AppData\\Local\\Temp/ipykernel_14232/2309356834.py:31: FutureWarning: Pass y=[-0.00494388 -0.00335673 -0.00287153 ... -0.00834239 -0.01115152\n",
      "  0.        ] as keyword args. From version 0.10 passing these as positional arguments will result in an error\n",
      "  if librosa.get_duration(signal)>10:\n",
      "C:\\Users\\TUKUNA\\AppData\\Local\\Temp/ipykernel_14232/2309356834.py:40: FutureWarning: Pass y=[-0.00494388 -0.00335673 -0.00287153 ... -0.00814075  0.00031555\n",
      "  0.00732884] as keyword args. From version 0.10 passing these as positional arguments will result in an error\n",
      "  mfcc= librosa.feature.mfcc(signal[start_sample:finish_sample],\n",
      "C:\\Users\\TUKUNA\\AppData\\Local\\Temp/ipykernel_14232/2309356834.py:40: FutureWarning: Pass y=[ 0.01055796  0.00100597 -0.00267917 ...  0.01189187  0.02002816\n",
      "  0.0302933 ] as keyword args. From version 0.10 passing these as positional arguments will result in an error\n",
      "  mfcc= librosa.feature.mfcc(signal[start_sample:finish_sample],\n",
      "C:\\Users\\TUKUNA\\AppData\\Local\\Temp/ipykernel_14232/2309356834.py:40: FutureWarning: Pass y=[ 0.03391892  0.02340575  0.00820601 ... -0.00834239 -0.01115152\n",
      "  0.        ] as keyword args. From version 0.10 passing these as positional arguments will result in an error\n",
      "  mfcc= librosa.feature.mfcc(signal[start_sample:finish_sample],\n"
     ]
    },
    {
     "name": "stdout",
     "output_type": "stream",
     "text": [
      "ocean_noise_data\\killer_whale\\60026005.wav, segment:0\n",
      "ocean_noise_data\\killer_whale\\60026005.wav, segment:1\n",
      "ocean_noise_data\\killer_whale\\60026005.wav, segment:2\n"
     ]
    },
    {
     "name": "stderr",
     "output_type": "stream",
     "text": [
      "C:\\Users\\TUKUNA\\AppData\\Local\\Temp/ipykernel_14232/2309356834.py:31: FutureWarning: Pass y=[ 0.00921223  0.0127257   0.01248895 ... -0.00908868 -0.00785501\n",
      "  0.        ] as keyword args. From version 0.10 passing these as positional arguments will result in an error\n",
      "  if librosa.get_duration(signal)>10:\n",
      "C:\\Users\\TUKUNA\\AppData\\Local\\Temp/ipykernel_14232/2309356834.py:40: FutureWarning: Pass y=[ 0.00921223  0.0127257   0.01248895 ... -0.01047561 -0.01907282\n",
      " -0.0176285 ] as keyword args. From version 0.10 passing these as positional arguments will result in an error\n",
      "  mfcc= librosa.feature.mfcc(signal[start_sample:finish_sample],\n",
      "C:\\Users\\TUKUNA\\AppData\\Local\\Temp/ipykernel_14232/2309356834.py:40: FutureWarning: Pass y=[-0.01686929 -0.01439918 -0.00746395 ... -0.00908868 -0.00785501\n",
      "  0.        ] as keyword args. From version 0.10 passing these as positional arguments will result in an error\n",
      "  mfcc= librosa.feature.mfcc(signal[start_sample:finish_sample],\n"
     ]
    },
    {
     "name": "stdout",
     "output_type": "stream",
     "text": [
      "ocean_noise_data\\killer_whale\\60026006.wav, segment:0\n"
     ]
    },
    {
     "name": "stderr",
     "output_type": "stream",
     "text": [
      "C:\\Users\\TUKUNA\\AppData\\Local\\Temp/ipykernel_14232/2309356834.py:31: FutureWarning: Pass y=[ 0.00720116 -0.00389571 -0.02451939 ... -0.07889301 -0.07584915\n",
      "  0.        ] as keyword args. From version 0.10 passing these as positional arguments will result in an error\n",
      "  if librosa.get_duration(signal)>10:\n",
      "C:\\Users\\TUKUNA\\AppData\\Local\\Temp/ipykernel_14232/2309356834.py:40: FutureWarning: Pass y=[ 0.00720116 -0.00389571 -0.02451939 ...  0.03837012  0.0469096\n",
      "  0.06609209] as keyword args. From version 0.10 passing these as positional arguments will result in an error\n",
      "  mfcc= librosa.feature.mfcc(signal[start_sample:finish_sample],\n",
      "C:\\Users\\TUKUNA\\AppData\\Local\\Temp/ipykernel_14232/2309356834.py:40: FutureWarning: Pass y=[ 0.04536561  0.05869023  0.02576325 ... -0.07889301 -0.07584915\n",
      "  0.        ] as keyword args. From version 0.10 passing these as positional arguments will result in an error\n",
      "  mfcc= librosa.feature.mfcc(signal[start_sample:finish_sample],\n"
     ]
    },
    {
     "name": "stdout",
     "output_type": "stream",
     "text": [
      "ocean_noise_data\\killer_whale\\6002600A.wav, segment:0\n"
     ]
    },
    {
     "name": "stderr",
     "output_type": "stream",
     "text": [
      "C:\\Users\\TUKUNA\\AppData\\Local\\Temp/ipykernel_14232/2309356834.py:31: FutureWarning: Pass y=[-0.01030608 -0.02226533 -0.03243768 ... -0.01148767 -0.02178759\n",
      "  0.        ] as keyword args. From version 0.10 passing these as positional arguments will result in an error\n",
      "  if librosa.get_duration(signal)>10:\n",
      "C:\\Users\\TUKUNA\\AppData\\Local\\Temp/ipykernel_14232/2309356834.py:40: FutureWarning: Pass y=[-0.01030608 -0.02226533 -0.03243768 ...  0.05674026  0.03246902\n",
      "  0.02519011] as keyword args. From version 0.10 passing these as positional arguments will result in an error\n",
      "  mfcc= librosa.feature.mfcc(signal[start_sample:finish_sample],\n",
      "C:\\Users\\TUKUNA\\AppData\\Local\\Temp/ipykernel_14232/2309356834.py:40: FutureWarning: Pass y=[ 0.02668481  0.01961752  0.03398749 ... -0.01148767 -0.02178759\n",
      "  0.        ] as keyword args. From version 0.10 passing these as positional arguments will result in an error\n",
      "  mfcc= librosa.feature.mfcc(signal[start_sample:finish_sample],\n"
     ]
    },
    {
     "name": "stdout",
     "output_type": "stream",
     "text": [
      "ocean_noise_data\\killer_whale\\6002600B.wav, segment:0\n"
     ]
    },
    {
     "name": "stderr",
     "output_type": "stream",
     "text": [
      "C:\\Users\\TUKUNA\\AppData\\Local\\Temp/ipykernel_14232/2309356834.py:31: FutureWarning: Pass y=[-3.684437e-05  4.939304e-04  5.047728e-04 ... -5.307354e-05 -3.048469e-04\n",
      "  0.000000e+00] as keyword args. From version 0.10 passing these as positional arguments will result in an error\n",
      "  if librosa.get_duration(signal)>10:\n",
      "C:\\Users\\TUKUNA\\AppData\\Local\\Temp/ipykernel_14232/2309356834.py:40: FutureWarning: Pass y=[-3.6844369e-05  4.9393042e-04  5.0477282e-04 ... -2.0016810e-02\n",
      " -1.6197909e-02 -2.1057684e-02] as keyword args. From version 0.10 passing these as positional arguments will result in an error\n",
      "  mfcc= librosa.feature.mfcc(signal[start_sample:finish_sample],\n",
      "C:\\Users\\TUKUNA\\AppData\\Local\\Temp/ipykernel_14232/2309356834.py:40: FutureWarning: Pass y=[-1.3268843e-02  1.3612046e-02  4.6225343e-02 ... -5.3073541e-05\n",
      " -3.0484691e-04  0.0000000e+00] as keyword args. From version 0.10 passing these as positional arguments will result in an error\n",
      "  mfcc= librosa.feature.mfcc(signal[start_sample:finish_sample],\n"
     ]
    },
    {
     "name": "stdout",
     "output_type": "stream",
     "text": [
      "ocean_noise_data\\killer_whale\\64020001.wav, segment:0\n"
     ]
    },
    {
     "name": "stderr",
     "output_type": "stream",
     "text": [
      "C:\\Users\\TUKUNA\\AppData\\Local\\Temp/ipykernel_14232/2309356834.py:31: FutureWarning: Pass y=[0.00049011 0.00048972 0.00050466 ... 0.00073667 0.00426535 0.        ] as keyword args. From version 0.10 passing these as positional arguments will result in an error\n",
      "  if librosa.get_duration(signal)>10:\n",
      "C:\\Users\\TUKUNA\\AppData\\Local\\Temp/ipykernel_14232/2309356834.py:40: FutureWarning: Pass y=[0.00049011 0.00048972 0.00050466 ... 0.05490875 0.04300876 0.02339941] as keyword args. From version 0.10 passing these as positional arguments will result in an error\n",
      "  mfcc= librosa.feature.mfcc(signal[start_sample:finish_sample],\n",
      "C:\\Users\\TUKUNA\\AppData\\Local\\Temp/ipykernel_14232/2309356834.py:40: FutureWarning: Pass y=[-0.01350708 -0.06564945 -0.09020008 ...  0.00073667  0.00426535\n",
      "  0.        ] as keyword args. From version 0.10 passing these as positional arguments will result in an error\n",
      "  mfcc= librosa.feature.mfcc(signal[start_sample:finish_sample],\n"
     ]
    },
    {
     "name": "stdout",
     "output_type": "stream",
     "text": [
      "ocean_noise_data\\killer_whale\\64020003.wav, segment:0\n"
     ]
    },
    {
     "name": "stderr",
     "output_type": "stream",
     "text": [
      "C:\\Users\\TUKUNA\\AppData\\Local\\Temp/ipykernel_14232/2309356834.py:31: FutureWarning: Pass y=[-1.20436425e-05 -1.92499999e-03 -2.95083877e-03 ...  1.24507435e-02\n",
      "  3.79986898e-03  0.00000000e+00] as keyword args. From version 0.10 passing these as positional arguments will result in an error\n",
      "  if librosa.get_duration(signal)>10:\n",
      "C:\\Users\\TUKUNA\\AppData\\Local\\Temp/ipykernel_14232/2309356834.py:32: FutureWarning: Pass y=[-1.20436425e-05 -1.92499999e-03 -2.95083877e-03 ...  1.24507435e-02\n",
      "  3.79986898e-03  0.00000000e+00] as keyword args. From version 0.10 passing these as positional arguments will result in an error\n",
      "  num_segments=int(librosa.get_duration(signal)/10)\n",
      "C:\\Users\\TUKUNA\\AppData\\Local\\Temp/ipykernel_14232/2309356834.py:40: FutureWarning: Pass y=[-1.20436425e-05 -1.92499999e-03 -2.95083877e-03 ...  7.82025512e-03\n",
      "  9.44844540e-03 -1.27240680e-02] as keyword args. From version 0.10 passing these as positional arguments will result in an error\n",
      "  mfcc= librosa.feature.mfcc(signal[start_sample:finish_sample],\n",
      "C:\\Users\\TUKUNA\\AppData\\Local\\Temp/ipykernel_14232/2309356834.py:31: FutureWarning: Pass y=[-0.01216881 -0.01033782 -0.00727626 ... -0.01884718 -0.01834103\n",
      "  0.        ] as keyword args. From version 0.10 passing these as positional arguments will result in an error\n",
      "  if librosa.get_duration(signal)>10:\n",
      "C:\\Users\\TUKUNA\\AppData\\Local\\Temp/ipykernel_14232/2309356834.py:40: FutureWarning: Pass y=[-0.01216881 -0.01033782 -0.00727626 ...  0.03204736  0.04102689\n",
      "  0.03955686] as keyword args. From version 0.10 passing these as positional arguments will result in an error\n",
      "  mfcc= librosa.feature.mfcc(signal[start_sample:finish_sample],\n"
     ]
    },
    {
     "name": "stdout",
     "output_type": "stream",
     "text": [
      "ocean_noise_data\\killer_whale\\89405023.wav, segment:0\n",
      "ocean_noise_data\\killer_whale\\9230000L.wav, segment:0\n",
      "ocean_noise_data\\killer_whale\\92300013 (1).wav, segment:0\n",
      "ocean_noise_data\\killer_whale\\92300013.wav, segment:0\n"
     ]
    },
    {
     "name": "stderr",
     "output_type": "stream",
     "text": [
      "C:\\Users\\TUKUNA\\AppData\\Local\\Temp/ipykernel_14232/2309356834.py:31: FutureWarning: Pass y=[-0.00142753 -0.00101097 -0.00142687 ... -0.00368329 -0.00249087\n",
      "  0.        ] as keyword args. From version 0.10 passing these as positional arguments will result in an error\n",
      "  if librosa.get_duration(signal)>10:\n",
      "C:\\Users\\TUKUNA\\AppData\\Local\\Temp/ipykernel_14232/2309356834.py:40: FutureWarning: Pass y=[-0.00142753 -0.00101097 -0.00142687 ... -0.00683486 -0.00884511\n",
      " -0.00874223] as keyword args. From version 0.10 passing these as positional arguments will result in an error\n",
      "  mfcc= librosa.feature.mfcc(signal[start_sample:finish_sample],\n",
      "C:\\Users\\TUKUNA\\AppData\\Local\\Temp/ipykernel_14232/2309356834.py:31: FutureWarning: Pass y=[-0.00289956 -0.00442192 -0.00436125 ... -0.00696698 -0.00734992\n",
      "  0.        ] as keyword args. From version 0.10 passing these as positional arguments will result in an error\n",
      "  if librosa.get_duration(signal)>10:\n",
      "C:\\Users\\TUKUNA\\AppData\\Local\\Temp/ipykernel_14232/2309356834.py:40: FutureWarning: Pass y=[-0.00289956 -0.00442192 -0.00436125 ...  0.04192423  0.05876338\n",
      "  0.06543657] as keyword args. From version 0.10 passing these as positional arguments will result in an error\n",
      "  mfcc= librosa.feature.mfcc(signal[start_sample:finish_sample],\n"
     ]
    },
    {
     "name": "stdout",
     "output_type": "stream",
     "text": [
      "ocean_noise_data\\killer_whale\\92301007 (1).wav, segment:0\n",
      "ocean_noise_data\\killer_whale\\92301007.wav, segment:0\n",
      "ocean_noise_data\\killer_whale\\92304008.wav, segment:0\n"
     ]
    },
    {
     "name": "stderr",
     "output_type": "stream",
     "text": [
      "C:\\Users\\TUKUNA\\AppData\\Local\\Temp/ipykernel_14232/2309356834.py:31: FutureWarning: Pass y=[-0.00231983 -0.00205598 -0.00331919 ... -0.00639103 -0.00781224\n",
      "  0.        ] as keyword args. From version 0.10 passing these as positional arguments will result in an error\n",
      "  if librosa.get_duration(signal)>10:\n",
      "C:\\Users\\TUKUNA\\AppData\\Local\\Temp/ipykernel_14232/2309356834.py:40: FutureWarning: Pass y=[-0.00231983 -0.00205598 -0.00331919 ... -0.00687473 -0.00782814\n",
      " -0.00977739] as keyword args. From version 0.10 passing these as positional arguments will result in an error\n",
      "  mfcc= librosa.feature.mfcc(signal[start_sample:finish_sample],\n",
      "C:\\Users\\TUKUNA\\AppData\\Local\\Temp/ipykernel_14232/2309356834.py:31: FutureWarning: Pass y=[ 0.02338313  0.02303053  0.01905702 ... -0.00899905 -0.01250419\n",
      "  0.        ] as keyword args. From version 0.10 passing these as positional arguments will result in an error\n",
      "  if librosa.get_duration(signal)>10:\n",
      "C:\\Users\\TUKUNA\\AppData\\Local\\Temp/ipykernel_14232/2309356834.py:40: FutureWarning: Pass y=[ 0.02338313  0.02303053  0.01905702 ... -0.00453504 -0.01027949\n",
      " -0.00926585] as keyword args. From version 0.10 passing these as positional arguments will result in an error\n",
      "  mfcc= librosa.feature.mfcc(signal[start_sample:finish_sample],\n"
     ]
    },
    {
     "name": "stdout",
     "output_type": "stream",
     "text": [
      "ocean_noise_data\\killer_whale\\9230400D.wav, segment:0\n",
      "ocean_noise_data\\killer_whale\\9750000S.wav, segment:0\n",
      "ocean_noise_data\\killer_whale\\97501009.wav, segment:0\n",
      "ocean_noise_data\\killer_whale\\97503007.wav, segment:0\n"
     ]
    },
    {
     "name": "stderr",
     "output_type": "stream",
     "text": [
      "C:\\Users\\TUKUNA\\AppData\\Local\\Temp/ipykernel_14232/2309356834.py:31: FutureWarning: Pass y=[-0.00093937 -0.00195024 -0.00439615 ... -0.00219211 -0.00182994\n",
      "  0.        ] as keyword args. From version 0.10 passing these as positional arguments will result in an error\n",
      "  if librosa.get_duration(signal)>10:\n",
      "C:\\Users\\TUKUNA\\AppData\\Local\\Temp/ipykernel_14232/2309356834.py:40: FutureWarning: Pass y=[-0.00093937 -0.00195024 -0.00439615 ... -0.00275147 -0.00162304\n",
      " -0.0013098 ] as keyword args. From version 0.10 passing these as positional arguments will result in an error\n",
      "  mfcc= librosa.feature.mfcc(signal[start_sample:finish_sample],\n",
      "C:\\Users\\TUKUNA\\AppData\\Local\\Temp/ipykernel_14232/2309356834.py:31: FutureWarning: Pass y=[-0.00245159 -0.00196161 -0.00338197 ... -0.00093863 -0.0024112\n",
      "  0.        ] as keyword args. From version 0.10 passing these as positional arguments will result in an error\n",
      "  if librosa.get_duration(signal)>10:\n",
      "C:\\Users\\TUKUNA\\AppData\\Local\\Temp/ipykernel_14232/2309356834.py:40: FutureWarning: Pass y=[-0.00245159 -0.00196161 -0.00338197 ... -0.00350803  0.00020401\n",
      "  0.00079292] as keyword args. From version 0.10 passing these as positional arguments will result in an error\n",
      "  mfcc= librosa.feature.mfcc(signal[start_sample:finish_sample],\n",
      "C:\\Users\\TUKUNA\\AppData\\Local\\Temp/ipykernel_14232/2309356834.py:31: FutureWarning: Pass y=[-0.00290401 -0.00293031 -0.0034385  ... -0.0027014  -0.00195424\n",
      "  0.        ] as keyword args. From version 0.10 passing these as positional arguments will result in an error\n",
      "  if librosa.get_duration(signal)>10:\n",
      "C:\\Users\\TUKUNA\\AppData\\Local\\Temp/ipykernel_14232/2309356834.py:40: FutureWarning: Pass y=[-0.00290401 -0.00293031 -0.0034385  ... -0.00396805 -0.00488349\n",
      " -0.00336715] as keyword args. From version 0.10 passing these as positional arguments will result in an error\n",
      "  mfcc= librosa.feature.mfcc(signal[start_sample:finish_sample],\n",
      "C:\\Users\\TUKUNA\\AppData\\Local\\Temp/ipykernel_14232/2309356834.py:31: FutureWarning: Pass y=[-0.00050056 -0.00143864 -0.00150605 ... -0.00269119 -0.00235597\n",
      "  0.        ] as keyword args. From version 0.10 passing these as positional arguments will result in an error\n",
      "  if librosa.get_duration(signal)>10:\n",
      "C:\\Users\\TUKUNA\\AppData\\Local\\Temp/ipykernel_14232/2309356834.py:40: FutureWarning: Pass y=[-0.00050056 -0.00143864 -0.00150605 ... -0.00473812 -0.00604481\n",
      " -0.00615903] as keyword args. From version 0.10 passing these as positional arguments will result in an error\n",
      "  mfcc= librosa.feature.mfcc(signal[start_sample:finish_sample],\n"
     ]
    },
    {
     "name": "stdout",
     "output_type": "stream",
     "text": [
      "ocean_noise_data\\killer_whale\\9750300I.wav, segment:0\n"
     ]
    },
    {
     "name": "stderr",
     "output_type": "stream",
     "text": [
      "C:\\Users\\TUKUNA\\AppData\\Local\\Temp/ipykernel_14232/2309356834.py:31: FutureWarning: Pass y=[-0.00313799 -0.00271963 -0.00314742 ... -0.00196029 -0.00372337\n",
      "  0.        ] as keyword args. From version 0.10 passing these as positional arguments will result in an error\n",
      "  if librosa.get_duration(signal)>10:\n",
      "C:\\Users\\TUKUNA\\AppData\\Local\\Temp/ipykernel_14232/2309356834.py:32: FutureWarning: Pass y=[-0.00313799 -0.00271963 -0.00314742 ... -0.00196029 -0.00372337\n",
      "  0.        ] as keyword args. From version 0.10 passing these as positional arguments will result in an error\n",
      "  num_segments=int(librosa.get_duration(signal)/10)\n",
      "C:\\Users\\TUKUNA\\AppData\\Local\\Temp/ipykernel_14232/2309356834.py:40: FutureWarning: Pass y=[-0.00313799 -0.00271963 -0.00314742 ... -0.00351922 -0.00334579\n",
      " -0.00197226] as keyword args. From version 0.10 passing these as positional arguments will result in an error\n",
      "  mfcc= librosa.feature.mfcc(signal[start_sample:finish_sample],\n",
      "C:\\Users\\TUKUNA\\AppData\\Local\\Temp/ipykernel_14232/2309356834.py:31: FutureWarning: Pass y=[-0.00792371 -0.00767303 -0.00800258 ... -0.00067397 -0.00050517\n",
      "  0.        ] as keyword args. From version 0.10 passing these as positional arguments will result in an error\n",
      "  if librosa.get_duration(signal)>10:\n",
      "C:\\Users\\TUKUNA\\AppData\\Local\\Temp/ipykernel_14232/2309356834.py:40: FutureWarning: Pass y=[-7.9237139e-03 -7.6730251e-03 -8.0025829e-03 ... -1.0303385e-05\n",
      "  3.1032880e-06 -9.8335941e-04] as keyword args. From version 0.10 passing these as positional arguments will result in an error\n",
      "  mfcc= librosa.feature.mfcc(signal[start_sample:finish_sample],\n",
      "C:\\Users\\TUKUNA\\AppData\\Local\\Temp/ipykernel_14232/2309356834.py:31: FutureWarning: Pass y=[ 0.00020349  0.00172744  0.00075945 ... -0.00169062 -0.00331119\n",
      "  0.        ] as keyword args. From version 0.10 passing these as positional arguments will result in an error\n",
      "  if librosa.get_duration(signal)>10:\n",
      "C:\\Users\\TUKUNA\\AppData\\Local\\Temp/ipykernel_14232/2309356834.py:40: FutureWarning: Pass y=[ 0.00020349  0.00172744  0.00075945 ... -0.00472165 -0.00608992\n",
      " -0.00463892] as keyword args. From version 0.10 passing these as positional arguments will result in an error\n",
      "  mfcc= librosa.feature.mfcc(signal[start_sample:finish_sample],\n"
     ]
    },
    {
     "name": "stdout",
     "output_type": "stream",
     "text": [
      "ocean_noise_data\\killer_whale\\9750300N.wav, segment:0\n",
      "ocean_noise_data\\killer_whale\\9750300Q.wav, segment:0\n",
      "ocean_noise_data\\killer_whale\\9750300V.wav, segment:0\n"
     ]
    },
    {
     "name": "stderr",
     "output_type": "stream",
     "text": [
      "C:\\Users\\TUKUNA\\AppData\\Local\\Temp/ipykernel_14232/2309356834.py:31: FutureWarning: Pass y=[-0.00092258 -0.00102477 -0.00189105 ... -0.00245235 -0.00186852\n",
      "  0.        ] as keyword args. From version 0.10 passing these as positional arguments will result in an error\n",
      "  if librosa.get_duration(signal)>10:\n",
      "C:\\Users\\TUKUNA\\AppData\\Local\\Temp/ipykernel_14232/2309356834.py:40: FutureWarning: Pass y=[-0.00092258 -0.00102477 -0.00189105 ... -0.0042257  -0.00358233\n",
      " -0.00321788] as keyword args. From version 0.10 passing these as positional arguments will result in an error\n",
      "  mfcc= librosa.feature.mfcc(signal[start_sample:finish_sample],\n",
      "C:\\Users\\TUKUNA\\AppData\\Local\\Temp/ipykernel_14232/2309356834.py:31: FutureWarning: Pass y=[-0.00259294 -0.0018108  -0.00257241 ... -0.00329088 -0.0029867\n",
      "  0.        ] as keyword args. From version 0.10 passing these as positional arguments will result in an error\n",
      "  if librosa.get_duration(signal)>10:\n",
      "C:\\Users\\TUKUNA\\AppData\\Local\\Temp/ipykernel_14232/2309356834.py:40: FutureWarning: Pass y=[-0.00259294 -0.0018108  -0.00257241 ... -0.00248331 -0.00242384\n",
      " -0.00045975] as keyword args. From version 0.10 passing these as positional arguments will result in an error\n",
      "  mfcc= librosa.feature.mfcc(signal[start_sample:finish_sample],\n",
      "C:\\Users\\TUKUNA\\AppData\\Local\\Temp/ipykernel_14232/2309356834.py:31: FutureWarning: Pass y=[-0.00364408 -0.00223496 -0.00263155 ... -0.00065515 -0.00119705\n",
      "  0.        ] as keyword args. From version 0.10 passing these as positional arguments will result in an error\n",
      "  if librosa.get_duration(signal)>10:\n",
      "C:\\Users\\TUKUNA\\AppData\\Local\\Temp/ipykernel_14232/2309356834.py:40: FutureWarning: Pass y=[-0.00364408 -0.00223496 -0.00263155 ... -0.0019843  -0.00189307\n",
      " -0.00152543] as keyword args. From version 0.10 passing these as positional arguments will result in an error\n",
      "  mfcc= librosa.feature.mfcc(signal[start_sample:finish_sample],\n"
     ]
    },
    {
     "name": "stdout",
     "output_type": "stream",
     "text": [
      "ocean_noise_data\\killer_whale\\9750300Z.wav, segment:0\n",
      "ocean_noise_data\\killer_whale\\97503018.wav, segment:0\n",
      "ocean_noise_data\\killer_whale\\9750301L.wav, segment:0\n",
      "ocean_noise_data\\killer_whale\\9750301M.wav, segment:0\n",
      "ocean_noise_data\\killer_whale\\9750301O.wav, segment:0\n",
      "ocean_noise_data\\killer_whale\\9750301Q.wav, segment:0\n"
     ]
    },
    {
     "name": "stderr",
     "output_type": "stream",
     "text": [
      "C:\\Users\\TUKUNA\\AppData\\Local\\Temp/ipykernel_14232/2309356834.py:31: FutureWarning: Pass y=[-0.00364408 -0.00223496 -0.00263155 ... -0.00165495 -0.00222139\n",
      "  0.        ] as keyword args. From version 0.10 passing these as positional arguments will result in an error\n",
      "  if librosa.get_duration(signal)>10:\n",
      "C:\\Users\\TUKUNA\\AppData\\Local\\Temp/ipykernel_14232/2309356834.py:31: FutureWarning: Pass y=[-0.0013897  -0.00154414 -0.00090825 ... -0.0016101  -0.00234697\n",
      "  0.        ] as keyword args. From version 0.10 passing these as positional arguments will result in an error\n",
      "  if librosa.get_duration(signal)>10:\n",
      "C:\\Users\\TUKUNA\\AppData\\Local\\Temp/ipykernel_14232/2309356834.py:40: FutureWarning: Pass y=[-0.0013897  -0.00154414 -0.00090825 ... -0.00392201 -0.00440863\n",
      " -0.00486402] as keyword args. From version 0.10 passing these as positional arguments will result in an error\n",
      "  mfcc= librosa.feature.mfcc(signal[start_sample:finish_sample],\n",
      "C:\\Users\\TUKUNA\\AppData\\Local\\Temp/ipykernel_14232/2309356834.py:31: FutureWarning: Pass y=[-0.00186087 -0.00304199 -0.00183893 ... -0.00190874 -0.00256764\n",
      "  0.        ] as keyword args. From version 0.10 passing these as positional arguments will result in an error\n",
      "  if librosa.get_duration(signal)>10:\n",
      "C:\\Users\\TUKUNA\\AppData\\Local\\Temp/ipykernel_14232/2309356834.py:40: FutureWarning: Pass y=[-0.00186087 -0.00304199 -0.00183893 ...  0.0025687  -0.00217647\n",
      " -0.00178548] as keyword args. From version 0.10 passing these as positional arguments will result in an error\n",
      "  mfcc= librosa.feature.mfcc(signal[start_sample:finish_sample],\n",
      "C:\\Users\\TUKUNA\\AppData\\Local\\Temp/ipykernel_14232/2309356834.py:31: FutureWarning: Pass y=[-0.00329224 -0.00354175 -0.0033069  ... -0.00534304 -0.00258875\n",
      "  0.        ] as keyword args. From version 0.10 passing these as positional arguments will result in an error\n",
      "  if librosa.get_duration(signal)>10:\n",
      "C:\\Users\\TUKUNA\\AppData\\Local\\Temp/ipykernel_14232/2309356834.py:40: FutureWarning: Pass y=[-0.00329224 -0.00354175 -0.0033069  ... -0.00195447 -0.00398315\n",
      "  0.00015596] as keyword args. From version 0.10 passing these as positional arguments will result in an error\n",
      "  mfcc= librosa.feature.mfcc(signal[start_sample:finish_sample],\n",
      "C:\\Users\\TUKUNA\\AppData\\Local\\Temp/ipykernel_14232/2309356834.py:31: FutureWarning: Pass y=[-0.00601845 -0.00519252 -0.00510796 ...  0.00067013  0.00089085\n",
      "  0.        ] as keyword args. From version 0.10 passing these as positional arguments will result in an error\n",
      "  if librosa.get_duration(signal)>10:\n",
      "C:\\Users\\TUKUNA\\AppData\\Local\\Temp/ipykernel_14232/2309356834.py:40: FutureWarning: Pass y=[-0.00601845 -0.00519252 -0.00510796 ... -0.00387246  0.00607232\n",
      " -0.00614174] as keyword args. From version 0.10 passing these as positional arguments will result in an error\n",
      "  mfcc= librosa.feature.mfcc(signal[start_sample:finish_sample],\n",
      "C:\\Users\\TUKUNA\\AppData\\Local\\Temp/ipykernel_14232/2309356834.py:31: FutureWarning: Pass y=[-0.00260979  0.0045926  -0.00349276 ... -0.00323447  0.00673964\n",
      "  0.        ] as keyword args. From version 0.10 passing these as positional arguments will result in an error\n",
      "  if librosa.get_duration(signal)>10:\n",
      "C:\\Users\\TUKUNA\\AppData\\Local\\Temp/ipykernel_14232/2309356834.py:40: FutureWarning: Pass y=[-0.00260979  0.0045926  -0.00349276 ... -0.00315586 -0.00724283\n",
      " -0.00838786] as keyword args. From version 0.10 passing these as positional arguments will result in an error\n",
      "  mfcc= librosa.feature.mfcc(signal[start_sample:finish_sample],\n"
     ]
    },
    {
     "name": "stdout",
     "output_type": "stream",
     "text": [
      "ocean_noise_data\\killer_whale\\9750400C.wav, segment:0\n",
      "ocean_noise_data\\killer_whale\\9750400J.wav, segment:0\n",
      "ocean_noise_data\\killer_whale\\9750400V.wav, segment:0\n",
      "ocean_noise_data\\killer_whale\\9761900T.wav, segment:0\n",
      "ocean_noise_data\\killer_whale\\97619015.wav, segment:0\n"
     ]
    },
    {
     "name": "stderr",
     "output_type": "stream",
     "text": [
      "C:\\Users\\TUKUNA\\AppData\\Local\\Temp/ipykernel_14232/2309356834.py:31: FutureWarning: Pass y=[-0.00373118 -0.00460845 -0.00317967 ... -0.00095827 -0.00202887\n",
      "  0.        ] as keyword args. From version 0.10 passing these as positional arguments will result in an error\n",
      "  if librosa.get_duration(signal)>10:\n",
      "C:\\Users\\TUKUNA\\AppData\\Local\\Temp/ipykernel_14232/2309356834.py:40: FutureWarning: Pass y=[-0.00373118 -0.00460845 -0.00317967 ... -0.0045285  -0.00525112\n",
      " -0.0054989 ] as keyword args. From version 0.10 passing these as positional arguments will result in an error\n",
      "  mfcc= librosa.feature.mfcc(signal[start_sample:finish_sample],\n",
      "C:\\Users\\TUKUNA\\AppData\\Local\\Temp/ipykernel_14232/2309356834.py:31: FutureWarning: Pass y=[-0.00479137 -0.004042   -0.00901916 ...  0.01225927  0.01278314\n",
      "  0.        ] as keyword args. From version 0.10 passing these as positional arguments will result in an error\n",
      "  if librosa.get_duration(signal)>10:\n",
      "C:\\Users\\TUKUNA\\AppData\\Local\\Temp/ipykernel_14232/2309356834.py:40: FutureWarning: Pass y=[-0.00479137 -0.004042   -0.00901916 ... -0.01744606 -0.02376843\n",
      " -0.03600231] as keyword args. From version 0.10 passing these as positional arguments will result in an error\n",
      "  mfcc= librosa.feature.mfcc(signal[start_sample:finish_sample],\n",
      "C:\\Users\\TUKUNA\\AppData\\Local\\Temp/ipykernel_14232/2309356834.py:31: FutureWarning: Pass y=[-0.00053903 -0.00136379 -0.00879166 ... -0.00465458  0.00227533\n",
      "  0.        ] as keyword args. From version 0.10 passing these as positional arguments will result in an error\n",
      "  if librosa.get_duration(signal)>10:\n",
      "C:\\Users\\TUKUNA\\AppData\\Local\\Temp/ipykernel_14232/2309356834.py:40: FutureWarning: Pass y=[-0.00053903 -0.00136379 -0.00879166 ...  0.3669372   0.253715\n",
      "  0.10239659] as keyword args. From version 0.10 passing these as positional arguments will result in an error\n",
      "  mfcc= librosa.feature.mfcc(signal[start_sample:finish_sample],\n"
     ]
    },
    {
     "name": "stdout",
     "output_type": "stream",
     "text": [
      "ocean_noise_data\\killer_whale\\9769201Q.wav, segment:0\n",
      "\n",
      " processingocean_noise_data\\leopard_seal\n"
     ]
    },
    {
     "name": "stderr",
     "output_type": "stream",
     "text": [
      "C:\\Users\\TUKUNA\\AppData\\Local\\Temp/ipykernel_14232/2309356834.py:31: FutureWarning: Pass y=[ 0.00108447  0.00150803  0.0019836  ... -0.00090535 -0.00038626\n",
      "  0.        ] as keyword args. From version 0.10 passing these as positional arguments will result in an error\n",
      "  if librosa.get_duration(signal)>10:\n",
      "C:\\Users\\TUKUNA\\AppData\\Local\\Temp/ipykernel_14232/2309356834.py:40: FutureWarning: Pass y=[ 0.00108447  0.00150803  0.0019836  ... -0.06238179 -0.06064102\n",
      " -0.05825077] as keyword args. From version 0.10 passing these as positional arguments will result in an error\n",
      "  mfcc= librosa.feature.mfcc(signal[start_sample:finish_sample],\n",
      "C:\\Users\\TUKUNA\\AppData\\Local\\Temp/ipykernel_14232/2309356834.py:31: FutureWarning: Pass y=[-0.00705343 -0.00546745 -0.00238636 ... -0.04149842 -0.02783781\n",
      "  0.        ] as keyword args. From version 0.10 passing these as positional arguments will result in an error\n",
      "  if librosa.get_duration(signal)>10:\n",
      "C:\\Users\\TUKUNA\\AppData\\Local\\Temp/ipykernel_14232/2309356834.py:40: FutureWarning: Pass y=[-0.00705343 -0.00546745 -0.00238636 ...  0.11429033  0.11531017\n",
      "  0.11533628] as keyword args. From version 0.10 passing these as positional arguments will result in an error\n",
      "  mfcc= librosa.feature.mfcc(signal[start_sample:finish_sample],\n"
     ]
    },
    {
     "name": "stdout",
     "output_type": "stream",
     "text": [
      "ocean_noise_data\\leopard_seal\\6608400I.wav, segment:0\n",
      "ocean_noise_data\\leopard_seal\\6608400J.wav, segment:0\n"
     ]
    },
    {
     "name": "stderr",
     "output_type": "stream",
     "text": [
      "C:\\Users\\TUKUNA\\AppData\\Local\\Temp/ipykernel_14232/2309356834.py:31: FutureWarning: Pass y=[-0.00658788 -0.00608233 -0.00487015 ... -0.03379229 -0.01877689\n",
      "  0.        ] as keyword args. From version 0.10 passing these as positional arguments will result in an error\n",
      "  if librosa.get_duration(signal)>10:\n",
      "C:\\Users\\TUKUNA\\AppData\\Local\\Temp/ipykernel_14232/2309356834.py:40: FutureWarning: Pass y=[-0.00658788 -0.00608233 -0.00487015 ... -0.0857969  -0.10252098\n",
      " -0.11889974] as keyword args. From version 0.10 passing these as positional arguments will result in an error\n",
      "  mfcc= librosa.feature.mfcc(signal[start_sample:finish_sample],\n"
     ]
    },
    {
     "name": "stdout",
     "output_type": "stream",
     "text": [
      "ocean_noise_data\\leopard_seal\\6608400P.wav, segment:0\n"
     ]
    },
    {
     "name": "stderr",
     "output_type": "stream",
     "text": [
      "C:\\Users\\TUKUNA\\AppData\\Local\\Temp/ipykernel_14232/2309356834.py:31: FutureWarning: Pass y=[-0.00461453 -0.00544291 -0.00635196 ...  0.00213757  0.00130063\n",
      "  0.        ] as keyword args. From version 0.10 passing these as positional arguments will result in an error\n",
      "  if librosa.get_duration(signal)>10:\n",
      "C:\\Users\\TUKUNA\\AppData\\Local\\Temp/ipykernel_14232/2309356834.py:40: FutureWarning: Pass y=[-0.00461453 -0.00544291 -0.00635196 ... -0.04791508 -0.04655356\n",
      " -0.04478808] as keyword args. From version 0.10 passing these as positional arguments will result in an error\n",
      "  mfcc= librosa.feature.mfcc(signal[start_sample:finish_sample],\n"
     ]
    },
    {
     "name": "stdout",
     "output_type": "stream",
     "text": [
      "ocean_noise_data\\leopard_seal\\6608400Q.wav, segment:0\n"
     ]
    },
    {
     "name": "stderr",
     "output_type": "stream",
     "text": [
      "C:\\Users\\TUKUNA\\AppData\\Local\\Temp/ipykernel_14232/2309356834.py:31: FutureWarning: Pass y=[-0.07294111 -0.08104762 -0.08307545 ... -0.00629152 -0.00313093\n",
      "  0.        ] as keyword args. From version 0.10 passing these as positional arguments will result in an error\n",
      "  if librosa.get_duration(signal)>10:\n",
      "C:\\Users\\TUKUNA\\AppData\\Local\\Temp/ipykernel_14232/2309356834.py:40: FutureWarning: Pass y=[-0.07294111 -0.08104762 -0.08307545 ...  0.09662089  0.10008921\n",
      "  0.10303212] as keyword args. From version 0.10 passing these as positional arguments will result in an error\n",
      "  mfcc= librosa.feature.mfcc(signal[start_sample:finish_sample],\n"
     ]
    },
    {
     "name": "stdout",
     "output_type": "stream",
     "text": [
      "ocean_noise_data\\leopard_seal\\6608400R.wav, segment:0\n"
     ]
    },
    {
     "name": "stderr",
     "output_type": "stream",
     "text": [
      "C:\\Users\\TUKUNA\\AppData\\Local\\Temp/ipykernel_14232/2309356834.py:31: FutureWarning: Pass y=[ 0.0083571   0.00909741  0.00889152 ... -0.00239539 -0.00193419\n",
      "  0.        ] as keyword args. From version 0.10 passing these as positional arguments will result in an error\n",
      "  if librosa.get_duration(signal)>10:\n",
      "C:\\Users\\TUKUNA\\AppData\\Local\\Temp/ipykernel_14232/2309356834.py:40: FutureWarning: Pass y=[ 0.0083571   0.00909741  0.00889152 ... -0.0032392  -0.00453177\n",
      " -0.00534444] as keyword args. From version 0.10 passing these as positional arguments will result in an error\n",
      "  mfcc= librosa.feature.mfcc(signal[start_sample:finish_sample],\n"
     ]
    },
    {
     "name": "stdout",
     "output_type": "stream",
     "text": [
      "ocean_noise_data\\leopard_seal\\6608400T.wav, segment:0\n"
     ]
    },
    {
     "name": "stderr",
     "output_type": "stream",
     "text": [
      "C:\\Users\\TUKUNA\\AppData\\Local\\Temp/ipykernel_14232/2309356834.py:31: FutureWarning: Pass y=[0.03969242 0.04382268 0.04487932 ... 0.0071065  0.00346082 0.        ] as keyword args. From version 0.10 passing these as positional arguments will result in an error\n",
      "  if librosa.get_duration(signal)>10:\n",
      "C:\\Users\\TUKUNA\\AppData\\Local\\Temp/ipykernel_14232/2309356834.py:40: FutureWarning: Pass y=[ 0.03969242  0.04382268  0.04487932 ... -0.0466917  -0.04508196\n",
      " -0.04343355] as keyword args. From version 0.10 passing these as positional arguments will result in an error\n",
      "  mfcc= librosa.feature.mfcc(signal[start_sample:finish_sample],\n",
      "C:\\Users\\TUKUNA\\AppData\\Local\\Temp/ipykernel_14232/2309356834.py:31: FutureWarning: Pass y=[-0.00216345 -0.00063258  0.00182127 ... -0.01686719 -0.01126119\n",
      " -0.00552317] as keyword args. From version 0.10 passing these as positional arguments will result in an error\n",
      "  if librosa.get_duration(signal)>10:\n",
      "C:\\Users\\TUKUNA\\AppData\\Local\\Temp/ipykernel_14232/2309356834.py:40: FutureWarning: Pass y=[-0.00216345 -0.00063258  0.00182127 ... -0.10432467 -0.10425195\n",
      " -0.10384651] as keyword args. From version 0.10 passing these as positional arguments will result in an error\n",
      "  mfcc= librosa.feature.mfcc(signal[start_sample:finish_sample],\n"
     ]
    },
    {
     "name": "stdout",
     "output_type": "stream",
     "text": [
      "ocean_noise_data\\leopard_seal\\6608400Z.wav, segment:0\n",
      "ocean_noise_data\\leopard_seal\\66084010.wav, segment:0\n"
     ]
    },
    {
     "name": "stderr",
     "output_type": "stream",
     "text": [
      "C:\\Users\\TUKUNA\\AppData\\Local\\Temp/ipykernel_14232/2309356834.py:31: FutureWarning: Pass y=[-0.02930381 -0.03454107 -0.03847639 ...  0.00065743  0.00033989\n",
      "  0.        ] as keyword args. From version 0.10 passing these as positional arguments will result in an error\n",
      "  if librosa.get_duration(signal)>10:\n",
      "C:\\Users\\TUKUNA\\AppData\\Local\\Temp/ipykernel_14232/2309356834.py:40: FutureWarning: Pass y=[-0.02930381 -0.03454107 -0.03847639 ... -0.03172531 -0.0452001\n",
      " -0.05874211] as keyword args. From version 0.10 passing these as positional arguments will result in an error\n",
      "  mfcc= librosa.feature.mfcc(signal[start_sample:finish_sample],\n"
     ]
    },
    {
     "name": "stdout",
     "output_type": "stream",
     "text": [
      "ocean_noise_data\\leopard_seal\\66084013.wav, segment:0\n",
      "\n",
      " processingocean_noise_data\\melon_headed_whale\n"
     ]
    },
    {
     "name": "stderr",
     "output_type": "stream",
     "text": [
      "C:\\Users\\TUKUNA\\AppData\\Local\\Temp/ipykernel_14232/2309356834.py:31: FutureWarning: Pass y=[-0.00051599  0.08667504 -0.00972516 ...  0.0397325   0.04455328\n",
      "  0.        ] as keyword args. From version 0.10 passing these as positional arguments will result in an error\n",
      "  if librosa.get_duration(signal)>10:\n",
      "C:\\Users\\TUKUNA\\AppData\\Local\\Temp/ipykernel_14232/2309356834.py:40: FutureWarning: Pass y=[-0.00051599  0.08667504 -0.00972516 ...  0.0397325   0.04455328\n",
      "  0.        ] as keyword args. From version 0.10 passing these as positional arguments will result in an error\n",
      "  mfcc= librosa.feature.mfcc(signal[start_sample:finish_sample],\n",
      "C:\\Users\\TUKUNA\\AppData\\Local\\Temp/ipykernel_14232/2309356834.py:31: FutureWarning: Pass y=[-0.03503689  0.0056693  -0.0361955  ...  0.06033776  0.00578055\n",
      "  0.        ] as keyword args. From version 0.10 passing these as positional arguments will result in an error\n",
      "  if librosa.get_duration(signal)>10:\n",
      "C:\\Users\\TUKUNA\\AppData\\Local\\Temp/ipykernel_14232/2309356834.py:40: FutureWarning: Pass y=[-0.03503689  0.0056693  -0.0361955  ...  0.06033776  0.00578055\n",
      "  0.        ] as keyword args. From version 0.10 passing these as positional arguments will result in an error\n",
      "  mfcc= librosa.feature.mfcc(signal[start_sample:finish_sample],\n",
      "C:\\Users\\TUKUNA\\AppData\\Local\\Temp/ipykernel_14232/2309356834.py:31: FutureWarning: Pass y=[ 0.0135842  -0.13578078 -0.1424157  ... -0.03659156 -0.03311333\n",
      "  0.        ] as keyword args. From version 0.10 passing these as positional arguments will result in an error\n",
      "  if librosa.get_duration(signal)>10:\n",
      "C:\\Users\\TUKUNA\\AppData\\Local\\Temp/ipykernel_14232/2309356834.py:40: FutureWarning: Pass y=[ 0.0135842  -0.13578078 -0.1424157  ... -0.03659156 -0.03311333\n",
      "  0.        ] as keyword args. From version 0.10 passing these as positional arguments will result in an error\n",
      "  mfcc= librosa.feature.mfcc(signal[start_sample:finish_sample],\n",
      "C:\\Users\\TUKUNA\\AppData\\Local\\Temp/ipykernel_14232/2309356834.py:31: FutureWarning: Pass y=[ 0.01957388 -0.01007561 -0.00904859 ... -0.09022135  0.02057718\n",
      "  0.        ] as keyword args. From version 0.10 passing these as positional arguments will result in an error\n",
      "  if librosa.get_duration(signal)>10:\n",
      "C:\\Users\\TUKUNA\\AppData\\Local\\Temp/ipykernel_14232/2309356834.py:40: FutureWarning: Pass y=[ 0.01957388 -0.01007561 -0.00904859 ... -0.09022135  0.02057718\n",
      "  0.        ] as keyword args. From version 0.10 passing these as positional arguments will result in an error\n",
      "  mfcc= librosa.feature.mfcc(signal[start_sample:finish_sample],\n",
      "C:\\Users\\TUKUNA\\AppData\\Local\\Temp/ipykernel_14232/2309356834.py:31: FutureWarning: Pass y=[-0.01131753 -0.02587507 -0.04865486 ...  0.03153417  0.05193898\n",
      "  0.        ] as keyword args. From version 0.10 passing these as positional arguments will result in an error\n",
      "  if librosa.get_duration(signal)>10:\n",
      "C:\\Users\\TUKUNA\\AppData\\Local\\Temp/ipykernel_14232/2309356834.py:40: FutureWarning: Pass y=[-0.01131753 -0.02587507 -0.04865486 ... -0.08462664 -0.08109619\n",
      " -0.100201  ] as keyword args. From version 0.10 passing these as positional arguments will result in an error\n",
      "  mfcc= librosa.feature.mfcc(signal[start_sample:finish_sample],\n"
     ]
    },
    {
     "name": "stdout",
     "output_type": "stream",
     "text": [
      "ocean_noise_data\\melon_headed_whale\\9101200B.wav, segment:0\n"
     ]
    },
    {
     "name": "stderr",
     "output_type": "stream",
     "text": [
      "C:\\Users\\TUKUNA\\AppData\\Local\\Temp/ipykernel_14232/2309356834.py:31: FutureWarning: Pass y=[-0.00656905  0.01804122  0.02794364 ...  0.06229395 -0.00731742\n",
      "  0.        ] as keyword args. From version 0.10 passing these as positional arguments will result in an error\n",
      "  if librosa.get_duration(signal)>10:\n",
      "C:\\Users\\TUKUNA\\AppData\\Local\\Temp/ipykernel_14232/2309356834.py:40: FutureWarning: Pass y=[-0.00656905  0.01804122  0.02794364 ... -0.01903206 -0.0223074\n",
      " -0.02862484] as keyword args. From version 0.10 passing these as positional arguments will result in an error\n",
      "  mfcc= librosa.feature.mfcc(signal[start_sample:finish_sample],\n"
     ]
    },
    {
     "name": "stdout",
     "output_type": "stream",
     "text": [
      "ocean_noise_data\\melon_headed_whale\\9101200C.wav, segment:0\n"
     ]
    },
    {
     "name": "stderr",
     "output_type": "stream",
     "text": [
      "C:\\Users\\TUKUNA\\AppData\\Local\\Temp/ipykernel_14232/2309356834.py:31: FutureWarning: Pass y=[-0.00350538  0.00152087 -0.00930298 ...  0.02864635  0.04620447\n",
      "  0.        ] as keyword args. From version 0.10 passing these as positional arguments will result in an error\n",
      "  if librosa.get_duration(signal)>10:\n",
      "C:\\Users\\TUKUNA\\AppData\\Local\\Temp/ipykernel_14232/2309356834.py:40: FutureWarning: Pass y=[-0.00350538  0.00152087 -0.00930298 ...  0.08692452  0.20269981\n",
      " -0.04452175] as keyword args. From version 0.10 passing these as positional arguments will result in an error\n",
      "  mfcc= librosa.feature.mfcc(signal[start_sample:finish_sample],\n",
      "C:\\Users\\TUKUNA\\AppData\\Local\\Temp/ipykernel_14232/2309356834.py:31: FutureWarning: Pass y=[ 0.04948317  0.0182367  -0.08653546 ... -0.08306253 -0.12167099\n",
      "  0.        ] as keyword args. From version 0.10 passing these as positional arguments will result in an error\n",
      "  if librosa.get_duration(signal)>10:\n",
      "C:\\Users\\TUKUNA\\AppData\\Local\\Temp/ipykernel_14232/2309356834.py:40: FutureWarning: Pass y=[ 0.04948317  0.0182367  -0.08653546 ...  0.02682924  0.04472584\n",
      "  0.05193291] as keyword args. From version 0.10 passing these as positional arguments will result in an error\n",
      "  mfcc= librosa.feature.mfcc(signal[start_sample:finish_sample],\n"
     ]
    },
    {
     "name": "stdout",
     "output_type": "stream",
     "text": [
      "ocean_noise_data\\melon_headed_whale\\9101200I.wav, segment:0\n",
      "ocean_noise_data\\melon_headed_whale\\9101200K.wav, segment:0\n"
     ]
    },
    {
     "name": "stderr",
     "output_type": "stream",
     "text": [
      "C:\\Users\\TUKUNA\\AppData\\Local\\Temp/ipykernel_14232/2309356834.py:31: FutureWarning: Pass y=[-0.00220219  0.01784116  0.00681648 ...  0.05584744 -0.00164388\n",
      "  0.        ] as keyword args. From version 0.10 passing these as positional arguments will result in an error\n",
      "  if librosa.get_duration(signal)>10:\n",
      "C:\\Users\\TUKUNA\\AppData\\Local\\Temp/ipykernel_14232/2309356834.py:40: FutureWarning: Pass y=[-0.00220219  0.01784116  0.00681648 ...  0.05584744 -0.00164388\n",
      "  0.        ] as keyword args. From version 0.10 passing these as positional arguments will result in an error\n",
      "  mfcc= librosa.feature.mfcc(signal[start_sample:finish_sample],\n",
      "C:\\Users\\TUKUNA\\AppData\\Local\\Temp/ipykernel_14232/2309356834.py:31: FutureWarning: Pass y=[-0.0258102   0.00857079  0.01406531 ...  0.1610035   0.06390589\n",
      "  0.        ] as keyword args. From version 0.10 passing these as positional arguments will result in an error\n",
      "  if librosa.get_duration(signal)>10:\n",
      "C:\\Users\\TUKUNA\\AppData\\Local\\Temp/ipykernel_14232/2309356834.py:40: FutureWarning: Pass y=[-0.0258102   0.00857079  0.01406531 ...  0.105026    0.12076876\n",
      "  0.05349081] as keyword args. From version 0.10 passing these as positional arguments will result in an error\n",
      "  mfcc= librosa.feature.mfcc(signal[start_sample:finish_sample],\n",
      "C:\\Users\\TUKUNA\\AppData\\Local\\Temp/ipykernel_14232/2309356834.py:31: FutureWarning: Pass y=[-0.06055941 -0.0369368  -0.06822529 ...  0.07476411  0.06064818\n",
      "  0.        ] as keyword args. From version 0.10 passing these as positional arguments will result in an error\n",
      "  if librosa.get_duration(signal)>10:\n",
      "C:\\Users\\TUKUNA\\AppData\\Local\\Temp/ipykernel_14232/2309356834.py:40: FutureWarning: Pass y=[-0.06055941 -0.0369368  -0.06822529 ...  0.07476411  0.06064818\n",
      "  0.        ] as keyword args. From version 0.10 passing these as positional arguments will result in an error\n",
      "  mfcc= librosa.feature.mfcc(signal[start_sample:finish_sample],\n"
     ]
    },
    {
     "name": "stdout",
     "output_type": "stream",
     "text": [
      "ocean_noise_data\\melon_headed_whale\\91012016.wav, segment:0\n"
     ]
    },
    {
     "name": "stderr",
     "output_type": "stream",
     "text": [
      "C:\\Users\\TUKUNA\\AppData\\Local\\Temp/ipykernel_14232/2309356834.py:31: FutureWarning: Pass y=[-0.0165541  -0.03386295 -0.01732977 ... -0.03028702  0.04381431\n",
      "  0.        ] as keyword args. From version 0.10 passing these as positional arguments will result in an error\n",
      "  if librosa.get_duration(signal)>10:\n",
      "C:\\Users\\TUKUNA\\AppData\\Local\\Temp/ipykernel_14232/2309356834.py:40: FutureWarning: Pass y=[-0.0165541  -0.03386295 -0.01732977 ...  0.05264437 -0.09206427\n",
      " -0.16514353] as keyword args. From version 0.10 passing these as positional arguments will result in an error\n",
      "  mfcc= librosa.feature.mfcc(signal[start_sample:finish_sample],\n",
      "C:\\Users\\TUKUNA\\AppData\\Local\\Temp/ipykernel_14232/2309356834.py:31: FutureWarning: Pass y=[ 0.00394419  0.07051384  0.0354147  ...  0.01728298 -0.0539907\n",
      "  0.        ] as keyword args. From version 0.10 passing these as positional arguments will result in an error\n",
      "  if librosa.get_duration(signal)>10:\n",
      "C:\\Users\\TUKUNA\\AppData\\Local\\Temp/ipykernel_14232/2309356834.py:40: FutureWarning: Pass y=[ 0.00394419  0.07051384  0.0354147  ...  0.01728298 -0.0539907\n",
      "  0.        ] as keyword args. From version 0.10 passing these as positional arguments will result in an error\n",
      "  mfcc= librosa.feature.mfcc(signal[start_sample:finish_sample],\n"
     ]
    },
    {
     "name": "stdout",
     "output_type": "stream",
     "text": [
      "ocean_noise_data\\melon_headed_whale\\9101201C.wav, segment:0\n"
     ]
    },
    {
     "name": "stderr",
     "output_type": "stream",
     "text": [
      "C:\\Users\\TUKUNA\\AppData\\Local\\Temp/ipykernel_14232/2309356834.py:31: FutureWarning: Pass y=[0.00160363 0.05902233 0.06711454 ... 0.07885564 0.02427161 0.        ] as keyword args. From version 0.10 passing these as positional arguments will result in an error\n",
      "  if librosa.get_duration(signal)>10:\n",
      "C:\\Users\\TUKUNA\\AppData\\Local\\Temp/ipykernel_14232/2309356834.py:40: FutureWarning: Pass y=[ 0.00160363  0.05902233  0.06711454 ...  0.03703832 -0.02060519\n",
      "  0.0203251 ] as keyword args. From version 0.10 passing these as positional arguments will result in an error\n",
      "  mfcc= librosa.feature.mfcc(signal[start_sample:finish_sample],\n",
      "C:\\Users\\TUKUNA\\AppData\\Local\\Temp/ipykernel_14232/2309356834.py:31: FutureWarning: Pass y=[ 0.01073767 -0.01398474  0.03052028 ... -0.0629698  -0.01290173\n",
      "  0.        ] as keyword args. From version 0.10 passing these as positional arguments will result in an error\n",
      "  if librosa.get_duration(signal)>10:\n"
     ]
    },
    {
     "name": "stdout",
     "output_type": "stream",
     "text": [
      "ocean_noise_data\\melon_headed_whale\\9101201F.wav, segment:0\n"
     ]
    },
    {
     "name": "stderr",
     "output_type": "stream",
     "text": [
      "C:\\Users\\TUKUNA\\AppData\\Local\\Temp/ipykernel_14232/2309356834.py:40: FutureWarning: Pass y=[ 0.01073767 -0.01398474  0.03052028 ... -0.0629698  -0.01290173\n",
      "  0.        ] as keyword args. From version 0.10 passing these as positional arguments will result in an error\n",
      "  mfcc= librosa.feature.mfcc(signal[start_sample:finish_sample],\n",
      "C:\\Users\\TUKUNA\\AppData\\Local\\Temp/ipykernel_14232/2309356834.py:31: FutureWarning: Pass y=[ 0.00089841 -0.0063564  -0.04334861 ...  0.03878487  0.02621396\n",
      "  0.        ] as keyword args. From version 0.10 passing these as positional arguments will result in an error\n",
      "  if librosa.get_duration(signal)>10:\n",
      "C:\\Users\\TUKUNA\\AppData\\Local\\Temp/ipykernel_14232/2309356834.py:40: FutureWarning: Pass y=[ 0.00089841 -0.0063564  -0.04334861 ...  0.09459041  0.12057379\n",
      "  0.0381687 ] as keyword args. From version 0.10 passing these as positional arguments will result in an error\n",
      "  mfcc= librosa.feature.mfcc(signal[start_sample:finish_sample],\n",
      "C:\\Users\\TUKUNA\\AppData\\Local\\Temp/ipykernel_14232/2309356834.py:31: FutureWarning: Pass y=[-0.08604674 -0.10132899 -0.04203421 ... -0.04462429  0.12357201\n",
      "  0.        ] as keyword args. From version 0.10 passing these as positional arguments will result in an error\n",
      "  if librosa.get_duration(signal)>10:\n",
      "C:\\Users\\TUKUNA\\AppData\\Local\\Temp/ipykernel_14232/2309356834.py:40: FutureWarning: Pass y=[-0.08604674 -0.10132899 -0.04203421 ... -0.04462429  0.12357201\n",
      "  0.        ] as keyword args. From version 0.10 passing these as positional arguments will result in an error\n",
      "  mfcc= librosa.feature.mfcc(signal[start_sample:finish_sample],\n"
     ]
    },
    {
     "name": "stdout",
     "output_type": "stream",
     "text": [
      "ocean_noise_data\\melon_headed_whale\\9101201L.wav, segment:0\n"
     ]
    },
    {
     "name": "stderr",
     "output_type": "stream",
     "text": [
      "C:\\Users\\TUKUNA\\AppData\\Local\\Temp/ipykernel_14232/2309356834.py:31: FutureWarning: Pass y=[ 3.8321763e-03  6.3769221e-03 -2.4731774e-03 ...  2.0140793e-02\n",
      "  6.5214103e-05  0.0000000e+00] as keyword args. From version 0.10 passing these as positional arguments will result in an error\n",
      "  if librosa.get_duration(signal)>10:\n",
      "C:\\Users\\TUKUNA\\AppData\\Local\\Temp/ipykernel_14232/2309356834.py:40: FutureWarning: Pass y=[ 0.00383218  0.00637692 -0.00247318 ... -0.04028464  0.04552449\n",
      "  0.08639169] as keyword args. From version 0.10 passing these as positional arguments will result in an error\n",
      "  mfcc= librosa.feature.mfcc(signal[start_sample:finish_sample],\n",
      "C:\\Users\\TUKUNA\\AppData\\Local\\Temp/ipykernel_14232/2309356834.py:31: FutureWarning: Pass y=[-0.01307528  0.04177059  0.06918421 ...  0.00357242 -0.00804843\n",
      "  0.        ] as keyword args. From version 0.10 passing these as positional arguments will result in an error\n",
      "  if librosa.get_duration(signal)>10:\n",
      "C:\\Users\\TUKUNA\\AppData\\Local\\Temp/ipykernel_14232/2309356834.py:40: FutureWarning: Pass y=[-0.01307528  0.04177059  0.06918421 ...  0.00357242 -0.00804843\n",
      "  0.        ] as keyword args. From version 0.10 passing these as positional arguments will result in an error\n",
      "  mfcc= librosa.feature.mfcc(signal[start_sample:finish_sample],\n"
     ]
    },
    {
     "name": "stdout",
     "output_type": "stream",
     "text": [
      "ocean_noise_data\\melon_headed_whale\\9101201Z.wav, segment:0\n"
     ]
    },
    {
     "name": "stderr",
     "output_type": "stream",
     "text": [
      "C:\\Users\\TUKUNA\\AppData\\Local\\Temp/ipykernel_14232/2309356834.py:31: FutureWarning: Pass y=[-0.02597189  0.0023273  -0.00056996 ...  0.03133555  0.05579324\n",
      "  0.        ] as keyword args. From version 0.10 passing these as positional arguments will result in an error\n",
      "  if librosa.get_duration(signal)>10:\n",
      "C:\\Users\\TUKUNA\\AppData\\Local\\Temp/ipykernel_14232/2309356834.py:40: FutureWarning: Pass y=[-0.02597189  0.0023273  -0.00056996 ...  0.03133555  0.05579324\n",
      "  0.        ] as keyword args. From version 0.10 passing these as positional arguments will result in an error\n",
      "  mfcc= librosa.feature.mfcc(signal[start_sample:finish_sample],\n",
      "C:\\Users\\TUKUNA\\AppData\\Local\\Temp/ipykernel_14232/2309356834.py:31: FutureWarning: Pass y=[ 0.04450116  0.07316194  0.07918788 ...  0.04252307 -0.02589829\n",
      "  0.        ] as keyword args. From version 0.10 passing these as positional arguments will result in an error\n",
      "  if librosa.get_duration(signal)>10:\n",
      "C:\\Users\\TUKUNA\\AppData\\Local\\Temp/ipykernel_14232/2309356834.py:40: FutureWarning: Pass y=[ 0.04450116  0.07316194  0.07918788 ...  0.04252307 -0.02589829\n",
      "  0.        ] as keyword args. From version 0.10 passing these as positional arguments will result in an error\n",
      "  mfcc= librosa.feature.mfcc(signal[start_sample:finish_sample],\n",
      "C:\\Users\\TUKUNA\\AppData\\Local\\Temp/ipykernel_14232/2309356834.py:31: FutureWarning: Pass y=[-0.03023549  0.01064579  0.06632968 ... -0.03248715  0.01702108\n",
      "  0.        ] as keyword args. From version 0.10 passing these as positional arguments will result in an error\n",
      "  if librosa.get_duration(signal)>10:\n",
      "C:\\Users\\TUKUNA\\AppData\\Local\\Temp/ipykernel_14232/2309356834.py:40: FutureWarning: Pass y=[-0.03023549  0.01064579  0.06632968 ... -0.03248715  0.01702108\n",
      "  0.        ] as keyword args. From version 0.10 passing these as positional arguments will result in an error\n",
      "  mfcc= librosa.feature.mfcc(signal[start_sample:finish_sample],\n",
      "C:\\Users\\TUKUNA\\AppData\\Local\\Temp/ipykernel_14232/2309356834.py:31: FutureWarning: Pass y=[0.0410709  0.03950301 0.03935163 ... 0.00683613 0.04511243 0.        ] as keyword args. From version 0.10 passing these as positional arguments will result in an error\n",
      "  if librosa.get_duration(signal)>10:\n",
      "C:\\Users\\TUKUNA\\AppData\\Local\\Temp/ipykernel_14232/2309356834.py:40: FutureWarning: Pass y=[0.0410709  0.03950301 0.03935163 ... 0.00683613 0.04511243 0.        ] as keyword args. From version 0.10 passing these as positional arguments will result in an error\n",
      "  mfcc= librosa.feature.mfcc(signal[start_sample:finish_sample],\n",
      "C:\\Users\\TUKUNA\\AppData\\Local\\Temp/ipykernel_14232/2309356834.py:31: FutureWarning: Pass y=[ 0.04303638 -0.03501208  0.04636217 ...  0.14746132  0.11612557\n",
      "  0.        ] as keyword args. From version 0.10 passing these as positional arguments will result in an error\n",
      "  if librosa.get_duration(signal)>10:\n",
      "C:\\Users\\TUKUNA\\AppData\\Local\\Temp/ipykernel_14232/2309356834.py:40: FutureWarning: Pass y=[ 0.04303638 -0.03501208  0.04636217 ...  0.14746132  0.11612557\n",
      "  0.        ] as keyword args. From version 0.10 passing these as positional arguments will result in an error\n",
      "  mfcc= librosa.feature.mfcc(signal[start_sample:finish_sample],\n",
      "C:\\Users\\TUKUNA\\AppData\\Local\\Temp/ipykernel_14232/2309356834.py:31: FutureWarning: Pass y=[-0.02139817 -0.00340778 -0.00449334 ... -0.11449812 -0.09868798\n",
      "  0.        ] as keyword args. From version 0.10 passing these as positional arguments will result in an error\n",
      "  if librosa.get_duration(signal)>10:\n",
      "C:\\Users\\TUKUNA\\AppData\\Local\\Temp/ipykernel_14232/2309356834.py:40: FutureWarning: Pass y=[-0.02139817 -0.00340778 -0.00449334 ... -0.11449812 -0.09868798\n",
      "  0.        ] as keyword args. From version 0.10 passing these as positional arguments will result in an error\n",
      "  mfcc= librosa.feature.mfcc(signal[start_sample:finish_sample],\n",
      "C:\\Users\\TUKUNA\\AppData\\Local\\Temp/ipykernel_14232/2309356834.py:31: FutureWarning: Pass y=[ 0.04476385  0.11397601  0.0865139  ... -0.01170865 -0.01733046\n",
      "  0.        ] as keyword args. From version 0.10 passing these as positional arguments will result in an error\n",
      "  if librosa.get_duration(signal)>10:\n",
      "C:\\Users\\TUKUNA\\AppData\\Local\\Temp/ipykernel_14232/2309356834.py:40: FutureWarning: Pass y=[ 0.04476385  0.11397601  0.0865139  ... -0.01170865 -0.01733046\n",
      "  0.        ] as keyword args. From version 0.10 passing these as positional arguments will result in an error\n",
      "  mfcc= librosa.feature.mfcc(signal[start_sample:finish_sample],\n",
      "C:\\Users\\TUKUNA\\AppData\\Local\\Temp/ipykernel_14232/2309356834.py:31: FutureWarning: Pass y=[-0.02163627 -0.0022227  -0.04330121 ...  0.00162766 -0.00360139\n",
      "  0.        ] as keyword args. From version 0.10 passing these as positional arguments will result in an error\n",
      "  if librosa.get_duration(signal)>10:\n",
      "C:\\Users\\TUKUNA\\AppData\\Local\\Temp/ipykernel_14232/2309356834.py:40: FutureWarning: Pass y=[-0.02163627 -0.0022227  -0.04330121 ...  0.00162766 -0.00360139\n",
      "  0.        ] as keyword args. From version 0.10 passing these as positional arguments will result in an error\n",
      "  mfcc= librosa.feature.mfcc(signal[start_sample:finish_sample],\n",
      "C:\\Users\\TUKUNA\\AppData\\Local\\Temp/ipykernel_14232/2309356834.py:31: FutureWarning: Pass y=[-0.00445032  0.02503549 -0.00702925 ...  0.00173404  0.0030715\n",
      "  0.        ] as keyword args. From version 0.10 passing these as positional arguments will result in an error\n",
      "  if librosa.get_duration(signal)>10:\n",
      "C:\\Users\\TUKUNA\\AppData\\Local\\Temp/ipykernel_14232/2309356834.py:40: FutureWarning: Pass y=[-0.00445032  0.02503549 -0.00702925 ...  0.00173404  0.0030715\n",
      "  0.        ] as keyword args. From version 0.10 passing these as positional arguments will result in an error\n",
      "  mfcc= librosa.feature.mfcc(signal[start_sample:finish_sample],\n",
      "C:\\Users\\TUKUNA\\AppData\\Local\\Temp/ipykernel_14232/2309356834.py:31: FutureWarning: Pass y=[-0.12621415 -0.0752932   0.08227385 ...  0.00178841 -0.06568078\n",
      "  0.        ] as keyword args. From version 0.10 passing these as positional arguments will result in an error\n",
      "  if librosa.get_duration(signal)>10:\n",
      "C:\\Users\\TUKUNA\\AppData\\Local\\Temp/ipykernel_14232/2309356834.py:40: FutureWarning: Pass y=[-0.12621415 -0.0752932   0.08227385 ...  0.00178841 -0.06568078\n",
      "  0.        ] as keyword args. From version 0.10 passing these as positional arguments will result in an error\n",
      "  mfcc= librosa.feature.mfcc(signal[start_sample:finish_sample],\n",
      "C:\\Users\\TUKUNA\\AppData\\Local\\Temp/ipykernel_14232/2309356834.py:31: FutureWarning: Pass y=[ 0.0147106  -0.05662901 -0.00597104 ...  0.02857633 -0.0297283\n",
      "  0.        ] as keyword args. From version 0.10 passing these as positional arguments will result in an error\n",
      "  if librosa.get_duration(signal)>10:\n",
      "C:\\Users\\TUKUNA\\AppData\\Local\\Temp/ipykernel_14232/2309356834.py:40: FutureWarning: Pass y=[ 0.0147106  -0.05662901 -0.00597104 ...  0.02857633 -0.0297283\n",
      "  0.        ] as keyword args. From version 0.10 passing these as positional arguments will result in an error\n",
      "  mfcc= librosa.feature.mfcc(signal[start_sample:finish_sample],\n",
      "C:\\Users\\TUKUNA\\AppData\\Local\\Temp/ipykernel_14232/2309356834.py:31: FutureWarning: Pass y=[ 0.0598664   0.14117253  0.07744315 ... -0.08241843 -0.01482983\n",
      "  0.        ] as keyword args. From version 0.10 passing these as positional arguments will result in an error\n",
      "  if librosa.get_duration(signal)>10:\n",
      "C:\\Users\\TUKUNA\\AppData\\Local\\Temp/ipykernel_14232/2309356834.py:40: FutureWarning: Pass y=[ 0.0598664   0.14117253  0.07744315 ... -0.08241843 -0.01482983\n",
      "  0.        ] as keyword args. From version 0.10 passing these as positional arguments will result in an error\n",
      "  mfcc= librosa.feature.mfcc(signal[start_sample:finish_sample],\n",
      "C:\\Users\\TUKUNA\\AppData\\Local\\Temp/ipykernel_14232/2309356834.py:31: FutureWarning: Pass y=[-0.00913818  0.01969743  0.05681327 ...  0.05128854  0.04219933\n",
      "  0.        ] as keyword args. From version 0.10 passing these as positional arguments will result in an error\n",
      "  if librosa.get_duration(signal)>10:\n",
      "C:\\Users\\TUKUNA\\AppData\\Local\\Temp/ipykernel_14232/2309356834.py:40: FutureWarning: Pass y=[-0.00913818  0.01969743  0.05681327 ...  0.05128854  0.04219933\n",
      "  0.        ] as keyword args. From version 0.10 passing these as positional arguments will result in an error\n",
      "  mfcc= librosa.feature.mfcc(signal[start_sample:finish_sample],\n",
      "C:\\Users\\TUKUNA\\AppData\\Local\\Temp/ipykernel_14232/2309356834.py:31: FutureWarning: Pass y=[-0.02457944 -0.06693496 -0.04979695 ...  0.02335519  0.09708399\n",
      "  0.        ] as keyword args. From version 0.10 passing these as positional arguments will result in an error\n",
      "  if librosa.get_duration(signal)>10:\n",
      "C:\\Users\\TUKUNA\\AppData\\Local\\Temp/ipykernel_14232/2309356834.py:40: FutureWarning: Pass y=[-0.02457944 -0.06693496 -0.04979695 ...  0.02335519  0.09708399\n",
      "  0.        ] as keyword args. From version 0.10 passing these as positional arguments will result in an error\n",
      "  mfcc= librosa.feature.mfcc(signal[start_sample:finish_sample],\n"
     ]
    },
    {
     "name": "stderr",
     "output_type": "stream",
     "text": [
      "C:\\Users\\TUKUNA\\AppData\\Local\\Temp/ipykernel_14232/2309356834.py:31: FutureWarning: Pass y=[-0.0126395  -0.0355874   0.03013486 ... -0.04532871  0.01842028\n",
      "  0.        ] as keyword args. From version 0.10 passing these as positional arguments will result in an error\n",
      "  if librosa.get_duration(signal)>10:\n",
      "C:\\Users\\TUKUNA\\AppData\\Local\\Temp/ipykernel_14232/2309356834.py:40: FutureWarning: Pass y=[-0.0126395  -0.0355874   0.03013486 ... -0.04532871  0.01842028\n",
      "  0.        ] as keyword args. From version 0.10 passing these as positional arguments will result in an error\n",
      "  mfcc= librosa.feature.mfcc(signal[start_sample:finish_sample],\n",
      "C:\\Users\\TUKUNA\\AppData\\Local\\Temp/ipykernel_14232/2309356834.py:31: FutureWarning: Pass y=[ 0.03999528  0.09560569 -0.01284739 ...  0.00208035  0.00787602\n",
      "  0.        ] as keyword args. From version 0.10 passing these as positional arguments will result in an error\n",
      "  if librosa.get_duration(signal)>10:\n",
      "C:\\Users\\TUKUNA\\AppData\\Local\\Temp/ipykernel_14232/2309356834.py:40: FutureWarning: Pass y=[ 0.03999528  0.09560569 -0.01284739 ...  0.00208035  0.00787602\n",
      "  0.        ] as keyword args. From version 0.10 passing these as positional arguments will result in an error\n",
      "  mfcc= librosa.feature.mfcc(signal[start_sample:finish_sample],\n",
      "C:\\Users\\TUKUNA\\AppData\\Local\\Temp/ipykernel_14232/2309356834.py:31: FutureWarning: Pass y=[-0.0010972   0.05010602  0.02535411 ...  0.02730319  0.03359208\n",
      "  0.        ] as keyword args. From version 0.10 passing these as positional arguments will result in an error\n",
      "  if librosa.get_duration(signal)>10:\n",
      "C:\\Users\\TUKUNA\\AppData\\Local\\Temp/ipykernel_14232/2309356834.py:40: FutureWarning: Pass y=[-0.0010972   0.05010602  0.02535411 ...  0.02730319  0.03359208\n",
      "  0.        ] as keyword args. From version 0.10 passing these as positional arguments will result in an error\n",
      "  mfcc= librosa.feature.mfcc(signal[start_sample:finish_sample],\n",
      "C:\\Users\\TUKUNA\\.conda\\envs\\tensor\\lib\\site-packages\\librosa\\util\\decorators.py:88: UserWarning: n_fft=2048 is too small for input signal of length=1184\n",
      "  return f(*args, **kwargs)\n",
      "C:\\Users\\TUKUNA\\AppData\\Local\\Temp/ipykernel_14232/2309356834.py:31: FutureWarning: Pass y=[ 0.0149297   0.02803321 -0.03770435 ...  0.00192448 -0.01198647\n",
      "  0.        ] as keyword args. From version 0.10 passing these as positional arguments will result in an error\n",
      "  if librosa.get_duration(signal)>10:\n",
      "C:\\Users\\TUKUNA\\AppData\\Local\\Temp/ipykernel_14232/2309356834.py:40: FutureWarning: Pass y=[ 0.0149297   0.02803321 -0.03770435 ...  0.00192448 -0.01198647\n",
      "  0.        ] as keyword args. From version 0.10 passing these as positional arguments will result in an error\n",
      "  mfcc= librosa.feature.mfcc(signal[start_sample:finish_sample],\n",
      "C:\\Users\\TUKUNA\\AppData\\Local\\Temp/ipykernel_14232/2309356834.py:31: FutureWarning: Pass y=[-0.04663678  0.01315483  0.02909322 ... -0.02125312  0.0434064\n",
      "  0.        ] as keyword args. From version 0.10 passing these as positional arguments will result in an error\n",
      "  if librosa.get_duration(signal)>10:\n",
      "C:\\Users\\TUKUNA\\AppData\\Local\\Temp/ipykernel_14232/2309356834.py:40: FutureWarning: Pass y=[-0.04663678  0.01315483  0.02909322 ... -0.02125312  0.0434064\n",
      "  0.        ] as keyword args. From version 0.10 passing these as positional arguments will result in an error\n",
      "  mfcc= librosa.feature.mfcc(signal[start_sample:finish_sample],\n",
      "C:\\Users\\TUKUNA\\.conda\\envs\\tensor\\lib\\site-packages\\librosa\\util\\decorators.py:88: UserWarning: n_fft=2048 is too small for input signal of length=1460\n",
      "  return f(*args, **kwargs)\n",
      "C:\\Users\\TUKUNA\\AppData\\Local\\Temp/ipykernel_14232/2309356834.py:31: FutureWarning: Pass y=[-0.05507362 -0.15877335 -0.09520042 ...  0.04455527 -0.0275686\n",
      "  0.        ] as keyword args. From version 0.10 passing these as positional arguments will result in an error\n",
      "  if librosa.get_duration(signal)>10:\n",
      "C:\\Users\\TUKUNA\\AppData\\Local\\Temp/ipykernel_14232/2309356834.py:40: FutureWarning: Pass y=[-0.05507362 -0.15877335 -0.09520042 ...  0.04455527 -0.0275686\n",
      "  0.        ] as keyword args. From version 0.10 passing these as positional arguments will result in an error\n",
      "  mfcc= librosa.feature.mfcc(signal[start_sample:finish_sample],\n",
      "C:\\Users\\TUKUNA\\AppData\\Local\\Temp/ipykernel_14232/2309356834.py:31: FutureWarning: Pass y=[-0.00540268  0.01788181 -0.03553956 ...  0.06067657  0.00968057\n",
      "  0.        ] as keyword args. From version 0.10 passing these as positional arguments will result in an error\n",
      "  if librosa.get_duration(signal)>10:\n",
      "C:\\Users\\TUKUNA\\AppData\\Local\\Temp/ipykernel_14232/2309356834.py:40: FutureWarning: Pass y=[-0.00540268  0.01788181 -0.03553956 ...  0.06067657  0.00968057\n",
      "  0.        ] as keyword args. From version 0.10 passing these as positional arguments will result in an error\n",
      "  mfcc= librosa.feature.mfcc(signal[start_sample:finish_sample],\n",
      "C:\\Users\\TUKUNA\\.conda\\envs\\tensor\\lib\\site-packages\\librosa\\util\\decorators.py:88: UserWarning: n_fft=2048 is too small for input signal of length=1812\n",
      "  return f(*args, **kwargs)\n",
      "C:\\Users\\TUKUNA\\AppData\\Local\\Temp/ipykernel_14232/2309356834.py:31: FutureWarning: Pass y=[-0.03319697 -0.0071563   0.05313382 ... -0.05668596 -0.14459054\n",
      "  0.        ] as keyword args. From version 0.10 passing these as positional arguments will result in an error\n",
      "  if librosa.get_duration(signal)>10:\n",
      "C:\\Users\\TUKUNA\\AppData\\Local\\Temp/ipykernel_14232/2309356834.py:40: FutureWarning: Pass y=[-0.03319697 -0.0071563   0.05313382 ... -0.05668596 -0.14459054\n",
      "  0.        ] as keyword args. From version 0.10 passing these as positional arguments will result in an error\n",
      "  mfcc= librosa.feature.mfcc(signal[start_sample:finish_sample],\n",
      "C:\\Users\\TUKUNA\\AppData\\Local\\Temp/ipykernel_14232/2309356834.py:31: FutureWarning: Pass y=[ 0.0610275   0.01906407 -0.1203788  ... -0.0558177  -0.05138287\n",
      "  0.        ] as keyword args. From version 0.10 passing these as positional arguments will result in an error\n",
      "  if librosa.get_duration(signal)>10:\n",
      "C:\\Users\\TUKUNA\\AppData\\Local\\Temp/ipykernel_14232/2309356834.py:40: FutureWarning: Pass y=[ 0.0610275   0.01906407 -0.1203788  ... -0.0558177  -0.05138287\n",
      "  0.        ] as keyword args. From version 0.10 passing these as positional arguments will result in an error\n",
      "  mfcc= librosa.feature.mfcc(signal[start_sample:finish_sample],\n",
      "C:\\Users\\TUKUNA\\AppData\\Local\\Temp/ipykernel_14232/2309356834.py:31: FutureWarning: Pass y=[ 0.01288157 -0.01551332 -0.04015862 ...  0.05940522 -0.03240672\n",
      "  0.        ] as keyword args. From version 0.10 passing these as positional arguments will result in an error\n",
      "  if librosa.get_duration(signal)>10:\n",
      "C:\\Users\\TUKUNA\\AppData\\Local\\Temp/ipykernel_14232/2309356834.py:40: FutureWarning: Pass y=[ 0.01288157 -0.01551332 -0.04015862 ...  0.05940522 -0.03240672\n",
      "  0.        ] as keyword args. From version 0.10 passing these as positional arguments will result in an error\n",
      "  mfcc= librosa.feature.mfcc(signal[start_sample:finish_sample],\n",
      "C:\\Users\\TUKUNA\\AppData\\Local\\Temp/ipykernel_14232/2309356834.py:31: FutureWarning: Pass y=[-0.02590768 -0.05120345 -0.0023563  ... -0.01083179  0.0178722\n",
      "  0.        ] as keyword args. From version 0.10 passing these as positional arguments will result in an error\n",
      "  if librosa.get_duration(signal)>10:\n",
      "C:\\Users\\TUKUNA\\AppData\\Local\\Temp/ipykernel_14232/2309356834.py:40: FutureWarning: Pass y=[-0.02590768 -0.05120345 -0.0023563  ... -0.01083179  0.0178722\n",
      "  0.        ] as keyword args. From version 0.10 passing these as positional arguments will result in an error\n",
      "  mfcc= librosa.feature.mfcc(signal[start_sample:finish_sample],\n",
      "C:\\Users\\TUKUNA\\.conda\\envs\\tensor\\lib\\site-packages\\librosa\\util\\decorators.py:88: UserWarning: n_fft=2048 is too small for input signal of length=1448\n",
      "  return f(*args, **kwargs)\n",
      "C:\\Users\\TUKUNA\\AppData\\Local\\Temp/ipykernel_14232/2309356834.py:31: FutureWarning: Pass y=[ 0.01286505 -0.10109346 -0.02326064 ... -0.00605162 -0.01463827\n",
      "  0.        ] as keyword args. From version 0.10 passing these as positional arguments will result in an error\n",
      "  if librosa.get_duration(signal)>10:\n",
      "C:\\Users\\TUKUNA\\AppData\\Local\\Temp/ipykernel_14232/2309356834.py:40: FutureWarning: Pass y=[ 0.01286505 -0.10109346 -0.02326064 ... -0.00605162 -0.01463827\n",
      "  0.        ] as keyword args. From version 0.10 passing these as positional arguments will result in an error\n",
      "  mfcc= librosa.feature.mfcc(signal[start_sample:finish_sample],\n"
     ]
    },
    {
     "name": "stderr",
     "output_type": "stream",
     "text": [
      "C:\\Users\\TUKUNA\\AppData\\Local\\Temp/ipykernel_14232/2309356834.py:31: FutureWarning: Pass y=[-0.05306835 -0.05978689 -0.02943777 ... -0.01067507  0.0010543\n",
      "  0.        ] as keyword args. From version 0.10 passing these as positional arguments will result in an error\n",
      "  if librosa.get_duration(signal)>10:\n",
      "C:\\Users\\TUKUNA\\AppData\\Local\\Temp/ipykernel_14232/2309356834.py:40: FutureWarning: Pass y=[-0.05306835 -0.05978689 -0.02943777 ... -0.01067507  0.0010543\n",
      "  0.        ] as keyword args. From version 0.10 passing these as positional arguments will result in an error\n",
      "  mfcc= librosa.feature.mfcc(signal[start_sample:finish_sample],\n",
      "C:\\Users\\TUKUNA\\AppData\\Local\\Temp/ipykernel_14232/2309356834.py:31: FutureWarning: Pass y=[0.07878358 0.0549647  0.0174684  ... 0.03154465 0.05535612 0.        ] as keyword args. From version 0.10 passing these as positional arguments will result in an error\n",
      "  if librosa.get_duration(signal)>10:\n",
      "C:\\Users\\TUKUNA\\AppData\\Local\\Temp/ipykernel_14232/2309356834.py:40: FutureWarning: Pass y=[0.07878358 0.0549647  0.0174684  ... 0.03154465 0.05535612 0.        ] as keyword args. From version 0.10 passing these as positional arguments will result in an error\n",
      "  mfcc= librosa.feature.mfcc(signal[start_sample:finish_sample],\n",
      "C:\\Users\\TUKUNA\\AppData\\Local\\Temp/ipykernel_14232/2309356834.py:31: FutureWarning: Pass y=[ 0.02224634  0.02059674 -0.02799568 ... -0.13300382 -0.12101646\n",
      "  0.        ] as keyword args. From version 0.10 passing these as positional arguments will result in an error\n",
      "  if librosa.get_duration(signal)>10:\n",
      "C:\\Users\\TUKUNA\\AppData\\Local\\Temp/ipykernel_14232/2309356834.py:40: FutureWarning: Pass y=[ 0.02224634  0.02059674 -0.02799568 ... -0.13300382 -0.12101646\n",
      "  0.        ] as keyword args. From version 0.10 passing these as positional arguments will result in an error\n",
      "  mfcc= librosa.feature.mfcc(signal[start_sample:finish_sample],\n",
      "C:\\Users\\TUKUNA\\AppData\\Local\\Temp/ipykernel_14232/2309356834.py:31: FutureWarning: Pass y=[-0.03284183  0.05283743 -0.02702432 ... -0.17620642 -0.09199136\n",
      "  0.        ] as keyword args. From version 0.10 passing these as positional arguments will result in an error\n",
      "  if librosa.get_duration(signal)>10:\n",
      "C:\\Users\\TUKUNA\\AppData\\Local\\Temp/ipykernel_14232/2309356834.py:40: FutureWarning: Pass y=[-0.03284183  0.05283743 -0.02702432 ... -0.17620642 -0.09199136\n",
      "  0.        ] as keyword args. From version 0.10 passing these as positional arguments will result in an error\n",
      "  mfcc= librosa.feature.mfcc(signal[start_sample:finish_sample],\n",
      "C:\\Users\\TUKUNA\\AppData\\Local\\Temp/ipykernel_14232/2309356834.py:31: FutureWarning: Pass y=[ 0.04233707  0.06085856  0.02122704 ... -0.03731237  0.00598609\n",
      "  0.        ] as keyword args. From version 0.10 passing these as positional arguments will result in an error\n",
      "  if librosa.get_duration(signal)>10:\n",
      "C:\\Users\\TUKUNA\\AppData\\Local\\Temp/ipykernel_14232/2309356834.py:40: FutureWarning: Pass y=[ 0.04233707  0.06085856  0.02122704 ... -0.03731237  0.00598609\n",
      "  0.        ] as keyword args. From version 0.10 passing these as positional arguments will result in an error\n",
      "  mfcc= librosa.feature.mfcc(signal[start_sample:finish_sample],\n",
      "C:\\Users\\TUKUNA\\AppData\\Local\\Temp/ipykernel_14232/2309356834.py:31: FutureWarning: Pass y=[ 0.03514139  0.02660518 -0.09921476 ... -0.01832959  0.03797248\n",
      "  0.        ] as keyword args. From version 0.10 passing these as positional arguments will result in an error\n",
      "  if librosa.get_duration(signal)>10:\n",
      "C:\\Users\\TUKUNA\\AppData\\Local\\Temp/ipykernel_14232/2309356834.py:40: FutureWarning: Pass y=[ 0.03514139  0.02660518 -0.09921476 ... -0.01832959  0.03797248\n",
      "  0.        ] as keyword args. From version 0.10 passing these as positional arguments will result in an error\n",
      "  mfcc= librosa.feature.mfcc(signal[start_sample:finish_sample],\n",
      "C:\\Users\\TUKUNA\\AppData\\Local\\Temp/ipykernel_14232/2309356834.py:31: FutureWarning: Pass y=[-0.01892645 -0.02922719 -0.03065585 ... -0.01210194 -0.00102663\n",
      "  0.        ] as keyword args. From version 0.10 passing these as positional arguments will result in an error\n",
      "  if librosa.get_duration(signal)>10:\n",
      "C:\\Users\\TUKUNA\\AppData\\Local\\Temp/ipykernel_14232/2309356834.py:32: FutureWarning: Pass y=[-0.01892645 -0.02922719 -0.03065585 ... -0.01210194 -0.00102663\n",
      "  0.        ] as keyword args. From version 0.10 passing these as positional arguments will result in an error\n",
      "  num_segments=int(librosa.get_duration(signal)/10)\n",
      "C:\\Users\\TUKUNA\\AppData\\Local\\Temp/ipykernel_14232/2309356834.py:40: FutureWarning: Pass y=[-0.01892645 -0.02922719 -0.03065585 ...  0.01739288  0.00603507\n",
      "  0.01677187] as keyword args. From version 0.10 passing these as positional arguments will result in an error\n",
      "  mfcc= librosa.feature.mfcc(signal[start_sample:finish_sample],\n"
     ]
    },
    {
     "name": "stdout",
     "output_type": "stream",
     "text": [
      "ocean_noise_data\\melon_headed_whale\\9101204F.wav, segment:0\n"
     ]
    },
    {
     "name": "stderr",
     "output_type": "stream",
     "text": [
      "C:\\Users\\TUKUNA\\AppData\\Local\\Temp/ipykernel_14232/2309356834.py:31: FutureWarning: Pass y=[ 0.01330449 -0.00231234  0.00083796 ... -0.01882624 -0.01604111\n",
      "  0.        ] as keyword args. From version 0.10 passing these as positional arguments will result in an error\n",
      "  if librosa.get_duration(signal)>10:\n",
      "C:\\Users\\TUKUNA\\AppData\\Local\\Temp/ipykernel_14232/2309356834.py:32: FutureWarning: Pass y=[ 0.01330449 -0.00231234  0.00083796 ... -0.01882624 -0.01604111\n",
      "  0.        ] as keyword args. From version 0.10 passing these as positional arguments will result in an error\n",
      "  num_segments=int(librosa.get_duration(signal)/10)\n",
      "C:\\Users\\TUKUNA\\AppData\\Local\\Temp/ipykernel_14232/2309356834.py:40: FutureWarning: Pass y=[ 0.01330449 -0.00231234  0.00083796 ...  0.05053822  0.03028792\n",
      "  0.03098303] as keyword args. From version 0.10 passing these as positional arguments will result in an error\n",
      "  mfcc= librosa.feature.mfcc(signal[start_sample:finish_sample],\n"
     ]
    },
    {
     "name": "stdout",
     "output_type": "stream",
     "text": [
      "ocean_noise_data\\melon_headed_whale\\9101204H.wav, segment:0\n"
     ]
    },
    {
     "name": "stderr",
     "output_type": "stream",
     "text": [
      "C:\\Users\\TUKUNA\\AppData\\Local\\Temp/ipykernel_14232/2309356834.py:31: FutureWarning: Pass y=[-0.03501626 -0.03917176 -0.00471871 ...  0.04528099  0.03472158\n",
      "  0.        ] as keyword args. From version 0.10 passing these as positional arguments will result in an error\n",
      "  if librosa.get_duration(signal)>10:\n",
      "C:\\Users\\TUKUNA\\AppData\\Local\\Temp/ipykernel_14232/2309356834.py:32: FutureWarning: Pass y=[-0.03501626 -0.03917176 -0.00471871 ...  0.04528099  0.03472158\n",
      "  0.        ] as keyword args. From version 0.10 passing these as positional arguments will result in an error\n",
      "  num_segments=int(librosa.get_duration(signal)/10)\n",
      "C:\\Users\\TUKUNA\\AppData\\Local\\Temp/ipykernel_14232/2309356834.py:40: FutureWarning: Pass y=[-0.03501626 -0.03917176 -0.00471871 ...  0.0165051   0.05134109\n",
      "  0.05272499] as keyword args. From version 0.10 passing these as positional arguments will result in an error\n",
      "  mfcc= librosa.feature.mfcc(signal[start_sample:finish_sample],\n",
      "C:\\Users\\TUKUNA\\AppData\\Local\\Temp/ipykernel_14232/2309356834.py:40: FutureWarning: Pass y=[0.04734221 0.03536551 0.02984662 ... 0.0255701  0.01944845 0.02314268] as keyword args. From version 0.10 passing these as positional arguments will result in an error\n",
      "  mfcc= librosa.feature.mfcc(signal[start_sample:finish_sample],\n"
     ]
    },
    {
     "name": "stdout",
     "output_type": "stream",
     "text": [
      "ocean_noise_data\\melon_headed_whale\\9101204I.wav, segment:0\n",
      "ocean_noise_data\\melon_headed_whale\\9101204I.wav, segment:1\n"
     ]
    },
    {
     "name": "stderr",
     "output_type": "stream",
     "text": [
      "C:\\Users\\TUKUNA\\AppData\\Local\\Temp/ipykernel_14232/2309356834.py:31: FutureWarning: Pass y=[-0.00923876 -0.02134391 -0.02554132 ... -0.00787381 -0.02442365\n",
      "  0.        ] as keyword args. From version 0.10 passing these as positional arguments will result in an error\n",
      "  if librosa.get_duration(signal)>10:\n",
      "C:\\Users\\TUKUNA\\AppData\\Local\\Temp/ipykernel_14232/2309356834.py:40: FutureWarning: Pass y=[-0.00923876 -0.02134391 -0.02554132 ... -0.00877721 -0.02240398\n",
      " -0.00724561] as keyword args. From version 0.10 passing these as positional arguments will result in an error\n",
      "  mfcc= librosa.feature.mfcc(signal[start_sample:finish_sample],\n",
      "C:\\Users\\TUKUNA\\AppData\\Local\\Temp/ipykernel_14232/2309356834.py:40: FutureWarning: Pass y=[ 0.00378795  0.00691714  0.01094856 ... -0.00767686  0.00246442\n",
      "  0.00903948] as keyword args. From version 0.10 passing these as positional arguments will result in an error\n",
      "  mfcc= librosa.feature.mfcc(signal[start_sample:finish_sample],\n"
     ]
    },
    {
     "name": "stdout",
     "output_type": "stream",
     "text": [
      "ocean_noise_data\\melon_headed_whale\\9101204J.wav, segment:0\n",
      "ocean_noise_data\\melon_headed_whale\\9101204J.wav, segment:1\n"
     ]
    },
    {
     "name": "stderr",
     "output_type": "stream",
     "text": [
      "C:\\Users\\TUKUNA\\AppData\\Local\\Temp/ipykernel_14232/2309356834.py:31: FutureWarning: Pass y=[ 0.01548702  0.01855308  0.0166272  ... -0.03072554 -0.00545169\n",
      "  0.        ] as keyword args. From version 0.10 passing these as positional arguments will result in an error\n",
      "  if librosa.get_duration(signal)>10:\n",
      "C:\\Users\\TUKUNA\\AppData\\Local\\Temp/ipykernel_14232/2309356834.py:32: FutureWarning: Pass y=[ 0.01548702  0.01855308  0.0166272  ... -0.03072554 -0.00545169\n",
      "  0.        ] as keyword args. From version 0.10 passing these as positional arguments will result in an error\n",
      "  num_segments=int(librosa.get_duration(signal)/10)\n",
      "C:\\Users\\TUKUNA\\AppData\\Local\\Temp/ipykernel_14232/2309356834.py:40: FutureWarning: Pass y=[ 0.01548702  0.01855308  0.0166272  ...  0.00284538 -0.0177815\n",
      " -0.00818913] as keyword args. From version 0.10 passing these as positional arguments will result in an error\n",
      "  mfcc= librosa.feature.mfcc(signal[start_sample:finish_sample],\n"
     ]
    },
    {
     "name": "stdout",
     "output_type": "stream",
     "text": [
      "ocean_noise_data\\melon_headed_whale\\9101204K.wav, segment:0\n"
     ]
    },
    {
     "name": "stderr",
     "output_type": "stream",
     "text": [
      "C:\\Users\\TUKUNA\\AppData\\Local\\Temp/ipykernel_14232/2309356834.py:31: FutureWarning: Pass y=[ 0.00785439  0.00450554 -0.00296313 ... -0.02903386 -0.05369214\n",
      "  0.        ] as keyword args. From version 0.10 passing these as positional arguments will result in an error\n",
      "  if librosa.get_duration(signal)>10:\n",
      "C:\\Users\\TUKUNA\\AppData\\Local\\Temp/ipykernel_14232/2309356834.py:40: FutureWarning: Pass y=[ 0.00785439  0.00450554 -0.00296313 ... -0.01880406 -0.03067131\n",
      "  0.0032307 ] as keyword args. From version 0.10 passing these as positional arguments will result in an error\n",
      "  mfcc= librosa.feature.mfcc(signal[start_sample:finish_sample],\n"
     ]
    },
    {
     "name": "stdout",
     "output_type": "stream",
     "text": [
      "ocean_noise_data\\melon_headed_whale\\9101204L.wav, segment:0\n"
     ]
    },
    {
     "name": "stderr",
     "output_type": "stream",
     "text": [
      "C:\\Users\\TUKUNA\\AppData\\Local\\Temp/ipykernel_14232/2309356834.py:31: FutureWarning: Pass y=[-0.02135034 -0.03420737 -0.04455192 ... -0.01646585 -0.00705969\n",
      "  0.        ] as keyword args. From version 0.10 passing these as positional arguments will result in an error\n",
      "  if librosa.get_duration(signal)>10:\n",
      "C:\\Users\\TUKUNA\\AppData\\Local\\Temp/ipykernel_14232/2309356834.py:40: FutureWarning: Pass y=[-0.02135034 -0.03420737 -0.04455192 ...  0.00277718 -0.01070732\n",
      "  0.00011896] as keyword args. From version 0.10 passing these as positional arguments will result in an error\n",
      "  mfcc= librosa.feature.mfcc(signal[start_sample:finish_sample],\n"
     ]
    },
    {
     "name": "stdout",
     "output_type": "stream",
     "text": [
      "ocean_noise_data\\melon_headed_whale\\9101204M.wav, segment:0\n"
     ]
    },
    {
     "name": "stderr",
     "output_type": "stream",
     "text": [
      "C:\\Users\\TUKUNA\\AppData\\Local\\Temp/ipykernel_14232/2309356834.py:31: FutureWarning: Pass y=[-0.01171394 -0.01623912 -0.01361605 ... -0.00728171  0.00743577\n",
      "  0.        ] as keyword args. From version 0.10 passing these as positional arguments will result in an error\n",
      "  if librosa.get_duration(signal)>10:\n",
      "C:\\Users\\TUKUNA\\AppData\\Local\\Temp/ipykernel_14232/2309356834.py:40: FutureWarning: Pass y=[-0.01171394 -0.01623912 -0.01361605 ... -0.01512887 -0.01058792\n",
      " -0.02961987] as keyword args. From version 0.10 passing these as positional arguments will result in an error\n",
      "  mfcc= librosa.feature.mfcc(signal[start_sample:finish_sample],\n"
     ]
    },
    {
     "name": "stdout",
     "output_type": "stream",
     "text": [
      "ocean_noise_data\\melon_headed_whale\\9101204N.wav, segment:0\n"
     ]
    },
    {
     "name": "stderr",
     "output_type": "stream",
     "text": [
      "C:\\Users\\TUKUNA\\AppData\\Local\\Temp/ipykernel_14232/2309356834.py:31: FutureWarning: Pass y=[-0.00407198 -0.01083684 -0.02979423 ...  0.04309649  0.04890566\n",
      "  0.        ] as keyword args. From version 0.10 passing these as positional arguments will result in an error\n",
      "  if librosa.get_duration(signal)>10:\n",
      "C:\\Users\\TUKUNA\\AppData\\Local\\Temp/ipykernel_14232/2309356834.py:40: FutureWarning: Pass y=[-0.00407198 -0.01083684 -0.02979423 ...  0.03229801  0.03353703\n",
      "  0.0195682 ] as keyword args. From version 0.10 passing these as positional arguments will result in an error\n",
      "  mfcc= librosa.feature.mfcc(signal[start_sample:finish_sample],\n"
     ]
    },
    {
     "name": "stdout",
     "output_type": "stream",
     "text": [
      "ocean_noise_data\\melon_headed_whale\\9101204O.wav, segment:0\n"
     ]
    },
    {
     "name": "stderr",
     "output_type": "stream",
     "text": [
      "C:\\Users\\TUKUNA\\AppData\\Local\\Temp/ipykernel_14232/2309356834.py:31: FutureWarning: Pass y=[-0.01221754 -0.01945047 -0.0091381  ... -0.03850473 -0.03234718\n",
      "  0.        ] as keyword args. From version 0.10 passing these as positional arguments will result in an error\n",
      "  if librosa.get_duration(signal)>10:\n",
      "C:\\Users\\TUKUNA\\AppData\\Local\\Temp/ipykernel_14232/2309356834.py:40: FutureWarning: Pass y=[-0.01221754 -0.01945047 -0.0091381  ...  0.04702805  0.03122987\n",
      "  0.03095317] as keyword args. From version 0.10 passing these as positional arguments will result in an error\n",
      "  mfcc= librosa.feature.mfcc(signal[start_sample:finish_sample],\n"
     ]
    },
    {
     "name": "stdout",
     "output_type": "stream",
     "text": [
      "ocean_noise_data\\melon_headed_whale\\9101204P.wav, segment:0\n"
     ]
    },
    {
     "name": "stderr",
     "output_type": "stream",
     "text": [
      "C:\\Users\\TUKUNA\\AppData\\Local\\Temp/ipykernel_14232/2309356834.py:31: FutureWarning: Pass y=[-0.00422787 -0.01372617 -0.0056225  ... -0.00568359 -0.00129922\n",
      "  0.        ] as keyword args. From version 0.10 passing these as positional arguments will result in an error\n",
      "  if librosa.get_duration(signal)>10:\n",
      "C:\\Users\\TUKUNA\\AppData\\Local\\Temp/ipykernel_14232/2309356834.py:32: FutureWarning: Pass y=[-0.00422787 -0.01372617 -0.0056225  ... -0.00568359 -0.00129922\n",
      "  0.        ] as keyword args. From version 0.10 passing these as positional arguments will result in an error\n",
      "  num_segments=int(librosa.get_duration(signal)/10)\n",
      "C:\\Users\\TUKUNA\\AppData\\Local\\Temp/ipykernel_14232/2309356834.py:40: FutureWarning: Pass y=[-0.00422787 -0.01372617 -0.0056225  ... -0.01068351 -0.01179145\n",
      " -0.01126271] as keyword args. From version 0.10 passing these as positional arguments will result in an error\n",
      "  mfcc= librosa.feature.mfcc(signal[start_sample:finish_sample],\n"
     ]
    },
    {
     "name": "stdout",
     "output_type": "stream",
     "text": [
      "ocean_noise_data\\melon_headed_whale\\9101204Q.wav, segment:0\n",
      "\n",
      " processingocean_noise_data\\spinner_dolphin\n"
     ]
    },
    {
     "name": "stderr",
     "output_type": "stream",
     "text": [
      "C:\\Users\\TUKUNA\\AppData\\Local\\Temp/ipykernel_14232/2309356834.py:31: FutureWarning: Pass y=[-0.01403685  0.00091744 -0.01386284 ... -0.02010367 -0.05388493\n",
      "  0.        ] as keyword args. From version 0.10 passing these as positional arguments will result in an error\n",
      "  if librosa.get_duration(signal)>10:\n",
      "C:\\Users\\TUKUNA\\AppData\\Local\\Temp/ipykernel_14232/2309356834.py:40: FutureWarning: Pass y=[-0.01403685  0.00091744 -0.01386284 ... -0.04372901 -0.01888384\n",
      " -0.08621527] as keyword args. From version 0.10 passing these as positional arguments will result in an error\n",
      "  mfcc= librosa.feature.mfcc(signal[start_sample:finish_sample],\n",
      "C:\\Users\\TUKUNA\\AppData\\Local\\Temp/ipykernel_14232/2309356834.py:31: FutureWarning: Pass y=[ 0.00454259  0.03102312  0.00743438 ... -0.01716105 -0.06176593\n",
      "  0.        ] as keyword args. From version 0.10 passing these as positional arguments will result in an error\n",
      "  if librosa.get_duration(signal)>10:\n",
      "C:\\Users\\TUKUNA\\AppData\\Local\\Temp/ipykernel_14232/2309356834.py:40: FutureWarning: Pass y=[ 0.00454259  0.03102312  0.00743438 ... -0.01229102 -0.02353702\n",
      " -0.00439513] as keyword args. From version 0.10 passing these as positional arguments will result in an error\n",
      "  mfcc= librosa.feature.mfcc(signal[start_sample:finish_sample],\n"
     ]
    },
    {
     "name": "stdout",
     "output_type": "stream",
     "text": [
      "ocean_noise_data\\spinner_dolphin\\7100100C.wav, segment:0\n",
      "ocean_noise_data\\spinner_dolphin\\7100100N.wav, segment:0\n"
     ]
    },
    {
     "name": "stderr",
     "output_type": "stream",
     "text": [
      "C:\\Users\\TUKUNA\\AppData\\Local\\Temp/ipykernel_14232/2309356834.py:31: FutureWarning: Pass y=[-0.00449556 -0.0176972  -0.02387855 ... -0.00561368  0.01296374\n",
      "  0.        ] as keyword args. From version 0.10 passing these as positional arguments will result in an error\n",
      "  if librosa.get_duration(signal)>10:\n",
      "C:\\Users\\TUKUNA\\AppData\\Local\\Temp/ipykernel_14232/2309356834.py:40: FutureWarning: Pass y=[-0.00449556 -0.0176972  -0.02387855 ... -0.04925848 -0.02904003\n",
      " -0.02873117] as keyword args. From version 0.10 passing these as positional arguments will result in an error\n",
      "  mfcc= librosa.feature.mfcc(signal[start_sample:finish_sample],\n"
     ]
    },
    {
     "name": "stdout",
     "output_type": "stream",
     "text": [
      "ocean_noise_data\\spinner_dolphin\\7100100X.wav, segment:0\n"
     ]
    },
    {
     "name": "stderr",
     "output_type": "stream",
     "text": [
      "C:\\Users\\TUKUNA\\AppData\\Local\\Temp/ipykernel_14232/2309356834.py:31: FutureWarning: Pass y=[ 0.07600076  0.1279588   0.10723446 ... -0.05486067 -0.04991749\n",
      "  0.        ] as keyword args. From version 0.10 passing these as positional arguments will result in an error\n",
      "  if librosa.get_duration(signal)>10:\n",
      "C:\\Users\\TUKUNA\\AppData\\Local\\Temp/ipykernel_14232/2309356834.py:40: FutureWarning: Pass y=[ 0.07600076  0.1279588   0.10723446 ... -0.0613594  -0.03892107\n",
      " -0.01981259] as keyword args. From version 0.10 passing these as positional arguments will result in an error\n",
      "  mfcc= librosa.feature.mfcc(signal[start_sample:finish_sample],\n",
      "C:\\Users\\TUKUNA\\AppData\\Local\\Temp/ipykernel_14232/2309356834.py:31: FutureWarning: Pass y=[ 0.01380408  0.00827944 -0.00205097 ...  0.06239968  0.08339873\n",
      "  0.        ] as keyword args. From version 0.10 passing these as positional arguments will result in an error\n",
      "  if librosa.get_duration(signal)>10:\n",
      "C:\\Users\\TUKUNA\\AppData\\Local\\Temp/ipykernel_14232/2309356834.py:40: FutureWarning: Pass y=[ 0.01380408  0.00827944 -0.00205097 ...  0.05805346  0.03959185\n",
      "  0.05460314] as keyword args. From version 0.10 passing these as positional arguments will result in an error\n",
      "  mfcc= librosa.feature.mfcc(signal[start_sample:finish_sample],\n"
     ]
    },
    {
     "name": "stdout",
     "output_type": "stream",
     "text": [
      "ocean_noise_data\\spinner_dolphin\\7100100Z.wav, segment:0\n",
      "ocean_noise_data\\spinner_dolphin\\71001010.wav, segment:0\n"
     ]
    },
    {
     "name": "stderr",
     "output_type": "stream",
     "text": [
      "C:\\Users\\TUKUNA\\AppData\\Local\\Temp/ipykernel_14232/2309356834.py:31: FutureWarning: Pass y=[-0.01978715 -0.00368186 -0.00322805 ...  0.05471308  0.03044839\n",
      "  0.        ] as keyword args. From version 0.10 passing these as positional arguments will result in an error\n",
      "  if librosa.get_duration(signal)>10:\n",
      "C:\\Users\\TUKUNA\\AppData\\Local\\Temp/ipykernel_14232/2309356834.py:40: FutureWarning: Pass y=[-0.01978715 -0.00368186 -0.00322805 ...  0.05471308  0.03044839\n",
      "  0.        ] as keyword args. From version 0.10 passing these as positional arguments will result in an error\n",
      "  mfcc= librosa.feature.mfcc(signal[start_sample:finish_sample],\n",
      "C:\\Users\\TUKUNA\\AppData\\Local\\Temp/ipykernel_14232/2309356834.py:31: FutureWarning: Pass y=[-0.03055162 -0.04900841 -0.02400509 ... -0.01527549 -0.00185706\n",
      "  0.        ] as keyword args. From version 0.10 passing these as positional arguments will result in an error\n",
      "  if librosa.get_duration(signal)>10:\n",
      "C:\\Users\\TUKUNA\\AppData\\Local\\Temp/ipykernel_14232/2309356834.py:40: FutureWarning: Pass y=[-0.03055162 -0.04900841 -0.02400509 ...  0.00733611 -0.00865809\n",
      " -0.02715519] as keyword args. From version 0.10 passing these as positional arguments will result in an error\n",
      "  mfcc= librosa.feature.mfcc(signal[start_sample:finish_sample],\n",
      "C:\\Users\\TUKUNA\\AppData\\Local\\Temp/ipykernel_14232/2309356834.py:31: FutureWarning: Pass y=[ 0.00410647 -0.00509392  0.00175996 ...  0.05688696  0.04258009\n",
      "  0.        ] as keyword args. From version 0.10 passing these as positional arguments will result in an error\n",
      "  if librosa.get_duration(signal)>10:\n",
      "C:\\Users\\TUKUNA\\AppData\\Local\\Temp/ipykernel_14232/2309356834.py:40: FutureWarning: Pass y=[ 0.00410647 -0.00509392  0.00175996 ...  0.05688696  0.04258009\n",
      "  0.        ] as keyword args. From version 0.10 passing these as positional arguments will result in an error\n",
      "  mfcc= librosa.feature.mfcc(signal[start_sample:finish_sample],\n"
     ]
    },
    {
     "name": "stdout",
     "output_type": "stream",
     "text": [
      "ocean_noise_data\\spinner_dolphin\\7100101A.wav, segment:0\n"
     ]
    },
    {
     "name": "stderr",
     "output_type": "stream",
     "text": [
      "C:\\Users\\TUKUNA\\AppData\\Local\\Temp/ipykernel_14232/2309356834.py:31: FutureWarning: Pass y=[-0.01801099 -0.03231779 -0.00846866 ...  0.0743123   0.06348169\n",
      "  0.        ] as keyword args. From version 0.10 passing these as positional arguments will result in an error\n",
      "  if librosa.get_duration(signal)>10:\n",
      "C:\\Users\\TUKUNA\\AppData\\Local\\Temp/ipykernel_14232/2309356834.py:40: FutureWarning: Pass y=[-0.01801099 -0.03231779 -0.00846866 ... -0.02353415 -0.05590883\n",
      " -0.04041553] as keyword args. From version 0.10 passing these as positional arguments will result in an error\n",
      "  mfcc= librosa.feature.mfcc(signal[start_sample:finish_sample],\n",
      "C:\\Users\\TUKUNA\\AppData\\Local\\Temp/ipykernel_14232/2309356834.py:31: FutureWarning: Pass y=[-0.00521031 -0.03755283 -0.02439511 ... -0.02125162 -0.02388897\n",
      "  0.        ] as keyword args. From version 0.10 passing these as positional arguments will result in an error\n",
      "  if librosa.get_duration(signal)>10:\n",
      "C:\\Users\\TUKUNA\\AppData\\Local\\Temp/ipykernel_14232/2309356834.py:40: FutureWarning: Pass y=[-0.00521031 -0.03755283 -0.02439511 ... -0.0375811  -0.07898774\n",
      " -0.05166208] as keyword args. From version 0.10 passing these as positional arguments will result in an error\n",
      "  mfcc= librosa.feature.mfcc(signal[start_sample:finish_sample],\n"
     ]
    },
    {
     "name": "stdout",
     "output_type": "stream",
     "text": [
      "ocean_noise_data\\spinner_dolphin\\7100101I.wav, segment:0\n",
      "ocean_noise_data\\spinner_dolphin\\7100101J.wav, segment:0\n"
     ]
    },
    {
     "name": "stderr",
     "output_type": "stream",
     "text": [
      "C:\\Users\\TUKUNA\\AppData\\Local\\Temp/ipykernel_14232/2309356834.py:31: FutureWarning: Pass y=[-0.00356151  0.00386436 -0.03483535 ...  0.05913955  0.05979207\n",
      "  0.        ] as keyword args. From version 0.10 passing these as positional arguments will result in an error\n",
      "  if librosa.get_duration(signal)>10:\n",
      "C:\\Users\\TUKUNA\\AppData\\Local\\Temp/ipykernel_14232/2309356834.py:40: FutureWarning: Pass y=[-0.00356151  0.00386436 -0.03483535 ...  0.05547832  0.05999874\n",
      "  0.09559476] as keyword args. From version 0.10 passing these as positional arguments will result in an error\n",
      "  mfcc= librosa.feature.mfcc(signal[start_sample:finish_sample],\n"
     ]
    },
    {
     "name": "stdout",
     "output_type": "stream",
     "text": [
      "ocean_noise_data\\spinner_dolphin\\7100101K.wav, segment:0\n"
     ]
    },
    {
     "name": "stderr",
     "output_type": "stream",
     "text": [
      "C:\\Users\\TUKUNA\\AppData\\Local\\Temp/ipykernel_14232/2309356834.py:31: FutureWarning: Pass y=[-0.022734   -0.04255361 -0.03761161 ...  0.02453718  0.08007164\n",
      "  0.        ] as keyword args. From version 0.10 passing these as positional arguments will result in an error\n",
      "  if librosa.get_duration(signal)>10:\n",
      "C:\\Users\\TUKUNA\\AppData\\Local\\Temp/ipykernel_14232/2309356834.py:40: FutureWarning: Pass y=[-0.022734   -0.04255361 -0.03761161 ...  0.02894669  0.02473057\n",
      "  0.03744328] as keyword args. From version 0.10 passing these as positional arguments will result in an error\n",
      "  mfcc= librosa.feature.mfcc(signal[start_sample:finish_sample],\n",
      "C:\\Users\\TUKUNA\\AppData\\Local\\Temp/ipykernel_14232/2309356834.py:31: FutureWarning: Pass y=[-0.00354022 -0.02590997  0.00028432 ... -0.01077978  0.0040571\n",
      "  0.        ] as keyword args. From version 0.10 passing these as positional arguments will result in an error\n",
      "  if librosa.get_duration(signal)>10:\n",
      "C:\\Users\\TUKUNA\\AppData\\Local\\Temp/ipykernel_14232/2309356834.py:40: FutureWarning: Pass y=[-3.5402237e-03 -2.5909973e-02  2.8432417e-04 ...  1.6808579e-02\n",
      "  9.2215058e-05  6.4969114e-03] as keyword args. From version 0.10 passing these as positional arguments will result in an error\n",
      "  mfcc= librosa.feature.mfcc(signal[start_sample:finish_sample],\n"
     ]
    },
    {
     "name": "stdout",
     "output_type": "stream",
     "text": [
      "ocean_noise_data\\spinner_dolphin\\7100101M.wav, segment:0\n",
      "ocean_noise_data\\spinner_dolphin\\7100101O.wav, segment:0\n"
     ]
    },
    {
     "name": "stderr",
     "output_type": "stream",
     "text": [
      "C:\\Users\\TUKUNA\\AppData\\Local\\Temp/ipykernel_14232/2309356834.py:31: FutureWarning: Pass y=[ 0.0491221   0.09626625  0.04591576 ... -0.03082066 -0.03964876\n",
      "  0.        ] as keyword args. From version 0.10 passing these as positional arguments will result in an error\n",
      "  if librosa.get_duration(signal)>10:\n",
      "C:\\Users\\TUKUNA\\AppData\\Local\\Temp/ipykernel_14232/2309356834.py:40: FutureWarning: Pass y=[ 0.0491221   0.09626625  0.04591576 ... -0.04494801  0.01252891\n",
      " -0.02009503] as keyword args. From version 0.10 passing these as positional arguments will result in an error\n",
      "  mfcc= librosa.feature.mfcc(signal[start_sample:finish_sample],\n",
      "C:\\Users\\TUKUNA\\AppData\\Local\\Temp/ipykernel_14232/2309356834.py:31: FutureWarning: Pass y=[-0.00442242 -0.03777803 -0.03270797 ... -0.01661046 -0.00716548\n",
      "  0.        ] as keyword args. From version 0.10 passing these as positional arguments will result in an error\n",
      "  if librosa.get_duration(signal)>10:\n",
      "C:\\Users\\TUKUNA\\AppData\\Local\\Temp/ipykernel_14232/2309356834.py:40: FutureWarning: Pass y=[-0.00442242 -0.03777803 -0.03270797 ... -0.01661046 -0.00716548\n",
      "  0.        ] as keyword args. From version 0.10 passing these as positional arguments will result in an error\n",
      "  mfcc= librosa.feature.mfcc(signal[start_sample:finish_sample],\n"
     ]
    },
    {
     "name": "stdout",
     "output_type": "stream",
     "text": [
      "ocean_noise_data\\spinner_dolphin\\7100101R.wav, segment:0\n"
     ]
    },
    {
     "name": "stderr",
     "output_type": "stream",
     "text": [
      "C:\\Users\\TUKUNA\\AppData\\Local\\Temp/ipykernel_14232/2309356834.py:31: FutureWarning: Pass y=[0.00023048 0.02142836 0.02238806 ... 0.01812641 0.00566904 0.        ] as keyword args. From version 0.10 passing these as positional arguments will result in an error\n",
      "  if librosa.get_duration(signal)>10:\n",
      "C:\\Users\\TUKUNA\\AppData\\Local\\Temp/ipykernel_14232/2309356834.py:40: FutureWarning: Pass y=[0.00023048 0.02142836 0.02238806 ... 0.01812641 0.00566904 0.        ] as keyword args. From version 0.10 passing these as positional arguments will result in an error\n",
      "  mfcc= librosa.feature.mfcc(signal[start_sample:finish_sample],\n",
      "C:\\Users\\TUKUNA\\AppData\\Local\\Temp/ipykernel_14232/2309356834.py:31: FutureWarning: Pass y=[ 0.01689383  0.02342446  0.02884286 ... -0.06663048 -0.107084\n",
      "  0.        ] as keyword args. From version 0.10 passing these as positional arguments will result in an error\n",
      "  if librosa.get_duration(signal)>10:\n",
      "C:\\Users\\TUKUNA\\AppData\\Local\\Temp/ipykernel_14232/2309356834.py:40: FutureWarning: Pass y=[ 0.01689383  0.02342446  0.02884286 ... -0.06663048 -0.107084\n",
      "  0.        ] as keyword args. From version 0.10 passing these as positional arguments will result in an error\n",
      "  mfcc= librosa.feature.mfcc(signal[start_sample:finish_sample],\n",
      "C:\\Users\\TUKUNA\\AppData\\Local\\Temp/ipykernel_14232/2309356834.py:31: FutureWarning: Pass y=[ 0.01576475  0.02106876  0.01910111 ...  0.00542901 -0.00120934\n",
      "  0.        ] as keyword args. From version 0.10 passing these as positional arguments will result in an error\n",
      "  if librosa.get_duration(signal)>10:\n",
      "C:\\Users\\TUKUNA\\AppData\\Local\\Temp/ipykernel_14232/2309356834.py:40: FutureWarning: Pass y=[0.01576475 0.02106876 0.01910111 ... 0.06846908 0.08169753 0.07132187] as keyword args. From version 0.10 passing these as positional arguments will result in an error\n",
      "  mfcc= librosa.feature.mfcc(signal[start_sample:finish_sample],\n",
      "C:\\Users\\TUKUNA\\AppData\\Local\\Temp/ipykernel_14232/2309356834.py:31: FutureWarning: Pass y=[-0.05970306 -0.07584284 -0.07995769 ...  0.08968563  0.05806297\n",
      "  0.        ] as keyword args. From version 0.10 passing these as positional arguments will result in an error\n",
      "  if librosa.get_duration(signal)>10:\n",
      "C:\\Users\\TUKUNA\\AppData\\Local\\Temp/ipykernel_14232/2309356834.py:40: FutureWarning: Pass y=[-0.05970306 -0.07584284 -0.07995769 ...  0.08968563  0.05806297\n",
      "  0.        ] as keyword args. From version 0.10 passing these as positional arguments will result in an error\n",
      "  mfcc= librosa.feature.mfcc(signal[start_sample:finish_sample],\n"
     ]
    },
    {
     "name": "stdout",
     "output_type": "stream",
     "text": [
      "ocean_noise_data\\spinner_dolphin\\71001024.wav, segment:0\n"
     ]
    },
    {
     "name": "stderr",
     "output_type": "stream",
     "text": [
      "C:\\Users\\TUKUNA\\AppData\\Local\\Temp/ipykernel_14232/2309356834.py:31: FutureWarning: Pass y=[0.01650432 0.01333991 0.0116556  ... 0.04593118 0.00993884 0.        ] as keyword args. From version 0.10 passing these as positional arguments will result in an error\n",
      "  if librosa.get_duration(signal)>10:\n",
      "C:\\Users\\TUKUNA\\AppData\\Local\\Temp/ipykernel_14232/2309356834.py:40: FutureWarning: Pass y=[0.01650432 0.01333991 0.0116556  ... 0.04593118 0.00993884 0.        ] as keyword args. From version 0.10 passing these as positional arguments will result in an error\n",
      "  mfcc= librosa.feature.mfcc(signal[start_sample:finish_sample],\n",
      "C:\\Users\\TUKUNA\\AppData\\Local\\Temp/ipykernel_14232/2309356834.py:31: FutureWarning: Pass y=[-0.00664633 -0.00199835  0.03018737 ... -0.01021752 -0.00798118\n",
      "  0.        ] as keyword args. From version 0.10 passing these as positional arguments will result in an error\n",
      "  if librosa.get_duration(signal)>10:\n",
      "C:\\Users\\TUKUNA\\AppData\\Local\\Temp/ipykernel_14232/2309356834.py:40: FutureWarning: Pass y=[-0.00664633 -0.00199835  0.03018737 ... -0.02249682 -0.01552733\n",
      " -0.01212243] as keyword args. From version 0.10 passing these as positional arguments will result in an error\n",
      "  mfcc= librosa.feature.mfcc(signal[start_sample:finish_sample],\n"
     ]
    },
    {
     "name": "stdout",
     "output_type": "stream",
     "text": [
      "ocean_noise_data\\spinner_dolphin\\7100102O.wav, segment:0\n"
     ]
    },
    {
     "name": "stderr",
     "output_type": "stream",
     "text": [
      "C:\\Users\\TUKUNA\\AppData\\Local\\Temp/ipykernel_14232/2309356834.py:31: FutureWarning: Pass y=[-0.01767236 -0.02579965 -0.01924259 ...  0.02310946 -0.00361273\n",
      "  0.        ] as keyword args. From version 0.10 passing these as positional arguments will result in an error\n",
      "  if librosa.get_duration(signal)>10:\n",
      "C:\\Users\\TUKUNA\\AppData\\Local\\Temp/ipykernel_14232/2309356834.py:40: FutureWarning: Pass y=[-1.7672360e-02 -2.5799647e-02 -1.9242588e-02 ...  1.3514785e-05\n",
      "  1.4876191e-02 -8.2197180e-03] as keyword args. From version 0.10 passing these as positional arguments will result in an error\n",
      "  mfcc= librosa.feature.mfcc(signal[start_sample:finish_sample],\n"
     ]
    },
    {
     "name": "stdout",
     "output_type": "stream",
     "text": [
      "ocean_noise_data\\spinner_dolphin\\7100102S.wav, segment:0\n"
     ]
    },
    {
     "name": "stderr",
     "output_type": "stream",
     "text": [
      "C:\\Users\\TUKUNA\\AppData\\Local\\Temp/ipykernel_14232/2309356834.py:31: FutureWarning: Pass y=[-0.02873428 -0.04479159 -0.04863219 ... -0.00135453 -0.01728245\n",
      "  0.        ] as keyword args. From version 0.10 passing these as positional arguments will result in an error\n",
      "  if librosa.get_duration(signal)>10:\n",
      "C:\\Users\\TUKUNA\\AppData\\Local\\Temp/ipykernel_14232/2309356834.py:40: FutureWarning: Pass y=[-0.02873428 -0.04479159 -0.04863219 ...  0.03393625  0.05209998\n",
      "  0.04783824] as keyword args. From version 0.10 passing these as positional arguments will result in an error\n",
      "  mfcc= librosa.feature.mfcc(signal[start_sample:finish_sample],\n",
      "C:\\Users\\TUKUNA\\AppData\\Local\\Temp/ipykernel_14232/2309356834.py:31: FutureWarning: Pass y=[ 0.00163755  0.0189506   0.0261216  ... -0.03845868  0.02584717\n",
      "  0.        ] as keyword args. From version 0.10 passing these as positional arguments will result in an error\n",
      "  if librosa.get_duration(signal)>10:\n",
      "C:\\Users\\TUKUNA\\AppData\\Local\\Temp/ipykernel_14232/2309356834.py:40: FutureWarning: Pass y=[ 0.00163755  0.0189506   0.0261216  ... -0.03845868  0.02584717\n",
      "  0.        ] as keyword args. From version 0.10 passing these as positional arguments will result in an error\n",
      "  mfcc= librosa.feature.mfcc(signal[start_sample:finish_sample],\n"
     ]
    },
    {
     "name": "stdout",
     "output_type": "stream",
     "text": [
      "ocean_noise_data\\spinner_dolphin\\7100102W.wav, segment:0\n"
     ]
    },
    {
     "name": "stderr",
     "output_type": "stream",
     "text": [
      "C:\\Users\\TUKUNA\\AppData\\Local\\Temp/ipykernel_14232/2309356834.py:31: FutureWarning: Pass y=[ 0.02283016  0.07104922  0.08477148 ... -0.04779688 -0.03062815\n",
      "  0.        ] as keyword args. From version 0.10 passing these as positional arguments will result in an error\n",
      "  if librosa.get_duration(signal)>10:\n",
      "C:\\Users\\TUKUNA\\AppData\\Local\\Temp/ipykernel_14232/2309356834.py:40: FutureWarning: Pass y=[ 0.02283016  0.07104922  0.08477148 ... -0.04779688 -0.03062815\n",
      "  0.        ] as keyword args. From version 0.10 passing these as positional arguments will result in an error\n",
      "  mfcc= librosa.feature.mfcc(signal[start_sample:finish_sample],\n",
      "C:\\Users\\TUKUNA\\AppData\\Local\\Temp/ipykernel_14232/2309356834.py:31: FutureWarning: Pass y=[ 0.05498048  0.06618116  0.06048784 ... -0.04199677 -0.03683212\n",
      "  0.        ] as keyword args. From version 0.10 passing these as positional arguments will result in an error\n",
      "  if librosa.get_duration(signal)>10:\n",
      "C:\\Users\\TUKUNA\\AppData\\Local\\Temp/ipykernel_14232/2309356834.py:40: FutureWarning: Pass y=[ 0.05498048  0.06618116  0.06048784 ...  0.00064678  0.00271522\n",
      " -0.02926881] as keyword args. From version 0.10 passing these as positional arguments will result in an error\n",
      "  mfcc= librosa.feature.mfcc(signal[start_sample:finish_sample],\n"
     ]
    },
    {
     "name": "stdout",
     "output_type": "stream",
     "text": [
      "ocean_noise_data\\spinner_dolphin\\71001032.wav, segment:0\n"
     ]
    },
    {
     "name": "stderr",
     "output_type": "stream",
     "text": [
      "C:\\Users\\TUKUNA\\AppData\\Local\\Temp/ipykernel_14232/2309356834.py:31: FutureWarning: Pass y=[-0.00434188  0.00455299 -0.0070864  ...  0.0047409   0.04492449\n",
      "  0.        ] as keyword args. From version 0.10 passing these as positional arguments will result in an error\n",
      "  if librosa.get_duration(signal)>10:\n",
      "C:\\Users\\TUKUNA\\AppData\\Local\\Temp/ipykernel_14232/2309356834.py:40: FutureWarning: Pass y=[-0.00434188  0.00455299 -0.0070864  ...  0.00974299  0.00209988\n",
      " -0.01974925] as keyword args. From version 0.10 passing these as positional arguments will result in an error\n",
      "  mfcc= librosa.feature.mfcc(signal[start_sample:finish_sample],\n"
     ]
    },
    {
     "name": "stdout",
     "output_type": "stream",
     "text": [
      "ocean_noise_data\\spinner_dolphin\\71001033.wav, segment:0\n"
     ]
    },
    {
     "name": "stderr",
     "output_type": "stream",
     "text": [
      "C:\\Users\\TUKUNA\\AppData\\Local\\Temp/ipykernel_14232/2309356834.py:31: FutureWarning: Pass y=[-0.01631069 -0.03246253 -0.02510352 ...  0.06899767  0.04668413\n",
      "  0.        ] as keyword args. From version 0.10 passing these as positional arguments will result in an error\n",
      "  if librosa.get_duration(signal)>10:\n",
      "C:\\Users\\TUKUNA\\AppData\\Local\\Temp/ipykernel_14232/2309356834.py:40: FutureWarning: Pass y=[-0.01631069 -0.03246253 -0.02510352 ...  0.03101954  0.01541733\n",
      "  0.01801963] as keyword args. From version 0.10 passing these as positional arguments will result in an error\n",
      "  mfcc= librosa.feature.mfcc(signal[start_sample:finish_sample],\n"
     ]
    },
    {
     "name": "stdout",
     "output_type": "stream",
     "text": [
      "ocean_noise_data\\spinner_dolphin\\71001034.wav, segment:0\n"
     ]
    },
    {
     "name": "stderr",
     "output_type": "stream",
     "text": [
      "C:\\Users\\TUKUNA\\AppData\\Local\\Temp/ipykernel_14232/2309356834.py:31: FutureWarning: Pass y=[ 0.00410333  0.00828831  0.00805418 ... -0.01001838 -0.02924362\n",
      "  0.        ] as keyword args. From version 0.10 passing these as positional arguments will result in an error\n",
      "  if librosa.get_duration(signal)>10:\n",
      "C:\\Users\\TUKUNA\\AppData\\Local\\Temp/ipykernel_14232/2309356834.py:40: FutureWarning: Pass y=[0.00410333 0.00828831 0.00805418 ... 0.0206414  0.01570065 0.01762937] as keyword args. From version 0.10 passing these as positional arguments will result in an error\n",
      "  mfcc= librosa.feature.mfcc(signal[start_sample:finish_sample],\n"
     ]
    },
    {
     "name": "stdout",
     "output_type": "stream",
     "text": [
      "ocean_noise_data\\spinner_dolphin\\71001035.wav, segment:0\n"
     ]
    },
    {
     "name": "stderr",
     "output_type": "stream",
     "text": [
      "C:\\Users\\TUKUNA\\AppData\\Local\\Temp/ipykernel_14232/2309356834.py:31: FutureWarning: Pass y=[ 0.04360652  0.07133447  0.03209378 ... -0.01582371 -0.00727899\n",
      "  0.        ] as keyword args. From version 0.10 passing these as positional arguments will result in an error\n",
      "  if librosa.get_duration(signal)>10:\n",
      "C:\\Users\\TUKUNA\\AppData\\Local\\Temp/ipykernel_14232/2309356834.py:40: FutureWarning: Pass y=[ 0.04360652  0.07133447  0.03209378 ... -0.01732647 -0.02756564\n",
      " -0.01172868] as keyword args. From version 0.10 passing these as positional arguments will result in an error\n",
      "  mfcc= librosa.feature.mfcc(signal[start_sample:finish_sample],\n",
      "C:\\Users\\TUKUNA\\AppData\\Local\\Temp/ipykernel_14232/2309356834.py:31: FutureWarning: Pass y=[ 0.01902992  0.03973171  0.03952558 ...  0.04382174 -0.00295547\n",
      "  0.        ] as keyword args. From version 0.10 passing these as positional arguments will result in an error\n",
      "  if librosa.get_duration(signal)>10:\n",
      "C:\\Users\\TUKUNA\\AppData\\Local\\Temp/ipykernel_14232/2309356834.py:40: FutureWarning: Pass y=[ 0.01902992  0.03973171  0.03952558 ...  0.04382174 -0.00295547\n",
      "  0.        ] as keyword args. From version 0.10 passing these as positional arguments will result in an error\n",
      "  mfcc= librosa.feature.mfcc(signal[start_sample:finish_sample],\n"
     ]
    },
    {
     "name": "stdout",
     "output_type": "stream",
     "text": [
      "ocean_noise_data\\spinner_dolphin\\71001036.wav, segment:0\n"
     ]
    },
    {
     "name": "stderr",
     "output_type": "stream",
     "text": [
      "C:\\Users\\TUKUNA\\AppData\\Local\\Temp/ipykernel_14232/2309356834.py:31: FutureWarning: Pass y=[-0.00836457 -0.0146406  -0.0030672  ...  0.06557231  0.04172786\n",
      "  0.        ] as keyword args. From version 0.10 passing these as positional arguments will result in an error\n",
      "  if librosa.get_duration(signal)>10:\n",
      "C:\\Users\\TUKUNA\\AppData\\Local\\Temp/ipykernel_14232/2309356834.py:40: FutureWarning: Pass y=[-0.00836457 -0.0146406  -0.0030672  ...  0.02870853  0.0106926\n",
      "  0.00788724] as keyword args. From version 0.10 passing these as positional arguments will result in an error\n",
      "  mfcc= librosa.feature.mfcc(signal[start_sample:finish_sample],\n"
     ]
    },
    {
     "name": "stdout",
     "output_type": "stream",
     "text": [
      "ocean_noise_data\\spinner_dolphin\\71001039.wav, segment:0\n"
     ]
    },
    {
     "name": "stderr",
     "output_type": "stream",
     "text": [
      "C:\\Users\\TUKUNA\\AppData\\Local\\Temp/ipykernel_14232/2309356834.py:31: FutureWarning: Pass y=[-0.02517917 -0.01686819  0.01471584 ... -0.03848626 -0.02648556\n",
      "  0.        ] as keyword args. From version 0.10 passing these as positional arguments will result in an error\n",
      "  if librosa.get_duration(signal)>10:\n",
      "C:\\Users\\TUKUNA\\AppData\\Local\\Temp/ipykernel_14232/2309356834.py:40: FutureWarning: Pass y=[-0.02517917 -0.01686819  0.01471584 ...  0.04149928  0.04597887\n",
      "  0.01212142] as keyword args. From version 0.10 passing these as positional arguments will result in an error\n",
      "  mfcc= librosa.feature.mfcc(signal[start_sample:finish_sample],\n",
      "C:\\Users\\TUKUNA\\AppData\\Local\\Temp/ipykernel_14232/2309356834.py:31: FutureWarning: Pass y=[-0.03231207 -0.03561525 -0.00845385 ... -0.05963941 -0.05496184\n",
      "  0.        ] as keyword args. From version 0.10 passing these as positional arguments will result in an error\n",
      "  if librosa.get_duration(signal)>10:\n",
      "C:\\Users\\TUKUNA\\AppData\\Local\\Temp/ipykernel_14232/2309356834.py:40: FutureWarning: Pass y=[-0.03231207 -0.03561525 -0.00845385 ... -0.03066653 -0.01794546\n",
      " -0.00017668] as keyword args. From version 0.10 passing these as positional arguments will result in an error\n",
      "  mfcc= librosa.feature.mfcc(signal[start_sample:finish_sample],\n"
     ]
    },
    {
     "name": "stdout",
     "output_type": "stream",
     "text": [
      "ocean_noise_data\\spinner_dolphin\\7100103A.wav, segment:0\n",
      "ocean_noise_data\\spinner_dolphin\\7100103B.wav, segment:0\n"
     ]
    },
    {
     "name": "stderr",
     "output_type": "stream",
     "text": [
      "C:\\Users\\TUKUNA\\AppData\\Local\\Temp/ipykernel_14232/2309356834.py:31: FutureWarning: Pass y=[-0.00975753 -0.0027874   0.00227616 ...  0.04717668  0.05291522\n",
      "  0.        ] as keyword args. From version 0.10 passing these as positional arguments will result in an error\n",
      "  if librosa.get_duration(signal)>10:\n",
      "C:\\Users\\TUKUNA\\AppData\\Local\\Temp/ipykernel_14232/2309356834.py:40: FutureWarning: Pass y=[-0.00975753 -0.0027874   0.00227616 ... -0.04612499 -0.05392106\n",
      " -0.05355903] as keyword args. From version 0.10 passing these as positional arguments will result in an error\n",
      "  mfcc= librosa.feature.mfcc(signal[start_sample:finish_sample],\n"
     ]
    },
    {
     "name": "stdout",
     "output_type": "stream",
     "text": [
      "ocean_noise_data\\spinner_dolphin\\7100103C.wav, segment:0\n"
     ]
    },
    {
     "name": "stderr",
     "output_type": "stream",
     "text": [
      "C:\\Users\\TUKUNA\\AppData\\Local\\Temp/ipykernel_14232/2309356834.py:31: FutureWarning: Pass y=[-0.01647434 -0.02307087 -0.01425538 ...  0.00190121  0.00274927\n",
      "  0.        ] as keyword args. From version 0.10 passing these as positional arguments will result in an error\n",
      "  if librosa.get_duration(signal)>10:\n",
      "C:\\Users\\TUKUNA\\AppData\\Local\\Temp/ipykernel_14232/2309356834.py:32: FutureWarning: Pass y=[-0.01647434 -0.02307087 -0.01425538 ...  0.00190121  0.00274927\n",
      "  0.        ] as keyword args. From version 0.10 passing these as positional arguments will result in an error\n",
      "  num_segments=int(librosa.get_duration(signal)/10)\n",
      "C:\\Users\\TUKUNA\\AppData\\Local\\Temp/ipykernel_14232/2309356834.py:40: FutureWarning: Pass y=[-0.01647434 -0.02307087 -0.01425538 ... -0.04806664 -0.04178902\n",
      " -0.04556172] as keyword args. From version 0.10 passing these as positional arguments will result in an error\n",
      "  mfcc= librosa.feature.mfcc(signal[start_sample:finish_sample],\n",
      "C:\\Users\\TUKUNA\\AppData\\Local\\Temp/ipykernel_14232/2309356834.py:40: FutureWarning: Pass y=[-0.03696403 -0.04034443 -0.05035628 ... -0.01665699 -0.00789789\n",
      " -0.00211209] as keyword args. From version 0.10 passing these as positional arguments will result in an error\n",
      "  mfcc= librosa.feature.mfcc(signal[start_sample:finish_sample],\n",
      "C:\\Users\\TUKUNA\\AppData\\Local\\Temp/ipykernel_14232/2309356834.py:40: FutureWarning: Pass y=[-0.01800571 -0.02012553 -0.00882944 ... -0.01757747  0.00519177\n",
      " -0.02160085] as keyword args. From version 0.10 passing these as positional arguments will result in an error\n",
      "  mfcc= librosa.feature.mfcc(signal[start_sample:finish_sample],\n",
      "C:\\Users\\TUKUNA\\AppData\\Local\\Temp/ipykernel_14232/2309356834.py:40: FutureWarning: Pass y=[-0.00790837  0.00197958 -0.02740659 ... -0.00938657 -0.00233575\n",
      " -0.00339905] as keyword args. From version 0.10 passing these as positional arguments will result in an error\n",
      "  mfcc= librosa.feature.mfcc(signal[start_sample:finish_sample],\n",
      "C:\\Users\\TUKUNA\\AppData\\Local\\Temp/ipykernel_14232/2309356834.py:40: FutureWarning: Pass y=[-0.0072673  -0.00575248 -0.01178263 ... -0.02740316 -0.02792535\n",
      " -0.01938327] as keyword args. From version 0.10 passing these as positional arguments will result in an error\n",
      "  mfcc= librosa.feature.mfcc(signal[start_sample:finish_sample],\n"
     ]
    },
    {
     "name": "stdout",
     "output_type": "stream",
     "text": [
      "ocean_noise_data\\spinner_dolphin\\7100103D.wav, segment:0\n",
      "ocean_noise_data\\spinner_dolphin\\7100103D.wav, segment:1\n",
      "ocean_noise_data\\spinner_dolphin\\7100103D.wav, segment:2\n",
      "ocean_noise_data\\spinner_dolphin\\7100103D.wav, segment:3\n",
      "ocean_noise_data\\spinner_dolphin\\7100103D.wav, segment:4\n"
     ]
    },
    {
     "name": "stderr",
     "output_type": "stream",
     "text": [
      "C:\\Users\\TUKUNA\\AppData\\Local\\Temp/ipykernel_14232/2309356834.py:31: FutureWarning: Pass y=[-0.01008598 -0.01734584 -0.02227136 ... -0.02344025 -0.03648392\n",
      "  0.        ] as keyword args. From version 0.10 passing these as positional arguments will result in an error\n",
      "  if librosa.get_duration(signal)>10:\n",
      "C:\\Users\\TUKUNA\\AppData\\Local\\Temp/ipykernel_14232/2309356834.py:32: FutureWarning: Pass y=[-0.01008598 -0.01734584 -0.02227136 ... -0.02344025 -0.03648392\n",
      "  0.        ] as keyword args. From version 0.10 passing these as positional arguments will result in an error\n",
      "  num_segments=int(librosa.get_duration(signal)/10)\n",
      "C:\\Users\\TUKUNA\\AppData\\Local\\Temp/ipykernel_14232/2309356834.py:40: FutureWarning: Pass y=[-0.01008598 -0.01734584 -0.02227136 ... -0.01666536 -0.00853723\n",
      " -0.0026327 ] as keyword args. From version 0.10 passing these as positional arguments will result in an error\n",
      "  mfcc= librosa.feature.mfcc(signal[start_sample:finish_sample],\n",
      "C:\\Users\\TUKUNA\\AppData\\Local\\Temp/ipykernel_14232/2309356834.py:40: FutureWarning: Pass y=[-0.00078448 -0.00344817 -0.00202453 ...  0.03463429  0.02992729\n",
      "  0.03204755] as keyword args. From version 0.10 passing these as positional arguments will result in an error\n",
      "  mfcc= librosa.feature.mfcc(signal[start_sample:finish_sample],\n",
      "C:\\Users\\TUKUNA\\AppData\\Local\\Temp/ipykernel_14232/2309356834.py:40: FutureWarning: Pass y=[ 0.03476238  0.02928291  0.0376045  ... -0.01796936 -0.01573111\n",
      " -0.01456091] as keyword args. From version 0.10 passing these as positional arguments will result in an error\n",
      "  mfcc= librosa.feature.mfcc(signal[start_sample:finish_sample],\n",
      "C:\\Users\\TUKUNA\\AppData\\Local\\Temp/ipykernel_14232/2309356834.py:40: FutureWarning: Pass y=[-0.01185154 -0.0232255  -0.01858718 ... -0.01094855 -0.00944403\n",
      " -0.00761465] as keyword args. From version 0.10 passing these as positional arguments will result in an error\n",
      "  mfcc= librosa.feature.mfcc(signal[start_sample:finish_sample],\n",
      "C:\\Users\\TUKUNA\\AppData\\Local\\Temp/ipykernel_14232/2309356834.py:40: FutureWarning: Pass y=[ 0.00037988 -0.0050068  -0.00796517 ... -0.00120609  0.00311019\n",
      "  0.01933022] as keyword args. From version 0.10 passing these as positional arguments will result in an error\n",
      "  mfcc= librosa.feature.mfcc(signal[start_sample:finish_sample],\n"
     ]
    },
    {
     "name": "stdout",
     "output_type": "stream",
     "text": [
      "ocean_noise_data\\spinner_dolphin\\7100103E.wav, segment:0\n",
      "ocean_noise_data\\spinner_dolphin\\7100103E.wav, segment:1\n",
      "ocean_noise_data\\spinner_dolphin\\7100103E.wav, segment:2\n",
      "ocean_noise_data\\spinner_dolphin\\7100103E.wav, segment:3\n",
      "ocean_noise_data\\spinner_dolphin\\7100103E.wav, segment:4\n"
     ]
    },
    {
     "name": "stderr",
     "output_type": "stream",
     "text": [
      "C:\\Users\\TUKUNA\\AppData\\Local\\Temp/ipykernel_14232/2309356834.py:31: FutureWarning: Pass y=[0.00423116 0.01645572 0.00686424 ... 0.02425498 0.01815881 0.        ] as keyword args. From version 0.10 passing these as positional arguments will result in an error\n",
      "  if librosa.get_duration(signal)>10:\n",
      "C:\\Users\\TUKUNA\\AppData\\Local\\Temp/ipykernel_14232/2309356834.py:32: FutureWarning: Pass y=[0.00423116 0.01645572 0.00686424 ... 0.02425498 0.01815881 0.        ] as keyword args. From version 0.10 passing these as positional arguments will result in an error\n",
      "  num_segments=int(librosa.get_duration(signal)/10)\n",
      "C:\\Users\\TUKUNA\\AppData\\Local\\Temp/ipykernel_14232/2309356834.py:40: FutureWarning: Pass y=[ 0.00423116  0.01645572  0.00686424 ... -0.01719572 -0.00874524\n",
      " -0.0182456 ] as keyword args. From version 0.10 passing these as positional arguments will result in an error\n",
      "  mfcc= librosa.feature.mfcc(signal[start_sample:finish_sample],\n",
      "C:\\Users\\TUKUNA\\AppData\\Local\\Temp/ipykernel_14232/2309356834.py:40: FutureWarning: Pass y=[-0.010586   -0.02799344 -0.02616716 ... -0.05056983 -0.00808798\n",
      "  0.01424474] as keyword args. From version 0.10 passing these as positional arguments will result in an error\n",
      "  mfcc= librosa.feature.mfcc(signal[start_sample:finish_sample],\n",
      "C:\\Users\\TUKUNA\\AppData\\Local\\Temp/ipykernel_14232/2309356834.py:40: FutureWarning: Pass y=[-0.04373866  0.0120769   0.00380483 ... -0.03044949 -0.03105036\n",
      " -0.00524335] as keyword args. From version 0.10 passing these as positional arguments will result in an error\n",
      "  mfcc= librosa.feature.mfcc(signal[start_sample:finish_sample],\n",
      "C:\\Users\\TUKUNA\\AppData\\Local\\Temp/ipykernel_14232/2309356834.py:40: FutureWarning: Pass y=[-0.025986   -0.03720623 -0.0046378  ...  0.02168182 -0.00506102\n",
      " -0.00318665] as keyword args. From version 0.10 passing these as positional arguments will result in an error\n",
      "  mfcc= librosa.feature.mfcc(signal[start_sample:finish_sample],\n",
      "C:\\Users\\TUKUNA\\AppData\\Local\\Temp/ipykernel_14232/2309356834.py:40: FutureWarning: Pass y=[ 0.00966973  0.01524954  0.01125844 ...  0.00999968  0.01670397\n",
      " -0.03024816] as keyword args. From version 0.10 passing these as positional arguments will result in an error\n",
      "  mfcc= librosa.feature.mfcc(signal[start_sample:finish_sample],\n"
     ]
    },
    {
     "name": "stdout",
     "output_type": "stream",
     "text": [
      "ocean_noise_data\\spinner_dolphin\\7100103G.wav, segment:0\n",
      "ocean_noise_data\\spinner_dolphin\\7100103G.wav, segment:1\n",
      "ocean_noise_data\\spinner_dolphin\\7100103G.wav, segment:2\n",
      "ocean_noise_data\\spinner_dolphin\\7100103G.wav, segment:3\n",
      "ocean_noise_data\\spinner_dolphin\\7100103G.wav, segment:4\n"
     ]
    },
    {
     "name": "stderr",
     "output_type": "stream",
     "text": [
      "C:\\Users\\TUKUNA\\AppData\\Local\\Temp/ipykernel_14232/2309356834.py:31: FutureWarning: Pass y=[0.01235054 0.02036679 0.01583724 ... 0.0233107  0.03539035 0.        ] as keyword args. From version 0.10 passing these as positional arguments will result in an error\n",
      "  if librosa.get_duration(signal)>10:\n",
      "C:\\Users\\TUKUNA\\AppData\\Local\\Temp/ipykernel_14232/2309356834.py:40: FutureWarning: Pass y=[ 0.01235054  0.02036679  0.01583724 ... -0.01012671 -0.00375739\n",
      " -0.00106569] as keyword args. From version 0.10 passing these as positional arguments will result in an error\n",
      "  mfcc= librosa.feature.mfcc(signal[start_sample:finish_sample],\n",
      "C:\\Users\\TUKUNA\\AppData\\Local\\Temp/ipykernel_14232/2309356834.py:40: FutureWarning: Pass y=[-0.00135195  0.00032377  0.00294221 ...  0.0233107   0.03539035\n",
      "  0.        ] as keyword args. From version 0.10 passing these as positional arguments will result in an error\n",
      "  mfcc= librosa.feature.mfcc(signal[start_sample:finish_sample],\n",
      "C:\\Users\\TUKUNA\\AppData\\Local\\Temp/ipykernel_14232/2309356834.py:31: FutureWarning: Pass y=[-0.01389823 -0.02301456 -0.01173749 ...  0.01652468  0.01375289\n",
      "  0.        ] as keyword args. From version 0.10 passing these as positional arguments will result in an error\n",
      "  if librosa.get_duration(signal)>10:\n"
     ]
    },
    {
     "name": "stdout",
     "output_type": "stream",
     "text": [
      "ocean_noise_data\\spinner_dolphin\\71003002.wav, segment:0\n"
     ]
    },
    {
     "name": "stderr",
     "output_type": "stream",
     "text": [
      "C:\\Users\\TUKUNA\\AppData\\Local\\Temp/ipykernel_14232/2309356834.py:40: FutureWarning: Pass y=[-0.01389823 -0.02301456 -0.01173749 ...  0.01652468  0.01375289\n",
      "  0.        ] as keyword args. From version 0.10 passing these as positional arguments will result in an error\n",
      "  mfcc= librosa.feature.mfcc(signal[start_sample:finish_sample],\n",
      "C:\\Users\\TUKUNA\\AppData\\Local\\Temp/ipykernel_14232/2309356834.py:31: FutureWarning: Pass y=[-0.00731424 -0.03147674  0.00669291 ... -0.00748454 -0.02060108\n",
      "  0.        ] as keyword args. From version 0.10 passing these as positional arguments will result in an error\n",
      "  if librosa.get_duration(signal)>10:\n",
      "C:\\Users\\TUKUNA\\AppData\\Local\\Temp/ipykernel_14232/2309356834.py:40: FutureWarning: Pass y=[-0.00731424 -0.03147674  0.00669291 ... -0.00748454 -0.02060108\n",
      "  0.        ] as keyword args. From version 0.10 passing these as positional arguments will result in an error\n",
      "  mfcc= librosa.feature.mfcc(signal[start_sample:finish_sample],\n",
      "C:\\Users\\TUKUNA\\AppData\\Local\\Temp/ipykernel_14232/2309356834.py:31: FutureWarning: Pass y=[-0.01928106 -0.02611038 -0.01374112 ...  0.00256041  0.00609422\n",
      "  0.        ] as keyword args. From version 0.10 passing these as positional arguments will result in an error\n",
      "  if librosa.get_duration(signal)>10:\n",
      "C:\\Users\\TUKUNA\\AppData\\Local\\Temp/ipykernel_14232/2309356834.py:40: FutureWarning: Pass y=[-0.01928106 -0.02611038 -0.01374112 ...  0.00256041  0.00609422\n",
      "  0.        ] as keyword args. From version 0.10 passing these as positional arguments will result in an error\n",
      "  mfcc= librosa.feature.mfcc(signal[start_sample:finish_sample],\n",
      "C:\\Users\\TUKUNA\\AppData\\Local\\Temp/ipykernel_14232/2309356834.py:31: FutureWarning: Pass y=[0.00874815 0.0135787  0.02404673 ... 0.00297383 0.00716786 0.        ] as keyword args. From version 0.10 passing these as positional arguments will result in an error\n",
      "  if librosa.get_duration(signal)>10:\n",
      "C:\\Users\\TUKUNA\\AppData\\Local\\Temp/ipykernel_14232/2309356834.py:40: FutureWarning: Pass y=[0.00874815 0.0135787  0.02404673 ... 0.00297383 0.00716786 0.        ] as keyword args. From version 0.10 passing these as positional arguments will result in an error\n",
      "  mfcc= librosa.feature.mfcc(signal[start_sample:finish_sample],\n",
      "C:\\Users\\TUKUNA\\AppData\\Local\\Temp/ipykernel_14232/2309356834.py:31: FutureWarning: Pass y=[ 0.03053605  0.05554939  0.04851571 ... -0.02616314 -0.0232081\n",
      "  0.        ] as keyword args. From version 0.10 passing these as positional arguments will result in an error\n",
      "  if librosa.get_duration(signal)>10:\n",
      "C:\\Users\\TUKUNA\\AppData\\Local\\Temp/ipykernel_14232/2309356834.py:40: FutureWarning: Pass y=[ 0.03053605  0.05554939  0.04851571 ... -0.02616314 -0.0232081\n",
      "  0.        ] as keyword args. From version 0.10 passing these as positional arguments will result in an error\n",
      "  mfcc= librosa.feature.mfcc(signal[start_sample:finish_sample],\n",
      "C:\\Users\\TUKUNA\\AppData\\Local\\Temp/ipykernel_14232/2309356834.py:31: FutureWarning: Pass y=[-0.00134562  0.00054426 -0.00294379 ...  0.0135793   0.00869843\n",
      "  0.        ] as keyword args. From version 0.10 passing these as positional arguments will result in an error\n",
      "  if librosa.get_duration(signal)>10:\n",
      "C:\\Users\\TUKUNA\\AppData\\Local\\Temp/ipykernel_14232/2309356834.py:40: FutureWarning: Pass y=[-0.00134562  0.00054426 -0.00294379 ...  0.0135793   0.00869843\n",
      "  0.        ] as keyword args. From version 0.10 passing these as positional arguments will result in an error\n",
      "  mfcc= librosa.feature.mfcc(signal[start_sample:finish_sample],\n",
      "C:\\Users\\TUKUNA\\AppData\\Local\\Temp/ipykernel_14232/2309356834.py:31: FutureWarning: Pass y=[0.01755373 0.02617876 0.02119    ... 0.00148116 0.00709886 0.        ] as keyword args. From version 0.10 passing these as positional arguments will result in an error\n",
      "  if librosa.get_duration(signal)>10:\n",
      "C:\\Users\\TUKUNA\\AppData\\Local\\Temp/ipykernel_14232/2309356834.py:40: FutureWarning: Pass y=[0.01755373 0.02617876 0.02119    ... 0.00148116 0.00709886 0.        ] as keyword args. From version 0.10 passing these as positional arguments will result in an error\n",
      "  mfcc= librosa.feature.mfcc(signal[start_sample:finish_sample],\n",
      "C:\\Users\\TUKUNA\\AppData\\Local\\Temp/ipykernel_14232/2309356834.py:31: FutureWarning: Pass y=[-0.01591193 -0.02727507 -0.01135804 ...  0.01808652  0.0213344\n",
      "  0.        ] as keyword args. From version 0.10 passing these as positional arguments will result in an error\n",
      "  if librosa.get_duration(signal)>10:\n",
      "C:\\Users\\TUKUNA\\AppData\\Local\\Temp/ipykernel_14232/2309356834.py:40: FutureWarning: Pass y=[-0.01591193 -0.02727507 -0.01135804 ...  0.01808652  0.0213344\n",
      "  0.        ] as keyword args. From version 0.10 passing these as positional arguments will result in an error\n",
      "  mfcc= librosa.feature.mfcc(signal[start_sample:finish_sample],\n",
      "C:\\Users\\TUKUNA\\AppData\\Local\\Temp/ipykernel_14232/2309356834.py:31: FutureWarning: Pass y=[-0.00785573 -0.01987416 -0.01717555 ... -0.00061546 -0.00090552\n",
      "  0.        ] as keyword args. From version 0.10 passing these as positional arguments will result in an error\n",
      "  if librosa.get_duration(signal)>10:\n",
      "C:\\Users\\TUKUNA\\AppData\\Local\\Temp/ipykernel_14232/2309356834.py:40: FutureWarning: Pass y=[-0.00785573 -0.01987416 -0.01717555 ... -0.01523195 -0.01118049\n",
      " -0.01720524] as keyword args. From version 0.10 passing these as positional arguments will result in an error\n",
      "  mfcc= librosa.feature.mfcc(signal[start_sample:finish_sample],\n",
      "C:\\Users\\TUKUNA\\AppData\\Local\\Temp/ipykernel_14232/2309356834.py:40: FutureWarning: Pass y=[-0.01381945 -0.0120915  -0.01217875 ... -0.00061546 -0.00090552\n",
      "  0.        ] as keyword args. From version 0.10 passing these as positional arguments will result in an error\n",
      "  mfcc= librosa.feature.mfcc(signal[start_sample:finish_sample],\n"
     ]
    },
    {
     "name": "stdout",
     "output_type": "stream",
     "text": [
      "ocean_noise_data\\spinner_dolphin\\7100300B.wav, segment:0\n"
     ]
    },
    {
     "name": "stderr",
     "output_type": "stream",
     "text": [
      "C:\\Users\\TUKUNA\\AppData\\Local\\Temp/ipykernel_14232/2309356834.py:31: FutureWarning: Pass y=[ 0.01644513  0.04380861  0.03457623 ...  0.00221306 -0.0148578\n",
      "  0.        ] as keyword args. From version 0.10 passing these as positional arguments will result in an error\n",
      "  if librosa.get_duration(signal)>10:\n",
      "C:\\Users\\TUKUNA\\AppData\\Local\\Temp/ipykernel_14232/2309356834.py:40: FutureWarning: Pass y=[0.01644513 0.04380861 0.03457623 ... 0.0339478  0.04158448 0.02726306] as keyword args. From version 0.10 passing these as positional arguments will result in an error\n",
      "  mfcc= librosa.feature.mfcc(signal[start_sample:finish_sample],\n",
      "C:\\Users\\TUKUNA\\AppData\\Local\\Temp/ipykernel_14232/2309356834.py:40: FutureWarning: Pass y=[ 0.02764354  0.0224993   0.03198246 ...  0.00221306 -0.0148578\n",
      "  0.        ] as keyword args. From version 0.10 passing these as positional arguments will result in an error\n",
      "  mfcc= librosa.feature.mfcc(signal[start_sample:finish_sample],\n"
     ]
    },
    {
     "name": "stdout",
     "output_type": "stream",
     "text": [
      "ocean_noise_data\\spinner_dolphin\\7100300C.wav, segment:0\n"
     ]
    },
    {
     "name": "stderr",
     "output_type": "stream",
     "text": [
      "C:\\Users\\TUKUNA\\AppData\\Local\\Temp/ipykernel_14232/2309356834.py:31: FutureWarning: Pass y=[ 0.06974373 -0.01000009 -0.01871684 ... -0.02027598 -0.00940162\n",
      "  0.        ] as keyword args. From version 0.10 passing these as positional arguments will result in an error\n",
      "  if librosa.get_duration(signal)>10:\n",
      "C:\\Users\\TUKUNA\\AppData\\Local\\Temp/ipykernel_14232/2309356834.py:40: FutureWarning: Pass y=[ 0.06974373 -0.01000009 -0.01871684 ... -0.0423134  -0.0063971\n",
      " -0.00603841] as keyword args. From version 0.10 passing these as positional arguments will result in an error\n",
      "  mfcc= librosa.feature.mfcc(signal[start_sample:finish_sample],\n",
      "C:\\Users\\TUKUNA\\AppData\\Local\\Temp/ipykernel_14232/2309356834.py:40: FutureWarning: Pass y=[-0.01244414 -0.02405177 -0.01846566 ... -0.02027598 -0.00940162\n",
      "  0.        ] as keyword args. From version 0.10 passing these as positional arguments will result in an error\n",
      "  mfcc= librosa.feature.mfcc(signal[start_sample:finish_sample],\n"
     ]
    },
    {
     "name": "stdout",
     "output_type": "stream",
     "text": [
      "ocean_noise_data\\spinner_dolphin\\7100300D.wav, segment:0\n"
     ]
    },
    {
     "name": "stderr",
     "output_type": "stream",
     "text": [
      "C:\\Users\\TUKUNA\\AppData\\Local\\Temp/ipykernel_14232/2309356834.py:31: FutureWarning: Pass y=[-0.00637454 -0.01148503 -0.00934719 ...  0.02183791  0.02459925\n",
      "  0.        ] as keyword args. From version 0.10 passing these as positional arguments will result in an error\n",
      "  if librosa.get_duration(signal)>10:\n",
      "C:\\Users\\TUKUNA\\AppData\\Local\\Temp/ipykernel_14232/2309356834.py:40: FutureWarning: Pass y=[-0.00637454 -0.01148503 -0.00934719 ... -0.00670547 -0.01301271\n",
      " -0.0064227 ] as keyword args. From version 0.10 passing these as positional arguments will result in an error\n",
      "  mfcc= librosa.feature.mfcc(signal[start_sample:finish_sample],\n",
      "C:\\Users\\TUKUNA\\AppData\\Local\\Temp/ipykernel_14232/2309356834.py:40: FutureWarning: Pass y=[-0.01938633 -0.01368868 -0.0083459  ...  0.02183791  0.02459925\n",
      "  0.        ] as keyword args. From version 0.10 passing these as positional arguments will result in an error\n",
      "  mfcc= librosa.feature.mfcc(signal[start_sample:finish_sample],\n"
     ]
    },
    {
     "name": "stdout",
     "output_type": "stream",
     "text": [
      "ocean_noise_data\\spinner_dolphin\\7100300E.wav, segment:0\n"
     ]
    },
    {
     "name": "stderr",
     "output_type": "stream",
     "text": [
      "C:\\Users\\TUKUNA\\AppData\\Local\\Temp/ipykernel_14232/2309356834.py:31: FutureWarning: Pass y=[ 0.01605677  0.02500046  0.02239271 ... -0.01098226 -0.01679439\n",
      "  0.        ] as keyword args. From version 0.10 passing these as positional arguments will result in an error\n",
      "  if librosa.get_duration(signal)>10:\n",
      "C:\\Users\\TUKUNA\\AppData\\Local\\Temp/ipykernel_14232/2309356834.py:40: FutureWarning: Pass y=[ 0.01605677  0.02500046  0.02239271 ...  0.00348041 -0.00154355\n",
      "  0.00066008] as keyword args. From version 0.10 passing these as positional arguments will result in an error\n",
      "  mfcc= librosa.feature.mfcc(signal[start_sample:finish_sample],\n",
      "C:\\Users\\TUKUNA\\AppData\\Local\\Temp/ipykernel_14232/2309356834.py:40: FutureWarning: Pass y=[-0.00203332 -0.00445691 -0.00157068 ... -0.01098226 -0.01679439\n",
      "  0.        ] as keyword args. From version 0.10 passing these as positional arguments will result in an error\n",
      "  mfcc= librosa.feature.mfcc(signal[start_sample:finish_sample],\n"
     ]
    },
    {
     "name": "stdout",
     "output_type": "stream",
     "text": [
      "ocean_noise_data\\spinner_dolphin\\7100300G.wav, segment:0\n"
     ]
    },
    {
     "name": "stderr",
     "output_type": "stream",
     "text": [
      "C:\\Users\\TUKUNA\\AppData\\Local\\Temp/ipykernel_14232/2309356834.py:31: FutureWarning: Pass y=[-0.00080731 -0.00515831 -0.00746198 ... -0.00864917 -0.0086749\n",
      "  0.        ] as keyword args. From version 0.10 passing these as positional arguments will result in an error\n",
      "  if librosa.get_duration(signal)>10:\n",
      "C:\\Users\\TUKUNA\\AppData\\Local\\Temp/ipykernel_14232/2309356834.py:40: FutureWarning: Pass y=[-0.00080731 -0.00515831 -0.00746198 ...  0.00686811  0.00234971\n",
      " -0.00089998] as keyword args. From version 0.10 passing these as positional arguments will result in an error\n",
      "  mfcc= librosa.feature.mfcc(signal[start_sample:finish_sample],\n",
      "C:\\Users\\TUKUNA\\AppData\\Local\\Temp/ipykernel_14232/2309356834.py:40: FutureWarning: Pass y=[ 0.00053128  0.00121853 -0.00120854 ... -0.00864917 -0.0086749\n",
      "  0.        ] as keyword args. From version 0.10 passing these as positional arguments will result in an error\n",
      "  mfcc= librosa.feature.mfcc(signal[start_sample:finish_sample],\n"
     ]
    },
    {
     "name": "stdout",
     "output_type": "stream",
     "text": [
      "ocean_noise_data\\spinner_dolphin\\7100300I.wav, segment:0\n"
     ]
    },
    {
     "name": "stderr",
     "output_type": "stream",
     "text": [
      "C:\\Users\\TUKUNA\\AppData\\Local\\Temp/ipykernel_14232/2309356834.py:31: FutureWarning: Pass y=[ 0.01051983  0.01647296  0.01794195 ... -0.04194643 -0.04099353\n",
      "  0.        ] as keyword args. From version 0.10 passing these as positional arguments will result in an error\n",
      "  if librosa.get_duration(signal)>10:\n",
      "C:\\Users\\TUKUNA\\AppData\\Local\\Temp/ipykernel_14232/2309356834.py:40: FutureWarning: Pass y=[0.01051983 0.01647296 0.01794195 ... 0.02375204 0.02116912 0.01588526] as keyword args. From version 0.10 passing these as positional arguments will result in an error\n",
      "  mfcc= librosa.feature.mfcc(signal[start_sample:finish_sample],\n",
      "C:\\Users\\TUKUNA\\AppData\\Local\\Temp/ipykernel_14232/2309356834.py:40: FutureWarning: Pass y=[ 0.01849749  0.01923539  0.01603958 ... -0.04194643 -0.04099353\n",
      "  0.        ] as keyword args. From version 0.10 passing these as positional arguments will result in an error\n",
      "  mfcc= librosa.feature.mfcc(signal[start_sample:finish_sample],\n"
     ]
    },
    {
     "name": "stdout",
     "output_type": "stream",
     "text": [
      "ocean_noise_data\\spinner_dolphin\\7100300J.wav, segment:0\n"
     ]
    },
    {
     "name": "stderr",
     "output_type": "stream",
     "text": [
      "C:\\Users\\TUKUNA\\AppData\\Local\\Temp/ipykernel_14232/2309356834.py:31: FutureWarning: Pass y=[-0.00539517 -0.01585051 -0.0110376  ...  0.03049694  0.03306399\n",
      "  0.        ] as keyword args. From version 0.10 passing these as positional arguments will result in an error\n",
      "  if librosa.get_duration(signal)>10:\n",
      "C:\\Users\\TUKUNA\\AppData\\Local\\Temp/ipykernel_14232/2309356834.py:40: FutureWarning: Pass y=[-0.00539517 -0.01585051 -0.0110376  ...  0.04677671  0.04779792\n",
      "  0.04656731] as keyword args. From version 0.10 passing these as positional arguments will result in an error\n",
      "  mfcc= librosa.feature.mfcc(signal[start_sample:finish_sample],\n",
      "C:\\Users\\TUKUNA\\AppData\\Local\\Temp/ipykernel_14232/2309356834.py:40: FutureWarning: Pass y=[0.05022087 0.03542505 0.04364741 ... 0.03049694 0.03306399 0.        ] as keyword args. From version 0.10 passing these as positional arguments will result in an error\n",
      "  mfcc= librosa.feature.mfcc(signal[start_sample:finish_sample],\n"
     ]
    },
    {
     "name": "stdout",
     "output_type": "stream",
     "text": [
      "ocean_noise_data\\spinner_dolphin\\7100300K.wav, segment:0\n"
     ]
    },
    {
     "name": "stderr",
     "output_type": "stream",
     "text": [
      "C:\\Users\\TUKUNA\\AppData\\Local\\Temp/ipykernel_14232/2309356834.py:31: FutureWarning: Pass y=[ 0.01528125  0.02747362  0.02432085 ... -0.00853768 -0.01169977\n",
      "  0.        ] as keyword args. From version 0.10 passing these as positional arguments will result in an error\n",
      "  if librosa.get_duration(signal)>10:\n",
      "C:\\Users\\TUKUNA\\AppData\\Local\\Temp/ipykernel_14232/2309356834.py:40: FutureWarning: Pass y=[ 0.01528125  0.02747362  0.02432085 ... -0.00082231 -0.00127047\n",
      " -0.00147078] as keyword args. From version 0.10 passing these as positional arguments will result in an error\n",
      "  mfcc= librosa.feature.mfcc(signal[start_sample:finish_sample],\n",
      "C:\\Users\\TUKUNA\\AppData\\Local\\Temp/ipykernel_14232/2309356834.py:40: FutureWarning: Pass y=[-0.00119138  0.00637673 -0.00387709 ... -0.00853768 -0.01169977\n",
      "  0.        ] as keyword args. From version 0.10 passing these as positional arguments will result in an error\n",
      "  mfcc= librosa.feature.mfcc(signal[start_sample:finish_sample],\n"
     ]
    },
    {
     "name": "stdout",
     "output_type": "stream",
     "text": [
      "ocean_noise_data\\spinner_dolphin\\7100300L.wav, segment:0\n"
     ]
    },
    {
     "name": "stderr",
     "output_type": "stream",
     "text": [
      "C:\\Users\\TUKUNA\\AppData\\Local\\Temp/ipykernel_14232/2309356834.py:31: FutureWarning: Pass y=[-0.00300092 -0.01005302 -0.00697255 ...  0.04091835  0.04904952\n",
      "  0.        ] as keyword args. From version 0.10 passing these as positional arguments will result in an error\n",
      "  if librosa.get_duration(signal)>10:\n",
      "C:\\Users\\TUKUNA\\AppData\\Local\\Temp/ipykernel_14232/2309356834.py:40: FutureWarning: Pass y=[-0.00300092 -0.01005302 -0.00697255 ... -0.01300323 -0.00976578\n",
      " -0.00691469] as keyword args. From version 0.10 passing these as positional arguments will result in an error\n",
      "  mfcc= librosa.feature.mfcc(signal[start_sample:finish_sample],\n",
      "C:\\Users\\TUKUNA\\AppData\\Local\\Temp/ipykernel_14232/2309356834.py:40: FutureWarning: Pass y=[-0.00699133 -0.0038921  -0.00278766 ...  0.04091835  0.04904952\n",
      "  0.        ] as keyword args. From version 0.10 passing these as positional arguments will result in an error\n",
      "  mfcc= librosa.feature.mfcc(signal[start_sample:finish_sample],\n"
     ]
    },
    {
     "name": "stdout",
     "output_type": "stream",
     "text": [
      "ocean_noise_data\\spinner_dolphin\\7100300M.wav, segment:0\n"
     ]
    },
    {
     "name": "stderr",
     "output_type": "stream",
     "text": [
      "C:\\Users\\TUKUNA\\AppData\\Local\\Temp/ipykernel_14232/2309356834.py:31: FutureWarning: Pass y=[-0.02035251 -0.03053607 -0.02700139 ... -0.01494799  0.01415114\n",
      "  0.        ] as keyword args. From version 0.10 passing these as positional arguments will result in an error\n",
      "  if librosa.get_duration(signal)>10:\n",
      "C:\\Users\\TUKUNA\\AppData\\Local\\Temp/ipykernel_14232/2309356834.py:40: FutureWarning: Pass y=[-0.02035251 -0.03053607 -0.02700139 ... -0.05426263 -0.02591436\n",
      " -0.00446697] as keyword args. From version 0.10 passing these as positional arguments will result in an error\n",
      "  mfcc= librosa.feature.mfcc(signal[start_sample:finish_sample],\n",
      "C:\\Users\\TUKUNA\\AppData\\Local\\Temp/ipykernel_14232/2309356834.py:40: FutureWarning: Pass y=[-0.00501554 -0.1010986  -0.00799272 ... -0.01494799  0.01415114\n",
      "  0.        ] as keyword args. From version 0.10 passing these as positional arguments will result in an error\n",
      "  mfcc= librosa.feature.mfcc(signal[start_sample:finish_sample],\n"
     ]
    },
    {
     "name": "stdout",
     "output_type": "stream",
     "text": [
      "ocean_noise_data\\spinner_dolphin\\7100300N.wav, segment:0\n"
     ]
    },
    {
     "name": "stderr",
     "output_type": "stream",
     "text": [
      "C:\\Users\\TUKUNA\\AppData\\Local\\Temp/ipykernel_14232/2309356834.py:31: FutureWarning: Pass y=[ 1.0105690e-02  1.6965393e-02 -6.0773440e-05 ... -5.7683188e-02\n",
      " -4.1206744e-02  0.0000000e+00] as keyword args. From version 0.10 passing these as positional arguments will result in an error\n",
      "  if librosa.get_duration(signal)>10:\n",
      "C:\\Users\\TUKUNA\\AppData\\Local\\Temp/ipykernel_14232/2309356834.py:40: FutureWarning: Pass y=[ 1.0105690e-02  1.6965393e-02 -6.0773440e-05 ...  1.2985177e-02\n",
      "  3.7713122e-02  5.4100763e-02] as keyword args. From version 0.10 passing these as positional arguments will result in an error\n",
      "  mfcc= librosa.feature.mfcc(signal[start_sample:finish_sample],\n",
      "C:\\Users\\TUKUNA\\AppData\\Local\\Temp/ipykernel_14232/2309356834.py:40: FutureWarning: Pass y=[ 0.04880622  0.06707644  0.05462892 ... -0.05768319 -0.04120674\n",
      "  0.        ] as keyword args. From version 0.10 passing these as positional arguments will result in an error\n",
      "  mfcc= librosa.feature.mfcc(signal[start_sample:finish_sample],\n"
     ]
    },
    {
     "name": "stdout",
     "output_type": "stream",
     "text": [
      "ocean_noise_data\\spinner_dolphin\\7100300O.wav, segment:0\n"
     ]
    },
    {
     "name": "stderr",
     "output_type": "stream",
     "text": [
      "C:\\Users\\TUKUNA\\AppData\\Local\\Temp/ipykernel_14232/2309356834.py:31: FutureWarning: Pass y=[-0.01016928  0.00687499  0.0152659  ... -0.03019105 -0.08099883\n",
      "  0.        ] as keyword args. From version 0.10 passing these as positional arguments will result in an error\n",
      "  if librosa.get_duration(signal)>10:\n",
      "C:\\Users\\TUKUNA\\AppData\\Local\\Temp/ipykernel_14232/2309356834.py:40: FutureWarning: Pass y=[-0.01016928  0.00687499  0.0152659  ... -0.03019105 -0.08099883\n",
      "  0.        ] as keyword args. From version 0.10 passing these as positional arguments will result in an error\n",
      "  mfcc= librosa.feature.mfcc(signal[start_sample:finish_sample],\n",
      "C:\\Users\\TUKUNA\\AppData\\Local\\Temp/ipykernel_14232/2309356834.py:31: FutureWarning: Pass y=[ 0.03156674  0.07830412  0.03829012 ...  0.03698869 -0.06163109\n",
      "  0.        ] as keyword args. From version 0.10 passing these as positional arguments will result in an error\n",
      "  if librosa.get_duration(signal)>10:\n",
      "C:\\Users\\TUKUNA\\AppData\\Local\\Temp/ipykernel_14232/2309356834.py:40: FutureWarning: Pass y=[ 0.03156674  0.07830412  0.03829012 ...  0.03698869 -0.06163109\n",
      "  0.        ] as keyword args. From version 0.10 passing these as positional arguments will result in an error\n",
      "  mfcc= librosa.feature.mfcc(signal[start_sample:finish_sample],\n",
      "C:\\Users\\TUKUNA\\AppData\\Local\\Temp/ipykernel_14232/2309356834.py:31: FutureWarning: Pass y=[ 0.00867143  0.01249398  0.01260954 ... -0.04791523 -0.03388373\n",
      "  0.        ] as keyword args. From version 0.10 passing these as positional arguments will result in an error\n",
      "  if librosa.get_duration(signal)>10:\n",
      "C:\\Users\\TUKUNA\\AppData\\Local\\Temp/ipykernel_14232/2309356834.py:40: FutureWarning: Pass y=[ 0.00867143  0.01249398  0.01260954 ...  0.00036431 -0.04282323\n",
      "  0.0129584 ] as keyword args. From version 0.10 passing these as positional arguments will result in an error\n",
      "  mfcc= librosa.feature.mfcc(signal[start_sample:finish_sample],\n",
      "C:\\Users\\TUKUNA\\AppData\\Local\\Temp/ipykernel_14232/2309356834.py:40: FutureWarning: Pass y=[-0.00039187 -0.07132302  0.002032   ... -0.04791523 -0.03388373\n",
      "  0.        ] as keyword args. From version 0.10 passing these as positional arguments will result in an error\n",
      "  mfcc= librosa.feature.mfcc(signal[start_sample:finish_sample],\n"
     ]
    },
    {
     "name": "stdout",
     "output_type": "stream",
     "text": [
      "ocean_noise_data\\spinner_dolphin\\7100300S.wav, segment:0\n"
     ]
    },
    {
     "name": "stderr",
     "output_type": "stream",
     "text": [
      "C:\\Users\\TUKUNA\\AppData\\Local\\Temp/ipykernel_14232/2309356834.py:31: FutureWarning: Pass y=[-0.01940017  0.05698738  0.04353908 ...  0.012039    0.06441664\n",
      "  0.        ] as keyword args. From version 0.10 passing these as positional arguments will result in an error\n",
      "  if librosa.get_duration(signal)>10:\n",
      "C:\\Users\\TUKUNA\\AppData\\Local\\Temp/ipykernel_14232/2309356834.py:40: FutureWarning: Pass y=[-0.01940017  0.05698738  0.04353908 ...  0.02183335  0.01259554\n",
      "  0.00617513] as keyword args. From version 0.10 passing these as positional arguments will result in an error\n",
      "  mfcc= librosa.feature.mfcc(signal[start_sample:finish_sample],\n",
      "C:\\Users\\TUKUNA\\AppData\\Local\\Temp/ipykernel_14232/2309356834.py:40: FutureWarning: Pass y=[-0.02556106  0.00014006 -0.03111384 ...  0.012039    0.06441664\n",
      "  0.        ] as keyword args. From version 0.10 passing these as positional arguments will result in an error\n",
      "  mfcc= librosa.feature.mfcc(signal[start_sample:finish_sample],\n"
     ]
    },
    {
     "name": "stdout",
     "output_type": "stream",
     "text": [
      "ocean_noise_data\\spinner_dolphin\\7100300T.wav, segment:0\n"
     ]
    },
    {
     "name": "stderr",
     "output_type": "stream",
     "text": [
      "C:\\Users\\TUKUNA\\AppData\\Local\\Temp/ipykernel_14232/2309356834.py:31: FutureWarning: Pass y=[-0.00734946 -0.02134091 -0.00175947 ... -0.05396558 -0.01853519\n",
      "  0.        ] as keyword args. From version 0.10 passing these as positional arguments will result in an error\n",
      "  if librosa.get_duration(signal)>10:\n",
      "C:\\Users\\TUKUNA\\AppData\\Local\\Temp/ipykernel_14232/2309356834.py:40: FutureWarning: Pass y=[-0.00734946 -0.02134091 -0.00175947 ...  0.00295441  0.00999304\n",
      "  0.00787237] as keyword args. From version 0.10 passing these as positional arguments will result in an error\n",
      "  mfcc= librosa.feature.mfcc(signal[start_sample:finish_sample],\n",
      "C:\\Users\\TUKUNA\\AppData\\Local\\Temp/ipykernel_14232/2309356834.py:40: FutureWarning: Pass y=[ 0.00867376 -0.02272505  0.01171238 ... -0.05396558 -0.01853519\n",
      "  0.        ] as keyword args. From version 0.10 passing these as positional arguments will result in an error\n",
      "  mfcc= librosa.feature.mfcc(signal[start_sample:finish_sample],\n"
     ]
    },
    {
     "name": "stdout",
     "output_type": "stream",
     "text": [
      "ocean_noise_data\\spinner_dolphin\\7100300U.wav, segment:0\n"
     ]
    },
    {
     "name": "stderr",
     "output_type": "stream",
     "text": [
      "C:\\Users\\TUKUNA\\AppData\\Local\\Temp/ipykernel_14232/2309356834.py:31: FutureWarning: Pass y=[ 0.06085     0.01399115  0.02032771 ... -0.02845606 -0.02175029\n",
      "  0.        ] as keyword args. From version 0.10 passing these as positional arguments will result in an error\n",
      "  if librosa.get_duration(signal)>10:\n",
      "C:\\Users\\TUKUNA\\AppData\\Local\\Temp/ipykernel_14232/2309356834.py:40: FutureWarning: Pass y=[0.06085    0.01399115 0.02032771 ... 0.00459608 0.03435703 0.02374024] as keyword args. From version 0.10 passing these as positional arguments will result in an error\n",
      "  mfcc= librosa.feature.mfcc(signal[start_sample:finish_sample],\n",
      "C:\\Users\\TUKUNA\\AppData\\Local\\Temp/ipykernel_14232/2309356834.py:40: FutureWarning: Pass y=[ 0.01952172  0.02745013  0.00039189 ... -0.02845606 -0.02175029\n",
      "  0.        ] as keyword args. From version 0.10 passing these as positional arguments will result in an error\n",
      "  mfcc= librosa.feature.mfcc(signal[start_sample:finish_sample],\n"
     ]
    },
    {
     "name": "stdout",
     "output_type": "stream",
     "text": [
      "ocean_noise_data\\spinner_dolphin\\7100300V.wav, segment:0\n"
     ]
    },
    {
     "name": "stderr",
     "output_type": "stream",
     "text": [
      "C:\\Users\\TUKUNA\\AppData\\Local\\Temp/ipykernel_14232/2309356834.py:31: FutureWarning: Pass y=[ 0.10532358 -0.05162335 -0.06336407 ... -0.00624023 -0.00655127\n",
      "  0.        ] as keyword args. From version 0.10 passing these as positional arguments will result in an error\n",
      "  if librosa.get_duration(signal)>10:\n",
      "C:\\Users\\TUKUNA\\AppData\\Local\\Temp/ipykernel_14232/2309356834.py:40: FutureWarning: Pass y=[ 0.10532358 -0.05162335 -0.06336407 ... -0.01724744  0.00851693\n",
      "  0.02956206] as keyword args. From version 0.10 passing these as positional arguments will result in an error\n",
      "  mfcc= librosa.feature.mfcc(signal[start_sample:finish_sample],\n",
      "C:\\Users\\TUKUNA\\AppData\\Local\\Temp/ipykernel_14232/2309356834.py:40: FutureWarning: Pass y=[-0.01236931 -0.00760531  0.01410235 ... -0.00624023 -0.00655127\n",
      "  0.        ] as keyword args. From version 0.10 passing these as positional arguments will result in an error\n",
      "  mfcc= librosa.feature.mfcc(signal[start_sample:finish_sample],\n"
     ]
    },
    {
     "name": "stdout",
     "output_type": "stream",
     "text": [
      "ocean_noise_data\\spinner_dolphin\\7100300W.wav, segment:0\n"
     ]
    },
    {
     "name": "stderr",
     "output_type": "stream",
     "text": [
      "C:\\Users\\TUKUNA\\AppData\\Local\\Temp/ipykernel_14232/2309356834.py:31: FutureWarning: Pass y=[0.01221712 0.01041133 0.00563827 ... 0.00601112 0.01629109 0.        ] as keyword args. From version 0.10 passing these as positional arguments will result in an error\n",
      "  if librosa.get_duration(signal)>10:\n",
      "C:\\Users\\TUKUNA\\AppData\\Local\\Temp/ipykernel_14232/2309356834.py:40: FutureWarning: Pass y=[ 0.01221712  0.01041133  0.00563827 ...  0.02725295 -0.02623866\n",
      "  0.01082855] as keyword args. From version 0.10 passing these as positional arguments will result in an error\n",
      "  mfcc= librosa.feature.mfcc(signal[start_sample:finish_sample],\n",
      "C:\\Users\\TUKUNA\\AppData\\Local\\Temp/ipykernel_14232/2309356834.py:40: FutureWarning: Pass y=[0.01880227 0.01203611 0.03343249 ... 0.00601112 0.01629109 0.        ] as keyword args. From version 0.10 passing these as positional arguments will result in an error\n",
      "  mfcc= librosa.feature.mfcc(signal[start_sample:finish_sample],\n"
     ]
    },
    {
     "name": "stdout",
     "output_type": "stream",
     "text": [
      "ocean_noise_data\\spinner_dolphin\\71004004.wav, segment:0\n"
     ]
    },
    {
     "name": "stderr",
     "output_type": "stream",
     "text": [
      "C:\\Users\\TUKUNA\\AppData\\Local\\Temp/ipykernel_14232/2309356834.py:31: FutureWarning: Pass y=[-0.01311156  0.00453714  0.00443176 ...  0.00941919 -0.01016703\n",
      "  0.        ] as keyword args. From version 0.10 passing these as positional arguments will result in an error\n",
      "  if librosa.get_duration(signal)>10:\n",
      "C:\\Users\\TUKUNA\\AppData\\Local\\Temp/ipykernel_14232/2309356834.py:40: FutureWarning: Pass y=[-0.01311156  0.00453714  0.00443176 ... -0.01321961  0.00226161\n",
      " -0.0026338 ] as keyword args. From version 0.10 passing these as positional arguments will result in an error\n",
      "  mfcc= librosa.feature.mfcc(signal[start_sample:finish_sample],\n",
      "C:\\Users\\TUKUNA\\AppData\\Local\\Temp/ipykernel_14232/2309356834.py:40: FutureWarning: Pass y=[-0.00080965  0.01697337 -0.00254181 ...  0.00941919 -0.01016703\n",
      "  0.        ] as keyword args. From version 0.10 passing these as positional arguments will result in an error\n",
      "  mfcc= librosa.feature.mfcc(signal[start_sample:finish_sample],\n",
      "C:\\Users\\TUKUNA\\AppData\\Local\\Temp/ipykernel_14232/2309356834.py:31: FutureWarning: Pass y=[ 0.0056783   0.01102614  0.00531243 ... -0.02604969  0.04047214\n",
      "  0.        ] as keyword args. From version 0.10 passing these as positional arguments will result in an error\n",
      "  if librosa.get_duration(signal)>10:\n",
      "C:\\Users\\TUKUNA\\AppData\\Local\\Temp/ipykernel_14232/2309356834.py:40: FutureWarning: Pass y=[ 5.6782989e-03  1.1026138e-02  5.3124256e-03 ...  7.8114499e-05\n",
      "  8.0044465e-03 -1.5753713e-04] as keyword args. From version 0.10 passing these as positional arguments will result in an error\n",
      "  mfcc= librosa.feature.mfcc(signal[start_sample:finish_sample],\n"
     ]
    },
    {
     "name": "stdout",
     "output_type": "stream",
     "text": [
      "ocean_noise_data\\spinner_dolphin\\71004009.wav, segment:0\n",
      "ocean_noise_data\\spinner_dolphin\\71004015.wav, segment:0\n"
     ]
    },
    {
     "name": "stderr",
     "output_type": "stream",
     "text": [
      "C:\\Users\\TUKUNA\\AppData\\Local\\Temp/ipykernel_14232/2309356834.py:40: FutureWarning: Pass y=[ 0.01448673 -0.00305112  0.01511237 ... -0.02604969  0.04047214\n",
      "  0.        ] as keyword args. From version 0.10 passing these as positional arguments will result in an error\n",
      "  mfcc= librosa.feature.mfcc(signal[start_sample:finish_sample],\n",
      "C:\\Users\\TUKUNA\\.conda\\envs\\tensor\\lib\\site-packages\\librosa\\util\\decorators.py:88: UserWarning: n_fft=2048 is too small for input signal of length=1857\n",
      "  return f(*args, **kwargs)\n",
      "C:\\Users\\TUKUNA\\AppData\\Local\\Temp/ipykernel_14232/2309356834.py:31: FutureWarning: Pass y=[ 0.00598303  0.01524753  0.00050004 ... -0.00428946 -0.02827776\n",
      "  0.        ] as keyword args. From version 0.10 passing these as positional arguments will result in an error\n",
      "  if librosa.get_duration(signal)>10:\n",
      "C:\\Users\\TUKUNA\\AppData\\Local\\Temp/ipykernel_14232/2309356834.py:40: FutureWarning: Pass y=[0.00598303 0.01524753 0.00050004 ... 0.01002878 0.01934036 0.01130517] as keyword args. From version 0.10 passing these as positional arguments will result in an error\n",
      "  mfcc= librosa.feature.mfcc(signal[start_sample:finish_sample],\n",
      "C:\\Users\\TUKUNA\\AppData\\Local\\Temp/ipykernel_14232/2309356834.py:40: FutureWarning: Pass y=[ 0.00960153  0.000454    0.03060159 ... -0.00428946 -0.02827776\n",
      "  0.        ] as keyword args. From version 0.10 passing these as positional arguments will result in an error\n",
      "  mfcc= librosa.feature.mfcc(signal[start_sample:finish_sample],\n"
     ]
    },
    {
     "name": "stdout",
     "output_type": "stream",
     "text": [
      "ocean_noise_data\\spinner_dolphin\\71004017 (1).wav, segment:0\n",
      "ocean_noise_data\\spinner_dolphin\\71004017.wav, segment:0\n"
     ]
    },
    {
     "name": "stderr",
     "output_type": "stream",
     "text": [
      "C:\\Users\\TUKUNA\\AppData\\Local\\Temp/ipykernel_14232/2309356834.py:31: FutureWarning: Pass y=[ 0.01002251  0.01642478  0.01800131 ... -0.00201583 -0.00666273\n",
      "  0.        ] as keyword args. From version 0.10 passing these as positional arguments will result in an error\n",
      "  if librosa.get_duration(signal)>10:\n",
      "C:\\Users\\TUKUNA\\AppData\\Local\\Temp/ipykernel_14232/2309356834.py:40: FutureWarning: Pass y=[0.01002251 0.01642478 0.01800131 ... 0.02196971 0.00632884 0.03105765] as keyword args. From version 0.10 passing these as positional arguments will result in an error\n",
      "  mfcc= librosa.feature.mfcc(signal[start_sample:finish_sample],\n",
      "C:\\Users\\TUKUNA\\AppData\\Local\\Temp/ipykernel_14232/2309356834.py:40: FutureWarning: Pass y=[ 0.02609996  0.00081134  0.03819132 ... -0.00201583 -0.00666273\n",
      "  0.        ] as keyword args. From version 0.10 passing these as positional arguments will result in an error\n",
      "  mfcc= librosa.feature.mfcc(signal[start_sample:finish_sample],\n"
     ]
    },
    {
     "name": "stdout",
     "output_type": "stream",
     "text": [
      "ocean_noise_data\\spinner_dolphin\\71004018.wav, segment:0\n"
     ]
    },
    {
     "name": "stderr",
     "output_type": "stream",
     "text": [
      "C:\\Users\\TUKUNA\\AppData\\Local\\Temp/ipykernel_14232/2309356834.py:31: FutureWarning: Pass y=[0.01129023 0.02671006 0.00662687 ... 0.01009091 0.00270054 0.        ] as keyword args. From version 0.10 passing these as positional arguments will result in an error\n",
      "  if librosa.get_duration(signal)>10:\n",
      "C:\\Users\\TUKUNA\\AppData\\Local\\Temp/ipykernel_14232/2309356834.py:40: FutureWarning: Pass y=[0.01129023 0.02671006 0.00662687 ... 0.00301843 0.01945912 0.00763594] as keyword args. From version 0.10 passing these as positional arguments will result in an error\n",
      "  mfcc= librosa.feature.mfcc(signal[start_sample:finish_sample],\n",
      "C:\\Users\\TUKUNA\\AppData\\Local\\Temp/ipykernel_14232/2309356834.py:40: FutureWarning: Pass y=[ 0.00257134 -0.00201236  0.02152182 ...  0.01009091  0.00270054\n",
      "  0.        ] as keyword args. From version 0.10 passing these as positional arguments will result in an error\n",
      "  mfcc= librosa.feature.mfcc(signal[start_sample:finish_sample],\n"
     ]
    },
    {
     "name": "stdout",
     "output_type": "stream",
     "text": [
      "ocean_noise_data\\spinner_dolphin\\7100401A.wav, segment:0\n"
     ]
    },
    {
     "name": "stderr",
     "output_type": "stream",
     "text": [
      "C:\\Users\\TUKUNA\\AppData\\Local\\Temp/ipykernel_14232/2309356834.py:31: FutureWarning: Pass y=[-3.7387109e-03 -2.9964950e-03  8.5878492e-05 ... -2.5478210e-03\n",
      " -2.6701463e-03  0.0000000e+00] as keyword args. From version 0.10 passing these as positional arguments will result in an error\n",
      "  if librosa.get_duration(signal)>10:\n",
      "C:\\Users\\TUKUNA\\AppData\\Local\\Temp/ipykernel_14232/2309356834.py:40: FutureWarning: Pass y=[-3.7387109e-03 -2.9964950e-03  8.5878492e-05 ...  3.4447766e-03\n",
      "  3.2520890e-02 -6.2117227e-03] as keyword args. From version 0.10 passing these as positional arguments will result in an error\n",
      "  mfcc= librosa.feature.mfcc(signal[start_sample:finish_sample],\n",
      "C:\\Users\\TUKUNA\\AppData\\Local\\Temp/ipykernel_14232/2309356834.py:40: FutureWarning: Pass y=[ 0.00921477  0.03086115 -0.00049985 ... -0.00254782 -0.00267015\n",
      "  0.        ] as keyword args. From version 0.10 passing these as positional arguments will result in an error\n",
      "  mfcc= librosa.feature.mfcc(signal[start_sample:finish_sample],\n",
      "C:\\Users\\TUKUNA\\AppData\\Local\\Temp/ipykernel_14232/2309356834.py:31: FutureWarning: Pass y=[ 0.00090798 -0.00687906 -0.00519262 ... -0.00330506  0.00154316\n",
      "  0.        ] as keyword args. From version 0.10 passing these as positional arguments will result in an error\n",
      "  if librosa.get_duration(signal)>10:\n",
      "C:\\Users\\TUKUNA\\AppData\\Local\\Temp/ipykernel_14232/2309356834.py:40: FutureWarning: Pass y=[ 0.00090798 -0.00687906 -0.00519262 ... -0.01336881 -0.00018751\n",
      "  0.00311195] as keyword args. From version 0.10 passing these as positional arguments will result in an error\n",
      "  mfcc= librosa.feature.mfcc(signal[start_sample:finish_sample],\n",
      "C:\\Users\\TUKUNA\\AppData\\Local\\Temp/ipykernel_14232/2309356834.py:40: FutureWarning: Pass y=[ 7.68548634e-04 -1.06372247e-02 -1.45067535e-02 ... -5.41688083e-03\n",
      " -1.42851879e-03 -2.09926366e-05] as keyword args. From version 0.10 passing these as positional arguments will result in an error\n",
      "  mfcc= librosa.feature.mfcc(signal[start_sample:finish_sample],\n"
     ]
    },
    {
     "name": "stdout",
     "output_type": "stream",
     "text": [
      "ocean_noise_data\\spinner_dolphin\\7100401C.wav, segment:0\n",
      "\n",
      " processingocean_noise_data\\walrus\n",
      "ocean_noise_data\\walrus\\66006005.wav, segment:0\n",
      "ocean_noise_data\\walrus\\66006005.wav, segment:1\n",
      "ocean_noise_data\\walrus\\66006005.wav, segment:2\n"
     ]
    },
    {
     "name": "stderr",
     "output_type": "stream",
     "text": [
      "C:\\Users\\TUKUNA\\AppData\\Local\\Temp/ipykernel_14232/2309356834.py:40: FutureWarning: Pass y=[-0.00463781 -0.00790877 -0.0067122  ... -0.00811158 -0.01341978\n",
      " -0.01559646] as keyword args. From version 0.10 passing these as positional arguments will result in an error\n",
      "  mfcc= librosa.feature.mfcc(signal[start_sample:finish_sample],\n",
      "C:\\Users\\TUKUNA\\AppData\\Local\\Temp/ipykernel_14232/2309356834.py:40: FutureWarning: Pass y=[-0.01296683 -0.01687005 -0.01792803 ...  0.0125725   0.01355829\n",
      "  0.01325697] as keyword args. From version 0.10 passing these as positional arguments will result in an error\n",
      "  mfcc= librosa.feature.mfcc(signal[start_sample:finish_sample],\n",
      "C:\\Users\\TUKUNA\\AppData\\Local\\Temp/ipykernel_14232/2309356834.py:40: FutureWarning: Pass y=[ 0.01269676  0.01324093  0.00927765 ... -0.00330506  0.00154316\n",
      "  0.        ] as keyword args. From version 0.10 passing these as positional arguments will result in an error\n",
      "  mfcc= librosa.feature.mfcc(signal[start_sample:finish_sample],\n"
     ]
    },
    {
     "name": "stdout",
     "output_type": "stream",
     "text": [
      "ocean_noise_data\\walrus\\66006005.wav, segment:3\n"
     ]
    },
    {
     "name": "stderr",
     "output_type": "stream",
     "text": [
      "C:\\Users\\TUKUNA\\AppData\\Local\\Temp/ipykernel_14232/2309356834.py:31: FutureWarning: Pass y=[-0.0062277  -0.00342593 -0.00412823 ... -0.0017081  -0.00224245\n",
      "  0.        ] as keyword args. From version 0.10 passing these as positional arguments will result in an error\n",
      "  if librosa.get_duration(signal)>10:\n",
      "C:\\Users\\TUKUNA\\AppData\\Local\\Temp/ipykernel_14232/2309356834.py:40: FutureWarning: Pass y=[-0.0062277  -0.00342593 -0.00412823 ... -0.0063203  -0.00867925\n",
      " -0.00317953] as keyword args. From version 0.10 passing these as positional arguments will result in an error\n",
      "  mfcc= librosa.feature.mfcc(signal[start_sample:finish_sample],\n",
      "C:\\Users\\TUKUNA\\AppData\\Local\\Temp/ipykernel_14232/2309356834.py:40: FutureWarning: Pass y=[ 0.0009445   0.00062001  0.00094091 ... -0.00927892 -0.01658563\n",
      " -0.02087452] as keyword args. From version 0.10 passing these as positional arguments will result in an error\n",
      "  mfcc= librosa.feature.mfcc(signal[start_sample:finish_sample],\n",
      "C:\\Users\\TUKUNA\\AppData\\Local\\Temp/ipykernel_14232/2309356834.py:40: FutureWarning: Pass y=[-0.03038757 -0.03927977 -0.036201   ... -0.0020998   0.00519374\n",
      "  0.01021818] as keyword args. From version 0.10 passing these as positional arguments will result in an error\n",
      "  mfcc= librosa.feature.mfcc(signal[start_sample:finish_sample],\n",
      "C:\\Users\\TUKUNA\\AppData\\Local\\Temp/ipykernel_14232/2309356834.py:40: FutureWarning: Pass y=[ 0.00391324 -0.00424782 -0.00938984 ...  0.00362941  0.00373515\n",
      "  0.00356982] as keyword args. From version 0.10 passing these as positional arguments will result in an error\n",
      "  mfcc= librosa.feature.mfcc(signal[start_sample:finish_sample],\n",
      "C:\\Users\\TUKUNA\\AppData\\Local\\Temp/ipykernel_14232/2309356834.py:40: FutureWarning: Pass y=[ 0.00480414  0.00412626  0.00364204 ... -0.00235424  0.00284875\n",
      "  0.00684197] as keyword args. From version 0.10 passing these as positional arguments will result in an error\n",
      "  mfcc= librosa.feature.mfcc(signal[start_sample:finish_sample],\n"
     ]
    },
    {
     "name": "stdout",
     "output_type": "stream",
     "text": [
      "ocean_noise_data\\walrus\\72002001.wav, segment:0\n",
      "ocean_noise_data\\walrus\\72002001.wav, segment:1\n",
      "ocean_noise_data\\walrus\\72002001.wav, segment:2\n",
      "ocean_noise_data\\walrus\\72002001.wav, segment:3\n",
      "ocean_noise_data\\walrus\\72002001.wav, segment:4\n"
     ]
    },
    {
     "name": "stderr",
     "output_type": "stream",
     "text": [
      "C:\\Users\\TUKUNA\\AppData\\Local\\Temp/ipykernel_14232/2309356834.py:31: FutureWarning: Pass y=[-0.0074487  -0.00743475 -0.00633287 ...  0.0016486   0.00176306\n",
      "  0.        ] as keyword args. From version 0.10 passing these as positional arguments will result in an error\n",
      "  if librosa.get_duration(signal)>10:\n",
      "C:\\Users\\TUKUNA\\AppData\\Local\\Temp/ipykernel_14232/2309356834.py:40: FutureWarning: Pass y=[-0.0074487  -0.00743475 -0.00633287 ... -0.00351962 -0.0024478\n",
      " -0.0034701 ] as keyword args. From version 0.10 passing these as positional arguments will result in an error\n",
      "  mfcc= librosa.feature.mfcc(signal[start_sample:finish_sample],\n",
      "C:\\Users\\TUKUNA\\AppData\\Local\\Temp/ipykernel_14232/2309356834.py:40: FutureWarning: Pass y=[-0.00505277 -0.00477256 -0.0044728  ... -0.09749354 -0.09852334\n",
      " -0.1245498 ] as keyword args. From version 0.10 passing these as positional arguments will result in an error\n",
      "  mfcc= librosa.feature.mfcc(signal[start_sample:finish_sample],\n",
      "C:\\Users\\TUKUNA\\AppData\\Local\\Temp/ipykernel_14232/2309356834.py:40: FutureWarning: Pass y=[-0.13153784 -0.1119425  -0.11170748 ...  0.00128309  0.00205193\n",
      "  0.00124637] as keyword args. From version 0.10 passing these as positional arguments will result in an error\n",
      "  mfcc= librosa.feature.mfcc(signal[start_sample:finish_sample],\n",
      "C:\\Users\\TUKUNA\\AppData\\Local\\Temp/ipykernel_14232/2309356834.py:40: FutureWarning: Pass y=[-0.00091901 -0.00161402 -0.00053899 ...  0.02090994  0.0187561\n",
      "  0.01416209] as keyword args. From version 0.10 passing these as positional arguments will result in an error\n",
      "  mfcc= librosa.feature.mfcc(signal[start_sample:finish_sample],\n",
      "C:\\Users\\TUKUNA\\AppData\\Local\\Temp/ipykernel_14232/2309356834.py:40: FutureWarning: Pass y=[ 0.01028193  0.00673468  0.00231223 ... -0.00428142  0.00038807\n",
      "  0.00439853] as keyword args. From version 0.10 passing these as positional arguments will result in an error\n",
      "  mfcc= librosa.feature.mfcc(signal[start_sample:finish_sample],\n",
      "C:\\Users\\TUKUNA\\AppData\\Local\\Temp/ipykernel_14232/2309356834.py:31: FutureWarning: Pass y=[-0.000581   -0.00093553 -0.00052542 ... -0.00174906 -0.00225694\n",
      "  0.        ] as keyword args. From version 0.10 passing these as positional arguments will result in an error\n",
      "  if librosa.get_duration(signal)>10:\n",
      "C:\\Users\\TUKUNA\\AppData\\Local\\Temp/ipykernel_14232/2309356834.py:40: FutureWarning: Pass y=[-0.000581   -0.00093553 -0.00052542 ...  0.01173933  0.01544312\n",
      "  0.01752965] as keyword args. From version 0.10 passing these as positional arguments will result in an error\n",
      "  mfcc= librosa.feature.mfcc(signal[start_sample:finish_sample],\n"
     ]
    },
    {
     "name": "stdout",
     "output_type": "stream",
     "text": [
      "ocean_noise_data\\walrus\\72002002.wav, segment:0\n",
      "ocean_noise_data\\walrus\\72002002.wav, segment:1\n",
      "ocean_noise_data\\walrus\\72002002.wav, segment:2\n",
      "ocean_noise_data\\walrus\\72002002.wav, segment:3\n",
      "ocean_noise_data\\walrus\\72002002.wav, segment:4\n",
      "ocean_noise_data\\walrus\\72002003.wav, segment:0\n"
     ]
    },
    {
     "name": "stderr",
     "output_type": "stream",
     "text": [
      "C:\\Users\\TUKUNA\\AppData\\Local\\Temp/ipykernel_14232/2309356834.py:40: FutureWarning: Pass y=[0.01729081 0.01521628 0.0113065  ... 0.00229056 0.00215698 0.00160415] as keyword args. From version 0.10 passing these as positional arguments will result in an error\n",
      "  mfcc= librosa.feature.mfcc(signal[start_sample:finish_sample],\n",
      "C:\\Users\\TUKUNA\\AppData\\Local\\Temp/ipykernel_14232/2309356834.py:40: FutureWarning: Pass y=[ 0.00232263  0.00214329  0.00145071 ... -0.00183418 -0.00134908\n",
      " -0.00217179] as keyword args. From version 0.10 passing these as positional arguments will result in an error\n",
      "  mfcc= librosa.feature.mfcc(signal[start_sample:finish_sample],\n",
      "C:\\Users\\TUKUNA\\AppData\\Local\\Temp/ipykernel_14232/2309356834.py:40: FutureWarning: Pass y=[-0.00232996 -0.00159621 -0.00179359 ... -0.00174906 -0.00225694\n",
      "  0.        ] as keyword args. From version 0.10 passing these as positional arguments will result in an error\n",
      "  mfcc= librosa.feature.mfcc(signal[start_sample:finish_sample],\n"
     ]
    },
    {
     "name": "stdout",
     "output_type": "stream",
     "text": [
      "ocean_noise_data\\walrus\\72002003.wav, segment:1\n",
      "ocean_noise_data\\walrus\\72002003.wav, segment:2\n"
     ]
    },
    {
     "name": "stderr",
     "output_type": "stream",
     "text": [
      "C:\\Users\\TUKUNA\\AppData\\Local\\Temp/ipykernel_14232/2309356834.py:31: FutureWarning: Pass y=[-0.00192041 -0.00161979 -0.00121489 ... -0.00312687 -0.00293775\n",
      "  0.        ] as keyword args. From version 0.10 passing these as positional arguments will result in an error\n",
      "  if librosa.get_duration(signal)>10:\n",
      "C:\\Users\\TUKUNA\\AppData\\Local\\Temp/ipykernel_14232/2309356834.py:32: FutureWarning: Pass y=[-0.00192041 -0.00161979 -0.00121489 ... -0.00312687 -0.00293775\n",
      "  0.        ] as keyword args. From version 0.10 passing these as positional arguments will result in an error\n",
      "  num_segments=int(librosa.get_duration(signal)/10)\n",
      "C:\\Users\\TUKUNA\\AppData\\Local\\Temp/ipykernel_14232/2309356834.py:40: FutureWarning: Pass y=[-0.00192041 -0.00161979 -0.00121489 ... -0.00305263 -0.00286956\n",
      " -0.00294598] as keyword args. From version 0.10 passing these as positional arguments will result in an error\n",
      "  mfcc= librosa.feature.mfcc(signal[start_sample:finish_sample],\n"
     ]
    },
    {
     "name": "stdout",
     "output_type": "stream",
     "text": [
      "ocean_noise_data\\walrus\\72002004.wav, segment:0\n"
     ]
    },
    {
     "name": "stderr",
     "output_type": "stream",
     "text": [
      "C:\\Users\\TUKUNA\\AppData\\Local\\Temp/ipykernel_14232/2309356834.py:31: FutureWarning: Pass y=[-0.00322436 -0.00322478 -0.00271107 ... -0.00152807 -0.0019412\n",
      "  0.        ] as keyword args. From version 0.10 passing these as positional arguments will result in an error\n",
      "  if librosa.get_duration(signal)>10:\n",
      "C:\\Users\\TUKUNA\\AppData\\Local\\Temp/ipykernel_14232/2309356834.py:40: FutureWarning: Pass y=[-0.00322436 -0.00322478 -0.00271107 ...  0.00478416  0.00440814\n",
      "  0.00422724] as keyword args. From version 0.10 passing these as positional arguments will result in an error\n",
      "  mfcc= librosa.feature.mfcc(signal[start_sample:finish_sample],\n"
     ]
    },
    {
     "name": "stdout",
     "output_type": "stream",
     "text": [
      "ocean_noise_data\\walrus\\72002008.wav, segment:0\n"
     ]
    },
    {
     "name": "stderr",
     "output_type": "stream",
     "text": [
      "C:\\Users\\TUKUNA\\AppData\\Local\\Temp/ipykernel_14232/2309356834.py:31: FutureWarning: Pass y=[-0.00337079 -0.00364375 -0.00265818 ... -0.00149311 -0.0021562\n",
      "  0.        ] as keyword args. From version 0.10 passing these as positional arguments will result in an error\n",
      "  if librosa.get_duration(signal)>10:\n",
      "C:\\Users\\TUKUNA\\AppData\\Local\\Temp/ipykernel_14232/2309356834.py:40: FutureWarning: Pass y=[-0.00337079 -0.00364375 -0.00265818 ... -0.00196357 -0.00204431\n",
      " -0.00243254] as keyword args. From version 0.10 passing these as positional arguments will result in an error\n",
      "  mfcc= librosa.feature.mfcc(signal[start_sample:finish_sample],\n"
     ]
    },
    {
     "name": "stdout",
     "output_type": "stream",
     "text": [
      "ocean_noise_data\\walrus\\72002009.wav, segment:0\n"
     ]
    },
    {
     "name": "stderr",
     "output_type": "stream",
     "text": [
      "C:\\Users\\TUKUNA\\AppData\\Local\\Temp/ipykernel_14232/2309356834.py:31: FutureWarning: Pass y=[-0.00141799 -0.00152525 -0.00145303 ... -0.00246299 -0.00345173\n",
      "  0.        ] as keyword args. From version 0.10 passing these as positional arguments will result in an error\n",
      "  if librosa.get_duration(signal)>10:\n",
      "C:\\Users\\TUKUNA\\AppData\\Local\\Temp/ipykernel_14232/2309356834.py:32: FutureWarning: Pass y=[-0.00141799 -0.00152525 -0.00145303 ... -0.00246299 -0.00345173\n",
      "  0.        ] as keyword args. From version 0.10 passing these as positional arguments will result in an error\n",
      "  num_segments=int(librosa.get_duration(signal)/10)\n",
      "C:\\Users\\TUKUNA\\AppData\\Local\\Temp/ipykernel_14232/2309356834.py:40: FutureWarning: Pass y=[-0.00141799 -0.00152525 -0.00145303 ... -0.00109584 -0.00063265\n",
      " -0.00083652] as keyword args. From version 0.10 passing these as positional arguments will result in an error\n",
      "  mfcc= librosa.feature.mfcc(signal[start_sample:finish_sample],\n"
     ]
    },
    {
     "name": "stdout",
     "output_type": "stream",
     "text": [
      "ocean_noise_data\\walrus\\7200200A.wav, segment:0\n"
     ]
    },
    {
     "name": "stderr",
     "output_type": "stream",
     "text": [
      "C:\\Users\\TUKUNA\\AppData\\Local\\Temp/ipykernel_14232/2309356834.py:31: FutureWarning: Pass y=[-0.00285025 -0.0035671  -0.00287733 ... -0.00335736 -0.00353112\n",
      "  0.        ] as keyword args. From version 0.10 passing these as positional arguments will result in an error\n",
      "  if librosa.get_duration(signal)>10:\n",
      "C:\\Users\\TUKUNA\\AppData\\Local\\Temp/ipykernel_14232/2309356834.py:40: FutureWarning: Pass y=[-0.00285025 -0.0035671  -0.00287733 ... -0.00125455 -0.0017731\n",
      " -0.0017099 ] as keyword args. From version 0.10 passing these as positional arguments will result in an error\n",
      "  mfcc= librosa.feature.mfcc(signal[start_sample:finish_sample],\n",
      "C:\\Users\\TUKUNA\\AppData\\Local\\Temp/ipykernel_14232/2309356834.py:31: FutureWarning: Pass y=[-0.00203203 -0.00291033 -0.00206457 ... -0.00246106 -0.00339235\n",
      "  0.        ] as keyword args. From version 0.10 passing these as positional arguments will result in an error\n",
      "  if librosa.get_duration(signal)>10:\n"
     ]
    },
    {
     "name": "stdout",
     "output_type": "stream",
     "text": [
      "ocean_noise_data\\walrus\\7200200B.wav, segment:0\n",
      "ocean_noise_data\\walrus\\7200200C.wav, segment:0\n"
     ]
    },
    {
     "name": "stderr",
     "output_type": "stream",
     "text": [
      "C:\\Users\\TUKUNA\\AppData\\Local\\Temp/ipykernel_14232/2309356834.py:40: FutureWarning: Pass y=[-0.00203203 -0.00291033 -0.00206457 ... -0.00451218 -0.00437438\n",
      " -0.00378575] as keyword args. From version 0.10 passing these as positional arguments will result in an error\n",
      "  mfcc= librosa.feature.mfcc(signal[start_sample:finish_sample],\n",
      "C:\\Users\\TUKUNA\\AppData\\Local\\Temp/ipykernel_14232/2309356834.py:31: FutureWarning: Pass y=[-0.00239311 -0.0030277  -0.00244786 ... -0.00235896 -0.00249609\n",
      "  0.        ] as keyword args. From version 0.10 passing these as positional arguments will result in an error\n",
      "  if librosa.get_duration(signal)>10:\n",
      "C:\\Users\\TUKUNA\\AppData\\Local\\Temp/ipykernel_14232/2309356834.py:32: FutureWarning: Pass y=[-0.00239311 -0.0030277  -0.00244786 ... -0.00235896 -0.00249609\n",
      "  0.        ] as keyword args. From version 0.10 passing these as positional arguments will result in an error\n",
      "  num_segments=int(librosa.get_duration(signal)/10)\n",
      "C:\\Users\\TUKUNA\\AppData\\Local\\Temp/ipykernel_14232/2309356834.py:40: FutureWarning: Pass y=[-0.00239311 -0.0030277  -0.00244786 ... -0.00408638 -0.00434825\n",
      " -0.00329265] as keyword args. From version 0.10 passing these as positional arguments will result in an error\n",
      "  mfcc= librosa.feature.mfcc(signal[start_sample:finish_sample],\n",
      "C:\\Users\\TUKUNA\\AppData\\Local\\Temp/ipykernel_14232/2309356834.py:40: FutureWarning: Pass y=[-0.00396839 -0.0039817  -0.00293791 ... -0.00157316 -0.00268762\n",
      " -0.0022864 ] as keyword args. From version 0.10 passing these as positional arguments will result in an error\n",
      "  mfcc= librosa.feature.mfcc(signal[start_sample:finish_sample],\n"
     ]
    },
    {
     "name": "stdout",
     "output_type": "stream",
     "text": [
      "ocean_noise_data\\walrus\\7200200D.wav, segment:0\n",
      "ocean_noise_data\\walrus\\7200200D.wav, segment:1\n"
     ]
    },
    {
     "name": "stderr",
     "output_type": "stream",
     "text": [
      "C:\\Users\\TUKUNA\\AppData\\Local\\Temp/ipykernel_14232/2309356834.py:31: FutureWarning: Pass y=[-0.00331726 -0.00450523 -0.0043043  ... -0.0037861  -0.00432767\n",
      "  0.        ] as keyword args. From version 0.10 passing these as positional arguments will result in an error\n",
      "  if librosa.get_duration(signal)>10:\n",
      "C:\\Users\\TUKUNA\\AppData\\Local\\Temp/ipykernel_14232/2309356834.py:40: FutureWarning: Pass y=[-0.00331726 -0.00450523 -0.0043043  ... -0.00342375 -0.00345123\n",
      " -0.00276992] as keyword args. From version 0.10 passing these as positional arguments will result in an error\n",
      "  mfcc= librosa.feature.mfcc(signal[start_sample:finish_sample],\n",
      "C:\\Users\\TUKUNA\\AppData\\Local\\Temp/ipykernel_14232/2309356834.py:40: FutureWarning: Pass y=[-0.00302647 -0.00381327 -0.00319253 ... -0.02941251 -0.03240253\n",
      "  0.01755248] as keyword args. From version 0.10 passing these as positional arguments will result in an error\n",
      "  mfcc= librosa.feature.mfcc(signal[start_sample:finish_sample],\n"
     ]
    },
    {
     "name": "stdout",
     "output_type": "stream",
     "text": [
      "ocean_noise_data\\walrus\\7200200E.wav, segment:0\n",
      "ocean_noise_data\\walrus\\7200200E.wav, segment:1\n"
     ]
    },
    {
     "name": "stderr",
     "output_type": "stream",
     "text": [
      "C:\\Users\\TUKUNA\\AppData\\Local\\Temp/ipykernel_14232/2309356834.py:31: FutureWarning: Pass y=[-0.00376933 -0.00328995 -0.00212814 ... -0.00497026 -0.00610517\n",
      "  0.        ] as keyword args. From version 0.10 passing these as positional arguments will result in an error\n",
      "  if librosa.get_duration(signal)>10:\n",
      "C:\\Users\\TUKUNA\\AppData\\Local\\Temp/ipykernel_14232/2309356834.py:40: FutureWarning: Pass y=[-0.00376933 -0.00328995 -0.00212814 ... -0.00243219 -0.00711586\n",
      " -0.0038815 ] as keyword args. From version 0.10 passing these as positional arguments will result in an error\n",
      "  mfcc= librosa.feature.mfcc(signal[start_sample:finish_sample],\n",
      "C:\\Users\\TUKUNA\\AppData\\Local\\Temp/ipykernel_14232/2309356834.py:40: FutureWarning: Pass y=[-0.00151944 -0.0015125   0.00106245 ... -0.00209848 -0.00249273\n",
      " -0.00241363] as keyword args. From version 0.10 passing these as positional arguments will result in an error\n",
      "  mfcc= librosa.feature.mfcc(signal[start_sample:finish_sample],\n",
      "C:\\Users\\TUKUNA\\AppData\\Local\\Temp/ipykernel_14232/2309356834.py:31: FutureWarning: Pass y=[-5.0728885e-03 -5.3390255e-03 -4.4921506e-03 ... -1.0760590e-04\n",
      "  7.2831121e-05  0.0000000e+00] as keyword args. From version 0.10 passing these as positional arguments will result in an error\n",
      "  if librosa.get_duration(signal)>10:\n",
      "C:\\Users\\TUKUNA\\AppData\\Local\\Temp/ipykernel_14232/2309356834.py:40: FutureWarning: Pass y=[-0.00507289 -0.00533903 -0.00449215 ...  0.0342586   0.02414447\n",
      "  0.01448048] as keyword args. From version 0.10 passing these as positional arguments will result in an error\n",
      "  mfcc= librosa.feature.mfcc(signal[start_sample:finish_sample],\n",
      "C:\\Users\\TUKUNA\\AppData\\Local\\Temp/ipykernel_14232/2309356834.py:40: FutureWarning: Pass y=[ 0.00778949  0.00349131  0.00528459 ... -0.00381748 -0.00342326\n",
      " -0.00335556] as keyword args. From version 0.10 passing these as positional arguments will result in an error\n",
      "  mfcc= librosa.feature.mfcc(signal[start_sample:finish_sample],\n"
     ]
    },
    {
     "name": "stdout",
     "output_type": "stream",
     "text": [
      "ocean_noise_data\\walrus\\7200200F.wav, segment:0\n",
      "ocean_noise_data\\walrus\\7200200F.wav, segment:1\n",
      "ocean_noise_data\\walrus\\7200200G.wav, segment:0\n",
      "ocean_noise_data\\walrus\\7200200G.wav, segment:1\n"
     ]
    },
    {
     "name": "stderr",
     "output_type": "stream",
     "text": [
      "C:\\Users\\TUKUNA\\AppData\\Local\\Temp/ipykernel_14232/2309356834.py:31: FutureWarning: Pass y=[-0.00378791 -0.00370774 -0.00269712 ... -0.00457562 -0.00450903\n",
      "  0.        ] as keyword args. From version 0.10 passing these as positional arguments will result in an error\n",
      "  if librosa.get_duration(signal)>10:\n",
      "C:\\Users\\TUKUNA\\AppData\\Local\\Temp/ipykernel_14232/2309356834.py:40: FutureWarning: Pass y=[-0.00378791 -0.00370774 -0.00269712 ... -0.00329658 -0.00386955\n",
      " -0.00338582] as keyword args. From version 0.10 passing these as positional arguments will result in an error\n",
      "  mfcc= librosa.feature.mfcc(signal[start_sample:finish_sample],\n",
      "C:\\Users\\TUKUNA\\AppData\\Local\\Temp/ipykernel_14232/2309356834.py:40: FutureWarning: Pass y=[-0.00293212 -0.00241637 -0.00288627 ... -0.00516943 -0.00436495\n",
      " -0.00491228] as keyword args. From version 0.10 passing these as positional arguments will result in an error\n",
      "  mfcc= librosa.feature.mfcc(signal[start_sample:finish_sample],\n"
     ]
    },
    {
     "name": "stdout",
     "output_type": "stream",
     "text": [
      "ocean_noise_data\\walrus\\7200200K.wav, segment:0\n",
      "ocean_noise_data\\walrus\\7200200K.wav, segment:1\n"
     ]
    },
    {
     "name": "stderr",
     "output_type": "stream",
     "text": [
      "C:\\Users\\TUKUNA\\AppData\\Local\\Temp/ipykernel_14232/2309356834.py:31: FutureWarning: Pass y=[-0.00470034 -0.00520532 -0.00455276 ... -0.00091119 -0.00171329\n",
      "  0.        ] as keyword args. From version 0.10 passing these as positional arguments will result in an error\n",
      "  if librosa.get_duration(signal)>10:\n",
      "C:\\Users\\TUKUNA\\AppData\\Local\\Temp/ipykernel_14232/2309356834.py:40: FutureWarning: Pass y=[-0.00470034 -0.00520532 -0.00455276 ... -0.00106822 -0.00084258\n",
      " -0.0011432 ] as keyword args. From version 0.10 passing these as positional arguments will result in an error\n",
      "  mfcc= librosa.feature.mfcc(signal[start_sample:finish_sample],\n",
      "C:\\Users\\TUKUNA\\AppData\\Local\\Temp/ipykernel_14232/2309356834.py:40: FutureWarning: Pass y=[-0.00134534 -0.00068303 -0.00034408 ...  0.0036476   0.00537902\n",
      " -0.00295155] as keyword args. From version 0.10 passing these as positional arguments will result in an error\n",
      "  mfcc= librosa.feature.mfcc(signal[start_sample:finish_sample],\n"
     ]
    },
    {
     "name": "stdout",
     "output_type": "stream",
     "text": [
      "ocean_noise_data\\walrus\\7200200L.wav, segment:0\n",
      "ocean_noise_data\\walrus\\7200200L.wav, segment:1\n"
     ]
    },
    {
     "name": "stderr",
     "output_type": "stream",
     "text": [
      "C:\\Users\\TUKUNA\\AppData\\Local\\Temp/ipykernel_14232/2309356834.py:31: FutureWarning: Pass y=[-0.00043078 -0.00098166 -0.00104033 ... -0.00517584 -0.00465794\n",
      "  0.        ] as keyword args. From version 0.10 passing these as positional arguments will result in an error\n",
      "  if librosa.get_duration(signal)>10:\n",
      "C:\\Users\\TUKUNA\\AppData\\Local\\Temp/ipykernel_14232/2309356834.py:40: FutureWarning: Pass y=[-0.00043078 -0.00098166 -0.00104033 ...  0.00060229  0.00024481\n",
      "  0.00143454] as keyword args. From version 0.10 passing these as positional arguments will result in an error\n",
      "  mfcc= librosa.feature.mfcc(signal[start_sample:finish_sample],\n",
      "C:\\Users\\TUKUNA\\AppData\\Local\\Temp/ipykernel_14232/2309356834.py:40: FutureWarning: Pass y=[ 0.00105156  0.00089406  0.00109074 ... -0.03746215 -0.0329586\n",
      " -0.02498685] as keyword args. From version 0.10 passing these as positional arguments will result in an error\n",
      "  mfcc= librosa.feature.mfcc(signal[start_sample:finish_sample],\n",
      "C:\\Users\\TUKUNA\\AppData\\Local\\Temp/ipykernel_14232/2309356834.py:31: FutureWarning: Pass y=[0.00657517 0.00631197 0.00402679 ... 0.00217419 0.00121371 0.        ] as keyword args. From version 0.10 passing these as positional arguments will result in an error\n",
      "  if librosa.get_duration(signal)>10:\n",
      "C:\\Users\\TUKUNA\\AppData\\Local\\Temp/ipykernel_14232/2309356834.py:40: FutureWarning: Pass y=[ 0.00657517  0.00631197  0.00402679 ... -0.01440816 -0.01413357\n",
      " -0.01469356] as keyword args. From version 0.10 passing these as positional arguments will result in an error\n",
      "  mfcc= librosa.feature.mfcc(signal[start_sample:finish_sample],\n",
      "C:\\Users\\TUKUNA\\AppData\\Local\\Temp/ipykernel_14232/2309356834.py:40: FutureWarning: Pass y=[-0.01612596 -0.01741614 -0.01727894 ...  0.00217419  0.00121371\n",
      "  0.        ] as keyword args. From version 0.10 passing these as positional arguments will result in an error\n",
      "  mfcc= librosa.feature.mfcc(signal[start_sample:finish_sample],\n",
      "C:\\Users\\TUKUNA\\AppData\\Local\\Temp/ipykernel_14232/2309356834.py:31: FutureWarning: Pass y=[-1.11269455e-05 -8.51378900e-06  3.81314661e-04 ...  4.05016122e-03\n",
      "  3.76402843e-03  0.00000000e+00] as keyword args. From version 0.10 passing these as positional arguments will result in an error\n",
      "  if librosa.get_duration(signal)>10:\n",
      "C:\\Users\\TUKUNA\\AppData\\Local\\Temp/ipykernel_14232/2309356834.py:40: FutureWarning: Pass y=[-1.11269455e-05 -8.51378900e-06  3.81314661e-04 ... -1.12863498e-04\n",
      "  1.10956561e-03  2.43728072e-03] as keyword args. From version 0.10 passing these as positional arguments will result in an error\n",
      "  mfcc= librosa.feature.mfcc(signal[start_sample:finish_sample],\n",
      "C:\\Users\\TUKUNA\\AppData\\Local\\Temp/ipykernel_14232/2309356834.py:40: FutureWarning: Pass y=[ 3.93934827e-03  5.50304819e-03  6.70916820e-03  7.28229107e-03\n",
      "  7.59824598e-03  8.46506935e-03  1.02764638e-02  1.25320796e-02\n",
      "  1.43371811e-02  1.52766779e-02  1.56344473e-02  1.58388671e-02\n",
      "  1.59689803e-02  1.58924162e-02  1.56411100e-02  1.53897470e-02\n",
      "  1.51220625e-02  1.45760039e-02  1.36035103e-02  1.24177076e-02\n",
      "  1.13515286e-02  1.04634361e-02  9.52833425e-03  8.39554612e-03\n",
      "  7.23149022e-03  6.38987403e-03  6.11185515e-03  6.31648861e-03\n",
      "  6.54353853e-03  6.10731216e-03  4.55641793e-03  2.19577597e-03\n",
      "  5.32400336e-05 -9.36122320e-04 -7.74559681e-04 -2.73498677e-04\n",
      " -5.64295224e-05  6.02695000e-05  5.27377997e-04  1.17693190e-03\n",
      "  1.32579205e-03  8.04606010e-04  4.26513405e-04  1.05966826e-03\n",
      "  2.41845939e-03  3.22341081e-03  2.64048483e-03  1.21168944e-03\n",
      "  1.55417161e-04  3.39785802e-05  4.80840041e-04  1.10599946e-03\n",
      "  2.13070540e-03  3.86742665e-03  5.91098471e-03  7.31433136e-03\n",
      "  7.59040331e-03  7.21810432e-03  7.04245595e-03  7.43741868e-03\n",
      "  8.25622212e-03  9.35989898e-03  1.07802227e-02  1.23376176e-02\n",
      "  1.35149099e-02  1.40254041e-02  1.43357906e-02  1.52443796e-02\n",
      "  1.68700386e-02  1.83463525e-02  1.87168270e-02  1.79705881e-02\n",
      "  1.69509854e-02  1.63297839e-02  1.60100311e-02  1.56433154e-02\n",
      "  1.53879095e-02  1.57478210e-02  1.66871082e-02  1.73031520e-02\n",
      "  1.66402031e-02  1.46881677e-02  1.23451976e-02  1.04692392e-02\n",
      "  9.24543943e-03  8.50371551e-03  8.26888718e-03  8.63744132e-03\n",
      "  9.22886375e-03  9.20162816e-03  8.04349128e-03  6.17560791e-03\n",
      "  4.56121517e-03  3.78785655e-03  3.70168546e-03  3.82997002e-03\n",
      "  3.83358868e-03  3.47391050e-03  2.50229100e-03  9.47855646e-04\n",
      " -5.89669915e-04 -1.33117416e-03 -1.13440130e-03 -6.67377608e-04\n",
      " -5.98182844e-04 -8.40216060e-04 -8.73558223e-04 -6.24848995e-04\n",
      " -5.41928224e-04 -6.99232740e-04 -3.37302132e-04  1.23934424e-03\n",
      "  3.51179368e-03  5.08459425e-03  5.32575790e-03  5.19148260e-03\n",
      "  6.01737108e-03  7.76490709e-03  9.03464388e-03  8.85255169e-03\n",
      "  7.87209999e-03  7.43888877e-03  7.84188695e-03  8.10055155e-03\n",
      "  7.46266358e-03  6.45856606e-03  6.05574017e-03  6.14583679e-03\n",
      "  5.54346805e-03  3.60858208e-03  1.36278127e-03  5.61053224e-04\n",
      "  1.78071344e-03  3.80276237e-03  4.94290702e-03  4.71890299e-03\n",
      "  4.06647287e-03  4.15103091e-03  5.26494952e-03  6.84729079e-03\n",
      "  8.25642329e-03  9.31363273e-03  1.02067627e-02  1.11060115e-02\n",
      "  1.19676348e-02  1.26365516e-02  1.30581493e-02  1.33771338e-02\n",
      "  1.38211241e-02  1.44468397e-02  1.49947871e-02  1.50651550e-02\n",
      "  1.45068113e-02  1.36062866e-02  1.28027136e-02  1.21844802e-02\n",
      "  1.13332607e-02  9.73726343e-03  7.35065853e-03  4.70042601e-03\n",
      "  2.45903013e-03  9.84395389e-04  2.74803286e-04  2.08125581e-04\n",
      "  6.11829630e-04  1.07146089e-03  9.17941565e-04 -2.72486854e-04\n",
      " -2.06974917e-03 -3.29306116e-03 -3.01299710e-03 -1.53103645e-03\n",
      " -2.01466595e-04 -1.22073034e-04 -1.04129058e-03 -1.69583550e-03\n",
      " -1.21243461e-03  1.18238977e-05  9.04135813e-04  9.86356288e-04\n",
      "  7.80710485e-04  9.65528714e-04  1.45150139e-03  1.54619792e-03\n",
      "  9.09549708e-04  3.46209126e-05 -2.88602430e-04  2.50660029e-04\n",
      "  1.38359971e-03  2.69555859e-03  3.82612972e-03  4.30776738e-03\n",
      "  3.68176727e-03  2.10021320e-03  5.93550852e-04  2.79897504e-04\n",
      "  1.19492481e-03  2.21009389e-03  2.31646607e-03  1.75626739e-03\n",
      "  1.55585376e-03  2.05778098e-03  2.41160812e-03  1.75494980e-03\n",
      "  5.41972520e-04  1.96754772e-04  1.42243097e-03  3.26745585e-03\n",
      "  4.11576405e-03  3.37867299e-03  1.91226217e-03  8.92092823e-04\n",
      "  6.90007524e-04  9.72747279e-04  1.51092850e-03  2.45686132e-03\n",
      "  3.86307575e-03  5.32236602e-03  6.30899798e-03  6.72378112e-03\n",
      "  6.89549046e-03  7.10957590e-03  7.35334400e-03  7.55670993e-03\n",
      "  7.86484033e-03  8.47005285e-03  9.19058826e-03  9.37080756e-03\n",
      "  8.32657889e-03  5.96626475e-03  3.02579976e-03  6.56472635e-04\n",
      " -4.02113161e-04 -4.45218640e-04 -6.24076929e-04 -1.97774032e-03\n",
      " -4.50471044e-03 -7.21462490e-03 -9.13425442e-03 -1.01703387e-02\n",
      " -1.09017044e-02 -1.16838105e-02 -1.22500788e-02 -1.22281387e-02\n",
      " -1.17224669e-02 -1.11278649e-02 -1.05711548e-02 -9.95506626e-03\n",
      " -9.56406072e-03 -1.01102684e-02 -1.17684063e-02 -1.34223141e-02\n",
      " -1.34998290e-02 -1.17791370e-02 -9.95918363e-03 -1.00036357e-02\n",
      " -1.20170256e-02 -1.41406804e-02 -1.45749459e-02 -1.33212935e-02\n",
      " -1.17632905e-02 -1.09459599e-02 -1.07673202e-02 -1.07353153e-02\n",
      " -1.08503662e-02 -1.13466540e-02 -1.19010611e-02 -1.16805462e-02\n",
      " -1.02742100e-02 -8.21443554e-03 -6.37677684e-03 -5.11521474e-03\n",
      " -4.24293289e-03 -3.64535162e-03 -3.44669237e-03 -3.48973414e-03\n",
      " -3.08483001e-03 -1.66978687e-03  3.86941480e-04  2.00587930e-03\n",
      "  2.50161346e-03  2.21603597e-03  1.92018761e-03  1.84338307e-03\n",
      "  1.60751189e-03  1.02614076e-03  5.31137222e-04  5.55796723e-04\n",
      "  7.13103800e-04 -2.88161755e-05 -2.24537146e-03 -5.30539872e-03\n",
      " -7.83961918e-03 -8.87342542e-03 -8.44186638e-03 -7.28463894e-03\n",
      " -6.22753613e-03 -5.87639399e-03 -6.55604480e-03 -8.14931653e-03\n",
      " -9.93619114e-03 -1.08691147e-02 -1.03011020e-02 -8.52962118e-03\n",
      " -6.58100331e-03 -5.45001356e-03 -5.54209808e-03 -6.68979762e-03\n",
      " -8.39956384e-03 -9.91956703e-03 -1.03153614e-02 -8.99244007e-03\n",
      " -6.45085052e-03 -4.33433801e-03 -4.26648930e-03 -6.35690242e-03\n",
      " -8.94158240e-03 -9.99973342e-03 -8.86933971e-03 -6.52844785e-03\n",
      " -4.33131354e-03 -2.76642689e-03 -1.52842491e-03 -4.30751679e-04\n",
      "  2.52761965e-04  4.18549549e-04  6.80223748e-04  1.89259544e-03\n",
      "  4.18331940e-03  6.75611943e-03  8.71658698e-03  9.85560659e-03\n",
      "  1.05131511e-02  1.09637789e-02  1.12863639e-02  1.17423618e-02\n",
      "  1.28019443e-02  1.45133482e-02  1.60784964e-02  1.64491981e-02\n",
      "  1.54110119e-02  1.38555309e-02  1.29011367e-02  1.29314931e-02\n",
      "  1.35838008e-02  1.43920621e-02  1.50823230e-02  1.53033696e-02\n",
      "  1.45364171e-02  1.25977006e-02  1.00887194e-02  8.02881084e-03\n",
      "  6.97090151e-03  6.62224647e-03  6.34146063e-03  5.81454113e-03\n",
      "  5.17839054e-03  4.71762102e-03  4.66140406e-03  5.13065467e-03\n",
      "  5.94538730e-03  6.44572079e-03  5.85262896e-03  4.07401565e-03\n",
      "  1.99607108e-03  6.79206278e-04  3.08104994e-04  2.45240866e-04\n",
      "  1.45142607e-04  5.60482906e-04  2.05358071e-03  3.94346565e-03\n",
      "  4.56943689e-03  3.07590957e-03  5.84508583e-04 -8.31403770e-04\n",
      " -2.58471089e-04  1.33522297e-03  2.48408713e-03  2.85192719e-03\n",
      "  3.16577428e-03  3.87395895e-03  4.49732644e-03  4.44670673e-03\n",
      "  3.97648243e-03  3.85081046e-03  4.20710910e-03  4.26309556e-03\n",
      "  3.34019540e-03  1.85055053e-03  9.24969849e-04  1.14548265e-03\n",
      "  1.95761863e-03  2.38561910e-03  2.05094507e-03  1.30729424e-03\n",
      "  5.81612287e-04 -7.33305351e-05 -7.34105823e-04 -1.21795700e-03\n",
      " -1.20269845e-03 -6.93795504e-04 -1.54108886e-04 -4.87038233e-05\n",
      " -3.17130587e-04 -4.09922504e-04  9.16960853e-05  9.04882734e-04\n",
      "  1.17430591e-03  3.04968271e-04 -1.25418615e-03 -2.14834884e-03\n",
      " -1.23854517e-03  1.30947190e-03  4.11904138e-03  5.83562767e-03\n",
      "  6.17392734e-03  5.69068501e-03  4.78751678e-03  3.37723759e-03\n",
      "  1.60665566e-03  3.84149083e-04  5.93964942e-04  1.81284396e-03\n",
      "  2.40116520e-03  1.25932205e-03 -7.89881509e-04 -1.85860193e-03\n",
      " -1.19787222e-03 -4.92645922e-05 -9.79286924e-05 -1.52737205e-03\n",
      " -3.10729863e-03 -4.00847336e-03 -4.81980108e-03 -6.47158409e-03\n",
      " -8.67344439e-03 -1.00868382e-02 -1.00312289e-02 -9.44307633e-03\n",
      " -9.83172562e-03 -1.15915891e-02 -1.37193212e-02 -1.50453662e-02\n",
      " -1.52986441e-02 -1.49170514e-02 -1.43063338e-02 -1.36741251e-02\n",
      " -1.33456979e-02 -1.36730419e-02 -1.44547671e-02 -1.48212509e-02\n",
      " -1.40826069e-02 -1.26275141e-02 -1.16488263e-02 -1.18521610e-02\n",
      " -1.26250442e-02 -1.26690082e-02 -1.13969212e-02 -9.54625849e-03\n",
      " -8.39208812e-03 -8.46648682e-03 -9.10782814e-03 -9.20185726e-03\n",
      " -8.29633884e-03 -7.01127946e-03 -6.41147094e-03 -6.97665196e-03\n",
      " -8.14650767e-03 -8.85478221e-03 -8.50733463e-03 -7.42966635e-03\n",
      " -6.38494268e-03 -5.75773325e-03 -5.30203711e-03 -4.62515187e-03\n",
      " -3.72445164e-03 -2.94658239e-03 -2.53949990e-03 -2.42001750e-03\n",
      " -2.35768990e-03 -2.19210540e-03 -1.79771101e-03 -1.03073334e-03\n",
      "  6.64217732e-05  1.06766564e-03  1.44948636e-03  1.21741672e-03\n",
      "  1.08782097e-03  1.81962433e-03  3.35889822e-03  4.80404356e-03\n",
      "  5.26373927e-03  4.62456048e-03  3.42578534e-03  2.17323331e-03\n",
      "  1.00162730e-03 -5.39968860e-05 -7.84766977e-04 -1.02719234e-03\n",
      " -1.03477936e-03 -1.35223428e-03 -2.20635743e-03 -3.13832494e-03\n",
      " -3.38801066e-03 -2.67063640e-03 -1.52888172e-03 -8.89833609e-04\n",
      " -1.24990288e-03 -2.24003009e-03 -2.95797200e-03 -2.77161482e-03\n",
      " -1.86122023e-03 -9.71949077e-04 -6.12338539e-04 -5.66420844e-04\n",
      " -3.04509071e-04  1.84743520e-04  2.36654072e-04 -6.35835284e-04\n",
      " -1.90222019e-03 -2.39503640e-03 -1.65715860e-03 -6.49979571e-04\n",
      " -8.22718255e-04 -2.51147849e-03 -4.50590067e-03 -5.25090564e-03\n",
      " -4.27127490e-03 -2.34310818e-03 -5.65729919e-04  4.23615769e-04\n",
      "  5.07791352e-04 -5.57632520e-05 -5.62253466e-04 -1.98046964e-05\n",
      "  2.04966497e-03  4.87910770e-03  6.91453973e-03  7.28493510e-03\n",
      "  6.67030737e-03  6.48752693e-03  7.35102082e-03  8.66082124e-03\n",
      "  9.68159642e-03  1.05589079e-02  1.19184889e-02  1.36826131e-02\n",
      "  1.48017611e-02  1.43526923e-02  1.26414271e-02  1.09653249e-02\n",
      "  1.03792520e-02  1.08945044e-02  1.17777260e-02  1.22751230e-02\n",
      "  1.19185839e-02  1.04629137e-02  7.97365140e-03  5.05651021e-03\n",
      "  2.69502867e-03  1.56001595e-03  1.43474247e-03  1.41640019e-03\n",
      "  7.18946219e-04 -7.34341156e-04 -2.43944395e-03 -3.88628826e-03\n",
      " -4.94791102e-03 -5.78461355e-03 -6.49546366e-03 -6.95106341e-03\n",
      " -7.00393831e-03 -6.83779735e-03 -6.98475959e-03 -7.82928336e-03\n",
      " -9.06395819e-03 -9.82584711e-03 -9.58033651e-03 -8.82116053e-03\n",
      " -8.63226876e-03 -9.44228843e-03 -1.04416599e-02 -1.05189765e-02\n",
      " -9.70472861e-03 -9.30577610e-03 -1.03962878e-02 -1.24064628e-02\n",
      " -1.35735748e-02 -1.28235063e-02 -1.09135387e-02 -9.54433624e-03\n",
      " -9.53065231e-03 -1.00859627e-02 -9.80871730e-03 -8.04758258e-03\n",
      " -5.23127336e-03 -2.22147629e-03  2.83535628e-04  1.80928886e-03\n",
      "  2.08007102e-03  1.30410702e-03  3.87645909e-04  5.08788566e-04\n",
      "  2.24799197e-03  5.12761390e-03  8.02616309e-03  9.99092683e-03\n",
      "  1.06657501e-02  1.01660071e-02  8.86727218e-03  7.42351916e-03\n",
      "  6.73201401e-03  7.45603163e-03  9.33909696e-03  1.10844029e-02\n",
      "  1.12073533e-02  9.25454590e-03  6.24735327e-03  3.85579583e-03\n",
      "  3.03987111e-03  3.41122295e-03  3.81165557e-03  3.40692187e-03\n",
      "  2.22996692e-03  8.56895815e-04 -2.00886730e-04 -7.39805982e-04\n",
      " -7.33415713e-04 -2.42096212e-04  4.73500433e-04  9.00818501e-04\n",
      "  5.23783441e-04 -7.80210830e-04 -2.53736693e-03 -3.82957095e-03\n",
      " -3.74030159e-03 -1.95497135e-03  7.67161138e-04  2.74663931e-03\n",
      "  2.44183769e-03 -1.88159436e-04 -3.31595750e-03 -4.56104660e-03\n",
      " -2.99598207e-03  8.13611259e-05  2.41387845e-03  2.78043887e-03\n",
      "  1.70943176e-03  4.45007172e-04 -3.69977672e-04 -8.00231413e-04\n",
      " -7.65727833e-04  3.01980734e-04  2.65298854e-03  5.32742916e-03\n",
      "  6.57041324e-03  5.41723939e-03  2.79843691e-03  8.72277422e-04\n",
      "  1.14975963e-03  3.24919727e-03  5.44532295e-03  6.35515619e-03\n",
      "  6.06688811e-03  5.73957711e-03  6.29585283e-03  7.61438534e-03\n",
      "  8.89931154e-03  9.58345737e-03  9.68960766e-03  9.41569451e-03\n",
      "  8.71063024e-03  7.50808930e-03  6.25556754e-03  5.83236152e-03\n",
      "  6.71085017e-03  8.32542032e-03  9.52500850e-03  9.67619289e-03\n",
      "  9.13748518e-03  8.61715898e-03  8.34749267e-03  8.14129505e-03\n",
      "  8.06583650e-03  8.56433623e-03  9.71423648e-03  1.07383635e-02\n",
      "  1.07347099e-02  9.87714622e-03  9.43495985e-03  1.03436280e-02\n",
      "  1.20436978e-02  1.31384479e-02  1.31130740e-02  1.29085220e-02\n",
      "  1.35789774e-02  1.47864195e-02  1.51445279e-02  1.40094608e-02\n",
      "  1.23900082e-02  1.17655257e-02  1.22996122e-02  1.26963789e-02\n",
      "  1.18346261e-02  1.01205967e-02  8.97364318e-03  9.20617394e-03\n",
      "  1.02357976e-02  1.08254878e-02  1.02589969e-02  8.71810503e-03\n",
      "  6.86916895e-03  5.40419761e-03  4.80999053e-03  5.10185538e-03\n",
      "  5.59403142e-03  5.25676645e-03  3.71319638e-03  1.89703784e-03\n",
      "  1.39011210e-03  2.87047774e-03  5.30431094e-03  6.87335338e-03\n",
      "  6.72477344e-03  5.67964977e-03  5.19040367e-03  5.76497940e-03\n",
      "  6.57724403e-03  6.57264329e-03  5.73692704e-03  5.13268262e-03\n",
      "  5.75341517e-03  7.50110578e-03  9.33753792e-03  1.03238458e-02\n",
      "  1.03852944e-02  1.00927968e-02  9.88737680e-03  9.68390889e-03\n",
      "  9.21357144e-03  8.58203508e-03  8.34117457e-03  8.98883585e-03\n",
      "  1.04431314e-02  1.20243253e-02  1.29535953e-02  1.29340999e-02\n",
      "  1.23592028e-02  1.19971633e-02  1.23783769e-02  1.33545641e-02\n",
      "  1.42188063e-02  1.43287554e-02  1.36941057e-02  1.29861785e-02\n",
      "  1.29769873e-02  1.39376661e-02  1.54626556e-02  1.67202223e-02\n",
      "  1.68867260e-02  1.56347901e-02  1.35379070e-02  1.19748367e-02\n",
      "  1.21975569e-02  1.40816290e-02  1.58484839e-02  1.54318456e-02\n",
      "  1.23940390e-02  8.40080623e-03  5.62554272e-03  4.74065356e-03\n",
      "  4.64066584e-03  4.03519999e-03  2.93382257e-03  2.35858513e-03\n",
      "  2.86195148e-03  3.76504683e-03  3.94486357e-03  3.06357816e-03\n",
      "  1.77345809e-03  8.44707305e-04  3.88347748e-04 -1.36976014e-05\n",
      " -6.55469834e-04 -1.39176066e-03 -1.93206745e-03 -2.29290780e-03\n",
      " -2.87952786e-03 -4.09573643e-03 -5.81575418e-03 -7.22771417e-03\n",
      " -7.36180460e-03 -6.02385402e-03 -4.28034971e-03 -3.82449431e-03\n",
      " -5.60325570e-03 -8.95741023e-03 -1.21133719e-02 -1.35190906e-02\n",
      " -1.27773052e-02 -1.05731850e-02 -8.05244781e-03 -6.28595613e-03\n",
      " -5.89247793e-03 -6.70113647e-03 -7.74694514e-03 -7.93109741e-03\n",
      " -6.90511940e-03 -5.22936415e-03 -3.61668156e-03 -2.24658195e-03\n",
      " -1.01149117e-03 -1.68345359e-04 -2.14952495e-04 -9.87155945e-04\n",
      " -1.35111623e-03 -2.85246730e-04  1.81058166e-03  3.32269142e-03\n",
      "  3.07441922e-03  1.48712739e-03 -4.72769170e-05 -6.30465045e-04\n",
      " -3.94269300e-04  1.27289706e-04  5.50995872e-04  4.89223341e-04\n",
      " -5.27671713e-04 -2.45550717e-03 -4.35115211e-03 -5.23699401e-03\n",
      " -5.41226706e-03 -6.28930656e-03 -8.56164843e-03 -1.10049779e-02\n",
      " -1.17525980e-02 -1.06438361e-02 -9.57067776e-03 -1.02217598e-02\n",
      " -1.21062761e-02 -1.34389456e-02 -1.36437230e-02 -1.40610803e-02\n",
      " -1.59243476e-02 -1.84182785e-02 -1.95126589e-02 -1.84753612e-02\n",
      " -1.67261753e-02 -1.59885772e-02 -1.62889194e-02 -1.63722485e-02\n",
      " -1.57216471e-02 -1.53074171e-02 -1.61132067e-02 -1.75510067e-02\n",
      " -1.79306678e-02 -1.63540915e-02 -1.36443218e-02 -1.13411620e-02\n",
      " -1.02041448e-02 -9.92400572e-03 -9.93959140e-03 -1.00503545e-02\n",
      " -1.02437688e-02 -1.03703970e-02 -1.02597475e-02 -9.97239444e-03\n",
      " -9.67209786e-03 -9.31484345e-03 -8.73268396e-03 -8.06805398e-03\n",
      " -7.85480998e-03 -8.44311249e-03 -9.44504421e-03 -1.00095822e-02\n",
      " -9.71230492e-03 -8.99446849e-03 -8.59292690e-03 -8.66823923e-03\n",
      " -8.72497633e-03 -8.39166809e-03 -7.99425784e-03 -8.10494274e-03\n",
      " -8.61132517e-03 -8.57821386e-03 -7.24258553e-03 -4.98616183e-03\n",
      " -3.00675561e-03 -1.96388038e-03 -1.23096956e-03  2.45107542e-04\n",
      "  2.45290436e-03  4.05016122e-03  3.76402843e-03  0.00000000e+00] as keyword args. From version 0.10 passing these as positional arguments will result in an error\n",
      "  mfcc= librosa.feature.mfcc(signal[start_sample:finish_sample],\n",
      "C:\\Users\\TUKUNA\\.conda\\envs\\tensor\\lib\\site-packages\\librosa\\util\\decorators.py:88: UserWarning: n_fft=2048 is too small for input signal of length=896\n",
      "  return f(*args, **kwargs)\n"
     ]
    },
    {
     "name": "stdout",
     "output_type": "stream",
     "text": [
      "ocean_noise_data\\walrus\\7200200M.wav, segment:0\n",
      "ocean_noise_data\\walrus\\7200200M.wav, segment:1\n",
      "ocean_noise_data\\walrus\\72014001.wav, segment:0\n",
      "ocean_noise_data\\walrus\\72014002.wav, segment:0\n"
     ]
    },
    {
     "name": "stderr",
     "output_type": "stream",
     "text": [
      "C:\\Users\\TUKUNA\\AppData\\Local\\Temp/ipykernel_14232/2309356834.py:31: FutureWarning: Pass y=[-0.01544471 -0.01834483 -0.01714857 ... -0.00438525 -0.00360469\n",
      "  0.        ] as keyword args. From version 0.10 passing these as positional arguments will result in an error\n",
      "  if librosa.get_duration(signal)>10:\n",
      "C:\\Users\\TUKUNA\\AppData\\Local\\Temp/ipykernel_14232/2309356834.py:40: FutureWarning: Pass y=[-0.01544471 -0.01834483 -0.01714857 ...  0.00334616  0.00370283\n",
      "  0.00424175] as keyword args. From version 0.10 passing these as positional arguments will result in an error\n",
      "  mfcc= librosa.feature.mfcc(signal[start_sample:finish_sample],\n",
      "C:\\Users\\TUKUNA\\AppData\\Local\\Temp/ipykernel_14232/2309356834.py:40: FutureWarning: Pass y=[ 0.00468152  0.00477707  0.00497074 ... -0.00438525 -0.00360469\n",
      "  0.        ] as keyword args. From version 0.10 passing these as positional arguments will result in an error\n",
      "  mfcc= librosa.feature.mfcc(signal[start_sample:finish_sample],\n",
      "C:\\Users\\TUKUNA\\AppData\\Local\\Temp/ipykernel_14232/2309356834.py:31: FutureWarning: Pass y=[ 0.0055898   0.0059325   0.00483629 ... -0.00622428 -0.00310033\n",
      "  0.        ] as keyword args. From version 0.10 passing these as positional arguments will result in an error\n",
      "  if librosa.get_duration(signal)>10:\n",
      "C:\\Users\\TUKUNA\\AppData\\Local\\Temp/ipykernel_14232/2309356834.py:40: FutureWarning: Pass y=[ 0.0055898   0.0059325   0.00483629 ... -0.00622428 -0.00310033\n",
      "  0.        ] as keyword args. From version 0.10 passing these as positional arguments will result in an error\n",
      "  mfcc= librosa.feature.mfcc(signal[start_sample:finish_sample],\n",
      "C:\\Users\\TUKUNA\\AppData\\Local\\Temp/ipykernel_14232/2309356834.py:31: FutureWarning: Pass y=[-0.00556136 -0.00620762 -0.00536302 ...  0.02800967  0.01637856\n",
      "  0.        ] as keyword args. From version 0.10 passing these as positional arguments will result in an error\n",
      "  if librosa.get_duration(signal)>10:\n",
      "C:\\Users\\TUKUNA\\AppData\\Local\\Temp/ipykernel_14232/2309356834.py:40: FutureWarning: Pass y=[-0.00556136 -0.00620762 -0.00536302 ...  0.00116519  0.00038622\n",
      "  0.00017013] as keyword args. From version 0.10 passing these as positional arguments will result in an error\n",
      "  mfcc= librosa.feature.mfcc(signal[start_sample:finish_sample],\n",
      "C:\\Users\\TUKUNA\\AppData\\Local\\Temp/ipykernel_14232/2309356834.py:40: FutureWarning: Pass y=[0.00049044 0.00088948 0.00099962 ... 0.02800967 0.01637856 0.        ] as keyword args. From version 0.10 passing these as positional arguments will result in an error\n",
      "  mfcc= librosa.feature.mfcc(signal[start_sample:finish_sample],\n",
      "C:\\Users\\TUKUNA\\AppData\\Local\\Temp/ipykernel_14232/2309356834.py:31: FutureWarning: Pass y=[-0.00796512 -0.00943002 -0.00843617 ...  0.03183373  0.02112349\n",
      "  0.        ] as keyword args. From version 0.10 passing these as positional arguments will result in an error\n",
      "  if librosa.get_duration(signal)>10:\n",
      "C:\\Users\\TUKUNA\\AppData\\Local\\Temp/ipykernel_14232/2309356834.py:40: FutureWarning: Pass y=[-0.00796512 -0.00943002 -0.00843617 ... -0.01356949 -0.0160158\n",
      " -0.01817334] as keyword args. From version 0.10 passing these as positional arguments will result in an error\n",
      "  mfcc= librosa.feature.mfcc(signal[start_sample:finish_sample],\n"
     ]
    },
    {
     "name": "stdout",
     "output_type": "stream",
     "text": [
      "ocean_noise_data\\walrus\\72014003.wav, segment:0\n",
      "ocean_noise_data\\walrus\\72014005.wav, segment:0\n",
      "ocean_noise_data\\walrus\\72014006.wav, segment:0\n",
      "ocean_noise_data\\walrus\\72014008.wav, segment:0\n"
     ]
    },
    {
     "name": "stderr",
     "output_type": "stream",
     "text": [
      "C:\\Users\\TUKUNA\\AppData\\Local\\Temp/ipykernel_14232/2309356834.py:40: FutureWarning: Pass y=[-0.02000234 -0.02172159 -0.02361775 -0.02566342 -0.02743091 -0.02851722\n",
      " -0.02904749 -0.02963939 -0.03080347 -0.03242845 -0.03390998 -0.03473889\n",
      " -0.03489481 -0.03471823 -0.03455406 -0.03457834 -0.03482455 -0.03517815\n",
      " -0.03532944 -0.03491245 -0.03384411 -0.03249032 -0.03136516 -0.03062424\n",
      " -0.02992257 -0.02880347 -0.02715747 -0.02524156 -0.02332133 -0.02142333\n",
      " -0.01944329 -0.01735634 -0.01520936 -0.01297121 -0.01053857 -0.00792387\n",
      " -0.00532006 -0.00288313 -0.00051267  0.00201594  0.00467933  0.00709261\n",
      "  0.00887944  0.01011929  0.01130854  0.01284824  0.01466761  0.01643389\n",
      "  0.0180653   0.0198808   0.02217866  0.02475688  0.02697588  0.02832463\n",
      "  0.02887846  0.02919151  0.02979547  0.03082499  0.03204932  0.03315691\n",
      "  0.03399799  0.03464504  0.03528934  0.03604851  0.03681083  0.03728498\n",
      "  0.03728347  0.03698599  0.03685504  0.03721537  0.03792287  0.03849871\n",
      "  0.03858946  0.03824467  0.03774389  0.03724508  0.03669156  0.03603466\n",
      "  0.0354263   0.03511243  0.03515299  0.03529425  0.03512787  0.03438634\n",
      "  0.03314609  0.03181049  0.0308613   0.03048783  0.0303551   0.02978054\n",
      "  0.02827736  0.02600466  0.02364861  0.02180171  0.02045936  0.01914284\n",
      "  0.01746171  0.01545633  0.01338116  0.01129301  0.00900902  0.00645991\n",
      "  0.00390538  0.00164797 -0.00042282 -0.002821   -0.00588724 -0.00928206\n",
      " -0.01218974 -0.01408088 -0.01522563 -0.01641631 -0.01822758 -0.02059299\n",
      " -0.02303926 -0.0251912  -0.0269951  -0.02857358 -0.03003618 -0.03146065\n",
      " -0.03292188 -0.03441149 -0.03575525 -0.03672942 -0.03731016 -0.03774394\n",
      " -0.03829767 -0.03894636 -0.03936267 -0.0392368  -0.03859165 -0.03777854\n",
      " -0.0371711  -0.0368362  -0.03645571 -0.03557685 -0.03402675 -0.03214449\n",
      " -0.03054575 -0.02953769 -0.02874451 -0.02742239 -0.02523316 -0.02264777\n",
      " -0.02046471 -0.01892927 -0.01744944 -0.0152425  -0.0121711  -0.00885101\n",
      " -0.00601698 -0.00394333 -0.0024635  -0.00129825 -0.00015895  0.00134454\n",
      "  0.00355376  0.00634275  0.00900218  0.01078944  0.01165025  0.01228103\n",
      "  0.01342939  0.01522079  0.01721019  0.0189493   0.02033827  0.02147949\n",
      "  0.02242664  0.0232011   0.02390927  0.024637    0.02523602  0.02541024\n",
      "  0.02511965  0.02478834  0.02495875  0.02574884  0.02676382  0.02755299\n",
      "  0.02802371  0.0283344   0.02850778  0.02834374  0.02774502  0.02697595\n",
      "  0.02646236  0.02635381  0.02637664  0.02613974  0.02553194  0.02479744\n",
      "  0.02426525  0.02403271  0.02387274  0.02340917  0.02241742  0.02102664\n",
      "  0.01963716  0.01857904  0.01780751  0.01695617  0.01571703  0.01414563\n",
      "  0.01256579  0.01121447  0.01004816  0.00888225  0.00761169  0.00622678\n",
      "  0.00468696  0.00291249  0.00093104 -0.00106082 -0.0028589  -0.00444295\n",
      " -0.00594993 -0.00748675 -0.00905499 -0.01066665 -0.01242724 -0.01441376\n",
      " -0.016508   -0.01845704 -0.02013163 -0.02166075 -0.02325787 -0.02494699\n",
      " -0.02651481 -0.02772794 -0.02855336 -0.02917081 -0.02982105 -0.03064838\n",
      " -0.03160995 -0.0324608  -0.03286147 -0.03262301 -0.03192879 -0.03128441\n",
      " -0.03115867 -0.0316043  -0.03220231 -0.03236433 -0.03170796 -0.03021749\n",
      " -0.02815338 -0.0258608  -0.02361295 -0.02153517 -0.01961568 -0.01778534\n",
      " -0.0159959  -0.01422046 -0.01239802 -0.01043641 -0.00831613 -0.00616938\n",
      " -0.00418506 -0.00239462 -0.00058254  0.00153135  0.00399658  0.0065366\n",
      "  0.00877128  0.0105438   0.0120364   0.01358244  0.01537352  0.01733089\n",
      "  0.01922711  0.02091071  0.02241274  0.02384357  0.02519898  0.02629826\n",
      "  0.02695725  0.02724336  0.02752286  0.02818514  0.02928127  0.03045961\n",
      "  0.03130238  0.03172832  0.03202845  0.03250085  0.03310609  0.03354001\n",
      "  0.03362507  0.03354082  0.03361181  0.03390969  0.03415079  0.03401143\n",
      "  0.03348115  0.03283725  0.03228829  0.03172769  0.03090005  0.0297776\n",
      "  0.02867892  0.02794214  0.02748825  0.0267842   0.02532152  0.02315425\n",
      "  0.02091148  0.0192131   0.01806862  0.01690784  0.01522613  0.01313199\n",
      "  0.01117696  0.00968006  0.00835944  0.00670528  0.00460988  0.00246478\n",
      "  0.00063489 -0.00098073 -0.00274101 -0.00473149 -0.00665281 -0.00826629\n",
      " -0.00975321 -0.01147704 -0.01348983 -0.01548884 -0.01728768 -0.01912389\n",
      " -0.02133975 -0.02385534 -0.02616412 -0.02788366 -0.02915244 -0.03039142\n",
      " -0.03179984 -0.03324879 -0.03462223 -0.03604444 -0.03766111 -0.03932394\n",
      " -0.04067188 -0.04153433 -0.04212622 -0.04277911 -0.04353985 -0.04409353\n",
      " -0.0440494  -0.04326544 -0.04195091 -0.04053499 -0.03940475 -0.03864428\n",
      " -0.03797342 -0.03701497 -0.03568593 -0.03425783 -0.03294184 -0.03148887\n",
      " -0.02939731 -0.0265868  -0.02369222 -0.02147846 -0.01996876 -0.0183351\n",
      " -0.01574659 -0.01223279 -0.00861639 -0.00567751 -0.00351989 -0.00170342\n",
      "  0.00023165  0.00248403  0.00505459  0.00783118  0.01057326  0.01299161\n",
      "  0.01497566  0.01669593  0.01840796  0.02020456  0.02203621  0.02389502\n",
      "  0.02580563  0.02761836  0.02901327  0.02987336  0.03056197  0.03161808\n",
      "  0.03314368  0.03466226  0.03567428  0.03620596  0.03664813  0.03715952\n",
      "  0.0375026   0.03753085  0.03756448  0.03801719  0.03873571  0.03902162\n",
      "  0.03842374  0.03730077  0.03640134  0.03600517  0.03573794  0.03522395\n",
      "  0.03459617  0.03414767  0.03369958  0.03271534  0.03111392  0.02961992\n",
      "  0.02899064  0.02900631  0.02858312  0.02699916  0.02474748  0.02293372\n",
      "  0.02195974  0.02112494  0.01957589  0.01733045  0.01510132  0.01327467\n",
      "  0.01145916  0.00915894  0.00658299  0.00446205  0.00311956  0.00202976\n",
      "  0.00041394 -0.00192224 -0.00451911 -0.00689451 -0.00899146 -0.01100023\n",
      " -0.01301199 -0.01502538 -0.01713991 -0.01948396 -0.0219462  -0.02420045\n",
      " -0.02610143 -0.02789731 -0.02989133 -0.03199373 -0.03382425 -0.03525305\n",
      " -0.03659702 -0.03815368 -0.03973563 -0.04092308 -0.04172296 -0.0426681\n",
      " -0.0441128  -0.04563675 -0.04642158 -0.04620365 -0.0456146  -0.04547638\n",
      " -0.04591848 -0.04633676 -0.04611112 -0.04514381 -0.04369498 -0.04194396\n",
      " -0.03990268 -0.0376609  -0.03548352 -0.0335895  -0.03193511 -0.03027355\n",
      " -0.02834587 -0.02595434 -0.02296899 -0.01945653 -0.01583493 -0.0127309\n",
      " -0.01051417 -0.0089637  -0.00747822 -0.00563613 -0.00349111 -0.00131067\n",
      "  0.00087079  0.00332437  0.00624985  0.00941265  0.01222918  0.0142322\n",
      "  0.01546591  0.01646081  0.01784023  0.0198954   0.02243143  0.02493632\n",
      "  0.0268993   0.02805611  0.02845621  0.02838915  0.02825073  0.02838792\n",
      "  0.02894819  0.02981112  0.03068686  0.03133835  0.03173593  0.0319927\n",
      "  0.03215754  0.03210803  0.03167082  0.03083594  0.02982957  0.02897615\n",
      "  0.02849129  0.02836872  0.02839582  0.0282522   0.02766209  0.02655729\n",
      "  0.02513561  0.02371865  0.02250429  0.02145906  0.02046069  0.01949359\n",
      "  0.01862813  0.01781639  0.0168263   0.01547852  0.01390887  0.01246623\n",
      "  0.01129949  0.01013857  0.00858823  0.00660495  0.00455863  0.00279134\n",
      "  0.00123607 -0.00041878 -0.00225725 -0.00400226 -0.00540315 -0.00661418\n",
      " -0.00804422 -0.00987975 -0.01192499 -0.01395376 -0.01604934 -0.01842611\n",
      " -0.02097289 -0.02319549 -0.02472875 -0.02579182 -0.02696887 -0.02854356\n",
      " -0.03020539 -0.03148948 -0.03238289 -0.03332441 -0.03459967 -0.03590249\n",
      " -0.03662766 -0.03656211 -0.03616482 -0.0361268  -0.03672328 -0.03763857\n",
      " -0.03834562 -0.03854096 -0.03821227 -0.03742588 -0.03618922 -0.03452039\n",
      " -0.03254884 -0.03048096 -0.02849872 -0.02673439 -0.02530288 -0.02425846\n",
      " -0.02347557 -0.02262088 -0.02131439 -0.0193427  -0.01672386 -0.01362378\n",
      " -0.01029274 -0.00707974 -0.00437229 -0.00235809 -0.00079793  0.00087807\n",
      "  0.00313568  0.00595261  0.00888074  0.01150189  0.01381268  0.01615297\n",
      "  0.01876694  0.02145687  0.02369519  0.02510981  0.02587967  0.02662912\n",
      "  0.02787501  0.029543    0.03105185  0.03190931  0.03221353  0.03252839\n",
      "  0.03327806  0.03433355  0.03522366  0.03567127  0.03581461  0.03591409\n",
      "  0.0359844   0.03582778  0.03537842  0.0348674   0.03457811  0.03451392\n",
      "  0.03441123  0.03408952  0.03370907  0.03361646  0.03393176  0.03431317\n",
      "  0.03415062  0.03303135  0.03109269  0.02898298  0.02745387  0.02686591\n",
      "  0.02695043  0.02699306  0.02630756  0.02466035  0.02235556  0.01996049\n",
      "  0.01791697  0.01632727  0.01500857  0.01368159  0.01211045  0.01015244\n",
      "  0.00780393  0.00527054  0.00293551  0.00111525 -0.00025259 -0.00164404\n",
      " -0.00355792 -0.00602302 -0.00853077 -0.01052816 -0.01199073 -0.01346711\n",
      " -0.01553296 -0.01821698 -0.02097275 -0.02318427 -0.02468002 -0.02580298\n",
      " -0.02706997 -0.02879614 -0.03097553 -0.03339671 -0.03578882 -0.03786862\n",
      " -0.03934542 -0.04001705 -0.03995797 -0.03960899 -0.03956833 -0.0401621\n",
      " -0.0411667  -0.04198939 -0.04216839 -0.0417101  -0.04096162 -0.04022894\n",
      " -0.03957152 -0.03889565 -0.03808807 -0.03699808 -0.03542754 -0.03333228\n",
      " -0.03105091 -0.02915172 -0.0278883  -0.02683656 -0.02521862 -0.02264793\n",
      " -0.01948812 -0.01643198 -0.01380898 -0.01139956 -0.00885843 -0.0061252\n",
      " -0.00333804 -0.00050842  0.00248267  0.00553634  0.00819249  0.01003342\n",
      "  0.01121213  0.01241816  0.01424435  0.01666742  0.01921631  0.02154307\n",
      "  0.02365142  0.02557039  0.02704919  0.02781071  0.02807644  0.0285922\n",
      "  0.02995846  0.03198784  0.03386106  0.03491926  0.03519627  0.03517529\n",
      "  0.03521426  0.03537125  0.03567974  0.03628968  0.03717337  0.03784742\n",
      "  0.03765754  0.03642559  0.03469315  0.03323266  0.0323895   0.0319918\n",
      "  0.03180213  0.0318221   0.03205911  0.03217061  0.03159699  0.03011988\n",
      "  0.02816173  0.02641062  0.02517109  0.0241654   0.02296422  0.02150438\n",
      "  0.02010807  0.01903104  0.0180912   0.01680877  0.01492193  0.01274281\n",
      "  0.01096272  0.01004458  0.00975877  0.00932238  0.00803887  0.00583287\n",
      "  0.00317708  0.00055596 -0.00190255 -0.00425428 -0.00635801 -0.00788309\n",
      " -0.00876116 -0.00948657 -0.01079085 -0.01299279 -0.01574904 -0.01843555\n",
      " -0.02064168 -0.02223956 -0.02316729 -0.02343509 -0.02340676 -0.02382736\n",
      " -0.02529239 -0.02765217 -0.03008979 -0.03185732 -0.03284806 -0.03340301\n",
      " -0.03372041 -0.03367835 -0.03323291 -0.03274148 -0.03268288 -0.03310926\n",
      " -0.0335607  -0.03357201 -0.03312918 -0.0325239  -0.0318525  -0.03084257\n",
      " -0.02922828 -0.02718096 -0.02524968 -0.02387528 -0.02301706 -0.02223867\n",
      " -0.02107123 -0.01925575 -0.01672991 -0.0135512  -0.00994123 -0.0063609\n",
      " -0.00337549 -0.0012749   0.00022753  0.00183221  0.00406232  0.00679832\n",
      "  0.00947087  0.01175914  0.01400399  0.0167877   0.02011308  0.02319219\n",
      "  0.02521302  0.02625185  0.02722322  0.02885561  0.03087109  0.03233916\n",
      "  0.0327818   0.03273011  0.03313135  0.03436516  0.03598056  0.03729843\n",
      "  0.03805586  0.03843484  0.03868597  0.03891644  0.03916072  0.03941903\n",
      "  0.03954991  0.03928903  0.03852791  0.03752274  0.03668476  0.03616325\n",
      "  0.0357613   0.03528558  0.03481294  0.03447609  0.03409539  0.03326504\n",
      "  0.03186839  0.03031988  0.0291186   0.02823063  0.02711377  0.0253991\n",
      "  0.02338659  0.02174027  0.02077466  0.02018316  0.01943935  0.01829574\n",
      "  0.01683665  0.01520913  0.01347644  0.01168927  0.00991415  0.00812732\n",
      "  0.00620609  0.00413218  0.0021357   0.00051099 -0.00070385 -0.00176297\n",
      " -0.00292777 -0.00427048 -0.00580624 -0.0076669  -0.00996875 -0.01255062\n",
      " -0.01504787 -0.01730392 -0.01955335 -0.02204182 -0.0245473  -0.02649415\n",
      " -0.02759808 -0.02823246 -0.02901562 -0.03011364 -0.03112331 -0.03167074\n",
      " -0.03198799 -0.03278325 -0.03454614 -0.03700893 -0.03926121 -0.04038421\n",
      " -0.04007497 -0.03880026 -0.03740082 -0.03649432 -0.03617306 -0.03617115\n",
      " -0.03617613 -0.03589626 -0.03497126 -0.03312207 -0.03052616 -0.02785602\n",
      " -0.02570776 -0.02404227 -0.02241031 -0.02068264 -0.01919827 -0.01803204\n",
      " -0.01649202 -0.01381699 -0.01029215 -0.00714649 -0.00513897 -0.00365865\n",
      " -0.00159357  0.00121137  0.00390451  0.00592781  0.00769155  0.00973386\n",
      "  0.01186756  0.01374462  0.01579643  0.01867164  0.02175827  0.02335562\n",
      "  0.02292616  0.02232992  0.02370885  0.0265095   0.02806863  0.02751722\n",
      "  0.02750833  0.03049662  0.03399916  0.03183373  0.02112349  0.        ] as keyword args. From version 0.10 passing these as positional arguments will result in an error\n",
      "  mfcc= librosa.feature.mfcc(signal[start_sample:finish_sample],\n",
      "C:\\Users\\TUKUNA\\.conda\\envs\\tensor\\lib\\site-packages\\librosa\\util\\decorators.py:88: UserWarning: n_fft=2048 is too small for input signal of length=948\n",
      "  return f(*args, **kwargs)\n",
      "C:\\Users\\TUKUNA\\AppData\\Local\\Temp/ipykernel_14232/2309356834.py:31: FutureWarning: Pass y=[-0.00798798 -0.00966914 -0.00925656 ...  0.00618204  0.0046552\n",
      "  0.        ] as keyword args. From version 0.10 passing these as positional arguments will result in an error\n",
      "  if librosa.get_duration(signal)>10:\n",
      "C:\\Users\\TUKUNA\\AppData\\Local\\Temp/ipykernel_14232/2309356834.py:40: FutureWarning: Pass y=[-0.00798798 -0.00966914 -0.00925656 ...  0.00618204  0.0046552\n",
      "  0.        ] as keyword args. From version 0.10 passing these as positional arguments will result in an error\n",
      "  mfcc= librosa.feature.mfcc(signal[start_sample:finish_sample],\n",
      "C:\\Users\\TUKUNA\\AppData\\Local\\Temp/ipykernel_14232/2309356834.py:31: FutureWarning: Pass y=[-0.00653298 -0.0074782  -0.00679702 ... -0.03040275 -0.0247924\n",
      "  0.        ] as keyword args. From version 0.10 passing these as positional arguments will result in an error\n",
      "  if librosa.get_duration(signal)>10:\n",
      "C:\\Users\\TUKUNA\\AppData\\Local\\Temp/ipykernel_14232/2309356834.py:40: FutureWarning: Pass y=[-0.00653298 -0.0074782  -0.00679702 ... -0.00269597  0.00167387\n",
      "  0.00613615] as keyword args. From version 0.10 passing these as positional arguments will result in an error\n",
      "  mfcc= librosa.feature.mfcc(signal[start_sample:finish_sample],\n",
      "C:\\Users\\TUKUNA\\AppData\\Local\\Temp/ipykernel_14232/2309356834.py:40: FutureWarning: Pass y=[ 0.0097781   0.01202371  0.01270378 ... -0.03040275 -0.0247924\n",
      "  0.        ] as keyword args. From version 0.10 passing these as positional arguments will result in an error\n",
      "  mfcc= librosa.feature.mfcc(signal[start_sample:finish_sample],\n",
      "C:\\Users\\TUKUNA\\AppData\\Local\\Temp/ipykernel_14232/2309356834.py:31: FutureWarning: Pass y=[ 0.00093676  0.0012001   0.00145999 ... -0.00487454 -0.0034664\n",
      "  0.        ] as keyword args. From version 0.10 passing these as positional arguments will result in an error\n",
      "  if librosa.get_duration(signal)>10:\n",
      "C:\\Users\\TUKUNA\\AppData\\Local\\Temp/ipykernel_14232/2309356834.py:40: FutureWarning: Pass y=[0.00093676 0.0012001  0.00145999 ... 0.00720402 0.00767916 0.0079245 ] as keyword args. From version 0.10 passing these as positional arguments will result in an error\n",
      "  mfcc= librosa.feature.mfcc(signal[start_sample:finish_sample],\n"
     ]
    },
    {
     "name": "stdout",
     "output_type": "stream",
     "text": [
      "ocean_noise_data\\walrus\\72014009.wav, segment:0\n"
     ]
    },
    {
     "name": "stderr",
     "output_type": "stream",
     "text": [
      "C:\\Users\\TUKUNA\\AppData\\Local\\Temp/ipykernel_14232/2309356834.py:40: FutureWarning: Pass y=[ 0.00789958  0.00755646  0.00685175 ... -0.00487454 -0.0034664\n",
      "  0.        ] as keyword args. From version 0.10 passing these as positional arguments will result in an error\n",
      "  mfcc= librosa.feature.mfcc(signal[start_sample:finish_sample],\n",
      "C:\\Users\\TUKUNA\\AppData\\Local\\Temp/ipykernel_14232/2309356834.py:31: FutureWarning: Pass y=[ 0.01317353  0.01812297  0.01590652 ... -0.0013438  -0.00374673\n",
      "  0.        ] as keyword args. From version 0.10 passing these as positional arguments will result in an error\n",
      "  if librosa.get_duration(signal)>10:\n",
      "C:\\Users\\TUKUNA\\AppData\\Local\\Temp/ipykernel_14232/2309356834.py:40: FutureWarning: Pass y=[ 0.01317353  0.01812297  0.01590652 ... -0.00146623  0.00374181\n",
      "  0.005271  ] as keyword args. From version 0.10 passing these as positional arguments will result in an error\n",
      "  mfcc= librosa.feature.mfcc(signal[start_sample:finish_sample],\n",
      "C:\\Users\\TUKUNA\\AppData\\Local\\Temp/ipykernel_14232/2309356834.py:40: FutureWarning: Pass y=[ 0.00355256  0.00180268 -0.0022841  ...  0.00604849  0.00929282\n",
      "  0.00766095] as keyword args. From version 0.10 passing these as positional arguments will result in an error\n",
      "  mfcc= librosa.feature.mfcc(signal[start_sample:finish_sample],\n"
     ]
    },
    {
     "name": "stdout",
     "output_type": "stream",
     "text": [
      "ocean_noise_data\\walrus\\72019001.wav, segment:0\n",
      "ocean_noise_data\\walrus\\72019001.wav, segment:1\n"
     ]
    },
    {
     "name": "stderr",
     "output_type": "stream",
     "text": [
      "C:\\Users\\TUKUNA\\AppData\\Local\\Temp/ipykernel_14232/2309356834.py:31: FutureWarning: Pass y=[-0.00086499 -0.00102499 -0.00060219 ... -0.00094266 -0.00105709\n",
      "  0.        ] as keyword args. From version 0.10 passing these as positional arguments will result in an error\n",
      "  if librosa.get_duration(signal)>10:\n",
      "C:\\Users\\TUKUNA\\AppData\\Local\\Temp/ipykernel_14232/2309356834.py:40: FutureWarning: Pass y=[-0.00086499 -0.00102499 -0.00060219 ...  0.00562212  0.00646687\n",
      "  0.00423747] as keyword args. From version 0.10 passing these as positional arguments will result in an error\n",
      "  mfcc= librosa.feature.mfcc(signal[start_sample:finish_sample],\n",
      "C:\\Users\\TUKUNA\\AppData\\Local\\Temp/ipykernel_14232/2309356834.py:40: FutureWarning: Pass y=[0.00308246 0.00264708 0.00333292 ... 0.1408186  0.17425217 0.19095749] as keyword args. From version 0.10 passing these as positional arguments will result in an error\n",
      "  mfcc= librosa.feature.mfcc(signal[start_sample:finish_sample],\n",
      "C:\\Users\\TUKUNA\\AppData\\Local\\Temp/ipykernel_14232/2309356834.py:31: FutureWarning: Pass y=[-0.00043957 -0.00089565 -0.00230132 ... -0.00606658 -0.00719651\n",
      "  0.        ] as keyword args. From version 0.10 passing these as positional arguments will result in an error\n",
      "  if librosa.get_duration(signal)>10:\n",
      "C:\\Users\\TUKUNA\\AppData\\Local\\Temp/ipykernel_14232/2309356834.py:40: FutureWarning: Pass y=[-0.00043957 -0.00089565 -0.00230132 ... -0.00606658 -0.00719651\n",
      "  0.        ] as keyword args. From version 0.10 passing these as positional arguments will result in an error\n",
      "  mfcc= librosa.feature.mfcc(signal[start_sample:finish_sample],\n"
     ]
    },
    {
     "name": "stdout",
     "output_type": "stream",
     "text": [
      "ocean_noise_data\\walrus\\72019002.wav, segment:0\n",
      "ocean_noise_data\\walrus\\72019002.wav, segment:1\n"
     ]
    },
    {
     "name": "stderr",
     "output_type": "stream",
     "text": [
      "C:\\Users\\TUKUNA\\AppData\\Local\\Temp/ipykernel_14232/2309356834.py:31: FutureWarning: Pass y=[-0.00424284 -0.00634182 -0.00666406 ... -0.00061588 -0.00147999\n",
      "  0.        ] as keyword args. From version 0.10 passing these as positional arguments will result in an error\n",
      "  if librosa.get_duration(signal)>10:\n",
      "C:\\Users\\TUKUNA\\AppData\\Local\\Temp/ipykernel_14232/2309356834.py:40: FutureWarning: Pass y=[-0.00424284 -0.00634182 -0.00666406 ...  0.0007509   0.00065046\n",
      " -0.00045814] as keyword args. From version 0.10 passing these as positional arguments will result in an error\n",
      "  mfcc= librosa.feature.mfcc(signal[start_sample:finish_sample],\n",
      "C:\\Users\\TUKUNA\\AppData\\Local\\Temp/ipykernel_14232/2309356834.py:40: FutureWarning: Pass y=[-0.0006063  -0.00192349 -0.00223422 ... -0.00663505 -0.00663153\n",
      " -0.00470192] as keyword args. From version 0.10 passing these as positional arguments will result in an error\n",
      "  mfcc= librosa.feature.mfcc(signal[start_sample:finish_sample],\n",
      "C:\\Users\\TUKUNA\\AppData\\Local\\Temp/ipykernel_14232/2309356834.py:31: FutureWarning: Pass y=[0.00142694 0.00240175 0.00297527 ... 0.00912183 0.0105734  0.        ] as keyword args. From version 0.10 passing these as positional arguments will result in an error\n",
      "  if librosa.get_duration(signal)>10:\n",
      "C:\\Users\\TUKUNA\\AppData\\Local\\Temp/ipykernel_14232/2309356834.py:40: FutureWarning: Pass y=[ 0.00142694  0.00240175  0.00297527 ... -0.00588164 -0.00535706\n",
      " -0.00647231] as keyword args. From version 0.10 passing these as positional arguments will result in an error\n",
      "  mfcc= librosa.feature.mfcc(signal[start_sample:finish_sample],\n",
      "C:\\Users\\TUKUNA\\AppData\\Local\\Temp/ipykernel_14232/2309356834.py:40: FutureWarning: Pass y=[-0.0062893  -0.00633998 -0.00686661 ...  0.00912183  0.0105734\n",
      "  0.        ] as keyword args. From version 0.10 passing these as positional arguments will result in an error\n",
      "  mfcc= librosa.feature.mfcc(signal[start_sample:finish_sample],\n",
      "C:\\Users\\TUKUNA\\AppData\\Local\\Temp/ipykernel_14232/2309356834.py:31: FutureWarning: Pass y=[0.0019457  0.00292948 0.00359062 ... 0.00790241 0.00980938 0.        ] as keyword args. From version 0.10 passing these as positional arguments will result in an error\n",
      "  if librosa.get_duration(signal)>10:\n",
      "C:\\Users\\TUKUNA\\AppData\\Local\\Temp/ipykernel_14232/2309356834.py:40: FutureWarning: Pass y=[0.0019457  0.00292948 0.00359062 ... 0.00790241 0.00980938 0.        ] as keyword args. From version 0.10 passing these as positional arguments will result in an error\n",
      "  mfcc= librosa.feature.mfcc(signal[start_sample:finish_sample],\n"
     ]
    },
    {
     "name": "stdout",
     "output_type": "stream",
     "text": [
      "ocean_noise_data\\walrus\\72019004.wav, segment:0\n",
      "ocean_noise_data\\walrus\\72019004.wav, segment:1\n",
      "ocean_noise_data\\walrus\\72019005.wav, segment:0\n"
     ]
    },
    {
     "name": "stderr",
     "output_type": "stream",
     "text": [
      "C:\\Users\\TUKUNA\\AppData\\Local\\Temp/ipykernel_14232/2309356834.py:31: FutureWarning: Pass y=[ 0.00565942  0.00624657  0.00423145 ... -0.00391987 -0.00301313\n",
      "  0.        ] as keyword args. From version 0.10 passing these as positional arguments will result in an error\n",
      "  if librosa.get_duration(signal)>10:\n",
      "C:\\Users\\TUKUNA\\AppData\\Local\\Temp/ipykernel_14232/2309356834.py:40: FutureWarning: Pass y=[0.00565942 0.00624657 0.00423145 ... 0.00886549 0.01030257 0.01028836] as keyword args. From version 0.10 passing these as positional arguments will result in an error\n",
      "  mfcc= librosa.feature.mfcc(signal[start_sample:finish_sample],\n",
      "C:\\Users\\TUKUNA\\AppData\\Local\\Temp/ipykernel_14232/2309356834.py:40: FutureWarning: Pass y=[0.00970172 0.00888568 0.00909847 ... 0.00765339 0.00803335 0.00929349] as keyword args. From version 0.10 passing these as positional arguments will result in an error\n",
      "  mfcc= librosa.feature.mfcc(signal[start_sample:finish_sample],\n",
      "C:\\Users\\TUKUNA\\AppData\\Local\\Temp/ipykernel_14232/2309356834.py:31: FutureWarning: Pass y=[-0.00459135 -0.00521915 -0.00540939 ... -0.00328808 -0.0052581\n",
      "  0.        ] as keyword args. From version 0.10 passing these as positional arguments will result in an error\n",
      "  if librosa.get_duration(signal)>10:\n",
      "C:\\Users\\TUKUNA\\AppData\\Local\\Temp/ipykernel_14232/2309356834.py:40: FutureWarning: Pass y=[-0.00459135 -0.00521915 -0.00540939 ... -0.01172734 -0.01273025\n",
      " -0.01105381] as keyword args. From version 0.10 passing these as positional arguments will result in an error\n",
      "  mfcc= librosa.feature.mfcc(signal[start_sample:finish_sample],\n"
     ]
    },
    {
     "name": "stdout",
     "output_type": "stream",
     "text": [
      "ocean_noise_data\\walrus\\72019008.wav, segment:0\n",
      "ocean_noise_data\\walrus\\72019008.wav, segment:1\n",
      "ocean_noise_data\\walrus\\72019009.wav, segment:0\n",
      "ocean_noise_data\\walrus\\72019009.wav, segment:1\n"
     ]
    },
    {
     "name": "stderr",
     "output_type": "stream",
     "text": [
      "C:\\Users\\TUKUNA\\AppData\\Local\\Temp/ipykernel_14232/2309356834.py:40: FutureWarning: Pass y=[-0.00771441 -0.00695944 -0.00566329 ...  0.01433405  0.01368991\n",
      "  0.00020798] as keyword args. From version 0.10 passing these as positional arguments will result in an error\n",
      "  mfcc= librosa.feature.mfcc(signal[start_sample:finish_sample],\n",
      "C:\\Users\\TUKUNA\\AppData\\Local\\Temp/ipykernel_14232/2309356834.py:31: FutureWarning: Pass y=[ 0.00047404 -0.00043431 -0.00012373 ... -0.00222821 -0.00154073\n",
      "  0.        ] as keyword args. From version 0.10 passing these as positional arguments will result in an error\n",
      "  if librosa.get_duration(signal)>10:\n",
      "C:\\Users\\TUKUNA\\AppData\\Local\\Temp/ipykernel_14232/2309356834.py:40: FutureWarning: Pass y=[ 0.00047404 -0.00043431 -0.00012373 ... -0.00046609 -0.00109536\n",
      " -0.00091609] as keyword args. From version 0.10 passing these as positional arguments will result in an error\n",
      "  mfcc= librosa.feature.mfcc(signal[start_sample:finish_sample],\n",
      "C:\\Users\\TUKUNA\\AppData\\Local\\Temp/ipykernel_14232/2309356834.py:40: FutureWarning: Pass y=[-0.00099763 -0.00097161 -0.00138945 ... -0.00255666 -0.0023514\n",
      " -0.00193284] as keyword args. From version 0.10 passing these as positional arguments will result in an error\n",
      "  mfcc= librosa.feature.mfcc(signal[start_sample:finish_sample],\n",
      "C:\\Users\\TUKUNA\\AppData\\Local\\Temp/ipykernel_14232/2309356834.py:31: FutureWarning: Pass y=[-3.8868983e-04 -5.5751239e-04 -1.2343916e-03 ...  6.7077158e-04\n",
      " -3.2465858e-05  0.0000000e+00] as keyword args. From version 0.10 passing these as positional arguments will result in an error\n",
      "  if librosa.get_duration(signal)>10:\n",
      "C:\\Users\\TUKUNA\\AppData\\Local\\Temp/ipykernel_14232/2309356834.py:40: FutureWarning: Pass y=[-0.00038869 -0.00055751 -0.00123439 ... -0.00357058  0.00044177\n",
      "  0.0003676 ] as keyword args. From version 0.10 passing these as positional arguments will result in an error\n",
      "  mfcc= librosa.feature.mfcc(signal[start_sample:finish_sample],\n"
     ]
    },
    {
     "name": "stdout",
     "output_type": "stream",
     "text": [
      "ocean_noise_data\\walrus\\72020006.wav, segment:0\n",
      "ocean_noise_data\\walrus\\72020006.wav, segment:1\n",
      "ocean_noise_data\\walrus\\72020008.wav, segment:0\n",
      "ocean_noise_data\\walrus\\72020008.wav, segment:1\n"
     ]
    },
    {
     "name": "stderr",
     "output_type": "stream",
     "text": [
      "C:\\Users\\TUKUNA\\AppData\\Local\\Temp/ipykernel_14232/2309356834.py:40: FutureWarning: Pass y=[0.00254431 0.00735602 0.01166357 ... 0.00274155 0.00140872 0.00369791] as keyword args. From version 0.10 passing these as positional arguments will result in an error\n",
      "  mfcc= librosa.feature.mfcc(signal[start_sample:finish_sample],\n",
      "C:\\Users\\TUKUNA\\AppData\\Local\\Temp/ipykernel_14232/2309356834.py:31: FutureWarning: Pass y=[-0.00015293  0.0001154   0.000242   ...  0.00290068  0.00508516\n",
      "  0.        ] as keyword args. From version 0.10 passing these as positional arguments will result in an error\n",
      "  if librosa.get_duration(signal)>10:\n",
      "C:\\Users\\TUKUNA\\AppData\\Local\\Temp/ipykernel_14232/2309356834.py:40: FutureWarning: Pass y=[-0.00015293  0.0001154   0.000242   ... -0.00866157 -0.00160629\n",
      " -0.00413971] as keyword args. From version 0.10 passing these as positional arguments will result in an error\n",
      "  mfcc= librosa.feature.mfcc(signal[start_sample:finish_sample],\n",
      "C:\\Users\\TUKUNA\\AppData\\Local\\Temp/ipykernel_14232/2309356834.py:40: FutureWarning: Pass y=[-0.00571406  0.00036667  0.00331604 ... -0.01296973 -0.00380275\n",
      "  0.0035181 ] as keyword args. From version 0.10 passing these as positional arguments will result in an error\n",
      "  mfcc= librosa.feature.mfcc(signal[start_sample:finish_sample],\n"
     ]
    },
    {
     "name": "stdout",
     "output_type": "stream",
     "text": [
      "ocean_noise_data\\walrus\\7202000A.wav, segment:0\n",
      "ocean_noise_data\\walrus\\7202000A.wav, segment:1\n"
     ]
    },
    {
     "name": "stderr",
     "output_type": "stream",
     "text": [
      "C:\\Users\\TUKUNA\\AppData\\Local\\Temp/ipykernel_14232/2309356834.py:31: FutureWarning: Pass y=[ 0.00164052  0.00208751  0.00190101 ... -0.00228267 -0.00160957\n",
      "  0.        ] as keyword args. From version 0.10 passing these as positional arguments will result in an error\n",
      "  if librosa.get_duration(signal)>10:\n",
      "C:\\Users\\TUKUNA\\AppData\\Local\\Temp/ipykernel_14232/2309356834.py:40: FutureWarning: Pass y=[1.6405185e-03 2.0875093e-03 1.9010080e-03 ... 4.3930089e-05 2.0897236e-04\n",
      " 1.1271470e-03] as keyword args. From version 0.10 passing these as positional arguments will result in an error\n",
      "  mfcc= librosa.feature.mfcc(signal[start_sample:finish_sample],\n",
      "C:\\Users\\TUKUNA\\AppData\\Local\\Temp/ipykernel_14232/2309356834.py:40: FutureWarning: Pass y=[ 6.85136241e-04 -3.73380899e-04 -3.33909731e-04 ... -3.23330751e-04\n",
      "  1.01828475e-04  5.16446744e-05] as keyword args. From version 0.10 passing these as positional arguments will result in an error\n",
      "  mfcc= librosa.feature.mfcc(signal[start_sample:finish_sample],\n"
     ]
    },
    {
     "name": "stdout",
     "output_type": "stream",
     "text": [
      "ocean_noise_data\\walrus\\7202000B.wav, segment:0\n",
      "ocean_noise_data\\walrus\\7202000B.wav, segment:1\n"
     ]
    }
   ],
   "source": [
    "DATASET_PATH='ocean_noise_data'\n",
    "JSON_PATH='data.json'\n",
    "SAMPLE_RATE=22050\n",
    "SAMPLES_PER_TRACK=SAMPLE_RATE*4\n",
    "def save_mfcc(dataset_path, json_path, n_mfcc=13, n_fft=2048, hop_length=512, num_segments=4):\n",
    "    #dict to save data\n",
    "    data={\n",
    "        'mapping':[],\n",
    "        'mfcc':[],\n",
    "        'labels':[]\n",
    "    }\n",
    "    \n",
    "    num_samples_per_segment=int(SAMPLES_PER_TRACK/num_segments)\n",
    "    expected_num_mfcc_vectors_per_segment =math.ceil(num_samples_per_segment/hop_length)\n",
    "    \n",
    "    #loop thru all noises\n",
    "    for i, (dirpath, dirnames, filenames) in enumerate(os.walk(dataset_path)):\n",
    "        #ensure that we r not at root level\n",
    "        if dirpath is not dataset_path:\n",
    "            dirpath_components=dirpath.split('/')\n",
    "            semantic_label=dirpath_components[-1]\n",
    "            data['mapping'].append(semantic_label)\n",
    "            print('\\n processing{}'.format(semantic_label))\n",
    "            \n",
    "            #process files for specific class\n",
    "            for f in filenames:\n",
    "                file_path=os.path.join(dirpath, f)\n",
    "                signal, sr=librosa.load(file_path, sr=SAMPLE_RATE)\n",
    "                \n",
    "                \n",
    "                if librosa.get_duration(signal)>10:\n",
    "                    num_segments=int(librosa.get_duration(signal)/10)\n",
    "                #Process segments extracting mfcc and storing data\n",
    "                for s in range(num_segments):\n",
    "                    \n",
    "                    start_sample = num_samples_per_segment * s\n",
    "                    finish_sample= start_sample + num_samples_per_segment\n",
    "                    \n",
    "                    \n",
    "                    mfcc= librosa.feature.mfcc(signal[start_sample:finish_sample],\n",
    "                                              sr=sr,\n",
    "                                               n_fft=n_fft,\n",
    "                                               n_mfcc=n_mfcc,\n",
    "                                               hop_length=hop_length\n",
    "                                              )\n",
    "                    mfcc=mfcc.T\n",
    "                    #store mfcc for segment if it has expected length\n",
    "                    if len(mfcc) == expected_num_mfcc_vectors_per_segment:\n",
    "                        data['mfcc'].append(mfcc.tolist())\n",
    "                        data['labels'].append(i-1)\n",
    "                        print('{}, segment:{}'.format(file_path, s))\n",
    "    with open(json_path, 'w') as fp:\n",
    "        json.dump(data, fp, indent=4)\n",
    "\n",
    "if __name__=='__main__':\n",
    "    save_mfcc(DATASET_PATH, JSON_PATH, num_segments=4)"
   ]
  }
 ],
 "metadata": {
  "kernelspec": {
   "display_name": "Python 3 (ipykernel)",
   "language": "python",
   "name": "python3"
  },
  "language_info": {
   "codemirror_mode": {
    "name": "ipython",
    "version": 3
   },
   "file_extension": ".py",
   "mimetype": "text/x-python",
   "name": "python",
   "nbconvert_exporter": "python",
   "pygments_lexer": "ipython3",
   "version": "3.8.11"
  }
 },
 "nbformat": 4,
 "nbformat_minor": 5
}
